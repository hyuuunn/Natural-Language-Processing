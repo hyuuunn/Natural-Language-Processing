{
 "cells": [
  {
   "cell_type": "code",
   "execution_count": null,
   "metadata": {
    "colab": {
     "base_uri": "https://localhost:8080/"
    },
    "id": "vihmV4FNjj_s",
    "outputId": "68adea07-741b-4b86-f063-05a8436ebde7"
   },
   "outputs": [
    {
     "name": "stdout",
     "output_type": "stream",
     "text": [
      "Collecting transformers\n",
      "  Downloading transformers-4.13.0-py3-none-any.whl (3.3 MB)\n",
      "\u001b[K     |████████████████████████████████| 3.3 MB 5.3 MB/s \n",
      "\u001b[?25hRequirement already satisfied: tqdm>=4.27 in /usr/local/lib/python3.7/dist-packages (from transformers) (4.62.3)\n",
      "Requirement already satisfied: requests in /usr/local/lib/python3.7/dist-packages (from transformers) (2.23.0)\n",
      "Collecting sacremoses\n",
      "  Downloading sacremoses-0.0.46-py3-none-any.whl (895 kB)\n",
      "\u001b[K     |████████████████████████████████| 895 kB 65.6 MB/s \n",
      "\u001b[?25hCollecting tokenizers<0.11,>=0.10.1\n",
      "  Downloading tokenizers-0.10.3-cp37-cp37m-manylinux_2_5_x86_64.manylinux1_x86_64.manylinux_2_12_x86_64.manylinux2010_x86_64.whl (3.3 MB)\n",
      "\u001b[K     |████████████████████████████████| 3.3 MB 63.6 MB/s \n",
      "\u001b[?25hRequirement already satisfied: importlib-metadata in /usr/local/lib/python3.7/dist-packages (from transformers) (4.8.2)\n",
      "Requirement already satisfied: packaging>=20.0 in /usr/local/lib/python3.7/dist-packages (from transformers) (21.3)\n",
      "Collecting pyyaml>=5.1\n",
      "  Downloading PyYAML-6.0-cp37-cp37m-manylinux_2_5_x86_64.manylinux1_x86_64.manylinux_2_12_x86_64.manylinux2010_x86_64.whl (596 kB)\n",
      "\u001b[K     |████████████████████████████████| 596 kB 74.9 MB/s \n",
      "\u001b[?25hRequirement already satisfied: regex!=2019.12.17 in /usr/local/lib/python3.7/dist-packages (from transformers) (2019.12.20)\n",
      "Requirement already satisfied: filelock in /usr/local/lib/python3.7/dist-packages (from transformers) (3.4.0)\n",
      "Requirement already satisfied: numpy>=1.17 in /usr/local/lib/python3.7/dist-packages (from transformers) (1.19.5)\n",
      "Collecting huggingface-hub<1.0,>=0.1.0\n",
      "  Downloading huggingface_hub-0.2.1-py3-none-any.whl (61 kB)\n",
      "\u001b[K     |████████████████████████████████| 61 kB 527 kB/s \n",
      "\u001b[?25hRequirement already satisfied: typing-extensions>=3.7.4.3 in /usr/local/lib/python3.7/dist-packages (from huggingface-hub<1.0,>=0.1.0->transformers) (3.10.0.2)\n",
      "Requirement already satisfied: pyparsing!=3.0.5,>=2.0.2 in /usr/local/lib/python3.7/dist-packages (from packaging>=20.0->transformers) (3.0.6)\n",
      "Requirement already satisfied: zipp>=0.5 in /usr/local/lib/python3.7/dist-packages (from importlib-metadata->transformers) (3.6.0)\n",
      "Requirement already satisfied: certifi>=2017.4.17 in /usr/local/lib/python3.7/dist-packages (from requests->transformers) (2021.10.8)\n",
      "Requirement already satisfied: idna<3,>=2.5 in /usr/local/lib/python3.7/dist-packages (from requests->transformers) (2.10)\n",
      "Requirement already satisfied: urllib3!=1.25.0,!=1.25.1,<1.26,>=1.21.1 in /usr/local/lib/python3.7/dist-packages (from requests->transformers) (1.24.3)\n",
      "Requirement already satisfied: chardet<4,>=3.0.2 in /usr/local/lib/python3.7/dist-packages (from requests->transformers) (3.0.4)\n",
      "Requirement already satisfied: joblib in /usr/local/lib/python3.7/dist-packages (from sacremoses->transformers) (1.1.0)\n",
      "Requirement already satisfied: six in /usr/local/lib/python3.7/dist-packages (from sacremoses->transformers) (1.15.0)\n",
      "Requirement already satisfied: click in /usr/local/lib/python3.7/dist-packages (from sacremoses->transformers) (7.1.2)\n",
      "Installing collected packages: pyyaml, tokenizers, sacremoses, huggingface-hub, transformers\n",
      "  Attempting uninstall: pyyaml\n",
      "    Found existing installation: PyYAML 3.13\n",
      "    Uninstalling PyYAML-3.13:\n",
      "      Successfully uninstalled PyYAML-3.13\n",
      "Successfully installed huggingface-hub-0.2.1 pyyaml-6.0 sacremoses-0.0.46 tokenizers-0.10.3 transformers-4.13.0\n"
     ]
    }
   ],
   "source": [
    "pip install transformers"
   ]
  },
  {
   "cell_type": "code",
   "execution_count": null,
   "metadata": {
    "colab": {
     "base_uri": "https://localhost:8080/"
    },
    "id": "E825y86bjrhk",
    "outputId": "cfbd3151-24be-4d08-b280-c8428e3befe1"
   },
   "outputs": [
    {
     "name": "stdout",
     "output_type": "stream",
     "text": [
      "--2021-12-10 05:50:32--  https://korquad.github.io/dataset/KorQuAD_v1.0_train.json\n",
      "Resolving korquad.github.io (korquad.github.io)... 185.199.108.153, 185.199.109.153, 185.199.110.153, ...\n",
      "Connecting to korquad.github.io (korquad.github.io)|185.199.108.153|:443... connected.\n",
      "HTTP request sent, awaiting response... 200 OK\n",
      "Length: 38527475 (37M) [application/json]\n",
      "Saving to: ‘KorQuAD_v1.0_train.json’\n",
      "\n",
      "KorQuAD_v1.0_train. 100%[===================>]  36.74M   197MB/s    in 0.2s    \n",
      "\n",
      "2021-12-10 05:50:32 (197 MB/s) - ‘KorQuAD_v1.0_train.json’ saved [38527475/38527475]\n",
      "\n",
      "--2021-12-10 05:50:32--  https://korquad.github.io/dataset/KorQuAD_v1.0_dev.json\n",
      "Resolving korquad.github.io (korquad.github.io)... 185.199.108.153, 185.199.109.153, 185.199.110.153, ...\n",
      "Connecting to korquad.github.io (korquad.github.io)|185.199.108.153|:443... connected.\n",
      "HTTP request sent, awaiting response... 200 OK\n",
      "Length: 3881058 (3.7M) [application/json]\n",
      "Saving to: ‘KorQuAD_v1.0_dev.json’\n",
      "\n",
      "KorQuAD_v1.0_dev.js 100%[===================>]   3.70M  --.-KB/s    in 0.07s   \n",
      "\n",
      "2021-12-10 05:50:33 (55.8 MB/s) - ‘KorQuAD_v1.0_dev.json’ saved [3881058/3881058]\n",
      "\n"
     ]
    }
   ],
   "source": [
    "!wget https://korquad.github.io/dataset/KorQuAD_v1.0_train.json -O KorQuAD_v1.0_train.json\n",
    "!wget https://korquad.github.io/dataset/KorQuAD_v1.0_dev.json -O KorQuAD_v1.0_dev.json"
   ]
  },
  {
   "cell_type": "code",
   "execution_count": null,
   "metadata": {
    "id": "sUbbJaGVjyYz"
   },
   "outputs": [],
   "source": [
    "import os\n",
    "import json\n",
    "import numpy as np\n",
    "from tqdm import tqdm\n",
    "from pathlib import Path\n",
    "from transformers import BertTokenizerFast\n",
    "import tensorflow as tf"
   ]
  },
  {
   "cell_type": "code",
   "execution_count": null,
   "metadata": {
    "id": "4jr575y8j7vb"
   },
   "outputs": [],
   "source": [
    "def read_squad(path):\n",
    "    path = Path(path)\n",
    "    with open(path, 'rb') as f:\n",
    "        squad_dict = json.load(f)\n",
    "\n",
    "    contexts = []\n",
    "    questions = []\n",
    "    answers = []\n",
    "    for group in squad_dict['data']:\n",
    "        for passage in group['paragraphs']:\n",
    "            context = passage['context']\n",
    "            for qa in passage['qas']:\n",
    "                question = qa['question']\n",
    "                for answer in qa['answers']:\n",
    "                    contexts.append(context)\n",
    "                    questions.append(question)\n",
    "                    answers.append(answer)\n",
    "\n",
    "    return contexts, questions, answers\n",
    "\n",
    "train_contexts, train_questions, train_answers = read_squad('KorQuAD_v1.0_train.json')\n",
    "val_contexts, val_questions, val_answers = read_squad('KorQuAD_v1.0_dev.json')"
   ]
  },
  {
   "cell_type": "code",
   "execution_count": null,
   "metadata": {
    "colab": {
     "base_uri": "https://localhost:8080/"
    },
    "id": "maMFzg6ukBtH",
    "outputId": "d1e8bc64-5398-42ea-8cd8-85e09270989c"
   },
   "outputs": [
    {
     "name": "stdout",
     "output_type": "stream",
     "text": [
      "훈련 데이터의 본문 개수 : 60407\n",
      "훈련 데이터의 질문 개수 : 60407\n",
      "훈련 데이터의 답변 개수 : 60407\n",
      "테스트 데이터의 본문 개수 : 5774\n",
      "테스트 데이터의 질문 개수 : 5774\n",
      "테스트 데이터의 답변 개수 : 5774\n"
     ]
    }
   ],
   "source": [
    "print('훈련 데이터의 본문 개수 :', len(train_contexts))\n",
    "print('훈련 데이터의 질문 개수 :', len(train_questions))\n",
    "print('훈련 데이터의 답변 개수 :', len(train_answers))\n",
    "print('테스트 데이터의 본문 개수 :', len(val_contexts))\n",
    "print('테스트 데이터의 질문 개수 :', len(val_questions))\n",
    "print('테스트 데이터의 답변 개수 :', len(val_answers))"
   ]
  },
  {
   "cell_type": "code",
   "execution_count": null,
   "metadata": {
    "colab": {
     "base_uri": "https://localhost:8080/"
    },
    "id": "ALWaWmqDkLuz",
    "outputId": "f436c612-e424-4ade-9210-ece2af065ddf"
   },
   "outputs": [
    {
     "name": "stdout",
     "output_type": "stream",
     "text": [
      "첫번째 샘플의 본문\n",
      "-----------------\n",
      "1839년 바그너는 괴테의 파우스트을 처음 읽고 그 내용에 마음이 끌려 이를 소재로 해서 하나의 교향곡을 쓰려는 뜻을 갖는다. 이 시기 바그너는 1838년에 빛 독촉으로 산전수전을 다 걲은 상황이라 좌절과 실망에 가득했으며 메피스토펠레스를 만나는 파우스트의 심경에 공감했다고 한다. 또한 파리에서 아브네크의 지휘로 파리 음악원 관현악단이 연주하는 베토벤의 교향곡 9번을 듣고 깊은 감명을 받았는데, 이것이 이듬해 1월에 파우스트의 서곡으로 쓰여진 이 작품에 조금이라도 영향을 끼쳤으리라는 것은 의심할 여지가 없다. 여기의 라단조 조성의 경우에도 그의 전기에 적혀 있는 것처럼 단순한 정신적 피로나 실의가 반영된 것이 아니라 베토벤의 합창교향곡 조성의 영향을 받은 것을 볼 수 있다. 그렇게 교향곡 작곡을 1839년부터 40년에 걸쳐 파리에서 착수했으나 1악장을 쓴 뒤에 중단했다. 또한 작품의 완성과 동시에 그는 이 서곡(1악장)을 파리 음악원의 연주회에서 연주할 파트보까지 준비하였으나, 실제로는 이루어지지는 않았다. 결국 초연은 4년 반이 지난 후에 드레스덴에서 연주되었고 재연도 이루어졌지만, 이후에 그대로 방치되고 말았다. 그 사이에 그는 리엔치와 방황하는 네덜란드인을 완성하고 탄호이저에도 착수하는 등 분주한 시간을 보냈는데, 그런 바쁜 생활이 이 곡을 잊게 한 것이 아닌가 하는 의견도 있다.\n"
     ]
    }
   ],
   "source": [
    "print('첫번째 샘플의 본문')\n",
    "print('-----------------')\n",
    "print(train_contexts[0])"
   ]
  },
  {
   "cell_type": "code",
   "execution_count": null,
   "metadata": {
    "colab": {
     "base_uri": "https://localhost:8080/"
    },
    "id": "bNAR6TkbkV4D",
    "outputId": "63433eb6-a883-4522-99d0-99e01f2a1b8c"
   },
   "outputs": [
    {
     "name": "stdout",
     "output_type": "stream",
     "text": [
      "첫번째 샘플의 질문\n",
      "-----------------\n",
      "바그너는 괴테의 파우스트를 읽고 무엇을 쓰고자 했는가?\n"
     ]
    }
   ],
   "source": [
    "print('첫번째 샘플의 질문')\n",
    "print('-----------------')\n",
    "print(train_questions[0])"
   ]
  },
  {
   "cell_type": "code",
   "execution_count": null,
   "metadata": {
    "colab": {
     "base_uri": "https://localhost:8080/"
    },
    "id": "d3Lab_wnkcEk",
    "outputId": "27afdaa5-b6f4-4cd5-a08f-23c2afe807c6"
   },
   "outputs": [
    {
     "name": "stdout",
     "output_type": "stream",
     "text": [
      "첫번째 샘플의 답변\n",
      "-----------------\n",
      "{'text': '교향곡', 'answer_start': 54}\n"
     ]
    }
   ],
   "source": [
    "print('첫번째 샘플의 답변')\n",
    "print('-----------------')\n",
    "print(train_answers[0])"
   ]
  },
  {
   "cell_type": "markdown",
   "metadata": {
    "id": "TcuMAJhlkpnl"
   },
   "source": [
    "현재 train_answers에는 정답이 본문 어디에 위치해 있는지 시작 인덱스는 있는데, 종료 인덱스는 없음. 종료 인덱스를 train_answers에 추가해줌"
   ]
  },
  {
   "cell_type": "code",
   "execution_count": null,
   "metadata": {
    "id": "iFOAz29Ckgpj"
   },
   "outputs": [],
   "source": [
    "def add_end_idx(answers, contexts):\n",
    "    for answer, context in zip(answers, contexts):\n",
    "        answer['text'] = answer['text'].rstrip() # 뒤에 공백이 있다면 제거. ex)'1990년대 ' -> '1990년대'\n",
    "        gold_text = answer['text'] # 정답.\n",
    "        start_idx = answer['answer_start'] # 정답의 시작 인덱스\n",
    "        end_idx = start_idx + len(gold_text) # 정답의 종료 인덱스를 계산\n",
    "\n",
    "        assert context[start_idx:end_idx] == gold_text, \"end_index 계산에 에러가 있습니다.\"\n",
    "        answer['answer_end'] = end_idx\n",
    "\n",
    "add_end_idx(train_answers, train_contexts)\n",
    "add_end_idx(val_answers, val_contexts)"
   ]
  },
  {
   "cell_type": "code",
   "execution_count": null,
   "metadata": {
    "colab": {
     "base_uri": "https://localhost:8080/"
    },
    "id": "Vzd3efaDll2Y",
    "outputId": "e9ec1a3a-087c-4eaa-db17-13ca20704939"
   },
   "outputs": [
    {
     "name": "stdout",
     "output_type": "stream",
     "text": [
      "첫번째 샘플의 답변\n",
      "-----------------\n",
      "{'text': '교향곡', 'answer_start': 54, 'answer_end': 57}\n"
     ]
    }
   ],
   "source": [
    "print('첫번째 샘플의 답변')\n",
    "print('-----------------')\n",
    "print(train_answers[0])"
   ]
  },
  {
   "cell_type": "markdown",
   "metadata": {
    "id": "PxUMyBEelo4p"
   },
   "source": [
    "실제로 end_index가 맞는지 확인해봅시다."
   ]
  },
  {
   "cell_type": "code",
   "execution_count": null,
   "metadata": {
    "colab": {
     "base_uri": "https://localhost:8080/",
     "height": 35
    },
    "id": "YpUdq0ZJlmzy",
    "outputId": "f59437ec-37f0-4b73-f141-065c480c9da8"
   },
   "outputs": [
    {
     "data": {
      "application/vnd.google.colaboratory.intrinsic+json": {
       "type": "string"
      },
      "text/plain": [
       "'교향곡'"
      ]
     },
     "execution_count": 13,
     "metadata": {},
     "output_type": "execute_result"
    }
   ],
   "source": [
    "train_contexts[0][54:57]"
   ]
  },
  {
   "cell_type": "markdown",
   "metadata": {
    "id": "nQ3p7y9wm5hM"
   },
   "source": [
    "본문과 질문 두 가지를 함께 토크나이저의 입력으로 사용."
   ]
  },
  {
   "cell_type": "code",
   "execution_count": null,
   "metadata": {
    "colab": {
     "base_uri": "https://localhost:8080/",
     "height": 145,
     "referenced_widgets": [
      "1d43914e9c2a4fa9ba97ee605d7d78a1",
      "02beb6b27f444fa4952e41ac744b4b89",
      "9e01a2d1fb5c4648b28d5b6a060fa86a",
      "259f617f78a64d34a6b809df53a5e00d",
      "573bcd8b83ad4a60870f164f9b472c6c",
      "d237a60760b64101bb92104e16e34b48",
      "d976b8c192e544eea6232eb747ad0252",
      "3d061beb1efc4bab86d9e91baaabd27f",
      "fa0fc95a58604ec386f4e1ed98a968d6",
      "67977fa213864579acc81c990c58a72f",
      "f70a75ec530641ab8a9ef97e845b35a7",
      "cc9c2797270d40f087c54309e4516db2",
      "661cf8118a6746eebbcf35fc33fcf2e1",
      "f197cdb00af44d2b981a0d6a69869a83",
      "69b54169aa6e426abe16b70b18be157a",
      "a474e597be6d498d881df794d3b9a053",
      "79478555a806415aa66fa5eb1de2b2b1",
      "dc5da806f869407faf47421c36f668ce",
      "8828da8314db448c91d13a2a4ddc18e8",
      "861dc0ee3a354a16bfbc3daaa51bdcea",
      "fd0d9f5c20e449548f75d022628d5c71",
      "e652906e4c7045c0a4a4defc30058540",
      "602f58fa63e2468fbe1242c3e222231a",
      "974dda04d0bc4846bcd0d6b0c7e72b93",
      "b229591e07a44e2086dc87b418782c74",
      "e966e2807dfa4b59ab471949a0ad8e40",
      "05d1a1c40ae44ec0be320a2d7552180d",
      "36d4b2012b47488398e521fc571b49c2",
      "b8eddc8e7c40400c90b67b06f3aca8a1",
      "45f716eab34b474ca5306c7ce2b6a98f",
      "7995423456ad48a2a8d098d270875bff",
      "888cdc234d2b4f1db376a9b3167e1ff0",
      "ba089da52ff14ac58810a4f31f761145",
      "df38a12805f44f09ba952c26a2c609f5",
      "2820009e8a8445549657fda5f1dbcbde",
      "e9ed66efdfca45f7bd28c9be21f3a7f5",
      "139d4e6eb11745db8feb2bea11360e6a",
      "5a1effaa9ce649e1a928fa39f543b708",
      "7122e4afe60b437385524361a7032117",
      "e22183912b884784aa81b95e68db42ea",
      "cf44ef62b1bf4cc0b7b0f5578e9b81d5",
      "b22722a81c2d46459ef010c0093f9f00",
      "3a390677f6d948859aeb7782b88891c3",
      "5ac305699d6b47fa8ea7d04df5b66962"
     ]
    },
    "id": "t8r9Dg5wlwRY",
    "outputId": "cc6214fc-1d12-430b-c379-42818480d8ec"
   },
   "outputs": [
    {
     "data": {
      "application/vnd.jupyter.widget-view+json": {
       "model_id": "1d43914e9c2a4fa9ba97ee605d7d78a1",
       "version_major": 2,
       "version_minor": 0
      },
      "text/plain": [
       "Downloading:   0%|          | 0.00/236k [00:00<?, ?B/s]"
      ]
     },
     "metadata": {},
     "output_type": "display_data"
    },
    {
     "data": {
      "application/vnd.jupyter.widget-view+json": {
       "model_id": "cc9c2797270d40f087c54309e4516db2",
       "version_major": 2,
       "version_minor": 0
      },
      "text/plain": [
       "Downloading:   0%|          | 0.00/480k [00:00<?, ?B/s]"
      ]
     },
     "metadata": {},
     "output_type": "display_data"
    },
    {
     "data": {
      "application/vnd.jupyter.widget-view+json": {
       "model_id": "602f58fa63e2468fbe1242c3e222231a",
       "version_major": 2,
       "version_minor": 0
      },
      "text/plain": [
       "Downloading:   0%|          | 0.00/169 [00:00<?, ?B/s]"
      ]
     },
     "metadata": {},
     "output_type": "display_data"
    },
    {
     "data": {
      "application/vnd.jupyter.widget-view+json": {
       "model_id": "df38a12805f44f09ba952c26a2c609f5",
       "version_major": 2,
       "version_minor": 0
      },
      "text/plain": [
       "Downloading:   0%|          | 0.00/373 [00:00<?, ?B/s]"
      ]
     },
     "metadata": {},
     "output_type": "display_data"
    }
   ],
   "source": [
    "tokenizer = BertTokenizerFast.from_pretrained('monologg/kobigbird-bert-base')\n",
    "\n",
    "train_encodings = tokenizer(train_contexts, train_questions, truncation=True, padding=True)\n",
    "val_encodings = tokenizer(val_contexts, val_questions, truncation=True, padding=True)"
   ]
  },
  {
   "cell_type": "markdown",
   "metadata": {
    "id": "Cf1cPRDgpbQw"
   },
   "source": [
    "[cls] 본문 토큰화 결과 [sep] 질문 토큰화 결과 [sep] pad"
   ]
  },
  {
   "cell_type": "code",
   "execution_count": null,
   "metadata": {
    "colab": {
     "base_uri": "https://localhost:8080/"
    },
    "id": "gMAjI2ZVmiUi",
    "outputId": "3fc25861-5e5e-4b46-b3c9-cf278c06fdbd"
   },
   "outputs": [
    {
     "name": "stdout",
     "output_type": "stream",
     "text": [
      "첫번째 샘플의 토큰화 결과 : ['[CLS]', '183', '##9', '##년', '바그너', '##는', '괴테', '##의', '파우', '##스트', '##을', '처음', '읽', '##고', '그', '내용', '##에', '마음', '##이', '끌려', '이를', '소재', '##로', '해서', '하나', '##의', '교향곡', '##을', '쓰', '##려', '##는', '뜻', '##을', '갖', '##는', '##다', '.', '이', '시기', '바그너', '##는', '183', '##8', '##년', '##에', '빛', '독촉', '##으로', '산전', '##수', '##전', '##을', '다', '[UNK]', '상황', '##이', '##라', '좌절', '##과', '실망', '##에', '가득', '##했', '##으며', '메', '##피스', '##토', '##펠', '##레스', '##를', '만나', '##는', '파우', '##스트', '##의', '심경', '##에', '공감', '##했', '##다고', '한다', '.', '또한', '파리', '##에서', '아브', '##네', '##크', '##의', '지휘', '##로', '파리', '음악', '##원', '관현악단', '##이', '연주', '##하', '##는', '베토벤', '##의', '교향곡', '9', '##번', '##을', '듣', '##고', '깊', '##은', '감명', '##을', '받', '##았', '##는데', ',', '이것', '##이', '이듬해', '1', '##월', '##에', '파우', '##스트', '##의', '서', '##곡', '##으로', '쓰여진', '이', '작품', '##에', '조금', '##이', '##라도', '영향', '##을', '끼쳤', '##으리', '##라는', '것', '##은', '의심', '##할', '여지', '##가', '없', '##다', '.', '여기', '##의', '라', '##단', '##조', '조성', '##의', '경우', '##에도', '그', '##의', '전기', '##에', '적혀', '있', '##는', '것', '##처럼', '단순', '##한', '정신', '##적', '피로', '##나', '실', '##의', '##가', '반영', '##된', '것', '##이', '아니', '##라', '베토벤', '##의', '합창', '##교', '##향', '##곡', '조성', '##의', '영향', '##을', '받', '##은', '것', '##을', '볼', '수', '있', '##다', '.', '그렇게', '교향곡', '작곡', '##을', '183', '##9', '##년', '##부터', '40', '##년', '##에', '걸쳐', '파리', '##에서', '착수', '##했', '##으나', '1', '##악', '##장', '##을', '쓴', '뒤', '##에', '중단', '##했', '##다', '.', '또한', '작품', '##의', '완성', '##과', '동시', '##에', '그', '##는', '이', '서', '##곡', '(', '1', '##악', '##장', ')', '을', '파리', '음악', '##원', '##의', '연주회', '##에서', '연주', '##할', '파트', '##보', '##까', '##지', '준비', '##하', '##였', '##으나', ',', '실제로', '##는', '이루어지', '##지', '##는', '않', '##았', '##다', '.', '결국', '초연', '##은', '4', '##년', '반', '##이', '지난', '후', '##에', '드레스', '##덴', '##에서', '연주', '##되', '##었', '##고', '재연', '##도', '이루', '##어졌', '##지만', ',', '이후', '##에', '그대로', '방치', '##되', '##고', '말', '##았', '##다', '.', '그', '사이', '##에', '그', '##는', '리', '##엔', '##치', '##와', '방황', '##하', '##는', '네덜란드', '##인', '##을', '완성', '##하고', '탄', '##호', '##이', '##저', '##에도', '착수', '##하', '##는', '등', '분주', '##한', '시간', '##을', '보냈', '##는데', ',', '그런', '바쁜', '생활', '##이', '이', '곡', '##을', '잊', '##게', '한', '것', '##이', '아닌가', '하', '##는', '의견', '##도', '있', '##다', '.', '[SEP]', '바그너', '##는', '괴테', '##의', '파우', '##스트', '##를', '읽', '##고', '무엇', '##을', '쓰', '##고', '##자', '했', '##는', '##가', '?', '[SEP]', '[PAD]', '[PAD]', '[PAD]', '[PAD]', '[PAD]', '[PAD]', '[PAD]', '[PAD]', '[PAD]', '[PAD]', '[PAD]', '[PAD]', '[PAD]', '[PAD]', '[PAD]', '[PAD]', '[PAD]', '[PAD]', '[PAD]', '[PAD]', '[PAD]', '[PAD]', '[PAD]', '[PAD]', '[PAD]', '[PAD]', '[PAD]', '[PAD]', '[PAD]', '[PAD]', '[PAD]', '[PAD]', '[PAD]', '[PAD]', '[PAD]', '[PAD]', '[PAD]', '[PAD]', '[PAD]', '[PAD]', '[PAD]', '[PAD]', '[PAD]', '[PAD]', '[PAD]', '[PAD]', '[PAD]', '[PAD]', '[PAD]', '[PAD]', '[PAD]', '[PAD]', '[PAD]', '[PAD]', '[PAD]', '[PAD]', '[PAD]', '[PAD]', '[PAD]', '[PAD]', '[PAD]', '[PAD]', '[PAD]', '[PAD]', '[PAD]', '[PAD]', '[PAD]', '[PAD]', '[PAD]', '[PAD]', '[PAD]', '[PAD]', '[PAD]', '[PAD]', '[PAD]', '[PAD]', '[PAD]', '[PAD]', '[PAD]', '[PAD]', '[PAD]', '[PAD]', '[PAD]', '[PAD]', '[PAD]', '[PAD]', '[PAD]', '[PAD]', '[PAD]', '[PAD]', '[PAD]', '[PAD]', '[PAD]', '[PAD]', '[PAD]', '[PAD]', '[PAD]', '[PAD]', '[PAD]', '[PAD]', '[PAD]', '[PAD]', '[PAD]', '[PAD]', '[PAD]', '[PAD]', '[PAD]', '[PAD]', '[PAD]', '[PAD]', '[PAD]', '[PAD]', '[PAD]', '[PAD]', '[PAD]', '[PAD]', '[PAD]', '[PAD]', '[PAD]', '[PAD]', '[PAD]', '[PAD]', '[PAD]', '[PAD]', '[PAD]', '[PAD]', '[PAD]', '[PAD]', '[PAD]', '[PAD]', '[PAD]', '[PAD]', '[PAD]', '[PAD]', '[PAD]', '[PAD]', '[PAD]', '[PAD]', '[PAD]', '[PAD]', '[PAD]', '[PAD]', '[PAD]', '[PAD]', '[PAD]', '[PAD]', '[PAD]', '[PAD]', '[PAD]', '[PAD]', '[PAD]', '[PAD]', '[PAD]', '[PAD]', '[PAD]', '[PAD]', '[PAD]', '[PAD]', '[PAD]', '[PAD]', '[PAD]', '[PAD]', '[PAD]', '[PAD]', '[PAD]', '[PAD]', '[PAD]', '[PAD]', '[PAD]', '[PAD]', '[PAD]', '[PAD]', '[PAD]', '[PAD]', '[PAD]', '[PAD]', '[PAD]', '[PAD]', '[PAD]', '[PAD]', '[PAD]', '[PAD]', '[PAD]', '[PAD]', '[PAD]', '[PAD]', '[PAD]', '[PAD]', '[PAD]', '[PAD]', '[PAD]', '[PAD]', '[PAD]', '[PAD]', '[PAD]', '[PAD]', '[PAD]', '[PAD]', '[PAD]', '[PAD]', '[PAD]', '[PAD]', '[PAD]', '[PAD]', '[PAD]', '[PAD]', '[PAD]', '[PAD]', '[PAD]', '[PAD]', '[PAD]', '[PAD]', '[PAD]', '[PAD]', '[PAD]', '[PAD]', '[PAD]', '[PAD]', '[PAD]', '[PAD]', '[PAD]', '[PAD]', '[PAD]', '[PAD]', '[PAD]', '[PAD]', '[PAD]', '[PAD]', '[PAD]', '[PAD]', '[PAD]', '[PAD]', '[PAD]', '[PAD]', '[PAD]', '[PAD]', '[PAD]', '[PAD]', '[PAD]', '[PAD]', '[PAD]', '[PAD]', '[PAD]', '[PAD]', '[PAD]', '[PAD]', '[PAD]', '[PAD]', '[PAD]', '[PAD]', '[PAD]', '[PAD]', '[PAD]', '[PAD]', '[PAD]', '[PAD]', '[PAD]', '[PAD]', '[PAD]', '[PAD]', '[PAD]', '[PAD]', '[PAD]', '[PAD]', '[PAD]', '[PAD]', '[PAD]', '[PAD]', '[PAD]', '[PAD]', '[PAD]', '[PAD]', '[PAD]', '[PAD]', '[PAD]', '[PAD]', '[PAD]', '[PAD]', '[PAD]', '[PAD]', '[PAD]', '[PAD]', '[PAD]', '[PAD]', '[PAD]', '[PAD]', '[PAD]', '[PAD]', '[PAD]', '[PAD]', '[PAD]', '[PAD]', '[PAD]', '[PAD]', '[PAD]', '[PAD]', '[PAD]', '[PAD]', '[PAD]', '[PAD]', '[PAD]', '[PAD]', '[PAD]', '[PAD]', '[PAD]', '[PAD]', '[PAD]', '[PAD]', '[PAD]', '[PAD]', '[PAD]', '[PAD]', '[PAD]', '[PAD]', '[PAD]', '[PAD]', '[PAD]', '[PAD]', '[PAD]', '[PAD]', '[PAD]', '[PAD]', '[PAD]', '[PAD]', '[PAD]', '[PAD]', '[PAD]', '[PAD]', '[PAD]', '[PAD]', '[PAD]', '[PAD]', '[PAD]', '[PAD]', '[PAD]', '[PAD]', '[PAD]', '[PAD]', '[PAD]', '[PAD]', '[PAD]', '[PAD]', '[PAD]', '[PAD]', '[PAD]', '[PAD]', '[PAD]', '[PAD]', '[PAD]', '[PAD]', '[PAD]', '[PAD]', '[PAD]', '[PAD]', '[PAD]', '[PAD]', '[PAD]', '[PAD]', '[PAD]', '[PAD]', '[PAD]', '[PAD]', '[PAD]', '[PAD]', '[PAD]', '[PAD]', '[PAD]', '[PAD]', '[PAD]', '[PAD]', '[PAD]', '[PAD]', '[PAD]', '[PAD]', '[PAD]', '[PAD]', '[PAD]', '[PAD]', '[PAD]', '[PAD]', '[PAD]', '[PAD]', '[PAD]', '[PAD]', '[PAD]', '[PAD]', '[PAD]', '[PAD]', '[PAD]', '[PAD]', '[PAD]', '[PAD]', '[PAD]', '[PAD]', '[PAD]', '[PAD]', '[PAD]', '[PAD]', '[PAD]', '[PAD]', '[PAD]', '[PAD]', '[PAD]', '[PAD]', '[PAD]', '[PAD]', '[PAD]', '[PAD]', '[PAD]', '[PAD]', '[PAD]', '[PAD]', '[PAD]', '[PAD]', '[PAD]', '[PAD]', '[PAD]', '[PAD]', '[PAD]', '[PAD]', '[PAD]', '[PAD]', '[PAD]', '[PAD]', '[PAD]', '[PAD]', '[PAD]', '[PAD]', '[PAD]', '[PAD]', '[PAD]', '[PAD]', '[PAD]', '[PAD]', '[PAD]', '[PAD]', '[PAD]', '[PAD]', '[PAD]', '[PAD]', '[PAD]', '[PAD]', '[PAD]', '[PAD]', '[PAD]', '[PAD]', '[PAD]', '[PAD]', '[PAD]', '[PAD]', '[PAD]', '[PAD]', '[PAD]', '[PAD]', '[PAD]', '[PAD]', '[PAD]', '[PAD]', '[PAD]', '[PAD]', '[PAD]', '[PAD]', '[PAD]', '[PAD]', '[PAD]', '[PAD]', '[PAD]', '[PAD]', '[PAD]', '[PAD]', '[PAD]', '[PAD]', '[PAD]', '[PAD]', '[PAD]', '[PAD]', '[PAD]', '[PAD]', '[PAD]', '[PAD]', '[PAD]', '[PAD]', '[PAD]', '[PAD]', '[PAD]', '[PAD]', '[PAD]', '[PAD]', '[PAD]', '[PAD]', '[PAD]', '[PAD]', '[PAD]', '[PAD]', '[PAD]', '[PAD]', '[PAD]', '[PAD]', '[PAD]', '[PAD]', '[PAD]', '[PAD]', '[PAD]', '[PAD]', '[PAD]', '[PAD]', '[PAD]', '[PAD]', '[PAD]', '[PAD]', '[PAD]', '[PAD]', '[PAD]', '[PAD]', '[PAD]', '[PAD]', '[PAD]', '[PAD]', '[PAD]', '[PAD]', '[PAD]', '[PAD]', '[PAD]', '[PAD]', '[PAD]', '[PAD]', '[PAD]', '[PAD]', '[PAD]', '[PAD]', '[PAD]', '[PAD]', '[PAD]', '[PAD]', '[PAD]', '[PAD]', '[PAD]', '[PAD]', '[PAD]', '[PAD]', '[PAD]', '[PAD]', '[PAD]', '[PAD]', '[PAD]', '[PAD]', '[PAD]', '[PAD]', '[PAD]', '[PAD]', '[PAD]', '[PAD]', '[PAD]', '[PAD]', '[PAD]', '[PAD]', '[PAD]', '[PAD]', '[PAD]', '[PAD]', '[PAD]', '[PAD]', '[PAD]', '[PAD]', '[PAD]', '[PAD]', '[PAD]', '[PAD]', '[PAD]', '[PAD]', '[PAD]', '[PAD]', '[PAD]', '[PAD]', '[PAD]', '[PAD]', '[PAD]', '[PAD]', '[PAD]', '[PAD]', '[PAD]', '[PAD]', '[PAD]', '[PAD]', '[PAD]', '[PAD]', '[PAD]', '[PAD]', '[PAD]', '[PAD]', '[PAD]', '[PAD]', '[PAD]', '[PAD]', '[PAD]', '[PAD]', '[PAD]', '[PAD]', '[PAD]', '[PAD]', '[PAD]', '[PAD]', '[PAD]', '[PAD]', '[PAD]', '[PAD]', '[PAD]', '[PAD]', '[PAD]', '[PAD]', '[PAD]', '[PAD]', '[PAD]', '[PAD]', '[PAD]', '[PAD]', '[PAD]', '[PAD]', '[PAD]', '[PAD]', '[PAD]', '[PAD]', '[PAD]', '[PAD]', '[PAD]', '[PAD]', '[PAD]', '[PAD]', '[PAD]', '[PAD]', '[PAD]', '[PAD]', '[PAD]', '[PAD]', '[PAD]', '[PAD]', '[PAD]', '[PAD]', '[PAD]', '[PAD]', '[PAD]', '[PAD]', '[PAD]', '[PAD]', '[PAD]', '[PAD]', '[PAD]', '[PAD]', '[PAD]', '[PAD]', '[PAD]', '[PAD]', '[PAD]', '[PAD]', '[PAD]', '[PAD]', '[PAD]', '[PAD]', '[PAD]', '[PAD]', '[PAD]', '[PAD]', '[PAD]', '[PAD]', '[PAD]', '[PAD]', '[PAD]', '[PAD]', '[PAD]', '[PAD]', '[PAD]', '[PAD]', '[PAD]', '[PAD]', '[PAD]', '[PAD]', '[PAD]', '[PAD]', '[PAD]', '[PAD]', '[PAD]', '[PAD]', '[PAD]', '[PAD]', '[PAD]', '[PAD]', '[PAD]', '[PAD]', '[PAD]', '[PAD]', '[PAD]', '[PAD]', '[PAD]', '[PAD]', '[PAD]', '[PAD]', '[PAD]', '[PAD]', '[PAD]', '[PAD]', '[PAD]', '[PAD]', '[PAD]', '[PAD]', '[PAD]', '[PAD]', '[PAD]', '[PAD]', '[PAD]', '[PAD]', '[PAD]', '[PAD]', '[PAD]', '[PAD]', '[PAD]', '[PAD]', '[PAD]', '[PAD]', '[PAD]', '[PAD]', '[PAD]', '[PAD]', '[PAD]', '[PAD]', '[PAD]', '[PAD]', '[PAD]', '[PAD]', '[PAD]', '[PAD]', '[PAD]', '[PAD]', '[PAD]', '[PAD]', '[PAD]', '[PAD]', '[PAD]', '[PAD]', '[PAD]', '[PAD]', '[PAD]', '[PAD]', '[PAD]', '[PAD]', '[PAD]', '[PAD]', '[PAD]', '[PAD]', '[PAD]', '[PAD]', '[PAD]', '[PAD]', '[PAD]', '[PAD]', '[PAD]', '[PAD]', '[PAD]', '[PAD]', '[PAD]', '[PAD]', '[PAD]', '[PAD]', '[PAD]', '[PAD]', '[PAD]', '[PAD]', '[PAD]', '[PAD]', '[PAD]', '[PAD]', '[PAD]', '[PAD]', '[PAD]', '[PAD]', '[PAD]', '[PAD]', '[PAD]', '[PAD]', '[PAD]', '[PAD]', '[PAD]', '[PAD]', '[PAD]', '[PAD]', '[PAD]', '[PAD]', '[PAD]', '[PAD]', '[PAD]', '[PAD]', '[PAD]', '[PAD]', '[PAD]', '[PAD]', '[PAD]', '[PAD]', '[PAD]', '[PAD]', '[PAD]', '[PAD]', '[PAD]', '[PAD]', '[PAD]', '[PAD]', '[PAD]', '[PAD]', '[PAD]', '[PAD]', '[PAD]', '[PAD]', '[PAD]', '[PAD]', '[PAD]', '[PAD]', '[PAD]', '[PAD]', '[PAD]', '[PAD]', '[PAD]', '[PAD]', '[PAD]', '[PAD]', '[PAD]', '[PAD]', '[PAD]', '[PAD]', '[PAD]', '[PAD]', '[PAD]', '[PAD]', '[PAD]', '[PAD]', '[PAD]', '[PAD]', '[PAD]', '[PAD]', '[PAD]', '[PAD]', '[PAD]', '[PAD]', '[PAD]', '[PAD]', '[PAD]', '[PAD]', '[PAD]', '[PAD]', '[PAD]', '[PAD]', '[PAD]', '[PAD]', '[PAD]', '[PAD]', '[PAD]', '[PAD]', '[PAD]', '[PAD]', '[PAD]', '[PAD]', '[PAD]', '[PAD]', '[PAD]', '[PAD]', '[PAD]', '[PAD]', '[PAD]', '[PAD]', '[PAD]', '[PAD]', '[PAD]', '[PAD]', '[PAD]', '[PAD]', '[PAD]', '[PAD]', '[PAD]', '[PAD]', '[PAD]', '[PAD]', '[PAD]', '[PAD]', '[PAD]', '[PAD]', '[PAD]', '[PAD]', '[PAD]', '[PAD]', '[PAD]', '[PAD]', '[PAD]', '[PAD]', '[PAD]', '[PAD]', '[PAD]', '[PAD]', '[PAD]', '[PAD]', '[PAD]', '[PAD]', '[PAD]', '[PAD]', '[PAD]', '[PAD]', '[PAD]', '[PAD]', '[PAD]', '[PAD]', '[PAD]', '[PAD]', '[PAD]', '[PAD]', '[PAD]', '[PAD]', '[PAD]', '[PAD]', '[PAD]', '[PAD]', '[PAD]', '[PAD]', '[PAD]', '[PAD]', '[PAD]', '[PAD]', '[PAD]', '[PAD]', '[PAD]', '[PAD]', '[PAD]', '[PAD]', '[PAD]', '[PAD]', '[PAD]', '[PAD]', '[PAD]', '[PAD]', '[PAD]', '[PAD]', '[PAD]', '[PAD]', '[PAD]', '[PAD]', '[PAD]', '[PAD]', '[PAD]', '[PAD]', '[PAD]', '[PAD]', '[PAD]', '[PAD]', '[PAD]', '[PAD]', '[PAD]', '[PAD]', '[PAD]', '[PAD]', '[PAD]', '[PAD]', '[PAD]', '[PAD]', '[PAD]', '[PAD]', '[PAD]', '[PAD]', '[PAD]', '[PAD]', '[PAD]', '[PAD]', '[PAD]', '[PAD]', '[PAD]', '[PAD]', '[PAD]', '[PAD]', '[PAD]', '[PAD]', '[PAD]', '[PAD]', '[PAD]', '[PAD]', '[PAD]', '[PAD]', '[PAD]', '[PAD]', '[PAD]', '[PAD]', '[PAD]', '[PAD]', '[PAD]', '[PAD]', '[PAD]', '[PAD]', '[PAD]', '[PAD]', '[PAD]', '[PAD]', '[PAD]', '[PAD]', '[PAD]', '[PAD]', '[PAD]', '[PAD]', '[PAD]', '[PAD]', '[PAD]', '[PAD]', '[PAD]', '[PAD]', '[PAD]', '[PAD]', '[PAD]', '[PAD]', '[PAD]', '[PAD]', '[PAD]', '[PAD]', '[PAD]', '[PAD]', '[PAD]', '[PAD]', '[PAD]', '[PAD]', '[PAD]', '[PAD]', '[PAD]', '[PAD]', '[PAD]', '[PAD]', '[PAD]', '[PAD]', '[PAD]', '[PAD]', '[PAD]', '[PAD]', '[PAD]', '[PAD]', '[PAD]', '[PAD]', '[PAD]', '[PAD]', '[PAD]', '[PAD]', '[PAD]', '[PAD]', '[PAD]', '[PAD]', '[PAD]', '[PAD]', '[PAD]', '[PAD]', '[PAD]', '[PAD]', '[PAD]', '[PAD]', '[PAD]', '[PAD]', '[PAD]', '[PAD]', '[PAD]', '[PAD]', '[PAD]', '[PAD]', '[PAD]', '[PAD]', '[PAD]', '[PAD]', '[PAD]', '[PAD]', '[PAD]', '[PAD]', '[PAD]', '[PAD]', '[PAD]', '[PAD]', '[PAD]', '[PAD]', '[PAD]', '[PAD]', '[PAD]', '[PAD]', '[PAD]', '[PAD]', '[PAD]', '[PAD]', '[PAD]', '[PAD]', '[PAD]', '[PAD]', '[PAD]', '[PAD]', '[PAD]', '[PAD]', '[PAD]', '[PAD]', '[PAD]', '[PAD]', '[PAD]', '[PAD]', '[PAD]', '[PAD]', '[PAD]', '[PAD]', '[PAD]', '[PAD]', '[PAD]', '[PAD]', '[PAD]', '[PAD]', '[PAD]', '[PAD]', '[PAD]', '[PAD]', '[PAD]', '[PAD]', '[PAD]', '[PAD]', '[PAD]', '[PAD]', '[PAD]', '[PAD]', '[PAD]', '[PAD]', '[PAD]', '[PAD]', '[PAD]', '[PAD]', '[PAD]', '[PAD]', '[PAD]', '[PAD]', '[PAD]', '[PAD]', '[PAD]', '[PAD]', '[PAD]', '[PAD]', '[PAD]', '[PAD]', '[PAD]', '[PAD]', '[PAD]', '[PAD]', '[PAD]', '[PAD]', '[PAD]', '[PAD]', '[PAD]', '[PAD]', '[PAD]', '[PAD]', '[PAD]', '[PAD]', '[PAD]', '[PAD]', '[PAD]', '[PAD]', '[PAD]', '[PAD]', '[PAD]', '[PAD]', '[PAD]', '[PAD]', '[PAD]', '[PAD]', '[PAD]', '[PAD]', '[PAD]', '[PAD]', '[PAD]', '[PAD]', '[PAD]', '[PAD]', '[PAD]', '[PAD]', '[PAD]', '[PAD]', '[PAD]', '[PAD]', '[PAD]', '[PAD]', '[PAD]', '[PAD]', '[PAD]', '[PAD]', '[PAD]', '[PAD]', '[PAD]', '[PAD]', '[PAD]', '[PAD]', '[PAD]', '[PAD]', '[PAD]', '[PAD]', '[PAD]', '[PAD]', '[PAD]', '[PAD]', '[PAD]', '[PAD]', '[PAD]', '[PAD]', '[PAD]', '[PAD]', '[PAD]', '[PAD]', '[PAD]', '[PAD]', '[PAD]', '[PAD]', '[PAD]', '[PAD]', '[PAD]', '[PAD]', '[PAD]', '[PAD]', '[PAD]', '[PAD]', '[PAD]', '[PAD]', '[PAD]', '[PAD]', '[PAD]', '[PAD]', '[PAD]', '[PAD]', '[PAD]', '[PAD]', '[PAD]', '[PAD]', '[PAD]', '[PAD]', '[PAD]', '[PAD]', '[PAD]', '[PAD]', '[PAD]', '[PAD]', '[PAD]', '[PAD]', '[PAD]', '[PAD]', '[PAD]', '[PAD]', '[PAD]', '[PAD]', '[PAD]', '[PAD]', '[PAD]', '[PAD]', '[PAD]', '[PAD]', '[PAD]', '[PAD]', '[PAD]', '[PAD]', '[PAD]', '[PAD]', '[PAD]', '[PAD]', '[PAD]', '[PAD]', '[PAD]', '[PAD]', '[PAD]', '[PAD]', '[PAD]', '[PAD]', '[PAD]', '[PAD]', '[PAD]', '[PAD]', '[PAD]', '[PAD]', '[PAD]', '[PAD]', '[PAD]', '[PAD]', '[PAD]', '[PAD]', '[PAD]', '[PAD]', '[PAD]', '[PAD]', '[PAD]', '[PAD]', '[PAD]', '[PAD]', '[PAD]', '[PAD]', '[PAD]', '[PAD]', '[PAD]', '[PAD]', '[PAD]', '[PAD]', '[PAD]', '[PAD]', '[PAD]', '[PAD]', '[PAD]', '[PAD]', '[PAD]', '[PAD]', '[PAD]', '[PAD]', '[PAD]', '[PAD]', '[PAD]', '[PAD]', '[PAD]', '[PAD]', '[PAD]', '[PAD]', '[PAD]', '[PAD]', '[PAD]', '[PAD]', '[PAD]', '[PAD]', '[PAD]', '[PAD]', '[PAD]', '[PAD]', '[PAD]', '[PAD]', '[PAD]', '[PAD]', '[PAD]', '[PAD]', '[PAD]', '[PAD]', '[PAD]', '[PAD]', '[PAD]', '[PAD]', '[PAD]', '[PAD]', '[PAD]', '[PAD]', '[PAD]', '[PAD]', '[PAD]', '[PAD]', '[PAD]', '[PAD]', '[PAD]', '[PAD]', '[PAD]', '[PAD]', '[PAD]', '[PAD]', '[PAD]', '[PAD]', '[PAD]', '[PAD]', '[PAD]', '[PAD]', '[PAD]', '[PAD]', '[PAD]', '[PAD]', '[PAD]', '[PAD]', '[PAD]', '[PAD]', '[PAD]', '[PAD]', '[PAD]', '[PAD]', '[PAD]', '[PAD]', '[PAD]', '[PAD]', '[PAD]', '[PAD]', '[PAD]', '[PAD]', '[PAD]', '[PAD]', '[PAD]', '[PAD]', '[PAD]', '[PAD]', '[PAD]', '[PAD]', '[PAD]', '[PAD]', '[PAD]', '[PAD]', '[PAD]', '[PAD]', '[PAD]', '[PAD]', '[PAD]', '[PAD]', '[PAD]', '[PAD]', '[PAD]', '[PAD]', '[PAD]', '[PAD]', '[PAD]', '[PAD]', '[PAD]', '[PAD]', '[PAD]', '[PAD]', '[PAD]', '[PAD]', '[PAD]', '[PAD]', '[PAD]', '[PAD]', '[PAD]', '[PAD]', '[PAD]', '[PAD]', '[PAD]', '[PAD]', '[PAD]', '[PAD]', '[PAD]', '[PAD]', '[PAD]', '[PAD]', '[PAD]', '[PAD]', '[PAD]', '[PAD]', '[PAD]', '[PAD]', '[PAD]', '[PAD]', '[PAD]', '[PAD]', '[PAD]', '[PAD]', '[PAD]', '[PAD]', '[PAD]', '[PAD]', '[PAD]', '[PAD]', '[PAD]', '[PAD]', '[PAD]', '[PAD]', '[PAD]', '[PAD]', '[PAD]', '[PAD]', '[PAD]', '[PAD]', '[PAD]', '[PAD]', '[PAD]', '[PAD]', '[PAD]', '[PAD]', '[PAD]', '[PAD]', '[PAD]', '[PAD]', '[PAD]', '[PAD]', '[PAD]', '[PAD]', '[PAD]', '[PAD]', '[PAD]', '[PAD]', '[PAD]', '[PAD]', '[PAD]', '[PAD]', '[PAD]', '[PAD]', '[PAD]', '[PAD]', '[PAD]', '[PAD]', '[PAD]', '[PAD]', '[PAD]', '[PAD]', '[PAD]', '[PAD]', '[PAD]', '[PAD]', '[PAD]', '[PAD]', '[PAD]', '[PAD]', '[PAD]', '[PAD]', '[PAD]', '[PAD]', '[PAD]', '[PAD]', '[PAD]', '[PAD]', '[PAD]', '[PAD]', '[PAD]', '[PAD]', '[PAD]', '[PAD]', '[PAD]', '[PAD]', '[PAD]', '[PAD]', '[PAD]', '[PAD]', '[PAD]', '[PAD]', '[PAD]', '[PAD]', '[PAD]', '[PAD]', '[PAD]', '[PAD]', '[PAD]', '[PAD]', '[PAD]', '[PAD]', '[PAD]', '[PAD]', '[PAD]', '[PAD]', '[PAD]', '[PAD]', '[PAD]', '[PAD]', '[PAD]', '[PAD]', '[PAD]', '[PAD]', '[PAD]', '[PAD]', '[PAD]', '[PAD]', '[PAD]', '[PAD]', '[PAD]', '[PAD]', '[PAD]', '[PAD]', '[PAD]', '[PAD]', '[PAD]', '[PAD]', '[PAD]', '[PAD]', '[PAD]', '[PAD]', '[PAD]', '[PAD]', '[PAD]', '[PAD]', '[PAD]', '[PAD]', '[PAD]', '[PAD]', '[PAD]', '[PAD]', '[PAD]', '[PAD]', '[PAD]', '[PAD]', '[PAD]', '[PAD]', '[PAD]', '[PAD]', '[PAD]', '[PAD]', '[PAD]', '[PAD]', '[PAD]', '[PAD]', '[PAD]', '[PAD]', '[PAD]', '[PAD]', '[PAD]', '[PAD]', '[PAD]', '[PAD]', '[PAD]', '[PAD]', '[PAD]', '[PAD]', '[PAD]', '[PAD]', '[PAD]', '[PAD]', '[PAD]', '[PAD]', '[PAD]', '[PAD]', '[PAD]', '[PAD]', '[PAD]', '[PAD]', '[PAD]', '[PAD]', '[PAD]', '[PAD]', '[PAD]', '[PAD]', '[PAD]', '[PAD]', '[PAD]', '[PAD]', '[PAD]', '[PAD]', '[PAD]', '[PAD]', '[PAD]', '[PAD]', '[PAD]', '[PAD]', '[PAD]', '[PAD]', '[PAD]', '[PAD]', '[PAD]', '[PAD]', '[PAD]', '[PAD]', '[PAD]', '[PAD]', '[PAD]', '[PAD]', '[PAD]', '[PAD]', '[PAD]', '[PAD]', '[PAD]', '[PAD]', '[PAD]', '[PAD]', '[PAD]', '[PAD]', '[PAD]', '[PAD]', '[PAD]', '[PAD]', '[PAD]', '[PAD]', '[PAD]', '[PAD]', '[PAD]', '[PAD]', '[PAD]', '[PAD]', '[PAD]', '[PAD]', '[PAD]', '[PAD]', '[PAD]', '[PAD]', '[PAD]', '[PAD]', '[PAD]', '[PAD]', '[PAD]', '[PAD]', '[PAD]', '[PAD]', '[PAD]', '[PAD]', '[PAD]', '[PAD]', '[PAD]', '[PAD]', '[PAD]', '[PAD]', '[PAD]', '[PAD]', '[PAD]', '[PAD]', '[PAD]', '[PAD]', '[PAD]', '[PAD]', '[PAD]', '[PAD]', '[PAD]', '[PAD]', '[PAD]', '[PAD]', '[PAD]', '[PAD]', '[PAD]', '[PAD]', '[PAD]', '[PAD]', '[PAD]', '[PAD]', '[PAD]', '[PAD]', '[PAD]', '[PAD]', '[PAD]', '[PAD]', '[PAD]', '[PAD]', '[PAD]', '[PAD]', '[PAD]', '[PAD]', '[PAD]', '[PAD]', '[PAD]', '[PAD]', '[PAD]', '[PAD]', '[PAD]', '[PAD]', '[PAD]', '[PAD]', '[PAD]', '[PAD]', '[PAD]', '[PAD]', '[PAD]', '[PAD]', '[PAD]', '[PAD]', '[PAD]', '[PAD]', '[PAD]', '[PAD]', '[PAD]', '[PAD]', '[PAD]', '[PAD]', '[PAD]', '[PAD]', '[PAD]', '[PAD]', '[PAD]', '[PAD]', '[PAD]', '[PAD]', '[PAD]', '[PAD]', '[PAD]', '[PAD]', '[PAD]', '[PAD]', '[PAD]', '[PAD]', '[PAD]', '[PAD]', '[PAD]', '[PAD]', '[PAD]', '[PAD]', '[PAD]', '[PAD]', '[PAD]', '[PAD]', '[PAD]', '[PAD]', '[PAD]', '[PAD]', '[PAD]', '[PAD]', '[PAD]', '[PAD]', '[PAD]', '[PAD]', '[PAD]', '[PAD]', '[PAD]', '[PAD]', '[PAD]', '[PAD]', '[PAD]', '[PAD]', '[PAD]', '[PAD]', '[PAD]', '[PAD]', '[PAD]', '[PAD]', '[PAD]', '[PAD]', '[PAD]', '[PAD]', '[PAD]', '[PAD]', '[PAD]', '[PAD]', '[PAD]', '[PAD]', '[PAD]', '[PAD]', '[PAD]', '[PAD]', '[PAD]', '[PAD]', '[PAD]', '[PAD]', '[PAD]', '[PAD]', '[PAD]', '[PAD]', '[PAD]', '[PAD]', '[PAD]', '[PAD]', '[PAD]', '[PAD]', '[PAD]', '[PAD]', '[PAD]', '[PAD]', '[PAD]', '[PAD]', '[PAD]', '[PAD]', '[PAD]', '[PAD]', '[PAD]', '[PAD]', '[PAD]', '[PAD]', '[PAD]', '[PAD]', '[PAD]', '[PAD]', '[PAD]', '[PAD]', '[PAD]', '[PAD]', '[PAD]', '[PAD]', '[PAD]', '[PAD]', '[PAD]', '[PAD]', '[PAD]', '[PAD]', '[PAD]', '[PAD]', '[PAD]', '[PAD]', '[PAD]', '[PAD]', '[PAD]', '[PAD]', '[PAD]', '[PAD]', '[PAD]', '[PAD]', '[PAD]', '[PAD]', '[PAD]', '[PAD]', '[PAD]', '[PAD]', '[PAD]', '[PAD]', '[PAD]', '[PAD]', '[PAD]', '[PAD]', '[PAD]', '[PAD]', '[PAD]', '[PAD]', '[PAD]', '[PAD]', '[PAD]', '[PAD]', '[PAD]', '[PAD]', '[PAD]', '[PAD]', '[PAD]', '[PAD]', '[PAD]', '[PAD]', '[PAD]', '[PAD]', '[PAD]', '[PAD]', '[PAD]', '[PAD]', '[PAD]', '[PAD]', '[PAD]', '[PAD]', '[PAD]', '[PAD]', '[PAD]', '[PAD]', '[PAD]', '[PAD]', '[PAD]', '[PAD]', '[PAD]', '[PAD]', '[PAD]', '[PAD]', '[PAD]', '[PAD]', '[PAD]', '[PAD]', '[PAD]', '[PAD]', '[PAD]', '[PAD]', '[PAD]', '[PAD]', '[PAD]', '[PAD]', '[PAD]', '[PAD]', '[PAD]', '[PAD]', '[PAD]', '[PAD]', '[PAD]', '[PAD]', '[PAD]', '[PAD]', '[PAD]', '[PAD]', '[PAD]', '[PAD]', '[PAD]', '[PAD]', '[PAD]', '[PAD]', '[PAD]', '[PAD]', '[PAD]', '[PAD]', '[PAD]', '[PAD]', '[PAD]', '[PAD]', '[PAD]', '[PAD]', '[PAD]', '[PAD]', '[PAD]', '[PAD]', '[PAD]', '[PAD]', '[PAD]', '[PAD]', '[PAD]', '[PAD]', '[PAD]', '[PAD]', '[PAD]', '[PAD]', '[PAD]', '[PAD]', '[PAD]', '[PAD]', '[PAD]', '[PAD]', '[PAD]', '[PAD]', '[PAD]', '[PAD]', '[PAD]', '[PAD]', '[PAD]', '[PAD]', '[PAD]', '[PAD]', '[PAD]', '[PAD]', '[PAD]', '[PAD]', '[PAD]', '[PAD]', '[PAD]', '[PAD]', '[PAD]', '[PAD]', '[PAD]', '[PAD]', '[PAD]', '[PAD]', '[PAD]', '[PAD]', '[PAD]', '[PAD]', '[PAD]', '[PAD]', '[PAD]', '[PAD]', '[PAD]', '[PAD]', '[PAD]', '[PAD]', '[PAD]', '[PAD]', '[PAD]', '[PAD]', '[PAD]', '[PAD]', '[PAD]', '[PAD]', '[PAD]', '[PAD]', '[PAD]', '[PAD]', '[PAD]', '[PAD]', '[PAD]', '[PAD]', '[PAD]', '[PAD]', '[PAD]', '[PAD]', '[PAD]', '[PAD]', '[PAD]', '[PAD]', '[PAD]', '[PAD]', '[PAD]', '[PAD]', '[PAD]', '[PAD]', '[PAD]', '[PAD]', '[PAD]', '[PAD]', '[PAD]', '[PAD]', '[PAD]', '[PAD]', '[PAD]', '[PAD]', '[PAD]', '[PAD]', '[PAD]', '[PAD]', '[PAD]', '[PAD]', '[PAD]', '[PAD]', '[PAD]', '[PAD]', '[PAD]', '[PAD]', '[PAD]', '[PAD]', '[PAD]', '[PAD]', '[PAD]', '[PAD]', '[PAD]', '[PAD]', '[PAD]', '[PAD]', '[PAD]', '[PAD]', '[PAD]', '[PAD]', '[PAD]', '[PAD]', '[PAD]', '[PAD]', '[PAD]', '[PAD]', '[PAD]', '[PAD]', '[PAD]', '[PAD]', '[PAD]', '[PAD]', '[PAD]', '[PAD]', '[PAD]', '[PAD]', '[PAD]', '[PAD]', '[PAD]', '[PAD]', '[PAD]', '[PAD]', '[PAD]', '[PAD]', '[PAD]', '[PAD]', '[PAD]', '[PAD]', '[PAD]', '[PAD]', '[PAD]', '[PAD]', '[PAD]', '[PAD]', '[PAD]', '[PAD]', '[PAD]', '[PAD]', '[PAD]', '[PAD]', '[PAD]', '[PAD]', '[PAD]', '[PAD]', '[PAD]', '[PAD]', '[PAD]', '[PAD]', '[PAD]', '[PAD]', '[PAD]', '[PAD]', '[PAD]', '[PAD]', '[PAD]', '[PAD]', '[PAD]', '[PAD]', '[PAD]', '[PAD]', '[PAD]', '[PAD]', '[PAD]', '[PAD]', '[PAD]', '[PAD]', '[PAD]', '[PAD]', '[PAD]', '[PAD]', '[PAD]', '[PAD]', '[PAD]', '[PAD]', '[PAD]', '[PAD]', '[PAD]', '[PAD]', '[PAD]', '[PAD]', '[PAD]', '[PAD]', '[PAD]', '[PAD]', '[PAD]', '[PAD]', '[PAD]', '[PAD]', '[PAD]', '[PAD]', '[PAD]', '[PAD]', '[PAD]', '[PAD]', '[PAD]', '[PAD]', '[PAD]', '[PAD]', '[PAD]', '[PAD]', '[PAD]', '[PAD]', '[PAD]', '[PAD]', '[PAD]', '[PAD]', '[PAD]', '[PAD]', '[PAD]', '[PAD]', '[PAD]', '[PAD]', '[PAD]', '[PAD]', '[PAD]', '[PAD]', '[PAD]', '[PAD]', '[PAD]', '[PAD]', '[PAD]', '[PAD]', '[PAD]', '[PAD]', '[PAD]', '[PAD]', '[PAD]', '[PAD]', '[PAD]', '[PAD]', '[PAD]', '[PAD]', '[PAD]', '[PAD]', '[PAD]', '[PAD]', '[PAD]', '[PAD]', '[PAD]', '[PAD]', '[PAD]', '[PAD]', '[PAD]', '[PAD]', '[PAD]', '[PAD]', '[PAD]', '[PAD]', '[PAD]', '[PAD]', '[PAD]', '[PAD]', '[PAD]', '[PAD]', '[PAD]', '[PAD]', '[PAD]', '[PAD]', '[PAD]', '[PAD]', '[PAD]', '[PAD]', '[PAD]', '[PAD]', '[PAD]', '[PAD]', '[PAD]', '[PAD]', '[PAD]', '[PAD]', '[PAD]', '[PAD]', '[PAD]', '[PAD]', '[PAD]', '[PAD]', '[PAD]', '[PAD]', '[PAD]', '[PAD]', '[PAD]', '[PAD]', '[PAD]', '[PAD]', '[PAD]', '[PAD]', '[PAD]', '[PAD]', '[PAD]', '[PAD]', '[PAD]', '[PAD]', '[PAD]', '[PAD]', '[PAD]', '[PAD]', '[PAD]', '[PAD]', '[PAD]', '[PAD]', '[PAD]', '[PAD]', '[PAD]', '[PAD]', '[PAD]', '[PAD]', '[PAD]', '[PAD]', '[PAD]', '[PAD]', '[PAD]', '[PAD]', '[PAD]', '[PAD]', '[PAD]', '[PAD]', '[PAD]', '[PAD]', '[PAD]', '[PAD]', '[PAD]', '[PAD]', '[PAD]', '[PAD]', '[PAD]', '[PAD]', '[PAD]', '[PAD]', '[PAD]', '[PAD]', '[PAD]', '[PAD]', '[PAD]', '[PAD]', '[PAD]', '[PAD]', '[PAD]', '[PAD]', '[PAD]', '[PAD]', '[PAD]', '[PAD]', '[PAD]', '[PAD]', '[PAD]', '[PAD]', '[PAD]', '[PAD]', '[PAD]', '[PAD]', '[PAD]', '[PAD]', '[PAD]', '[PAD]', '[PAD]', '[PAD]', '[PAD]', '[PAD]', '[PAD]', '[PAD]', '[PAD]', '[PAD]', '[PAD]', '[PAD]', '[PAD]', '[PAD]', '[PAD]', '[PAD]', '[PAD]', '[PAD]', '[PAD]', '[PAD]', '[PAD]', '[PAD]', '[PAD]', '[PAD]', '[PAD]', '[PAD]', '[PAD]', '[PAD]', '[PAD]', '[PAD]', '[PAD]', '[PAD]', '[PAD]', '[PAD]', '[PAD]', '[PAD]', '[PAD]', '[PAD]', '[PAD]', '[PAD]', '[PAD]', '[PAD]', '[PAD]', '[PAD]', '[PAD]', '[PAD]', '[PAD]', '[PAD]', '[PAD]', '[PAD]', '[PAD]', '[PAD]', '[PAD]', '[PAD]', '[PAD]', '[PAD]', '[PAD]', '[PAD]', '[PAD]', '[PAD]', '[PAD]', '[PAD]', '[PAD]', '[PAD]', '[PAD]', '[PAD]', '[PAD]', '[PAD]', '[PAD]', '[PAD]', '[PAD]', '[PAD]', '[PAD]', '[PAD]', '[PAD]', '[PAD]', '[PAD]', '[PAD]', '[PAD]', '[PAD]', '[PAD]', '[PAD]', '[PAD]', '[PAD]', '[PAD]', '[PAD]', '[PAD]', '[PAD]', '[PAD]', '[PAD]', '[PAD]', '[PAD]', '[PAD]', '[PAD]', '[PAD]', '[PAD]', '[PAD]', '[PAD]', '[PAD]', '[PAD]', '[PAD]', '[PAD]', '[PAD]', '[PAD]', '[PAD]', '[PAD]', '[PAD]', '[PAD]', '[PAD]', '[PAD]', '[PAD]', '[PAD]', '[PAD]', '[PAD]', '[PAD]', '[PAD]', '[PAD]', '[PAD]', '[PAD]', '[PAD]', '[PAD]', '[PAD]', '[PAD]', '[PAD]', '[PAD]', '[PAD]', '[PAD]', '[PAD]', '[PAD]', '[PAD]', '[PAD]', '[PAD]', '[PAD]', '[PAD]', '[PAD]', '[PAD]', '[PAD]', '[PAD]', '[PAD]', '[PAD]', '[PAD]', '[PAD]', '[PAD]', '[PAD]', '[PAD]', '[PAD]', '[PAD]', '[PAD]', '[PAD]', '[PAD]', '[PAD]', '[PAD]', '[PAD]', '[PAD]', '[PAD]', '[PAD]', '[PAD]', '[PAD]', '[PAD]', '[PAD]', '[PAD]', '[PAD]', '[PAD]', '[PAD]', '[PAD]', '[PAD]', '[PAD]', '[PAD]', '[PAD]', '[PAD]', '[PAD]', '[PAD]', '[PAD]', '[PAD]', '[PAD]', '[PAD]', '[PAD]', '[PAD]', '[PAD]', '[PAD]', '[PAD]', '[PAD]', '[PAD]', '[PAD]', '[PAD]', '[PAD]', '[PAD]', '[PAD]', '[PAD]', '[PAD]', '[PAD]', '[PAD]', '[PAD]', '[PAD]', '[PAD]', '[PAD]', '[PAD]', '[PAD]', '[PAD]', '[PAD]', '[PAD]', '[PAD]', '[PAD]', '[PAD]', '[PAD]', '[PAD]', '[PAD]', '[PAD]', '[PAD]', '[PAD]', '[PAD]', '[PAD]', '[PAD]', '[PAD]', '[PAD]', '[PAD]', '[PAD]', '[PAD]', '[PAD]', '[PAD]', '[PAD]', '[PAD]', '[PAD]', '[PAD]', '[PAD]', '[PAD]', '[PAD]', '[PAD]', '[PAD]', '[PAD]', '[PAD]', '[PAD]', '[PAD]', '[PAD]', '[PAD]', '[PAD]', '[PAD]', '[PAD]', '[PAD]', '[PAD]', '[PAD]', '[PAD]', '[PAD]', '[PAD]', '[PAD]', '[PAD]', '[PAD]', '[PAD]', '[PAD]', '[PAD]', '[PAD]', '[PAD]', '[PAD]', '[PAD]', '[PAD]', '[PAD]', '[PAD]', '[PAD]', '[PAD]', '[PAD]', '[PAD]', '[PAD]', '[PAD]', '[PAD]', '[PAD]', '[PAD]', '[PAD]', '[PAD]', '[PAD]', '[PAD]', '[PAD]', '[PAD]', '[PAD]', '[PAD]', '[PAD]', '[PAD]', '[PAD]', '[PAD]', '[PAD]', '[PAD]', '[PAD]', '[PAD]', '[PAD]', '[PAD]', '[PAD]', '[PAD]', '[PAD]', '[PAD]', '[PAD]', '[PAD]', '[PAD]', '[PAD]', '[PAD]', '[PAD]', '[PAD]', '[PAD]', '[PAD]', '[PAD]', '[PAD]', '[PAD]', '[PAD]', '[PAD]', '[PAD]', '[PAD]', '[PAD]', '[PAD]', '[PAD]', '[PAD]', '[PAD]', '[PAD]', '[PAD]', '[PAD]', '[PAD]', '[PAD]', '[PAD]', '[PAD]', '[PAD]', '[PAD]', '[PAD]', '[PAD]', '[PAD]', '[PAD]', '[PAD]', '[PAD]', '[PAD]', '[PAD]', '[PAD]', '[PAD]', '[PAD]', '[PAD]', '[PAD]', '[PAD]', '[PAD]', '[PAD]', '[PAD]', '[PAD]', '[PAD]', '[PAD]', '[PAD]', '[PAD]', '[PAD]', '[PAD]', '[PAD]', '[PAD]', '[PAD]', '[PAD]', '[PAD]', '[PAD]', '[PAD]', '[PAD]', '[PAD]', '[PAD]', '[PAD]', '[PAD]', '[PAD]', '[PAD]', '[PAD]', '[PAD]', '[PAD]', '[PAD]', '[PAD]', '[PAD]', '[PAD]', '[PAD]', '[PAD]', '[PAD]', '[PAD]', '[PAD]', '[PAD]', '[PAD]', '[PAD]', '[PAD]', '[PAD]', '[PAD]', '[PAD]', '[PAD]', '[PAD]', '[PAD]', '[PAD]', '[PAD]', '[PAD]', '[PAD]', '[PAD]', '[PAD]', '[PAD]', '[PAD]', '[PAD]', '[PAD]', '[PAD]', '[PAD]', '[PAD]', '[PAD]', '[PAD]', '[PAD]', '[PAD]', '[PAD]', '[PAD]', '[PAD]', '[PAD]', '[PAD]', '[PAD]', '[PAD]', '[PAD]', '[PAD]', '[PAD]', '[PAD]', '[PAD]', '[PAD]', '[PAD]', '[PAD]', '[PAD]', '[PAD]', '[PAD]', '[PAD]', '[PAD]', '[PAD]', '[PAD]', '[PAD]', '[PAD]', '[PAD]', '[PAD]', '[PAD]', '[PAD]', '[PAD]', '[PAD]', '[PAD]', '[PAD]', '[PAD]', '[PAD]', '[PAD]', '[PAD]', '[PAD]', '[PAD]', '[PAD]', '[PAD]', '[PAD]', '[PAD]', '[PAD]', '[PAD]', '[PAD]', '[PAD]', '[PAD]', '[PAD]', '[PAD]', '[PAD]', '[PAD]', '[PAD]', '[PAD]', '[PAD]', '[PAD]', '[PAD]', '[PAD]', '[PAD]', '[PAD]', '[PAD]', '[PAD]', '[PAD]', '[PAD]', '[PAD]', '[PAD]', '[PAD]', '[PAD]', '[PAD]', '[PAD]', '[PAD]', '[PAD]', '[PAD]', '[PAD]', '[PAD]', '[PAD]', '[PAD]', '[PAD]', '[PAD]', '[PAD]', '[PAD]', '[PAD]', '[PAD]', '[PAD]', '[PAD]', '[PAD]', '[PAD]', '[PAD]', '[PAD]', '[PAD]', '[PAD]', '[PAD]', '[PAD]', '[PAD]', '[PAD]', '[PAD]', '[PAD]', '[PAD]', '[PAD]', '[PAD]', '[PAD]', '[PAD]', '[PAD]', '[PAD]', '[PAD]', '[PAD]', '[PAD]', '[PAD]', '[PAD]', '[PAD]', '[PAD]', '[PAD]', '[PAD]', '[PAD]', '[PAD]', '[PAD]', '[PAD]', '[PAD]', '[PAD]', '[PAD]', '[PAD]', '[PAD]', '[PAD]', '[PAD]', '[PAD]', '[PAD]', '[PAD]', '[PAD]', '[PAD]', '[PAD]', '[PAD]', '[PAD]', '[PAD]', '[PAD]', '[PAD]', '[PAD]', '[PAD]', '[PAD]', '[PAD]', '[PAD]', '[PAD]', '[PAD]', '[PAD]', '[PAD]', '[PAD]', '[PAD]', '[PAD]', '[PAD]', '[PAD]', '[PAD]', '[PAD]', '[PAD]', '[PAD]', '[PAD]', '[PAD]', '[PAD]', '[PAD]', '[PAD]', '[PAD]', '[PAD]', '[PAD]', '[PAD]', '[PAD]', '[PAD]', '[PAD]', '[PAD]', '[PAD]', '[PAD]', '[PAD]', '[PAD]', '[PAD]', '[PAD]', '[PAD]', '[PAD]', '[PAD]', '[PAD]', '[PAD]', '[PAD]', '[PAD]', '[PAD]', '[PAD]', '[PAD]', '[PAD]', '[PAD]', '[PAD]', '[PAD]', '[PAD]', '[PAD]', '[PAD]', '[PAD]', '[PAD]', '[PAD]', '[PAD]', '[PAD]', '[PAD]', '[PAD]', '[PAD]', '[PAD]', '[PAD]', '[PAD]', '[PAD]', '[PAD]', '[PAD]', '[PAD]', '[PAD]', '[PAD]', '[PAD]', '[PAD]', '[PAD]', '[PAD]', '[PAD]', '[PAD]', '[PAD]', '[PAD]', '[PAD]', '[PAD]', '[PAD]', '[PAD]', '[PAD]', '[PAD]', '[PAD]', '[PAD]', '[PAD]', '[PAD]', '[PAD]', '[PAD]', '[PAD]', '[PAD]', '[PAD]', '[PAD]', '[PAD]', '[PAD]', '[PAD]', '[PAD]', '[PAD]', '[PAD]', '[PAD]', '[PAD]', '[PAD]', '[PAD]', '[PAD]', '[PAD]', '[PAD]', '[PAD]', '[PAD]', '[PAD]', '[PAD]', '[PAD]', '[PAD]', '[PAD]', '[PAD]', '[PAD]', '[PAD]', '[PAD]', '[PAD]', '[PAD]', '[PAD]', '[PAD]', '[PAD]', '[PAD]', '[PAD]', '[PAD]', '[PAD]', '[PAD]', '[PAD]', '[PAD]', '[PAD]', '[PAD]', '[PAD]', '[PAD]', '[PAD]', '[PAD]', '[PAD]', '[PAD]', '[PAD]', '[PAD]', '[PAD]', '[PAD]', '[PAD]', '[PAD]', '[PAD]', '[PAD]', '[PAD]', '[PAD]', '[PAD]', '[PAD]', '[PAD]', '[PAD]', '[PAD]', '[PAD]', '[PAD]', '[PAD]', '[PAD]', '[PAD]', '[PAD]', '[PAD]', '[PAD]', '[PAD]', '[PAD]', '[PAD]', '[PAD]', '[PAD]', '[PAD]', '[PAD]', '[PAD]', '[PAD]', '[PAD]', '[PAD]', '[PAD]', '[PAD]', '[PAD]', '[PAD]', '[PAD]', '[PAD]', '[PAD]', '[PAD]', '[PAD]', '[PAD]', '[PAD]', '[PAD]', '[PAD]', '[PAD]', '[PAD]', '[PAD]', '[PAD]', '[PAD]', '[PAD]', '[PAD]', '[PAD]', '[PAD]', '[PAD]', '[PAD]', '[PAD]', '[PAD]', '[PAD]', '[PAD]', '[PAD]', '[PAD]', '[PAD]', '[PAD]', '[PAD]', '[PAD]', '[PAD]', '[PAD]', '[PAD]', '[PAD]', '[PAD]', '[PAD]', '[PAD]', '[PAD]', '[PAD]', '[PAD]', '[PAD]', '[PAD]', '[PAD]', '[PAD]', '[PAD]', '[PAD]', '[PAD]', '[PAD]', '[PAD]', '[PAD]', '[PAD]', '[PAD]', '[PAD]', '[PAD]', '[PAD]', '[PAD]', '[PAD]', '[PAD]', '[PAD]', '[PAD]', '[PAD]', '[PAD]', '[PAD]', '[PAD]', '[PAD]', '[PAD]', '[PAD]', '[PAD]', '[PAD]', '[PAD]', '[PAD]', '[PAD]', '[PAD]', '[PAD]', '[PAD]', '[PAD]', '[PAD]', '[PAD]', '[PAD]', '[PAD]', '[PAD]', '[PAD]', '[PAD]', '[PAD]', '[PAD]', '[PAD]', '[PAD]', '[PAD]', '[PAD]', '[PAD]', '[PAD]', '[PAD]', '[PAD]', '[PAD]', '[PAD]', '[PAD]', '[PAD]', '[PAD]', '[PAD]', '[PAD]', '[PAD]', '[PAD]', '[PAD]', '[PAD]', '[PAD]', '[PAD]', '[PAD]', '[PAD]', '[PAD]', '[PAD]', '[PAD]', '[PAD]', '[PAD]', '[PAD]', '[PAD]', '[PAD]', '[PAD]', '[PAD]', '[PAD]', '[PAD]', '[PAD]', '[PAD]', '[PAD]', '[PAD]', '[PAD]', '[PAD]', '[PAD]', '[PAD]', '[PAD]', '[PAD]', '[PAD]', '[PAD]', '[PAD]', '[PAD]', '[PAD]', '[PAD]', '[PAD]', '[PAD]', '[PAD]', '[PAD]', '[PAD]', '[PAD]', '[PAD]', '[PAD]', '[PAD]', '[PAD]', '[PAD]', '[PAD]', '[PAD]', '[PAD]', '[PAD]', '[PAD]', '[PAD]', '[PAD]', '[PAD]', '[PAD]', '[PAD]', '[PAD]', '[PAD]', '[PAD]', '[PAD]', '[PAD]', '[PAD]', '[PAD]', '[PAD]', '[PAD]', '[PAD]', '[PAD]', '[PAD]', '[PAD]', '[PAD]', '[PAD]', '[PAD]', '[PAD]', '[PAD]', '[PAD]', '[PAD]', '[PAD]', '[PAD]', '[PAD]', '[PAD]', '[PAD]', '[PAD]', '[PAD]', '[PAD]', '[PAD]', '[PAD]', '[PAD]', '[PAD]', '[PAD]', '[PAD]', '[PAD]', '[PAD]', '[PAD]', '[PAD]', '[PAD]', '[PAD]', '[PAD]', '[PAD]', '[PAD]', '[PAD]', '[PAD]', '[PAD]', '[PAD]', '[PAD]', '[PAD]', '[PAD]', '[PAD]', '[PAD]', '[PAD]', '[PAD]', '[PAD]', '[PAD]', '[PAD]', '[PAD]', '[PAD]', '[PAD]', '[PAD]', '[PAD]', '[PAD]', '[PAD]', '[PAD]', '[PAD]', '[PAD]', '[PAD]', '[PAD]', '[PAD]', '[PAD]', '[PAD]', '[PAD]', '[PAD]', '[PAD]', '[PAD]', '[PAD]', '[PAD]', '[PAD]', '[PAD]', '[PAD]', '[PAD]', '[PAD]', '[PAD]', '[PAD]', '[PAD]', '[PAD]', '[PAD]', '[PAD]', '[PAD]', '[PAD]', '[PAD]', '[PAD]', '[PAD]', '[PAD]', '[PAD]', '[PAD]', '[PAD]', '[PAD]', '[PAD]', '[PAD]', '[PAD]', '[PAD]', '[PAD]', '[PAD]', '[PAD]', '[PAD]', '[PAD]', '[PAD]', '[PAD]', '[PAD]', '[PAD]', '[PAD]', '[PAD]', '[PAD]', '[PAD]', '[PAD]', '[PAD]', '[PAD]', '[PAD]', '[PAD]', '[PAD]', '[PAD]', '[PAD]', '[PAD]', '[PAD]', '[PAD]', '[PAD]', '[PAD]', '[PAD]', '[PAD]', '[PAD]', '[PAD]', '[PAD]', '[PAD]', '[PAD]', '[PAD]', '[PAD]', '[PAD]', '[PAD]', '[PAD]', '[PAD]', '[PAD]', '[PAD]', '[PAD]', '[PAD]', '[PAD]', '[PAD]', '[PAD]', '[PAD]', '[PAD]', '[PAD]', '[PAD]', '[PAD]', '[PAD]', '[PAD]', '[PAD]', '[PAD]', '[PAD]', '[PAD]', '[PAD]', '[PAD]', '[PAD]', '[PAD]', '[PAD]', '[PAD]', '[PAD]', '[PAD]', '[PAD]', '[PAD]', '[PAD]', '[PAD]', '[PAD]', '[PAD]', '[PAD]', '[PAD]', '[PAD]', '[PAD]', '[PAD]', '[PAD]', '[PAD]', '[PAD]', '[PAD]', '[PAD]', '[PAD]', '[PAD]', '[PAD]', '[PAD]', '[PAD]', '[PAD]', '[PAD]', '[PAD]', '[PAD]', '[PAD]', '[PAD]', '[PAD]', '[PAD]', '[PAD]', '[PAD]', '[PAD]', '[PAD]', '[PAD]', '[PAD]', '[PAD]', '[PAD]', '[PAD]', '[PAD]', '[PAD]', '[PAD]', '[PAD]', '[PAD]', '[PAD]', '[PAD]', '[PAD]', '[PAD]', '[PAD]', '[PAD]', '[PAD]', '[PAD]', '[PAD]', '[PAD]', '[PAD]', '[PAD]', '[PAD]', '[PAD]', '[PAD]', '[PAD]', '[PAD]', '[PAD]', '[PAD]', '[PAD]', '[PAD]', '[PAD]', '[PAD]', '[PAD]', '[PAD]', '[PAD]', '[PAD]', '[PAD]', '[PAD]', '[PAD]', '[PAD]', '[PAD]', '[PAD]', '[PAD]', '[PAD]', '[PAD]', '[PAD]', '[PAD]', '[PAD]', '[PAD]', '[PAD]', '[PAD]', '[PAD]', '[PAD]', '[PAD]', '[PAD]', '[PAD]', '[PAD]', '[PAD]', '[PAD]', '[PAD]', '[PAD]', '[PAD]', '[PAD]', '[PAD]', '[PAD]', '[PAD]', '[PAD]', '[PAD]', '[PAD]', '[PAD]', '[PAD]', '[PAD]', '[PAD]', '[PAD]', '[PAD]', '[PAD]', '[PAD]', '[PAD]', '[PAD]', '[PAD]', '[PAD]', '[PAD]', '[PAD]', '[PAD]', '[PAD]', '[PAD]', '[PAD]', '[PAD]', '[PAD]', '[PAD]', '[PAD]', '[PAD]', '[PAD]', '[PAD]', '[PAD]', '[PAD]', '[PAD]', '[PAD]', '[PAD]', '[PAD]', '[PAD]', '[PAD]', '[PAD]', '[PAD]', '[PAD]', '[PAD]', '[PAD]', '[PAD]', '[PAD]', '[PAD]', '[PAD]', '[PAD]', '[PAD]', '[PAD]', '[PAD]', '[PAD]', '[PAD]', '[PAD]', '[PAD]', '[PAD]', '[PAD]', '[PAD]', '[PAD]', '[PAD]', '[PAD]', '[PAD]', '[PAD]', '[PAD]', '[PAD]', '[PAD]', '[PAD]', '[PAD]', '[PAD]', '[PAD]', '[PAD]', '[PAD]', '[PAD]', '[PAD]', '[PAD]', '[PAD]', '[PAD]', '[PAD]', '[PAD]', '[PAD]', '[PAD]', '[PAD]', '[PAD]', '[PAD]', '[PAD]', '[PAD]', '[PAD]', '[PAD]', '[PAD]', '[PAD]', '[PAD]', '[PAD]', '[PAD]', '[PAD]', '[PAD]', '[PAD]', '[PAD]', '[PAD]', '[PAD]', '[PAD]', '[PAD]', '[PAD]', '[PAD]', '[PAD]', '[PAD]', '[PAD]', '[PAD]', '[PAD]', '[PAD]', '[PAD]', '[PAD]', '[PAD]', '[PAD]', '[PAD]', '[PAD]', '[PAD]', '[PAD]', '[PAD]', '[PAD]', '[PAD]', '[PAD]', '[PAD]', '[PAD]', '[PAD]', '[PAD]', '[PAD]', '[PAD]', '[PAD]', '[PAD]', '[PAD]', '[PAD]', '[PAD]', '[PAD]', '[PAD]', '[PAD]', '[PAD]', '[PAD]', '[PAD]', '[PAD]', '[PAD]', '[PAD]', '[PAD]', '[PAD]', '[PAD]', '[PAD]', '[PAD]', '[PAD]', '[PAD]', '[PAD]', '[PAD]', '[PAD]', '[PAD]', '[PAD]', '[PAD]', '[PAD]', '[PAD]', '[PAD]', '[PAD]', '[PAD]', '[PAD]', '[PAD]', '[PAD]', '[PAD]', '[PAD]', '[PAD]', '[PAD]', '[PAD]', '[PAD]', '[PAD]', '[PAD]', '[PAD]', '[PAD]', '[PAD]', '[PAD]', '[PAD]', '[PAD]', '[PAD]', '[PAD]', '[PAD]', '[PAD]', '[PAD]', '[PAD]', '[PAD]', '[PAD]', '[PAD]', '[PAD]', '[PAD]', '[PAD]', '[PAD]', '[PAD]', '[PAD]', '[PAD]', '[PAD]', '[PAD]', '[PAD]', '[PAD]', '[PAD]', '[PAD]', '[PAD]', '[PAD]', '[PAD]', '[PAD]', '[PAD]', '[PAD]', '[PAD]', '[PAD]', '[PAD]', '[PAD]', '[PAD]', '[PAD]', '[PAD]', '[PAD]', '[PAD]', '[PAD]', '[PAD]', '[PAD]', '[PAD]', '[PAD]', '[PAD]', '[PAD]', '[PAD]', '[PAD]', '[PAD]', '[PAD]', '[PAD]', '[PAD]', '[PAD]', '[PAD]', '[PAD]', '[PAD]', '[PAD]', '[PAD]', '[PAD]', '[PAD]', '[PAD]', '[PAD]', '[PAD]', '[PAD]', '[PAD]', '[PAD]', '[PAD]', '[PAD]', '[PAD]', '[PAD]', '[PAD]', '[PAD]', '[PAD]', '[PAD]', '[PAD]', '[PAD]', '[PAD]', '[PAD]', '[PAD]', '[PAD]', '[PAD]', '[PAD]', '[PAD]', '[PAD]', '[PAD]', '[PAD]', '[PAD]', '[PAD]', '[PAD]', '[PAD]', '[PAD]', '[PAD]', '[PAD]', '[PAD]', '[PAD]']\n"
     ]
    }
   ],
   "source": [
    "print('첫번째 샘플의 토큰화 결과 :', train_encodings[0].tokens)"
   ]
  },
  {
   "cell_type": "code",
   "execution_count": null,
   "metadata": {
    "colab": {
     "base_uri": "https://localhost:8080/"
    },
    "id": "E0tR4L96mqsn",
    "outputId": "9ce94b38-da17-45d1-bf78-f8723f99f168"
   },
   "outputs": [
    {
     "name": "stdout",
     "output_type": "stream",
     "text": [
      "첫번째 샘플의 길이 : 4096\n"
     ]
    }
   ],
   "source": [
    "print('첫번째 샘플의 길이 :', len(train_encodings[0].tokens))"
   ]
  },
  {
   "cell_type": "markdown",
   "metadata": {
    "id": "3FC4X0dGnArO"
   },
   "source": [
    "본문과 질문 사이에 [SEP]가 들어가있는 것을 확인할 수 있음."
   ]
  },
  {
   "cell_type": "code",
   "execution_count": null,
   "metadata": {
    "colab": {
     "base_uri": "https://localhost:8080/"
    },
    "id": "R-yMWKIMmaEr",
    "outputId": "c21ef0c5-082e-4ae3-cda0-4b090f75a417"
   },
   "outputs": [
    {
     "name": "stdout",
     "output_type": "stream",
     "text": [
      "첫번째 샘플의 정수 인코딩 [2, 14295, 4550, 5161, 28014, 4741, 24918, 4561, 15352, 6927, 4604, 6962, 3733, 4625, 2656, 6988, 4584, 6914, 4544, 12326, 11662, 7841, 4618, 6876, 6838, 4561, 19358, 4604, 3554, 4626, 4741, 3033, 4604, 2554, 4741, 4742, 518, 3729, 7471, 28014, 4741, 14295, 4546, 5161, 4584, 3333, 27450, 9627, 21327, 4598, 4704, 4604, 2873, 1, 6895, 4544, 4744, 11982, 4676, 10714, 4584, 8250, 5411, 7022, 3178, 9145, 4590, 5410, 7568, 4874, 7224, 4741, 15352, 6927, 4561, 19807, 4584, 8841, 5411, 7939, 6787, 518, 6953, 8902, 31318, 29627, 4973, 4532, 4561, 8693, 4618, 8902, 7260, 4670, 32282, 4544, 8504, 4681, 4741, 18957, 4561, 19358, 529, 5371, 4604, 2962, 4625, 2676, 4839, 26597, 4604, 3246, 5091, 18150, 516, 7151, 4544, 11316, 521, 5170, 4584, 15352, 6927, 4561, 3417, 4854, 9627, 25301, 3729, 7113, 4584, 7239, 4544, 8350, 7136, 4604, 20358, 26196, 28147, 2579, 4839, 8550, 4647, 10612, 4771, 3614, 4742, 518, 6969, 4561, 3042, 4543, 4840, 7412, 4561, 6822, 9792, 2656, 4561, 7614, 4584, 13690, 3738, 4741, 2579, 11459, 7698, 4837, 7204, 4809, 11305, 4662, 3510, 4561, 4771, 7779, 5045, 2579, 4544, 6799, 4744, 18957, 4561, 13305, 4557, 5011, 4854, 7412, 4561, 7136, 4604, 3246, 4839, 2579, 4604, 3294, 3468, 3738, 4742, 518, 7134, 19358, 9929, 4604, 14295, 4550, 5161, 6947, 7237, 5161, 4584, 8381, 8902, 31318, 10909, 5411, 7339, 521, 4881, 4794, 4604, 3556, 2953, 4584, 8134, 5411, 4742, 518, 6953, 7113, 4561, 8153, 4676, 7375, 4584, 2656, 4741, 3729, 3417, 4854, 512, 521, 4881, 4794, 513, 3723, 8902, 7260, 4670, 4561, 19679, 31318, 8504, 4647, 9403, 4621, 4520, 4521, 7077, 4681, 4787, 7339, 516, 7736, 4741, 9377, 4521, 4741, 3573, 5091, 4742, 518, 7161, 18140, 4839, 524, 5161, 3245, 4544, 6809, 4293, 4584, 13196, 4566, 31318, 8504, 5189, 5070, 4625, 21837, 4630, 7179, 9142, 6868, 516, 6877, 4584, 7509, 11550, 5189, 4625, 3148, 5091, 4742, 518, 2656, 6899, 4584, 2656, 4741, 3135, 5151, 4885, 4756, 18058, 4681, 4741, 10424, 4627, 4604, 8153, 23953, 4067, 4777, 4544, 5217, 9792, 10909, 4681, 4741, 2968, 16066, 4837, 6828, 4604, 8888, 18150, 516, 6823, 12704, 6989, 4544, 3729, 2606, 4604, 3740, 4696, 4224, 2579, 4544, 8524, 4222, 4741, 7414, 4630, 3738, 4742, 518, 3, 28014, 4741, 24918, 4561, 15352, 6927, 4874, 3733, 4625, 7114, 4604, 3554, 4625, 4528, 4239, 4741, 4771, 535, 3, 0, 0, 0, 0, 0, 0, 0, 0, 0, 0, 0, 0, 0, 0, 0, 0, 0, 0, 0, 0, 0, 0, 0, 0, 0, 0, 0, 0, 0, 0, 0, 0, 0, 0, 0, 0, 0, 0, 0, 0, 0, 0, 0, 0, 0, 0, 0, 0, 0, 0, 0, 0, 0, 0, 0, 0, 0, 0, 0, 0, 0, 0, 0, 0, 0, 0, 0, 0, 0, 0, 0, 0, 0, 0, 0, 0, 0, 0, 0, 0, 0, 0, 0, 0, 0, 0, 0, 0, 0, 0, 0, 0, 0, 0, 0, 0, 0, 0, 0, 0, 0, 0, 0, 0, 0, 0, 0, 0, 0, 0, 0, 0, 0, 0, 0, 0, 0, 0, 0, 0, 0, 0, 0, 0, 0, 0, 0, 0, 0, 0, 0, 0, 0, 0, 0, 0, 0, 0, 0, 0, 0, 0, 0, 0, 0, 0, 0, 0, 0, 0, 0, 0, 0, 0, 0, 0, 0, 0, 0, 0, 0, 0, 0, 0, 0, 0, 0, 0, 0, 0, 0, 0, 0, 0, 0, 0, 0, 0, 0, 0, 0, 0, 0, 0, 0, 0, 0, 0, 0, 0, 0, 0, 0, 0, 0, 0, 0, 0, 0, 0, 0, 0, 0, 0, 0, 0, 0, 0, 0, 0, 0, 0, 0, 0, 0, 0, 0, 0, 0, 0, 0, 0, 0, 0, 0, 0, 0, 0, 0, 0, 0, 0, 0, 0, 0, 0, 0, 0, 0, 0, 0, 0, 0, 0, 0, 0, 0, 0, 0, 0, 0, 0, 0, 0, 0, 0, 0, 0, 0, 0, 0, 0, 0, 0, 0, 0, 0, 0, 0, 0, 0, 0, 0, 0, 0, 0, 0, 0, 0, 0, 0, 0, 0, 0, 0, 0, 0, 0, 0, 0, 0, 0, 0, 0, 0, 0, 0, 0, 0, 0, 0, 0, 0, 0, 0, 0, 0, 0, 0, 0, 0, 0, 0, 0, 0, 0, 0, 0, 0, 0, 0, 0, 0, 0, 0, 0, 0, 0, 0, 0, 0, 0, 0, 0, 0, 0, 0, 0, 0, 0, 0, 0, 0, 0, 0, 0, 0, 0, 0, 0, 0, 0, 0, 0, 0, 0, 0, 0, 0, 0, 0, 0, 0, 0, 0, 0, 0, 0, 0, 0, 0, 0, 0, 0, 0, 0, 0, 0, 0, 0, 0, 0, 0, 0, 0, 0, 0, 0, 0, 0, 0, 0, 0, 0, 0, 0, 0, 0, 0, 0, 0, 0, 0, 0, 0, 0, 0, 0, 0, 0, 0, 0, 0, 0, 0, 0, 0, 0, 0, 0, 0, 0, 0, 0, 0, 0, 0, 0, 0, 0, 0, 0, 0, 0, 0, 0, 0, 0, 0, 0, 0, 0, 0, 0, 0, 0, 0, 0, 0, 0, 0, 0, 0, 0, 0, 0, 0, 0, 0, 0, 0, 0, 0, 0, 0, 0, 0, 0, 0, 0, 0, 0, 0, 0, 0, 0, 0, 0, 0, 0, 0, 0, 0, 0, 0, 0, 0, 0, 0, 0, 0, 0, 0, 0, 0, 0, 0, 0, 0, 0, 0, 0, 0, 0, 0, 0, 0, 0, 0, 0, 0, 0, 0, 0, 0, 0, 0, 0, 0, 0, 0, 0, 0, 0, 0, 0, 0, 0, 0, 0, 0, 0, 0, 0, 0, 0, 0, 0, 0, 0, 0, 0, 0, 0, 0, 0, 0, 0, 0, 0, 0, 0, 0, 0, 0, 0, 0, 0, 0, 0, 0, 0, 0, 0, 0, 0, 0, 0, 0, 0, 0, 0, 0, 0, 0, 0, 0, 0, 0, 0, 0, 0, 0, 0, 0, 0, 0, 0, 0, 0, 0, 0, 0, 0, 0, 0, 0, 0, 0, 0, 0, 0, 0, 0, 0, 0, 0, 0, 0, 0, 0, 0, 0, 0, 0, 0, 0, 0, 0, 0, 0, 0, 0, 0, 0, 0, 0, 0, 0, 0, 0, 0, 0, 0, 0, 0, 0, 0, 0, 0, 0, 0, 0, 0, 0, 0, 0, 0, 0, 0, 0, 0, 0, 0, 0, 0, 0, 0, 0, 0, 0, 0, 0, 0, 0, 0, 0, 0, 0, 0, 0, 0, 0, 0, 0, 0, 0, 0, 0, 0, 0, 0, 0, 0, 0, 0, 0, 0, 0, 0, 0, 0, 0, 0, 0, 0, 0, 0, 0, 0, 0, 0, 0, 0, 0, 0, 0, 0, 0, 0, 0, 0, 0, 0, 0, 0, 0, 0, 0, 0, 0, 0, 0, 0, 0, 0, 0, 0, 0, 0, 0, 0, 0, 0, 0, 0, 0, 0, 0, 0, 0, 0, 0, 0, 0, 0, 0, 0, 0, 0, 0, 0, 0, 0, 0, 0, 0, 0, 0, 0, 0, 0, 0, 0, 0, 0, 0, 0, 0, 0, 0, 0, 0, 0, 0, 0, 0, 0, 0, 0, 0, 0, 0, 0, 0, 0, 0, 0, 0, 0, 0, 0, 0, 0, 0, 0, 0, 0, 0, 0, 0, 0, 0, 0, 0, 0, 0, 0, 0, 0, 0, 0, 0, 0, 0, 0, 0, 0, 0, 0, 0, 0, 0, 0, 0, 0, 0, 0, 0, 0, 0, 0, 0, 0, 0, 0, 0, 0, 0, 0, 0, 0, 0, 0, 0, 0, 0, 0, 0, 0, 0, 0, 0, 0, 0, 0, 0, 0, 0, 0, 0, 0, 0, 0, 0, 0, 0, 0, 0, 0, 0, 0, 0, 0, 0, 0, 0, 0, 0, 0, 0, 0, 0, 0, 0, 0, 0, 0, 0, 0, 0, 0, 0, 0, 0, 0, 0, 0, 0, 0, 0, 0, 0, 0, 0, 0, 0, 0, 0, 0, 0, 0, 0, 0, 0, 0, 0, 0, 0, 0, 0, 0, 0, 0, 0, 0, 0, 0, 0, 0, 0, 0, 0, 0, 0, 0, 0, 0, 0, 0, 0, 0, 0, 0, 0, 0, 0, 0, 0, 0, 0, 0, 0, 0, 0, 0, 0, 0, 0, 0, 0, 0, 0, 0, 0, 0, 0, 0, 0, 0, 0, 0, 0, 0, 0, 0, 0, 0, 0, 0, 0, 0, 0, 0, 0, 0, 0, 0, 0, 0, 0, 0, 0, 0, 0, 0, 0, 0, 0, 0, 0, 0, 0, 0, 0, 0, 0, 0, 0, 0, 0, 0, 0, 0, 0, 0, 0, 0, 0, 0, 0, 0, 0, 0, 0, 0, 0, 0, 0, 0, 0, 0, 0, 0, 0, 0, 0, 0, 0, 0, 0, 0, 0, 0, 0, 0, 0, 0, 0, 0, 0, 0, 0, 0, 0, 0, 0, 0, 0, 0, 0, 0, 0, 0, 0, 0, 0, 0, 0, 0, 0, 0, 0, 0, 0, 0, 0, 0, 0, 0, 0, 0, 0, 0, 0, 0, 0, 0, 0, 0, 0, 0, 0, 0, 0, 0, 0, 0, 0, 0, 0, 0, 0, 0, 0, 0, 0, 0, 0, 0, 0, 0, 0, 0, 0, 0, 0, 0, 0, 0, 0, 0, 0, 0, 0, 0, 0, 0, 0, 0, 0, 0, 0, 0, 0, 0, 0, 0, 0, 0, 0, 0, 0, 0, 0, 0, 0, 0, 0, 0, 0, 0, 0, 0, 0, 0, 0, 0, 0, 0, 0, 0, 0, 0, 0, 0, 0, 0, 0, 0, 0, 0, 0, 0, 0, 0, 0, 0, 0, 0, 0, 0, 0, 0, 0, 0, 0, 0, 0, 0, 0, 0, 0, 0, 0, 0, 0, 0, 0, 0, 0, 0, 0, 0, 0, 0, 0, 0, 0, 0, 0, 0, 0, 0, 0, 0, 0, 0, 0, 0, 0, 0, 0, 0, 0, 0, 0, 0, 0, 0, 0, 0, 0, 0, 0, 0, 0, 0, 0, 0, 0, 0, 0, 0, 0, 0, 0, 0, 0, 0, 0, 0, 0, 0, 0, 0, 0, 0, 0, 0, 0, 0, 0, 0, 0, 0, 0, 0, 0, 0, 0, 0, 0, 0, 0, 0, 0, 0, 0, 0, 0, 0, 0, 0, 0, 0, 0, 0, 0, 0, 0, 0, 0, 0, 0, 0, 0, 0, 0, 0, 0, 0, 0, 0, 0, 0, 0, 0, 0, 0, 0, 0, 0, 0, 0, 0, 0, 0, 0, 0, 0, 0, 0, 0, 0, 0, 0, 0, 0, 0, 0, 0, 0, 0, 0, 0, 0, 0, 0, 0, 0, 0, 0, 0, 0, 0, 0, 0, 0, 0, 0, 0, 0, 0, 0, 0, 0, 0, 0, 0, 0, 0, 0, 0, 0, 0, 0, 0, 0, 0, 0, 0, 0, 0, 0, 0, 0, 0, 0, 0, 0, 0, 0, 0, 0, 0, 0, 0, 0, 0, 0, 0, 0, 0, 0, 0, 0, 0, 0, 0, 0, 0, 0, 0, 0, 0, 0, 0, 0, 0, 0, 0, 0, 0, 0, 0, 0, 0, 0, 0, 0, 0, 0, 0, 0, 0, 0, 0, 0, 0, 0, 0, 0, 0, 0, 0, 0, 0, 0, 0, 0, 0, 0, 0, 0, 0, 0, 0, 0, 0, 0, 0, 0, 0, 0, 0, 0, 0, 0, 0, 0, 0, 0, 0, 0, 0, 0, 0, 0, 0, 0, 0, 0, 0, 0, 0, 0, 0, 0, 0, 0, 0, 0, 0, 0, 0, 0, 0, 0, 0, 0, 0, 0, 0, 0, 0, 0, 0, 0, 0, 0, 0, 0, 0, 0, 0, 0, 0, 0, 0, 0, 0, 0, 0, 0, 0, 0, 0, 0, 0, 0, 0, 0, 0, 0, 0, 0, 0, 0, 0, 0, 0, 0, 0, 0, 0, 0, 0, 0, 0, 0, 0, 0, 0, 0, 0, 0, 0, 0, 0, 0, 0, 0, 0, 0, 0, 0, 0, 0, 0, 0, 0, 0, 0, 0, 0, 0, 0, 0, 0, 0, 0, 0, 0, 0, 0, 0, 0, 0, 0, 0, 0, 0, 0, 0, 0, 0, 0, 0, 0, 0, 0, 0, 0, 0, 0, 0, 0, 0, 0, 0, 0, 0, 0, 0, 0, 0, 0, 0, 0, 0, 0, 0, 0, 0, 0, 0, 0, 0, 0, 0, 0, 0, 0, 0, 0, 0, 0, 0, 0, 0, 0, 0, 0, 0, 0, 0, 0, 0, 0, 0, 0, 0, 0, 0, 0, 0, 0, 0, 0, 0, 0, 0, 0, 0, 0, 0, 0, 0, 0, 0, 0, 0, 0, 0, 0, 0, 0, 0, 0, 0, 0, 0, 0, 0, 0, 0, 0, 0, 0, 0, 0, 0, 0, 0, 0, 0, 0, 0, 0, 0, 0, 0, 0, 0, 0, 0, 0, 0, 0, 0, 0, 0, 0, 0, 0, 0, 0, 0, 0, 0, 0, 0, 0, 0, 0, 0, 0, 0, 0, 0, 0, 0, 0, 0, 0, 0, 0, 0, 0, 0, 0, 0, 0, 0, 0, 0, 0, 0, 0, 0, 0, 0, 0, 0, 0, 0, 0, 0, 0, 0, 0, 0, 0, 0, 0, 0, 0, 0, 0, 0, 0, 0, 0, 0, 0, 0, 0, 0, 0, 0, 0, 0, 0, 0, 0, 0, 0, 0, 0, 0, 0, 0, 0, 0, 0, 0, 0, 0, 0, 0, 0, 0, 0, 0, 0, 0, 0, 0, 0, 0, 0, 0, 0, 0, 0, 0, 0, 0, 0, 0, 0, 0, 0, 0, 0, 0, 0, 0, 0, 0, 0, 0, 0, 0, 0, 0, 0, 0, 0, 0, 0, 0, 0, 0, 0, 0, 0, 0, 0, 0, 0, 0, 0, 0, 0, 0, 0, 0, 0, 0, 0, 0, 0, 0, 0, 0, 0, 0, 0, 0, 0, 0, 0, 0, 0, 0, 0, 0, 0, 0, 0, 0, 0, 0, 0, 0, 0, 0, 0, 0, 0, 0, 0, 0, 0, 0, 0, 0, 0, 0, 0, 0, 0, 0, 0, 0, 0, 0, 0, 0, 0, 0, 0, 0, 0, 0, 0, 0, 0, 0, 0, 0, 0, 0, 0, 0, 0, 0, 0, 0, 0, 0, 0, 0, 0, 0, 0, 0, 0, 0, 0, 0, 0, 0, 0, 0, 0, 0, 0, 0, 0, 0, 0, 0, 0, 0, 0, 0, 0, 0, 0, 0, 0, 0, 0, 0, 0, 0, 0, 0, 0, 0, 0, 0, 0, 0, 0, 0, 0, 0, 0, 0, 0, 0, 0, 0, 0, 0, 0, 0, 0, 0, 0, 0, 0, 0, 0, 0, 0, 0, 0, 0, 0, 0, 0, 0, 0, 0, 0, 0, 0, 0, 0, 0, 0, 0, 0, 0, 0, 0, 0, 0, 0, 0, 0, 0, 0, 0, 0, 0, 0, 0, 0, 0, 0, 0, 0, 0, 0, 0, 0, 0, 0, 0, 0, 0, 0, 0, 0, 0, 0, 0, 0, 0, 0, 0, 0, 0, 0, 0, 0, 0, 0, 0, 0, 0, 0, 0, 0, 0, 0, 0, 0, 0, 0, 0, 0, 0, 0, 0, 0, 0, 0, 0, 0, 0, 0, 0, 0, 0, 0, 0, 0, 0, 0, 0, 0, 0, 0, 0, 0, 0, 0, 0, 0, 0, 0, 0, 0, 0, 0, 0, 0, 0, 0, 0, 0, 0, 0, 0, 0, 0, 0, 0, 0, 0, 0, 0, 0, 0, 0, 0, 0, 0, 0, 0, 0, 0, 0, 0, 0, 0, 0, 0, 0, 0, 0, 0, 0, 0, 0, 0, 0, 0, 0, 0, 0, 0, 0, 0, 0, 0, 0, 0, 0, 0, 0, 0, 0, 0, 0, 0, 0, 0, 0, 0, 0, 0, 0, 0, 0, 0, 0, 0, 0, 0, 0, 0, 0, 0, 0, 0, 0, 0, 0, 0, 0, 0, 0, 0, 0, 0, 0, 0, 0, 0, 0, 0, 0, 0, 0, 0, 0, 0, 0, 0, 0, 0, 0, 0, 0, 0, 0, 0, 0, 0, 0, 0, 0, 0, 0, 0, 0, 0, 0, 0, 0, 0, 0, 0, 0, 0, 0, 0, 0, 0, 0, 0, 0, 0, 0, 0, 0, 0, 0, 0, 0, 0, 0, 0, 0, 0, 0, 0, 0, 0, 0, 0, 0, 0, 0, 0, 0, 0, 0, 0, 0, 0, 0, 0, 0, 0, 0, 0, 0, 0, 0, 0, 0, 0, 0, 0, 0, 0, 0, 0, 0, 0, 0, 0, 0, 0, 0, 0, 0, 0, 0, 0, 0, 0, 0, 0, 0, 0, 0, 0, 0, 0, 0, 0, 0, 0, 0, 0, 0, 0, 0, 0, 0, 0, 0, 0, 0, 0, 0, 0, 0, 0, 0, 0, 0, 0, 0, 0, 0, 0, 0, 0, 0, 0, 0, 0, 0, 0, 0, 0, 0, 0, 0, 0, 0, 0, 0, 0, 0, 0, 0, 0, 0, 0, 0, 0, 0, 0, 0, 0, 0, 0, 0, 0, 0, 0, 0, 0, 0, 0, 0, 0, 0, 0, 0, 0, 0, 0, 0, 0, 0, 0, 0, 0, 0, 0, 0, 0, 0, 0, 0, 0, 0, 0, 0, 0, 0, 0, 0, 0, 0, 0, 0, 0, 0, 0, 0, 0, 0, 0, 0, 0, 0, 0, 0, 0, 0, 0, 0, 0, 0, 0, 0, 0, 0, 0, 0, 0, 0, 0, 0, 0, 0, 0, 0, 0, 0, 0, 0, 0, 0, 0, 0, 0, 0, 0, 0, 0, 0, 0, 0, 0, 0, 0, 0, 0, 0, 0, 0, 0, 0, 0, 0, 0, 0, 0, 0, 0, 0, 0, 0, 0, 0, 0, 0, 0, 0, 0, 0, 0, 0, 0, 0, 0, 0, 0, 0, 0, 0, 0, 0, 0, 0, 0, 0, 0, 0, 0, 0, 0, 0, 0, 0, 0, 0, 0, 0, 0, 0, 0, 0, 0, 0, 0, 0, 0, 0, 0, 0, 0, 0, 0, 0, 0, 0, 0, 0, 0, 0, 0, 0, 0, 0, 0, 0, 0, 0, 0, 0, 0, 0, 0, 0, 0, 0, 0, 0, 0, 0, 0, 0, 0, 0, 0, 0, 0, 0, 0, 0, 0, 0, 0, 0, 0, 0, 0, 0, 0, 0, 0, 0, 0, 0, 0, 0, 0, 0, 0, 0, 0, 0, 0, 0, 0, 0, 0, 0, 0, 0, 0, 0, 0, 0, 0, 0, 0, 0, 0, 0, 0, 0, 0, 0, 0, 0, 0, 0, 0, 0, 0, 0, 0, 0, 0, 0, 0, 0, 0, 0, 0, 0, 0, 0, 0, 0, 0, 0, 0, 0, 0, 0, 0, 0, 0, 0, 0, 0, 0, 0, 0, 0, 0, 0, 0, 0, 0, 0, 0, 0, 0, 0, 0, 0, 0, 0, 0, 0, 0, 0, 0, 0, 0, 0, 0, 0, 0, 0, 0, 0, 0, 0, 0, 0, 0, 0, 0, 0, 0, 0, 0, 0, 0, 0, 0, 0, 0, 0, 0, 0, 0, 0, 0, 0, 0, 0, 0, 0, 0, 0, 0, 0, 0, 0, 0, 0, 0, 0, 0, 0, 0, 0, 0, 0, 0, 0, 0, 0, 0, 0, 0, 0, 0, 0, 0, 0, 0, 0, 0, 0, 0, 0, 0, 0, 0, 0, 0, 0, 0, 0, 0, 0, 0, 0, 0, 0, 0, 0, 0, 0, 0, 0, 0, 0, 0, 0, 0, 0, 0, 0, 0, 0, 0, 0, 0, 0, 0, 0, 0, 0, 0, 0, 0, 0, 0, 0, 0, 0, 0, 0, 0, 0, 0, 0, 0, 0, 0, 0, 0, 0, 0, 0, 0, 0, 0, 0, 0, 0, 0, 0, 0, 0, 0, 0, 0, 0, 0, 0, 0, 0, 0, 0, 0, 0, 0, 0, 0, 0, 0, 0, 0, 0, 0, 0, 0, 0, 0, 0, 0, 0, 0, 0, 0, 0, 0, 0, 0, 0, 0, 0, 0, 0, 0, 0, 0, 0, 0, 0, 0, 0, 0, 0, 0, 0, 0, 0, 0, 0, 0, 0, 0, 0, 0, 0, 0, 0, 0, 0, 0, 0, 0, 0, 0, 0, 0, 0, 0, 0, 0, 0, 0, 0, 0, 0, 0, 0, 0, 0, 0, 0, 0, 0, 0, 0, 0, 0, 0, 0, 0, 0, 0, 0, 0, 0, 0, 0, 0, 0, 0, 0, 0, 0, 0, 0, 0, 0, 0, 0, 0, 0, 0, 0, 0, 0, 0, 0, 0, 0, 0, 0, 0, 0, 0, 0, 0, 0, 0, 0, 0, 0, 0, 0, 0, 0, 0, 0, 0, 0, 0, 0, 0, 0, 0, 0, 0, 0, 0, 0, 0, 0, 0, 0, 0, 0, 0, 0, 0, 0, 0, 0, 0, 0, 0, 0, 0, 0, 0, 0, 0, 0, 0, 0, 0, 0, 0, 0, 0, 0, 0, 0, 0, 0, 0, 0, 0, 0, 0, 0, 0, 0, 0, 0, 0, 0, 0, 0, 0, 0, 0, 0, 0, 0, 0, 0, 0, 0, 0, 0, 0, 0, 0, 0, 0, 0, 0, 0, 0, 0, 0, 0, 0, 0, 0, 0, 0, 0, 0, 0, 0, 0, 0, 0, 0, 0, 0, 0, 0, 0, 0, 0, 0, 0, 0, 0, 0, 0, 0, 0, 0, 0, 0, 0, 0, 0, 0, 0, 0, 0, 0, 0, 0, 0, 0, 0, 0, 0, 0, 0, 0, 0, 0, 0, 0, 0, 0, 0, 0, 0, 0, 0, 0, 0, 0, 0, 0, 0, 0, 0, 0, 0, 0, 0, 0, 0, 0, 0, 0, 0, 0, 0, 0, 0, 0, 0, 0, 0, 0, 0, 0, 0, 0, 0, 0, 0, 0, 0, 0, 0, 0, 0, 0, 0, 0, 0, 0, 0, 0, 0, 0, 0, 0, 0, 0, 0, 0, 0, 0, 0, 0, 0, 0, 0, 0, 0, 0, 0, 0, 0, 0, 0, 0, 0, 0, 0, 0, 0, 0, 0, 0, 0, 0, 0, 0, 0, 0, 0, 0, 0, 0, 0, 0, 0, 0, 0, 0, 0, 0, 0, 0, 0, 0, 0, 0, 0, 0, 0, 0, 0, 0, 0, 0, 0, 0, 0, 0, 0, 0, 0, 0, 0, 0, 0, 0, 0, 0, 0, 0, 0, 0, 0, 0, 0, 0, 0, 0, 0, 0, 0, 0, 0, 0, 0, 0, 0, 0, 0, 0, 0, 0, 0, 0, 0, 0, 0, 0, 0, 0, 0, 0, 0, 0, 0, 0, 0, 0, 0, 0, 0, 0, 0, 0, 0, 0, 0, 0, 0, 0, 0, 0, 0, 0, 0, 0, 0, 0, 0, 0, 0, 0, 0, 0, 0, 0, 0, 0, 0, 0, 0, 0, 0, 0, 0, 0, 0, 0, 0, 0, 0, 0, 0, 0, 0, 0, 0, 0, 0, 0, 0, 0, 0, 0, 0, 0, 0, 0, 0, 0, 0, 0, 0, 0, 0, 0, 0, 0, 0, 0, 0, 0, 0, 0, 0, 0, 0, 0, 0, 0, 0, 0, 0, 0, 0, 0, 0, 0, 0, 0, 0, 0, 0, 0, 0, 0, 0, 0, 0, 0, 0, 0, 0, 0, 0, 0, 0, 0, 0, 0, 0, 0, 0, 0, 0, 0, 0, 0, 0, 0, 0, 0, 0, 0, 0, 0, 0, 0, 0, 0, 0, 0, 0, 0, 0, 0, 0, 0, 0, 0, 0, 0, 0, 0, 0, 0, 0, 0, 0, 0, 0, 0, 0, 0, 0, 0, 0, 0, 0, 0, 0, 0, 0, 0, 0, 0, 0, 0, 0, 0, 0, 0, 0, 0, 0, 0, 0, 0, 0, 0, 0, 0, 0, 0, 0, 0, 0, 0, 0, 0, 0, 0, 0, 0, 0, 0, 0, 0, 0, 0, 0, 0, 0, 0, 0, 0, 0, 0, 0, 0, 0, 0, 0, 0, 0, 0, 0, 0, 0, 0, 0, 0, 0, 0, 0, 0, 0, 0, 0, 0, 0, 0, 0, 0, 0, 0, 0, 0, 0, 0, 0, 0, 0, 0, 0, 0, 0, 0, 0, 0, 0, 0, 0, 0, 0, 0, 0, 0, 0, 0, 0, 0, 0, 0, 0, 0, 0, 0, 0, 0, 0, 0, 0, 0, 0, 0, 0, 0, 0, 0, 0, 0, 0, 0, 0, 0, 0, 0, 0, 0, 0, 0, 0, 0, 0, 0, 0, 0, 0, 0, 0, 0, 0, 0, 0, 0, 0, 0, 0, 0, 0, 0, 0, 0, 0, 0, 0, 0, 0, 0, 0, 0, 0, 0, 0, 0, 0, 0, 0, 0, 0, 0, 0, 0, 0, 0, 0, 0, 0, 0, 0, 0, 0, 0, 0, 0, 0, 0, 0, 0, 0, 0, 0, 0, 0, 0, 0, 0, 0, 0, 0, 0, 0, 0, 0, 0, 0, 0, 0, 0, 0, 0, 0, 0, 0, 0, 0, 0, 0, 0, 0, 0, 0, 0, 0, 0, 0, 0, 0, 0, 0, 0, 0, 0, 0, 0, 0, 0, 0, 0, 0, 0, 0, 0, 0, 0, 0, 0, 0, 0, 0, 0, 0, 0, 0, 0, 0, 0, 0, 0, 0, 0, 0, 0, 0, 0, 0, 0, 0, 0, 0, 0, 0, 0, 0, 0, 0, 0, 0, 0, 0, 0, 0, 0, 0, 0, 0, 0, 0, 0, 0, 0, 0, 0, 0]\n"
     ]
    }
   ],
   "source": [
    "print('첫번째 샘플의 정수 인코딩', train_encodings[0].ids)"
   ]
  },
  {
   "cell_type": "code",
   "execution_count": null,
   "metadata": {
    "colab": {
     "base_uri": "https://localhost:8080/"
    },
    "id": "k9HjDPGamsap",
    "outputId": "ef88b9e9-c277-4193-f0fb-fd460976921d"
   },
   "outputs": [
    {
     "name": "stdout",
     "output_type": "stream",
     "text": [
      "첫번째 샘플의 어텐션 마스크 [1, 1, 1, 1, 1, 1, 1, 1, 1, 1, 1, 1, 1, 1, 1, 1, 1, 1, 1, 1, 1, 1, 1, 1, 1, 1, 1, 1, 1, 1, 1, 1, 1, 1, 1, 1, 1, 1, 1, 1, 1, 1, 1, 1, 1, 1, 1, 1, 1, 1, 1, 1, 1, 1, 1, 1, 1, 1, 1, 1, 1, 1, 1, 1, 1, 1, 1, 1, 1, 1, 1, 1, 1, 1, 1, 1, 1, 1, 1, 1, 1, 1, 1, 1, 1, 1, 1, 1, 1, 1, 1, 1, 1, 1, 1, 1, 1, 1, 1, 1, 1, 1, 1, 1, 1, 1, 1, 1, 1, 1, 1, 1, 1, 1, 1, 1, 1, 1, 1, 1, 1, 1, 1, 1, 1, 1, 1, 1, 1, 1, 1, 1, 1, 1, 1, 1, 1, 1, 1, 1, 1, 1, 1, 1, 1, 1, 1, 1, 1, 1, 1, 1, 1, 1, 1, 1, 1, 1, 1, 1, 1, 1, 1, 1, 1, 1, 1, 1, 1, 1, 1, 1, 1, 1, 1, 1, 1, 1, 1, 1, 1, 1, 1, 1, 1, 1, 1, 1, 1, 1, 1, 1, 1, 1, 1, 1, 1, 1, 1, 1, 1, 1, 1, 1, 1, 1, 1, 1, 1, 1, 1, 1, 1, 1, 1, 1, 1, 1, 1, 1, 1, 1, 1, 1, 1, 1, 1, 1, 1, 1, 1, 1, 1, 1, 1, 1, 1, 1, 1, 1, 1, 1, 1, 1, 1, 1, 1, 1, 1, 1, 1, 1, 1, 1, 1, 1, 1, 1, 1, 1, 1, 1, 1, 1, 1, 1, 1, 1, 1, 1, 1, 1, 1, 1, 1, 1, 1, 1, 1, 1, 1, 1, 1, 1, 1, 1, 1, 1, 1, 1, 1, 1, 1, 1, 1, 1, 1, 1, 1, 1, 1, 1, 1, 1, 1, 1, 1, 1, 1, 1, 1, 1, 1, 1, 1, 1, 1, 1, 1, 1, 1, 1, 1, 1, 1, 1, 1, 1, 1, 1, 1, 1, 1, 1, 1, 1, 1, 1, 1, 1, 1, 1, 1, 1, 1, 1, 1, 1, 1, 1, 1, 1, 1, 1, 1, 1, 1, 1, 1, 1, 1, 1, 1, 1, 1, 1, 1, 1, 1, 1, 1, 1, 1, 1, 1, 1, 1, 1, 0, 0, 0, 0, 0, 0, 0, 0, 0, 0, 0, 0, 0, 0, 0, 0, 0, 0, 0, 0, 0, 0, 0, 0, 0, 0, 0, 0, 0, 0, 0, 0, 0, 0, 0, 0, 0, 0, 0, 0, 0, 0, 0, 0, 0, 0, 0, 0, 0, 0, 0, 0, 0, 0, 0, 0, 0, 0, 0, 0, 0, 0, 0, 0, 0, 0, 0, 0, 0, 0, 0, 0, 0, 0, 0, 0, 0, 0, 0, 0, 0, 0, 0, 0, 0, 0, 0, 0, 0, 0, 0, 0, 0, 0, 0, 0, 0, 0, 0, 0, 0, 0, 0, 0, 0, 0, 0, 0, 0, 0, 0, 0, 0, 0, 0, 0, 0, 0, 0, 0, 0, 0, 0, 0, 0, 0, 0, 0, 0, 0, 0, 0, 0, 0, 0, 0, 0, 0, 0, 0, 0, 0, 0, 0, 0, 0, 0, 0, 0, 0, 0, 0, 0, 0, 0, 0, 0, 0, 0, 0, 0, 0, 0, 0, 0, 0, 0, 0, 0, 0, 0, 0, 0, 0, 0, 0, 0, 0, 0, 0, 0, 0, 0, 0, 0, 0, 0, 0, 0, 0, 0, 0, 0, 0, 0, 0, 0, 0, 0, 0, 0, 0, 0, 0, 0, 0, 0, 0, 0, 0, 0, 0, 0, 0, 0, 0, 0, 0, 0, 0, 0, 0, 0, 0, 0, 0, 0, 0, 0, 0, 0, 0, 0, 0, 0, 0, 0, 0, 0, 0, 0, 0, 0, 0, 0, 0, 0, 0, 0, 0, 0, 0, 0, 0, 0, 0, 0, 0, 0, 0, 0, 0, 0, 0, 0, 0, 0, 0, 0, 0, 0, 0, 0, 0, 0, 0, 0, 0, 0, 0, 0, 0, 0, 0, 0, 0, 0, 0, 0, 0, 0, 0, 0, 0, 0, 0, 0, 0, 0, 0, 0, 0, 0, 0, 0, 0, 0, 0, 0, 0, 0, 0, 0, 0, 0, 0, 0, 0, 0, 0, 0, 0, 0, 0, 0, 0, 0, 0, 0, 0, 0, 0, 0, 0, 0, 0, 0, 0, 0, 0, 0, 0, 0, 0, 0, 0, 0, 0, 0, 0, 0, 0, 0, 0, 0, 0, 0, 0, 0, 0, 0, 0, 0, 0, 0, 0, 0, 0, 0, 0, 0, 0, 0, 0, 0, 0, 0, 0, 0, 0, 0, 0, 0, 0, 0, 0, 0, 0, 0, 0, 0, 0, 0, 0, 0, 0, 0, 0, 0, 0, 0, 0, 0, 0, 0, 0, 0, 0, 0, 0, 0, 0, 0, 0, 0, 0, 0, 0, 0, 0, 0, 0, 0, 0, 0, 0, 0, 0, 0, 0, 0, 0, 0, 0, 0, 0, 0, 0, 0, 0, 0, 0, 0, 0, 0, 0, 0, 0, 0, 0, 0, 0, 0, 0, 0, 0, 0, 0, 0, 0, 0, 0, 0, 0, 0, 0, 0, 0, 0, 0, 0, 0, 0, 0, 0, 0, 0, 0, 0, 0, 0, 0, 0, 0, 0, 0, 0, 0, 0, 0, 0, 0, 0, 0, 0, 0, 0, 0, 0, 0, 0, 0, 0, 0, 0, 0, 0, 0, 0, 0, 0, 0, 0, 0, 0, 0, 0, 0, 0, 0, 0, 0, 0, 0, 0, 0, 0, 0, 0, 0, 0, 0, 0, 0, 0, 0, 0, 0, 0, 0, 0, 0, 0, 0, 0, 0, 0, 0, 0, 0, 0, 0, 0, 0, 0, 0, 0, 0, 0, 0, 0, 0, 0, 0, 0, 0, 0, 0, 0, 0, 0, 0, 0, 0, 0, 0, 0, 0, 0, 0, 0, 0, 0, 0, 0, 0, 0, 0, 0, 0, 0, 0, 0, 0, 0, 0, 0, 0, 0, 0, 0, 0, 0, 0, 0, 0, 0, 0, 0, 0, 0, 0, 0, 0, 0, 0, 0, 0, 0, 0, 0, 0, 0, 0, 0, 0, 0, 0, 0, 0, 0, 0, 0, 0, 0, 0, 0, 0, 0, 0, 0, 0, 0, 0, 0, 0, 0, 0, 0, 0, 0, 0, 0, 0, 0, 0, 0, 0, 0, 0, 0, 0, 0, 0, 0, 0, 0, 0, 0, 0, 0, 0, 0, 0, 0, 0, 0, 0, 0, 0, 0, 0, 0, 0, 0, 0, 0, 0, 0, 0, 0, 0, 0, 0, 0, 0, 0, 0, 0, 0, 0, 0, 0, 0, 0, 0, 0, 0, 0, 0, 0, 0, 0, 0, 0, 0, 0, 0, 0, 0, 0, 0, 0, 0, 0, 0, 0, 0, 0, 0, 0, 0, 0, 0, 0, 0, 0, 0, 0, 0, 0, 0, 0, 0, 0, 0, 0, 0, 0, 0, 0, 0, 0, 0, 0, 0, 0, 0, 0, 0, 0, 0, 0, 0, 0, 0, 0, 0, 0, 0, 0, 0, 0, 0, 0, 0, 0, 0, 0, 0, 0, 0, 0, 0, 0, 0, 0, 0, 0, 0, 0, 0, 0, 0, 0, 0, 0, 0, 0, 0, 0, 0, 0, 0, 0, 0, 0, 0, 0, 0, 0, 0, 0, 0, 0, 0, 0, 0, 0, 0, 0, 0, 0, 0, 0, 0, 0, 0, 0, 0, 0, 0, 0, 0, 0, 0, 0, 0, 0, 0, 0, 0, 0, 0, 0, 0, 0, 0, 0, 0, 0, 0, 0, 0, 0, 0, 0, 0, 0, 0, 0, 0, 0, 0, 0, 0, 0, 0, 0, 0, 0, 0, 0, 0, 0, 0, 0, 0, 0, 0, 0, 0, 0, 0, 0, 0, 0, 0, 0, 0, 0, 0, 0, 0, 0, 0, 0, 0, 0, 0, 0, 0, 0, 0, 0, 0, 0, 0, 0, 0, 0, 0, 0, 0, 0, 0, 0, 0, 0, 0, 0, 0, 0, 0, 0, 0, 0, 0, 0, 0, 0, 0, 0, 0, 0, 0, 0, 0, 0, 0, 0, 0, 0, 0, 0, 0, 0, 0, 0, 0, 0, 0, 0, 0, 0, 0, 0, 0, 0, 0, 0, 0, 0, 0, 0, 0, 0, 0, 0, 0, 0, 0, 0, 0, 0, 0, 0, 0, 0, 0, 0, 0, 0, 0, 0, 0, 0, 0, 0, 0, 0, 0, 0, 0, 0, 0, 0, 0, 0, 0, 0, 0, 0, 0, 0, 0, 0, 0, 0, 0, 0, 0, 0, 0, 0, 0, 0, 0, 0, 0, 0, 0, 0, 0, 0, 0, 0, 0, 0, 0, 0, 0, 0, 0, 0, 0, 0, 0, 0, 0, 0, 0, 0, 0, 0, 0, 0, 0, 0, 0, 0, 0, 0, 0, 0, 0, 0, 0, 0, 0, 0, 0, 0, 0, 0, 0, 0, 0, 0, 0, 0, 0, 0, 0, 0, 0, 0, 0, 0, 0, 0, 0, 0, 0, 0, 0, 0, 0, 0, 0, 0, 0, 0, 0, 0, 0, 0, 0, 0, 0, 0, 0, 0, 0, 0, 0, 0, 0, 0, 0, 0, 0, 0, 0, 0, 0, 0, 0, 0, 0, 0, 0, 0, 0, 0, 0, 0, 0, 0, 0, 0, 0, 0, 0, 0, 0, 0, 0, 0, 0, 0, 0, 0, 0, 0, 0, 0, 0, 0, 0, 0, 0, 0, 0, 0, 0, 0, 0, 0, 0, 0, 0, 0, 0, 0, 0, 0, 0, 0, 0, 0, 0, 0, 0, 0, 0, 0, 0, 0, 0, 0, 0, 0, 0, 0, 0, 0, 0, 0, 0, 0, 0, 0, 0, 0, 0, 0, 0, 0, 0, 0, 0, 0, 0, 0, 0, 0, 0, 0, 0, 0, 0, 0, 0, 0, 0, 0, 0, 0, 0, 0, 0, 0, 0, 0, 0, 0, 0, 0, 0, 0, 0, 0, 0, 0, 0, 0, 0, 0, 0, 0, 0, 0, 0, 0, 0, 0, 0, 0, 0, 0, 0, 0, 0, 0, 0, 0, 0, 0, 0, 0, 0, 0, 0, 0, 0, 0, 0, 0, 0, 0, 0, 0, 0, 0, 0, 0, 0, 0, 0, 0, 0, 0, 0, 0, 0, 0, 0, 0, 0, 0, 0, 0, 0, 0, 0, 0, 0, 0, 0, 0, 0, 0, 0, 0, 0, 0, 0, 0, 0, 0, 0, 0, 0, 0, 0, 0, 0, 0, 0, 0, 0, 0, 0, 0, 0, 0, 0, 0, 0, 0, 0, 0, 0, 0, 0, 0, 0, 0, 0, 0, 0, 0, 0, 0, 0, 0, 0, 0, 0, 0, 0, 0, 0, 0, 0, 0, 0, 0, 0, 0, 0, 0, 0, 0, 0, 0, 0, 0, 0, 0, 0, 0, 0, 0, 0, 0, 0, 0, 0, 0, 0, 0, 0, 0, 0, 0, 0, 0, 0, 0, 0, 0, 0, 0, 0, 0, 0, 0, 0, 0, 0, 0, 0, 0, 0, 0, 0, 0, 0, 0, 0, 0, 0, 0, 0, 0, 0, 0, 0, 0, 0, 0, 0, 0, 0, 0, 0, 0, 0, 0, 0, 0, 0, 0, 0, 0, 0, 0, 0, 0, 0, 0, 0, 0, 0, 0, 0, 0, 0, 0, 0, 0, 0, 0, 0, 0, 0, 0, 0, 0, 0, 0, 0, 0, 0, 0, 0, 0, 0, 0, 0, 0, 0, 0, 0, 0, 0, 0, 0, 0, 0, 0, 0, 0, 0, 0, 0, 0, 0, 0, 0, 0, 0, 0, 0, 0, 0, 0, 0, 0, 0, 0, 0, 0, 0, 0, 0, 0, 0, 0, 0, 0, 0, 0, 0, 0, 0, 0, 0, 0, 0, 0, 0, 0, 0, 0, 0, 0, 0, 0, 0, 0, 0, 0, 0, 0, 0, 0, 0, 0, 0, 0, 0, 0, 0, 0, 0, 0, 0, 0, 0, 0, 0, 0, 0, 0, 0, 0, 0, 0, 0, 0, 0, 0, 0, 0, 0, 0, 0, 0, 0, 0, 0, 0, 0, 0, 0, 0, 0, 0, 0, 0, 0, 0, 0, 0, 0, 0, 0, 0, 0, 0, 0, 0, 0, 0, 0, 0, 0, 0, 0, 0, 0, 0, 0, 0, 0, 0, 0, 0, 0, 0, 0, 0, 0, 0, 0, 0, 0, 0, 0, 0, 0, 0, 0, 0, 0, 0, 0, 0, 0, 0, 0, 0, 0, 0, 0, 0, 0, 0, 0, 0, 0, 0, 0, 0, 0, 0, 0, 0, 0, 0, 0, 0, 0, 0, 0, 0, 0, 0, 0, 0, 0, 0, 0, 0, 0, 0, 0, 0, 0, 0, 0, 0, 0, 0, 0, 0, 0, 0, 0, 0, 0, 0, 0, 0, 0, 0, 0, 0, 0, 0, 0, 0, 0, 0, 0, 0, 0, 0, 0, 0, 0, 0, 0, 0, 0, 0, 0, 0, 0, 0, 0, 0, 0, 0, 0, 0, 0, 0, 0, 0, 0, 0, 0, 0, 0, 0, 0, 0, 0, 0, 0, 0, 0, 0, 0, 0, 0, 0, 0, 0, 0, 0, 0, 0, 0, 0, 0, 0, 0, 0, 0, 0, 0, 0, 0, 0, 0, 0, 0, 0, 0, 0, 0, 0, 0, 0, 0, 0, 0, 0, 0, 0, 0, 0, 0, 0, 0, 0, 0, 0, 0, 0, 0, 0, 0, 0, 0, 0, 0, 0, 0, 0, 0, 0, 0, 0, 0, 0, 0, 0, 0, 0, 0, 0, 0, 0, 0, 0, 0, 0, 0, 0, 0, 0, 0, 0, 0, 0, 0, 0, 0, 0, 0, 0, 0, 0, 0, 0, 0, 0, 0, 0, 0, 0, 0, 0, 0, 0, 0, 0, 0, 0, 0, 0, 0, 0, 0, 0, 0, 0, 0, 0, 0, 0, 0, 0, 0, 0, 0, 0, 0, 0, 0, 0, 0, 0, 0, 0, 0, 0, 0, 0, 0, 0, 0, 0, 0, 0, 0, 0, 0, 0, 0, 0, 0, 0, 0, 0, 0, 0, 0, 0, 0, 0, 0, 0, 0, 0, 0, 0, 0, 0, 0, 0, 0, 0, 0, 0, 0, 0, 0, 0, 0, 0, 0, 0, 0, 0, 0, 0, 0, 0, 0, 0, 0, 0, 0, 0, 0, 0, 0, 0, 0, 0, 0, 0, 0, 0, 0, 0, 0, 0, 0, 0, 0, 0, 0, 0, 0, 0, 0, 0, 0, 0, 0, 0, 0, 0, 0, 0, 0, 0, 0, 0, 0, 0, 0, 0, 0, 0, 0, 0, 0, 0, 0, 0, 0, 0, 0, 0, 0, 0, 0, 0, 0, 0, 0, 0, 0, 0, 0, 0, 0, 0, 0, 0, 0, 0, 0, 0, 0, 0, 0, 0, 0, 0, 0, 0, 0, 0, 0, 0, 0, 0, 0, 0, 0, 0, 0, 0, 0, 0, 0, 0, 0, 0, 0, 0, 0, 0, 0, 0, 0, 0, 0, 0, 0, 0, 0, 0, 0, 0, 0, 0, 0, 0, 0, 0, 0, 0, 0, 0, 0, 0, 0, 0, 0, 0, 0, 0, 0, 0, 0, 0, 0, 0, 0, 0, 0, 0, 0, 0, 0, 0, 0, 0, 0, 0, 0, 0, 0, 0, 0, 0, 0, 0, 0, 0, 0, 0, 0, 0, 0, 0, 0, 0, 0, 0, 0, 0, 0, 0, 0, 0, 0, 0, 0, 0, 0, 0, 0, 0, 0, 0, 0, 0, 0, 0, 0, 0, 0, 0, 0, 0, 0, 0, 0, 0, 0, 0, 0, 0, 0, 0, 0, 0, 0, 0, 0, 0, 0, 0, 0, 0, 0, 0, 0, 0, 0, 0, 0, 0, 0, 0, 0, 0, 0, 0, 0, 0, 0, 0, 0, 0, 0, 0, 0, 0, 0, 0, 0, 0, 0, 0, 0, 0, 0, 0, 0, 0, 0, 0, 0, 0, 0, 0, 0, 0, 0, 0, 0, 0, 0, 0, 0, 0, 0, 0, 0, 0, 0, 0, 0, 0, 0, 0, 0, 0, 0, 0, 0, 0, 0, 0, 0, 0, 0, 0, 0, 0, 0, 0, 0, 0, 0, 0, 0, 0, 0, 0, 0, 0, 0, 0, 0, 0, 0, 0, 0, 0, 0, 0, 0, 0, 0, 0, 0, 0, 0, 0, 0, 0, 0, 0, 0, 0, 0, 0, 0, 0, 0, 0, 0, 0, 0, 0, 0, 0, 0, 0, 0, 0, 0, 0, 0, 0, 0, 0, 0, 0, 0, 0, 0, 0, 0, 0, 0, 0, 0, 0, 0, 0, 0, 0, 0, 0, 0, 0, 0, 0, 0, 0, 0, 0, 0, 0, 0, 0, 0, 0, 0, 0, 0, 0, 0, 0, 0, 0, 0, 0, 0, 0, 0, 0, 0, 0, 0, 0, 0, 0, 0, 0, 0, 0, 0, 0, 0, 0, 0, 0, 0, 0, 0, 0, 0, 0, 0, 0, 0, 0, 0, 0, 0, 0, 0, 0, 0, 0, 0, 0, 0, 0, 0, 0, 0, 0, 0, 0, 0, 0, 0, 0, 0, 0, 0, 0, 0, 0, 0, 0, 0, 0, 0, 0, 0, 0, 0, 0, 0, 0, 0, 0, 0, 0, 0, 0, 0, 0, 0, 0, 0, 0, 0, 0, 0, 0, 0, 0, 0, 0, 0, 0, 0, 0, 0, 0, 0, 0, 0, 0, 0, 0, 0, 0, 0, 0, 0, 0, 0, 0, 0, 0, 0, 0, 0, 0, 0, 0, 0, 0, 0, 0, 0, 0, 0, 0, 0, 0, 0, 0, 0, 0, 0, 0, 0, 0, 0, 0, 0, 0, 0, 0, 0, 0, 0, 0, 0, 0, 0, 0, 0, 0, 0, 0, 0, 0, 0, 0, 0, 0, 0, 0, 0, 0, 0, 0, 0, 0, 0, 0, 0, 0, 0, 0, 0, 0, 0, 0, 0, 0, 0, 0, 0, 0, 0, 0, 0, 0, 0, 0, 0, 0, 0, 0, 0, 0, 0, 0, 0, 0, 0, 0, 0, 0, 0, 0, 0, 0, 0, 0, 0, 0, 0, 0, 0, 0, 0, 0, 0, 0, 0, 0, 0, 0, 0, 0, 0, 0, 0, 0, 0, 0, 0, 0, 0, 0, 0, 0, 0, 0, 0, 0, 0, 0, 0, 0, 0, 0, 0, 0, 0, 0, 0, 0, 0, 0, 0, 0, 0, 0, 0, 0, 0, 0, 0, 0, 0, 0, 0, 0, 0, 0, 0, 0, 0, 0, 0, 0, 0, 0, 0, 0, 0, 0, 0, 0, 0, 0, 0, 0, 0, 0, 0, 0, 0, 0, 0, 0, 0, 0, 0, 0, 0, 0, 0, 0, 0, 0, 0, 0, 0, 0, 0, 0, 0, 0, 0, 0, 0, 0, 0, 0, 0, 0, 0, 0, 0, 0, 0, 0, 0, 0, 0, 0, 0, 0, 0, 0, 0, 0, 0, 0, 0, 0, 0, 0, 0, 0, 0, 0, 0, 0, 0, 0, 0, 0, 0, 0, 0, 0, 0, 0, 0, 0, 0, 0, 0, 0, 0, 0, 0, 0, 0, 0, 0, 0, 0, 0, 0, 0, 0, 0, 0, 0, 0, 0, 0, 0, 0, 0, 0, 0, 0, 0, 0, 0, 0, 0, 0, 0, 0, 0, 0, 0, 0, 0, 0, 0, 0, 0, 0, 0, 0, 0, 0, 0, 0, 0, 0, 0, 0, 0, 0, 0, 0, 0, 0, 0, 0, 0, 0, 0, 0, 0, 0, 0, 0, 0, 0, 0, 0, 0, 0, 0, 0, 0, 0, 0, 0, 0, 0, 0, 0, 0, 0, 0, 0, 0, 0, 0, 0, 0, 0, 0, 0, 0, 0, 0, 0, 0, 0, 0, 0, 0, 0, 0, 0, 0, 0, 0, 0, 0, 0, 0, 0, 0, 0, 0, 0, 0, 0, 0, 0, 0, 0, 0, 0, 0, 0, 0, 0, 0, 0, 0, 0, 0, 0, 0, 0, 0, 0, 0, 0, 0, 0, 0, 0, 0, 0, 0, 0, 0, 0, 0, 0, 0, 0, 0, 0, 0, 0, 0, 0, 0, 0, 0, 0, 0, 0, 0, 0, 0, 0, 0, 0, 0, 0, 0, 0, 0, 0, 0, 0, 0, 0, 0, 0, 0, 0, 0, 0, 0, 0, 0, 0, 0, 0, 0, 0, 0, 0, 0, 0, 0, 0, 0, 0, 0, 0, 0, 0, 0, 0, 0, 0, 0, 0, 0, 0, 0, 0, 0, 0, 0, 0, 0, 0, 0, 0, 0, 0, 0, 0, 0, 0, 0, 0, 0, 0, 0, 0, 0, 0, 0, 0, 0, 0, 0, 0, 0, 0, 0, 0, 0, 0, 0, 0, 0, 0, 0, 0, 0, 0, 0, 0, 0, 0, 0, 0, 0, 0, 0, 0, 0, 0, 0, 0, 0, 0, 0, 0, 0, 0, 0, 0, 0, 0, 0, 0, 0, 0, 0, 0, 0, 0, 0, 0, 0, 0, 0, 0, 0, 0, 0, 0, 0, 0, 0, 0, 0, 0, 0, 0, 0, 0, 0, 0, 0, 0, 0, 0, 0, 0, 0, 0, 0, 0, 0, 0, 0, 0, 0, 0, 0, 0, 0, 0, 0, 0, 0, 0, 0, 0, 0, 0, 0, 0, 0, 0, 0, 0, 0, 0, 0, 0, 0, 0, 0, 0, 0, 0, 0, 0, 0, 0, 0, 0, 0, 0, 0, 0, 0, 0, 0, 0, 0, 0, 0, 0, 0, 0, 0, 0, 0, 0, 0, 0, 0, 0, 0, 0, 0, 0, 0, 0, 0, 0, 0, 0, 0, 0, 0, 0, 0, 0, 0, 0, 0, 0, 0, 0, 0, 0, 0, 0, 0, 0, 0, 0, 0, 0, 0, 0, 0, 0, 0, 0, 0, 0, 0, 0, 0, 0, 0, 0, 0, 0, 0, 0, 0, 0, 0, 0, 0, 0, 0, 0, 0, 0, 0, 0, 0, 0, 0, 0, 0, 0, 0, 0, 0, 0, 0, 0, 0, 0, 0, 0, 0, 0, 0, 0, 0, 0, 0, 0, 0, 0, 0, 0, 0, 0, 0, 0, 0, 0, 0, 0, 0, 0, 0, 0, 0, 0, 0, 0, 0, 0, 0, 0, 0, 0, 0, 0, 0, 0, 0, 0, 0, 0, 0, 0, 0, 0, 0, 0, 0, 0, 0, 0, 0, 0, 0, 0, 0, 0, 0, 0, 0, 0, 0, 0, 0, 0, 0, 0, 0, 0, 0, 0, 0, 0, 0, 0, 0, 0, 0, 0, 0, 0, 0, 0, 0, 0, 0, 0, 0, 0, 0, 0, 0, 0, 0, 0, 0, 0, 0, 0, 0, 0, 0, 0, 0, 0, 0, 0, 0, 0, 0, 0, 0, 0, 0, 0, 0, 0, 0, 0, 0, 0, 0, 0, 0, 0, 0, 0, 0, 0, 0, 0, 0, 0, 0, 0, 0, 0, 0, 0, 0, 0, 0, 0, 0, 0, 0, 0, 0, 0, 0, 0, 0, 0, 0, 0, 0, 0, 0, 0, 0, 0, 0, 0, 0, 0, 0, 0, 0, 0, 0, 0, 0, 0, 0, 0, 0, 0, 0, 0, 0, 0, 0, 0, 0, 0, 0, 0, 0, 0, 0, 0, 0, 0, 0, 0, 0, 0, 0, 0, 0, 0, 0, 0, 0, 0, 0, 0, 0, 0, 0, 0, 0, 0, 0, 0, 0, 0, 0, 0, 0, 0, 0, 0, 0, 0, 0, 0, 0, 0, 0, 0, 0, 0, 0, 0, 0, 0, 0, 0, 0, 0, 0, 0, 0, 0, 0, 0, 0, 0, 0, 0, 0, 0, 0, 0, 0, 0, 0, 0, 0, 0, 0, 0, 0, 0, 0, 0, 0, 0, 0, 0, 0, 0, 0, 0, 0, 0, 0, 0, 0, 0, 0, 0, 0, 0, 0, 0, 0, 0, 0, 0, 0, 0, 0, 0, 0, 0, 0, 0, 0, 0, 0, 0, 0, 0, 0, 0, 0, 0, 0, 0, 0, 0, 0, 0, 0, 0, 0, 0, 0, 0, 0, 0, 0, 0, 0, 0, 0, 0, 0, 0, 0, 0, 0, 0, 0, 0, 0, 0, 0, 0, 0, 0, 0, 0, 0, 0, 0, 0, 0, 0, 0, 0, 0, 0, 0, 0, 0, 0, 0, 0, 0, 0, 0, 0, 0, 0, 0, 0, 0, 0, 0, 0, 0, 0, 0, 0, 0, 0, 0, 0, 0, 0, 0, 0, 0, 0, 0, 0, 0, 0, 0, 0, 0, 0, 0, 0, 0, 0, 0, 0, 0, 0, 0, 0, 0, 0, 0, 0, 0, 0, 0, 0, 0, 0, 0, 0, 0, 0, 0, 0, 0, 0, 0, 0, 0, 0, 0, 0, 0, 0, 0, 0, 0, 0, 0, 0, 0, 0, 0, 0, 0, 0, 0, 0, 0, 0, 0, 0, 0, 0, 0, 0, 0, 0, 0, 0, 0, 0, 0, 0, 0, 0, 0, 0, 0, 0, 0, 0, 0, 0, 0, 0, 0, 0, 0, 0, 0, 0, 0, 0, 0, 0, 0, 0, 0, 0, 0, 0, 0, 0, 0, 0, 0, 0, 0, 0, 0, 0, 0, 0, 0, 0, 0, 0, 0, 0, 0, 0, 0, 0, 0, 0, 0, 0, 0, 0, 0, 0, 0, 0, 0, 0, 0, 0, 0, 0, 0, 0, 0, 0, 0, 0, 0, 0, 0, 0, 0, 0, 0, 0, 0, 0, 0, 0, 0, 0, 0, 0, 0, 0, 0, 0, 0, 0, 0, 0]\n"
     ]
    }
   ],
   "source": [
    "print('첫번째 샘플의 어텐션 마스크', train_encodings[0].attention_mask)"
   ]
  },
  {
   "cell_type": "code",
   "execution_count": null,
   "metadata": {
    "id": "CBi_gkfJmz8a"
   },
   "outputs": [],
   "source": [
    "def add_token_positions(encodings, answers):\n",
    "    start_positions = []\n",
    "    end_positions = []\n",
    "    deleting_list = []\n",
    "\n",
    "    for i in tqdm(range(len(answers))):\n",
    "        start_positions.append(encodings.char_to_token(i, answers[i]['answer_start']))\n",
    "        end_positions.append(encodings.char_to_token(i, answers[i]['answer_end'] - 1))\n",
    "\n",
    "        # 시작 인덱스가 비정상인 경우\n",
    "        if start_positions[-1] is None:\n",
    "            start_positions[-1] = tokenizer.model_max_length\n",
    "            deleting_list.append(i)\n",
    "\n",
    "        # 종료 인덱스가 비정상인 경우\n",
    "        if end_positions[-1] is None:\n",
    "            end_positions[-1] = tokenizer.model_max_length\n",
    "            if i not in deleting_list:\n",
    "              deleting_list.append(i)\n",
    "\n",
    "    encodings.update({'start_positions': start_positions, 'end_positions': end_positions})\n",
    "    return deleting_list"
   ]
  },
  {
   "cell_type": "code",
   "execution_count": null,
   "metadata": {
    "colab": {
     "base_uri": "https://localhost:8080/"
    },
    "id": "1jTSl_b-nKrK",
    "outputId": "baa9b0a3-8aea-467a-b842-aedeaa7a3fa3"
   },
   "outputs": [
    {
     "name": "stderr",
     "output_type": "stream",
     "text": [
      "100%|██████████| 60407/60407 [00:00<00:00, 216908.99it/s]\n",
      "100%|██████████| 5774/5774 [00:00<00:00, 206507.08it/s]\n"
     ]
    }
   ],
   "source": [
    "deleting_list_for_train = add_token_positions(train_encodings, train_answers)\n",
    "deleting_list_for_test = add_token_positions(val_encodings, val_answers)"
   ]
  },
  {
   "cell_type": "code",
   "execution_count": null,
   "metadata": {
    "colab": {
     "base_uri": "https://localhost:8080/"
    },
    "id": "MfaJEZN5nqAy",
    "outputId": "caf97304-88e4-466f-cd1f-1a3ed90a78a1"
   },
   "outputs": [
    {
     "name": "stdout",
     "output_type": "stream",
     "text": [
      "삭제 예정인 훈련 샘플 : [13996]\n",
      "삭제 예정인 테스트 샘플 : []\n"
     ]
    }
   ],
   "source": [
    "print('삭제 예정인 훈련 샘플 :', deleting_list_for_train)\n",
    "print('삭제 예정인 테스트 샘플 :', deleting_list_for_test)"
   ]
  },
  {
   "cell_type": "markdown",
   "metadata": {
    "id": "igBk93QL6KZP"
   },
   "source": [
    "유일하게 인덱스가 비정상으로 추출된 샘플 데이터인 13996 데이터를 봄."
   ]
  },
  {
   "cell_type": "code",
   "execution_count": null,
   "metadata": {
    "colab": {
     "base_uri": "https://localhost:8080/"
    },
    "id": "lEsAdxPx51GZ",
    "outputId": "5d55e1f1-f53a-451b-f699-e148aa51c9d8"
   },
   "outputs": [
    {
     "name": "stdout",
     "output_type": "stream",
     "text": [
      "이 영화 제작과는 별개로, 1990년대 중반에, 월트 디즈니 컴퍼니가 야마토의 영어 리메이크 버전인 스타 블레이저의 저작권을 사들였었는데 영화로 제작하지는 못했었다. TBS의 영화 제작을 담당하는 TBS 필름스는 2005년경부터 실사판을 계획하고 있었다. 2009년 7월 17일, 원래 '우주전함 야마토' 텔레비전 시리즈의 제작자이자 스태프인 이시구로 노보루‎는 그의 오타콘 패널에서 우주전함 야마토의 실사영화 버전을 개발 중임을 밝혔다. \"꿈의 프로젝트\"라 불리며 2010년 12월에 개봉 계획이고 22억 엔의 제작비인 이 프로젝트는, 《리터너》와 《올웨이즈 3번가의 석양》 시리즈로 잘 알려진 야마자키 다카시 감독이 맡기로 했다. 야마토는 개봉 전부터 어마어마한 제작비로 일본 영화계에 화두가 되었다.\n"
     ]
    }
   ],
   "source": [
    "print(train_contexts[13996])"
   ]
  },
  {
   "cell_type": "code",
   "execution_count": null,
   "metadata": {
    "colab": {
     "base_uri": "https://localhost:8080/"
    },
    "id": "P8Spea0p56Hg",
    "outputId": "59e97f56-429f-4e21-9a79-85afd6884490"
   },
   "outputs": [
    {
     "name": "stdout",
     "output_type": "stream",
     "text": [
      "711번 샘플의 기존 정답 : {'text': '이시구로 노보루\\u200e', 'answer_start': 192, 'answer_end': 201}\n"
     ]
    }
   ],
   "source": [
    "print('711번 샘플의 기존 정답 :', train_answers[13996])"
   ]
  },
  {
   "cell_type": "code",
   "execution_count": null,
   "metadata": {
    "colab": {
     "base_uri": "https://localhost:8080/",
     "height": 35
    },
    "id": "saXmc_7g6Q7o",
    "outputId": "b1b6ba98-cee2-444e-c497-a7093059cacd"
   },
   "outputs": [
    {
     "data": {
      "application/vnd.google.colaboratory.intrinsic+json": {
       "type": "string"
      },
      "text/plain": [
       "'이시구로 노보루\\u200e는 그의 오타콘 '"
      ]
     },
     "execution_count": 33,
     "metadata": {},
     "output_type": "execute_result"
    }
   ],
   "source": [
    "train_contexts[13996][192:210]"
   ]
  },
  {
   "cell_type": "code",
   "execution_count": null,
   "metadata": {
    "colab": {
     "base_uri": "https://localhost:8080/"
    },
    "id": "S3nWjo5X6sRI",
    "outputId": "99dfa3da-4a03-4f5a-a087-fc0ea3bd78c4"
   },
   "outputs": [
    {
     "name": "stdout",
     "output_type": "stream",
     "text": [
      "시작 인덱스 : 97\n",
      "종료 인덱스 : 4096\n"
     ]
    }
   ],
   "source": [
    "print('시작 인덱스 :', train_encodings['start_positions'][13996])\n",
    "print('종료 인덱스 :', train_encodings['end_positions'][13996])"
   ]
  },
  {
   "cell_type": "markdown",
   "metadata": {
    "id": "_wiKR9N06IV4"
   },
   "source": [
    "노이즈가 있어 인덱스를 제대로 추출하지 못한 것으로 추정됨. 일단 무시하고 진행."
   ]
  },
  {
   "cell_type": "code",
   "execution_count": null,
   "metadata": {
    "id": "DOMeaI-pnxnS"
   },
   "outputs": [],
   "source": [
    "def delete_samples(encodings, deleting_list):\n",
    "  input_ids = np.delete(np.array(encodings['input_ids']), deleting_list, axis=0)\n",
    "  attention_masks = np.delete(np.array(encodings['attention_mask']), deleting_list, axis=0)\n",
    "  start_positions = np.delete(np.array(encodings['start_positions']), deleting_list, axis=0)\n",
    "  end_positions = np.delete(np.array(encodings['end_positions']), deleting_list, axis=0)\n",
    "\n",
    "  X_data = [input_ids, attention_masks]\n",
    "  y_data = [start_positions, end_positions]\n",
    "\n",
    "  return X_data, y_data"
   ]
  },
  {
   "cell_type": "code",
   "execution_count": null,
   "metadata": {
    "id": "-Vm7xymqoR76"
   },
   "outputs": [],
   "source": [
    "X_train, y_train = delete_samples(train_encodings, deleting_list_for_train)\n",
    "X_test, y_test = delete_samples(val_encodings, deleting_list_for_test)"
   ]
  },
  {
   "cell_type": "code",
   "execution_count": null,
   "metadata": {
    "colab": {
     "base_uri": "https://localhost:8080/"
    },
    "id": "Lmb9E6bv5Qvg",
    "outputId": "abbd8801-eae5-42e0-83f8-2c9bb5114a87"
   },
   "outputs": [
    {
     "name": "stdout",
     "output_type": "stream",
     "text": [
      "-------------삭제 전-------------\n",
      "훈련 데이터의 샘플의 개수 : 60407\n",
      "테스트 데이터의 샘플의 개수 : 5774\n",
      "-------------삭제 후-------------\n",
      "훈련 데이터의 샘플의 개수 : 60406\n",
      "테스트 데이터의 샘플의 개수 : 5774\n"
     ]
    }
   ],
   "source": [
    "print('-------------삭제 전-------------')\n",
    "print('훈련 데이터의 샘플의 개수 :', len(train_contexts))\n",
    "print('테스트 데이터의 샘플의 개수 :', len(val_contexts))\n",
    "print('-------------삭제 후-------------')\n",
    "print('훈련 데이터의 샘플의 개수 :', len(X_train[0]))\n",
    "print('테스트 데이터의 샘플의 개수 :', len(X_test[0]))"
   ]
  },
  {
   "cell_type": "code",
   "execution_count": null,
   "metadata": {
    "colab": {
     "base_uri": "https://localhost:8080/"
    },
    "id": "oR1EuHL707dl",
    "outputId": "16011d16-fd12-483e-cca0-3856a59526e7"
   },
   "outputs": [
    {
     "data": {
      "text/plain": [
       "(60406, 4096)"
      ]
     },
     "execution_count": 25,
     "metadata": {},
     "output_type": "execute_result"
    }
   ],
   "source": [
    "X_train[0].shape"
   ]
  },
  {
   "cell_type": "code",
   "execution_count": null,
   "metadata": {
    "id": "ld010mlho2S6"
   },
   "outputs": [],
   "source": [
    "def get_text_data_by_idx(idx):\n",
    "  print(tokenizer.decode(X_train[0][idx]))\n",
    "  answer_encoded = X_train[0][idx][y_train[0][idx]:y_train[1][idx]+1]\n",
    "  print(tokenizer.decode(answer_encoded))"
   ]
  },
  {
   "cell_type": "code",
   "execution_count": null,
   "metadata": {
    "colab": {
     "base_uri": "https://localhost:8080/"
    },
    "id": "VIeTV7g2pbK_",
    "outputId": "08f16ede-7c12-47f9-b8a4-0883efbaaa87"
   },
   "outputs": [
    {
     "name": "stdout",
     "output_type": "stream",
     "text": [
      "[CLS] 1839년 바그너는 괴테의 파우스트을 처음 읽고 그 내용에 마음이 끌려 이를 소재로 해서 하나의 교향곡을 쓰려는 뜻을 갖는다. 이 시기 바그너는 1838년에 빛 독촉으로 산전수전을 다 [UNK] 상황이라 좌절과 실망에 가득했으며 메피스토펠레스를 만나는 파우스트의 심경에 공감했다고 한다. 또한 파리에서 아브네크의 지휘로 파리 음악원 관현악단이 연주하는 베토벤의 교향곡 9번을 듣고 깊은 감명을 받았는데, 이것이 이듬해 1월에 파우스트의 서곡으로 쓰여진 이 작품에 조금이라도 영향을 끼쳤으리라는 것은 의심할 여지가 없다. 여기의 라단조 조성의 경우에도 그의 전기에 적혀 있는 것처럼 단순한 정신적 피로나 실의가 반영된 것이 아니라 베토벤의 합창교향곡 조성의 영향을 받은 것을 볼 수 있다. 그렇게 교향곡 작곡을 1839년부터 40년에 걸쳐 파리에서 착수했으나 1악장을 쓴 뒤에 중단했다. 또한 작품의 완성과 동시에 그는 이 서곡 ( 1악장 ) 을 파리 음악원의 연주회에서 연주할 파트보까지 준비하였으나, 실제로는 이루어지지는 않았다. 결국 초연은 4년 반이 지난 후에 드레스덴에서 연주되었고 재연도 이루어졌지만, 이후에 그대로 방치되고 말았다. 그 사이에 그는 리엔치와 방황하는 네덜란드인을 완성하고 탄호이저에도 착수하는 등 분주한 시간을 보냈는데, 그런 바쁜 생활이 이 곡을 잊게 한 것이 아닌가 하는 의견도 있다. [SEP] 바그너는 괴테의 파우스트를 읽고 무엇을 쓰고자 했는가? [SEP] [PAD] [PAD] [PAD] [PAD] [PAD] [PAD] [PAD] [PAD] [PAD] [PAD] [PAD] [PAD] [PAD] [PAD] [PAD] [PAD] [PAD] [PAD] [PAD] [PAD] [PAD] [PAD] [PAD] [PAD] [PAD] [PAD] [PAD] [PAD] [PAD] [PAD] [PAD] [PAD] [PAD] [PAD] [PAD] [PAD] [PAD] [PAD] [PAD] [PAD] [PAD] [PAD] [PAD] [PAD] [PAD] [PAD] [PAD] [PAD] [PAD] [PAD] [PAD] [PAD] [PAD] [PAD] [PAD] [PAD] [PAD] [PAD] [PAD] [PAD] [PAD] [PAD] [PAD] [PAD] [PAD] [PAD] [PAD] [PAD] [PAD] [PAD] [PAD] [PAD] [PAD] [PAD] [PAD] [PAD] [PAD] [PAD] [PAD] [PAD] [PAD] [PAD] [PAD] [PAD] [PAD] [PAD] [PAD] [PAD] [PAD] [PAD] [PAD] [PAD] [PAD] [PAD] [PAD] [PAD] [PAD] [PAD] [PAD] [PAD] [PAD] [PAD] [PAD] [PAD] [PAD] [PAD] [PAD] [PAD] [PAD] [PAD] [PAD] [PAD] [PAD] [PAD] [PAD] [PAD] [PAD] [PAD] [PAD] [PAD] [PAD] [PAD] [PAD] [PAD] [PAD] [PAD] [PAD] [PAD] [PAD] [PAD] [PAD] [PAD] [PAD] [PAD] [PAD] [PAD] [PAD] [PAD] [PAD] [PAD] [PAD] [PAD] [PAD] [PAD] [PAD] [PAD] [PAD] [PAD] [PAD] [PAD] [PAD] [PAD] [PAD] [PAD] [PAD] [PAD] [PAD] [PAD] [PAD] [PAD] [PAD] [PAD] [PAD] [PAD] [PAD] [PAD] [PAD] [PAD] [PAD] [PAD] [PAD] [PAD] [PAD] [PAD] [PAD] [PAD] [PAD] [PAD] [PAD] [PAD] [PAD] [PAD] [PAD] [PAD] [PAD] [PAD] [PAD] [PAD] [PAD] [PAD] [PAD] [PAD] [PAD] [PAD] [PAD] [PAD] [PAD] [PAD] [PAD] [PAD] [PAD] [PAD] [PAD] [PAD] [PAD] [PAD] [PAD] [PAD] [PAD] [PAD] [PAD] [PAD] [PAD] [PAD] [PAD] [PAD] [PAD] [PAD] [PAD] [PAD] [PAD] [PAD] [PAD] [PAD] [PAD] [PAD] [PAD] [PAD] [PAD] [PAD] [PAD] [PAD] [PAD] [PAD] [PAD] [PAD] [PAD] [PAD] [PAD] [PAD] [PAD] [PAD] [PAD] [PAD] [PAD] [PAD] [PAD] [PAD] [PAD] [PAD] [PAD] [PAD] [PAD] [PAD] [PAD] [PAD] [PAD] [PAD] [PAD] [PAD] [PAD] [PAD] [PAD] [PAD] [PAD] [PAD] [PAD] [PAD] [PAD] [PAD] [PAD] [PAD] [PAD] [PAD] [PAD] [PAD] [PAD] [PAD] [PAD] [PAD] [PAD] [PAD] [PAD] [PAD] [PAD] [PAD] [PAD] [PAD] [PAD] [PAD] [PAD] [PAD] [PAD] [PAD] [PAD] [PAD] [PAD] [PAD] [PAD] [PAD] [PAD] [PAD] [PAD] [PAD] [PAD] [PAD] [PAD] [PAD] [PAD] [PAD] [PAD] [PAD] [PAD] [PAD] [PAD] [PAD] [PAD] [PAD] [PAD] [PAD] [PAD] [PAD] [PAD] [PAD] [PAD] [PAD] [PAD] [PAD] [PAD] [PAD] [PAD] [PAD] [PAD] [PAD] [PAD] [PAD] [PAD] [PAD] [PAD] [PAD] [PAD] [PAD] [PAD] [PAD] [PAD] [PAD] [PAD] [PAD] [PAD] [PAD] [PAD] [PAD] [PAD] [PAD] [PAD] [PAD] [PAD] [PAD] [PAD] [PAD] [PAD] [PAD] [PAD] [PAD] [PAD] [PAD] [PAD] [PAD] [PAD] [PAD] [PAD] [PAD] [PAD] [PAD] [PAD] [PAD] [PAD] [PAD] [PAD] [PAD] [PAD] [PAD] [PAD] [PAD] [PAD] [PAD] [PAD] [PAD] [PAD] [PAD] [PAD] [PAD] [PAD] [PAD] [PAD] [PAD] [PAD] [PAD] [PAD] [PAD] [PAD] [PAD] [PAD] [PAD] [PAD] [PAD] [PAD] [PAD] [PAD] [PAD] [PAD] [PAD] [PAD] [PAD] [PAD] [PAD] [PAD] [PAD] [PAD] [PAD] [PAD] [PAD] [PAD] [PAD] [PAD] [PAD] [PAD] [PAD] [PAD] [PAD] [PAD] [PAD] [PAD] [PAD] [PAD] [PAD] [PAD] [PAD] [PAD] [PAD] [PAD] [PAD] [PAD] [PAD] [PAD] [PAD] [PAD] [PAD] [PAD] [PAD] [PAD] [PAD] [PAD] [PAD] [PAD] [PAD] [PAD] [PAD] [PAD] [PAD] [PAD] [PAD] [PAD] [PAD] [PAD] [PAD] [PAD] [PAD] [PAD] [PAD] [PAD] [PAD] [PAD] [PAD] [PAD] [PAD] [PAD] [PAD] [PAD] [PAD] [PAD] [PAD] [PAD] [PAD] [PAD] [PAD] [PAD] [PAD] [PAD] [PAD] [PAD] [PAD] [PAD] [PAD] [PAD] [PAD] [PAD] [PAD] [PAD] [PAD] [PAD] [PAD] [PAD] [PAD] [PAD] [PAD] [PAD] [PAD] [PAD] [PAD] [PAD] [PAD] [PAD] [PAD] [PAD] [PAD] [PAD] [PAD] [PAD] [PAD] [PAD] [PAD] [PAD] [PAD] [PAD] [PAD] [PAD] [PAD] [PAD] [PAD] [PAD] [PAD] [PAD] [PAD] [PAD] [PAD] [PAD] [PAD] [PAD] [PAD] [PAD] [PAD] [PAD] [PAD] [PAD] [PAD] [PAD] [PAD] [PAD] [PAD] [PAD] [PAD] [PAD] [PAD] [PAD] [PAD] [PAD] [PAD] [PAD] [PAD] [PAD] [PAD] [PAD] [PAD] [PAD] [PAD] [PAD] [PAD] [PAD] [PAD] [PAD] [PAD] [PAD] [PAD] [PAD] [PAD] [PAD] [PAD] [PAD] [PAD] [PAD] [PAD] [PAD] [PAD] [PAD] [PAD] [PAD] [PAD] [PAD] [PAD] [PAD] [PAD] [PAD] [PAD] [PAD] [PAD] [PAD] [PAD] [PAD] [PAD] [PAD] [PAD] [PAD] [PAD] [PAD] [PAD] [PAD] [PAD] [PAD] [PAD] [PAD] [PAD] [PAD] [PAD] [PAD] [PAD] [PAD] [PAD] [PAD] [PAD] [PAD] [PAD] [PAD] [PAD] [PAD] [PAD] [PAD] [PAD] [PAD] [PAD] [PAD] [PAD] [PAD] [PAD] [PAD] [PAD] [PAD] [PAD] [PAD] [PAD] [PAD] [PAD] [PAD] [PAD] [PAD] [PAD] [PAD] [PAD] [PAD] [PAD] [PAD] [PAD] [PAD] [PAD] [PAD] [PAD] [PAD] [PAD] [PAD] [PAD] [PAD] [PAD] [PAD] [PAD] [PAD] [PAD] [PAD] [PAD] [PAD] [PAD] [PAD] [PAD] [PAD] [PAD] [PAD] [PAD] [PAD] [PAD] [PAD] [PAD] [PAD] [PAD] [PAD] [PAD] [PAD] [PAD] [PAD] [PAD] [PAD] [PAD] [PAD] [PAD] [PAD] [PAD] [PAD] [PAD] [PAD] [PAD] [PAD] [PAD] [PAD] [PAD] [PAD] [PAD] [PAD] [PAD] [PAD] [PAD] [PAD] [PAD] [PAD] [PAD] [PAD] [PAD] [PAD] [PAD] [PAD] [PAD] [PAD] [PAD] [PAD] [PAD] [PAD] [PAD] [PAD] [PAD] [PAD] [PAD] [PAD] [PAD] [PAD] [PAD] [PAD] [PAD] [PAD] [PAD] [PAD] [PAD] [PAD] [PAD] [PAD] [PAD] [PAD] [PAD] [PAD] [PAD] [PAD] [PAD] [PAD] [PAD] [PAD] [PAD] [PAD] [PAD] [PAD] [PAD] [PAD] [PAD] [PAD] [PAD] [PAD] [PAD] [PAD] [PAD] [PAD] [PAD] [PAD] [PAD] [PAD] [PAD] [PAD] [PAD] [PAD] [PAD] [PAD] [PAD] [PAD] [PAD] [PAD] [PAD] [PAD] [PAD] [PAD] [PAD] [PAD] [PAD] [PAD] [PAD] [PAD] [PAD] [PAD] [PAD] [PAD] [PAD] [PAD] [PAD] [PAD] [PAD] [PAD] [PAD] [PAD] [PAD] [PAD] [PAD] [PAD] [PAD] [PAD] [PAD] [PAD] [PAD] [PAD] [PAD] [PAD] [PAD] [PAD] [PAD] [PAD] [PAD] [PAD] [PAD] [PAD] [PAD] [PAD] [PAD] [PAD] [PAD] [PAD] [PAD] [PAD] [PAD] [PAD] [PAD] [PAD] [PAD] [PAD] [PAD] [PAD] [PAD] [PAD] [PAD] [PAD] [PAD] [PAD] [PAD] [PAD] [PAD] [PAD] [PAD] [PAD] [PAD] [PAD] [PAD] [PAD] [PAD] [PAD] [PAD] [PAD] [PAD] [PAD] [PAD] [PAD] [PAD] [PAD] [PAD] [PAD] [PAD] [PAD] [PAD] [PAD] [PAD] [PAD] [PAD] [PAD] [PAD] [PAD] [PAD] [PAD] [PAD] [PAD] [PAD] [PAD] [PAD] [PAD] [PAD] [PAD] [PAD] [PAD] [PAD] [PAD] [PAD] [PAD] [PAD] [PAD] [PAD] [PAD] [PAD] [PAD] [PAD] [PAD] [PAD] [PAD] [PAD] [PAD] [PAD] [PAD] [PAD] [PAD] [PAD] [PAD] [PAD] [PAD] [PAD] [PAD] [PAD] [PAD] [PAD] [PAD] [PAD] [PAD] [PAD] [PAD] [PAD] [PAD] [PAD] [PAD] [PAD] [PAD] [PAD] [PAD] [PAD] [PAD] [PAD] [PAD] [PAD] [PAD] [PAD] [PAD] [PAD] [PAD] [PAD] [PAD] [PAD] [PAD] [PAD] [PAD] [PAD] [PAD] [PAD] [PAD] [PAD] [PAD] [PAD] [PAD] [PAD] [PAD] [PAD] [PAD] [PAD] [PAD] [PAD] [PAD] [PAD] [PAD] [PAD] [PAD] [PAD] [PAD] [PAD] [PAD] [PAD] [PAD] [PAD] [PAD] [PAD] [PAD] [PAD] [PAD] [PAD] [PAD] [PAD] [PAD] [PAD] [PAD] [PAD] [PAD] [PAD] [PAD] [PAD] [PAD] [PAD] [PAD] [PAD] [PAD] [PAD] [PAD] [PAD] [PAD] [PAD] [PAD] [PAD] [PAD] [PAD] [PAD] [PAD] [PAD] [PAD] [PAD] [PAD] [PAD] [PAD] [PAD] [PAD] [PAD] [PAD] [PAD] [PAD] [PAD] [PAD] [PAD] [PAD] [PAD] [PAD] [PAD] [PAD] [PAD] [PAD] [PAD] [PAD] [PAD] [PAD] [PAD] [PAD] [PAD] [PAD] [PAD] [PAD] [PAD] [PAD] [PAD] [PAD] [PAD] [PAD] [PAD] [PAD] [PAD] [PAD] [PAD] [PAD] [PAD] [PAD] [PAD] [PAD] [PAD] [PAD] [PAD] [PAD] [PAD] [PAD] [PAD] [PAD] [PAD] [PAD] [PAD] [PAD] [PAD] [PAD] [PAD] [PAD] [PAD] [PAD] [PAD] [PAD] [PAD] [PAD] [PAD] [PAD] [PAD] [PAD] [PAD] [PAD] [PAD] [PAD] [PAD] [PAD] [PAD] [PAD] [PAD] [PAD] [PAD] [PAD] [PAD] [PAD] [PAD] [PAD] [PAD] [PAD] [PAD] [PAD] [PAD] [PAD] [PAD] [PAD] [PAD] [PAD] [PAD] [PAD] [PAD] [PAD] [PAD] [PAD] [PAD] [PAD] [PAD] [PAD] [PAD] [PAD] [PAD] [PAD] [PAD] [PAD] [PAD] [PAD] [PAD] [PAD] [PAD] [PAD] [PAD] [PAD] [PAD] [PAD] [PAD] [PAD] [PAD] [PAD] [PAD] [PAD] [PAD] [PAD] [PAD] [PAD] [PAD] [PAD] [PAD] [PAD] [PAD] [PAD] [PAD] [PAD] [PAD] [PAD] [PAD] [PAD] [PAD] [PAD] [PAD] [PAD] [PAD] [PAD] [PAD] [PAD] [PAD] [PAD] [PAD] [PAD] [PAD] [PAD] [PAD] [PAD] [PAD] [PAD] [PAD] [PAD] [PAD] [PAD] [PAD] [PAD] [PAD] [PAD] [PAD] [PAD] [PAD] [PAD] [PAD] [PAD] [PAD] [PAD] [PAD] [PAD] [PAD] [PAD] [PAD] [PAD] [PAD] [PAD] [PAD] [PAD] [PAD] [PAD] [PAD] [PAD] [PAD] [PAD] [PAD] [PAD] [PAD] [PAD] [PAD] [PAD] [PAD] [PAD] [PAD] [PAD] [PAD] [PAD] [PAD] [PAD] [PAD] [PAD] [PAD] [PAD] [PAD] [PAD] [PAD] [PAD] [PAD] [PAD] [PAD] [PAD] [PAD] [PAD] [PAD] [PAD] [PAD] [PAD] [PAD] [PAD] [PAD] [PAD] [PAD] [PAD] [PAD] [PAD] [PAD] [PAD] [PAD] [PAD] [PAD] [PAD] [PAD] [PAD] [PAD] [PAD] [PAD] [PAD] [PAD] [PAD] [PAD] [PAD] [PAD] [PAD] [PAD] [PAD] [PAD] [PAD] [PAD] [PAD] [PAD] [PAD] [PAD] [PAD] [PAD] [PAD] [PAD] [PAD] [PAD] [PAD] [PAD] [PAD] [PAD] [PAD] [PAD] [PAD] [PAD] [PAD] [PAD] [PAD] [PAD] [PAD] [PAD] [PAD] [PAD] [PAD] [PAD] [PAD] [PAD] [PAD] [PAD] [PAD] [PAD] [PAD] [PAD] [PAD] [PAD] [PAD] [PAD] [PAD] [PAD] [PAD] [PAD] [PAD] [PAD] [PAD] [PAD] [PAD] [PAD] [PAD] [PAD] [PAD] [PAD] [PAD] [PAD] [PAD] [PAD] [PAD] [PAD] [PAD] [PAD] [PAD] [PAD] [PAD] [PAD] [PAD] [PAD] [PAD] [PAD] [PAD] [PAD] [PAD] [PAD] [PAD] [PAD] [PAD] [PAD] [PAD] [PAD] [PAD] [PAD] [PAD] [PAD] [PAD] [PAD] [PAD] [PAD] [PAD] [PAD] [PAD] [PAD] [PAD] [PAD] [PAD] [PAD] [PAD] [PAD] [PAD] [PAD] [PAD] [PAD] [PAD] [PAD] [PAD] [PAD] [PAD] [PAD] [PAD] [PAD] [PAD] [PAD] [PAD] [PAD] [PAD] [PAD] [PAD] [PAD] [PAD] [PAD] [PAD] [PAD] [PAD] [PAD] [PAD] [PAD] [PAD] [PAD] [PAD] [PAD] [PAD] [PAD] [PAD] [PAD] [PAD] [PAD] [PAD] [PAD] [PAD] [PAD] [PAD] [PAD] [PAD] [PAD] [PAD] [PAD] [PAD] [PAD] [PAD] [PAD] [PAD] [PAD] [PAD] [PAD] [PAD] [PAD] [PAD] [PAD] [PAD] [PAD] [PAD] [PAD] [PAD] [PAD] [PAD] [PAD] [PAD] [PAD] [PAD] [PAD] [PAD] [PAD] [PAD] [PAD] [PAD] [PAD] [PAD] [PAD] [PAD] [PAD] [PAD] [PAD] [PAD] [PAD] [PAD] [PAD] [PAD] [PAD] [PAD] [PAD] [PAD] [PAD] [PAD] [PAD] [PAD] [PAD] [PAD] [PAD] [PAD] [PAD] [PAD] [PAD] [PAD] [PAD] [PAD] [PAD] [PAD] [PAD] [PAD] [PAD] [PAD] [PAD] [PAD] [PAD] [PAD] [PAD] [PAD] [PAD] [PAD] [PAD] [PAD] [PAD] [PAD] [PAD] [PAD] [PAD] [PAD] [PAD] [PAD] [PAD] [PAD] [PAD] [PAD] [PAD] [PAD] [PAD] [PAD] [PAD] [PAD] [PAD] [PAD] [PAD] [PAD] [PAD] [PAD] [PAD] [PAD] [PAD] [PAD] [PAD] [PAD] [PAD] [PAD] [PAD] [PAD] [PAD] [PAD] [PAD] [PAD] [PAD] [PAD] [PAD] [PAD] [PAD] [PAD] [PAD] [PAD] [PAD] [PAD] [PAD] [PAD] [PAD] [PAD] [PAD] [PAD] [PAD] [PAD] [PAD] [PAD] [PAD] [PAD] [PAD] [PAD] [PAD] [PAD] [PAD] [PAD] [PAD] [PAD] [PAD] [PAD] [PAD] [PAD] [PAD] [PAD] [PAD] [PAD] [PAD] [PAD] [PAD] [PAD] [PAD] [PAD] [PAD] [PAD] [PAD] [PAD] [PAD] [PAD] [PAD] [PAD] [PAD] [PAD] [PAD] [PAD] [PAD] [PAD] [PAD] [PAD] [PAD] [PAD] [PAD] [PAD] [PAD] [PAD] [PAD] [PAD] [PAD] [PAD] [PAD] [PAD] [PAD] [PAD] [PAD] [PAD] [PAD] [PAD] [PAD] [PAD] [PAD] [PAD] [PAD] [PAD] [PAD] [PAD] [PAD] [PAD] [PAD] [PAD] [PAD] [PAD] [PAD] [PAD] [PAD] [PAD] [PAD] [PAD] [PAD] [PAD] [PAD] [PAD] [PAD] [PAD] [PAD] [PAD] [PAD] [PAD] [PAD] [PAD] [PAD] [PAD] [PAD] [PAD] [PAD] [PAD] [PAD] [PAD] [PAD] [PAD] [PAD] [PAD] [PAD] [PAD] [PAD] [PAD] [PAD] [PAD] [PAD] [PAD] [PAD] [PAD] [PAD] [PAD] [PAD] [PAD] [PAD] [PAD] [PAD] [PAD] [PAD] [PAD] [PAD] [PAD] [PAD] [PAD] [PAD] [PAD] [PAD] [PAD] [PAD] [PAD] [PAD] [PAD] [PAD] [PAD] [PAD] [PAD] [PAD] [PAD] [PAD] [PAD] [PAD] [PAD] [PAD] [PAD] [PAD] [PAD] [PAD] [PAD] [PAD] [PAD] [PAD] [PAD] [PAD] [PAD] [PAD] [PAD] [PAD] [PAD] [PAD] [PAD] [PAD] [PAD] [PAD] [PAD] [PAD] [PAD] [PAD] [PAD] [PAD] [PAD] [PAD] [PAD] [PAD] [PAD] [PAD] [PAD] [PAD] [PAD] [PAD] [PAD] [PAD] [PAD] [PAD] [PAD] [PAD] [PAD] [PAD] [PAD] [PAD] [PAD] [PAD] [PAD] [PAD] [PAD] [PAD] [PAD] [PAD] [PAD] [PAD] [PAD] [PAD] [PAD] [PAD] [PAD] [PAD] [PAD] [PAD] [PAD] [PAD] [PAD] [PAD] [PAD] [PAD] [PAD] [PAD] [PAD] [PAD] [PAD] [PAD] [PAD] [PAD] [PAD] [PAD] [PAD] [PAD] [PAD] [PAD] [PAD] [PAD] [PAD] [PAD] [PAD] [PAD] [PAD] [PAD] [PAD] [PAD] [PAD] [PAD] [PAD] [PAD] [PAD] [PAD] [PAD] [PAD] [PAD] [PAD] [PAD] [PAD] [PAD] [PAD] [PAD] [PAD] [PAD] [PAD] [PAD] [PAD] [PAD] [PAD] [PAD] [PAD] [PAD] [PAD] [PAD] [PAD] [PAD] [PAD] [PAD] [PAD] [PAD] [PAD] [PAD] [PAD] [PAD] [PAD] [PAD] [PAD] [PAD] [PAD] [PAD] [PAD] [PAD] [PAD] [PAD] [PAD] [PAD] [PAD] [PAD] [PAD] [PAD] [PAD] [PAD] [PAD] [PAD] [PAD] [PAD] [PAD] [PAD] [PAD] [PAD] [PAD] [PAD] [PAD] [PAD] [PAD] [PAD] [PAD] [PAD] [PAD] [PAD] [PAD] [PAD] [PAD] [PAD] [PAD] [PAD] [PAD] [PAD] [PAD] [PAD] [PAD] [PAD] [PAD] [PAD] [PAD] [PAD] [PAD] [PAD] [PAD] [PAD] [PAD] [PAD] [PAD] [PAD] [PAD] [PAD] [PAD] [PAD] [PAD] [PAD] [PAD] [PAD] [PAD] [PAD] [PAD] [PAD] [PAD] [PAD] [PAD] [PAD] [PAD] [PAD] [PAD] [PAD] [PAD] [PAD] [PAD] [PAD] [PAD] [PAD] [PAD] [PAD] [PAD] [PAD] [PAD] [PAD] [PAD] [PAD] [PAD] [PAD] [PAD] [PAD] [PAD] [PAD] [PAD] [PAD] [PAD] [PAD] [PAD] [PAD] [PAD] [PAD] [PAD] [PAD] [PAD] [PAD] [PAD] [PAD] [PAD] [PAD] [PAD] [PAD] [PAD] [PAD] [PAD] [PAD] [PAD] [PAD] [PAD] [PAD] [PAD] [PAD] [PAD] [PAD] [PAD] [PAD] [PAD] [PAD] [PAD] [PAD] [PAD] [PAD] [PAD] [PAD] [PAD] [PAD] [PAD] [PAD] [PAD] [PAD] [PAD] [PAD] [PAD] [PAD] [PAD] [PAD] [PAD] [PAD] [PAD] [PAD] [PAD] [PAD] [PAD] [PAD] [PAD] [PAD] [PAD] [PAD] [PAD] [PAD] [PAD] [PAD] [PAD] [PAD] [PAD] [PAD] [PAD] [PAD] [PAD] [PAD] [PAD] [PAD] [PAD] [PAD] [PAD] [PAD] [PAD] [PAD] [PAD] [PAD] [PAD] [PAD] [PAD] [PAD] [PAD] [PAD] [PAD] [PAD] [PAD] [PAD] [PAD] [PAD] [PAD] [PAD] [PAD] [PAD] [PAD] [PAD] [PAD] [PAD] [PAD] [PAD] [PAD] [PAD] [PAD] [PAD] [PAD] [PAD] [PAD] [PAD] [PAD] [PAD] [PAD] [PAD] [PAD] [PAD] [PAD] [PAD] [PAD] [PAD] [PAD] [PAD] [PAD] [PAD] [PAD] [PAD] [PAD] [PAD] [PAD] [PAD] [PAD] [PAD] [PAD] [PAD] [PAD] [PAD] [PAD] [PAD] [PAD] [PAD] [PAD] [PAD] [PAD] [PAD] [PAD] [PAD] [PAD] [PAD] [PAD] [PAD] [PAD] [PAD] [PAD] [PAD] [PAD] [PAD] [PAD] [PAD] [PAD] [PAD] [PAD] [PAD] [PAD] [PAD] [PAD] [PAD] [PAD] [PAD] [PAD] [PAD] [PAD] [PAD] [PAD] [PAD] [PAD] [PAD] [PAD] [PAD] [PAD] [PAD] [PAD] [PAD] [PAD] [PAD] [PAD] [PAD] [PAD] [PAD] [PAD] [PAD] [PAD] [PAD] [PAD] [PAD] [PAD] [PAD] [PAD] [PAD] [PAD] [PAD] [PAD] [PAD] [PAD] [PAD] [PAD] [PAD] [PAD] [PAD] [PAD] [PAD] [PAD] [PAD] [PAD] [PAD] [PAD] [PAD] [PAD] [PAD] [PAD] [PAD] [PAD] [PAD] [PAD] [PAD] [PAD] [PAD] [PAD] [PAD] [PAD] [PAD] [PAD] [PAD] [PAD] [PAD] [PAD] [PAD] [PAD] [PAD] [PAD] [PAD] [PAD] [PAD] [PAD] [PAD] [PAD] [PAD] [PAD] [PAD] [PAD] [PAD] [PAD] [PAD] [PAD] [PAD] [PAD] [PAD] [PAD] [PAD] [PAD] [PAD] [PAD] [PAD] [PAD] [PAD] [PAD] [PAD] [PAD] [PAD] [PAD] [PAD] [PAD] [PAD] [PAD] [PAD] [PAD] [PAD] [PAD] [PAD] [PAD] [PAD] [PAD] [PAD] [PAD] [PAD] [PAD] [PAD] [PAD] [PAD] [PAD] [PAD] [PAD] [PAD] [PAD] [PAD] [PAD] [PAD] [PAD] [PAD] [PAD] [PAD] [PAD] [PAD] [PAD] [PAD] [PAD] [PAD] [PAD] [PAD] [PAD] [PAD] [PAD] [PAD] [PAD] [PAD] [PAD] [PAD] [PAD] [PAD] [PAD] [PAD] [PAD] [PAD] [PAD] [PAD] [PAD] [PAD] [PAD] [PAD] [PAD] [PAD] [PAD] [PAD] [PAD] [PAD] [PAD] [PAD] [PAD] [PAD] [PAD] [PAD] [PAD] [PAD] [PAD] [PAD] [PAD] [PAD] [PAD] [PAD] [PAD] [PAD] [PAD] [PAD] [PAD] [PAD] [PAD] [PAD] [PAD] [PAD] [PAD] [PAD] [PAD] [PAD] [PAD] [PAD] [PAD] [PAD] [PAD] [PAD] [PAD] [PAD] [PAD] [PAD] [PAD] [PAD] [PAD] [PAD] [PAD] [PAD] [PAD] [PAD] [PAD] [PAD] [PAD] [PAD] [PAD] [PAD] [PAD] [PAD] [PAD] [PAD] [PAD] [PAD] [PAD] [PAD] [PAD] [PAD] [PAD] [PAD] [PAD] [PAD] [PAD] [PAD] [PAD] [PAD] [PAD] [PAD] [PAD] [PAD] [PAD] [PAD] [PAD] [PAD] [PAD] [PAD] [PAD] [PAD] [PAD] [PAD] [PAD] [PAD] [PAD] [PAD] [PAD] [PAD] [PAD] [PAD] [PAD] [PAD] [PAD] [PAD] [PAD] [PAD] [PAD] [PAD] [PAD] [PAD] [PAD] [PAD] [PAD] [PAD] [PAD] [PAD] [PAD] [PAD] [PAD] [PAD] [PAD] [PAD] [PAD] [PAD] [PAD] [PAD] [PAD] [PAD] [PAD] [PAD] [PAD] [PAD] [PAD] [PAD] [PAD] [PAD] [PAD] [PAD] [PAD] [PAD] [PAD] [PAD] [PAD] [PAD] [PAD] [PAD] [PAD] [PAD] [PAD] [PAD] [PAD] [PAD] [PAD] [PAD] [PAD] [PAD] [PAD] [PAD] [PAD] [PAD] [PAD] [PAD] [PAD] [PAD] [PAD] [PAD] [PAD] [PAD] [PAD] [PAD] [PAD] [PAD] [PAD] [PAD] [PAD] [PAD] [PAD] [PAD] [PAD] [PAD] [PAD] [PAD] [PAD] [PAD] [PAD] [PAD] [PAD] [PAD] [PAD] [PAD] [PAD] [PAD] [PAD] [PAD] [PAD] [PAD] [PAD] [PAD] [PAD] [PAD] [PAD] [PAD] [PAD] [PAD] [PAD] [PAD] [PAD] [PAD] [PAD] [PAD] [PAD] [PAD] [PAD] [PAD] [PAD] [PAD] [PAD] [PAD] [PAD] [PAD] [PAD] [PAD] [PAD] [PAD] [PAD] [PAD] [PAD] [PAD] [PAD] [PAD] [PAD] [PAD] [PAD] [PAD] [PAD] [PAD] [PAD] [PAD] [PAD] [PAD] [PAD] [PAD] [PAD] [PAD] [PAD] [PAD] [PAD] [PAD] [PAD] [PAD] [PAD] [PAD] [PAD] [PAD] [PAD] [PAD] [PAD] [PAD] [PAD] [PAD] [PAD] [PAD] [PAD] [PAD] [PAD] [PAD] [PAD] [PAD] [PAD] [PAD] [PAD] [PAD] [PAD] [PAD] [PAD] [PAD] [PAD] [PAD] [PAD] [PAD] [PAD] [PAD] [PAD] [PAD] [PAD] [PAD] [PAD] [PAD] [PAD] [PAD] [PAD] [PAD] [PAD] [PAD] [PAD] [PAD] [PAD] [PAD] [PAD] [PAD] [PAD] [PAD] [PAD] [PAD] [PAD] [PAD] [PAD] [PAD] [PAD] [PAD] [PAD] [PAD] [PAD] [PAD] [PAD] [PAD] [PAD] [PAD] [PAD] [PAD] [PAD] [PAD] [PAD] [PAD] [PAD] [PAD] [PAD] [PAD] [PAD] [PAD] [PAD] [PAD] [PAD] [PAD] [PAD] [PAD] [PAD] [PAD] [PAD] [PAD] [PAD] [PAD] [PAD] [PAD] [PAD] [PAD] [PAD] [PAD] [PAD] [PAD] [PAD] [PAD] [PAD] [PAD] [PAD] [PAD] [PAD] [PAD] [PAD] [PAD] [PAD] [PAD] [PAD] [PAD] [PAD] [PAD] [PAD] [PAD] [PAD] [PAD] [PAD] [PAD] [PAD] [PAD] [PAD] [PAD] [PAD] [PAD] [PAD] [PAD] [PAD] [PAD] [PAD] [PAD] [PAD] [PAD] [PAD] [PAD] [PAD] [PAD] [PAD] [PAD] [PAD] [PAD] [PAD] [PAD] [PAD] [PAD] [PAD] [PAD] [PAD] [PAD] [PAD] [PAD] [PAD] [PAD] [PAD] [PAD] [PAD] [PAD] [PAD] [PAD] [PAD] [PAD] [PAD] [PAD] [PAD] [PAD] [PAD] [PAD] [PAD] [PAD] [PAD] [PAD] [PAD] [PAD] [PAD] [PAD] [PAD] [PAD] [PAD] [PAD] [PAD] [PAD] [PAD] [PAD] [PAD] [PAD] [PAD] [PAD] [PAD] [PAD] [PAD] [PAD] [PAD] [PAD] [PAD] [PAD] [PAD] [PAD] [PAD] [PAD] [PAD] [PAD] [PAD] [PAD] [PAD] [PAD] [PAD] [PAD] [PAD] [PAD] [PAD] [PAD] [PAD] [PAD] [PAD] [PAD] [PAD] [PAD] [PAD] [PAD] [PAD] [PAD] [PAD] [PAD] [PAD] [PAD] [PAD] [PAD] [PAD] [PAD] [PAD] [PAD] [PAD] [PAD] [PAD] [PAD] [PAD] [PAD] [PAD] [PAD] [PAD] [PAD] [PAD] [PAD] [PAD] [PAD] [PAD] [PAD] [PAD] [PAD] [PAD] [PAD] [PAD] [PAD] [PAD] [PAD] [PAD] [PAD] [PAD] [PAD] [PAD] [PAD] [PAD] [PAD] [PAD] [PAD] [PAD] [PAD] [PAD] [PAD] [PAD] [PAD] [PAD] [PAD] [PAD] [PAD] [PAD] [PAD] [PAD] [PAD] [PAD] [PAD] [PAD] [PAD] [PAD] [PAD] [PAD] [PAD] [PAD] [PAD] [PAD] [PAD] [PAD] [PAD] [PAD] [PAD] [PAD] [PAD] [PAD] [PAD] [PAD] [PAD] [PAD] [PAD] [PAD] [PAD] [PAD] [PAD] [PAD] [PAD] [PAD] [PAD] [PAD] [PAD] [PAD] [PAD] [PAD] [PAD] [PAD] [PAD] [PAD] [PAD] [PAD] [PAD] [PAD] [PAD] [PAD] [PAD] [PAD] [PAD] [PAD] [PAD] [PAD] [PAD] [PAD] [PAD] [PAD] [PAD] [PAD] [PAD] [PAD] [PAD] [PAD] [PAD] [PAD] [PAD] [PAD] [PAD] [PAD] [PAD] [PAD] [PAD] [PAD] [PAD] [PAD] [PAD] [PAD] [PAD] [PAD] [PAD] [PAD] [PAD] [PAD] [PAD] [PAD] [PAD] [PAD] [PAD] [PAD] [PAD] [PAD] [PAD] [PAD] [PAD] [PAD] [PAD] [PAD] [PAD] [PAD] [PAD] [PAD] [PAD] [PAD] [PAD] [PAD] [PAD] [PAD] [PAD] [PAD] [PAD] [PAD] [PAD] [PAD] [PAD] [PAD] [PAD] [PAD] [PAD] [PAD] [PAD] [PAD] [PAD] [PAD] [PAD] [PAD] [PAD] [PAD] [PAD] [PAD] [PAD] [PAD] [PAD] [PAD] [PAD] [PAD] [PAD] [PAD] [PAD] [PAD] [PAD] [PAD] [PAD] [PAD] [PAD] [PAD] [PAD] [PAD] [PAD] [PAD] [PAD] [PAD] [PAD] [PAD] [PAD] [PAD] [PAD] [PAD] [PAD] [PAD] [PAD] [PAD] [PAD] [PAD] [PAD] [PAD] [PAD] [PAD] [PAD] [PAD] [PAD] [PAD] [PAD] [PAD] [PAD] [PAD] [PAD] [PAD] [PAD] [PAD] [PAD] [PAD] [PAD] [PAD] [PAD] [PAD] [PAD] [PAD] [PAD] [PAD] [PAD] [PAD] [PAD] [PAD] [PAD] [PAD] [PAD] [PAD] [PAD] [PAD] [PAD] [PAD] [PAD] [PAD] [PAD] [PAD] [PAD] [PAD] [PAD] [PAD] [PAD] [PAD] [PAD] [PAD] [PAD] [PAD] [PAD] [PAD] [PAD] [PAD] [PAD] [PAD] [PAD] [PAD] [PAD] [PAD] [PAD] [PAD] [PAD] [PAD] [PAD] [PAD] [PAD] [PAD] [PAD] [PAD] [PAD] [PAD] [PAD] [PAD] [PAD] [PAD] [PAD] [PAD] [PAD] [PAD] [PAD] [PAD] [PAD] [PAD] [PAD] [PAD] [PAD] [PAD] [PAD] [PAD] [PAD] [PAD] [PAD] [PAD] [PAD] [PAD] [PAD] [PAD] [PAD] [PAD] [PAD] [PAD] [PAD] [PAD] [PAD] [PAD] [PAD] [PAD] [PAD] [PAD] [PAD] [PAD] [PAD] [PAD] [PAD] [PAD] [PAD] [PAD] [PAD] [PAD] [PAD] [PAD] [PAD] [PAD] [PAD] [PAD] [PAD] [PAD] [PAD] [PAD] [PAD] [PAD] [PAD] [PAD] [PAD] [PAD] [PAD] [PAD] [PAD] [PAD] [PAD] [PAD] [PAD] [PAD] [PAD] [PAD] [PAD] [PAD] [PAD] [PAD] [PAD] [PAD] [PAD] [PAD] [PAD] [PAD] [PAD] [PAD] [PAD] [PAD] [PAD] [PAD] [PAD] [PAD] [PAD] [PAD] [PAD] [PAD] [PAD] [PAD] [PAD] [PAD] [PAD] [PAD] [PAD] [PAD] [PAD] [PAD] [PAD] [PAD] [PAD] [PAD] [PAD] [PAD] [PAD] [PAD] [PAD] [PAD] [PAD] [PAD] [PAD] [PAD] [PAD] [PAD] [PAD] [PAD] [PAD] [PAD] [PAD] [PAD] [PAD] [PAD] [PAD] [PAD] [PAD] [PAD] [PAD] [PAD] [PAD] [PAD] [PAD] [PAD] [PAD] [PAD] [PAD] [PAD] [PAD] [PAD] [PAD] [PAD] [PAD] [PAD] [PAD] [PAD] [PAD] [PAD] [PAD] [PAD] [PAD] [PAD] [PAD] [PAD] [PAD] [PAD] [PAD] [PAD] [PAD] [PAD] [PAD] [PAD] [PAD] [PAD] [PAD] [PAD] [PAD] [PAD] [PAD] [PAD] [PAD] [PAD] [PAD] [PAD] [PAD] [PAD] [PAD] [PAD] [PAD] [PAD] [PAD] [PAD] [PAD] [PAD] [PAD] [PAD] [PAD] [PAD] [PAD] [PAD] [PAD] [PAD] [PAD] [PAD] [PAD] [PAD] [PAD] [PAD] [PAD] [PAD] [PAD] [PAD] [PAD] [PAD] [PAD] [PAD] [PAD] [PAD] [PAD] [PAD] [PAD] [PAD] [PAD] [PAD] [PAD] [PAD] [PAD] [PAD] [PAD] [PAD] [PAD] [PAD] [PAD] [PAD] [PAD] [PAD] [PAD] [PAD] [PAD] [PAD] [PAD] [PAD] [PAD] [PAD] [PAD] [PAD] [PAD] [PAD] [PAD] [PAD] [PAD] [PAD] [PAD] [PAD] [PAD] [PAD] [PAD] [PAD] [PAD] [PAD] [PAD] [PAD] [PAD] [PAD] [PAD] [PAD] [PAD] [PAD] [PAD] [PAD] [PAD] [PAD] [PAD] [PAD] [PAD] [PAD] [PAD] [PAD] [PAD] [PAD] [PAD] [PAD] [PAD] [PAD] [PAD] [PAD] [PAD] [PAD] [PAD] [PAD] [PAD] [PAD] [PAD] [PAD] [PAD] [PAD] [PAD] [PAD] [PAD] [PAD] [PAD] [PAD] [PAD] [PAD] [PAD] [PAD] [PAD] [PAD] [PAD] [PAD] [PAD] [PAD] [PAD] [PAD] [PAD] [PAD] [PAD] [PAD] [PAD] [PAD] [PAD] [PAD] [PAD] [PAD] [PAD] [PAD] [PAD] [PAD] [PAD] [PAD] [PAD] [PAD] [PAD] [PAD] [PAD] [PAD] [PAD] [PAD] [PAD] [PAD] [PAD] [PAD] [PAD] [PAD] [PAD] [PAD] [PAD] [PAD] [PAD] [PAD] [PAD] [PAD] [PAD] [PAD] [PAD] [PAD] [PAD] [PAD] [PAD] [PAD] [PAD] [PAD] [PAD] [PAD] [PAD] [PAD] [PAD] [PAD] [PAD] [PAD] [PAD] [PAD] [PAD] [PAD] [PAD] [PAD] [PAD] [PAD] [PAD] [PAD] [PAD] [PAD] [PAD] [PAD] [PAD] [PAD] [PAD] [PAD] [PAD] [PAD] [PAD] [PAD] [PAD] [PAD] [PAD] [PAD] [PAD] [PAD] [PAD] [PAD] [PAD] [PAD] [PAD] [PAD] [PAD] [PAD] [PAD] [PAD] [PAD] [PAD] [PAD] [PAD] [PAD] [PAD] [PAD] [PAD] [PAD] [PAD] [PAD] [PAD] [PAD] [PAD] [PAD] [PAD] [PAD] [PAD] [PAD] [PAD] [PAD] [PAD] [PAD] [PAD] [PAD] [PAD] [PAD] [PAD] [PAD] [PAD] [PAD] [PAD] [PAD] [PAD] [PAD] [PAD] [PAD] [PAD] [PAD] [PAD] [PAD] [PAD] [PAD] [PAD] [PAD] [PAD] [PAD] [PAD] [PAD] [PAD] [PAD] [PAD] [PAD] [PAD] [PAD] [PAD] [PAD] [PAD] [PAD] [PAD] [PAD] [PAD] [PAD] [PAD] [PAD] [PAD] [PAD] [PAD] [PAD] [PAD] [PAD] [PAD] [PAD] [PAD] [PAD] [PAD] [PAD] [PAD] [PAD] [PAD] [PAD] [PAD] [PAD] [PAD] [PAD] [PAD] [PAD] [PAD] [PAD] [PAD] [PAD] [PAD] [PAD] [PAD] [PAD] [PAD] [PAD] [PAD] [PAD] [PAD] [PAD] [PAD] [PAD] [PAD] [PAD] [PAD] [PAD] [PAD] [PAD] [PAD] [PAD] [PAD] [PAD] [PAD] [PAD] [PAD] [PAD] [PAD] [PAD] [PAD] [PAD] [PAD] [PAD] [PAD] [PAD] [PAD] [PAD] [PAD] [PAD] [PAD] [PAD] [PAD] [PAD] [PAD] [PAD] [PAD] [PAD] [PAD] [PAD] [PAD] [PAD] [PAD] [PAD] [PAD] [PAD] [PAD] [PAD] [PAD] [PAD] [PAD] [PAD] [PAD] [PAD] [PAD] [PAD] [PAD] [PAD] [PAD] [PAD] [PAD] [PAD] [PAD] [PAD] [PAD] [PAD] [PAD] [PAD] [PAD] [PAD] [PAD] [PAD] [PAD] [PAD] [PAD] [PAD] [PAD] [PAD] [PAD] [PAD] [PAD] [PAD] [PAD] [PAD] [PAD] [PAD] [PAD] [PAD] [PAD] [PAD] [PAD] [PAD] [PAD] [PAD] [PAD] [PAD] [PAD] [PAD] [PAD] [PAD] [PAD] [PAD] [PAD] [PAD] [PAD] [PAD] [PAD] [PAD] [PAD] [PAD] [PAD] [PAD] [PAD] [PAD] [PAD] [PAD] [PAD] [PAD] [PAD] [PAD] [PAD] [PAD] [PAD] [PAD] [PAD] [PAD] [PAD] [PAD] [PAD] [PAD] [PAD] [PAD] [PAD] [PAD] [PAD] [PAD] [PAD] [PAD] [PAD] [PAD] [PAD] [PAD] [PAD] [PAD] [PAD] [PAD] [PAD] [PAD] [PAD] [PAD] [PAD] [PAD] [PAD] [PAD] [PAD] [PAD] [PAD] [PAD] [PAD] [PAD] [PAD] [PAD] [PAD] [PAD] [PAD] [PAD] [PAD] [PAD] [PAD] [PAD] [PAD] [PAD] [PAD] [PAD] [PAD] [PAD] [PAD] [PAD] [PAD] [PAD] [PAD] [PAD] [PAD] [PAD] [PAD] [PAD] [PAD] [PAD] [PAD] [PAD] [PAD] [PAD] [PAD] [PAD]\n",
      "교향곡\n"
     ]
    }
   ],
   "source": [
    "idx = 0\n",
    "get_text_data_by_idx(idx)"
   ]
  },
  {
   "cell_type": "code",
   "execution_count": null,
   "metadata": {
    "colab": {
     "base_uri": "https://localhost:8080/"
    },
    "id": "dppyUXQ8pc6R",
    "outputId": "72486131-7010-4ce6-daa8-a5a4aed8dd67"
   },
   "outputs": [
    {
     "name": "stdout",
     "output_type": "stream",
     "text": [
      "[CLS] 20세기부터 기술의 발전에 따라 선선한 기후의 북쪽 지방 와인의 생산성이 높아지고, 품질 또한 개선되었다. 1938년부터 INAO ( Institut National des Appellations d'Origine, 국립원산지명칭위원회 ) 가 AOC ( Appellation d'origine controlee, 원산지 통제 명칭 ) 라는 규제를 만들었고, 와인양조 기준 ( 알코올 함량, 포도품종, 재배방법 ) 을 농산부령으로 관리하기 시작했다. AOC는 ‘ 샤블리 ’ 라는 이름을 보호하기 위해 만들어졌는데, 이미 그 당시에 ‘ 샤블리 ’ 라는 명칭이 전세계의 포도 품종에 부적적하게 사용되고 있었기 때문이다. 전세계적인 샤르도네 붐이 20세기 중반 일어남에 따라, 샤블리 포도밭은 다시 급격히 늘어나게 되었고, 2004년 약 4000 헥타르까지 확대되었다. [SEP] 샤블리 포도밭이 급격히 늘어나게 만든 붐은 무엇입니까? [SEP] [PAD] [PAD] [PAD] [PAD] [PAD] [PAD] [PAD] [PAD] [PAD] [PAD] [PAD] [PAD] [PAD] [PAD] [PAD] [PAD] [PAD] [PAD] [PAD] [PAD] [PAD] [PAD] [PAD] [PAD] [PAD] [PAD] [PAD] [PAD] [PAD] [PAD] [PAD] [PAD] [PAD] [PAD] [PAD] [PAD] [PAD] [PAD] [PAD] [PAD] [PAD] [PAD] [PAD] [PAD] [PAD] [PAD] [PAD] [PAD] [PAD] [PAD] [PAD] [PAD] [PAD] [PAD] [PAD] [PAD] [PAD] [PAD] [PAD] [PAD] [PAD] [PAD] [PAD] [PAD] [PAD] [PAD] [PAD] [PAD] [PAD] [PAD] [PAD] [PAD] [PAD] [PAD] [PAD] [PAD] [PAD] [PAD] [PAD] [PAD] [PAD] [PAD] [PAD] [PAD] [PAD] [PAD] [PAD] [PAD] [PAD] [PAD] [PAD] [PAD] [PAD] [PAD] [PAD] [PAD] [PAD] [PAD] [PAD] [PAD] [PAD] [PAD] [PAD] [PAD] [PAD] [PAD] [PAD] [PAD] [PAD] [PAD] [PAD] [PAD] [PAD] [PAD] [PAD] [PAD] [PAD] [PAD] [PAD] [PAD] [PAD] [PAD] [PAD] [PAD] [PAD] [PAD] [PAD] [PAD] [PAD] [PAD] [PAD] [PAD] [PAD] [PAD] [PAD] [PAD] [PAD] [PAD] [PAD] [PAD] [PAD] [PAD] [PAD] [PAD] [PAD] [PAD] [PAD] [PAD] [PAD] [PAD] [PAD] [PAD] [PAD] [PAD] [PAD] [PAD] [PAD] [PAD] [PAD] [PAD] [PAD] [PAD] [PAD] [PAD] [PAD] [PAD] [PAD] [PAD] [PAD] [PAD] [PAD] [PAD] [PAD] [PAD] [PAD] [PAD] [PAD] [PAD] [PAD] [PAD] [PAD] [PAD] [PAD] [PAD] [PAD] [PAD] [PAD] [PAD] [PAD] [PAD] [PAD] [PAD] [PAD] [PAD] [PAD] [PAD] [PAD] [PAD] [PAD] [PAD] [PAD] [PAD] [PAD] [PAD] [PAD] [PAD] [PAD] [PAD] [PAD] [PAD] [PAD] [PAD] [PAD] [PAD] [PAD] [PAD] [PAD] [PAD] [PAD] [PAD] [PAD] [PAD] [PAD] [PAD] [PAD] [PAD] [PAD] [PAD] [PAD] [PAD] [PAD] [PAD] [PAD] [PAD] [PAD] [PAD] [PAD] [PAD] [PAD] [PAD] [PAD] [PAD] [PAD] [PAD] [PAD] [PAD] [PAD] [PAD] [PAD] [PAD] [PAD] [PAD] [PAD] [PAD] [PAD] [PAD] [PAD] [PAD] [PAD] [PAD] [PAD] [PAD] [PAD] [PAD] [PAD] [PAD] [PAD] [PAD] [PAD] [PAD] [PAD] [PAD] [PAD] [PAD] [PAD] [PAD] [PAD] [PAD] [PAD] [PAD] [PAD] [PAD] [PAD] [PAD] [PAD] [PAD] [PAD] [PAD] [PAD] [PAD] [PAD] [PAD] [PAD] [PAD] [PAD] [PAD] [PAD] [PAD] [PAD] [PAD] [PAD] [PAD] [PAD] [PAD] [PAD] [PAD] [PAD] [PAD] [PAD] [PAD] [PAD] [PAD] [PAD] [PAD] [PAD] [PAD] [PAD] [PAD] [PAD] [PAD] [PAD] [PAD] [PAD] [PAD] [PAD] [PAD] [PAD] [PAD] [PAD] [PAD] [PAD] [PAD] [PAD] [PAD] [PAD] [PAD] [PAD] [PAD] [PAD] [PAD] [PAD] [PAD] [PAD] [PAD] [PAD] [PAD] [PAD] [PAD] [PAD] [PAD] [PAD] [PAD] [PAD] [PAD] [PAD] [PAD] [PAD] [PAD] [PAD] [PAD] [PAD] [PAD] [PAD] [PAD] [PAD] [PAD] [PAD] [PAD] [PAD] [PAD] [PAD] [PAD] [PAD] [PAD] [PAD] [PAD] [PAD] [PAD] [PAD] [PAD] [PAD] [PAD] [PAD] [PAD] [PAD] [PAD] [PAD] [PAD] [PAD] [PAD] [PAD] [PAD] [PAD] [PAD] [PAD] [PAD] [PAD] [PAD] [PAD] [PAD] [PAD] [PAD] [PAD] [PAD] [PAD] [PAD] [PAD] [PAD] [PAD] [PAD] [PAD] [PAD] [PAD] [PAD] [PAD] [PAD] [PAD] [PAD] [PAD] [PAD] [PAD] [PAD] [PAD] [PAD] [PAD] [PAD] [PAD] [PAD] [PAD] [PAD] [PAD] [PAD] [PAD] [PAD] [PAD] [PAD] [PAD] [PAD] [PAD] [PAD] [PAD] [PAD] [PAD] [PAD] [PAD] [PAD] [PAD] [PAD] [PAD] [PAD] [PAD] [PAD] [PAD] [PAD] [PAD] [PAD] [PAD] [PAD] [PAD] [PAD] [PAD] [PAD] [PAD] [PAD] [PAD] [PAD] [PAD] [PAD] [PAD] [PAD] [PAD] [PAD] [PAD] [PAD] [PAD] [PAD] [PAD] [PAD] [PAD] [PAD] [PAD] [PAD] [PAD] [PAD] [PAD] [PAD] [PAD] [PAD] [PAD] [PAD] [PAD] [PAD] [PAD] [PAD] [PAD] [PAD] [PAD] [PAD] [PAD] [PAD] [PAD] [PAD] [PAD] [PAD] [PAD] [PAD] [PAD] [PAD] [PAD] [PAD] [PAD] [PAD] [PAD] [PAD] [PAD] [PAD] [PAD] [PAD] [PAD] [PAD] [PAD] [PAD] [PAD] [PAD] [PAD] [PAD] [PAD] [PAD] [PAD] [PAD] [PAD] [PAD] [PAD] [PAD] [PAD] [PAD] [PAD] [PAD] [PAD] [PAD] [PAD] [PAD] [PAD] [PAD] [PAD] [PAD] [PAD] [PAD] [PAD] [PAD] [PAD] [PAD] [PAD] [PAD] [PAD] [PAD] [PAD] [PAD] [PAD] [PAD] [PAD] [PAD] [PAD] [PAD] [PAD] [PAD] [PAD] [PAD] [PAD] [PAD] [PAD] [PAD] [PAD] [PAD] [PAD] [PAD] [PAD] [PAD] [PAD] [PAD] [PAD] [PAD] [PAD] [PAD] [PAD] [PAD] [PAD] [PAD] [PAD] [PAD] [PAD] [PAD] [PAD] [PAD] [PAD] [PAD] [PAD] [PAD] [PAD] [PAD] [PAD] [PAD] [PAD] [PAD] [PAD] [PAD] [PAD] [PAD] [PAD] [PAD] [PAD] [PAD] [PAD] [PAD] [PAD] [PAD] [PAD] [PAD] [PAD] [PAD] [PAD] [PAD] [PAD] [PAD] [PAD] [PAD] [PAD] [PAD] [PAD] [PAD] [PAD] [PAD] [PAD] [PAD] [PAD] [PAD] [PAD] [PAD] [PAD] [PAD] [PAD] [PAD] [PAD] [PAD] [PAD] [PAD] [PAD] [PAD] [PAD] [PAD] [PAD] [PAD] [PAD] [PAD] [PAD] [PAD] [PAD] [PAD] [PAD] [PAD] [PAD] [PAD] [PAD] [PAD] [PAD] [PAD] [PAD] [PAD] [PAD] [PAD] [PAD] [PAD] [PAD] [PAD] [PAD] [PAD] [PAD] [PAD] [PAD] [PAD] [PAD] [PAD] [PAD] [PAD] [PAD] [PAD] [PAD] [PAD] [PAD] [PAD] [PAD] [PAD] [PAD] [PAD] [PAD] [PAD] [PAD] [PAD] [PAD] [PAD] [PAD] [PAD] [PAD] [PAD] [PAD] [PAD] [PAD] [PAD] [PAD] [PAD] [PAD] [PAD] [PAD] [PAD] [PAD] [PAD] [PAD] [PAD] [PAD] [PAD] [PAD] [PAD] [PAD] [PAD] [PAD] [PAD] [PAD] [PAD] [PAD] [PAD] [PAD] [PAD] [PAD] [PAD] [PAD] [PAD] [PAD] [PAD] [PAD] [PAD] [PAD] [PAD] [PAD] [PAD] [PAD] [PAD] [PAD] [PAD] [PAD] [PAD] [PAD] [PAD] [PAD] [PAD] [PAD] [PAD] [PAD] [PAD] [PAD] [PAD] [PAD] [PAD] [PAD] [PAD] [PAD] [PAD] [PAD] [PAD] [PAD] [PAD] [PAD] [PAD] [PAD] [PAD] [PAD] [PAD] [PAD] [PAD] [PAD] [PAD] [PAD] [PAD] [PAD] [PAD] [PAD] [PAD] [PAD] [PAD] [PAD] [PAD] [PAD] [PAD] [PAD] [PAD] [PAD] [PAD] [PAD] [PAD] [PAD] [PAD] [PAD] [PAD] [PAD] [PAD] [PAD] [PAD] [PAD] [PAD] [PAD] [PAD] [PAD] [PAD] [PAD] [PAD] [PAD] [PAD] [PAD] [PAD] [PAD] [PAD] [PAD] [PAD] [PAD] [PAD] [PAD] [PAD] [PAD] [PAD] [PAD] [PAD] [PAD] [PAD] [PAD] [PAD] [PAD] [PAD] [PAD] [PAD] [PAD] [PAD] [PAD] [PAD] [PAD] [PAD] [PAD] [PAD] [PAD] [PAD] [PAD] [PAD] [PAD] [PAD] [PAD] [PAD] [PAD] [PAD] [PAD] [PAD] [PAD] [PAD] [PAD] [PAD] [PAD] [PAD] [PAD] [PAD] [PAD] [PAD] [PAD] [PAD] [PAD] [PAD] [PAD] [PAD] [PAD] [PAD] [PAD] [PAD] [PAD] [PAD] [PAD] [PAD] [PAD] [PAD] [PAD] [PAD] [PAD] [PAD] [PAD] [PAD] [PAD] [PAD] [PAD] [PAD] [PAD] [PAD] [PAD] [PAD] [PAD] [PAD] [PAD] [PAD] [PAD] [PAD] [PAD] [PAD] [PAD] [PAD] [PAD] [PAD] [PAD] [PAD] [PAD] [PAD] [PAD] [PAD] [PAD] [PAD] [PAD] [PAD] [PAD] [PAD] [PAD] [PAD] [PAD] [PAD] [PAD] [PAD] [PAD] [PAD] [PAD] [PAD] [PAD] [PAD] [PAD] [PAD] [PAD] [PAD] [PAD] [PAD] [PAD] [PAD] [PAD] [PAD] [PAD] [PAD] [PAD] [PAD] [PAD] [PAD] [PAD] [PAD] [PAD] [PAD] [PAD] [PAD] [PAD] [PAD] [PAD] [PAD] [PAD] [PAD] [PAD] [PAD] [PAD] [PAD] [PAD] [PAD] [PAD] [PAD] [PAD] [PAD] [PAD] [PAD] [PAD] [PAD] [PAD] [PAD] [PAD] [PAD] [PAD] [PAD] [PAD] [PAD] [PAD] [PAD] [PAD] [PAD] [PAD] [PAD] [PAD] [PAD] [PAD] [PAD] [PAD] [PAD] [PAD] [PAD] [PAD] [PAD] [PAD] [PAD] [PAD] [PAD] [PAD] [PAD] [PAD] [PAD] [PAD] [PAD] [PAD] [PAD] [PAD] [PAD] [PAD] [PAD] [PAD] [PAD] [PAD] [PAD] [PAD] [PAD] [PAD] [PAD] [PAD] [PAD] [PAD] [PAD] [PAD] [PAD] [PAD] [PAD] [PAD] [PAD] [PAD] [PAD] [PAD] [PAD] [PAD] [PAD] [PAD] [PAD] [PAD] [PAD] [PAD] [PAD] [PAD] [PAD] [PAD] [PAD] [PAD] [PAD] [PAD] [PAD] [PAD] [PAD] [PAD] [PAD] [PAD] [PAD] [PAD] [PAD] [PAD] [PAD] [PAD] [PAD] [PAD] [PAD] [PAD] [PAD] [PAD] [PAD] [PAD] [PAD] [PAD] [PAD] [PAD] [PAD] [PAD] [PAD] [PAD] [PAD] [PAD] [PAD] [PAD] [PAD] [PAD] [PAD] [PAD] [PAD] [PAD] [PAD] [PAD] [PAD] [PAD] [PAD] [PAD] [PAD] [PAD] [PAD] [PAD] [PAD] [PAD] [PAD] [PAD] [PAD] [PAD] [PAD] [PAD] [PAD] [PAD] [PAD] [PAD] [PAD] [PAD] [PAD] [PAD] [PAD] [PAD] [PAD] [PAD] [PAD] [PAD] [PAD] [PAD] [PAD] [PAD] [PAD] [PAD] [PAD] [PAD] [PAD] [PAD] [PAD] [PAD] [PAD] [PAD] [PAD] [PAD] [PAD] [PAD] [PAD] [PAD] [PAD] [PAD] [PAD] [PAD] [PAD] [PAD] [PAD] [PAD] [PAD] [PAD] [PAD] [PAD] [PAD] [PAD] [PAD] [PAD] [PAD] [PAD] [PAD] [PAD] [PAD] [PAD] [PAD] [PAD] [PAD] [PAD] [PAD] [PAD] [PAD] [PAD] [PAD] [PAD] [PAD] [PAD] [PAD] [PAD] [PAD] [PAD] [PAD] [PAD] [PAD] [PAD] [PAD] [PAD] [PAD] [PAD] [PAD] [PAD] [PAD] [PAD] [PAD] [PAD] [PAD] [PAD] [PAD] [PAD] [PAD] [PAD] [PAD] [PAD] [PAD] [PAD] [PAD] [PAD] [PAD] [PAD] [PAD] [PAD] [PAD] [PAD] [PAD] [PAD] [PAD] [PAD] [PAD] [PAD] [PAD] [PAD] [PAD] [PAD] [PAD] [PAD] [PAD] [PAD] [PAD] [PAD] [PAD] [PAD] [PAD] [PAD] [PAD] [PAD] [PAD] [PAD] [PAD] [PAD] [PAD] [PAD] [PAD] [PAD] [PAD] [PAD] [PAD] [PAD] [PAD] [PAD] [PAD] [PAD] [PAD] [PAD] [PAD] [PAD] [PAD] [PAD] [PAD] [PAD] [PAD] [PAD] [PAD] [PAD] [PAD] [PAD] [PAD] [PAD] [PAD] [PAD] [PAD] [PAD] [PAD] [PAD] [PAD] [PAD] [PAD] [PAD] [PAD] [PAD] [PAD] [PAD] [PAD] [PAD] [PAD] [PAD] [PAD] [PAD] [PAD] [PAD] [PAD] [PAD] [PAD] [PAD] [PAD] [PAD] [PAD] [PAD] [PAD] [PAD] [PAD] [PAD] [PAD] [PAD] [PAD] [PAD] [PAD] [PAD] [PAD] [PAD] [PAD] [PAD] [PAD] [PAD] [PAD] [PAD] [PAD] [PAD] [PAD] [PAD] [PAD] [PAD] [PAD] [PAD] [PAD] [PAD] [PAD] [PAD] [PAD] [PAD] [PAD] [PAD] [PAD] [PAD] [PAD] [PAD] [PAD] [PAD] [PAD] [PAD] [PAD] [PAD] [PAD] [PAD] [PAD] [PAD] [PAD] [PAD] [PAD] [PAD] [PAD] [PAD] [PAD] [PAD] [PAD] [PAD] [PAD] [PAD] [PAD] [PAD] [PAD] [PAD] [PAD] [PAD] [PAD] [PAD] [PAD] [PAD] [PAD] [PAD] [PAD] [PAD] [PAD] [PAD] [PAD] [PAD] [PAD] [PAD] [PAD] [PAD] [PAD] [PAD] [PAD] [PAD] [PAD] [PAD] [PAD] [PAD] [PAD] [PAD] [PAD] [PAD] [PAD] [PAD] [PAD] [PAD] [PAD] [PAD] [PAD] [PAD] [PAD] [PAD] [PAD] [PAD] [PAD] [PAD] [PAD] [PAD] [PAD] [PAD] [PAD] [PAD] [PAD] [PAD] [PAD] [PAD] [PAD] [PAD] [PAD] [PAD] [PAD] [PAD] [PAD] [PAD] [PAD] [PAD] [PAD] [PAD] [PAD] [PAD] [PAD] [PAD] [PAD] [PAD] [PAD] [PAD] [PAD] [PAD] [PAD] [PAD] [PAD] [PAD] [PAD] [PAD] [PAD] [PAD] [PAD] [PAD] [PAD] [PAD] [PAD] [PAD] [PAD] [PAD] [PAD] [PAD] [PAD] [PAD] [PAD] [PAD] [PAD] [PAD] [PAD] [PAD] [PAD] [PAD] [PAD] [PAD] [PAD] [PAD] [PAD] [PAD] [PAD] [PAD] [PAD] [PAD] [PAD] [PAD] [PAD] [PAD] [PAD] [PAD] [PAD] [PAD] [PAD] [PAD] [PAD] [PAD] [PAD] [PAD] [PAD] [PAD] [PAD] [PAD] [PAD] [PAD] [PAD] [PAD] [PAD] [PAD] [PAD] [PAD] [PAD] [PAD] [PAD] [PAD] [PAD] [PAD] [PAD] [PAD] [PAD] [PAD] [PAD] [PAD] [PAD] [PAD] [PAD] [PAD] [PAD] [PAD] [PAD] [PAD] [PAD] [PAD] [PAD] [PAD] [PAD] [PAD] [PAD] [PAD] [PAD] [PAD] [PAD] [PAD] [PAD] [PAD] [PAD] [PAD] [PAD] [PAD] [PAD] [PAD] [PAD] [PAD] [PAD] [PAD] [PAD] [PAD] [PAD] [PAD] [PAD] [PAD] [PAD] [PAD] [PAD] [PAD] [PAD] [PAD] [PAD] [PAD] [PAD] [PAD] [PAD] [PAD] [PAD] [PAD] [PAD] [PAD] [PAD] [PAD] [PAD] [PAD] [PAD] [PAD] [PAD] [PAD] [PAD] [PAD] [PAD] [PAD] [PAD] [PAD] [PAD] [PAD] [PAD] [PAD] [PAD] [PAD] [PAD] [PAD] [PAD] [PAD] [PAD] [PAD] [PAD] [PAD] [PAD] [PAD] [PAD] [PAD] [PAD] [PAD] [PAD] [PAD] [PAD] [PAD] [PAD] [PAD] [PAD] [PAD] [PAD] [PAD] [PAD] [PAD] [PAD] [PAD] [PAD] [PAD] [PAD] [PAD] [PAD] [PAD] [PAD] [PAD] [PAD] [PAD] [PAD] [PAD] [PAD] [PAD] [PAD] [PAD] [PAD] [PAD] [PAD] [PAD] [PAD] [PAD] [PAD] [PAD] [PAD] [PAD] [PAD] [PAD] [PAD] [PAD] [PAD] [PAD] [PAD] [PAD] [PAD] [PAD] [PAD] [PAD] [PAD] [PAD] [PAD] [PAD] [PAD] [PAD] [PAD] [PAD] [PAD] [PAD] [PAD] [PAD] [PAD] [PAD] [PAD] [PAD] [PAD] [PAD] [PAD] [PAD] [PAD] [PAD] [PAD] [PAD] [PAD] [PAD] [PAD] [PAD] [PAD] [PAD] [PAD] [PAD] [PAD] [PAD] [PAD] [PAD] [PAD] [PAD] [PAD] [PAD] [PAD] [PAD] [PAD] [PAD] [PAD] [PAD] [PAD] [PAD] [PAD] [PAD] [PAD] [PAD] [PAD] [PAD] [PAD] [PAD] [PAD] [PAD] [PAD] [PAD] [PAD] [PAD] [PAD] [PAD] [PAD] [PAD] [PAD] [PAD] [PAD] [PAD] [PAD] [PAD] [PAD] [PAD] [PAD] [PAD] [PAD] [PAD] [PAD] [PAD] [PAD] [PAD] [PAD] [PAD] [PAD] [PAD] [PAD] [PAD] [PAD] [PAD] [PAD] [PAD] [PAD] [PAD] [PAD] [PAD] [PAD] [PAD] [PAD] [PAD] [PAD] [PAD] [PAD] [PAD] [PAD] [PAD] [PAD] [PAD] [PAD] [PAD] [PAD] [PAD] [PAD] [PAD] [PAD] [PAD] [PAD] [PAD] [PAD] [PAD] [PAD] [PAD] [PAD] [PAD] [PAD] [PAD] [PAD] [PAD] [PAD] [PAD] [PAD] [PAD] [PAD] [PAD] [PAD] [PAD] [PAD] [PAD] [PAD] [PAD] [PAD] [PAD] [PAD] [PAD] [PAD] [PAD] [PAD] [PAD] [PAD] [PAD] [PAD] [PAD] [PAD] [PAD] [PAD] [PAD] [PAD] [PAD] [PAD] [PAD] [PAD] [PAD] [PAD] [PAD] [PAD] [PAD] [PAD] [PAD] [PAD] [PAD] [PAD] [PAD] [PAD] [PAD] [PAD] [PAD] [PAD] [PAD] [PAD] [PAD] [PAD] [PAD] [PAD] [PAD] [PAD] [PAD] [PAD] [PAD] [PAD] [PAD] [PAD] [PAD] [PAD] [PAD] [PAD] [PAD] [PAD] [PAD] [PAD] [PAD] [PAD] [PAD] [PAD] [PAD] [PAD] [PAD] [PAD] [PAD] [PAD] [PAD] [PAD] [PAD] [PAD] [PAD] [PAD] [PAD] [PAD] [PAD] [PAD] [PAD] [PAD] [PAD] [PAD] [PAD] [PAD] [PAD] [PAD] [PAD] [PAD] [PAD] [PAD] [PAD] [PAD] [PAD] [PAD] [PAD] [PAD] [PAD] [PAD] [PAD] [PAD] [PAD] [PAD] [PAD] [PAD] [PAD] [PAD] [PAD] [PAD] [PAD] [PAD] [PAD] [PAD] [PAD] [PAD] [PAD] [PAD] [PAD] [PAD] [PAD] [PAD] [PAD] [PAD] [PAD] [PAD] [PAD] [PAD] [PAD] [PAD] [PAD] [PAD] [PAD] [PAD] [PAD] [PAD] [PAD] [PAD] [PAD] [PAD] [PAD] [PAD] [PAD] [PAD] [PAD] [PAD] [PAD] [PAD] [PAD] [PAD] [PAD] [PAD] [PAD] [PAD] [PAD] [PAD] [PAD] [PAD] [PAD] [PAD] [PAD] [PAD] [PAD] [PAD] [PAD] [PAD] [PAD] [PAD] [PAD] [PAD] [PAD] [PAD] [PAD] [PAD] [PAD] [PAD] [PAD] [PAD] [PAD] [PAD] [PAD] [PAD] [PAD] [PAD] [PAD] [PAD] [PAD] [PAD] [PAD] [PAD] [PAD] [PAD] [PAD] [PAD] [PAD] [PAD] [PAD] [PAD] [PAD] [PAD] [PAD] [PAD] [PAD] [PAD] [PAD] [PAD] [PAD] [PAD] [PAD] [PAD] [PAD] [PAD] [PAD] [PAD] [PAD] [PAD] [PAD] [PAD] [PAD] [PAD] [PAD] [PAD] [PAD] [PAD] [PAD] [PAD] [PAD] [PAD] [PAD] [PAD] [PAD] [PAD] [PAD] [PAD] [PAD] [PAD] [PAD] [PAD] [PAD] [PAD] [PAD] [PAD] [PAD] [PAD] [PAD] [PAD] [PAD] [PAD] [PAD] [PAD] [PAD] [PAD] [PAD] [PAD] [PAD] [PAD] [PAD] [PAD] [PAD] [PAD] [PAD] [PAD] [PAD] [PAD] [PAD] [PAD] [PAD] [PAD] [PAD] [PAD] [PAD] [PAD] [PAD] [PAD] [PAD] [PAD] [PAD] [PAD] [PAD] [PAD] [PAD] [PAD] [PAD] [PAD] [PAD] [PAD] [PAD] [PAD] [PAD] [PAD] [PAD] [PAD] [PAD] [PAD] [PAD] [PAD] [PAD] [PAD] [PAD] [PAD] [PAD] [PAD] [PAD] [PAD] [PAD] [PAD] [PAD] [PAD] [PAD] [PAD] [PAD] [PAD] [PAD] [PAD] [PAD] [PAD] [PAD] [PAD] [PAD] [PAD] [PAD] [PAD] [PAD] [PAD] [PAD] [PAD] [PAD] [PAD] [PAD] [PAD] [PAD] [PAD] [PAD] [PAD] [PAD] [PAD] [PAD] [PAD] [PAD] [PAD] [PAD] [PAD] [PAD] [PAD] [PAD] [PAD] [PAD] [PAD] [PAD] [PAD] [PAD] [PAD] [PAD] [PAD] [PAD] [PAD] [PAD] [PAD] [PAD] [PAD] [PAD] [PAD] [PAD] [PAD] [PAD] [PAD] [PAD] [PAD] [PAD] [PAD] [PAD] [PAD] [PAD] [PAD] [PAD] [PAD] [PAD] [PAD] [PAD] [PAD] [PAD] [PAD] [PAD] [PAD] [PAD] [PAD] [PAD] [PAD] [PAD] [PAD] [PAD] [PAD] [PAD] [PAD] [PAD] [PAD] [PAD] [PAD] [PAD] [PAD] [PAD] [PAD] [PAD] [PAD] [PAD] [PAD] [PAD] [PAD] [PAD] [PAD] [PAD] [PAD] [PAD] [PAD] [PAD] [PAD] [PAD] [PAD] [PAD] [PAD] [PAD] [PAD] [PAD] [PAD] [PAD] [PAD] [PAD] [PAD] [PAD] [PAD] [PAD] [PAD] [PAD] [PAD] [PAD] [PAD] [PAD] [PAD] [PAD] [PAD] [PAD] [PAD] [PAD] [PAD] [PAD] [PAD] [PAD] [PAD] [PAD] [PAD] [PAD] [PAD] [PAD] [PAD] [PAD] [PAD] [PAD] [PAD] [PAD] [PAD] [PAD] [PAD] [PAD] [PAD] [PAD] [PAD] [PAD] [PAD] [PAD] [PAD] [PAD] [PAD] [PAD] [PAD] [PAD] [PAD] [PAD] [PAD] [PAD] [PAD] [PAD] [PAD] [PAD] [PAD] [PAD] [PAD] [PAD] [PAD] [PAD] [PAD] [PAD] [PAD] [PAD] [PAD] [PAD] [PAD] [PAD] [PAD] [PAD] [PAD] [PAD] [PAD] [PAD] [PAD] [PAD] [PAD] [PAD] [PAD] [PAD] [PAD] [PAD] [PAD] [PAD] [PAD] [PAD] [PAD] [PAD] [PAD] [PAD] [PAD] [PAD] [PAD] [PAD] [PAD] [PAD] [PAD] [PAD] [PAD] [PAD] [PAD] [PAD] [PAD] [PAD] [PAD] [PAD] [PAD] [PAD] [PAD] [PAD] [PAD] [PAD] [PAD] [PAD] [PAD] [PAD] [PAD] [PAD] [PAD] [PAD] [PAD] [PAD] [PAD] [PAD] [PAD] [PAD] [PAD] [PAD] [PAD] [PAD] [PAD] [PAD] [PAD] [PAD] [PAD] [PAD] [PAD] [PAD] [PAD] [PAD] [PAD] [PAD] [PAD] [PAD] [PAD] [PAD] [PAD] [PAD] [PAD] [PAD] [PAD] [PAD] [PAD] [PAD] [PAD] [PAD] [PAD] [PAD] [PAD] [PAD] [PAD] [PAD] [PAD] [PAD] [PAD] [PAD] [PAD] [PAD] [PAD] [PAD] [PAD] [PAD] [PAD] [PAD] [PAD] [PAD] [PAD] [PAD] [PAD] [PAD] [PAD] [PAD] [PAD] [PAD] [PAD] [PAD] [PAD] [PAD] [PAD] [PAD] [PAD] [PAD] [PAD] [PAD] [PAD] [PAD] [PAD] [PAD] [PAD] [PAD] [PAD] [PAD] [PAD] [PAD] [PAD] [PAD] [PAD] [PAD] [PAD] [PAD] [PAD] [PAD] [PAD] [PAD] [PAD] [PAD] [PAD] [PAD] [PAD] [PAD] [PAD] [PAD] [PAD] [PAD] [PAD] [PAD] [PAD] [PAD] [PAD] [PAD] [PAD] [PAD] [PAD] [PAD] [PAD] [PAD] [PAD] [PAD] [PAD] [PAD] [PAD] [PAD] [PAD] [PAD] [PAD] [PAD] [PAD] [PAD] [PAD] [PAD] [PAD] [PAD] [PAD] [PAD] [PAD] [PAD] [PAD] [PAD] [PAD] [PAD] [PAD] [PAD] [PAD] [PAD] [PAD] [PAD] [PAD] [PAD] [PAD] [PAD] [PAD] [PAD] [PAD] [PAD] [PAD] [PAD] [PAD] [PAD] [PAD] [PAD] [PAD] [PAD] [PAD] [PAD] [PAD] [PAD] [PAD] [PAD] [PAD] [PAD] [PAD] [PAD] [PAD] [PAD] [PAD] [PAD] [PAD] [PAD] [PAD] [PAD] [PAD] [PAD] [PAD] [PAD] [PAD] [PAD] [PAD] [PAD] [PAD] [PAD] [PAD] [PAD] [PAD] [PAD] [PAD] [PAD] [PAD] [PAD] [PAD] [PAD] [PAD] [PAD] [PAD] [PAD] [PAD] [PAD] [PAD] [PAD] [PAD] [PAD] [PAD] [PAD] [PAD] [PAD] [PAD] [PAD] [PAD] [PAD] [PAD] [PAD] [PAD] [PAD] [PAD] [PAD] [PAD] [PAD] [PAD] [PAD] [PAD] [PAD] [PAD] [PAD] [PAD] [PAD] [PAD] [PAD] [PAD] [PAD] [PAD] [PAD] [PAD] [PAD] [PAD] [PAD] [PAD] [PAD] [PAD] [PAD] [PAD] [PAD] [PAD] [PAD] [PAD] [PAD] [PAD] [PAD] [PAD] [PAD] [PAD] [PAD] [PAD] [PAD] [PAD] [PAD] [PAD] [PAD] [PAD] [PAD] [PAD] [PAD] [PAD] [PAD] [PAD] [PAD] [PAD] [PAD] [PAD] [PAD] [PAD] [PAD] [PAD] [PAD] [PAD] [PAD] [PAD] [PAD] [PAD] [PAD] [PAD] [PAD] [PAD] [PAD] [PAD] [PAD] [PAD] [PAD] [PAD] [PAD] [PAD] [PAD] [PAD] [PAD] [PAD] [PAD] [PAD] [PAD] [PAD] [PAD] [PAD] [PAD] [PAD] [PAD] [PAD] [PAD] [PAD] [PAD] [PAD] [PAD] [PAD] [PAD] [PAD] [PAD] [PAD] [PAD] [PAD] [PAD] [PAD] [PAD] [PAD] [PAD] [PAD] [PAD] [PAD] [PAD] [PAD] [PAD] [PAD] [PAD] [PAD] [PAD] [PAD] [PAD] [PAD] [PAD] [PAD] [PAD] [PAD] [PAD] [PAD] [PAD] [PAD] [PAD] [PAD] [PAD] [PAD] [PAD] [PAD] [PAD] [PAD] [PAD] [PAD] [PAD] [PAD] [PAD] [PAD] [PAD] [PAD] [PAD] [PAD] [PAD] [PAD] [PAD] [PAD] [PAD] [PAD] [PAD] [PAD] [PAD] [PAD] [PAD] [PAD] [PAD] [PAD] [PAD] [PAD] [PAD] [PAD] [PAD] [PAD] [PAD] [PAD] [PAD] [PAD] [PAD] [PAD] [PAD] [PAD] [PAD] [PAD] [PAD] [PAD] [PAD] [PAD] [PAD] [PAD] [PAD] [PAD] [PAD] [PAD] [PAD] [PAD] [PAD] [PAD] [PAD] [PAD] [PAD] [PAD] [PAD] [PAD] [PAD] [PAD] [PAD] [PAD] [PAD] [PAD] [PAD] [PAD] [PAD] [PAD] [PAD] [PAD] [PAD] [PAD] [PAD] [PAD] [PAD] [PAD] [PAD] [PAD] [PAD] [PAD] [PAD] [PAD] [PAD] [PAD] [PAD] [PAD] [PAD] [PAD] [PAD] [PAD] [PAD] [PAD] [PAD] [PAD] [PAD] [PAD] [PAD] [PAD] [PAD] [PAD] [PAD] [PAD] [PAD] [PAD] [PAD] [PAD] [PAD] [PAD] [PAD] [PAD] [PAD] [PAD] [PAD] [PAD] [PAD] [PAD] [PAD] [PAD] [PAD] [PAD] [PAD] [PAD] [PAD] [PAD] [PAD] [PAD] [PAD] [PAD] [PAD] [PAD] [PAD] [PAD] [PAD] [PAD] [PAD] [PAD] [PAD] [PAD] [PAD] [PAD] [PAD] [PAD] [PAD] [PAD] [PAD] [PAD] [PAD] [PAD] [PAD] [PAD] [PAD] [PAD] [PAD] [PAD] [PAD] [PAD] [PAD] [PAD] [PAD] [PAD] [PAD] [PAD] [PAD] [PAD] [PAD] [PAD] [PAD] [PAD] [PAD] [PAD] [PAD] [PAD] [PAD] [PAD] [PAD] [PAD] [PAD] [PAD] [PAD] [PAD] [PAD] [PAD] [PAD] [PAD] [PAD] [PAD] [PAD] [PAD] [PAD] [PAD] [PAD] [PAD] [PAD] [PAD] [PAD] [PAD] [PAD] [PAD] [PAD] [PAD] [PAD] [PAD] [PAD] [PAD] [PAD] [PAD] [PAD] [PAD] [PAD] [PAD] [PAD] [PAD] [PAD] [PAD] [PAD] [PAD] [PAD] [PAD] [PAD] [PAD] [PAD] [PAD] [PAD] [PAD] [PAD] [PAD] [PAD] [PAD] [PAD] [PAD] [PAD] [PAD] [PAD] [PAD] [PAD] [PAD] [PAD] [PAD] [PAD] [PAD] [PAD] [PAD] [PAD] [PAD] [PAD] [PAD] [PAD] [PAD] [PAD] [PAD] [PAD] [PAD] [PAD] [PAD] [PAD] [PAD] [PAD] [PAD] [PAD] [PAD] [PAD] [PAD] [PAD] [PAD] [PAD] [PAD] [PAD] [PAD] [PAD] [PAD] [PAD] [PAD] [PAD] [PAD] [PAD] [PAD] [PAD] [PAD] [PAD] [PAD] [PAD] [PAD] [PAD] [PAD] [PAD] [PAD] [PAD] [PAD] [PAD] [PAD] [PAD] [PAD] [PAD] [PAD] [PAD] [PAD] [PAD] [PAD] [PAD] [PAD] [PAD] [PAD] [PAD] [PAD] [PAD] [PAD] [PAD] [PAD] [PAD] [PAD] [PAD] [PAD] [PAD] [PAD] [PAD] [PAD] [PAD] [PAD] [PAD] [PAD] [PAD] [PAD] [PAD] [PAD] [PAD] [PAD] [PAD] [PAD] [PAD] [PAD] [PAD] [PAD] [PAD] [PAD] [PAD] [PAD] [PAD] [PAD] [PAD] [PAD] [PAD] [PAD] [PAD] [PAD] [PAD] [PAD] [PAD] [PAD] [PAD] [PAD] [PAD] [PAD] [PAD] [PAD] [PAD] [PAD] [PAD] [PAD] [PAD] [PAD] [PAD] [PAD] [PAD] [PAD] [PAD] [PAD] [PAD] [PAD] [PAD] [PAD] [PAD] [PAD] [PAD] [PAD] [PAD] [PAD] [PAD] [PAD] [PAD] [PAD] [PAD] [PAD] [PAD] [PAD] [PAD] [PAD] [PAD] [PAD] [PAD] [PAD] [PAD] [PAD] [PAD] [PAD] [PAD] [PAD] [PAD] [PAD] [PAD] [PAD] [PAD] [PAD] [PAD] [PAD] [PAD] [PAD] [PAD] [PAD] [PAD] [PAD] [PAD] [PAD] [PAD] [PAD] [PAD] [PAD] [PAD] [PAD] [PAD] [PAD] [PAD] [PAD] [PAD] [PAD] [PAD] [PAD] [PAD] [PAD] [PAD] [PAD] [PAD] [PAD] [PAD] [PAD] [PAD] [PAD] [PAD] [PAD] [PAD] [PAD] [PAD] [PAD] [PAD] [PAD] [PAD] [PAD] [PAD] [PAD] [PAD] [PAD] [PAD] [PAD] [PAD] [PAD] [PAD] [PAD] [PAD] [PAD] [PAD] [PAD] [PAD] [PAD] [PAD] [PAD] [PAD] [PAD] [PAD] [PAD] [PAD] [PAD] [PAD] [PAD] [PAD] [PAD] [PAD] [PAD] [PAD] [PAD] [PAD] [PAD] [PAD] [PAD] [PAD] [PAD] [PAD] [PAD] [PAD] [PAD] [PAD] [PAD] [PAD] [PAD] [PAD] [PAD] [PAD] [PAD] [PAD] [PAD] [PAD] [PAD] [PAD] [PAD] [PAD] [PAD] [PAD] [PAD] [PAD] [PAD] [PAD] [PAD] [PAD] [PAD] [PAD] [PAD] [PAD] [PAD] [PAD] [PAD] [PAD] [PAD] [PAD] [PAD] [PAD] [PAD] [PAD] [PAD] [PAD] [PAD] [PAD] [PAD] [PAD] [PAD] [PAD] [PAD] [PAD] [PAD] [PAD] [PAD] [PAD] [PAD] [PAD] [PAD] [PAD] [PAD] [PAD] [PAD] [PAD] [PAD] [PAD] [PAD] [PAD] [PAD] [PAD] [PAD] [PAD] [PAD] [PAD] [PAD] [PAD] [PAD] [PAD] [PAD] [PAD] [PAD] [PAD] [PAD] [PAD] [PAD] [PAD] [PAD] [PAD] [PAD] [PAD] [PAD] [PAD] [PAD] [PAD] [PAD] [PAD] [PAD] [PAD] [PAD] [PAD] [PAD] [PAD] [PAD] [PAD] [PAD] [PAD] [PAD] [PAD] [PAD] [PAD] [PAD] [PAD] [PAD] [PAD] [PAD] [PAD] [PAD] [PAD] [PAD] [PAD] [PAD] [PAD] [PAD] [PAD] [PAD] [PAD] [PAD] [PAD] [PAD] [PAD] [PAD] [PAD] [PAD] [PAD] [PAD] [PAD] [PAD] [PAD] [PAD] [PAD] [PAD] [PAD] [PAD] [PAD] [PAD] [PAD] [PAD] [PAD] [PAD] [PAD] [PAD] [PAD] [PAD] [PAD] [PAD] [PAD] [PAD] [PAD] [PAD] [PAD] [PAD] [PAD] [PAD] [PAD] [PAD] [PAD] [PAD] [PAD] [PAD] [PAD] [PAD] [PAD] [PAD] [PAD] [PAD] [PAD] [PAD] [PAD] [PAD] [PAD] [PAD] [PAD] [PAD] [PAD] [PAD] [PAD] [PAD] [PAD] [PAD] [PAD] [PAD] [PAD] [PAD] [PAD] [PAD] [PAD] [PAD] [PAD] [PAD] [PAD] [PAD] [PAD] [PAD] [PAD] [PAD] [PAD] [PAD] [PAD] [PAD] [PAD] [PAD] [PAD] [PAD] [PAD] [PAD] [PAD] [PAD] [PAD] [PAD] [PAD] [PAD] [PAD] [PAD] [PAD] [PAD] [PAD] [PAD] [PAD] [PAD] [PAD] [PAD] [PAD] [PAD] [PAD] [PAD] [PAD] [PAD] [PAD] [PAD] [PAD] [PAD] [PAD] [PAD] [PAD] [PAD] [PAD] [PAD] [PAD] [PAD] [PAD] [PAD] [PAD] [PAD] [PAD] [PAD] [PAD] [PAD] [PAD] [PAD] [PAD] [PAD] [PAD] [PAD] [PAD] [PAD] [PAD] [PAD] [PAD] [PAD] [PAD] [PAD] [PAD] [PAD] [PAD] [PAD] [PAD] [PAD] [PAD] [PAD] [PAD] [PAD] [PAD] [PAD] [PAD] [PAD] [PAD] [PAD] [PAD] [PAD] [PAD] [PAD] [PAD] [PAD] [PAD] [PAD] [PAD] [PAD] [PAD] [PAD] [PAD] [PAD] [PAD] [PAD] [PAD] [PAD] [PAD] [PAD] [PAD] [PAD] [PAD] [PAD] [PAD] [PAD] [PAD] [PAD] [PAD] [PAD] [PAD] [PAD] [PAD] [PAD] [PAD] [PAD] [PAD] [PAD] [PAD] [PAD] [PAD] [PAD] [PAD] [PAD] [PAD] [PAD] [PAD] [PAD] [PAD] [PAD] [PAD] [PAD] [PAD] [PAD] [PAD] [PAD] [PAD] [PAD] [PAD] [PAD] [PAD] [PAD] [PAD] [PAD] [PAD] [PAD] [PAD] [PAD] [PAD] [PAD] [PAD] [PAD] [PAD] [PAD] [PAD] [PAD] [PAD] [PAD] [PAD] [PAD] [PAD] [PAD] [PAD] [PAD] [PAD] [PAD] [PAD] [PAD] [PAD] [PAD] [PAD] [PAD] [PAD] [PAD] [PAD] [PAD] [PAD] [PAD] [PAD] [PAD] [PAD] [PAD] [PAD] [PAD] [PAD] [PAD] [PAD] [PAD] [PAD] [PAD] [PAD] [PAD] [PAD] [PAD] [PAD] [PAD] [PAD] [PAD] [PAD] [PAD] [PAD] [PAD] [PAD] [PAD] [PAD] [PAD] [PAD] [PAD] [PAD] [PAD] [PAD] [PAD] [PAD] [PAD] [PAD] [PAD] [PAD] [PAD] [PAD] [PAD] [PAD] [PAD] [PAD] [PAD] [PAD] [PAD] [PAD] [PAD] [PAD] [PAD] [PAD] [PAD] [PAD] [PAD] [PAD] [PAD] [PAD] [PAD] [PAD] [PAD] [PAD] [PAD] [PAD] [PAD] [PAD] [PAD] [PAD] [PAD] [PAD] [PAD] [PAD] [PAD] [PAD] [PAD] [PAD] [PAD] [PAD] [PAD] [PAD] [PAD] [PAD] [PAD] [PAD] [PAD] [PAD] [PAD] [PAD] [PAD] [PAD] [PAD] [PAD] [PAD] [PAD] [PAD] [PAD] [PAD] [PAD] [PAD] [PAD] [PAD] [PAD] [PAD] [PAD] [PAD] [PAD] [PAD] [PAD] [PAD] [PAD] [PAD] [PAD] [PAD] [PAD] [PAD] [PAD] [PAD] [PAD] [PAD] [PAD] [PAD] [PAD] [PAD] [PAD] [PAD] [PAD] [PAD] [PAD] [PAD] [PAD] [PAD] [PAD] [PAD] [PAD] [PAD] [PAD] [PAD] [PAD] [PAD] [PAD] [PAD] [PAD] [PAD] [PAD] [PAD] [PAD] [PAD] [PAD] [PAD] [PAD] [PAD] [PAD] [PAD] [PAD] [PAD] [PAD] [PAD] [PAD] [PAD] [PAD] [PAD] [PAD] [PAD] [PAD] [PAD] [PAD] [PAD] [PAD] [PAD] [PAD] [PAD] [PAD] [PAD] [PAD] [PAD] [PAD] [PAD] [PAD] [PAD] [PAD] [PAD] [PAD] [PAD] [PAD] [PAD] [PAD] [PAD] [PAD] [PAD] [PAD] [PAD] [PAD] [PAD] [PAD] [PAD] [PAD] [PAD] [PAD] [PAD] [PAD] [PAD] [PAD] [PAD] [PAD] [PAD] [PAD] [PAD] [PAD] [PAD] [PAD] [PAD] [PAD] [PAD] [PAD] [PAD] [PAD] [PAD] [PAD] [PAD] [PAD] [PAD] [PAD] [PAD] [PAD] [PAD] [PAD] [PAD] [PAD] [PAD] [PAD] [PAD] [PAD] [PAD] [PAD] [PAD] [PAD] [PAD] [PAD] [PAD] [PAD] [PAD] [PAD] [PAD] [PAD] [PAD] [PAD] [PAD] [PAD] [PAD] [PAD] [PAD] [PAD] [PAD] [PAD] [PAD] [PAD] [PAD] [PAD] [PAD] [PAD] [PAD] [PAD] [PAD] [PAD] [PAD] [PAD] [PAD] [PAD] [PAD] [PAD] [PAD] [PAD] [PAD] [PAD] [PAD] [PAD] [PAD] [PAD] [PAD] [PAD] [PAD] [PAD] [PAD] [PAD] [PAD] [PAD] [PAD] [PAD] [PAD] [PAD] [PAD] [PAD] [PAD] [PAD] [PAD] [PAD] [PAD] [PAD] [PAD] [PAD] [PAD] [PAD] [PAD]\n",
      "샤르도네 붐\n"
     ]
    }
   ],
   "source": [
    "idx = 7888\n",
    "get_text_data_by_idx(idx)"
   ]
  },
  {
   "cell_type": "code",
   "execution_count": null,
   "metadata": {
    "colab": {
     "base_uri": "https://localhost:8080/"
    },
    "id": "ap-kRqsjzyQ-",
    "outputId": "3e4b2501-d2dc-4689-c7fc-8049562986a5"
   },
   "outputs": [
    {
     "name": "stderr",
     "output_type": "stream",
     "text": [
      "INFO:absl:Entering into master device scope: /job:worker/replica:0/task:0/device:CPU:0\n"
     ]
    },
    {
     "name": "stdout",
     "output_type": "stream",
     "text": [
      "INFO:tensorflow:Clearing out eager caches\n"
     ]
    },
    {
     "name": "stderr",
     "output_type": "stream",
     "text": [
      "INFO:tensorflow:Clearing out eager caches\n"
     ]
    },
    {
     "name": "stdout",
     "output_type": "stream",
     "text": [
      "INFO:tensorflow:Initializing the TPU system: grpc://10.108.243.226:8470\n"
     ]
    },
    {
     "name": "stderr",
     "output_type": "stream",
     "text": [
      "INFO:tensorflow:Initializing the TPU system: grpc://10.108.243.226:8470\n"
     ]
    },
    {
     "name": "stdout",
     "output_type": "stream",
     "text": [
      "INFO:tensorflow:Finished initializing TPU system.\n"
     ]
    },
    {
     "name": "stderr",
     "output_type": "stream",
     "text": [
      "INFO:tensorflow:Finished initializing TPU system.\n"
     ]
    },
    {
     "data": {
      "text/plain": [
       "<tensorflow.python.tpu.topology.Topology at 0x7f548c31ed50>"
      ]
     },
     "execution_count": 27,
     "metadata": {},
     "output_type": "execute_result"
    }
   ],
   "source": [
    "# TPU 작동을 위한 코드 TPU 작동을 위한 코드\n",
    "resolver = tf.distribute.cluster_resolver.TPUClusterResolver(tpu='grpc://' + os.environ['COLAB_TPU_ADDR'])\n",
    "tf.config.experimental_connect_to_cluster(resolver)\n",
    "tf.tpu.experimental.initialize_tpu_system(resolver)"
   ]
  },
  {
   "cell_type": "code",
   "execution_count": null,
   "metadata": {
    "colab": {
     "base_uri": "https://localhost:8080/"
    },
    "id": "6brgax5s0EgV",
    "outputId": "fa5f1a96-304a-4e9f-b3d9-a404ed59650e"
   },
   "outputs": [
    {
     "name": "stdout",
     "output_type": "stream",
     "text": [
      "INFO:tensorflow:Found TPU system:\n"
     ]
    },
    {
     "name": "stderr",
     "output_type": "stream",
     "text": [
      "INFO:tensorflow:Found TPU system:\n"
     ]
    },
    {
     "name": "stdout",
     "output_type": "stream",
     "text": [
      "INFO:tensorflow:*** Num TPU Cores: 8\n"
     ]
    },
    {
     "name": "stderr",
     "output_type": "stream",
     "text": [
      "INFO:tensorflow:*** Num TPU Cores: 8\n"
     ]
    },
    {
     "name": "stdout",
     "output_type": "stream",
     "text": [
      "INFO:tensorflow:*** Num TPU Workers: 1\n"
     ]
    },
    {
     "name": "stderr",
     "output_type": "stream",
     "text": [
      "INFO:tensorflow:*** Num TPU Workers: 1\n"
     ]
    },
    {
     "name": "stdout",
     "output_type": "stream",
     "text": [
      "INFO:tensorflow:*** Num TPU Cores Per Worker: 8\n"
     ]
    },
    {
     "name": "stderr",
     "output_type": "stream",
     "text": [
      "INFO:tensorflow:*** Num TPU Cores Per Worker: 8\n"
     ]
    },
    {
     "name": "stdout",
     "output_type": "stream",
     "text": [
      "INFO:tensorflow:*** Available Device: _DeviceAttributes(/job:localhost/replica:0/task:0/device:CPU:0, CPU, 0, 0)\n"
     ]
    },
    {
     "name": "stderr",
     "output_type": "stream",
     "text": [
      "INFO:tensorflow:*** Available Device: _DeviceAttributes(/job:localhost/replica:0/task:0/device:CPU:0, CPU, 0, 0)\n"
     ]
    },
    {
     "name": "stdout",
     "output_type": "stream",
     "text": [
      "INFO:tensorflow:*** Available Device: _DeviceAttributes(/job:worker/replica:0/task:0/device:CPU:0, CPU, 0, 0)\n"
     ]
    },
    {
     "name": "stderr",
     "output_type": "stream",
     "text": [
      "INFO:tensorflow:*** Available Device: _DeviceAttributes(/job:worker/replica:0/task:0/device:CPU:0, CPU, 0, 0)\n"
     ]
    },
    {
     "name": "stdout",
     "output_type": "stream",
     "text": [
      "INFO:tensorflow:*** Available Device: _DeviceAttributes(/job:worker/replica:0/task:0/device:TPU:0, TPU, 0, 0)\n"
     ]
    },
    {
     "name": "stderr",
     "output_type": "stream",
     "text": [
      "INFO:tensorflow:*** Available Device: _DeviceAttributes(/job:worker/replica:0/task:0/device:TPU:0, TPU, 0, 0)\n"
     ]
    },
    {
     "name": "stdout",
     "output_type": "stream",
     "text": [
      "INFO:tensorflow:*** Available Device: _DeviceAttributes(/job:worker/replica:0/task:0/device:TPU:1, TPU, 0, 0)\n"
     ]
    },
    {
     "name": "stderr",
     "output_type": "stream",
     "text": [
      "INFO:tensorflow:*** Available Device: _DeviceAttributes(/job:worker/replica:0/task:0/device:TPU:1, TPU, 0, 0)\n"
     ]
    },
    {
     "name": "stdout",
     "output_type": "stream",
     "text": [
      "INFO:tensorflow:*** Available Device: _DeviceAttributes(/job:worker/replica:0/task:0/device:TPU:2, TPU, 0, 0)\n"
     ]
    },
    {
     "name": "stderr",
     "output_type": "stream",
     "text": [
      "INFO:tensorflow:*** Available Device: _DeviceAttributes(/job:worker/replica:0/task:0/device:TPU:2, TPU, 0, 0)\n"
     ]
    },
    {
     "name": "stdout",
     "output_type": "stream",
     "text": [
      "INFO:tensorflow:*** Available Device: _DeviceAttributes(/job:worker/replica:0/task:0/device:TPU:3, TPU, 0, 0)\n"
     ]
    },
    {
     "name": "stderr",
     "output_type": "stream",
     "text": [
      "INFO:tensorflow:*** Available Device: _DeviceAttributes(/job:worker/replica:0/task:0/device:TPU:3, TPU, 0, 0)\n"
     ]
    },
    {
     "name": "stdout",
     "output_type": "stream",
     "text": [
      "INFO:tensorflow:*** Available Device: _DeviceAttributes(/job:worker/replica:0/task:0/device:TPU:4, TPU, 0, 0)\n"
     ]
    },
    {
     "name": "stderr",
     "output_type": "stream",
     "text": [
      "INFO:tensorflow:*** Available Device: _DeviceAttributes(/job:worker/replica:0/task:0/device:TPU:4, TPU, 0, 0)\n"
     ]
    },
    {
     "name": "stdout",
     "output_type": "stream",
     "text": [
      "INFO:tensorflow:*** Available Device: _DeviceAttributes(/job:worker/replica:0/task:0/device:TPU:5, TPU, 0, 0)\n"
     ]
    },
    {
     "name": "stderr",
     "output_type": "stream",
     "text": [
      "INFO:tensorflow:*** Available Device: _DeviceAttributes(/job:worker/replica:0/task:0/device:TPU:5, TPU, 0, 0)\n"
     ]
    },
    {
     "name": "stdout",
     "output_type": "stream",
     "text": [
      "INFO:tensorflow:*** Available Device: _DeviceAttributes(/job:worker/replica:0/task:0/device:TPU:6, TPU, 0, 0)\n"
     ]
    },
    {
     "name": "stderr",
     "output_type": "stream",
     "text": [
      "INFO:tensorflow:*** Available Device: _DeviceAttributes(/job:worker/replica:0/task:0/device:TPU:6, TPU, 0, 0)\n"
     ]
    },
    {
     "name": "stdout",
     "output_type": "stream",
     "text": [
      "INFO:tensorflow:*** Available Device: _DeviceAttributes(/job:worker/replica:0/task:0/device:TPU:7, TPU, 0, 0)\n"
     ]
    },
    {
     "name": "stderr",
     "output_type": "stream",
     "text": [
      "INFO:tensorflow:*** Available Device: _DeviceAttributes(/job:worker/replica:0/task:0/device:TPU:7, TPU, 0, 0)\n"
     ]
    },
    {
     "name": "stdout",
     "output_type": "stream",
     "text": [
      "INFO:tensorflow:*** Available Device: _DeviceAttributes(/job:worker/replica:0/task:0/device:TPU_SYSTEM:0, TPU_SYSTEM, 0, 0)\n"
     ]
    },
    {
     "name": "stderr",
     "output_type": "stream",
     "text": [
      "INFO:tensorflow:*** Available Device: _DeviceAttributes(/job:worker/replica:0/task:0/device:TPU_SYSTEM:0, TPU_SYSTEM, 0, 0)\n"
     ]
    },
    {
     "name": "stdout",
     "output_type": "stream",
     "text": [
      "INFO:tensorflow:*** Available Device: _DeviceAttributes(/job:worker/replica:0/task:0/device:XLA_CPU:0, XLA_CPU, 0, 0)\n"
     ]
    },
    {
     "name": "stderr",
     "output_type": "stream",
     "text": [
      "INFO:tensorflow:*** Available Device: _DeviceAttributes(/job:worker/replica:0/task:0/device:XLA_CPU:0, XLA_CPU, 0, 0)\n"
     ]
    }
   ],
   "source": [
    "strategy = tf.distribute.TPUStrategy(resolver)"
   ]
  },
  {
   "cell_type": "code",
   "execution_count": null,
   "metadata": {
    "id": "lJz0XjqxGIQH"
   },
   "outputs": [],
   "source": [
    "from transformers import TFBertModel"
   ]
  },
  {
   "cell_type": "code",
   "execution_count": null,
   "metadata": {
    "id": "QEnN8hK9EM6G"
   },
   "outputs": [],
   "source": [
    "# 신규\n",
    "class TFBertForQuestionAnswering(tf.keras.Model):\n",
    "    def __init__(self, model_name):\n",
    "        super(TFBertForQuestionAnswering, self).__init__()\n",
    "        self.bert = TFBertModel.from_pretrained(model_name, from_pt=True)\n",
    "        self.qa_outputs = tf.keras.layers.Dense(2,\n",
    "                                                kernel_initializer=tf.keras.initializers.TruncatedNormal(0.02),\n",
    "                                                name='qa_outputs')\n",
    "        self.softmax = tf.keras.layers.Activation(tf.keras.activations.softmax)\n",
    "\n",
    "    def call(self, inputs):\n",
    "        input_ids, attention_mask = inputs\n",
    "        outputs = self.bert(input_ids, attention_mask=attention_mask)\n",
    "    \n",
    "        sequence_output = outputs[0]\n",
    "\n",
    "        logits = self.qa_outputs(sequence_output)\n",
    "        start_logits, end_logits = tf.split(logits, 2, axis=-1)\n",
    "\n",
    "        # start_logits = (batch_size, sequence_length,)\n",
    "        # end_logits = (batch_size, sequence_length,)\n",
    "        start_logits = tf.squeeze(start_logits, axis=-1)\n",
    "        end_logits = tf.squeeze(end_logits, axis=-1)\n",
    "\n",
    "        start_probs = self.softmax(start_logits)\n",
    "        end_probs = self.softmax(end_logits)\n",
    "\n",
    "        return start_probs, end_probs"
   ]
  },
  {
   "cell_type": "code",
   "execution_count": null,
   "metadata": {
    "colab": {
     "base_uri": "https://localhost:8080/"
    },
    "id": "8Y3NwpKCF4b9",
    "outputId": "bdc4b0cb-b749-42e2-fd79-b5e110c51b69"
   },
   "outputs": [
    {
     "name": "stderr",
     "output_type": "stream",
     "text": [
      "You are using a model of type big_bird to instantiate a model of type bert. This is not supported for all configurations of models and can yield errors.\n",
      "Some weights of the PyTorch model were not used when initializing the TF 2.0 model TFBertModel: ['cls.seq_relationship.bias', 'bert.pooler.weight', 'cls.predictions.bias', 'bert.embeddings.position_ids', 'cls.predictions.decoder.weight', 'cls.predictions.transform.dense.bias', 'cls.predictions.decoder.bias', 'cls.predictions.transform.LayerNorm.bias', 'cls.predictions.transform.dense.weight', 'bert.pooler.bias', 'cls.predictions.transform.LayerNorm.weight', 'cls.seq_relationship.weight']\n",
      "- This IS expected if you are initializing TFBertModel from a PyTorch model trained on another task or with another architecture (e.g. initializing a TFBertForSequenceClassification model from a BertForPreTraining model).\n",
      "- This IS NOT expected if you are initializing TFBertModel from a PyTorch model that you expect to be exactly identical (e.g. initializing a TFBertForSequenceClassification model from a BertForSequenceClassification model).\n",
      "Some weights or buffers of the TF 2.0 model TFBertModel were not initialized from the PyTorch model and are newly initialized: ['bert.pooler.dense.weight', 'bert.pooler.dense.bias']\n",
      "You should probably TRAIN this model on a down-stream task to be able to use it for predictions and inference.\n"
     ]
    }
   ],
   "source": [
    "# 신규\n",
    "with strategy.scope():\n",
    "  model = TFBertForQuestionAnswering(\"monologg/kobigbird-bert-base\")\n",
    "  optimizer = tf.keras.optimizers.Adam(learning_rate=5e-5)\n",
    "  loss = tf.keras.losses.SparseCategoricalCrossentropy(from_logits=False)\n",
    "  model.compile(optimizer=optimizer, loss=[loss, loss])"
   ]
  },
  {
   "cell_type": "code",
   "execution_count": null,
   "metadata": {
    "colab": {
     "base_uri": "https://localhost:8080/",
     "height": 542
    },
    "id": "C4xS9Zii2qIK",
    "outputId": "bbe43b49-c1f0-4a88-d8fb-07805088fef6"
   },
   "outputs": [
    {
     "name": "stdout",
     "output_type": "stream",
     "text": [
      "Epoch 1/3\n",
      "WARNING:tensorflow:Gradients do not exist for variables ['tf_bert_model/bert/pooler/dense/kernel:0', 'tf_bert_model/bert/pooler/dense/bias:0'] when minimizing the loss.\n"
     ]
    },
    {
     "name": "stderr",
     "output_type": "stream",
     "text": [
      "WARNING:tensorflow:Gradients do not exist for variables ['tf_bert_model/bert/pooler/dense/kernel:0', 'tf_bert_model/bert/pooler/dense/bias:0'] when minimizing the loss.\n"
     ]
    },
    {
     "name": "stdout",
     "output_type": "stream",
     "text": [
      "WARNING:tensorflow:Gradients do not exist for variables ['tf_bert_model/bert/pooler/dense/kernel:0', 'tf_bert_model/bert/pooler/dense/bias:0'] when minimizing the loss.\n"
     ]
    },
    {
     "name": "stderr",
     "output_type": "stream",
     "text": [
      "WARNING:tensorflow:Gradients do not exist for variables ['tf_bert_model/bert/pooler/dense/kernel:0', 'tf_bert_model/bert/pooler/dense/bias:0'] when minimizing the loss.\n"
     ]
    },
    {
     "name": "stdout",
     "output_type": "stream",
     "text": [
      "7547/7547 [==============================] - 4981s 648ms/step - loss: 1.2882 - output_1_loss: 0.5868 - output_2_loss: 0.7014\n",
      "Epoch 2/3\n",
      "7547/7547 [==============================] - 4899s 649ms/step - loss: 0.7245 - output_1_loss: 0.3150 - output_2_loss: 0.4095\n",
      "Epoch 3/3\n",
      "4891/7547 [==================>...........] - ETA: 28:44 - loss: 0.5342 - output_1_loss: 0.2265 - output_2_loss: 0.3077"
     ]
    },
    {
     "ename": "KeyboardInterrupt",
     "evalue": "ignored",
     "output_type": "error",
     "traceback": [
      "\u001b[0;31m---------------------------------------------------------------------------\u001b[0m",
      "\u001b[0;31mKeyboardInterrupt\u001b[0m                         Traceback (most recent call last)",
      "\u001b[0;32m<ipython-input-32-43b329a17768>\u001b[0m in \u001b[0;36m<module>\u001b[0;34m()\u001b[0m\n\u001b[1;32m      4\u001b[0m     \u001b[0mepochs\u001b[0m\u001b[0;34m=\u001b[0m\u001b[0;36m3\u001b[0m\u001b[0;34m,\u001b[0m  \u001b[0;31m# For demonstration, 3 epochs are recommended\u001b[0m\u001b[0;34m\u001b[0m\u001b[0;34m\u001b[0m\u001b[0m\n\u001b[1;32m      5\u001b[0m     \u001b[0mverbose\u001b[0m\u001b[0;34m=\u001b[0m\u001b[0;36m1\u001b[0m\u001b[0;34m,\u001b[0m\u001b[0;34m\u001b[0m\u001b[0;34m\u001b[0m\u001b[0m\n\u001b[0;32m----> 6\u001b[0;31m     \u001b[0mbatch_size\u001b[0m\u001b[0;34m=\u001b[0m\u001b[0;36m8\u001b[0m\u001b[0;34m,\u001b[0m\u001b[0;34m\u001b[0m\u001b[0;34m\u001b[0m\u001b[0m\n\u001b[0m\u001b[1;32m      7\u001b[0m )\n",
      "\u001b[0;32m/usr/local/lib/python3.7/dist-packages/keras/engine/training.py\u001b[0m in \u001b[0;36mfit\u001b[0;34m(self, x, y, batch_size, epochs, verbose, callbacks, validation_split, validation_data, shuffle, class_weight, sample_weight, initial_epoch, steps_per_epoch, validation_steps, validation_batch_size, validation_freq, max_queue_size, workers, use_multiprocessing)\u001b[0m\n\u001b[1;32m   1187\u001b[0m               \u001b[0mlogs\u001b[0m \u001b[0;34m=\u001b[0m \u001b[0mtmp_logs\u001b[0m  \u001b[0;31m# No error, now safe to assign to logs.\u001b[0m\u001b[0;34m\u001b[0m\u001b[0;34m\u001b[0m\u001b[0m\n\u001b[1;32m   1188\u001b[0m               \u001b[0mend_step\u001b[0m \u001b[0;34m=\u001b[0m \u001b[0mstep\u001b[0m \u001b[0;34m+\u001b[0m \u001b[0mdata_handler\u001b[0m\u001b[0;34m.\u001b[0m\u001b[0mstep_increment\u001b[0m\u001b[0;34m\u001b[0m\u001b[0;34m\u001b[0m\u001b[0m\n\u001b[0;32m-> 1189\u001b[0;31m               \u001b[0mcallbacks\u001b[0m\u001b[0;34m.\u001b[0m\u001b[0mon_train_batch_end\u001b[0m\u001b[0;34m(\u001b[0m\u001b[0mend_step\u001b[0m\u001b[0;34m,\u001b[0m \u001b[0mlogs\u001b[0m\u001b[0;34m)\u001b[0m\u001b[0;34m\u001b[0m\u001b[0;34m\u001b[0m\u001b[0m\n\u001b[0m\u001b[1;32m   1190\u001b[0m               \u001b[0;32mif\u001b[0m \u001b[0mself\u001b[0m\u001b[0;34m.\u001b[0m\u001b[0mstop_training\u001b[0m\u001b[0;34m:\u001b[0m\u001b[0;34m\u001b[0m\u001b[0;34m\u001b[0m\u001b[0m\n\u001b[1;32m   1191\u001b[0m                 \u001b[0;32mbreak\u001b[0m\u001b[0;34m\u001b[0m\u001b[0;34m\u001b[0m\u001b[0m\n",
      "\u001b[0;32m/usr/local/lib/python3.7/dist-packages/keras/callbacks.py\u001b[0m in \u001b[0;36mon_train_batch_end\u001b[0;34m(self, batch, logs)\u001b[0m\n\u001b[1;32m    433\u001b[0m     \"\"\"\n\u001b[1;32m    434\u001b[0m     \u001b[0;32mif\u001b[0m \u001b[0mself\u001b[0m\u001b[0;34m.\u001b[0m\u001b[0m_should_call_train_batch_hooks\u001b[0m\u001b[0;34m:\u001b[0m\u001b[0;34m\u001b[0m\u001b[0;34m\u001b[0m\u001b[0m\n\u001b[0;32m--> 435\u001b[0;31m       \u001b[0mself\u001b[0m\u001b[0;34m.\u001b[0m\u001b[0m_call_batch_hook\u001b[0m\u001b[0;34m(\u001b[0m\u001b[0mModeKeys\u001b[0m\u001b[0;34m.\u001b[0m\u001b[0mTRAIN\u001b[0m\u001b[0;34m,\u001b[0m \u001b[0;34m'end'\u001b[0m\u001b[0;34m,\u001b[0m \u001b[0mbatch\u001b[0m\u001b[0;34m,\u001b[0m \u001b[0mlogs\u001b[0m\u001b[0;34m=\u001b[0m\u001b[0mlogs\u001b[0m\u001b[0;34m)\u001b[0m\u001b[0;34m\u001b[0m\u001b[0;34m\u001b[0m\u001b[0m\n\u001b[0m\u001b[1;32m    436\u001b[0m \u001b[0;34m\u001b[0m\u001b[0m\n\u001b[1;32m    437\u001b[0m   \u001b[0;32mdef\u001b[0m \u001b[0mon_test_batch_begin\u001b[0m\u001b[0;34m(\u001b[0m\u001b[0mself\u001b[0m\u001b[0;34m,\u001b[0m \u001b[0mbatch\u001b[0m\u001b[0;34m,\u001b[0m \u001b[0mlogs\u001b[0m\u001b[0;34m=\u001b[0m\u001b[0;32mNone\u001b[0m\u001b[0;34m)\u001b[0m\u001b[0;34m:\u001b[0m\u001b[0;34m\u001b[0m\u001b[0;34m\u001b[0m\u001b[0m\n",
      "\u001b[0;32m/usr/local/lib/python3.7/dist-packages/keras/callbacks.py\u001b[0m in \u001b[0;36m_call_batch_hook\u001b[0;34m(self, mode, hook, batch, logs)\u001b[0m\n\u001b[1;32m    293\u001b[0m       \u001b[0mself\u001b[0m\u001b[0;34m.\u001b[0m\u001b[0m_call_batch_begin_hook\u001b[0m\u001b[0;34m(\u001b[0m\u001b[0mmode\u001b[0m\u001b[0;34m,\u001b[0m \u001b[0mbatch\u001b[0m\u001b[0;34m,\u001b[0m \u001b[0mlogs\u001b[0m\u001b[0;34m)\u001b[0m\u001b[0;34m\u001b[0m\u001b[0;34m\u001b[0m\u001b[0m\n\u001b[1;32m    294\u001b[0m     \u001b[0;32melif\u001b[0m \u001b[0mhook\u001b[0m \u001b[0;34m==\u001b[0m \u001b[0;34m'end'\u001b[0m\u001b[0;34m:\u001b[0m\u001b[0;34m\u001b[0m\u001b[0;34m\u001b[0m\u001b[0m\n\u001b[0;32m--> 295\u001b[0;31m       \u001b[0mself\u001b[0m\u001b[0;34m.\u001b[0m\u001b[0m_call_batch_end_hook\u001b[0m\u001b[0;34m(\u001b[0m\u001b[0mmode\u001b[0m\u001b[0;34m,\u001b[0m \u001b[0mbatch\u001b[0m\u001b[0;34m,\u001b[0m \u001b[0mlogs\u001b[0m\u001b[0;34m)\u001b[0m\u001b[0;34m\u001b[0m\u001b[0;34m\u001b[0m\u001b[0m\n\u001b[0m\u001b[1;32m    296\u001b[0m     \u001b[0;32melse\u001b[0m\u001b[0;34m:\u001b[0m\u001b[0;34m\u001b[0m\u001b[0;34m\u001b[0m\u001b[0m\n\u001b[1;32m    297\u001b[0m       \u001b[0;32mraise\u001b[0m \u001b[0mValueError\u001b[0m\u001b[0;34m(\u001b[0m\u001b[0;34m'Unrecognized hook: {}'\u001b[0m\u001b[0;34m.\u001b[0m\u001b[0mformat\u001b[0m\u001b[0;34m(\u001b[0m\u001b[0mhook\u001b[0m\u001b[0;34m)\u001b[0m\u001b[0;34m)\u001b[0m\u001b[0;34m\u001b[0m\u001b[0;34m\u001b[0m\u001b[0m\n",
      "\u001b[0;32m/usr/local/lib/python3.7/dist-packages/keras/callbacks.py\u001b[0m in \u001b[0;36m_call_batch_end_hook\u001b[0;34m(self, mode, batch, logs)\u001b[0m\n\u001b[1;32m    313\u001b[0m       \u001b[0mself\u001b[0m\u001b[0;34m.\u001b[0m\u001b[0m_batch_times\u001b[0m\u001b[0;34m.\u001b[0m\u001b[0mappend\u001b[0m\u001b[0;34m(\u001b[0m\u001b[0mbatch_time\u001b[0m\u001b[0;34m)\u001b[0m\u001b[0;34m\u001b[0m\u001b[0;34m\u001b[0m\u001b[0m\n\u001b[1;32m    314\u001b[0m \u001b[0;34m\u001b[0m\u001b[0m\n\u001b[0;32m--> 315\u001b[0;31m     \u001b[0mself\u001b[0m\u001b[0;34m.\u001b[0m\u001b[0m_call_batch_hook_helper\u001b[0m\u001b[0;34m(\u001b[0m\u001b[0mhook_name\u001b[0m\u001b[0;34m,\u001b[0m \u001b[0mbatch\u001b[0m\u001b[0;34m,\u001b[0m \u001b[0mlogs\u001b[0m\u001b[0;34m)\u001b[0m\u001b[0;34m\u001b[0m\u001b[0;34m\u001b[0m\u001b[0m\n\u001b[0m\u001b[1;32m    316\u001b[0m \u001b[0;34m\u001b[0m\u001b[0m\n\u001b[1;32m    317\u001b[0m     \u001b[0;32mif\u001b[0m \u001b[0mlen\u001b[0m\u001b[0;34m(\u001b[0m\u001b[0mself\u001b[0m\u001b[0;34m.\u001b[0m\u001b[0m_batch_times\u001b[0m\u001b[0;34m)\u001b[0m \u001b[0;34m>=\u001b[0m \u001b[0mself\u001b[0m\u001b[0;34m.\u001b[0m\u001b[0m_num_batches_for_timing_check\u001b[0m\u001b[0;34m:\u001b[0m\u001b[0;34m\u001b[0m\u001b[0;34m\u001b[0m\u001b[0m\n",
      "\u001b[0;32m/usr/local/lib/python3.7/dist-packages/keras/callbacks.py\u001b[0m in \u001b[0;36m_call_batch_hook_helper\u001b[0;34m(self, hook_name, batch, logs)\u001b[0m\n\u001b[1;32m    351\u001b[0m     \u001b[0;32mfor\u001b[0m \u001b[0mcallback\u001b[0m \u001b[0;32min\u001b[0m \u001b[0mself\u001b[0m\u001b[0;34m.\u001b[0m\u001b[0mcallbacks\u001b[0m\u001b[0;34m:\u001b[0m\u001b[0;34m\u001b[0m\u001b[0;34m\u001b[0m\u001b[0m\n\u001b[1;32m    352\u001b[0m       \u001b[0mhook\u001b[0m \u001b[0;34m=\u001b[0m \u001b[0mgetattr\u001b[0m\u001b[0;34m(\u001b[0m\u001b[0mcallback\u001b[0m\u001b[0;34m,\u001b[0m \u001b[0mhook_name\u001b[0m\u001b[0;34m)\u001b[0m\u001b[0;34m\u001b[0m\u001b[0;34m\u001b[0m\u001b[0m\n\u001b[0;32m--> 353\u001b[0;31m       \u001b[0mhook\u001b[0m\u001b[0;34m(\u001b[0m\u001b[0mbatch\u001b[0m\u001b[0;34m,\u001b[0m \u001b[0mlogs\u001b[0m\u001b[0;34m)\u001b[0m\u001b[0;34m\u001b[0m\u001b[0;34m\u001b[0m\u001b[0m\n\u001b[0m\u001b[1;32m    354\u001b[0m \u001b[0;34m\u001b[0m\u001b[0m\n\u001b[1;32m    355\u001b[0m     \u001b[0;32mif\u001b[0m \u001b[0mself\u001b[0m\u001b[0;34m.\u001b[0m\u001b[0m_check_timing\u001b[0m\u001b[0;34m:\u001b[0m\u001b[0;34m\u001b[0m\u001b[0;34m\u001b[0m\u001b[0m\n",
      "\u001b[0;32m/usr/local/lib/python3.7/dist-packages/keras/callbacks.py\u001b[0m in \u001b[0;36mon_train_batch_end\u001b[0;34m(self, batch, logs)\u001b[0m\n\u001b[1;32m   1026\u001b[0m \u001b[0;34m\u001b[0m\u001b[0m\n\u001b[1;32m   1027\u001b[0m   \u001b[0;32mdef\u001b[0m \u001b[0mon_train_batch_end\u001b[0m\u001b[0;34m(\u001b[0m\u001b[0mself\u001b[0m\u001b[0;34m,\u001b[0m \u001b[0mbatch\u001b[0m\u001b[0;34m,\u001b[0m \u001b[0mlogs\u001b[0m\u001b[0;34m=\u001b[0m\u001b[0;32mNone\u001b[0m\u001b[0;34m)\u001b[0m\u001b[0;34m:\u001b[0m\u001b[0;34m\u001b[0m\u001b[0;34m\u001b[0m\u001b[0m\n\u001b[0;32m-> 1028\u001b[0;31m     \u001b[0mself\u001b[0m\u001b[0;34m.\u001b[0m\u001b[0m_batch_update_progbar\u001b[0m\u001b[0;34m(\u001b[0m\u001b[0mbatch\u001b[0m\u001b[0;34m,\u001b[0m \u001b[0mlogs\u001b[0m\u001b[0;34m)\u001b[0m\u001b[0;34m\u001b[0m\u001b[0;34m\u001b[0m\u001b[0m\n\u001b[0m\u001b[1;32m   1029\u001b[0m \u001b[0;34m\u001b[0m\u001b[0m\n\u001b[1;32m   1030\u001b[0m   \u001b[0;32mdef\u001b[0m \u001b[0mon_test_batch_end\u001b[0m\u001b[0;34m(\u001b[0m\u001b[0mself\u001b[0m\u001b[0;34m,\u001b[0m \u001b[0mbatch\u001b[0m\u001b[0;34m,\u001b[0m \u001b[0mlogs\u001b[0m\u001b[0;34m=\u001b[0m\u001b[0;32mNone\u001b[0m\u001b[0;34m)\u001b[0m\u001b[0;34m:\u001b[0m\u001b[0;34m\u001b[0m\u001b[0;34m\u001b[0m\u001b[0m\n",
      "\u001b[0;32m/usr/local/lib/python3.7/dist-packages/keras/callbacks.py\u001b[0m in \u001b[0;36m_batch_update_progbar\u001b[0;34m(self, batch, logs)\u001b[0m\n\u001b[1;32m   1098\u001b[0m     \u001b[0;32mif\u001b[0m \u001b[0mself\u001b[0m\u001b[0;34m.\u001b[0m\u001b[0mverbose\u001b[0m \u001b[0;34m==\u001b[0m \u001b[0;36m1\u001b[0m\u001b[0;34m:\u001b[0m\u001b[0;34m\u001b[0m\u001b[0;34m\u001b[0m\u001b[0m\n\u001b[1;32m   1099\u001b[0m       \u001b[0;31m# Only block async when verbose = 1.\u001b[0m\u001b[0;34m\u001b[0m\u001b[0;34m\u001b[0m\u001b[0;34m\u001b[0m\u001b[0m\n\u001b[0;32m-> 1100\u001b[0;31m       \u001b[0mlogs\u001b[0m \u001b[0;34m=\u001b[0m \u001b[0mtf_utils\u001b[0m\u001b[0;34m.\u001b[0m\u001b[0msync_to_numpy_or_python_type\u001b[0m\u001b[0;34m(\u001b[0m\u001b[0mlogs\u001b[0m\u001b[0;34m)\u001b[0m\u001b[0;34m\u001b[0m\u001b[0;34m\u001b[0m\u001b[0m\n\u001b[0m\u001b[1;32m   1101\u001b[0m       \u001b[0mself\u001b[0m\u001b[0;34m.\u001b[0m\u001b[0mprogbar\u001b[0m\u001b[0;34m.\u001b[0m\u001b[0mupdate\u001b[0m\u001b[0;34m(\u001b[0m\u001b[0mself\u001b[0m\u001b[0;34m.\u001b[0m\u001b[0mseen\u001b[0m\u001b[0;34m,\u001b[0m \u001b[0mlist\u001b[0m\u001b[0;34m(\u001b[0m\u001b[0mlogs\u001b[0m\u001b[0;34m.\u001b[0m\u001b[0mitems\u001b[0m\u001b[0;34m(\u001b[0m\u001b[0;34m)\u001b[0m\u001b[0;34m)\u001b[0m\u001b[0;34m,\u001b[0m \u001b[0mfinalize\u001b[0m\u001b[0;34m=\u001b[0m\u001b[0;32mFalse\u001b[0m\u001b[0;34m)\u001b[0m\u001b[0;34m\u001b[0m\u001b[0;34m\u001b[0m\u001b[0m\n\u001b[1;32m   1102\u001b[0m \u001b[0;34m\u001b[0m\u001b[0m\n",
      "\u001b[0;32m/usr/local/lib/python3.7/dist-packages/keras/utils/tf_utils.py\u001b[0m in \u001b[0;36msync_to_numpy_or_python_type\u001b[0;34m(tensors)\u001b[0m\n\u001b[1;32m    514\u001b[0m     \u001b[0;32mreturn\u001b[0m \u001b[0mt\u001b[0m  \u001b[0;31m# Don't turn ragged or sparse tensors to NumPy.\u001b[0m\u001b[0;34m\u001b[0m\u001b[0;34m\u001b[0m\u001b[0m\n\u001b[1;32m    515\u001b[0m \u001b[0;34m\u001b[0m\u001b[0m\n\u001b[0;32m--> 516\u001b[0;31m   \u001b[0;32mreturn\u001b[0m \u001b[0mtf\u001b[0m\u001b[0;34m.\u001b[0m\u001b[0mnest\u001b[0m\u001b[0;34m.\u001b[0m\u001b[0mmap_structure\u001b[0m\u001b[0;34m(\u001b[0m\u001b[0m_to_single_numpy_or_python_type\u001b[0m\u001b[0;34m,\u001b[0m \u001b[0mtensors\u001b[0m\u001b[0;34m)\u001b[0m\u001b[0;34m\u001b[0m\u001b[0;34m\u001b[0m\u001b[0m\n\u001b[0m\u001b[1;32m    517\u001b[0m \u001b[0;34m\u001b[0m\u001b[0m\n\u001b[1;32m    518\u001b[0m \u001b[0;34m\u001b[0m\u001b[0m\n",
      "\u001b[0;32m/usr/local/lib/python3.7/dist-packages/tensorflow/python/util/nest.py\u001b[0m in \u001b[0;36mmap_structure\u001b[0;34m(func, *structure, **kwargs)\u001b[0m\n\u001b[1;32m    867\u001b[0m \u001b[0;34m\u001b[0m\u001b[0m\n\u001b[1;32m    868\u001b[0m   return pack_sequence_as(\n\u001b[0;32m--> 869\u001b[0;31m       \u001b[0mstructure\u001b[0m\u001b[0;34m[\u001b[0m\u001b[0;36m0\u001b[0m\u001b[0;34m]\u001b[0m\u001b[0;34m,\u001b[0m \u001b[0;34m[\u001b[0m\u001b[0mfunc\u001b[0m\u001b[0;34m(\u001b[0m\u001b[0;34m*\u001b[0m\u001b[0mx\u001b[0m\u001b[0;34m)\u001b[0m \u001b[0;32mfor\u001b[0m \u001b[0mx\u001b[0m \u001b[0;32min\u001b[0m \u001b[0mentries\u001b[0m\u001b[0;34m]\u001b[0m\u001b[0;34m,\u001b[0m\u001b[0;34m\u001b[0m\u001b[0;34m\u001b[0m\u001b[0m\n\u001b[0m\u001b[1;32m    870\u001b[0m       expand_composites=expand_composites)\n\u001b[1;32m    871\u001b[0m \u001b[0;34m\u001b[0m\u001b[0m\n",
      "\u001b[0;32m/usr/local/lib/python3.7/dist-packages/tensorflow/python/util/nest.py\u001b[0m in \u001b[0;36m<listcomp>\u001b[0;34m(.0)\u001b[0m\n\u001b[1;32m    867\u001b[0m \u001b[0;34m\u001b[0m\u001b[0m\n\u001b[1;32m    868\u001b[0m   return pack_sequence_as(\n\u001b[0;32m--> 869\u001b[0;31m       \u001b[0mstructure\u001b[0m\u001b[0;34m[\u001b[0m\u001b[0;36m0\u001b[0m\u001b[0;34m]\u001b[0m\u001b[0;34m,\u001b[0m \u001b[0;34m[\u001b[0m\u001b[0mfunc\u001b[0m\u001b[0;34m(\u001b[0m\u001b[0;34m*\u001b[0m\u001b[0mx\u001b[0m\u001b[0;34m)\u001b[0m \u001b[0;32mfor\u001b[0m \u001b[0mx\u001b[0m \u001b[0;32min\u001b[0m \u001b[0mentries\u001b[0m\u001b[0;34m]\u001b[0m\u001b[0;34m,\u001b[0m\u001b[0;34m\u001b[0m\u001b[0;34m\u001b[0m\u001b[0m\n\u001b[0m\u001b[1;32m    870\u001b[0m       expand_composites=expand_composites)\n\u001b[1;32m    871\u001b[0m \u001b[0;34m\u001b[0m\u001b[0m\n",
      "\u001b[0;32m/usr/local/lib/python3.7/dist-packages/keras/utils/tf_utils.py\u001b[0m in \u001b[0;36m_to_single_numpy_or_python_type\u001b[0;34m(t)\u001b[0m\n\u001b[1;32m    510\u001b[0m   \u001b[0;32mdef\u001b[0m \u001b[0m_to_single_numpy_or_python_type\u001b[0m\u001b[0;34m(\u001b[0m\u001b[0mt\u001b[0m\u001b[0;34m)\u001b[0m\u001b[0;34m:\u001b[0m\u001b[0;34m\u001b[0m\u001b[0;34m\u001b[0m\u001b[0m\n\u001b[1;32m    511\u001b[0m     \u001b[0;32mif\u001b[0m \u001b[0misinstance\u001b[0m\u001b[0;34m(\u001b[0m\u001b[0mt\u001b[0m\u001b[0;34m,\u001b[0m \u001b[0mtf\u001b[0m\u001b[0;34m.\u001b[0m\u001b[0mTensor\u001b[0m\u001b[0;34m)\u001b[0m\u001b[0;34m:\u001b[0m\u001b[0;34m\u001b[0m\u001b[0;34m\u001b[0m\u001b[0m\n\u001b[0;32m--> 512\u001b[0;31m       \u001b[0mx\u001b[0m \u001b[0;34m=\u001b[0m \u001b[0mt\u001b[0m\u001b[0;34m.\u001b[0m\u001b[0mnumpy\u001b[0m\u001b[0;34m(\u001b[0m\u001b[0;34m)\u001b[0m\u001b[0;34m\u001b[0m\u001b[0;34m\u001b[0m\u001b[0m\n\u001b[0m\u001b[1;32m    513\u001b[0m       \u001b[0;32mreturn\u001b[0m \u001b[0mx\u001b[0m\u001b[0;34m.\u001b[0m\u001b[0mitem\u001b[0m\u001b[0;34m(\u001b[0m\u001b[0;34m)\u001b[0m \u001b[0;32mif\u001b[0m \u001b[0mnp\u001b[0m\u001b[0;34m.\u001b[0m\u001b[0mndim\u001b[0m\u001b[0;34m(\u001b[0m\u001b[0mx\u001b[0m\u001b[0;34m)\u001b[0m \u001b[0;34m==\u001b[0m \u001b[0;36m0\u001b[0m \u001b[0;32melse\u001b[0m \u001b[0mx\u001b[0m\u001b[0;34m\u001b[0m\u001b[0;34m\u001b[0m\u001b[0m\n\u001b[1;32m    514\u001b[0m     \u001b[0;32mreturn\u001b[0m \u001b[0mt\u001b[0m  \u001b[0;31m# Don't turn ragged or sparse tensors to NumPy.\u001b[0m\u001b[0;34m\u001b[0m\u001b[0;34m\u001b[0m\u001b[0m\n",
      "\u001b[0;32m/usr/local/lib/python3.7/dist-packages/tensorflow/python/framework/ops.py\u001b[0m in \u001b[0;36mnumpy\u001b[0;34m(self)\u001b[0m\n\u001b[1;32m   1092\u001b[0m     \"\"\"\n\u001b[1;32m   1093\u001b[0m     \u001b[0;31m# TODO(slebedev): Consider avoiding a copy for non-CPU or remote tensors.\u001b[0m\u001b[0;34m\u001b[0m\u001b[0;34m\u001b[0m\u001b[0;34m\u001b[0m\u001b[0m\n\u001b[0;32m-> 1094\u001b[0;31m     \u001b[0mmaybe_arr\u001b[0m \u001b[0;34m=\u001b[0m \u001b[0mself\u001b[0m\u001b[0;34m.\u001b[0m\u001b[0m_numpy\u001b[0m\u001b[0;34m(\u001b[0m\u001b[0;34m)\u001b[0m  \u001b[0;31m# pylint: disable=protected-access\u001b[0m\u001b[0;34m\u001b[0m\u001b[0;34m\u001b[0m\u001b[0m\n\u001b[0m\u001b[1;32m   1095\u001b[0m     \u001b[0;32mreturn\u001b[0m \u001b[0mmaybe_arr\u001b[0m\u001b[0;34m.\u001b[0m\u001b[0mcopy\u001b[0m\u001b[0;34m(\u001b[0m\u001b[0;34m)\u001b[0m \u001b[0;32mif\u001b[0m \u001b[0misinstance\u001b[0m\u001b[0;34m(\u001b[0m\u001b[0mmaybe_arr\u001b[0m\u001b[0;34m,\u001b[0m \u001b[0mnp\u001b[0m\u001b[0;34m.\u001b[0m\u001b[0mndarray\u001b[0m\u001b[0;34m)\u001b[0m \u001b[0;32melse\u001b[0m \u001b[0mmaybe_arr\u001b[0m\u001b[0;34m\u001b[0m\u001b[0;34m\u001b[0m\u001b[0m\n\u001b[1;32m   1096\u001b[0m \u001b[0;34m\u001b[0m\u001b[0m\n",
      "\u001b[0;32m/usr/local/lib/python3.7/dist-packages/tensorflow/python/framework/ops.py\u001b[0m in \u001b[0;36m_numpy\u001b[0;34m(self)\u001b[0m\n\u001b[1;32m   1058\u001b[0m   \u001b[0;32mdef\u001b[0m \u001b[0m_numpy\u001b[0m\u001b[0;34m(\u001b[0m\u001b[0mself\u001b[0m\u001b[0;34m)\u001b[0m\u001b[0;34m:\u001b[0m\u001b[0;34m\u001b[0m\u001b[0;34m\u001b[0m\u001b[0m\n\u001b[1;32m   1059\u001b[0m     \u001b[0;32mtry\u001b[0m\u001b[0;34m:\u001b[0m\u001b[0;34m\u001b[0m\u001b[0;34m\u001b[0m\u001b[0m\n\u001b[0;32m-> 1060\u001b[0;31m       \u001b[0;32mreturn\u001b[0m \u001b[0mself\u001b[0m\u001b[0;34m.\u001b[0m\u001b[0m_numpy_internal\u001b[0m\u001b[0;34m(\u001b[0m\u001b[0;34m)\u001b[0m\u001b[0;34m\u001b[0m\u001b[0;34m\u001b[0m\u001b[0m\n\u001b[0m\u001b[1;32m   1061\u001b[0m     \u001b[0;32mexcept\u001b[0m \u001b[0mcore\u001b[0m\u001b[0;34m.\u001b[0m\u001b[0m_NotOkStatusException\u001b[0m \u001b[0;32mas\u001b[0m \u001b[0me\u001b[0m\u001b[0;34m:\u001b[0m  \u001b[0;31m# pylint: disable=protected-access\u001b[0m\u001b[0;34m\u001b[0m\u001b[0;34m\u001b[0m\u001b[0m\n\u001b[1;32m   1062\u001b[0m       \u001b[0msix\u001b[0m\u001b[0;34m.\u001b[0m\u001b[0mraise_from\u001b[0m\u001b[0;34m(\u001b[0m\u001b[0mcore\u001b[0m\u001b[0;34m.\u001b[0m\u001b[0m_status_to_exception\u001b[0m\u001b[0;34m(\u001b[0m\u001b[0me\u001b[0m\u001b[0;34m.\u001b[0m\u001b[0mcode\u001b[0m\u001b[0;34m,\u001b[0m \u001b[0me\u001b[0m\u001b[0;34m.\u001b[0m\u001b[0mmessage\u001b[0m\u001b[0;34m)\u001b[0m\u001b[0;34m,\u001b[0m \u001b[0;32mNone\u001b[0m\u001b[0;34m)\u001b[0m  \u001b[0;31m# pylint: disable=protected-access\u001b[0m\u001b[0;34m\u001b[0m\u001b[0;34m\u001b[0m\u001b[0m\n",
      "\u001b[0;31mKeyboardInterrupt\u001b[0m: "
     ]
    }
   ],
   "source": [
    "history = model.fit(\n",
    "    X_train,\n",
    "    y_train,\n",
    "    epochs=3,  # For demonstration, 3 epochs are recommended\n",
    "    verbose=1,\n",
    "    batch_size=8,\n",
    ")"
   ]
  },
  {
   "cell_type": "code",
   "execution_count": null,
   "metadata": {
    "id": "AiJS8QJy-36s"
   },
   "outputs": [],
   "source": [
    "def predict_test_data_by_idx(idx):\n",
    "  context = tokenizer.decode(X_test[0][idx]).split('[SEP] ')[0]\n",
    "  question = tokenizer.decode(X_test[0][idx]).split('[SEP] ')[1]\n",
    "  print('본문 :', context)\n",
    "  print('질문 :', question)\n",
    "  answer_encoded = X_test[0][idx][y_test[0][idx]:y_test[1][idx]+1]\n",
    "  print('정답 :',tokenizer.decode(answer_encoded))\n",
    "  output = model([tf.constant(X_test[0][idx])[None, :], tf.constant(X_test[1][idx])[None, :]])\n",
    "  start = tf.math.argmax(tf.squeeze(output[0]))\n",
    "  end = tf.math.argmax(tf.squeeze(output[1]))+1\n",
    "  answer_encoded = X_test[0][idx][start:end]\n",
    "  print('예측 :',tokenizer.decode(answer_encoded))\n",
    "  print('----------------------------------------')"
   ]
  },
  {
   "cell_type": "code",
   "execution_count": null,
   "metadata": {
    "colab": {
     "base_uri": "https://localhost:8080/"
    },
    "id": "-Btw62L1z6G3",
    "outputId": "c36ad543-5e1f-4147-a13a-151902833ac1"
   },
   "outputs": [
    {
     "name": "stdout",
     "output_type": "stream",
     "text": [
      "본문 : [CLS] 1989년 2월 15일 여의도 농민 폭력 시위를 주도한 혐의 ( 폭력행위등처벌에관한법률위반 ) 으로 지명수배되었다. 1989년 3월 12일 서울지방검찰청 공안부는 임종석의 사전구속영장을 발부받았다. 같은 해 6월 30일 평양축전에 임수경을 대표로 파견하여 국가보안법위반 혐의가 추가되었다. 경찰은 12월 18일 ~ 20일 사이 서울 경희대학교에서 임종석이 성명 발표를 추진하고 있다는 첩보를 입수했고, 12월 18일 오전 7시 40분 경 가스총과 전자봉으로 무장한 특공조 및 대공과 직원 12명 등 22명의 사복 경찰을 승용차 8대에 나누어 경희대학교에 투입했다. 1989년 12월 18일 오전 8시 15분 경 서울청량리경찰서는 호위 학생 5명과 함께 경희대학교 학생회관 건물 계단을 내려오는 임종석을 발견, 검거해 구속을 집행했다. 임종석은 청량리경찰서에서 약 1시간 동안 조사를 받은 뒤 오전 9시 50분 경 서울 장안동의 서울지방경찰청 공안분실로 인계되었다. \n",
      "질문 : 임종석이 여의도 농민 폭력 시위를 주도한 혐의로 지명수배 된 날은? \n",
      "정답 : 1989년 2월 15일\n",
      "예측 : 1989년 2월 15일\n",
      "----------------------------------------\n",
      "본문 : [CLS] 1989년 2월 15일 여의도 농민 폭력 시위를 주도한 혐의 ( 폭력행위등처벌에관한법률위반 ) 으로 지명수배되었다. 1989년 3월 12일 서울지방검찰청 공안부는 임종석의 사전구속영장을 발부받았다. 같은 해 6월 30일 평양축전에 임수경을 대표로 파견하여 국가보안법위반 혐의가 추가되었다. 경찰은 12월 18일 ~ 20일 사이 서울 경희대학교에서 임종석이 성명 발표를 추진하고 있다는 첩보를 입수했고, 12월 18일 오전 7시 40분 경 가스총과 전자봉으로 무장한 특공조 및 대공과 직원 12명 등 22명의 사복 경찰을 승용차 8대에 나누어 경희대학교에 투입했다. 1989년 12월 18일 오전 8시 15분 경 서울청량리경찰서는 호위 학생 5명과 함께 경희대학교 학생회관 건물 계단을 내려오는 임종석을 발견, 검거해 구속을 집행했다. 임종석은 청량리경찰서에서 약 1시간 동안 조사를 받은 뒤 오전 9시 50분 경 서울 장안동의 서울지방경찰청 공안분실로 인계되었다. \n",
      "질문 : 1989년 6월 30일 평양축전에 대표로 파견 된 인물은? \n",
      "정답 : 임수경\n",
      "예측 : 임수경\n",
      "----------------------------------------\n",
      "본문 : [CLS] 1989년 2월 15일 여의도 농민 폭력 시위를 주도한 혐의 ( 폭력행위등처벌에관한법률위반 ) 으로 지명수배되었다. 1989년 3월 12일 서울지방검찰청 공안부는 임종석의 사전구속영장을 발부받았다. 같은 해 6월 30일 평양축전에 임수경을 대표로 파견하여 국가보안법위반 혐의가 추가되었다. 경찰은 12월 18일 ~ 20일 사이 서울 경희대학교에서 임종석이 성명 발표를 추진하고 있다는 첩보를 입수했고, 12월 18일 오전 7시 40분 경 가스총과 전자봉으로 무장한 특공조 및 대공과 직원 12명 등 22명의 사복 경찰을 승용차 8대에 나누어 경희대학교에 투입했다. 1989년 12월 18일 오전 8시 15분 경 서울청량리경찰서는 호위 학생 5명과 함께 경희대학교 학생회관 건물 계단을 내려오는 임종석을 발견, 검거해 구속을 집행했다. 임종석은 청량리경찰서에서 약 1시간 동안 조사를 받은 뒤 오전 9시 50분 경 서울 장안동의 서울지방경찰청 공안분실로 인계되었다. \n",
      "질문 : 임종석이 여의도 농민 폭력 시위를 주도한 혐의로 지명수배된 연도는? \n",
      "정답 : 1989년\n",
      "예측 : 1989년\n",
      "----------------------------------------\n",
      "본문 : [CLS] 1989년 2월 15일 여의도 농민 폭력 시위를 주도한 혐의 ( 폭력행위등처벌에관한법률위반 ) 으로 지명수배되었다. 1989년 3월 12일 서울지방검찰청 공안부는 임종석의 사전구속영장을 발부받았다. 같은 해 6월 30일 평양축전에 임수경을 대표로 파견하여 국가보안법위반 혐의가 추가되었다. 경찰은 12월 18일 ~ 20일 사이 서울 경희대학교에서 임종석이 성명 발표를 추진하고 있다는 첩보를 입수했고, 12월 18일 오전 7시 40분 경 가스총과 전자봉으로 무장한 특공조 및 대공과 직원 12명 등 22명의 사복 경찰을 승용차 8대에 나누어 경희대학교에 투입했다. 1989년 12월 18일 오전 8시 15분 경 서울청량리경찰서는 호위 학생 5명과 함께 경희대학교 학생회관 건물 계단을 내려오는 임종석을 발견, 검거해 구속을 집행했다. 임종석은 청량리경찰서에서 약 1시간 동안 조사를 받은 뒤 오전 9시 50분 경 서울 장안동의 서울지방경찰청 공안분실로 인계되었다. \n",
      "질문 : 임종석을 검거한 장소는 경희대 내 어디인가? \n",
      "정답 : 학생회관 건물 계단\n",
      "예측 : 서울청량리경찰서\n",
      "----------------------------------------\n",
      "본문 : [CLS] 1989년 2월 15일 여의도 농민 폭력 시위를 주도한 혐의 ( 폭력행위등처벌에관한법률위반 ) 으로 지명수배되었다. 1989년 3월 12일 서울지방검찰청 공안부는 임종석의 사전구속영장을 발부받았다. 같은 해 6월 30일 평양축전에 임수경을 대표로 파견하여 국가보안법위반 혐의가 추가되었다. 경찰은 12월 18일 ~ 20일 사이 서울 경희대학교에서 임종석이 성명 발표를 추진하고 있다는 첩보를 입수했고, 12월 18일 오전 7시 40분 경 가스총과 전자봉으로 무장한 특공조 및 대공과 직원 12명 등 22명의 사복 경찰을 승용차 8대에 나누어 경희대학교에 투입했다. 1989년 12월 18일 오전 8시 15분 경 서울청량리경찰서는 호위 학생 5명과 함께 경희대학교 학생회관 건물 계단을 내려오는 임종석을 발견, 검거해 구속을 집행했다. 임종석은 청량리경찰서에서 약 1시간 동안 조사를 받은 뒤 오전 9시 50분 경 서울 장안동의 서울지방경찰청 공안분실로 인계되었다. \n",
      "질문 : 임종석이 조사를 받은 뒤 인계된 곳은 어딘가? \n",
      "정답 : 서울지방경찰청 공안분실\n",
      "예측 : 서울지방경찰청 공안분실\n",
      "----------------------------------------\n",
      "본문 : [CLS] 1989년 2월 15일 여의도 농민 폭력 시위를 주도한 혐의 ( 폭력행위등처벌에관한법률위반 ) 으로 지명수배되었다. 1989년 3월 12일 서울지방검찰청 공안부는 임종석의 사전구속영장을 발부받았다. 같은 해 6월 30일 평양축전에 임수경을 대표로 파견하여 국가보안법위반 혐의가 추가되었다. 경찰은 12월 18일 ~ 20일 사이 서울 경희대학교에서 임종석이 성명 발표를 추진하고 있다는 첩보를 입수했고, 12월 18일 오전 7시 40분 경 가스총과 전자봉으로 무장한 특공조 및 대공과 직원 12명 등 22명의 사복 경찰을 승용차 8대에 나누어 경희대학교에 투입했다. 1989년 12월 18일 오전 8시 15분 경 서울청량리경찰서는 호위 학생 5명과 함께 경희대학교 학생회관 건물 계단을 내려오는 임종석을 발견, 검거해 구속을 집행했다. 임종석은 청량리경찰서에서 약 1시간 동안 조사를 받은 뒤 오전 9시 50분 경 서울 장안동의 서울지방경찰청 공안분실로 인계되었다. \n",
      "질문 : 1989년 2월 15일 여의도 농민 폭력 시위를 주도한 혐의로 지명수배된 사람의 이름은? \n",
      "정답 : 임종석\n",
      "예측 : 임종석\n",
      "----------------------------------------\n",
      "본문 : [CLS] 1989년 2월 15일 여의도 농민 폭력 시위를 주도한 혐의 ( 폭력행위등처벌에관한법률위반 ) 으로 지명수배되었다. 1989년 3월 12일 서울지방검찰청 공안부는 임종석의 사전구속영장을 발부받았다. 같은 해 6월 30일 평양축전에 임수경을 대표로 파견하여 국가보안법위반 혐의가 추가되었다. 경찰은 12월 18일 ~ 20일 사이 서울 경희대학교에서 임종석이 성명 발표를 추진하고 있다는 첩보를 입수했고, 12월 18일 오전 7시 40분 경 가스총과 전자봉으로 무장한 특공조 및 대공과 직원 12명 등 22명의 사복 경찰을 승용차 8대에 나누어 경희대학교에 투입했다. 1989년 12월 18일 오전 8시 15분 경 서울청량리경찰서는 호위 학생 5명과 함께 경희대학교 학생회관 건물 계단을 내려오는 임종석을 발견, 검거해 구속을 집행했다. 임종석은 청량리경찰서에서 약 1시간 동안 조사를 받은 뒤 오전 9시 50분 경 서울 장안동의 서울지방경찰청 공안분실로 인계되었다. \n",
      "질문 : 임종석이 1989년 2월 15일에 지명수배 받은 혐의는 어떤 시위를 주도했다는 것인가? \n",
      "정답 : 여의도 농민 폭력 시위\n",
      "예측 : 여의도 농민 폭력 시위\n",
      "----------------------------------------\n",
      "본문 : [CLS] \" 내각과 장관들이 소외되고 대통령비서실의 권한이 너무 크다 \", \" 행보가 비서 본연의 역할을 벗어난다 \" 는 의견이 제기되었다. 대표적인 예가 10차 개헌안 발표이다. 원로 헌법학자인 허영 경희대 석좌교수는 정부의 헌법개정안 준비 과정에 대해 \" 청와대 비서실이 아닌 국무회의 중심으로 이뤄졌어야 했다 \" 고 지적했다.'국무회의의 심의를 거쳐야 한다'( 제89조 ) 는 헌법 규정에 충실하지 않았다는 것이다. 그러면서 \" 법무부 장관을 제쳐놓고 민정수석이 개정안을 설명하는 게 이해가 안 된다 \" 고 지적했다. 민정수석은 국회의원에 대해 책임지는 법무부 장관도 아니고, 국민에 대해 책임지는 사람도 아니기 때문에 정당성이 없고, 단지 대통령의 신임이 있을 뿐이라는 것이다. 또한 국무총리 선출 방식에 대한 기자의 질문에 \" 문 대통령도 취임 전에 국무총리에게 실질적 권한을 주겠다고 했지만 그러지 못하고 있다. 대통령비서실장만도 못한 권한을 행사하고 있다. \" 고 답변했다. \n",
      "질문 : 정부의 헌법개정안 준비 과정에 대해서 청와대 비서실이 아니라 국무회의 중심으로 이뤄졌어야 했다고 지적한 원로 헌법학자는? \n",
      "정답 : 허영\n",
      "예측 : 허영 경희대 석좌교수\n",
      "----------------------------------------\n",
      "본문 : [CLS] \" 내각과 장관들이 소외되고 대통령비서실의 권한이 너무 크다 \", \" 행보가 비서 본연의 역할을 벗어난다 \" 는 의견이 제기되었다. 대표적인 예가 10차 개헌안 발표이다. 원로 헌법학자인 허영 경희대 석좌교수는 정부의 헌법개정안 준비 과정에 대해 \" 청와대 비서실이 아닌 국무회의 중심으로 이뤄졌어야 했다 \" 고 지적했다.'국무회의의 심의를 거쳐야 한다'( 제89조 ) 는 헌법 규정에 충실하지 않았다는 것이다. 그러면서 \" 법무부 장관을 제쳐놓고 민정수석이 개정안을 설명하는 게 이해가 안 된다 \" 고 지적했다. 민정수석은 국회의원에 대해 책임지는 법무부 장관도 아니고, 국민에 대해 책임지는 사람도 아니기 때문에 정당성이 없고, 단지 대통령의 신임이 있을 뿐이라는 것이다. 또한 국무총리 선출 방식에 대한 기자의 질문에 \" 문 대통령도 취임 전에 국무총리에게 실질적 권한을 주겠다고 했지만 그러지 못하고 있다. 대통령비서실장만도 못한 권한을 행사하고 있다. \" 고 답변했다. [SEP]'행보가 비서 본연의 역할을 벗어난다 ','장관들과 내각이 소외되고 대통령비서실의 권한이 너무 크다'는 의견이 제기된 대표적인 예는? \n",
      "질문 : [PAD] [PAD] [PAD] [PAD] [PAD] [PAD] [PAD] [PAD] [PAD] [PAD] [PAD] [PAD] [PAD] [PAD] [PAD] [PAD] [PAD] [PAD] [PAD] [PAD] [PAD] [PAD] [PAD] [PAD] [PAD] [PAD] [PAD] [PAD] [PAD] [PAD] [PAD] [PAD] [PAD] [PAD] [PAD] [PAD] [PAD] [PAD] [PAD] [PAD] [PAD] [PAD] [PAD] [PAD] [PAD] [PAD] [PAD] [PAD] [PAD] [PAD] [PAD] [PAD] [PAD] [PAD] [PAD] [PAD] [PAD] [PAD] [PAD] [PAD] [PAD] [PAD] [PAD] [PAD] [PAD] [PAD] [PAD] [PAD] [PAD] [PAD] [PAD] [PAD] [PAD] [PAD] [PAD] [PAD] [PAD] [PAD] [PAD] [PAD] [PAD] [PAD] [PAD] [PAD] [PAD] [PAD] [PAD] [PAD] [PAD] [PAD] [PAD] [PAD] [PAD] [PAD] [PAD] [PAD] [PAD] [PAD] [PAD] [PAD] [PAD] [PAD] [PAD] [PAD] [PAD] [PAD] [PAD] [PAD] [PAD] [PAD] [PAD] [PAD] [PAD] [PAD] [PAD] [PAD] [PAD] [PAD] [PAD] [PAD] [PAD] [PAD] [PAD] [PAD] [PAD] [PAD] [PAD] [PAD] [PAD] [PAD] [PAD] [PAD] [PAD] [PAD] [PAD] [PAD] [PAD] [PAD] [PAD] [PAD] [PAD] [PAD] [PAD] [PAD] [PAD] [PAD] [PAD] [PAD] [PAD] [PAD] [PAD] [PAD] [PAD] [PAD] [PAD] [PAD] [PAD] [PAD] [PAD] [PAD] [PAD] [PAD] [PAD] [PAD] [PAD] [PAD] [PAD] [PAD] [PAD] [PAD] [PAD] [PAD] [PAD] [PAD] [PAD] [PAD] [PAD] [PAD] [PAD] [PAD] [PAD] [PAD] [PAD] [PAD] [PAD] [PAD] [PAD] [PAD] [PAD] [PAD] [PAD] [PAD] [PAD] [PAD] [PAD] [PAD] [PAD] [PAD] [PAD] [PAD] [PAD] [PAD] [PAD] [PAD] [PAD] [PAD] [PAD] [PAD] [PAD] [PAD] [PAD] [PAD] [PAD] [PAD] [PAD] [PAD] [PAD] [PAD] [PAD] [PAD] [PAD] [PAD] [PAD] [PAD] [PAD] [PAD] [PAD] [PAD] [PAD] [PAD] [PAD] [PAD] [PAD] [PAD] [PAD] [PAD] [PAD] [PAD] [PAD] [PAD] [PAD] [PAD] [PAD] [PAD] [PAD] [PAD] [PAD] [PAD] [PAD] [PAD] [PAD] [PAD] [PAD] [PAD] [PAD] [PAD] [PAD] [PAD] [PAD] [PAD] [PAD] [PAD] [PAD] [PAD] [PAD] [PAD] [PAD] [PAD] [PAD] [PAD] [PAD] [PAD] [PAD] [PAD] [PAD] [PAD] [PAD] [PAD] [PAD] [PAD] [PAD] [PAD] [PAD] [PAD] [PAD] [PAD] [PAD] [PAD] [PAD] [PAD] [PAD] [PAD] [PAD] [PAD] [PAD] [PAD] [PAD] [PAD] [PAD] [PAD] [PAD] [PAD] [PAD] [PAD] [PAD] [PAD] [PAD] [PAD] [PAD] [PAD] [PAD] [PAD] [PAD] [PAD] [PAD] [PAD] [PAD] [PAD] [PAD] [PAD] [PAD] [PAD] [PAD] [PAD] [PAD] [PAD] [PAD] [PAD] [PAD] [PAD] [PAD] [PAD] [PAD] [PAD] [PAD] [PAD] [PAD] [PAD] [PAD] [PAD] [PAD] [PAD] [PAD] [PAD] [PAD] [PAD] [PAD] [PAD] [PAD] [PAD] [PAD] [PAD] [PAD] [PAD] [PAD] [PAD] [PAD] [PAD] [PAD] [PAD] [PAD] [PAD] [PAD] [PAD] [PAD] [PAD] [PAD] [PAD] [PAD] [PAD] [PAD] [PAD] [PAD] [PAD] [PAD] [PAD] [PAD] [PAD] [PAD] [PAD] [PAD] [PAD] [PAD] [PAD] [PAD] [PAD] [PAD] [PAD] [PAD] [PAD] [PAD] [PAD] [PAD] [PAD] [PAD] [PAD] [PAD] [PAD] [PAD] [PAD] [PAD] [PAD] [PAD] [PAD] [PAD] [PAD] [PAD] [PAD] [PAD] [PAD] [PAD] [PAD] [PAD] [PAD] [PAD] [PAD] [PAD] [PAD] [PAD] [PAD] [PAD] [PAD] [PAD] [PAD] [PAD] [PAD] [PAD] [PAD] [PAD] [PAD] [PAD] [PAD] [PAD] [PAD] [PAD] [PAD] [PAD] [PAD] [PAD] [PAD] [PAD] [PAD] [PAD] [PAD] [PAD] [PAD] [PAD] [PAD] [PAD] [PAD] [PAD] [PAD] [PAD] [PAD] [PAD] [PAD] [PAD] [PAD] [PAD] [PAD] [PAD] [PAD] [PAD] [PAD] [PAD] [PAD] [PAD] [PAD] [PAD] [PAD] [PAD] [PAD] [PAD] [PAD] [PAD] [PAD] [PAD] [PAD] [PAD] [PAD] [PAD] [PAD] [PAD] [PAD] [PAD] [PAD] [PAD] [PAD] [PAD] [PAD] [PAD] [PAD] [PAD] [PAD] [PAD] [PAD] [PAD] [PAD] [PAD] [PAD] [PAD] [PAD] [PAD] [PAD] [PAD] [PAD] [PAD] [PAD] [PAD] [PAD] [PAD] [PAD] [PAD] [PAD] [PAD] [PAD] [PAD] [PAD] [PAD] [PAD] [PAD] [PAD] [PAD] [PAD] [PAD] [PAD] [PAD] [PAD] [PAD] [PAD] [PAD] [PAD] [PAD] [PAD] [PAD] [PAD] [PAD] [PAD] [PAD] [PAD] [PAD] [PAD] [PAD] [PAD] [PAD] [PAD] [PAD] [PAD] [PAD] [PAD] [PAD] [PAD] [PAD] [PAD] [PAD] [PAD] [PAD] [PAD] [PAD] [PAD] [PAD] [PAD] [PAD] [PAD] [PAD] [PAD] [PAD] [PAD] [PAD] [PAD] [PAD] [PAD] [PAD] [PAD] [PAD] [PAD] [PAD] [PAD] [PAD] [PAD] [PAD] [PAD] [PAD] [PAD] [PAD] [PAD] [PAD] [PAD] [PAD] [PAD] [PAD] [PAD] [PAD] [PAD] [PAD] [PAD] [PAD] [PAD] [PAD] [PAD] [PAD] [PAD] [PAD] [PAD] [PAD] [PAD] [PAD] [PAD] [PAD] [PAD] [PAD] [PAD] [PAD] [PAD] [PAD] [PAD] [PAD] [PAD] [PAD] [PAD] [PAD] [PAD] [PAD] [PAD] [PAD] [PAD] [PAD] [PAD] [PAD] [PAD] [PAD] [PAD] [PAD] [PAD] [PAD] [PAD] [PAD] [PAD] [PAD] [PAD] [PAD] [PAD] [PAD] [PAD] [PAD] [PAD] [PAD] [PAD] [PAD] [PAD] [PAD] [PAD] [PAD] [PAD] [PAD] [PAD] [PAD] [PAD] [PAD] [PAD] [PAD] [PAD] [PAD] [PAD] [PAD] [PAD] [PAD] [PAD] [PAD] [PAD] [PAD] [PAD] [PAD] [PAD] [PAD] [PAD] [PAD] [PAD] [PAD] [PAD] [PAD] [PAD] [PAD] [PAD] [PAD] [PAD] [PAD] [PAD] [PAD] [PAD] [PAD] [PAD] [PAD] [PAD] [PAD] [PAD] [PAD] [PAD] [PAD] [PAD] [PAD] [PAD] [PAD] [PAD] [PAD] [PAD] [PAD] [PAD] [PAD] [PAD] [PAD] [PAD] [PAD] [PAD] [PAD] [PAD] [PAD] [PAD] [PAD] [PAD] [PAD] [PAD] [PAD] [PAD] [PAD] [PAD] [PAD] [PAD] [PAD] [PAD] [PAD] [PAD] [PAD] [PAD] [PAD] [PAD] [PAD] [PAD] [PAD] [PAD] [PAD] [PAD] [PAD] [PAD] [PAD] [PAD] [PAD] [PAD] [PAD] [PAD] [PAD] [PAD] [PAD] [PAD] [PAD] [PAD] [PAD] [PAD] [PAD] [PAD] [PAD] [PAD] [PAD] [PAD] [PAD] [PAD] [PAD] [PAD] [PAD] [PAD] [PAD] [PAD] [PAD] [PAD] [PAD] [PAD] [PAD] [PAD] [PAD] [PAD] [PAD] [PAD] [PAD] [PAD] [PAD] [PAD] [PAD] [PAD] [PAD] [PAD] [PAD] [PAD] [PAD] [PAD] [PAD] [PAD] [PAD] [PAD] [PAD] [PAD] [PAD] [PAD] [PAD] [PAD] [PAD] [PAD] [PAD] [PAD] [PAD] [PAD] [PAD] [PAD] [PAD] [PAD] [PAD] [PAD] [PAD] [PAD] [PAD] [PAD] [PAD] [PAD] [PAD] [PAD] [PAD] [PAD] [PAD] [PAD] [PAD] [PAD] [PAD] [PAD] [PAD] [PAD] [PAD] [PAD] [PAD] [PAD] [PAD] [PAD] [PAD] [PAD] [PAD] [PAD] [PAD] [PAD] [PAD] [PAD] [PAD] [PAD] [PAD] [PAD] [PAD] [PAD] [PAD] [PAD] [PAD] [PAD] [PAD] [PAD] [PAD] [PAD] [PAD] [PAD] [PAD] [PAD] [PAD] [PAD] [PAD] [PAD] [PAD] [PAD] [PAD] [PAD] [PAD] [PAD] [PAD] [PAD] [PAD] [PAD] [PAD] [PAD] [PAD] [PAD] [PAD] [PAD] [PAD] [PAD] [PAD] [PAD] [PAD] [PAD] [PAD] [PAD] [PAD] [PAD] [PAD] [PAD] [PAD] [PAD] [PAD] [PAD] [PAD] [PAD] [PAD] [PAD] [PAD] [PAD] [PAD] [PAD] [PAD] [PAD] [PAD] [PAD] [PAD] [PAD] [PAD] [PAD] [PAD] [PAD] [PAD] [PAD] [PAD] [PAD] [PAD] [PAD] [PAD] [PAD] [PAD] [PAD] [PAD] [PAD] [PAD] [PAD] [PAD] [PAD] [PAD] [PAD] [PAD] [PAD] [PAD] [PAD] [PAD] [PAD] [PAD] [PAD] [PAD] [PAD] [PAD] [PAD] [PAD] [PAD] [PAD] [PAD] [PAD] [PAD] [PAD] [PAD] [PAD] [PAD] [PAD] [PAD] [PAD] [PAD] [PAD] [PAD] [PAD] [PAD] [PAD] [PAD] [PAD] [PAD] [PAD] [PAD] [PAD] [PAD] [PAD] [PAD] [PAD] [PAD] [PAD] [PAD] [PAD] [PAD] [PAD] [PAD] [PAD] [PAD] [PAD] [PAD] [PAD] [PAD] [PAD] [PAD] [PAD] [PAD] [PAD] [PAD] [PAD] [PAD] [PAD] [PAD] [PAD] [PAD] [PAD] [PAD] [PAD] [PAD] [PAD] [PAD] [PAD] [PAD] [PAD] [PAD] [PAD] [PAD] [PAD] [PAD] [PAD] [PAD] [PAD] [PAD] [PAD] [PAD] [PAD] [PAD] [PAD] [PAD] [PAD] [PAD] [PAD] [PAD] [PAD] [PAD] [PAD] [PAD] [PAD] [PAD] [PAD] [PAD] [PAD] [PAD] [PAD] [PAD] [PAD] [PAD] [PAD] [PAD] [PAD] [PAD] [PAD] [PAD] [PAD] [PAD] [PAD] [PAD] [PAD] [PAD] [PAD] [PAD] [PAD] [PAD] [PAD] [PAD] [PAD] [PAD] [PAD] [PAD] [PAD] [PAD] [PAD] [PAD] [PAD] [PAD] [PAD] [PAD] [PAD] [PAD] [PAD] [PAD] [PAD] [PAD] [PAD] [PAD] [PAD] [PAD] [PAD] [PAD] [PAD] [PAD] [PAD] [PAD] [PAD] [PAD] [PAD] [PAD] [PAD] [PAD] [PAD] [PAD] [PAD] [PAD] [PAD] [PAD] [PAD] [PAD] [PAD] [PAD] [PAD] [PAD] [PAD] [PAD] [PAD] [PAD] [PAD] [PAD] [PAD] [PAD] [PAD] [PAD] [PAD] [PAD] [PAD] [PAD] [PAD] [PAD] [PAD] [PAD] [PAD] [PAD] [PAD] [PAD] [PAD] [PAD] [PAD] [PAD] [PAD] [PAD] [PAD] [PAD] [PAD] [PAD] [PAD] [PAD] [PAD] [PAD] [PAD] [PAD] [PAD] [PAD] [PAD] [PAD] [PAD] [PAD] [PAD] [PAD] [PAD] [PAD] [PAD] [PAD] [PAD] [PAD] [PAD] [PAD] [PAD] [PAD] [PAD] [PAD] [PAD] [PAD] [PAD] [PAD] [PAD] [PAD] [PAD] [PAD] [PAD] [PAD] [PAD] [PAD] [PAD] [PAD] [PAD] [PAD] [PAD] [PAD] [PAD] [PAD] [PAD] [PAD]\n",
      "정답 : 10차 개헌안 발표\n",
      "예측 : 10차 개헌안 발표\n",
      "----------------------------------------\n",
      "본문 : [CLS] \" 내각과 장관들이 소외되고 대통령비서실의 권한이 너무 크다 \", \" 행보가 비서 본연의 역할을 벗어난다 \" 는 의견이 제기되었다. 대표적인 예가 10차 개헌안 발표이다. 원로 헌법학자인 허영 경희대 석좌교수는 정부의 헌법개정안 준비 과정에 대해 \" 청와대 비서실이 아닌 국무회의 중심으로 이뤄졌어야 했다 \" 고 지적했다.'국무회의의 심의를 거쳐야 한다'( 제89조 ) 는 헌법 규정에 충실하지 않았다는 것이다. 그러면서 \" 법무부 장관을 제쳐놓고 민정수석이 개정안을 설명하는 게 이해가 안 된다 \" 고 지적했다. 민정수석은 국회의원에 대해 책임지는 법무부 장관도 아니고, 국민에 대해 책임지는 사람도 아니기 때문에 정당성이 없고, 단지 대통령의 신임이 있을 뿐이라는 것이다. 또한 국무총리 선출 방식에 대한 기자의 질문에 \" 문 대통령도 취임 전에 국무총리에게 실질적 권한을 주겠다고 했지만 그러지 못하고 있다. 대통령비서실장만도 못한 권한을 행사하고 있다. \" 고 답변했다. \n",
      "질문 : 국무회의의 심의를 거쳐야 한다는 헌법 제 몇 조의 내용인가? \n",
      "정답 : 제89조\n",
      "예측 : 제89조\n",
      "----------------------------------------\n",
      "본문 : [CLS] \" 내각과 장관들이 소외되고 대통령비서실의 권한이 너무 크다 \", \" 행보가 비서 본연의 역할을 벗어난다 \" 는 의견이 제기되었다. 대표적인 예가 10차 개헌안 발표이다. 원로 헌법학자인 허영 경희대 석좌교수는 정부의 헌법개정안 준비 과정에 대해 \" 청와대 비서실이 아닌 국무회의 중심으로 이뤄졌어야 했다 \" 고 지적했다.'국무회의의 심의를 거쳐야 한다'( 제89조 ) 는 헌법 규정에 충실하지 않았다는 것이다. 그러면서 \" 법무부 장관을 제쳐놓고 민정수석이 개정안을 설명하는 게 이해가 안 된다 \" 고 지적했다. 민정수석은 국회의원에 대해 책임지는 법무부 장관도 아니고, 국민에 대해 책임지는 사람도 아니기 때문에 정당성이 없고, 단지 대통령의 신임이 있을 뿐이라는 것이다. 또한 국무총리 선출 방식에 대한 기자의 질문에 \" 문 대통령도 취임 전에 국무총리에게 실질적 권한을 주겠다고 했지만 그러지 못하고 있다. 대통령비서실장만도 못한 권한을 행사하고 있다. \" 고 답변했다. \n",
      "질문 : 법무부 장관을 제쳐놓고 민정수석이 개정안을 설명하는 게 이해가 안 된다고 지적한 경희대 석좌교수 이름은? \n",
      "정답 : 허영\n",
      "예측 : 허영\n",
      "----------------------------------------\n",
      "본문 : [CLS] 알렉산더 메이그스 헤이그 2세 ( 영어 : Alexander Meigs Haig, Jr., 1924년 12월 2일 ~ 2010년 2월 20일 ) 는 미국의 국무 장관을 지낸 미국의 군인, 관료 및 정치인이다. 로널드 레이건 대통령 밑에서 국무장관을 지냈으며, 리처드 닉슨과 제럴드 포드 대통령 밑에서 백악관 비서실장을 지냈다. 또한 그는 미국 군대에서 2번째로 높은 직위인 미국 육군 부참모 총장과 나토 및 미국 군대의 유럽연합군 최고사령관이었다. 한국 전쟁 시절 더글러스 맥아더 유엔군 사령관의 참모로 직접 참전하였으며, 로널드 레이건 정부 출범당시 초대 국무장관직을 맡아 1980년대 대한민국과 미국의 관계를 조율해 왔다. 저서로 회고록 《 경고 : 현실주의, 레이건과 외교 정책 》 ( 1984년 발간 ) 이 있다. \n",
      "질문 : 미국 군대 내 두번째로 높은 직위는 무엇인가? \n",
      "정답 : 미국 육군 부참모 총장\n",
      "예측 : 육군 부참모 총장\n",
      "----------------------------------------\n",
      "본문 : [CLS] 알렉산더 메이그스 헤이그 2세 ( 영어 : Alexander Meigs Haig, Jr., 1924년 12월 2일 ~ 2010년 2월 20일 ) 는 미국의 국무 장관을 지낸 미국의 군인, 관료 및 정치인이다. 로널드 레이건 대통령 밑에서 국무장관을 지냈으며, 리처드 닉슨과 제럴드 포드 대통령 밑에서 백악관 비서실장을 지냈다. 또한 그는 미국 군대에서 2번째로 높은 직위인 미국 육군 부참모 총장과 나토 및 미국 군대의 유럽연합군 최고사령관이었다. 한국 전쟁 시절 더글러스 맥아더 유엔군 사령관의 참모로 직접 참전하였으며, 로널드 레이건 정부 출범당시 초대 국무장관직을 맡아 1980년대 대한민국과 미국의 관계를 조율해 왔다. 저서로 회고록 《 경고 : 현실주의, 레이건과 외교 정책 》 ( 1984년 발간 ) 이 있다. \n",
      "질문 : 로널드 레이건 정부 출범 당시 알렉산더 헤이그는 어떤 직책을 맡았는가? \n",
      "정답 : 초대 국무장관직\n",
      "예측 : 국무장관직\n",
      "----------------------------------------\n",
      "본문 : [CLS] 알렉산더 메이그스 헤이그 2세 ( 영어 : Alexander Meigs Haig, Jr., 1924년 12월 2일 ~ 2010년 2월 20일 ) 는 미국의 국무 장관을 지낸 미국의 군인, 관료 및 정치인이다. 로널드 레이건 대통령 밑에서 국무장관을 지냈으며, 리처드 닉슨과 제럴드 포드 대통령 밑에서 백악관 비서실장을 지냈다. 또한 그는 미국 군대에서 2번째로 높은 직위인 미국 육군 부참모 총장과 나토 및 미국 군대의 유럽연합군 최고사령관이었다. 한국 전쟁 시절 더글러스 맥아더 유엔군 사령관의 참모로 직접 참전하였으며, 로널드 레이건 정부 출범당시 초대 국무장관직을 맡아 1980년대 대한민국과 미국의 관계를 조율해 왔다. 저서로 회고록 《 경고 : 현실주의, 레이건과 외교 정책 》 ( 1984년 발간 ) 이 있다. \n",
      "질문 : 알렉산더 헤이그는 어느 대통령의 밑에서 국무장관을 지냈는가? \n",
      "정답 : 로널드 레이건 대통령\n",
      "예측 : 로널드 레이건\n",
      "----------------------------------------\n",
      "본문 : [CLS] 알렉산더 메이그스 헤이그 2세 ( 영어 : Alexander Meigs Haig, Jr., 1924년 12월 2일 ~ 2010년 2월 20일 ) 는 미국의 국무 장관을 지낸 미국의 군인, 관료 및 정치인이다. 로널드 레이건 대통령 밑에서 국무장관을 지냈으며, 리처드 닉슨과 제럴드 포드 대통령 밑에서 백악관 비서실장을 지냈다. 또한 그는 미국 군대에서 2번째로 높은 직위인 미국 육군 부참모 총장과 나토 및 미국 군대의 유럽연합군 최고사령관이었다. 한국 전쟁 시절 더글러스 맥아더 유엔군 사령관의 참모로 직접 참전하였으며, 로널드 레이건 정부 출범당시 초대 국무장관직을 맡아 1980년대 대한민국과 미국의 관계를 조율해 왔다. 저서로 회고록 《 경고 : 현실주의, 레이건과 외교 정책 》 ( 1984년 발간 ) 이 있다. \n",
      "질문 : 로널드 레이건 대통령 밑에서 일한 국무 장관은 누구인가? \n",
      "정답 : 알렉산더 메이그스 헤이그 2세\n",
      "예측 : 알렉산더 메이그스 헤이그 2세\n",
      "----------------------------------------\n",
      "본문 : [CLS] 알렉산더 메이그스 헤이그 2세 ( 영어 : Alexander Meigs Haig, Jr., 1924년 12월 2일 ~ 2010년 2월 20일 ) 는 미국의 국무 장관을 지낸 미국의 군인, 관료 및 정치인이다. 로널드 레이건 대통령 밑에서 국무장관을 지냈으며, 리처드 닉슨과 제럴드 포드 대통령 밑에서 백악관 비서실장을 지냈다. 또한 그는 미국 군대에서 2번째로 높은 직위인 미국 육군 부참모 총장과 나토 및 미국 군대의 유럽연합군 최고사령관이었다. 한국 전쟁 시절 더글러스 맥아더 유엔군 사령관의 참모로 직접 참전하였으며, 로널드 레이건 정부 출범당시 초대 국무장관직을 맡아 1980년대 대한민국과 미국의 관계를 조율해 왔다. 저서로 회고록 《 경고 : 현실주의, 레이건과 외교 정책 》 ( 1984년 발간 ) 이 있다. \n",
      "질문 : 미국 군대에서 두번째로 높은 직위는? \n",
      "정답 : 미국 육군 부참모 총장\n",
      "예측 : 부참모 총장\n",
      "----------------------------------------\n",
      "본문 : [CLS] 알렉산더 메이그스 헤이그 2세 ( 영어 : Alexander Meigs Haig, Jr., 1924년 12월 2일 ~ 2010년 2월 20일 ) 는 미국의 국무 장관을 지낸 미국의 군인, 관료 및 정치인이다. 로널드 레이건 대통령 밑에서 국무장관을 지냈으며, 리처드 닉슨과 제럴드 포드 대통령 밑에서 백악관 비서실장을 지냈다. 또한 그는 미국 군대에서 2번째로 높은 직위인 미국 육군 부참모 총장과 나토 및 미국 군대의 유럽연합군 최고사령관이었다. 한국 전쟁 시절 더글러스 맥아더 유엔군 사령관의 참모로 직접 참전하였으며, 로널드 레이건 정부 출범당시 초대 국무장관직을 맡아 1980년대 대한민국과 미국의 관계를 조율해 왔다. 저서로 회고록 《 경고 : 현실주의, 레이건과 외교 정책 》 ( 1984년 발간 ) 이 있다. \n",
      "질문 : 알렉산더 메이그스 헤이그의 생년월일은? \n",
      "정답 : 1924년 12월 2일\n",
      "예측 : 1924년 12월 2일\n",
      "----------------------------------------\n",
      "본문 : [CLS] 알렉산더 메이그스 헤이그 2세 ( 영어 : Alexander Meigs Haig, Jr., 1924년 12월 2일 ~ 2010년 2월 20일 ) 는 미국의 국무 장관을 지낸 미국의 군인, 관료 및 정치인이다. 로널드 레이건 대통령 밑에서 국무장관을 지냈으며, 리처드 닉슨과 제럴드 포드 대통령 밑에서 백악관 비서실장을 지냈다. 또한 그는 미국 군대에서 2번째로 높은 직위인 미국 육군 부참모 총장과 나토 및 미국 군대의 유럽연합군 최고사령관이었다. 한국 전쟁 시절 더글러스 맥아더 유엔군 사령관의 참모로 직접 참전하였으며, 로널드 레이건 정부 출범당시 초대 국무장관직을 맡아 1980년대 대한민국과 미국의 관계를 조율해 왔다. 저서로 회고록 《 경고 : 현실주의, 레이건과 외교 정책 》 ( 1984년 발간 ) 이 있다. \n",
      "질문 : 알렉산더 헤이그가 로널드 레이건 대통령 밑에서 맡은 직책은 무엇이었나? \n",
      "정답 : 국무장관\n",
      "예측 : 국무장관\n",
      "----------------------------------------\n",
      "본문 : [CLS] 알렉산더 메이그스 헤이그 2세 ( 영어 : Alexander Meigs Haig, Jr., 1924년 12월 2일 ~ 2010년 2월 20일 ) 는 미국의 국무 장관을 지낸 미국의 군인, 관료 및 정치인이다. 로널드 레이건 대통령 밑에서 국무장관을 지냈으며, 리처드 닉슨과 제럴드 포드 대통령 밑에서 백악관 비서실장을 지냈다. 또한 그는 미국 군대에서 2번째로 높은 직위인 미국 육군 부참모 총장과 나토 및 미국 군대의 유럽연합군 최고사령관이었다. 한국 전쟁 시절 더글러스 맥아더 유엔군 사령관의 참모로 직접 참전하였으며, 로널드 레이건 정부 출범당시 초대 국무장관직을 맡아 1980년대 대한민국과 미국의 관계를 조율해 왔다. 저서로 회고록 《 경고 : 현실주의, 레이건과 외교 정책 》 ( 1984년 발간 ) 이 있다. \n",
      "질문 : 알렉산더 헤이그가 1984년 발간한 회고록의 제목은 무엇인가? \n",
      "정답 : 경고 : 현실주의, 레이건과 외교 정책\n",
      "예측 : 경고 : 현실주의, 레이건과 외교 정책\n",
      "----------------------------------------\n",
      "본문 : [CLS] 노터데임 대학교에서 2년간 합리적으로 심각한 공부를 한 후 헤이그는 1944년 미국 육군사관학교로 임명을 획득하여 자신의 어린 시절을 군사 경력의 야망으로 알아챘다. 그 경력은 헤이그의 학문적 경연이 암시하려고 한것보다 더욱 극적이었으며 그는 1947년 310의 동기병에서 217번째 사관으로서 졸업하였다. 22세의 소위로 헤이그는 처음에 캔자스 주 포트라일리에서 정통 제병 연합부대로, 그러고나서 켄터키 주 포트녹스에 있는 기갑 훈련소로 갔다. 그후에 그는 제1 기병 사단으로 선임되고 그러고나서 일본에서 점령군의 임무와 기력이 없는 훈련을 하였다. 그는 1950년 5월 한번 자신의 사령관 알론조 폭스 장군의 딸 퍼트리샤 앤토이넷 폭스와 결혼하여 슬하 3명의 자식을 두었다. \n",
      "질문 : 알렉산더 헤이그와 1950년 5월 결혼한 상대의 이름은 무엇인가? \n",
      "정답 : 퍼트리샤 앤토이넷 폭스\n",
      "예측 : 퍼트리샤 앤토이넷 폭스\n",
      "----------------------------------------\n",
      "본문 : [CLS] 노터데임 대학교에서 2년간 합리적으로 심각한 공부를 한 후 헤이그는 1944년 미국 육군사관학교로 임명을 획득하여 자신의 어린 시절을 군사 경력의 야망으로 알아챘다. 그 경력은 헤이그의 학문적 경연이 암시하려고 한것보다 더욱 극적이었으며 그는 1947년 310의 동기병에서 217번째 사관으로서 졸업하였다. 22세의 소위로 헤이그는 처음에 캔자스 주 포트라일리에서 정통 제병 연합부대로, 그러고나서 켄터키 주 포트녹스에 있는 기갑 훈련소로 갔다. 그후에 그는 제1 기병 사단으로 선임되고 그러고나서 일본에서 점령군의 임무와 기력이 없는 훈련을 하였다. 그는 1950년 5월 한번 자신의 사령관 알론조 폭스 장군의 딸 퍼트리샤 앤토이넷 폭스와 결혼하여 슬하 3명의 자식을 두었다. \n",
      "질문 : 알렉산더 헤이그가 미국 육군사관학교로 임명받은 해는 언제인가? \n",
      "정답 : 1944년\n",
      "예측 : 1944년\n",
      "----------------------------------------\n",
      "본문 : [CLS] 노터데임 대학교에서 2년간 합리적으로 심각한 공부를 한 후 헤이그는 1944년 미국 육군사관학교로 임명을 획득하여 자신의 어린 시절을 군사 경력의 야망으로 알아챘다. 그 경력은 헤이그의 학문적 경연이 암시하려고 한것보다 더욱 극적이었으며 그는 1947년 310의 동기병에서 217번째 사관으로서 졸업하였다. 22세의 소위로 헤이그는 처음에 캔자스 주 포트라일리에서 정통 제병 연합부대로, 그러고나서 켄터키 주 포트녹스에 있는 기갑 훈련소로 갔다. 그후에 그는 제1 기병 사단으로 선임되고 그러고나서 일본에서 점령군의 임무와 기력이 없는 훈련을 하였다. 그는 1950년 5월 한번 자신의 사령관 알론조 폭스 장군의 딸 퍼트리샤 앤토이넷 폭스와 결혼하여 슬하 3명의 자식을 두었다. \n",
      "질문 : 알렉산더 헤이그는 퍼트리샤 앤토이넷 폭스와 결혼해 몇 명의 자녀를 두었는가? \n",
      "정답 : 3명\n",
      "예측 : 3명\n",
      "----------------------------------------\n",
      "본문 : [CLS] 노터데임 대학교에서 2년간 합리적으로 심각한 공부를 한 후 헤이그는 1944년 미국 육군사관학교로 임명을 획득하여 자신의 어린 시절을 군사 경력의 야망으로 알아챘다. 그 경력은 헤이그의 학문적 경연이 암시하려고 한것보다 더욱 극적이었으며 그는 1947년 310의 동기병에서 217번째 사관으로서 졸업하였다. 22세의 소위로 헤이그는 처음에 캔자스 주 포트라일리에서 정통 제병 연합부대로, 그러고나서 켄터키 주 포트녹스에 있는 기갑 훈련소로 갔다. 그후에 그는 제1 기병 사단으로 선임되고 그러고나서 일본에서 점령군의 임무와 기력이 없는 훈련을 하였다. 그는 1950년 5월 한번 자신의 사령관 알론조 폭스 장군의 딸 퍼트리샤 앤토이넷 폭스와 결혼하여 슬하 3명의 자식을 두었다. \n",
      "질문 : 헤이그가 공부한 대학교는? \n",
      "정답 : 노터데임 대학교\n",
      "예측 : 노터데임 대학교\n",
      "----------------------------------------\n",
      "본문 : [CLS] 노터데임 대학교에서 2년간 합리적으로 심각한 공부를 한 후 헤이그는 1944년 미국 육군사관학교로 임명을 획득하여 자신의 어린 시절을 군사 경력의 야망으로 알아챘다. 그 경력은 헤이그의 학문적 경연이 암시하려고 한것보다 더욱 극적이었으며 그는 1947년 310의 동기병에서 217번째 사관으로서 졸업하였다. 22세의 소위로 헤이그는 처음에 캔자스 주 포트라일리에서 정통 제병 연합부대로, 그러고나서 켄터키 주 포트녹스에 있는 기갑 훈련소로 갔다. 그후에 그는 제1 기병 사단으로 선임되고 그러고나서 일본에서 점령군의 임무와 기력이 없는 훈련을 하였다. 그는 1950년 5월 한번 자신의 사령관 알론조 폭스 장군의 딸 퍼트리샤 앤토이넷 폭스와 결혼하여 슬하 3명의 자식을 두었다. \n",
      "질문 : 헤이그의 부인은 누구인가? \n",
      "정답 : 퍼트리샤 앤토이넷 폭스\n",
      "예측 : 퍼트리샤 앤토이넷 폭스\n",
      "----------------------------------------\n",
      "본문 : [CLS] 노터데임 대학교에서 2년간 합리적으로 심각한 공부를 한 후 헤이그는 1944년 미국 육군사관학교로 임명을 획득하여 자신의 어린 시절을 군사 경력의 야망으로 알아챘다. 그 경력은 헤이그의 학문적 경연이 암시하려고 한것보다 더욱 극적이었으며 그는 1947년 310의 동기병에서 217번째 사관으로서 졸업하였다. 22세의 소위로 헤이그는 처음에 캔자스 주 포트라일리에서 정통 제병 연합부대로, 그러고나서 켄터키 주 포트녹스에 있는 기갑 훈련소로 갔다. 그후에 그는 제1 기병 사단으로 선임되고 그러고나서 일본에서 점령군의 임무와 기력이 없는 훈련을 하였다. 그는 1950년 5월 한번 자신의 사령관 알론조 폭스 장군의 딸 퍼트리샤 앤토이넷 폭스와 결혼하여 슬하 3명의 자식을 두었다. \n",
      "질문 : 알렉산더 헤이그가 나온 대학교는? \n",
      "정답 : 노터데임 대학교\n",
      "예측 : 노터데임 대학교\n",
      "----------------------------------------\n",
      "본문 : [CLS] 노터데임 대학교에서 2년간 합리적으로 심각한 공부를 한 후 헤이그는 1944년 미국 육군사관학교로 임명을 획득하여 자신의 어린 시절을 군사 경력의 야망으로 알아챘다. 그 경력은 헤이그의 학문적 경연이 암시하려고 한것보다 더욱 극적이었으며 그는 1947년 310의 동기병에서 217번째 사관으로서 졸업하였다. 22세의 소위로 헤이그는 처음에 캔자스 주 포트라일리에서 정통 제병 연합부대로, 그러고나서 켄터키 주 포트녹스에 있는 기갑 훈련소로 갔다. 그후에 그는 제1 기병 사단으로 선임되고 그러고나서 일본에서 점령군의 임무와 기력이 없는 훈련을 하였다. 그는 1950년 5월 한번 자신의 사령관 알론조 폭스 장군의 딸 퍼트리샤 앤토이넷 폭스와 결혼하여 슬하 3명의 자식을 두었다. \n",
      "질문 : 육군사관학교에서 졸업한 헤이그가 제일 처음 소위로 발령받은 부대는 무엇이었나? \n",
      "정답 : 정통 제병 연합부대\n",
      "예측 : 정통 제병 연합부대\n",
      "----------------------------------------\n",
      "본문 : [CLS] 노터데임 대학교에서 2년간 합리적으로 심각한 공부를 한 후 헤이그는 1944년 미국 육군사관학교로 임명을 획득하여 자신의 어린 시절을 군사 경력의 야망으로 알아챘다. 그 경력은 헤이그의 학문적 경연이 암시하려고 한것보다 더욱 극적이었으며 그는 1947년 310의 동기병에서 217번째 사관으로서 졸업하였다. 22세의 소위로 헤이그는 처음에 캔자스 주 포트라일리에서 정통 제병 연합부대로, 그러고나서 켄터키 주 포트녹스에 있는 기갑 훈련소로 갔다. 그후에 그는 제1 기병 사단으로 선임되고 그러고나서 일본에서 점령군의 임무와 기력이 없는 훈련을 하였다. 그는 1950년 5월 한번 자신의 사령관 알론조 폭스 장군의 딸 퍼트리샤 앤토이넷 폭스와 결혼하여 슬하 3명의 자식을 두었다. \n",
      "질문 : 1950년 헤이그와 결혼한 여자의 이름은? \n",
      "정답 : 퍼트리샤 앤토이넷 폭스\n",
      "예측 : 퍼트리샤 앤토이넷 폭스\n",
      "----------------------------------------\n",
      "본문 : [CLS] 헤이그는 닉슨 대통령이 그를 사성 장군과 육군 부참모로 진급시킬 때 집중 광선과 논쟁으로 들어갔다. 헤이그를 군사의 최상으로 밀어넣은 닉슨의 행동은 대통령의 남자들을 다양한 연방 대리법에서 권한의 직우들로 놓은 노력과 함께 일치였다. 하지만 그는 곧 백악관으로 돌아가 1973년부터 1974년까지 대통령 특별 보좌관을 지냈다. 워터게이트 사건이 일어난지 한달 후, 헤이그는 포위된 닉슨 대통령을 위한 치명적 역할을 하였다. 그일은 8월 닉슨의 사임과 제럴드 포드의 대통령으로 계승으로 이끈 협상들에서 헤이그가 수단이었던 우연이 아니었다. 곧 후에 헤이그는 미국 유럽 연합군 최고사령부의 최고 사령관으로 임명되었다. 그는 나토에서 다음 5년을 보내고 1979년 군에서 퇴역하여 미국 기술 주식 회사의 우두머리가 되었다. \n",
      "질문 : 헤이그가 군에서 퇴역한 해는 언제인가? \n",
      "정답 : 1979년\n",
      "예측 : 1979년\n",
      "----------------------------------------\n",
      "본문 : [CLS] 헤이그는 닉슨 대통령이 그를 사성 장군과 육군 부참모로 진급시킬 때 집중 광선과 논쟁으로 들어갔다. 헤이그를 군사의 최상으로 밀어넣은 닉슨의 행동은 대통령의 남자들을 다양한 연방 대리법에서 권한의 직우들로 놓은 노력과 함께 일치였다. 하지만 그는 곧 백악관으로 돌아가 1973년부터 1974년까지 대통령 특별 보좌관을 지냈다. 워터게이트 사건이 일어난지 한달 후, 헤이그는 포위된 닉슨 대통령을 위한 치명적 역할을 하였다. 그일은 8월 닉슨의 사임과 제럴드 포드의 대통령으로 계승으로 이끈 협상들에서 헤이그가 수단이었던 우연이 아니었다. 곧 후에 헤이그는 미국 유럽 연합군 최고사령부의 최고 사령관으로 임명되었다. 그는 나토에서 다음 5년을 보내고 1979년 군에서 퇴역하여 미국 기술 주식 회사의 우두머리가 되었다. \n",
      "질문 : 알렉산더 헤이그를 사성 장군과 육군 부참모로 진급시킨 대통령은 누구인가? \n",
      "정답 : 닉슨 대통령\n",
      "예측 : 닉슨\n",
      "----------------------------------------\n",
      "본문 : [CLS] 헤이그는 닉슨 대통령이 그를 사성 장군과 육군 부참모로 진급시킬 때 집중 광선과 논쟁으로 들어갔다. 헤이그를 군사의 최상으로 밀어넣은 닉슨의 행동은 대통령의 남자들을 다양한 연방 대리법에서 권한의 직우들로 놓은 노력과 함께 일치였다. 하지만 그는 곧 백악관으로 돌아가 1973년부터 1974년까지 대통령 특별 보좌관을 지냈다. 워터게이트 사건이 일어난지 한달 후, 헤이그는 포위된 닉슨 대통령을 위한 치명적 역할을 하였다. 그일은 8월 닉슨의 사임과 제럴드 포드의 대통령으로 계승으로 이끈 협상들에서 헤이그가 수단이었던 우연이 아니었다. 곧 후에 헤이그는 미국 유럽 연합군 최고사령부의 최고 사령관으로 임명되었다. 그는 나토에서 다음 5년을 보내고 1979년 군에서 퇴역하여 미국 기술 주식 회사의 우두머리가 되었다. \n",
      "질문 : 헤이그는 나토에서 얼마나 있었습니까? \n",
      "정답 : 5년\n",
      "예측 : 5년\n",
      "----------------------------------------\n",
      "본문 : [CLS] 헤이그는 닉슨 대통령이 그를 사성 장군과 육군 부참모로 진급시킬 때 집중 광선과 논쟁으로 들어갔다. 헤이그를 군사의 최상으로 밀어넣은 닉슨의 행동은 대통령의 남자들을 다양한 연방 대리법에서 권한의 직우들로 놓은 노력과 함께 일치였다. 하지만 그는 곧 백악관으로 돌아가 1973년부터 1974년까지 대통령 특별 보좌관을 지냈다. 워터게이트 사건이 일어난지 한달 후, 헤이그는 포위된 닉슨 대통령을 위한 치명적 역할을 하였다. 그일은 8월 닉슨의 사임과 제럴드 포드의 대통령으로 계승으로 이끈 협상들에서 헤이그가 수단이었던 우연이 아니었다. 곧 후에 헤이그는 미국 유럽 연합군 최고사령부의 최고 사령관으로 임명되었다. 그는 나토에서 다음 5년을 보내고 1979년 군에서 퇴역하여 미국 기술 주식 회사의 우두머리가 되었다. \n",
      "질문 : 헤이그가 군에서 퇴역한 년도는 몇년도입니까? \n",
      "정답 : 1979년\n",
      "예측 : 1979년\n",
      "----------------------------------------\n",
      "본문 : [CLS] 헤이그는 닉슨 대통령이 그를 사성 장군과 육군 부참모로 진급시킬 때 집중 광선과 논쟁으로 들어갔다. 헤이그를 군사의 최상으로 밀어넣은 닉슨의 행동은 대통령의 남자들을 다양한 연방 대리법에서 권한의 직우들로 놓은 노력과 함께 일치였다. 하지만 그는 곧 백악관으로 돌아가 1973년부터 1974년까지 대통령 특별 보좌관을 지냈다. 워터게이트 사건이 일어난지 한달 후, 헤이그는 포위된 닉슨 대통령을 위한 치명적 역할을 하였다. 그일은 8월 닉슨의 사임과 제럴드 포드의 대통령으로 계승으로 이끈 협상들에서 헤이그가 수단이었던 우연이 아니었다. 곧 후에 헤이그는 미국 유럽 연합군 최고사령부의 최고 사령관으로 임명되었다. 그는 나토에서 다음 5년을 보내고 1979년 군에서 퇴역하여 미국 기술 주식 회사의 우두머리가 되었다. \n",
      "질문 : 제럴드 포드 대통령 시기 헤이그가 최고사령부의 최고 사령관으로 임명된 곳은 어디인가? \n",
      "정답 : 미국 유럽 연합군\n",
      "예측 : 미국 유럽 연합군\n",
      "----------------------------------------\n",
      "본문 : [CLS] 헤이그는 닉슨 대통령이 그를 사성 장군과 육군 부참모로 진급시킬 때 집중 광선과 논쟁으로 들어갔다. 헤이그를 군사의 최상으로 밀어넣은 닉슨의 행동은 대통령의 남자들을 다양한 연방 대리법에서 권한의 직우들로 놓은 노력과 함께 일치였다. 하지만 그는 곧 백악관으로 돌아가 1973년부터 1974년까지 대통령 특별 보좌관을 지냈다. 워터게이트 사건이 일어난지 한달 후, 헤이그는 포위된 닉슨 대통령을 위한 치명적 역할을 하였다. 그일은 8월 닉슨의 사임과 제럴드 포드의 대통령으로 계승으로 이끈 협상들에서 헤이그가 수단이었던 우연이 아니었다. 곧 후에 헤이그는 미국 유럽 연합군 최고사령부의 최고 사령관으로 임명되었다. 그는 나토에서 다음 5년을 보내고 1979년 군에서 퇴역하여 미국 기술 주식 회사의 우두머리가 되었다. \n",
      "질문 : 헤이그가 군대에서 퇴역한 년도는? \n",
      "정답 : 1979년\n",
      "예측 : 1979년\n",
      "----------------------------------------\n",
      "본문 : [CLS] 헤이그는 닉슨 대통령이 그를 사성 장군과 육군 부참모로 진급시킬 때 집중 광선과 논쟁으로 들어갔다. 헤이그를 군사의 최상으로 밀어넣은 닉슨의 행동은 대통령의 남자들을 다양한 연방 대리법에서 권한의 직우들로 놓은 노력과 함께 일치였다. 하지만 그는 곧 백악관으로 돌아가 1973년부터 1974년까지 대통령 특별 보좌관을 지냈다. 워터게이트 사건이 일어난지 한달 후, 헤이그는 포위된 닉슨 대통령을 위한 치명적 역할을 하였다. 그일은 8월 닉슨의 사임과 제럴드 포드의 대통령으로 계승으로 이끈 협상들에서 헤이그가 수단이었던 우연이 아니었다. 곧 후에 헤이그는 미국 유럽 연합군 최고사령부의 최고 사령관으로 임명되었다. 그는 나토에서 다음 5년을 보내고 1979년 군에서 퇴역하여 미국 기술 주식 회사의 우두머리가 되었다. \n",
      "질문 : 퇴역 후 헤이그는 어느 회사의 대표가 되었나? \n",
      "정답 : 미국 기술 주식 회사\n",
      "예측 : 미국 기술 주식 회사\n",
      "----------------------------------------\n",
      "본문 : [CLS] 그의 편에 헤이그는 지구촌의 논점들의 국내적 정치 노력들에 관해서만 근심한 레이건의 가까운 조언자들을 \" 외교 정책의 아마추어 \" 로 묘사하였다. 1982년 6월 25일 결국적으로 온 그의 국무장관으로서 사임은 불가능한 상황이 된 것을 끝냈다. 헤이그는 개인적 생활로 돌아갔다가 1988년 대통령 선거를 위한 공화당 후보직을 안정시키는 시도를 하는 데 충분하게 정계로 돌아갔으나 후보직을 이기는 데 성원을 가지지 않았다. 그는 외교 정책 논쟁들에 연설자로서 활동적으로 남아있었으나 그의 전념은 정치에서 개인적 생활로 옮겨졌다. 그는 Worldwide Associates Inc. 의 국제적 상담 회사에 의하여 기용되었고, 그 기구의 의장과 회장이 되었다. \n",
      "질문 : 알렉산더 헤이그는 레이건의 조언자들을 무엇이라고 묘사하였는가? \n",
      "정답 : 외교 정책의 아마추어\n",
      "예측 : 외교 정책의 아마추어\n",
      "----------------------------------------\n",
      "본문 : [CLS] 그의 편에 헤이그는 지구촌의 논점들의 국내적 정치 노력들에 관해서만 근심한 레이건의 가까운 조언자들을 \" 외교 정책의 아마추어 \" 로 묘사하였다. 1982년 6월 25일 결국적으로 온 그의 국무장관으로서 사임은 불가능한 상황이 된 것을 끝냈다. 헤이그는 개인적 생활로 돌아갔다가 1988년 대통령 선거를 위한 공화당 후보직을 안정시키는 시도를 하는 데 충분하게 정계로 돌아갔으나 후보직을 이기는 데 성원을 가지지 않았다. 그는 외교 정책 논쟁들에 연설자로서 활동적으로 남아있었으나 그의 전념은 정치에서 개인적 생활로 옮겨졌다. 그는 Worldwide Associates Inc. 의 국제적 상담 회사에 의하여 기용되었고, 그 기구의 의장과 회장이 되었다. \n",
      "질문 : 헤이그가 사적생활을 하다가 정계로 돌아갔던 해는 언제인가? \n",
      "정답 : 1988년\n",
      "예측 : 1988년\n",
      "----------------------------------------\n",
      "본문 : [CLS] 그의 편에 헤이그는 지구촌의 논점들의 국내적 정치 노력들에 관해서만 근심한 레이건의 가까운 조언자들을 \" 외교 정책의 아마추어 \" 로 묘사하였다. 1982년 6월 25일 결국적으로 온 그의 국무장관으로서 사임은 불가능한 상황이 된 것을 끝냈다. 헤이그는 개인적 생활로 돌아갔다가 1988년 대통령 선거를 위한 공화당 후보직을 안정시키는 시도를 하는 데 충분하게 정계로 돌아갔으나 후보직을 이기는 데 성원을 가지지 않았다. 그는 외교 정책 논쟁들에 연설자로서 활동적으로 남아있었으나 그의 전념은 정치에서 개인적 생활로 옮겨졌다. 그는 Worldwide Associates Inc. 의 국제적 상담 회사에 의하여 기용되었고, 그 기구의 의장과 회장이 되었다. \n",
      "질문 : 헤이그를 기용한 국제적 상담 회사의 이름은 무엇입니까? \n",
      "정답 : Worldwide Associates Inc\n",
      "예측 : Worldwide Associates Inc.\n",
      "----------------------------------------\n",
      "본문 : [CLS] 그의 편에 헤이그는 지구촌의 논점들의 국내적 정치 노력들에 관해서만 근심한 레이건의 가까운 조언자들을 \" 외교 정책의 아마추어 \" 로 묘사하였다. 1982년 6월 25일 결국적으로 온 그의 국무장관으로서 사임은 불가능한 상황이 된 것을 끝냈다. 헤이그는 개인적 생활로 돌아갔다가 1988년 대통령 선거를 위한 공화당 후보직을 안정시키는 시도를 하는 데 충분하게 정계로 돌아갔으나 후보직을 이기는 데 성원을 가지지 않았다. 그는 외교 정책 논쟁들에 연설자로서 활동적으로 남아있었으나 그의 전념은 정치에서 개인적 생활로 옮겨졌다. 그는 Worldwide Associates Inc. 의 국제적 상담 회사에 의하여 기용되었고, 그 기구의 의장과 회장이 되었다. \n",
      "질문 : 헤이그가 정계로 돌아간 년도는 몇년도입니까? \n",
      "정답 : 1988년\n",
      "예측 : 1988년\n",
      "----------------------------------------\n",
      "본문 : [CLS] 그의 편에 헤이그는 지구촌의 논점들의 국내적 정치 노력들에 관해서만 근심한 레이건의 가까운 조언자들을 \" 외교 정책의 아마추어 \" 로 묘사하였다. 1982년 6월 25일 결국적으로 온 그의 국무장관으로서 사임은 불가능한 상황이 된 것을 끝냈다. 헤이그는 개인적 생활로 돌아갔다가 1988년 대통령 선거를 위한 공화당 후보직을 안정시키는 시도를 하는 데 충분하게 정계로 돌아갔으나 후보직을 이기는 데 성원을 가지지 않았다. 그는 외교 정책 논쟁들에 연설자로서 활동적으로 남아있었으나 그의 전념은 정치에서 개인적 생활로 옮겨졌다. 그는 Worldwide Associates Inc. 의 국제적 상담 회사에 의하여 기용되었고, 그 기구의 의장과 회장이 되었다. \n",
      "질문 : 레이건 대통령의 조언자들을 헤이그는 무엇이라고 묘사하였나? \n",
      "정답 : 외교 정책의 아마추어\n",
      "예측 : 외교 정책의 아마추어\n",
      "----------------------------------------\n",
      "본문 : [CLS] 그의 편에 헤이그는 지구촌의 논점들의 국내적 정치 노력들에 관해서만 근심한 레이건의 가까운 조언자들을 \" 외교 정책의 아마추어 \" 로 묘사하였다. 1982년 6월 25일 결국적으로 온 그의 국무장관으로서 사임은 불가능한 상황이 된 것을 끝냈다. 헤이그는 개인적 생활로 돌아갔다가 1988년 대통령 선거를 위한 공화당 후보직을 안정시키는 시도를 하는 데 충분하게 정계로 돌아갔으나 후보직을 이기는 데 성원을 가지지 않았다. 그는 외교 정책 논쟁들에 연설자로서 활동적으로 남아있었으나 그의 전념은 정치에서 개인적 생활로 옮겨졌다. 그는 Worldwide Associates Inc. 의 국제적 상담 회사에 의하여 기용되었고, 그 기구의 의장과 회장이 되었다. \n",
      "질문 : 헤이그가 정계로 다시 돌아간 년도는? \n",
      "정답 : 1988년\n",
      "예측 : 1988년\n",
      "----------------------------------------\n",
      "본문 : [CLS] 노아는 하나님의 명령에 따라 배를 만들고 가족과 정결한 짐승 암수 일곱 마리씩, 부정한 짐승 암수 한 마리씩 ( 혹은 두 마리씩 ; 사본에 따라 다름 ), 그리고 새 암수 일곱 마리씩을 싣고 밀어닥친 홍수를 피하였다. 모든 사람들이 타락한 생활에 빠져 있어 하나님이 홍수로 심판하려 할 때 홀로 바르게 살던 노아는 하나님의 특별한 계시로 홍수가 올 것을 미리 알게 된다. 그는 길이 300 규빗, 너비 50 규빗, 높이 30 규빗 ( 고대의 1규빗은 팔꿈치에서 가운데 손가락끝까지의 길이로 약 45 ~ 46cm를 가리킴 ), 상 · 중 · 하 3층으로 된 방주를 만들어 8명의 가족과, 한 쌍씩의 여러 동물을 데리고 이 방주에 탄다. 대홍수를 만나 모든 생물 ( 물고기 제외 ) 이 전멸하고 말았지만, 이 방주에 탔던 노아의 가족과 동물들은 살아 남았다고 한다. 〈 창세기 〉 6장 14 ~ 16절에 보면 길이 300규빗 ( 약 135m ), 폭 50 규빗 ( 약 22. 5m ), 높이 30 규빗 ( 약 13. 5m ) 인 이 배는 지붕과 문을 달고 배 안은 3층으로 만들어져 있었다. 선체 ( 船 體 ) 는 고페르나무 ( 잣나무 ) 로 되고 안쪽에는 역청 ( 아스팔트와 비슷한 성분 ) 을 칠하여 굳혔다고 기록하고 있다. \n",
      "질문 : 하나님의 명령에 배를 만들고 가족과 짐승들을 배에 태워 홍수를 피한 사람은 누구인가? \n",
      "정답 : 노아\n",
      "예측 : 노아\n",
      "----------------------------------------\n",
      "본문 : [CLS] 노아는 하나님의 명령에 따라 배를 만들고 가족과 정결한 짐승 암수 일곱 마리씩, 부정한 짐승 암수 한 마리씩 ( 혹은 두 마리씩 ; 사본에 따라 다름 ), 그리고 새 암수 일곱 마리씩을 싣고 밀어닥친 홍수를 피하였다. 모든 사람들이 타락한 생활에 빠져 있어 하나님이 홍수로 심판하려 할 때 홀로 바르게 살던 노아는 하나님의 특별한 계시로 홍수가 올 것을 미리 알게 된다. 그는 길이 300 규빗, 너비 50 규빗, 높이 30 규빗 ( 고대의 1규빗은 팔꿈치에서 가운데 손가락끝까지의 길이로 약 45 ~ 46cm를 가리킴 ), 상 · 중 · 하 3층으로 된 방주를 만들어 8명의 가족과, 한 쌍씩의 여러 동물을 데리고 이 방주에 탄다. 대홍수를 만나 모든 생물 ( 물고기 제외 ) 이 전멸하고 말았지만, 이 방주에 탔던 노아의 가족과 동물들은 살아 남았다고 한다. 〈 창세기 〉 6장 14 ~ 16절에 보면 길이 300규빗 ( 약 135m ), 폭 50 규빗 ( 약 22. 5m ), 높이 30 규빗 ( 약 13. 5m ) 인 이 배는 지붕과 문을 달고 배 안은 3층으로 만들어져 있었다. 선체 ( 船 體 ) 는 고페르나무 ( 잣나무 ) 로 되고 안쪽에는 역청 ( 아스팔트와 비슷한 성분 ) 을 칠하여 굳혔다고 기록하고 있다. \n",
      "질문 : 노아의 방주에 대해 기록하고있는 복음서는 무엇인가? \n",
      "정답 : 창세기\n",
      "예측 : 창세기\n",
      "----------------------------------------\n",
      "본문 : [CLS] 노아는 하나님의 명령에 따라 배를 만들고 가족과 정결한 짐승 암수 일곱 마리씩, 부정한 짐승 암수 한 마리씩 ( 혹은 두 마리씩 ; 사본에 따라 다름 ), 그리고 새 암수 일곱 마리씩을 싣고 밀어닥친 홍수를 피하였다. 모든 사람들이 타락한 생활에 빠져 있어 하나님이 홍수로 심판하려 할 때 홀로 바르게 살던 노아는 하나님의 특별한 계시로 홍수가 올 것을 미리 알게 된다. 그는 길이 300 규빗, 너비 50 규빗, 높이 30 규빗 ( 고대의 1규빗은 팔꿈치에서 가운데 손가락끝까지의 길이로 약 45 ~ 46cm를 가리킴 ), 상 · 중 · 하 3층으로 된 방주를 만들어 8명의 가족과, 한 쌍씩의 여러 동물을 데리고 이 방주에 탄다. 대홍수를 만나 모든 생물 ( 물고기 제외 ) 이 전멸하고 말았지만, 이 방주에 탔던 노아의 가족과 동물들은 살아 남았다고 한다. 〈 창세기 〉 6장 14 ~ 16절에 보면 길이 300규빗 ( 약 135m ), 폭 50 규빗 ( 약 22. 5m ), 높이 30 규빗 ( 약 13. 5m ) 인 이 배는 지붕과 문을 달고 배 안은 3층으로 만들어져 있었다. 선체 ( 船 體 ) 는 고페르나무 ( 잣나무 ) 로 되고 안쪽에는 역청 ( 아스팔트와 비슷한 성분 ) 을 칠하여 굳혔다고 기록하고 있다. \n",
      "질문 : 노아의 방주의 선체는 어떠한 나무로 만들었는가? \n",
      "정답 : 고페르나무\n",
      "예측 : 고페르나무\n",
      "----------------------------------------\n",
      "본문 : [CLS] 노아는 하나님의 명령에 따라 배를 만들고 가족과 정결한 짐승 암수 일곱 마리씩, 부정한 짐승 암수 한 마리씩 ( 혹은 두 마리씩 ; 사본에 따라 다름 ), 그리고 새 암수 일곱 마리씩을 싣고 밀어닥친 홍수를 피하였다. 모든 사람들이 타락한 생활에 빠져 있어 하나님이 홍수로 심판하려 할 때 홀로 바르게 살던 노아는 하나님의 특별한 계시로 홍수가 올 것을 미리 알게 된다. 그는 길이 300 규빗, 너비 50 규빗, 높이 30 규빗 ( 고대의 1규빗은 팔꿈치에서 가운데 손가락끝까지의 길이로 약 45 ~ 46cm를 가리킴 ), 상 · 중 · 하 3층으로 된 방주를 만들어 8명의 가족과, 한 쌍씩의 여러 동물을 데리고 이 방주에 탄다. 대홍수를 만나 모든 생물 ( 물고기 제외 ) 이 전멸하고 말았지만, 이 방주에 탔던 노아의 가족과 동물들은 살아 남았다고 한다. 〈 창세기 〉 6장 14 ~ 16절에 보면 길이 300규빗 ( 약 135m ), 폭 50 규빗 ( 약 22. 5m ), 높이 30 규빗 ( 약 13. 5m ) 인 이 배는 지붕과 문을 달고 배 안은 3층으로 만들어져 있었다. 선체 ( 船 體 ) 는 고페르나무 ( 잣나무 ) 로 되고 안쪽에는 역청 ( 아스팔트와 비슷한 성분 ) 을 칠하여 굳혔다고 기록하고 있다. \n",
      "질문 : 노아는 누구의 명령에 따라 배를 만들고 가족과 동물들을 태웠는가? \n",
      "정답 : 하나님\n",
      "예측 : 하나님\n",
      "----------------------------------------\n",
      "본문 : [CLS] 노아는 하나님의 명령에 따라 배를 만들고 가족과 정결한 짐승 암수 일곱 마리씩, 부정한 짐승 암수 한 마리씩 ( 혹은 두 마리씩 ; 사본에 따라 다름 ), 그리고 새 암수 일곱 마리씩을 싣고 밀어닥친 홍수를 피하였다. 모든 사람들이 타락한 생활에 빠져 있어 하나님이 홍수로 심판하려 할 때 홀로 바르게 살던 노아는 하나님의 특별한 계시로 홍수가 올 것을 미리 알게 된다. 그는 길이 300 규빗, 너비 50 규빗, 높이 30 규빗 ( 고대의 1규빗은 팔꿈치에서 가운데 손가락끝까지의 길이로 약 45 ~ 46cm를 가리킴 ), 상 · 중 · 하 3층으로 된 방주를 만들어 8명의 가족과, 한 쌍씩의 여러 동물을 데리고 이 방주에 탄다. 대홍수를 만나 모든 생물 ( 물고기 제외 ) 이 전멸하고 말았지만, 이 방주에 탔던 노아의 가족과 동물들은 살아 남았다고 한다. 〈 창세기 〉 6장 14 ~ 16절에 보면 길이 300규빗 ( 약 135m ), 폭 50 규빗 ( 약 22. 5m ), 높이 30 규빗 ( 약 13. 5m ) 인 이 배는 지붕과 문을 달고 배 안은 3층으로 만들어져 있었다. 선체 ( 船 體 ) 는 고페르나무 ( 잣나무 ) 로 되고 안쪽에는 역청 ( 아스팔트와 비슷한 성분 ) 을 칠하여 굳혔다고 기록하고 있다. \n",
      "질문 : 노아의 방주는 몇층으로 구성되어 있었는가? \n",
      "정답 : 3층\n",
      "예측 : 3층\n",
      "----------------------------------------\n",
      "본문 : [CLS] 노아는 하나님의 명령에 따라 배를 만들고 가족과 정결한 짐승 암수 일곱 마리씩, 부정한 짐승 암수 한 마리씩 ( 혹은 두 마리씩 ; 사본에 따라 다름 ), 그리고 새 암수 일곱 마리씩을 싣고 밀어닥친 홍수를 피하였다. 모든 사람들이 타락한 생활에 빠져 있어 하나님이 홍수로 심판하려 할 때 홀로 바르게 살던 노아는 하나님의 특별한 계시로 홍수가 올 것을 미리 알게 된다. 그는 길이 300 규빗, 너비 50 규빗, 높이 30 규빗 ( 고대의 1규빗은 팔꿈치에서 가운데 손가락끝까지의 길이로 약 45 ~ 46cm를 가리킴 ), 상 · 중 · 하 3층으로 된 방주를 만들어 8명의 가족과, 한 쌍씩의 여러 동물을 데리고 이 방주에 탄다. 대홍수를 만나 모든 생물 ( 물고기 제외 ) 이 전멸하고 말았지만, 이 방주에 탔던 노아의 가족과 동물들은 살아 남았다고 한다. 〈 창세기 〉 6장 14 ~ 16절에 보면 길이 300규빗 ( 약 135m ), 폭 50 규빗 ( 약 22. 5m ), 높이 30 규빗 ( 약 13. 5m ) 인 이 배는 지붕과 문을 달고 배 안은 3층으로 만들어져 있었다. 선체 ( 船 體 ) 는 고페르나무 ( 잣나무 ) 로 되고 안쪽에는 역청 ( 아스팔트와 비슷한 성분 ) 을 칠하여 굳혔다고 기록하고 있다. \n",
      "질문 : 노아의 방주에 안쪽에 발라 굳힌 것은? \n",
      "정답 : 역청\n",
      "예측 : 역청\n",
      "----------------------------------------\n",
      "본문 : [CLS] 노아는 하나님의 명령에 따라 배를 만들고 가족과 정결한 짐승 암수 일곱 마리씩, 부정한 짐승 암수 한 마리씩 ( 혹은 두 마리씩 ; 사본에 따라 다름 ), 그리고 새 암수 일곱 마리씩을 싣고 밀어닥친 홍수를 피하였다. 모든 사람들이 타락한 생활에 빠져 있어 하나님이 홍수로 심판하려 할 때 홀로 바르게 살던 노아는 하나님의 특별한 계시로 홍수가 올 것을 미리 알게 된다. 그는 길이 300 규빗, 너비 50 규빗, 높이 30 규빗 ( 고대의 1규빗은 팔꿈치에서 가운데 손가락끝까지의 길이로 약 45 ~ 46cm를 가리킴 ), 상 · 중 · 하 3층으로 된 방주를 만들어 8명의 가족과, 한 쌍씩의 여러 동물을 데리고 이 방주에 탄다. 대홍수를 만나 모든 생물 ( 물고기 제외 ) 이 전멸하고 말았지만, 이 방주에 탔던 노아의 가족과 동물들은 살아 남았다고 한다. 〈 창세기 〉 6장 14 ~ 16절에 보면 길이 300규빗 ( 약 135m ), 폭 50 규빗 ( 약 22. 5m ), 높이 30 규빗 ( 약 13. 5m ) 인 이 배는 지붕과 문을 달고 배 안은 3층으로 만들어져 있었다. 선체 ( 船 體 ) 는 고페르나무 ( 잣나무 ) 로 되고 안쪽에는 역청 ( 아스팔트와 비슷한 성분 ) 을 칠하여 굳혔다고 기록하고 있다. \n",
      "질문 : 1규빗을 미터법으로 환산하면 얼마인가? \n",
      "정답 : 45 ~ 46cm\n",
      "예측 : 30 규빗\n",
      "----------------------------------------\n",
      "본문 : [CLS] 노아는 하나님의 명령에 따라 배를 만들고 가족과 정결한 짐승 암수 일곱 마리씩, 부정한 짐승 암수 한 마리씩 ( 혹은 두 마리씩 ; 사본에 따라 다름 ), 그리고 새 암수 일곱 마리씩을 싣고 밀어닥친 홍수를 피하였다. 모든 사람들이 타락한 생활에 빠져 있어 하나님이 홍수로 심판하려 할 때 홀로 바르게 살던 노아는 하나님의 특별한 계시로 홍수가 올 것을 미리 알게 된다. 그는 길이 300 규빗, 너비 50 규빗, 높이 30 규빗 ( 고대의 1규빗은 팔꿈치에서 가운데 손가락끝까지의 길이로 약 45 ~ 46cm를 가리킴 ), 상 · 중 · 하 3층으로 된 방주를 만들어 8명의 가족과, 한 쌍씩의 여러 동물을 데리고 이 방주에 탄다. 대홍수를 만나 모든 생물 ( 물고기 제외 ) 이 전멸하고 말았지만, 이 방주에 탔던 노아의 가족과 동물들은 살아 남았다고 한다. 〈 창세기 〉 6장 14 ~ 16절에 보면 길이 300규빗 ( 약 135m ), 폭 50 규빗 ( 약 22. 5m ), 높이 30 규빗 ( 약 13. 5m ) 인 이 배는 지붕과 문을 달고 배 안은 3층으로 만들어져 있었다. 선체 ( 船 體 ) 는 고페르나무 ( 잣나무 ) 로 되고 안쪽에는 역청 ( 아스팔트와 비슷한 성분 ) 을 칠하여 굳혔다고 기록하고 있다. \n",
      "질문 : 노아의 방주는 총 몇층으로 되어 있었는가? \n",
      "정답 : 3층\n",
      "예측 : 3층\n",
      "----------------------------------------\n",
      "본문 : [CLS] 노아는 하나님의 명령에 따라 배를 만들고 가족과 정결한 짐승 암수 일곱 마리씩, 부정한 짐승 암수 한 마리씩 ( 혹은 두 마리씩 ; 사본에 따라 다름 ), 그리고 새 암수 일곱 마리씩을 싣고 밀어닥친 홍수를 피하였다. 모든 사람들이 타락한 생활에 빠져 있어 하나님이 홍수로 심판하려 할 때 홀로 바르게 살던 노아는 하나님의 특별한 계시로 홍수가 올 것을 미리 알게 된다. 그는 길이 300 규빗, 너비 50 규빗, 높이 30 규빗 ( 고대의 1규빗은 팔꿈치에서 가운데 손가락끝까지의 길이로 약 45 ~ 46cm를 가리킴 ), 상 · 중 · 하 3층으로 된 방주를 만들어 8명의 가족과, 한 쌍씩의 여러 동물을 데리고 이 방주에 탄다. 대홍수를 만나 모든 생물 ( 물고기 제외 ) 이 전멸하고 말았지만, 이 방주에 탔던 노아의 가족과 동물들은 살아 남았다고 한다. 〈 창세기 〉 6장 14 ~ 16절에 보면 길이 300규빗 ( 약 135m ), 폭 50 규빗 ( 약 22. 5m ), 높이 30 규빗 ( 약 13. 5m ) 인 이 배는 지붕과 문을 달고 배 안은 3층으로 만들어져 있었다. 선체 ( 船 體 ) 는 고페르나무 ( 잣나무 ) 로 되고 안쪽에는 역청 ( 아스팔트와 비슷한 성분 ) 을 칠하여 굳혔다고 기록하고 있다. \n",
      "질문 : 노아의 방주를 만든 재질은? \n",
      "정답 : 고페르나무 ( 잣나무 )\n",
      "예측 : 고페르나무\n",
      "----------------------------------------\n",
      "본문 : [CLS] 역사학과 과학이 발달하지 않았던 과거 전통 신학계에서는 근본주의적 시각을 받아들여 노아의 방주를 역사적 사실로 기술하려 했으며, 이러한 관점은 아직도 과학과 역사학에 어두운 보수적 근본주의계열의 개신교에서만 받아들여지고 있다. 하지만 역사학과 과학의 발달로 인해, 노아의 방주의 실존에 대한 의문이 제기가 되고, 세계적 홍수가 존재할 수 없음이 밝혀짐에 따라 현대 신학계에서는 비록 노아의 홍수가 과학적으로 실존하지는 않았지만 그 자체의 의미는 신학적으로 매우 중요하며, 이에 대한 해석은 다양하게 이루어지고 있으며, 대부분의 기독교 ( 가톨릭, 개신교를 포함한 대부분 ) 에서는 노아의 방주는 상징적 의미로 받아들여진다. 그러므로 과학과는 상관없이 신학적으로 노아의 방주 자체의 의미는 중요하게 해석된다고 한다 \n",
      "질문 : 노아의 방주를 상징적 의미로 받아들이는 종교는 무엇인가? \n",
      "정답 : 기독교\n",
      "예측 : 기독교\n",
      "----------------------------------------\n",
      "본문 : [CLS] 역사학과 과학이 발달하지 않았던 과거 전통 신학계에서는 근본주의적 시각을 받아들여 노아의 방주를 역사적 사실로 기술하려 했으며, 이러한 관점은 아직도 과학과 역사학에 어두운 보수적 근본주의계열의 개신교에서만 받아들여지고 있다. 하지만 역사학과 과학의 발달로 인해, 노아의 방주의 실존에 대한 의문이 제기가 되고, 세계적 홍수가 존재할 수 없음이 밝혀짐에 따라 현대 신학계에서는 비록 노아의 홍수가 과학적으로 실존하지는 않았지만 그 자체의 의미는 신학적으로 매우 중요하며, 이에 대한 해석은 다양하게 이루어지고 있으며, 대부분의 기독교 ( 가톨릭, 개신교를 포함한 대부분 ) 에서는 노아의 방주는 상징적 의미로 받아들여진다. 그러므로 과학과는 상관없이 신학적으로 노아의 방주 자체의 의미는 중요하게 해석된다고 한다 \n",
      "질문 : 노아의 방주의 실존에 대한 의문이 제기되고 세계적 홍수가 없었다는 것이 밝혀지게된 이유는? \n",
      "정답 : 역사학과 과학의 발달\n",
      "예측 : 역사학과 과학의 발달\n",
      "----------------------------------------\n",
      "본문 : [CLS] 역사학과 과학이 발달하지 않았던 과거 전통 신학계에서는 근본주의적 시각을 받아들여 노아의 방주를 역사적 사실로 기술하려 했으며, 이러한 관점은 아직도 과학과 역사학에 어두운 보수적 근본주의계열의 개신교에서만 받아들여지고 있다. 하지만 역사학과 과학의 발달로 인해, 노아의 방주의 실존에 대한 의문이 제기가 되고, 세계적 홍수가 존재할 수 없음이 밝혀짐에 따라 현대 신학계에서는 비록 노아의 홍수가 과학적으로 실존하지는 않았지만 그 자체의 의미는 신학적으로 매우 중요하며, 이에 대한 해석은 다양하게 이루어지고 있으며, 대부분의 기독교 ( 가톨릭, 개신교를 포함한 대부분 ) 에서는 노아의 방주는 상징적 의미로 받아들여진다. 그러므로 과학과는 상관없이 신학적으로 노아의 방주 자체의 의미는 중요하게 해석된다고 한다 \n",
      "질문 : 역사학과 과학의 발달이 미비했을 때 전통 신학계에서는 어떠한 시작으로 노아의 방주를 역사적 사실로 기술하였는가? \n",
      "정답 : 근본주의적\n",
      "예측 : 근본주의적 시각\n",
      "----------------------------------------\n",
      "본문 : [CLS] 역사학과 과학이 발달하지 않았던 과거 전통 신학계에서는 근본주의적 시각을 받아들여 노아의 방주를 역사적 사실로 기술하려 했으며, 이러한 관점은 아직도 과학과 역사학에 어두운 보수적 근본주의계열의 개신교에서만 받아들여지고 있다. 하지만 역사학과 과학의 발달로 인해, 노아의 방주의 실존에 대한 의문이 제기가 되고, 세계적 홍수가 존재할 수 없음이 밝혀짐에 따라 현대 신학계에서는 비록 노아의 홍수가 과학적으로 실존하지는 않았지만 그 자체의 의미는 신학적으로 매우 중요하며, 이에 대한 해석은 다양하게 이루어지고 있으며, 대부분의 기독교 ( 가톨릭, 개신교를 포함한 대부분 ) 에서는 노아의 방주는 상징적 의미로 받아들여진다. 그러므로 과학과는 상관없이 신학적으로 노아의 방주 자체의 의미는 중요하게 해석된다고 한다 \n",
      "질문 : 전통 신학계의 근본주의적 시작을 여전히 받아들여 노아의 방주를 역사적 사실로 인식하는 집단은? \n",
      "정답 : 보수적 근본주의계열의 개신교\n",
      "예측 : 개신교\n",
      "----------------------------------------\n",
      "본문 : [CLS] 역사학과 과학이 발달하지 않았던 과거 전통 신학계에서는 근본주의적 시각을 받아들여 노아의 방주를 역사적 사실로 기술하려 했으며, 이러한 관점은 아직도 과학과 역사학에 어두운 보수적 근본주의계열의 개신교에서만 받아들여지고 있다. 하지만 역사학과 과학의 발달로 인해, 노아의 방주의 실존에 대한 의문이 제기가 되고, 세계적 홍수가 존재할 수 없음이 밝혀짐에 따라 현대 신학계에서는 비록 노아의 홍수가 과학적으로 실존하지는 않았지만 그 자체의 의미는 신학적으로 매우 중요하며, 이에 대한 해석은 다양하게 이루어지고 있으며, 대부분의 기독교 ( 가톨릭, 개신교를 포함한 대부분 ) 에서는 노아의 방주는 상징적 의미로 받아들여진다. 그러므로 과학과는 상관없이 신학적으로 노아의 방주 자체의 의미는 중요하게 해석된다고 한다 \n",
      "질문 : 현대 대부분의 기독교에서는 노아의 방주를 어떤 의미로 받아들이는가? \n",
      "정답 : 상징적 의미\n",
      "예측 : 상징적 의미\n",
      "----------------------------------------\n",
      "본문 : [CLS] 역사학과 과학이 발달하지 않았던 과거 전통 신학계에서는 근본주의적 시각을 받아들여 노아의 방주를 역사적 사실로 기술하려 했으며, 이러한 관점은 아직도 과학과 역사학에 어두운 보수적 근본주의계열의 개신교에서만 받아들여지고 있다. 하지만 역사학과 과학의 발달로 인해, 노아의 방주의 실존에 대한 의문이 제기가 되고, 세계적 홍수가 존재할 수 없음이 밝혀짐에 따라 현대 신학계에서는 비록 노아의 홍수가 과학적으로 실존하지는 않았지만 그 자체의 의미는 신학적으로 매우 중요하며, 이에 대한 해석은 다양하게 이루어지고 있으며, 대부분의 기독교 ( 가톨릭, 개신교를 포함한 대부분 ) 에서는 노아의 방주는 상징적 의미로 받아들여진다. 그러므로 과학과는 상관없이 신학적으로 노아의 방주 자체의 의미는 중요하게 해석된다고 한다 \n",
      "질문 : 현재도 노아의 방주를 역사적 사실로 받아들이는 집단은? \n",
      "정답 : 보수적 근본주의계열의 개신교\n",
      "예측 : 개신교\n",
      "----------------------------------------\n",
      "본문 : [CLS] 역사학과 과학이 발달하지 않았던 과거 전통 신학계에서는 근본주의적 시각을 받아들여 노아의 방주를 역사적 사실로 기술하려 했으며, 이러한 관점은 아직도 과학과 역사학에 어두운 보수적 근본주의계열의 개신교에서만 받아들여지고 있다. 하지만 역사학과 과학의 발달로 인해, 노아의 방주의 실존에 대한 의문이 제기가 되고, 세계적 홍수가 존재할 수 없음이 밝혀짐에 따라 현대 신학계에서는 비록 노아의 홍수가 과학적으로 실존하지는 않았지만 그 자체의 의미는 신학적으로 매우 중요하며, 이에 대한 해석은 다양하게 이루어지고 있으며, 대부분의 기독교 ( 가톨릭, 개신교를 포함한 대부분 ) 에서는 노아의 방주는 상징적 의미로 받아들여진다. 그러므로 과학과는 상관없이 신학적으로 노아의 방주 자체의 의미는 중요하게 해석된다고 한다 \n",
      "질문 : 노아의 방주의 실존에 대한 의문을 제기한 학문은? \n",
      "정답 : 역사학과 과학\n",
      "예측 : 역사학\n",
      "----------------------------------------\n",
      "본문 : [CLS] 역사학과 과학의 발달이 더뎠던 고대사회에서는, 성경이 단순한 교리적인 부분 뿐 아니라 역사책으로서의 권위도 높았기에 노아의 방주를 역사적인 존재로서 다루고 있었다. 이는 제칠일안식교에서 비롯된 의사과학의 한 종류인 유사지질학인 홍수지질학과 같은 것에 영향을 주었으며, 과거 신학에서는 이러한 근본주의적 해석을 받아들여 역사와 사회적인 모든 부분에 있어 성경을 교과서로 채택할 것을 촉구했다. 이러한 홍수지질학을 주장했던 유사지질학자들은 성경에 나오는 노아의 홍수가 어딘가에 그 흔적이 남아 있을것이라고 주장하며 노아의 방주를 찾기 위한 노력을 했다고 주장한다. 이들은 같은 메소포타미아 지방의 신화인 이슬람교 경전이나 길가메쉬 서사시등의 신화를 들어서 이를 근거라고 주장하기도 했다. 그러나 이러한 전통적 근본주의적 시각은 과거에는 상당히 힘을 얻었으나, 역사학과 과학의 발달에 따라 힘을 잃게 되었고, 홍수지질학은 유사과학으로서 남게 되었다. 현대에는 뒤의 실존논란에서 다루는 것처럼 이러한 근본주의적 해석은 비과학적인 해석으로 여기는 것이 일반적이지만, 남침례교로 대표되는 극보수주의계열 기독교에서는 아직도 이것이 받아들여지고 있다. \n",
      "질문 : 제칠일안식교에서 비롯된 의사과학의 한 종류인 유사지질학의 이름은 무엇인가? \n",
      "정답 : 홍수지질학\n",
      "예측 : 홍수지질학\n",
      "----------------------------------------\n",
      "본문 : [CLS] 역사학과 과학의 발달이 더뎠던 고대사회에서는, 성경이 단순한 교리적인 부분 뿐 아니라 역사책으로서의 권위도 높았기에 노아의 방주를 역사적인 존재로서 다루고 있었다. 이는 제칠일안식교에서 비롯된 의사과학의 한 종류인 유사지질학인 홍수지질학과 같은 것에 영향을 주었으며, 과거 신학에서는 이러한 근본주의적 해석을 받아들여 역사와 사회적인 모든 부분에 있어 성경을 교과서로 채택할 것을 촉구했다. 이러한 홍수지질학을 주장했던 유사지질학자들은 성경에 나오는 노아의 홍수가 어딘가에 그 흔적이 남아 있을것이라고 주장하며 노아의 방주를 찾기 위한 노력을 했다고 주장한다. 이들은 같은 메소포타미아 지방의 신화인 이슬람교 경전이나 길가메쉬 서사시등의 신화를 들어서 이를 근거라고 주장하기도 했다. 그러나 이러한 전통적 근본주의적 시각은 과거에는 상당히 힘을 얻었으나, 역사학과 과학의 발달에 따라 힘을 잃게 되었고, 홍수지질학은 유사과학으로서 남게 되었다. 현대에는 뒤의 실존논란에서 다루는 것처럼 이러한 근본주의적 해석은 비과학적인 해석으로 여기는 것이 일반적이지만, 남침례교로 대표되는 극보수주의계열 기독교에서는 아직도 이것이 받아들여지고 있다. \n",
      "질문 : 극보수주의계열의 기독교이자 아직도 노아의 홍수가 있었다고 주장하는 곳은 어디인가? \n",
      "정답 : 남침례교\n",
      "예측 : 남침례교\n",
      "----------------------------------------\n",
      "본문 : [CLS] 역사학과 과학의 발달이 더뎠던 고대사회에서는, 성경이 단순한 교리적인 부분 뿐 아니라 역사책으로서의 권위도 높았기에 노아의 방주를 역사적인 존재로서 다루고 있었다. 이는 제칠일안식교에서 비롯된 의사과학의 한 종류인 유사지질학인 홍수지질학과 같은 것에 영향을 주었으며, 과거 신학에서는 이러한 근본주의적 해석을 받아들여 역사와 사회적인 모든 부분에 있어 성경을 교과서로 채택할 것을 촉구했다. 이러한 홍수지질학을 주장했던 유사지질학자들은 성경에 나오는 노아의 홍수가 어딘가에 그 흔적이 남아 있을것이라고 주장하며 노아의 방주를 찾기 위한 노력을 했다고 주장한다. 이들은 같은 메소포타미아 지방의 신화인 이슬람교 경전이나 길가메쉬 서사시등의 신화를 들어서 이를 근거라고 주장하기도 했다. 그러나 이러한 전통적 근본주의적 시각은 과거에는 상당히 힘을 얻었으나, 역사학과 과학의 발달에 따라 힘을 잃게 되었고, 홍수지질학은 유사과학으로서 남게 되었다. 현대에는 뒤의 실존논란에서 다루는 것처럼 이러한 근본주의적 해석은 비과학적인 해석으로 여기는 것이 일반적이지만, 남침례교로 대표되는 극보수주의계열 기독교에서는 아직도 이것이 받아들여지고 있다. \n",
      "질문 : 고대사회에서 성경은 교리를 다루는 책일 뿐만 아니라 어떤 책으로도 권위가 상당했는가? \n",
      "정답 : 역사책\n",
      "예측 : 역사책\n",
      "----------------------------------------\n",
      "본문 : [CLS] 역사학과 과학의 발달이 더뎠던 고대사회에서는, 성경이 단순한 교리적인 부분 뿐 아니라 역사책으로서의 권위도 높았기에 노아의 방주를 역사적인 존재로서 다루고 있었다. 이는 제칠일안식교에서 비롯된 의사과학의 한 종류인 유사지질학인 홍수지질학과 같은 것에 영향을 주었으며, 과거 신학에서는 이러한 근본주의적 해석을 받아들여 역사와 사회적인 모든 부분에 있어 성경을 교과서로 채택할 것을 촉구했다. 이러한 홍수지질학을 주장했던 유사지질학자들은 성경에 나오는 노아의 홍수가 어딘가에 그 흔적이 남아 있을것이라고 주장하며 노아의 방주를 찾기 위한 노력을 했다고 주장한다. 이들은 같은 메소포타미아 지방의 신화인 이슬람교 경전이나 길가메쉬 서사시등의 신화를 들어서 이를 근거라고 주장하기도 했다. 그러나 이러한 전통적 근본주의적 시각은 과거에는 상당히 힘을 얻었으나, 역사학과 과학의 발달에 따라 힘을 잃게 되었고, 홍수지질학은 유사과학으로서 남게 되었다. 현대에는 뒤의 실존논란에서 다루는 것처럼 이러한 근본주의적 해석은 비과학적인 해석으로 여기는 것이 일반적이지만, 남침례교로 대표되는 극보수주의계열 기독교에서는 아직도 이것이 받아들여지고 있다. \n",
      "질문 : 역사학과 과학의 발달로 홍수지질학은 어떤 과학으로 남게 되었는가? \n",
      "정답 : 유사과학\n",
      "예측 : 유사과학\n",
      "----------------------------------------\n",
      "본문 : [CLS] 역사학과 과학의 발달이 더뎠던 고대사회에서는, 성경이 단순한 교리적인 부분 뿐 아니라 역사책으로서의 권위도 높았기에 노아의 방주를 역사적인 존재로서 다루고 있었다. 이는 제칠일안식교에서 비롯된 의사과학의 한 종류인 유사지질학인 홍수지질학과 같은 것에 영향을 주었으며, 과거 신학에서는 이러한 근본주의적 해석을 받아들여 역사와 사회적인 모든 부분에 있어 성경을 교과서로 채택할 것을 촉구했다. 이러한 홍수지질학을 주장했던 유사지질학자들은 성경에 나오는 노아의 홍수가 어딘가에 그 흔적이 남아 있을것이라고 주장하며 노아의 방주를 찾기 위한 노력을 했다고 주장한다. 이들은 같은 메소포타미아 지방의 신화인 이슬람교 경전이나 길가메쉬 서사시등의 신화를 들어서 이를 근거라고 주장하기도 했다. 그러나 이러한 전통적 근본주의적 시각은 과거에는 상당히 힘을 얻었으나, 역사학과 과학의 발달에 따라 힘을 잃게 되었고, 홍수지질학은 유사과학으로서 남게 되었다. 현대에는 뒤의 실존논란에서 다루는 것처럼 이러한 근본주의적 해석은 비과학적인 해석으로 여기는 것이 일반적이지만, 남침례교로 대표되는 극보수주의계열 기독교에서는 아직도 이것이 받아들여지고 있다. \n",
      "질문 : 현대에 노아의 방주에 대학 근본주의적 해석은 어떻게 여겨지는가? \n",
      "정답 : 비과학적인 해석\n",
      "예측 : 비과학적인 해석\n",
      "----------------------------------------\n",
      "본문 : [CLS] 역사학과 과학의 발달이 더뎠던 고대사회에서는, 성경이 단순한 교리적인 부분 뿐 아니라 역사책으로서의 권위도 높았기에 노아의 방주를 역사적인 존재로서 다루고 있었다. 이는 제칠일안식교에서 비롯된 의사과학의 한 종류인 유사지질학인 홍수지질학과 같은 것에 영향을 주었으며, 과거 신학에서는 이러한 근본주의적 해석을 받아들여 역사와 사회적인 모든 부분에 있어 성경을 교과서로 채택할 것을 촉구했다. 이러한 홍수지질학을 주장했던 유사지질학자들은 성경에 나오는 노아의 홍수가 어딘가에 그 흔적이 남아 있을것이라고 주장하며 노아의 방주를 찾기 위한 노력을 했다고 주장한다. 이들은 같은 메소포타미아 지방의 신화인 이슬람교 경전이나 길가메쉬 서사시등의 신화를 들어서 이를 근거라고 주장하기도 했다. 그러나 이러한 전통적 근본주의적 시각은 과거에는 상당히 힘을 얻었으나, 역사학과 과학의 발달에 따라 힘을 잃게 되었고, 홍수지질학은 유사과학으로서 남게 되었다. 현대에는 뒤의 실존논란에서 다루는 것처럼 이러한 근본주의적 해석은 비과학적인 해석으로 여기는 것이 일반적이지만, 남침례교로 대표되는 극보수주의계열 기독교에서는 아직도 이것이 받아들여지고 있다. \n",
      "질문 : 유사지질학인 홍수지질학이 근원은? \n",
      "정답 : 제칠일안식교\n",
      "예측 : 제칠일안식교\n",
      "----------------------------------------\n",
      "본문 : [CLS] 역사학과 과학의 발달이 더뎠던 고대사회에서는, 성경이 단순한 교리적인 부분 뿐 아니라 역사책으로서의 권위도 높았기에 노아의 방주를 역사적인 존재로서 다루고 있었다. 이는 제칠일안식교에서 비롯된 의사과학의 한 종류인 유사지질학인 홍수지질학과 같은 것에 영향을 주었으며, 과거 신학에서는 이러한 근본주의적 해석을 받아들여 역사와 사회적인 모든 부분에 있어 성경을 교과서로 채택할 것을 촉구했다. 이러한 홍수지질학을 주장했던 유사지질학자들은 성경에 나오는 노아의 홍수가 어딘가에 그 흔적이 남아 있을것이라고 주장하며 노아의 방주를 찾기 위한 노력을 했다고 주장한다. 이들은 같은 메소포타미아 지방의 신화인 이슬람교 경전이나 길가메쉬 서사시등의 신화를 들어서 이를 근거라고 주장하기도 했다. 그러나 이러한 전통적 근본주의적 시각은 과거에는 상당히 힘을 얻었으나, 역사학과 과학의 발달에 따라 힘을 잃게 되었고, 홍수지질학은 유사과학으로서 남게 되었다. 현대에는 뒤의 실존논란에서 다루는 것처럼 이러한 근본주의적 해석은 비과학적인 해석으로 여기는 것이 일반적이지만, 남침례교로 대표되는 극보수주의계열 기독교에서는 아직도 이것이 받아들여지고 있다. \n",
      "질문 : 유사지질학자들이 노아의 홍수를 증명하기 위해 성경 이외에 근거라고 주장한 것들은? \n",
      "정답 : 이슬람교 경전이나 길가메쉬 서사시\n",
      "예측 : 이슬람교 경전이나 길가메쉬 서사시\n",
      "----------------------------------------\n",
      "본문 : [CLS] 물론 노아의 방주가 신학과 신앙에서 중요한 영향을 차지하는 것은 사실이나, 현재 노아의 방주가 역사적으로 실존한다는 주장은 그 증거가 존재하지 않기에 관련 학계로부터 전혀 인정받지 못하고 있으며 그 실존과 안정성에 대한 수많은 논란이 있다. 한국창조과학회 등에서는 제칠일안식교를 기반으로 한 홍수지질학적 주장들을을 내어 놓고 있지만, 사실과 다른 근거들을 바탕으로 주장하므로 신뢰하기 힘든 것들이 전부라 할 수 있다. 그러므로 현재 노아의 방주가 실존한다는 주장은 그 증거가 존재하지 않기에 관련 학계로부터 전혀 인정받지 못하고 있다. 모든 과학관련 학계에서는 노아의 방주의 구조나 재질등이 실제로 존재할 수 없는 설화속 이야기라는 데에 동의하고 있다. \n",
      "질문 : 노아의 방주가 역사적으로 실재했다는 주장은 무엇이 존재하지 않아 학계로부터 전혀 인정받지 못하고 있는가? \n",
      "정답 : 증거\n",
      "예측 : 실존한다는 주장은 그 증거\n",
      "----------------------------------------\n",
      "본문 : [CLS] 물론 노아의 방주가 신학과 신앙에서 중요한 영향을 차지하는 것은 사실이나, 현재 노아의 방주가 역사적으로 실존한다는 주장은 그 증거가 존재하지 않기에 관련 학계로부터 전혀 인정받지 못하고 있으며 그 실존과 안정성에 대한 수많은 논란이 있다. 한국창조과학회 등에서는 제칠일안식교를 기반으로 한 홍수지질학적 주장들을을 내어 놓고 있지만, 사실과 다른 근거들을 바탕으로 주장하므로 신뢰하기 힘든 것들이 전부라 할 수 있다. 그러므로 현재 노아의 방주가 실존한다는 주장은 그 증거가 존재하지 않기에 관련 학계로부터 전혀 인정받지 못하고 있다. 모든 과학관련 학계에서는 노아의 방주의 구조나 재질등이 실제로 존재할 수 없는 설화속 이야기라는 데에 동의하고 있다. \n",
      "질문 : 한국에서 홍수지질학적 주장들을 내어 놓고 있는 집단은? \n",
      "정답 : 한국창조과학회\n",
      "예측 : 한국창조과학회\n",
      "----------------------------------------\n",
      "본문 : [CLS] 일반적으로 터키의 아라랏 산의 경우, 실제 성경 속에 등장하는 아라랏 산은 지금 아라랏이라 불리는 하나의 산이 아니라 당시 아라랏이라고 불리던 광대한 지역의 산들을 모두 가리키는 표현이라는 주장도 나와 있으며, 또한 목재로 만들어진 방주가 현재까지 남아있을 수는 없다는 비판도 받고 있다. 예를 들어, 1955년 프랑스의 탐험가인 Fernand Navarra가 발견한 목재 파편의 경우, 스페인의 임업 연구소에서 목재의 특성을 토대로 5000년 전의 것이라고 밝히긴 했으나 그 신빙성에 문제점이 있었고 후에 방사성 동위원소 측정법 등의 첨단 과학의 도움을 받은 5개 연구소에서 모두 기원 이후의 시기로 연대를 측정했다. 2009년 뿐 아니라 거의 수년에 한번씩 어디선가 노아의 방주를 발견했다는 주장들이 제시되었지만, 심지어 같은 창조과학을 주장하는 사람들에게조차 비판받을 정도였다. 노아의 방주가 다른 여러 지방에서 발견되었다는 주장이 있으나 너무나 다양한 지방 ( 중국, 터키, 인도 등 ) 에 걸쳐있고, 그 주장도 각각 제각각이므로 신빙성이 없다. 예를 들자면, 중국 BTV에서는 2012년에 중국에서 노아의 방주가 발견되었다는 보도를 하였는데, 이것은 창조과학회에서 주장하는 장소와는 전혀 다른곳이기도 하며, 화석화가 진행되지 않은 나무의 존재등으로 가짜임이 밝혀졌다. 때때로 일부 \" 학자 \" 라 칭하는 사람들이 이를 찾기 위해 노력한다고 주장하지만, 이는 학계에서 유사지질학으로 평가되고 있다. \n",
      "질문 : 1955년 목재의 파편을 발견한 프랑스의 탐험가 이름은? \n",
      "정답 : Fernand Navarra\n",
      "예측 : Fernand Navarra\n",
      "----------------------------------------\n",
      "본문 : [CLS] 일반적으로 터키의 아라랏 산의 경우, 실제 성경 속에 등장하는 아라랏 산은 지금 아라랏이라 불리는 하나의 산이 아니라 당시 아라랏이라고 불리던 광대한 지역의 산들을 모두 가리키는 표현이라는 주장도 나와 있으며, 또한 목재로 만들어진 방주가 현재까지 남아있을 수는 없다는 비판도 받고 있다. 예를 들어, 1955년 프랑스의 탐험가인 Fernand Navarra가 발견한 목재 파편의 경우, 스페인의 임업 연구소에서 목재의 특성을 토대로 5000년 전의 것이라고 밝히긴 했으나 그 신빙성에 문제점이 있었고 후에 방사성 동위원소 측정법 등의 첨단 과학의 도움을 받은 5개 연구소에서 모두 기원 이후의 시기로 연대를 측정했다. 2009년 뿐 아니라 거의 수년에 한번씩 어디선가 노아의 방주를 발견했다는 주장들이 제시되었지만, 심지어 같은 창조과학을 주장하는 사람들에게조차 비판받을 정도였다. 노아의 방주가 다른 여러 지방에서 발견되었다는 주장이 있으나 너무나 다양한 지방 ( 중국, 터키, 인도 등 ) 에 걸쳐있고, 그 주장도 각각 제각각이므로 신빙성이 없다. 예를 들자면, 중국 BTV에서는 2012년에 중국에서 노아의 방주가 발견되었다는 보도를 하였는데, 이것은 창조과학회에서 주장하는 장소와는 전혀 다른곳이기도 하며, 화석화가 진행되지 않은 나무의 존재등으로 가짜임이 밝혀졌다. 때때로 일부 \" 학자 \" 라 칭하는 사람들이 이를 찾기 위해 노력한다고 주장하지만, 이는 학계에서 유사지질학으로 평가되고 있다. \n",
      "질문 : 2012년 중국에서 노아의 방주가 발견되었다는 보도를 한 방송사는 어디인가? \n",
      "정답 : BTV\n",
      "예측 : BTV\n",
      "----------------------------------------\n",
      "본문 : [CLS] 일반적으로 터키의 아라랏 산의 경우, 실제 성경 속에 등장하는 아라랏 산은 지금 아라랏이라 불리는 하나의 산이 아니라 당시 아라랏이라고 불리던 광대한 지역의 산들을 모두 가리키는 표현이라는 주장도 나와 있으며, 또한 목재로 만들어진 방주가 현재까지 남아있을 수는 없다는 비판도 받고 있다. 예를 들어, 1955년 프랑스의 탐험가인 Fernand Navarra가 발견한 목재 파편의 경우, 스페인의 임업 연구소에서 목재의 특성을 토대로 5000년 전의 것이라고 밝히긴 했으나 그 신빙성에 문제점이 있었고 후에 방사성 동위원소 측정법 등의 첨단 과학의 도움을 받은 5개 연구소에서 모두 기원 이후의 시기로 연대를 측정했다. 2009년 뿐 아니라 거의 수년에 한번씩 어디선가 노아의 방주를 발견했다는 주장들이 제시되었지만, 심지어 같은 창조과학을 주장하는 사람들에게조차 비판받을 정도였다. 노아의 방주가 다른 여러 지방에서 발견되었다는 주장이 있으나 너무나 다양한 지방 ( 중국, 터키, 인도 등 ) 에 걸쳐있고, 그 주장도 각각 제각각이므로 신빙성이 없다. 예를 들자면, 중국 BTV에서는 2012년에 중국에서 노아의 방주가 발견되었다는 보도를 하였는데, 이것은 창조과학회에서 주장하는 장소와는 전혀 다른곳이기도 하며, 화석화가 진행되지 않은 나무의 존재등으로 가짜임이 밝혀졌다. 때때로 일부 \" 학자 \" 라 칭하는 사람들이 이를 찾기 위해 노력한다고 주장하지만, 이는 학계에서 유사지질학으로 평가되고 있다. \n",
      "질문 : 노아의 방주는 무엇으로 만들었기 때문에 현재까지 남아 있는 것이 불가능한가? \n",
      "정답 : 목재\n",
      "예측 : 목재\n",
      "----------------------------------------\n",
      "본문 : [CLS] 일반적으로 터키의 아라랏 산의 경우, 실제 성경 속에 등장하는 아라랏 산은 지금 아라랏이라 불리는 하나의 산이 아니라 당시 아라랏이라고 불리던 광대한 지역의 산들을 모두 가리키는 표현이라는 주장도 나와 있으며, 또한 목재로 만들어진 방주가 현재까지 남아있을 수는 없다는 비판도 받고 있다. 예를 들어, 1955년 프랑스의 탐험가인 Fernand Navarra가 발견한 목재 파편의 경우, 스페인의 임업 연구소에서 목재의 특성을 토대로 5000년 전의 것이라고 밝히긴 했으나 그 신빙성에 문제점이 있었고 후에 방사성 동위원소 측정법 등의 첨단 과학의 도움을 받은 5개 연구소에서 모두 기원 이후의 시기로 연대를 측정했다. 2009년 뿐 아니라 거의 수년에 한번씩 어디선가 노아의 방주를 발견했다는 주장들이 제시되었지만, 심지어 같은 창조과학을 주장하는 사람들에게조차 비판받을 정도였다. 노아의 방주가 다른 여러 지방에서 발견되었다는 주장이 있으나 너무나 다양한 지방 ( 중국, 터키, 인도 등 ) 에 걸쳐있고, 그 주장도 각각 제각각이므로 신빙성이 없다. 예를 들자면, 중국 BTV에서는 2012년에 중국에서 노아의 방주가 발견되었다는 보도를 하였는데, 이것은 창조과학회에서 주장하는 장소와는 전혀 다른곳이기도 하며, 화석화가 진행되지 않은 나무의 존재등으로 가짜임이 밝혀졌다. 때때로 일부 \" 학자 \" 라 칭하는 사람들이 이를 찾기 위해 노력한다고 주장하지만, 이는 학계에서 유사지질학으로 평가되고 있다. \n",
      "질문 : 중국에서 2012년 발견되었다고 주장한 노아의 방주는 화석화가 진행되지 않은 무엇때문에 가짜임이 밝혀졌는가? \n",
      "정답 : 나무\n",
      "예측 : 나무의 존재\n",
      "----------------------------------------\n",
      "본문 : [CLS] 일반적으로 터키의 아라랏 산의 경우, 실제 성경 속에 등장하는 아라랏 산은 지금 아라랏이라 불리는 하나의 산이 아니라 당시 아라랏이라고 불리던 광대한 지역의 산들을 모두 가리키는 표현이라는 주장도 나와 있으며, 또한 목재로 만들어진 방주가 현재까지 남아있을 수는 없다는 비판도 받고 있다. 예를 들어, 1955년 프랑스의 탐험가인 Fernand Navarra가 발견한 목재 파편의 경우, 스페인의 임업 연구소에서 목재의 특성을 토대로 5000년 전의 것이라고 밝히긴 했으나 그 신빙성에 문제점이 있었고 후에 방사성 동위원소 측정법 등의 첨단 과학의 도움을 받은 5개 연구소에서 모두 기원 이후의 시기로 연대를 측정했다. 2009년 뿐 아니라 거의 수년에 한번씩 어디선가 노아의 방주를 발견했다는 주장들이 제시되었지만, 심지어 같은 창조과학을 주장하는 사람들에게조차 비판받을 정도였다. 노아의 방주가 다른 여러 지방에서 발견되었다는 주장이 있으나 너무나 다양한 지방 ( 중국, 터키, 인도 등 ) 에 걸쳐있고, 그 주장도 각각 제각각이므로 신빙성이 없다. 예를 들자면, 중국 BTV에서는 2012년에 중국에서 노아의 방주가 발견되었다는 보도를 하였는데, 이것은 창조과학회에서 주장하는 장소와는 전혀 다른곳이기도 하며, 화석화가 진행되지 않은 나무의 존재등으로 가짜임이 밝혀졌다. 때때로 일부 \" 학자 \" 라 칭하는 사람들이 이를 찾기 위해 노력한다고 주장하지만, 이는 학계에서 유사지질학으로 평가되고 있다. \n",
      "질문 : 1955년 프랑스 탐험가가 발견한 목재파편은 스페인 연구소에서 몇 년 전 것이라고 밝혀졌는가? \n",
      "정답 : 5000년 전\n",
      "예측 : 5000년 전\n",
      "----------------------------------------\n",
      "본문 : [CLS] 일반적으로 터키의 아라랏 산의 경우, 실제 성경 속에 등장하는 아라랏 산은 지금 아라랏이라 불리는 하나의 산이 아니라 당시 아라랏이라고 불리던 광대한 지역의 산들을 모두 가리키는 표현이라는 주장도 나와 있으며, 또한 목재로 만들어진 방주가 현재까지 남아있을 수는 없다는 비판도 받고 있다. 예를 들어, 1955년 프랑스의 탐험가인 Fernand Navarra가 발견한 목재 파편의 경우, 스페인의 임업 연구소에서 목재의 특성을 토대로 5000년 전의 것이라고 밝히긴 했으나 그 신빙성에 문제점이 있었고 후에 방사성 동위원소 측정법 등의 첨단 과학의 도움을 받은 5개 연구소에서 모두 기원 이후의 시기로 연대를 측정했다. 2009년 뿐 아니라 거의 수년에 한번씩 어디선가 노아의 방주를 발견했다는 주장들이 제시되었지만, 심지어 같은 창조과학을 주장하는 사람들에게조차 비판받을 정도였다. 노아의 방주가 다른 여러 지방에서 발견되었다는 주장이 있으나 너무나 다양한 지방 ( 중국, 터키, 인도 등 ) 에 걸쳐있고, 그 주장도 각각 제각각이므로 신빙성이 없다. 예를 들자면, 중국 BTV에서는 2012년에 중국에서 노아의 방주가 발견되었다는 보도를 하였는데, 이것은 창조과학회에서 주장하는 장소와는 전혀 다른곳이기도 하며, 화석화가 진행되지 않은 나무의 존재등으로 가짜임이 밝혀졌다. 때때로 일부 \" 학자 \" 라 칭하는 사람들이 이를 찾기 위해 노력한다고 주장하지만, 이는 학계에서 유사지질학으로 평가되고 있다. \n",
      "질문 : 2012년 중국 BTV에서 노아의 방주가 발견되었다고 보도한 나라는? \n",
      "정답 : 중국\n",
      "예측 : 중국\n",
      "----------------------------------------\n",
      "본문 : [CLS] 기독교 성경 내용에는 모든 종들을 방주에 태운다고 이야기하고 있으나, 어류나 수중 생물에 대해서는 언급하지 않았다. 이것을 신학적 의미로만 받아들이면 괜찮은 문제이나, 이 현상이 실제로 일어났다고 가정할 경우, 이는 종 간 생존 환경의 차이에 대해서 간과하고 있다. 수중 생물이라 하더라도 종에 따라 생존할 수 있는 환경은 각각 다른 것이며, 40일 이내에 현존하는 가장 높은 산인 에베레스트 산도 잠기게 할 정도의 폭우로 인해 담수와 염수가 급작스럽게 섞일 경우, 급격한 삼투압 변화로 인해 대부분의 수생생물들이 폐사하게 되며, 결과적으로 육지 뿐 아니라 바다와 강의 모든 생태계가 파괴된다. 이후 5천년이라는 지극히 짧은 세월 동안 지구상의 동식물이 모두 페름기 대멸종 또는 K - T 대멸종에 준하는 대량절멸에 가까운 상태에서부터 시작하여 현재의 대략 870만 ( ±120만 ) 종에 달하는 생물다양성을 획득하려면 모든 생물들이 각 세대마다 종분화가 일어나야 할 만큼 엄청난 속도로 진화 및 번식이 ( 멸종 없이 ) 이루어져야만 가능한 일이다. ( 이와 관련하여 창조과학회 측에서는 북극곰의 예시를 통해 가지고 있던 특성이 없어지는 것이 진화가 아니라고 주장하지만, 통상적으로 알려진 바와 같이 생물학에서는 이미 존재하는 특성이 없어지는 현상, 즉 퇴화 역시 진화의 정의에 포함된다. ) 즉, 노아의 홍수가 실재하는 사건이었다면 진화적 종분화가 현재까지 알려진 것과 비교할 수 없이 엄청난 속도로 이루어져야만 현재 지구의 생물다양성을 설명할 수 있다. 게다가 이것은 현재의 생물종 멸종 속도를 전혀 고려하지 않았다. 다시 말해, 노아의 홍수가 실재하는 전지구적인 사건이기 위해서는 최소 캄브리아기 대폭발 수준의 폭발적인 진화적 종분화가 1 - 2억년이 아니라 최대 3 - 4천년 이내에 이루어졌어야만 현생 지구의 생물다양성에 대한 설명이 가능해진다. 그보다 더 중요한 것은, 각 동물들이 차지하는 영역과 먹이사슬에서의 위치, 375일 동안 먹이도 없이 밀폐된 공간으로 인해 받을 스트레스 등 생태적 지위에 대한 고려가 전혀 없다는 점이다. 또한 바다에서 생존이 불가능한 생물종까지 숫자에 포함되었다는 점에서 논란이 있다. \n",
      "질문 : 현재의 생물다양성은 대략 몇 종 인가? \n",
      "정답 : 870만\n",
      "예측 : 870만\n",
      "----------------------------------------\n",
      "본문 : [CLS] 기독교 성경 내용에는 모든 종들을 방주에 태운다고 이야기하고 있으나, 어류나 수중 생물에 대해서는 언급하지 않았다. 이것을 신학적 의미로만 받아들이면 괜찮은 문제이나, 이 현상이 실제로 일어났다고 가정할 경우, 이는 종 간 생존 환경의 차이에 대해서 간과하고 있다. 수중 생물이라 하더라도 종에 따라 생존할 수 있는 환경은 각각 다른 것이며, 40일 이내에 현존하는 가장 높은 산인 에베레스트 산도 잠기게 할 정도의 폭우로 인해 담수와 염수가 급작스럽게 섞일 경우, 급격한 삼투압 변화로 인해 대부분의 수생생물들이 폐사하게 되며, 결과적으로 육지 뿐 아니라 바다와 강의 모든 생태계가 파괴된다. 이후 5천년이라는 지극히 짧은 세월 동안 지구상의 동식물이 모두 페름기 대멸종 또는 K - T 대멸종에 준하는 대량절멸에 가까운 상태에서부터 시작하여 현재의 대략 870만 ( ±120만 ) 종에 달하는 생물다양성을 획득하려면 모든 생물들이 각 세대마다 종분화가 일어나야 할 만큼 엄청난 속도로 진화 및 번식이 ( 멸종 없이 ) 이루어져야만 가능한 일이다. ( 이와 관련하여 창조과학회 측에서는 북극곰의 예시를 통해 가지고 있던 특성이 없어지는 것이 진화가 아니라고 주장하지만, 통상적으로 알려진 바와 같이 생물학에서는 이미 존재하는 특성이 없어지는 현상, 즉 퇴화 역시 진화의 정의에 포함된다. ) 즉, 노아의 홍수가 실재하는 사건이었다면 진화적 종분화가 현재까지 알려진 것과 비교할 수 없이 엄청난 속도로 이루어져야만 현재 지구의 생물다양성을 설명할 수 있다. 게다가 이것은 현재의 생물종 멸종 속도를 전혀 고려하지 않았다. 다시 말해, 노아의 홍수가 실재하는 전지구적인 사건이기 위해서는 최소 캄브리아기 대폭발 수준의 폭발적인 진화적 종분화가 1 - 2억년이 아니라 최대 3 - 4천년 이내에 이루어졌어야만 현생 지구의 생물다양성에 대한 설명이 가능해진다. 그보다 더 중요한 것은, 각 동물들이 차지하는 영역과 먹이사슬에서의 위치, 375일 동안 먹이도 없이 밀폐된 공간으로 인해 받을 스트레스 등 생태적 지위에 대한 고려가 전혀 없다는 점이다. 또한 바다에서 생존이 불가능한 생물종까지 숫자에 포함되었다는 점에서 논란이 있다. \n",
      "질문 : 노아의 홍수가 실재한다면 진화적 종분화가 얼마 만에 이루어져야하는가? \n",
      "정답 : 3 - 4천년\n",
      "예측 : 3 - 4천년\n",
      "----------------------------------------\n",
      "본문 : [CLS] 기독교 성경 내용에는 모든 종들을 방주에 태운다고 이야기하고 있으나, 어류나 수중 생물에 대해서는 언급하지 않았다. 이것을 신학적 의미로만 받아들이면 괜찮은 문제이나, 이 현상이 실제로 일어났다고 가정할 경우, 이는 종 간 생존 환경의 차이에 대해서 간과하고 있다. 수중 생물이라 하더라도 종에 따라 생존할 수 있는 환경은 각각 다른 것이며, 40일 이내에 현존하는 가장 높은 산인 에베레스트 산도 잠기게 할 정도의 폭우로 인해 담수와 염수가 급작스럽게 섞일 경우, 급격한 삼투압 변화로 인해 대부분의 수생생물들이 폐사하게 되며, 결과적으로 육지 뿐 아니라 바다와 강의 모든 생태계가 파괴된다. 이후 5천년이라는 지극히 짧은 세월 동안 지구상의 동식물이 모두 페름기 대멸종 또는 K - T 대멸종에 준하는 대량절멸에 가까운 상태에서부터 시작하여 현재의 대략 870만 ( ±120만 ) 종에 달하는 생물다양성을 획득하려면 모든 생물들이 각 세대마다 종분화가 일어나야 할 만큼 엄청난 속도로 진화 및 번식이 ( 멸종 없이 ) 이루어져야만 가능한 일이다. ( 이와 관련하여 창조과학회 측에서는 북극곰의 예시를 통해 가지고 있던 특성이 없어지는 것이 진화가 아니라고 주장하지만, 통상적으로 알려진 바와 같이 생물학에서는 이미 존재하는 특성이 없어지는 현상, 즉 퇴화 역시 진화의 정의에 포함된다. ) 즉, 노아의 홍수가 실재하는 사건이었다면 진화적 종분화가 현재까지 알려진 것과 비교할 수 없이 엄청난 속도로 이루어져야만 현재 지구의 생물다양성을 설명할 수 있다. 게다가 이것은 현재의 생물종 멸종 속도를 전혀 고려하지 않았다. 다시 말해, 노아의 홍수가 실재하는 전지구적인 사건이기 위해서는 최소 캄브리아기 대폭발 수준의 폭발적인 진화적 종분화가 1 - 2억년이 아니라 최대 3 - 4천년 이내에 이루어졌어야만 현생 지구의 생물다양성에 대한 설명이 가능해진다. 그보다 더 중요한 것은, 각 동물들이 차지하는 영역과 먹이사슬에서의 위치, 375일 동안 먹이도 없이 밀폐된 공간으로 인해 받을 스트레스 등 생태적 지위에 대한 고려가 전혀 없다는 점이다. 또한 바다에서 생존이 불가능한 생물종까지 숫자에 포함되었다는 점에서 논란이 있다. \n",
      "질문 : 급작스러운 폭우로 담수와 염수가 섞일 경우 삼투압 변화로 폐사하는 생물류는? \n",
      "정답 : 수생생물\n",
      "예측 : 수생생물\n",
      "----------------------------------------\n",
      "본문 : [CLS] 기독교 성경 내용에는 모든 종들을 방주에 태운다고 이야기하고 있으나, 어류나 수중 생물에 대해서는 언급하지 않았다. 이것을 신학적 의미로만 받아들이면 괜찮은 문제이나, 이 현상이 실제로 일어났다고 가정할 경우, 이는 종 간 생존 환경의 차이에 대해서 간과하고 있다. 수중 생물이라 하더라도 종에 따라 생존할 수 있는 환경은 각각 다른 것이며, 40일 이내에 현존하는 가장 높은 산인 에베레스트 산도 잠기게 할 정도의 폭우로 인해 담수와 염수가 급작스럽게 섞일 경우, 급격한 삼투압 변화로 인해 대부분의 수생생물들이 폐사하게 되며, 결과적으로 육지 뿐 아니라 바다와 강의 모든 생태계가 파괴된다. 이후 5천년이라는 지극히 짧은 세월 동안 지구상의 동식물이 모두 페름기 대멸종 또는 K - T 대멸종에 준하는 대량절멸에 가까운 상태에서부터 시작하여 현재의 대략 870만 ( ±120만 ) 종에 달하는 생물다양성을 획득하려면 모든 생물들이 각 세대마다 종분화가 일어나야 할 만큼 엄청난 속도로 진화 및 번식이 ( 멸종 없이 ) 이루어져야만 가능한 일이다. ( 이와 관련하여 창조과학회 측에서는 북극곰의 예시를 통해 가지고 있던 특성이 없어지는 것이 진화가 아니라고 주장하지만, 통상적으로 알려진 바와 같이 생물학에서는 이미 존재하는 특성이 없어지는 현상, 즉 퇴화 역시 진화의 정의에 포함된다. ) 즉, 노아의 홍수가 실재하는 사건이었다면 진화적 종분화가 현재까지 알려진 것과 비교할 수 없이 엄청난 속도로 이루어져야만 현재 지구의 생물다양성을 설명할 수 있다. 게다가 이것은 현재의 생물종 멸종 속도를 전혀 고려하지 않았다. 다시 말해, 노아의 홍수가 실재하는 전지구적인 사건이기 위해서는 최소 캄브리아기 대폭발 수준의 폭발적인 진화적 종분화가 1 - 2억년이 아니라 최대 3 - 4천년 이내에 이루어졌어야만 현생 지구의 생물다양성에 대한 설명이 가능해진다. 그보다 더 중요한 것은, 각 동물들이 차지하는 영역과 먹이사슬에서의 위치, 375일 동안 먹이도 없이 밀폐된 공간으로 인해 받을 스트레스 등 생태적 지위에 대한 고려가 전혀 없다는 점이다. 또한 바다에서 생존이 불가능한 생물종까지 숫자에 포함되었다는 점에서 논란이 있다. \n",
      "질문 : 가지고 있는 특성이 없어지는 것은 진화가 아니라는 창조과학회의 주장의 예시는? \n",
      "정답 : 북극곰\n",
      "예측 : 북극곰\n",
      "----------------------------------------\n",
      "본문 : [CLS] 기독교 성경 내용에는 모든 종들을 방주에 태운다고 이야기하고 있으나, 어류나 수중 생물에 대해서는 언급하지 않았다. 이것을 신학적 의미로만 받아들이면 괜찮은 문제이나, 이 현상이 실제로 일어났다고 가정할 경우, 이는 종 간 생존 환경의 차이에 대해서 간과하고 있다. 수중 생물이라 하더라도 종에 따라 생존할 수 있는 환경은 각각 다른 것이며, 40일 이내에 현존하는 가장 높은 산인 에베레스트 산도 잠기게 할 정도의 폭우로 인해 담수와 염수가 급작스럽게 섞일 경우, 급격한 삼투압 변화로 인해 대부분의 수생생물들이 폐사하게 되며, 결과적으로 육지 뿐 아니라 바다와 강의 모든 생태계가 파괴된다. 이후 5천년이라는 지극히 짧은 세월 동안 지구상의 동식물이 모두 페름기 대멸종 또는 K - T 대멸종에 준하는 대량절멸에 가까운 상태에서부터 시작하여 현재의 대략 870만 ( ±120만 ) 종에 달하는 생물다양성을 획득하려면 모든 생물들이 각 세대마다 종분화가 일어나야 할 만큼 엄청난 속도로 진화 및 번식이 ( 멸종 없이 ) 이루어져야만 가능한 일이다. ( 이와 관련하여 창조과학회 측에서는 북극곰의 예시를 통해 가지고 있던 특성이 없어지는 것이 진화가 아니라고 주장하지만, 통상적으로 알려진 바와 같이 생물학에서는 이미 존재하는 특성이 없어지는 현상, 즉 퇴화 역시 진화의 정의에 포함된다. ) 즉, 노아의 홍수가 실재하는 사건이었다면 진화적 종분화가 현재까지 알려진 것과 비교할 수 없이 엄청난 속도로 이루어져야만 현재 지구의 생물다양성을 설명할 수 있다. 게다가 이것은 현재의 생물종 멸종 속도를 전혀 고려하지 않았다. 다시 말해, 노아의 홍수가 실재하는 전지구적인 사건이기 위해서는 최소 캄브리아기 대폭발 수준의 폭발적인 진화적 종분화가 1 - 2억년이 아니라 최대 3 - 4천년 이내에 이루어졌어야만 현생 지구의 생물다양성에 대한 설명이 가능해진다. 그보다 더 중요한 것은, 각 동물들이 차지하는 영역과 먹이사슬에서의 위치, 375일 동안 먹이도 없이 밀폐된 공간으로 인해 받을 스트레스 등 생태적 지위에 대한 고려가 전혀 없다는 점이다. 또한 바다에서 생존이 불가능한 생물종까지 숫자에 포함되었다는 점에서 논란이 있다. \n",
      "질문 : 만약 대홍수가 실재했다면 현생 지구의 생물다양성에 이르기 위해서는 종분화가 몇년 이내에 이루어졌어야 하는가? \n",
      "정답 : 3 - 4천년\n",
      "예측 : 3 - 4천년\n",
      "----------------------------------------\n",
      "본문 : [CLS] 기독교 성경 내용에는 모든 종들을 방주에 태운다고 이야기하고 있으나, 어류나 수중 생물에 대해서는 언급하지 않았다. 이것을 신학적 의미로만 받아들이면 괜찮은 문제이나, 이 현상이 실제로 일어났다고 가정할 경우, 이는 종 간 생존 환경의 차이에 대해서 간과하고 있다. 수중 생물이라 하더라도 종에 따라 생존할 수 있는 환경은 각각 다른 것이며, 40일 이내에 현존하는 가장 높은 산인 에베레스트 산도 잠기게 할 정도의 폭우로 인해 담수와 염수가 급작스럽게 섞일 경우, 급격한 삼투압 변화로 인해 대부분의 수생생물들이 폐사하게 되며, 결과적으로 육지 뿐 아니라 바다와 강의 모든 생태계가 파괴된다. 이후 5천년이라는 지극히 짧은 세월 동안 지구상의 동식물이 모두 페름기 대멸종 또는 K - T 대멸종에 준하는 대량절멸에 가까운 상태에서부터 시작하여 현재의 대략 870만 ( ±120만 ) 종에 달하는 생물다양성을 획득하려면 모든 생물들이 각 세대마다 종분화가 일어나야 할 만큼 엄청난 속도로 진화 및 번식이 ( 멸종 없이 ) 이루어져야만 가능한 일이다. ( 이와 관련하여 창조과학회 측에서는 북극곰의 예시를 통해 가지고 있던 특성이 없어지는 것이 진화가 아니라고 주장하지만, 통상적으로 알려진 바와 같이 생물학에서는 이미 존재하는 특성이 없어지는 현상, 즉 퇴화 역시 진화의 정의에 포함된다. ) 즉, 노아의 홍수가 실재하는 사건이었다면 진화적 종분화가 현재까지 알려진 것과 비교할 수 없이 엄청난 속도로 이루어져야만 현재 지구의 생물다양성을 설명할 수 있다. 게다가 이것은 현재의 생물종 멸종 속도를 전혀 고려하지 않았다. 다시 말해, 노아의 홍수가 실재하는 전지구적인 사건이기 위해서는 최소 캄브리아기 대폭발 수준의 폭발적인 진화적 종분화가 1 - 2억년이 아니라 최대 3 - 4천년 이내에 이루어졌어야만 현생 지구의 생물다양성에 대한 설명이 가능해진다. 그보다 더 중요한 것은, 각 동물들이 차지하는 영역과 먹이사슬에서의 위치, 375일 동안 먹이도 없이 밀폐된 공간으로 인해 받을 스트레스 등 생태적 지위에 대한 고려가 전혀 없다는 점이다. 또한 바다에서 생존이 불가능한 생물종까지 숫자에 포함되었다는 점에서 논란이 있다. \n",
      "질문 : 담수와 염수가 급작스럽게 섞일 경우 대부분의 수생생물이 폐사하는 원인은? \n",
      "정답 : 급격한 삼투압 변화\n",
      "예측 : 삼투압 변화\n",
      "----------------------------------------\n",
      "본문 : [CLS] 기독교 성경 내용에는 모든 종들을 방주에 태운다고 이야기하고 있으나, 어류나 수중 생물에 대해서는 언급하지 않았다. 이것을 신학적 의미로만 받아들이면 괜찮은 문제이나, 이 현상이 실제로 일어났다고 가정할 경우, 이는 종 간 생존 환경의 차이에 대해서 간과하고 있다. 수중 생물이라 하더라도 종에 따라 생존할 수 있는 환경은 각각 다른 것이며, 40일 이내에 현존하는 가장 높은 산인 에베레스트 산도 잠기게 할 정도의 폭우로 인해 담수와 염수가 급작스럽게 섞일 경우, 급격한 삼투압 변화로 인해 대부분의 수생생물들이 폐사하게 되며, 결과적으로 육지 뿐 아니라 바다와 강의 모든 생태계가 파괴된다. 이후 5천년이라는 지극히 짧은 세월 동안 지구상의 동식물이 모두 페름기 대멸종 또는 K - T 대멸종에 준하는 대량절멸에 가까운 상태에서부터 시작하여 현재의 대략 870만 ( ±120만 ) 종에 달하는 생물다양성을 획득하려면 모든 생물들이 각 세대마다 종분화가 일어나야 할 만큼 엄청난 속도로 진화 및 번식이 ( 멸종 없이 ) 이루어져야만 가능한 일이다. ( 이와 관련하여 창조과학회 측에서는 북극곰의 예시를 통해 가지고 있던 특성이 없어지는 것이 진화가 아니라고 주장하지만, 통상적으로 알려진 바와 같이 생물학에서는 이미 존재하는 특성이 없어지는 현상, 즉 퇴화 역시 진화의 정의에 포함된다. ) 즉, 노아의 홍수가 실재하는 사건이었다면 진화적 종분화가 현재까지 알려진 것과 비교할 수 없이 엄청난 속도로 이루어져야만 현재 지구의 생물다양성을 설명할 수 있다. 게다가 이것은 현재의 생물종 멸종 속도를 전혀 고려하지 않았다. 다시 말해, 노아의 홍수가 실재하는 전지구적인 사건이기 위해서는 최소 캄브리아기 대폭발 수준의 폭발적인 진화적 종분화가 1 - 2억년이 아니라 최대 3 - 4천년 이내에 이루어졌어야만 현생 지구의 생물다양성에 대한 설명이 가능해진다. 그보다 더 중요한 것은, 각 동물들이 차지하는 영역과 먹이사슬에서의 위치, 375일 동안 먹이도 없이 밀폐된 공간으로 인해 받을 스트레스 등 생태적 지위에 대한 고려가 전혀 없다는 점이다. 또한 바다에서 생존이 불가능한 생물종까지 숫자에 포함되었다는 점에서 논란이 있다. \n",
      "질문 : 노아 가족과 동물들이 노아의 방주에서 버틴 날짜는 총 몇일인가? \n",
      "정답 : 375일\n",
      "예측 : 375일\n",
      "----------------------------------------\n",
      "본문 : [CLS] 창조과학회에서는 또한 노아의 방주가 안정적인 구조였다고 주장하지만, 이와는 달리 노아의 방주는 항해가 불가능한 설계에 가깝다. 실제로 창조과학에서 주장하는 방주의 크기와 철제 부품을 사용하지 않은 목재 선박 중에서 가장 큰 수준의 선박들을 비교하면 배수량이 두배 이상 차이난다. 그리고 목재 선박은 강도 상의 문제 때문에 통상 길이 100m, 배수량 2000톤 정도가 한계로 여겨져 왔다. 창조과학회에서는 노아의 방주의 안정성을 실험하기 위한 연구가 있다고 주장하기도 하나, 그 자체의 불합리성에 대한 비판을 받고 있으며, 관련 주요 연구자는 지질학 석사학위, 생물학 학사학위를 가진 초등학교 교사로서, 주류 학계의 학회나 저널 등에 발표한 적이 없으며 또한 정당한 피어 리뷰에 의해 검증받지 않았다. \n",
      "질문 : 목재 선박의 배수량의 한계는 얼마인가? \n",
      "정답 : 2000톤\n",
      "예측 : 2000톤\n",
      "----------------------------------------\n",
      "본문 : [CLS] 창조과학회에서는 또한 노아의 방주가 안정적인 구조였다고 주장하지만, 이와는 달리 노아의 방주는 항해가 불가능한 설계에 가깝다. 실제로 창조과학에서 주장하는 방주의 크기와 철제 부품을 사용하지 않은 목재 선박 중에서 가장 큰 수준의 선박들을 비교하면 배수량이 두배 이상 차이난다. 그리고 목재 선박은 강도 상의 문제 때문에 통상 길이 100m, 배수량 2000톤 정도가 한계로 여겨져 왔다. 창조과학회에서는 노아의 방주의 안정성을 실험하기 위한 연구가 있다고 주장하기도 하나, 그 자체의 불합리성에 대한 비판을 받고 있으며, 관련 주요 연구자는 지질학 석사학위, 생물학 학사학위를 가진 초등학교 교사로서, 주류 학계의 학회나 저널 등에 발표한 적이 없으며 또한 정당한 피어 리뷰에 의해 검증받지 않았다. \n",
      "질문 : 노아의 방주가 안정적인 구조였다고 주장하는 집단은 어디인가? \n",
      "정답 : 창조과학회\n",
      "예측 : 창조과학회\n",
      "----------------------------------------\n",
      "본문 : [CLS] 창조과학회에서는 또한 노아의 방주가 안정적인 구조였다고 주장하지만, 이와는 달리 노아의 방주는 항해가 불가능한 설계에 가깝다. 실제로 창조과학에서 주장하는 방주의 크기와 철제 부품을 사용하지 않은 목재 선박 중에서 가장 큰 수준의 선박들을 비교하면 배수량이 두배 이상 차이난다. 그리고 목재 선박은 강도 상의 문제 때문에 통상 길이 100m, 배수량 2000톤 정도가 한계로 여겨져 왔다. 창조과학회에서는 노아의 방주의 안정성을 실험하기 위한 연구가 있다고 주장하기도 하나, 그 자체의 불합리성에 대한 비판을 받고 있으며, 관련 주요 연구자는 지질학 석사학위, 생물학 학사학위를 가진 초등학교 교사로서, 주류 학계의 학회나 저널 등에 발표한 적이 없으며 또한 정당한 피어 리뷰에 의해 검증받지 않았다. \n",
      "질문 : 목재 선박은 강도상의 문제로 통상 길이 몇m가 한계인가? \n",
      "정답 : 100m\n",
      "예측 : 100m\n",
      "----------------------------------------\n",
      "본문 : [CLS] 창조과학회에서는 또한 노아의 방주가 안정적인 구조였다고 주장하지만, 이와는 달리 노아의 방주는 항해가 불가능한 설계에 가깝다. 실제로 창조과학에서 주장하는 방주의 크기와 철제 부품을 사용하지 않은 목재 선박 중에서 가장 큰 수준의 선박들을 비교하면 배수량이 두배 이상 차이난다. 그리고 목재 선박은 강도 상의 문제 때문에 통상 길이 100m, 배수량 2000톤 정도가 한계로 여겨져 왔다. 창조과학회에서는 노아의 방주의 안정성을 실험하기 위한 연구가 있다고 주장하기도 하나, 그 자체의 불합리성에 대한 비판을 받고 있으며, 관련 주요 연구자는 지질학 석사학위, 생물학 학사학위를 가진 초등학교 교사로서, 주류 학계의 학회나 저널 등에 발표한 적이 없으며 또한 정당한 피어 리뷰에 의해 검증받지 않았다. \n",
      "질문 : 노아의 방주 안정성을 실험하기 위한 연구가 있다고 주장하는 단체는? \n",
      "정답 : 창조과학회\n",
      "예측 : 창조과학회\n",
      "----------------------------------------\n",
      "본문 : [CLS] 창조과학회에서는 또한 노아의 방주가 안정적인 구조였다고 주장하지만, 이와는 달리 노아의 방주는 항해가 불가능한 설계에 가깝다. 실제로 창조과학에서 주장하는 방주의 크기와 철제 부품을 사용하지 않은 목재 선박 중에서 가장 큰 수준의 선박들을 비교하면 배수량이 두배 이상 차이난다. 그리고 목재 선박은 강도 상의 문제 때문에 통상 길이 100m, 배수량 2000톤 정도가 한계로 여겨져 왔다. 창조과학회에서는 노아의 방주의 안정성을 실험하기 위한 연구가 있다고 주장하기도 하나, 그 자체의 불합리성에 대한 비판을 받고 있으며, 관련 주요 연구자는 지질학 석사학위, 생물학 학사학위를 가진 초등학교 교사로서, 주류 학계의 학회나 저널 등에 발표한 적이 없으며 또한 정당한 피어 리뷰에 의해 검증받지 않았다. \n",
      "질문 : 노아의 방주 안전성을 연구하는 주요 연구자의 직업은? \n",
      "정답 : 초등학교 교사\n",
      "예측 : 초등학교 교사\n",
      "----------------------------------------\n",
      "본문 : [CLS] 창조과학회에서는 또한 노아의 방주가 안정적인 구조였다고 주장하지만, 이와는 달리 노아의 방주는 항해가 불가능한 설계에 가깝다. 실제로 창조과학에서 주장하는 방주의 크기와 철제 부품을 사용하지 않은 목재 선박 중에서 가장 큰 수준의 선박들을 비교하면 배수량이 두배 이상 차이난다. 그리고 목재 선박은 강도 상의 문제 때문에 통상 길이 100m, 배수량 2000톤 정도가 한계로 여겨져 왔다. 창조과학회에서는 노아의 방주의 안정성을 실험하기 위한 연구가 있다고 주장하기도 하나, 그 자체의 불합리성에 대한 비판을 받고 있으며, 관련 주요 연구자는 지질학 석사학위, 생물학 학사학위를 가진 초등학교 교사로서, 주류 학계의 학회나 저널 등에 발표한 적이 없으며 또한 정당한 피어 리뷰에 의해 검증받지 않았다. \n",
      "질문 : 목재로 만들어진 선박은 강도 상의 통상 길이 몇m가 한계인가? \n",
      "정답 : 100m\n",
      "예측 : 100m\n",
      "----------------------------------------\n",
      "본문 : [CLS] 창조과학회에서는 또한 노아의 방주가 안정적인 구조였다고 주장하지만, 이와는 달리 노아의 방주는 항해가 불가능한 설계에 가깝다. 실제로 창조과학에서 주장하는 방주의 크기와 철제 부품을 사용하지 않은 목재 선박 중에서 가장 큰 수준의 선박들을 비교하면 배수량이 두배 이상 차이난다. 그리고 목재 선박은 강도 상의 문제 때문에 통상 길이 100m, 배수량 2000톤 정도가 한계로 여겨져 왔다. 창조과학회에서는 노아의 방주의 안정성을 실험하기 위한 연구가 있다고 주장하기도 하나, 그 자체의 불합리성에 대한 비판을 받고 있으며, 관련 주요 연구자는 지질학 석사학위, 생물학 학사학위를 가진 초등학교 교사로서, 주류 학계의 학회나 저널 등에 발표한 적이 없으며 또한 정당한 피어 리뷰에 의해 검증받지 않았다. \n",
      "질문 : 목재 선박의 배수량 한계는? \n",
      "정답 : 2000톤\n",
      "예측 : 2000톤\n",
      "----------------------------------------\n",
      "본문 : [CLS] 1868년 게이오 4년 4월 11일 에도 성 무혈 개성을 한 이후 신정부 군에게 양도가 약속되어 있었다. 그러나 해군 부총재, 에노모토 다케아키가 기상 불량 등을 이유로 이를 연기한 후에 결국 인도를 거부했다. 도쿠가와 요시노부를 슨푸 번에 이송할 때의 태운 함선으로 사용한 후, 8월 19일 자정 ( 20일 ) 에는 마쓰오카 바키치를 함장으로 카이요마루, 가이텐마루, 신소쿠마루, 간린마루 등과 함께 막부 해군이 정박하고 있던 시나가와 해역을 탈출했다. 그 때 태풍에 휘말려 침몰직전이 되었지만, 1개월만에 에노모토 해군과 합류하였다. 에조치에 건너가 하코다테 전쟁에서는 에노모토 ( 하코다테 정부 ) 해군의 주력함이 되었다. 영국이 기증했을 때 엠퍼러 ( Emperor, 기증 당시 일본의 수장은 황제가 아니라 쇼군으로 인식되고 있었기 때문에 장군을 지칭 ) 로 명명하고 있음에서 알 수 있듯이, 쇼군용 유람 요트로 기증되었다고 생각되지만, 세상이 그것을 허락하지 않았다. 아이러니하게도, 군함에 통합되어 실제로 쇼군이 첫 좌승한 것이 대정봉환 이후 슨푸 번에 이송되었을 때였다. \n",
      "질문 : 1868년 게이오 4년 4월 11일 반류마루는 누구에게 양도되기로 약속되었는가? \n",
      "정답 : 신정부 군\n",
      "예측 : 신정부 군\n",
      "----------------------------------------\n",
      "본문 : [CLS] 1868년 게이오 4년 4월 11일 에도 성 무혈 개성을 한 이후 신정부 군에게 양도가 약속되어 있었다. 그러나 해군 부총재, 에노모토 다케아키가 기상 불량 등을 이유로 이를 연기한 후에 결국 인도를 거부했다. 도쿠가와 요시노부를 슨푸 번에 이송할 때의 태운 함선으로 사용한 후, 8월 19일 자정 ( 20일 ) 에는 마쓰오카 바키치를 함장으로 카이요마루, 가이텐마루, 신소쿠마루, 간린마루 등과 함께 막부 해군이 정박하고 있던 시나가와 해역을 탈출했다. 그 때 태풍에 휘말려 침몰직전이 되었지만, 1개월만에 에노모토 해군과 합류하였다. 에조치에 건너가 하코다테 전쟁에서는 에노모토 ( 하코다테 정부 ) 해군의 주력함이 되었다. 영국이 기증했을 때 엠퍼러 ( Emperor, 기증 당시 일본의 수장은 황제가 아니라 쇼군으로 인식되고 있었기 때문에 장군을 지칭 ) 로 명명하고 있음에서 알 수 있듯이, 쇼군용 유람 요트로 기증되었다고 생각되지만, 세상이 그것을 허락하지 않았다. 아이러니하게도, 군함에 통합되어 실제로 쇼군이 첫 좌승한 것이 대정봉환 이후 슨푸 번에 이송되었을 때였다. \n",
      "질문 : 1868년 게이오 4년 4월 11일 신정부 군에게 양도되기로 한 반류마루를 기상 불량 등의 이유로 연기한 후 인도를 거부한 사람은 누구인가? \n",
      "정답 : 에노모토 다케아키\n",
      "예측 : 에노모토 다케아키\n",
      "----------------------------------------\n",
      "본문 : [CLS] 1868년 게이오 4년 4월 11일 에도 성 무혈 개성을 한 이후 신정부 군에게 양도가 약속되어 있었다. 그러나 해군 부총재, 에노모토 다케아키가 기상 불량 등을 이유로 이를 연기한 후에 결국 인도를 거부했다. 도쿠가와 요시노부를 슨푸 번에 이송할 때의 태운 함선으로 사용한 후, 8월 19일 자정 ( 20일 ) 에는 마쓰오카 바키치를 함장으로 카이요마루, 가이텐마루, 신소쿠마루, 간린마루 등과 함께 막부 해군이 정박하고 있던 시나가와 해역을 탈출했다. 그 때 태풍에 휘말려 침몰직전이 되었지만, 1개월만에 에노모토 해군과 합류하였다. 에조치에 건너가 하코다테 전쟁에서는 에노모토 ( 하코다테 정부 ) 해군의 주력함이 되었다. 영국이 기증했을 때 엠퍼러 ( Emperor, 기증 당시 일본의 수장은 황제가 아니라 쇼군으로 인식되고 있었기 때문에 장군을 지칭 ) 로 명명하고 있음에서 알 수 있듯이, 쇼군용 유람 요트로 기증되었다고 생각되지만, 세상이 그것을 허락하지 않았다. 아이러니하게도, 군함에 통합되어 실제로 쇼군이 첫 좌승한 것이 대정봉환 이후 슨푸 번에 이송되었을 때였다. \n",
      "질문 : 1868년 게이오 4년 8월 19일 자정 반류마루가 탈출한 해역은 어디인가? \n",
      "정답 : 시나가와\n",
      "예측 : 시나가와 해역\n",
      "----------------------------------------\n",
      "본문 : [CLS] 1868년 게이오 4년 4월 11일 에도 성 무혈 개성을 한 이후 신정부 군에게 양도가 약속되어 있었다. 그러나 해군 부총재, 에노모토 다케아키가 기상 불량 등을 이유로 이를 연기한 후에 결국 인도를 거부했다. 도쿠가와 요시노부를 슨푸 번에 이송할 때의 태운 함선으로 사용한 후, 8월 19일 자정 ( 20일 ) 에는 마쓰오카 바키치를 함장으로 카이요마루, 가이텐마루, 신소쿠마루, 간린마루 등과 함께 막부 해군이 정박하고 있던 시나가와 해역을 탈출했다. 그 때 태풍에 휘말려 침몰직전이 되었지만, 1개월만에 에노모토 해군과 합류하였다. 에조치에 건너가 하코다테 전쟁에서는 에노모토 ( 하코다테 정부 ) 해군의 주력함이 되었다. 영국이 기증했을 때 엠퍼러 ( Emperor, 기증 당시 일본의 수장은 황제가 아니라 쇼군으로 인식되고 있었기 때문에 장군을 지칭 ) 로 명명하고 있음에서 알 수 있듯이, 쇼군용 유람 요트로 기증되었다고 생각되지만, 세상이 그것을 허락하지 않았다. 아이러니하게도, 군함에 통합되어 실제로 쇼군이 첫 좌승한 것이 대정봉환 이후 슨푸 번에 이송되었을 때였다. \n",
      "질문 : 막부 해군이 정박하고 있던 시나가와 해역을 탈출한 시간은? \n",
      "정답 : 자정\n",
      "예측 : 8월 19일 자정\n",
      "----------------------------------------\n",
      "본문 : [CLS] 1868년 게이오 4년 4월 11일 에도 성 무혈 개성을 한 이후 신정부 군에게 양도가 약속되어 있었다. 그러나 해군 부총재, 에노모토 다케아키가 기상 불량 등을 이유로 이를 연기한 후에 결국 인도를 거부했다. 도쿠가와 요시노부를 슨푸 번에 이송할 때의 태운 함선으로 사용한 후, 8월 19일 자정 ( 20일 ) 에는 마쓰오카 바키치를 함장으로 카이요마루, 가이텐마루, 신소쿠마루, 간린마루 등과 함께 막부 해군이 정박하고 있던 시나가와 해역을 탈출했다. 그 때 태풍에 휘말려 침몰직전이 되었지만, 1개월만에 에노모토 해군과 합류하였다. 에조치에 건너가 하코다테 전쟁에서는 에노모토 ( 하코다테 정부 ) 해군의 주력함이 되었다. 영국이 기증했을 때 엠퍼러 ( Emperor, 기증 당시 일본의 수장은 황제가 아니라 쇼군으로 인식되고 있었기 때문에 장군을 지칭 ) 로 명명하고 있음에서 알 수 있듯이, 쇼군용 유람 요트로 기증되었다고 생각되지만, 세상이 그것을 허락하지 않았다. 아이러니하게도, 군함에 통합되어 실제로 쇼군이 첫 좌승한 것이 대정봉환 이후 슨푸 번에 이송되었을 때였다. \n",
      "질문 : 군함에 통합되어 실제로 쇼군이 엠퍼러에 첫 좌승한것은 대정봉환 이후 어디에 이송되었을 때인가? \n",
      "정답 : 슨푸 번\n",
      "예측 : 슨푸 번\n",
      "----------------------------------------\n",
      "본문 : [CLS] 1868년 게이오 4년 4월 11일 에도 성 무혈 개성을 한 이후 신정부 군에게 양도가 약속되어 있었다. 그러나 해군 부총재, 에노모토 다케아키가 기상 불량 등을 이유로 이를 연기한 후에 결국 인도를 거부했다. 도쿠가와 요시노부를 슨푸 번에 이송할 때의 태운 함선으로 사용한 후, 8월 19일 자정 ( 20일 ) 에는 마쓰오카 바키치를 함장으로 카이요마루, 가이텐마루, 신소쿠마루, 간린마루 등과 함께 막부 해군이 정박하고 있던 시나가와 해역을 탈출했다. 그 때 태풍에 휘말려 침몰직전이 되었지만, 1개월만에 에노모토 해군과 합류하였다. 에조치에 건너가 하코다테 전쟁에서는 에노모토 ( 하코다테 정부 ) 해군의 주력함이 되었다. 영국이 기증했을 때 엠퍼러 ( Emperor, 기증 당시 일본의 수장은 황제가 아니라 쇼군으로 인식되고 있었기 때문에 장군을 지칭 ) 로 명명하고 있음에서 알 수 있듯이, 쇼군용 유람 요트로 기증되었다고 생각되지만, 세상이 그것을 허락하지 않았다. 아이러니하게도, 군함에 통합되어 실제로 쇼군이 첫 좌승한 것이 대정봉환 이후 슨푸 번에 이송되었을 때였다. \n",
      "질문 : 1868년 당시 일본의 해군 부총재는? \n",
      "정답 : 에노모토 다케아키\n",
      "예측 : 에노모토 다케아키\n",
      "----------------------------------------\n",
      "본문 : [CLS] 1868년 게이오 4년 4월 11일 에도 성 무혈 개성을 한 이후 신정부 군에게 양도가 약속되어 있었다. 그러나 해군 부총재, 에노모토 다케아키가 기상 불량 등을 이유로 이를 연기한 후에 결국 인도를 거부했다. 도쿠가와 요시노부를 슨푸 번에 이송할 때의 태운 함선으로 사용한 후, 8월 19일 자정 ( 20일 ) 에는 마쓰오카 바키치를 함장으로 카이요마루, 가이텐마루, 신소쿠마루, 간린마루 등과 함께 막부 해군이 정박하고 있던 시나가와 해역을 탈출했다. 그 때 태풍에 휘말려 침몰직전이 되었지만, 1개월만에 에노모토 해군과 합류하였다. 에조치에 건너가 하코다테 전쟁에서는 에노모토 ( 하코다테 정부 ) 해군의 주력함이 되었다. 영국이 기증했을 때 엠퍼러 ( Emperor, 기증 당시 일본의 수장은 황제가 아니라 쇼군으로 인식되고 있었기 때문에 장군을 지칭 ) 로 명명하고 있음에서 알 수 있듯이, 쇼군용 유람 요트로 기증되었다고 생각되지만, 세상이 그것을 허락하지 않았다. 아이러니하게도, 군함에 통합되어 실제로 쇼군이 첫 좌승한 것이 대정봉환 이후 슨푸 번에 이송되었을 때였다. \n",
      "질문 : 에노모토 해군인 반류마루가 주력함이 되었던 전쟁은? \n",
      "정답 : 하코다테 전쟁\n",
      "예측 : 하코다테 전쟁\n",
      "----------------------------------------\n",
      "본문 : [CLS] 1868년 게이오 4년 4월 11일 에도 성 무혈 개성을 한 이후 신정부 군에게 양도가 약속되어 있었다. 그러나 해군 부총재, 에노모토 다케아키가 기상 불량 등을 이유로 이를 연기한 후에 결국 인도를 거부했다. 도쿠가와 요시노부를 슨푸 번에 이송할 때의 태운 함선으로 사용한 후, 8월 19일 자정 ( 20일 ) 에는 마쓰오카 바키치를 함장으로 카이요마루, 가이텐마루, 신소쿠마루, 간린마루 등과 함께 막부 해군이 정박하고 있던 시나가와 해역을 탈출했다. 그 때 태풍에 휘말려 침몰직전이 되었지만, 1개월만에 에노모토 해군과 합류하였다. 에조치에 건너가 하코다테 전쟁에서는 에노모토 ( 하코다테 정부 ) 해군의 주력함이 되었다. 영국이 기증했을 때 엠퍼러 ( Emperor, 기증 당시 일본의 수장은 황제가 아니라 쇼군으로 인식되고 있었기 때문에 장군을 지칭 ) 로 명명하고 있음에서 알 수 있듯이, 쇼군용 유람 요트로 기증되었다고 생각되지만, 세상이 그것을 허락하지 않았다. 아이러니하게도, 군함에 통합되어 실제로 쇼군이 첫 좌승한 것이 대정봉환 이후 슨푸 번에 이송되었을 때였다. \n",
      "질문 : 쇼군이 반류마루에 좌승한 것은? \n",
      "정답 : 슨푸 번에 이송되었을 때\n",
      "예측 : 대정봉환\n",
      "----------------------------------------\n",
      "본문 : [CLS] 일련의 하코다테 전쟁은 적아 쌍방의 문서에 마쓰오카 바키치 함장의 능란한 조함 능력과 냉정한 지휘만이 기록되어 있다. 함포 사격으로 마쓰마에 성을 공격하여 엄호한 이후, 1869년 메이지 2년 3월 25일 미야코 만 해전에서는 폭풍우를 만나 요함과 헤어졌을 때에 만날 약속했던 하치노헤 항에서 대기하고 있었기 때문에 참전에는 이르지 못했다. 이 폭풍우 때도 “ 함장 마쓰오카 바키치는 배를 조정하는 명수로 로프 하나 손상되지 않았다 ” 고 타고 있던 하야시 다다스가 남긴 바 있다. 이 귀로에서 신정부 군의 철갑함의 추격을 받았다. 기관 능력의 차이로 인한 속도차 때문에 도주가 불가능하다고 판단하고 맞장 공격을 하겠다고 전투 준비를 했지만, 철갑선의 사정거리에 들어간 순간에 순풍이 불기 시작하여 추격을 뿌리치고 하코다테로 돌아올 수 있었다. \n",
      "질문 : 하코다테 전쟁 시 반류마루의 함장의 이름은 무엇인가? \n",
      "정답 : 마쓰오카 바키치\n",
      "예측 : 마쓰오카 바키치\n",
      "----------------------------------------\n",
      "본문 : [CLS] 일련의 하코다테 전쟁은 적아 쌍방의 문서에 마쓰오카 바키치 함장의 능란한 조함 능력과 냉정한 지휘만이 기록되어 있다. 함포 사격으로 마쓰마에 성을 공격하여 엄호한 이후, 1869년 메이지 2년 3월 25일 미야코 만 해전에서는 폭풍우를 만나 요함과 헤어졌을 때에 만날 약속했던 하치노헤 항에서 대기하고 있었기 때문에 참전에는 이르지 못했다. 이 폭풍우 때도 “ 함장 마쓰오카 바키치는 배를 조정하는 명수로 로프 하나 손상되지 않았다 ” 고 타고 있던 하야시 다다스가 남긴 바 있다. 이 귀로에서 신정부 군의 철갑함의 추격을 받았다. 기관 능력의 차이로 인한 속도차 때문에 도주가 불가능하다고 판단하고 맞장 공격을 하겠다고 전투 준비를 했지만, 철갑선의 사정거리에 들어간 순간에 순풍이 불기 시작하여 추격을 뿌리치고 하코다테로 돌아올 수 있었다. \n",
      "질문 : 반류마루가 미야코 만 해전에서 폭풍우를 만나 대기하고 있던 항구의 이름은 무엇인가? \n",
      "정답 : 하치노헤\n",
      "예측 : 하치노헤 항\n",
      "----------------------------------------\n",
      "본문 : [CLS] 일련의 하코다테 전쟁은 적아 쌍방의 문서에 마쓰오카 바키치 함장의 능란한 조함 능력과 냉정한 지휘만이 기록되어 있다. 함포 사격으로 마쓰마에 성을 공격하여 엄호한 이후, 1869년 메이지 2년 3월 25일 미야코 만 해전에서는 폭풍우를 만나 요함과 헤어졌을 때에 만날 약속했던 하치노헤 항에서 대기하고 있었기 때문에 참전에는 이르지 못했다. 이 폭풍우 때도 “ 함장 마쓰오카 바키치는 배를 조정하는 명수로 로프 하나 손상되지 않았다 ” 고 타고 있던 하야시 다다스가 남긴 바 있다. 이 귀로에서 신정부 군의 철갑함의 추격을 받았다. 기관 능력의 차이로 인한 속도차 때문에 도주가 불가능하다고 판단하고 맞장 공격을 하겠다고 전투 준비를 했지만, 철갑선의 사정거리에 들어간 순간에 순풍이 불기 시작하여 추격을 뿌리치고 하코다테로 돌아올 수 있었다. \n",
      "질문 : 반류마루가 미야코 만 해전당시 폭풍우를 만나 요함과 헤어졌을 때에 만날 약속하여 하치노헤 항에서 대기한 날짜는 언제인가? \n",
      "정답 : 1869년 메이지 2년 3월 25일\n",
      "예측 : 1869년 메이지 2년 3월 25일\n",
      "----------------------------------------\n",
      "본문 : [CLS] 일련의 하코다테 전쟁은 적아 쌍방의 문서에 마쓰오카 바키치 함장의 능란한 조함 능력과 냉정한 지휘만이 기록되어 있다. 함포 사격으로 마쓰마에 성을 공격하여 엄호한 이후, 1869년 메이지 2년 3월 25일 미야코 만 해전에서는 폭풍우를 만나 요함과 헤어졌을 때에 만날 약속했던 하치노헤 항에서 대기하고 있었기 때문에 참전에는 이르지 못했다. 이 폭풍우 때도 “ 함장 마쓰오카 바키치는 배를 조정하는 명수로 로프 하나 손상되지 않았다 ” 고 타고 있던 하야시 다다스가 남긴 바 있다. 이 귀로에서 신정부 군의 철갑함의 추격을 받았다. 기관 능력의 차이로 인한 속도차 때문에 도주가 불가능하다고 판단하고 맞장 공격을 하겠다고 전투 준비를 했지만, 철갑선의 사정거리에 들어간 순간에 순풍이 불기 시작하여 추격을 뿌리치고 하코다테로 돌아올 수 있었다. \n",
      "질문 : 함장 마쓰오카 바키치는 배를 조정하는 명수로 로프 하나 손상되지 않았다고 말한 사람은? \n",
      "정답 : 하야시 다다스\n",
      "예측 : 하야시 다다스\n",
      "----------------------------------------\n",
      "본문 : [CLS] 일련의 하코다테 전쟁은 적아 쌍방의 문서에 마쓰오카 바키치 함장의 능란한 조함 능력과 냉정한 지휘만이 기록되어 있다. 함포 사격으로 마쓰마에 성을 공격하여 엄호한 이후, 1869년 메이지 2년 3월 25일 미야코 만 해전에서는 폭풍우를 만나 요함과 헤어졌을 때에 만날 약속했던 하치노헤 항에서 대기하고 있었기 때문에 참전에는 이르지 못했다. 이 폭풍우 때도 “ 함장 마쓰오카 바키치는 배를 조정하는 명수로 로프 하나 손상되지 않았다 ” 고 타고 있던 하야시 다다스가 남긴 바 있다. 이 귀로에서 신정부 군의 철갑함의 추격을 받았다. 기관 능력의 차이로 인한 속도차 때문에 도주가 불가능하다고 판단하고 맞장 공격을 하겠다고 전투 준비를 했지만, 철갑선의 사정거리에 들어간 순간에 순풍이 불기 시작하여 추격을 뿌리치고 하코다테로 돌아올 수 있었다. \n",
      "질문 : 철갑선의 사정거리에 들어간 순간에 순풍이 불기 시작하여 추격을 뿌리치고 어디로 돌아올 수 있었는가? \n",
      "정답 : 하코다테\n",
      "예측 : 하코다테\n",
      "----------------------------------------\n",
      "본문 : [CLS] 일련의 하코다테 전쟁은 적아 쌍방의 문서에 마쓰오카 바키치 함장의 능란한 조함 능력과 냉정한 지휘만이 기록되어 있다. 함포 사격으로 마쓰마에 성을 공격하여 엄호한 이후, 1869년 메이지 2년 3월 25일 미야코 만 해전에서는 폭풍우를 만나 요함과 헤어졌을 때에 만날 약속했던 하치노헤 항에서 대기하고 있었기 때문에 참전에는 이르지 못했다. 이 폭풍우 때도 “ 함장 마쓰오카 바키치는 배를 조정하는 명수로 로프 하나 손상되지 않았다 ” 고 타고 있던 하야시 다다스가 남긴 바 있다. 이 귀로에서 신정부 군의 철갑함의 추격을 받았다. 기관 능력의 차이로 인한 속도차 때문에 도주가 불가능하다고 판단하고 맞장 공격을 하겠다고 전투 준비를 했지만, 철갑선의 사정거리에 들어간 순간에 순풍이 불기 시작하여 추격을 뿌리치고 하코다테로 돌아올 수 있었다. \n",
      "질문 : 마쓰오카 바키치함장의 능력과 지휘과 기록된 기록되어 남은 전쟁은? \n",
      "정답 : 하코다테 전쟁\n",
      "예측 : 하코다테 전쟁\n",
      "----------------------------------------\n",
      "본문 : [CLS] 일련의 하코다테 전쟁은 적아 쌍방의 문서에 마쓰오카 바키치 함장의 능란한 조함 능력과 냉정한 지휘만이 기록되어 있다. 함포 사격으로 마쓰마에 성을 공격하여 엄호한 이후, 1869년 메이지 2년 3월 25일 미야코 만 해전에서는 폭풍우를 만나 요함과 헤어졌을 때에 만날 약속했던 하치노헤 항에서 대기하고 있었기 때문에 참전에는 이르지 못했다. 이 폭풍우 때도 “ 함장 마쓰오카 바키치는 배를 조정하는 명수로 로프 하나 손상되지 않았다 ” 고 타고 있던 하야시 다다스가 남긴 바 있다. 이 귀로에서 신정부 군의 철갑함의 추격을 받았다. 기관 능력의 차이로 인한 속도차 때문에 도주가 불가능하다고 판단하고 맞장 공격을 하겠다고 전투 준비를 했지만, 철갑선의 사정거리에 들어간 순간에 순풍이 불기 시작하여 추격을 뿌리치고 하코다테로 돌아올 수 있었다. \n",
      "질문 : 미야코 만 해전에서 아쓰오카 바키치 함장이 폭풍우를 만난 년도는? \n",
      "정답 : 1869년\n",
      "예측 : 1869년\n",
      "----------------------------------------\n"
     ]
    }
   ],
   "source": [
    "for i in range(0, 100):\n",
    "  predict_test_data_by_idx(i)"
   ]
  },
  {
   "cell_type": "code",
   "execution_count": null,
   "metadata": {
    "colab": {
     "base_uri": "https://localhost:8080/"
    },
    "id": "1o0wLGFIZz_i",
    "outputId": "4a4825e3-57fc-47bd-e0b7-6a50a76d35c0"
   },
   "outputs": [
    {
     "name": "stdout",
     "output_type": "stream",
     "text": [
      "본문 : [CLS] 기독교 성경 내용에는 모든 종들을 방주에 태운다고 이야기하고 있으나, 어류나 수중 생물에 대해서는 언급하지 않았다. 이것을 신학적 의미로만 받아들이면 괜찮은 문제이나, 이 현상이 실제로 일어났다고 가정할 경우, 이는 종 간 생존 환경의 차이에 대해서 간과하고 있다. 수중 생물이라 하더라도 종에 따라 생존할 수 있는 환경은 각각 다른 것이며, 40일 이내에 현존하는 가장 높은 산인 에베레스트 산도 잠기게 할 정도의 폭우로 인해 담수와 염수가 급작스럽게 섞일 경우, 급격한 삼투압 변화로 인해 대부분의 수생생물들이 폐사하게 되며, 결과적으로 육지 뿐 아니라 바다와 강의 모든 생태계가 파괴된다. 이후 5천년이라는 지극히 짧은 세월 동안 지구상의 동식물이 모두 페름기 대멸종 또는 K - T 대멸종에 준하는 대량절멸에 가까운 상태에서부터 시작하여 현재의 대략 870만 ( ±120만 ) 종에 달하는 생물다양성을 획득하려면 모든 생물들이 각 세대마다 종분화가 일어나야 할 만큼 엄청난 속도로 진화 및 번식이 ( 멸종 없이 ) 이루어져야만 가능한 일이다. ( 이와 관련하여 창조과학회 측에서는 북극곰의 예시를 통해 가지고 있던 특성이 없어지는 것이 진화가 아니라고 주장하지만, 통상적으로 알려진 바와 같이 생물학에서는 이미 존재하는 특성이 없어지는 현상, 즉 퇴화 역시 진화의 정의에 포함된다. ) 즉, 노아의 홍수가 실재하는 사건이었다면 진화적 종분화가 현재까지 알려진 것과 비교할 수 없이 엄청난 속도로 이루어져야만 현재 지구의 생물다양성을 설명할 수 있다. 게다가 이것은 현재의 생물종 멸종 속도를 전혀 고려하지 않았다. 다시 말해, 노아의 홍수가 실재하는 전지구적인 사건이기 위해서는 최소 캄브리아기 대폭발 수준의 폭발적인 진화적 종분화가 1 - 2억년이 아니라 최대 3 - 4천년 이내에 이루어졌어야만 현생 지구의 생물다양성에 대한 설명이 가능해진다. 그보다 더 중요한 것은, 각 동물들이 차지하는 영역과 먹이사슬에서의 위치, 375일 동안 먹이도 없이 밀폐된 공간으로 인해 받을 스트레스 등 생태적 지위에 대한 고려가 전혀 없다는 점이다. 또한 바다에서 생존이 불가능한 생물종까지 숫자에 포함되었다는 점에서 논란이 있다. \n",
      "질문 : 노아 가족과 동물들이 노아의 방주에서 버틴 날짜는 총 몇일인가? \n",
      "정답 : 375일\n",
      "예측 : 375일\n",
      "----------------------------------------\n"
     ]
    }
   ],
   "source": [
    "predict_test_data_by_idx(77)"
   ]
  },
  {
   "cell_type": "code",
   "execution_count": null,
   "metadata": {
    "colab": {
     "base_uri": "https://localhost:8080/"
    },
    "id": "fDzEVrvbYwhL",
    "outputId": "dcff2422-1086-4b52-fb69-fc337c9fec6b"
   },
   "outputs": [
    {
     "name": "stdout",
     "output_type": "stream",
     "text": [
      "본문 : [CLS] 서울시는 1969년 빈민주택의 불량함을 제거하고, 환경파괴나 불법점거 등의 주택단지 등을 없애기 위해 대대적으로 와우시민아파트 건립을 추진한다. 그러나 이 기공식에 있어서 완공까지의 기간이 얼마 안된것이 화근이었으니 1969 ~ 1970 공사기간 6개월이라는 공사기간으로 부실공사라는 화를 불러일으켰다. 완공 후 입주식 당일날 총 16개 동 중 1개동인 15동 및 14동에서 누수 및 벽, 기둥에 금이 가고 흔들리는 등 여러 문제가 발생하자 가장 불안한 15동 주민을 제외한 모든 주민들을 대피시키고 대피시킨 뒤 즉시 보수에 들어갔으나 그 과정에서 15동 주민들을 대피시키지 않았다. 결국 15동은 주저 않고 폭삭 무너졌으며, 74명의 주민들 중 30명 사망, 44명의 부상자를 냈다. 이는 건축과정의 시공감독 소홀, 심지어는 그것을 방관한 민, 관의 책임이라며 구청장, 감리, 건축과장 등의 인사들을 대거 개편하였다. 한달 뒤인 1970년 4월 당시 서울시장이었던 김현옥 시장이 결국 사건의 책임을 지고 자리를 물러나게 된다. 이후에도 여러 차례의 사고가 일어나 와우아파트는 시민아파트의 정리사업으로 철거되었다. \n",
      "질문 : 와우시민아파트 붕괴 사고 한달 뒤 자리에서 물러난 서울시장의 이름은? \n",
      "정답 : 김현옥\n",
      "예측 : 김현옥\n",
      "----------------------------------------\n",
      "본문 : [CLS] 서울시는 1969년 빈민주택의 불량함을 제거하고, 환경파괴나 불법점거 등의 주택단지 등을 없애기 위해 대대적으로 와우시민아파트 건립을 추진한다. 그러나 이 기공식에 있어서 완공까지의 기간이 얼마 안된것이 화근이었으니 1969 ~ 1970 공사기간 6개월이라는 공사기간으로 부실공사라는 화를 불러일으켰다. 완공 후 입주식 당일날 총 16개 동 중 1개동인 15동 및 14동에서 누수 및 벽, 기둥에 금이 가고 흔들리는 등 여러 문제가 발생하자 가장 불안한 15동 주민을 제외한 모든 주민들을 대피시키고 대피시킨 뒤 즉시 보수에 들어갔으나 그 과정에서 15동 주민들을 대피시키지 않았다. 결국 15동은 주저 않고 폭삭 무너졌으며, 74명의 주민들 중 30명 사망, 44명의 부상자를 냈다. 이는 건축과정의 시공감독 소홀, 심지어는 그것을 방관한 민, 관의 책임이라며 구청장, 감리, 건축과장 등의 인사들을 대거 개편하였다. 한달 뒤인 1970년 4월 당시 서울시장이었던 김현옥 시장이 결국 사건의 책임을 지고 자리를 물러나게 된다. 이후에도 여러 차례의 사고가 일어나 와우아파트는 시민아파트의 정리사업으로 철거되었다. \n",
      "질문 : 1969년 빈민주택의 불량함 제거, 환경파괴 등을 없애기 위해 서울시에서 대대적으로 건립을 추진했던 아파트 이름은? \n",
      "정답 : 와우시민아파트\n",
      "예측 : 와우시민아파트\n",
      "----------------------------------------\n",
      "본문 : [CLS] 서울시는 1969년 빈민주택의 불량함을 제거하고, 환경파괴나 불법점거 등의 주택단지 등을 없애기 위해 대대적으로 와우시민아파트 건립을 추진한다. 그러나 이 기공식에 있어서 완공까지의 기간이 얼마 안된것이 화근이었으니 1969 ~ 1970 공사기간 6개월이라는 공사기간으로 부실공사라는 화를 불러일으켰다. 완공 후 입주식 당일날 총 16개 동 중 1개동인 15동 및 14동에서 누수 및 벽, 기둥에 금이 가고 흔들리는 등 여러 문제가 발생하자 가장 불안한 15동 주민을 제외한 모든 주민들을 대피시키고 대피시킨 뒤 즉시 보수에 들어갔으나 그 과정에서 15동 주민들을 대피시키지 않았다. 결국 15동은 주저 않고 폭삭 무너졌으며, 74명의 주민들 중 30명 사망, 44명의 부상자를 냈다. 이는 건축과정의 시공감독 소홀, 심지어는 그것을 방관한 민, 관의 책임이라며 구청장, 감리, 건축과장 등의 인사들을 대거 개편하였다. 한달 뒤인 1970년 4월 당시 서울시장이었던 김현옥 시장이 결국 사건의 책임을 지고 자리를 물러나게 된다. 이후에도 여러 차례의 사고가 일어나 와우아파트는 시민아파트의 정리사업으로 철거되었다. \n",
      "질문 : 와우아파트의 부실 공사 때문에 사망한 주민 수는? \n",
      "정답 : 30명\n",
      "예측 : 30명\n",
      "----------------------------------------\n",
      "본문 : [CLS] 회현 제2 시민아파트는 1970년에 완공되어 국내에서 마지막으로 지은 시민아파트이다. 중구 회현동1가 147 - 23에 위치해 있다. 지어질 당시 철거민을 위한 아파트었으나 지리적 위치가 매우 좋아 중앙정보부 요원이나 연예인들이 거주해 동대문아파트와 함께 연예인아파트라는 별명으로 유명했다. 박정희 정권의 판자촌 정리 개발계획으로 지어진 회현 제2시민아파트는 다른 시민아파트와 마찬가지로 남산의 경사진 곳에 지어졌다. 지을때는 시민아파트로 지어졌으나 와우아파트의 붕괴로 한층 보강하고 벽돌 등을 사용해 튼튼하여 미래에 지어질 모든아파트의 본보기가 되라는 김현옥 시장의 지시에 아래 시범아파트로 개명하지만 시민아파트로 분류했다. 특히 남산의 지형을 이용한 구름다리나'ㄷ'자형식의 건물 형식 등은 최근에 지어진 아파트에서는 볼 수 없는 건축방식이었다. 당시 시민아파트는 서민용이었으나 판자촌 원주민이 입주한 경우보다 연예인, 재력가, 방송 PD, 정부 고위인사 등이 더 많이 입주했고, 또 중앙청사나 방송국 근처에 위치한 지리적인 조건으로 대부분 유명인이 거주했다. 하지만 점점 노후화가 진행되어 2006년에는 외벽을 받치는 콘크리트가 서울시 건축물 안전진단에서 D등급을 받으며 재개발이 추진되었다. 그러나 입주민들의 보상문제로 재개발이 미루어 지는 사이 여러 영화 작품의 배경으로 나와 사회적 관심을 끌어 매우 유명해졌으며 동대문아파트와 함께 서울미래유산후보로 지정되어 보존을 거칠 예정이다. \n",
      "질문 : 국내에서 마지막으로 지어진 시민아파트의 이름은 무엇인가? \n",
      "정답 : 회현 제2 시민아파트\n",
      "예측 : 회현 제2 시민아파트\n",
      "----------------------------------------\n",
      "본문 : [CLS] 회현 제2 시민아파트는 1970년에 완공되어 국내에서 마지막으로 지은 시민아파트이다. 중구 회현동1가 147 - 23에 위치해 있다. 지어질 당시 철거민을 위한 아파트었으나 지리적 위치가 매우 좋아 중앙정보부 요원이나 연예인들이 거주해 동대문아파트와 함께 연예인아파트라는 별명으로 유명했다. 박정희 정권의 판자촌 정리 개발계획으로 지어진 회현 제2시민아파트는 다른 시민아파트와 마찬가지로 남산의 경사진 곳에 지어졌다. 지을때는 시민아파트로 지어졌으나 와우아파트의 붕괴로 한층 보강하고 벽돌 등을 사용해 튼튼하여 미래에 지어질 모든아파트의 본보기가 되라는 김현옥 시장의 지시에 아래 시범아파트로 개명하지만 시민아파트로 분류했다. 특히 남산의 지형을 이용한 구름다리나'ㄷ'자형식의 건물 형식 등은 최근에 지어진 아파트에서는 볼 수 없는 건축방식이었다. 당시 시민아파트는 서민용이었으나 판자촌 원주민이 입주한 경우보다 연예인, 재력가, 방송 PD, 정부 고위인사 등이 더 많이 입주했고, 또 중앙청사나 방송국 근처에 위치한 지리적인 조건으로 대부분 유명인이 거주했다. 하지만 점점 노후화가 진행되어 2006년에는 외벽을 받치는 콘크리트가 서울시 건축물 안전진단에서 D등급을 받으며 재개발이 추진되었다. 그러나 입주민들의 보상문제로 재개발이 미루어 지는 사이 여러 영화 작품의 배경으로 나와 사회적 관심을 끌어 매우 유명해졌으며 동대문아파트와 함께 서울미래유산후보로 지정되어 보존을 거칠 예정이다. \n",
      "질문 : 회현 제2 시민아파트는 누구를 위해 지어졌는가? \n",
      "정답 : 철거민\n",
      "예측 : 철거민\n",
      "----------------------------------------\n",
      "본문 : [CLS] 회현 제2 시민아파트는 1970년에 완공되어 국내에서 마지막으로 지은 시민아파트이다. 중구 회현동1가 147 - 23에 위치해 있다. 지어질 당시 철거민을 위한 아파트었으나 지리적 위치가 매우 좋아 중앙정보부 요원이나 연예인들이 거주해 동대문아파트와 함께 연예인아파트라는 별명으로 유명했다. 박정희 정권의 판자촌 정리 개발계획으로 지어진 회현 제2시민아파트는 다른 시민아파트와 마찬가지로 남산의 경사진 곳에 지어졌다. 지을때는 시민아파트로 지어졌으나 와우아파트의 붕괴로 한층 보강하고 벽돌 등을 사용해 튼튼하여 미래에 지어질 모든아파트의 본보기가 되라는 김현옥 시장의 지시에 아래 시범아파트로 개명하지만 시민아파트로 분류했다. 특히 남산의 지형을 이용한 구름다리나'ㄷ'자형식의 건물 형식 등은 최근에 지어진 아파트에서는 볼 수 없는 건축방식이었다. 당시 시민아파트는 서민용이었으나 판자촌 원주민이 입주한 경우보다 연예인, 재력가, 방송 PD, 정부 고위인사 등이 더 많이 입주했고, 또 중앙청사나 방송국 근처에 위치한 지리적인 조건으로 대부분 유명인이 거주했다. 하지만 점점 노후화가 진행되어 2006년에는 외벽을 받치는 콘크리트가 서울시 건축물 안전진단에서 D등급을 받으며 재개발이 추진되었다. 그러나 입주민들의 보상문제로 재개발이 미루어 지는 사이 여러 영화 작품의 배경으로 나와 사회적 관심을 끌어 매우 유명해졌으며 동대문아파트와 함께 서울미래유산후보로 지정되어 보존을 거칠 예정이다. \n",
      "질문 : 회현 제2 시민아파트가 완공된 해는? \n",
      "정답 : 1970년\n",
      "예측 : 1970년\n",
      "----------------------------------------\n",
      "본문 : [CLS] 회현 제2 시민아파트는 1970년에 완공되어 국내에서 마지막으로 지은 시민아파트이다. 중구 회현동1가 147 - 23에 위치해 있다. 지어질 당시 철거민을 위한 아파트었으나 지리적 위치가 매우 좋아 중앙정보부 요원이나 연예인들이 거주해 동대문아파트와 함께 연예인아파트라는 별명으로 유명했다. 박정희 정권의 판자촌 정리 개발계획으로 지어진 회현 제2시민아파트는 다른 시민아파트와 마찬가지로 남산의 경사진 곳에 지어졌다. 지을때는 시민아파트로 지어졌으나 와우아파트의 붕괴로 한층 보강하고 벽돌 등을 사용해 튼튼하여 미래에 지어질 모든아파트의 본보기가 되라는 김현옥 시장의 지시에 아래 시범아파트로 개명하지만 시민아파트로 분류했다. 특히 남산의 지형을 이용한 구름다리나'ㄷ'자형식의 건물 형식 등은 최근에 지어진 아파트에서는 볼 수 없는 건축방식이었다. 당시 시민아파트는 서민용이었으나 판자촌 원주민이 입주한 경우보다 연예인, 재력가, 방송 PD, 정부 고위인사 등이 더 많이 입주했고, 또 중앙청사나 방송국 근처에 위치한 지리적인 조건으로 대부분 유명인이 거주했다. 하지만 점점 노후화가 진행되어 2006년에는 외벽을 받치는 콘크리트가 서울시 건축물 안전진단에서 D등급을 받으며 재개발이 추진되었다. 그러나 입주민들의 보상문제로 재개발이 미루어 지는 사이 여러 영화 작품의 배경으로 나와 사회적 관심을 끌어 매우 유명해졌으며 동대문아파트와 함께 서울미래유산후보로 지정되어 보존을 거칠 예정이다. \n",
      "질문 : 박정희 정권의 계획하에 회현 제2시민아파트는 어떤 의도로 지어진 아파트인가? \n",
      "정답 : 판자촌 정리 개발계획\n",
      "예측 : 판자촌 정리 개발계획\n",
      "----------------------------------------\n",
      "본문 : [CLS] 회현 제2 시민아파트는 1970년에 완공되어 국내에서 마지막으로 지은 시민아파트이다. 중구 회현동1가 147 - 23에 위치해 있다. 지어질 당시 철거민을 위한 아파트었으나 지리적 위치가 매우 좋아 중앙정보부 요원이나 연예인들이 거주해 동대문아파트와 함께 연예인아파트라는 별명으로 유명했다. 박정희 정권의 판자촌 정리 개발계획으로 지어진 회현 제2시민아파트는 다른 시민아파트와 마찬가지로 남산의 경사진 곳에 지어졌다. 지을때는 시민아파트로 지어졌으나 와우아파트의 붕괴로 한층 보강하고 벽돌 등을 사용해 튼튼하여 미래에 지어질 모든아파트의 본보기가 되라는 김현옥 시장의 지시에 아래 시범아파트로 개명하지만 시민아파트로 분류했다. 특히 남산의 지형을 이용한 구름다리나'ㄷ'자형식의 건물 형식 등은 최근에 지어진 아파트에서는 볼 수 없는 건축방식이었다. 당시 시민아파트는 서민용이었으나 판자촌 원주민이 입주한 경우보다 연예인, 재력가, 방송 PD, 정부 고위인사 등이 더 많이 입주했고, 또 중앙청사나 방송국 근처에 위치한 지리적인 조건으로 대부분 유명인이 거주했다. 하지만 점점 노후화가 진행되어 2006년에는 외벽을 받치는 콘크리트가 서울시 건축물 안전진단에서 D등급을 받으며 재개발이 추진되었다. 그러나 입주민들의 보상문제로 재개발이 미루어 지는 사이 여러 영화 작품의 배경으로 나와 사회적 관심을 끌어 매우 유명해졌으며 동대문아파트와 함께 서울미래유산후보로 지정되어 보존을 거칠 예정이다. \n",
      "질문 : 회현 제2 시민아파트는 동대문아파트와 함께 무엇으로 지정되어 보존될 예정인가? \n",
      "정답 : 서울미래유산후보\n",
      "예측 : 서울미래유산후보\n",
      "----------------------------------------\n",
      "본문 : [CLS] 회현 제2 시민아파트는 1970년에 완공되어 국내에서 마지막으로 지은 시민아파트이다. 중구 회현동1가 147 - 23에 위치해 있다. 지어질 당시 철거민을 위한 아파트었으나 지리적 위치가 매우 좋아 중앙정보부 요원이나 연예인들이 거주해 동대문아파트와 함께 연예인아파트라는 별명으로 유명했다. 박정희 정권의 판자촌 정리 개발계획으로 지어진 회현 제2시민아파트는 다른 시민아파트와 마찬가지로 남산의 경사진 곳에 지어졌다. 지을때는 시민아파트로 지어졌으나 와우아파트의 붕괴로 한층 보강하고 벽돌 등을 사용해 튼튼하여 미래에 지어질 모든아파트의 본보기가 되라는 김현옥 시장의 지시에 아래 시범아파트로 개명하지만 시민아파트로 분류했다. 특히 남산의 지형을 이용한 구름다리나'ㄷ'자형식의 건물 형식 등은 최근에 지어진 아파트에서는 볼 수 없는 건축방식이었다. 당시 시민아파트는 서민용이었으나 판자촌 원주민이 입주한 경우보다 연예인, 재력가, 방송 PD, 정부 고위인사 등이 더 많이 입주했고, 또 중앙청사나 방송국 근처에 위치한 지리적인 조건으로 대부분 유명인이 거주했다. 하지만 점점 노후화가 진행되어 2006년에는 외벽을 받치는 콘크리트가 서울시 건축물 안전진단에서 D등급을 받으며 재개발이 추진되었다. 그러나 입주민들의 보상문제로 재개발이 미루어 지는 사이 여러 영화 작품의 배경으로 나와 사회적 관심을 끌어 매우 유명해졌으며 동대문아파트와 함께 서울미래유산후보로 지정되어 보존을 거칠 예정이다. \n",
      "질문 : 1970년 완공되어 국내에서 마지막으로 지은 시민아파트 이름은? \n",
      "정답 : 회현 제2 시민아파트\n",
      "예측 : 회현 제2 시민아파트\n",
      "----------------------------------------\n",
      "본문 : [CLS] 회현 제2 시민아파트는 1970년에 완공되어 국내에서 마지막으로 지은 시민아파트이다. 중구 회현동1가 147 - 23에 위치해 있다. 지어질 당시 철거민을 위한 아파트었으나 지리적 위치가 매우 좋아 중앙정보부 요원이나 연예인들이 거주해 동대문아파트와 함께 연예인아파트라는 별명으로 유명했다. 박정희 정권의 판자촌 정리 개발계획으로 지어진 회현 제2시민아파트는 다른 시민아파트와 마찬가지로 남산의 경사진 곳에 지어졌다. 지을때는 시민아파트로 지어졌으나 와우아파트의 붕괴로 한층 보강하고 벽돌 등을 사용해 튼튼하여 미래에 지어질 모든아파트의 본보기가 되라는 김현옥 시장의 지시에 아래 시범아파트로 개명하지만 시민아파트로 분류했다. 특히 남산의 지형을 이용한 구름다리나'ㄷ'자형식의 건물 형식 등은 최근에 지어진 아파트에서는 볼 수 없는 건축방식이었다. 당시 시민아파트는 서민용이었으나 판자촌 원주민이 입주한 경우보다 연예인, 재력가, 방송 PD, 정부 고위인사 등이 더 많이 입주했고, 또 중앙청사나 방송국 근처에 위치한 지리적인 조건으로 대부분 유명인이 거주했다. 하지만 점점 노후화가 진행되어 2006년에는 외벽을 받치는 콘크리트가 서울시 건축물 안전진단에서 D등급을 받으며 재개발이 추진되었다. 그러나 입주민들의 보상문제로 재개발이 미루어 지는 사이 여러 영화 작품의 배경으로 나와 사회적 관심을 끌어 매우 유명해졌으며 동대문아파트와 함께 서울미래유산후보로 지정되어 보존을 거칠 예정이다. \n",
      "질문 : 회현 제2 시민아파트는 동대문아파트와 함께 어떤 별명으로 유명했나? \n",
      "정답 : 연예인아파트라\n",
      "예측 : 연예인아파트라\n",
      "----------------------------------------\n",
      "본문 : [CLS] 여의도 시범아파트는 대한민국 서울특별시 영등포구 여의도동에 위치한 아파트 단지다. 규모는 1790세대와 24개동이고 1971년 영등포구 여의도동에 지어진 여의도 시범아파트는 국내 첫 민간인 고층아파트이자 대단지이며 최초로 여의도에 지어진 건축물이기도 하다. 건설은 삼부토건, 현대, 부국, 대림, 한국건업, 건설산업, 모양건설이 건축을 맡았다. 이전에도 시범아파트라는 명칭을 가진아파트는 존재했으나 다들 시민아파트의 개량형인 것에 반해 여의도 시범아파트는 최초의 단지형 고층시범아파트로 지어졌다. 당시 건물을 지은 배경을 살펴보면 여의도가 확장공사를 마치어 땅 분양을 하였으나 당시 여의도에 건물을 짓겠다는 사람은 한명도 나오지 않았다. 이로 인해 여의도가 애물단지로 전락하는 것을 막기 위하여 서울시가 시범적으로 여의도에 고층 아파트 단지를 지어 보급한다는 계획을 만들어 1971년 완공되었다. 이후 서울시가 의도한 대로 여의도에 신임을 가진사람들이 늘어 수많은 증권가 건물들이 여의도에 지어졌으며 국회의사당, 국내 방송국 3사 본국과 한화그룹 소유의 63빌딩이 여의도에 지어졌다. 또한 여의도 시범아파트는 가장대표되는 기둥식 아파트로 알려진 바 있으며 역사적 가치로 인해 서울미래문화유산을 지정되기도 했다. \n",
      "질문 : 최초의 단지형 고층시범아파트이자 최초로 여의도에 지어진 건축물인 아파트의 이름은 무엇인가? \n",
      "정답 : 여의도 시범아파트\n",
      "예측 : 여의도 시범아파트\n",
      "----------------------------------------\n",
      "본문 : [CLS] 여의도 시범아파트는 대한민국 서울특별시 영등포구 여의도동에 위치한 아파트 단지다. 규모는 1790세대와 24개동이고 1971년 영등포구 여의도동에 지어진 여의도 시범아파트는 국내 첫 민간인 고층아파트이자 대단지이며 최초로 여의도에 지어진 건축물이기도 하다. 건설은 삼부토건, 현대, 부국, 대림, 한국건업, 건설산업, 모양건설이 건축을 맡았다. 이전에도 시범아파트라는 명칭을 가진아파트는 존재했으나 다들 시민아파트의 개량형인 것에 반해 여의도 시범아파트는 최초의 단지형 고층시범아파트로 지어졌다. 당시 건물을 지은 배경을 살펴보면 여의도가 확장공사를 마치어 땅 분양을 하였으나 당시 여의도에 건물을 짓겠다는 사람은 한명도 나오지 않았다. 이로 인해 여의도가 애물단지로 전락하는 것을 막기 위하여 서울시가 시범적으로 여의도에 고층 아파트 단지를 지어 보급한다는 계획을 만들어 1971년 완공되었다. 이후 서울시가 의도한 대로 여의도에 신임을 가진사람들이 늘어 수많은 증권가 건물들이 여의도에 지어졌으며 국회의사당, 국내 방송국 3사 본국과 한화그룹 소유의 63빌딩이 여의도에 지어졌다. 또한 여의도 시범아파트는 가장대표되는 기둥식 아파트로 알려진 바 있으며 역사적 가치로 인해 서울미래문화유산을 지정되기도 했다. \n",
      "질문 : 여의도 시범아파트는 어떤 형식의 아파트인가? \n",
      "정답 : 기둥식 아파트\n",
      "예측 : 단지형 고층시범아파트로\n",
      "----------------------------------------\n",
      "본문 : [CLS] 여의도 시범아파트는 대한민국 서울특별시 영등포구 여의도동에 위치한 아파트 단지다. 규모는 1790세대와 24개동이고 1971년 영등포구 여의도동에 지어진 여의도 시범아파트는 국내 첫 민간인 고층아파트이자 대단지이며 최초로 여의도에 지어진 건축물이기도 하다. 건설은 삼부토건, 현대, 부국, 대림, 한국건업, 건설산업, 모양건설이 건축을 맡았다. 이전에도 시범아파트라는 명칭을 가진아파트는 존재했으나 다들 시민아파트의 개량형인 것에 반해 여의도 시범아파트는 최초의 단지형 고층시범아파트로 지어졌다. 당시 건물을 지은 배경을 살펴보면 여의도가 확장공사를 마치어 땅 분양을 하였으나 당시 여의도에 건물을 짓겠다는 사람은 한명도 나오지 않았다. 이로 인해 여의도가 애물단지로 전락하는 것을 막기 위하여 서울시가 시범적으로 여의도에 고층 아파트 단지를 지어 보급한다는 계획을 만들어 1971년 완공되었다. 이후 서울시가 의도한 대로 여의도에 신임을 가진사람들이 늘어 수많은 증권가 건물들이 여의도에 지어졌으며 국회의사당, 국내 방송국 3사 본국과 한화그룹 소유의 63빌딩이 여의도에 지어졌다. 또한 여의도 시범아파트는 가장대표되는 기둥식 아파트로 알려진 바 있으며 역사적 가치로 인해 서울미래문화유산을 지정되기도 했다. \n",
      "질문 : 여의도 시범아파트는 몇개의 세대로 구성되었나? \n",
      "정답 : 1790세대\n",
      "예측 : 1790세대\n",
      "----------------------------------------\n",
      "본문 : [CLS] 여의도 시범아파트는 대한민국 서울특별시 영등포구 여의도동에 위치한 아파트 단지다. 규모는 1790세대와 24개동이고 1971년 영등포구 여의도동에 지어진 여의도 시범아파트는 국내 첫 민간인 고층아파트이자 대단지이며 최초로 여의도에 지어진 건축물이기도 하다. 건설은 삼부토건, 현대, 부국, 대림, 한국건업, 건설산업, 모양건설이 건축을 맡았다. 이전에도 시범아파트라는 명칭을 가진아파트는 존재했으나 다들 시민아파트의 개량형인 것에 반해 여의도 시범아파트는 최초의 단지형 고층시범아파트로 지어졌다. 당시 건물을 지은 배경을 살펴보면 여의도가 확장공사를 마치어 땅 분양을 하였으나 당시 여의도에 건물을 짓겠다는 사람은 한명도 나오지 않았다. 이로 인해 여의도가 애물단지로 전락하는 것을 막기 위하여 서울시가 시범적으로 여의도에 고층 아파트 단지를 지어 보급한다는 계획을 만들어 1971년 완공되었다. 이후 서울시가 의도한 대로 여의도에 신임을 가진사람들이 늘어 수많은 증권가 건물들이 여의도에 지어졌으며 국회의사당, 국내 방송국 3사 본국과 한화그룹 소유의 63빌딩이 여의도에 지어졌다. 또한 여의도 시범아파트는 가장대표되는 기둥식 아파트로 알려진 바 있으며 역사적 가치로 인해 서울미래문화유산을 지정되기도 했다. \n",
      "질문 : 여의도 시범아파트는 몇 개의 동으로 구성되었나? \n",
      "정답 : 24개동\n",
      "예측 : 24개동\n",
      "----------------------------------------\n",
      "본문 : [CLS] 여의도 시범아파트는 대한민국 서울특별시 영등포구 여의도동에 위치한 아파트 단지다. 규모는 1790세대와 24개동이고 1971년 영등포구 여의도동에 지어진 여의도 시범아파트는 국내 첫 민간인 고층아파트이자 대단지이며 최초로 여의도에 지어진 건축물이기도 하다. 건설은 삼부토건, 현대, 부국, 대림, 한국건업, 건설산업, 모양건설이 건축을 맡았다. 이전에도 시범아파트라는 명칭을 가진아파트는 존재했으나 다들 시민아파트의 개량형인 것에 반해 여의도 시범아파트는 최초의 단지형 고층시범아파트로 지어졌다. 당시 건물을 지은 배경을 살펴보면 여의도가 확장공사를 마치어 땅 분양을 하였으나 당시 여의도에 건물을 짓겠다는 사람은 한명도 나오지 않았다. 이로 인해 여의도가 애물단지로 전락하는 것을 막기 위하여 서울시가 시범적으로 여의도에 고층 아파트 단지를 지어 보급한다는 계획을 만들어 1971년 완공되었다. 이후 서울시가 의도한 대로 여의도에 신임을 가진사람들이 늘어 수많은 증권가 건물들이 여의도에 지어졌으며 국회의사당, 국내 방송국 3사 본국과 한화그룹 소유의 63빌딩이 여의도에 지어졌다. 또한 여의도 시범아파트는 가장대표되는 기둥식 아파트로 알려진 바 있으며 역사적 가치로 인해 서울미래문화유산을 지정되기도 했다. \n",
      "질문 : 여의도 시범아파트가 완공된 해는? \n",
      "정답 : 1971년\n",
      "예측 : 1971년\n",
      "----------------------------------------\n",
      "본문 : [CLS] 여의도 시범아파트는 대한민국 서울특별시 영등포구 여의도동에 위치한 아파트 단지다. 규모는 1790세대와 24개동이고 1971년 영등포구 여의도동에 지어진 여의도 시범아파트는 국내 첫 민간인 고층아파트이자 대단지이며 최초로 여의도에 지어진 건축물이기도 하다. 건설은 삼부토건, 현대, 부국, 대림, 한국건업, 건설산업, 모양건설이 건축을 맡았다. 이전에도 시범아파트라는 명칭을 가진아파트는 존재했으나 다들 시민아파트의 개량형인 것에 반해 여의도 시범아파트는 최초의 단지형 고층시범아파트로 지어졌다. 당시 건물을 지은 배경을 살펴보면 여의도가 확장공사를 마치어 땅 분양을 하였으나 당시 여의도에 건물을 짓겠다는 사람은 한명도 나오지 않았다. 이로 인해 여의도가 애물단지로 전락하는 것을 막기 위하여 서울시가 시범적으로 여의도에 고층 아파트 단지를 지어 보급한다는 계획을 만들어 1971년 완공되었다. 이후 서울시가 의도한 대로 여의도에 신임을 가진사람들이 늘어 수많은 증권가 건물들이 여의도에 지어졌으며 국회의사당, 국내 방송국 3사 본국과 한화그룹 소유의 63빌딩이 여의도에 지어졌다. 또한 여의도 시범아파트는 가장대표되는 기둥식 아파트로 알려진 바 있으며 역사적 가치로 인해 서울미래문화유산을 지정되기도 했다. \n",
      "질문 : 1971년 여의도에 지어진 국내 첫 민간인 고층아파트의 이름은? \n",
      "정답 : 여의도 시범아파트\n",
      "예측 : 여의도 시범아파트\n",
      "----------------------------------------\n",
      "본문 : [CLS] 여의도 시범아파트는 대한민국 서울특별시 영등포구 여의도동에 위치한 아파트 단지다. 규모는 1790세대와 24개동이고 1971년 영등포구 여의도동에 지어진 여의도 시범아파트는 국내 첫 민간인 고층아파트이자 대단지이며 최초로 여의도에 지어진 건축물이기도 하다. 건설은 삼부토건, 현대, 부국, 대림, 한국건업, 건설산업, 모양건설이 건축을 맡았다. 이전에도 시범아파트라는 명칭을 가진아파트는 존재했으나 다들 시민아파트의 개량형인 것에 반해 여의도 시범아파트는 최초의 단지형 고층시범아파트로 지어졌다. 당시 건물을 지은 배경을 살펴보면 여의도가 확장공사를 마치어 땅 분양을 하였으나 당시 여의도에 건물을 짓겠다는 사람은 한명도 나오지 않았다. 이로 인해 여의도가 애물단지로 전락하는 것을 막기 위하여 서울시가 시범적으로 여의도에 고층 아파트 단지를 지어 보급한다는 계획을 만들어 1971년 완공되었다. 이후 서울시가 의도한 대로 여의도에 신임을 가진사람들이 늘어 수많은 증권가 건물들이 여의도에 지어졌으며 국회의사당, 국내 방송국 3사 본국과 한화그룹 소유의 63빌딩이 여의도에 지어졌다. 또한 여의도 시범아파트는 가장대표되는 기둥식 아파트로 알려진 바 있으며 역사적 가치로 인해 서울미래문화유산을 지정되기도 했다. \n",
      "질문 : 여의도 시범 아파트는 총 몇 세대로 이루어져 있는가? \n",
      "정답 : 1790세대\n",
      "예측 : 1790세대\n",
      "----------------------------------------\n",
      "본문 : [CLS] 1971년 지어져 1972년에 입주한 서소문 아파트는 서대문구 미근동에 있는 선형식 아파트이다. 1971년 하천을 덮고 그 위로 아파트를 지어 올리면서 미근동 215번지에서 의주로2가 138번지 1 앞에 하천복개지역이라는 주소가 만들어졌다. 하천을 따라 115m 길이로 지어진 서소문아파트는 시범아파트로 알려졌으나 실은 시범식으로 만든 아파트인 단지형 시범아파트와는 형태자체가 다르다. 사실 오래된 아파트 사이에서 재건축 바람이 분 것은 꽤 됐지만 40년도 더 넘은 서소문아파트는 재건축의 시도조차 없었다. 시대가 바뀌면서 하천부지 위에는 건축물을 짓지 못하도록 건축법이 바뀐 탓이다. 아파트가 철거되면 주민들에겐 임대아파트 입주권이 주어진다. 구조는 7층 높이에 126가구 규모로 지어진 아파트는 1층이 상가로 구성됐고 2 ~ 7층까지는 아파트로 오진개발이 건축을 담당하였다. 서울시는 서소문아파트를 미래유산으로 지정하였다. \n",
      "질문 : 서소문 아파트는 어떤 형식의 아파트인가? \n",
      "정답 : 선형식 아파트\n",
      "예측 : 선형식\n",
      "----------------------------------------\n",
      "본문 : [CLS] 1971년 지어져 1972년에 입주한 서소문 아파트는 서대문구 미근동에 있는 선형식 아파트이다. 1971년 하천을 덮고 그 위로 아파트를 지어 올리면서 미근동 215번지에서 의주로2가 138번지 1 앞에 하천복개지역이라는 주소가 만들어졌다. 하천을 따라 115m 길이로 지어진 서소문아파트는 시범아파트로 알려졌으나 실은 시범식으로 만든 아파트인 단지형 시범아파트와는 형태자체가 다르다. 사실 오래된 아파트 사이에서 재건축 바람이 분 것은 꽤 됐지만 40년도 더 넘은 서소문아파트는 재건축의 시도조차 없었다. 시대가 바뀌면서 하천부지 위에는 건축물을 짓지 못하도록 건축법이 바뀐 탓이다. 아파트가 철거되면 주민들에겐 임대아파트 입주권이 주어진다. 구조는 7층 높이에 126가구 규모로 지어진 아파트는 1층이 상가로 구성됐고 2 ~ 7층까지는 아파트로 오진개발이 건축을 담당하였다. 서울시는 서소문아파트를 미래유산으로 지정하였다. \n",
      "질문 : 서소문아파트가 지어진 연도는 언제인가? \n",
      "정답 : 1971년\n",
      "예측 : 1971년\n",
      "----------------------------------------\n",
      "본문 : [CLS] 1971년 지어져 1972년에 입주한 서소문 아파트는 서대문구 미근동에 있는 선형식 아파트이다. 1971년 하천을 덮고 그 위로 아파트를 지어 올리면서 미근동 215번지에서 의주로2가 138번지 1 앞에 하천복개지역이라는 주소가 만들어졌다. 하천을 따라 115m 길이로 지어진 서소문아파트는 시범아파트로 알려졌으나 실은 시범식으로 만든 아파트인 단지형 시범아파트와는 형태자체가 다르다. 사실 오래된 아파트 사이에서 재건축 바람이 분 것은 꽤 됐지만 40년도 더 넘은 서소문아파트는 재건축의 시도조차 없었다. 시대가 바뀌면서 하천부지 위에는 건축물을 짓지 못하도록 건축법이 바뀐 탓이다. 아파트가 철거되면 주민들에겐 임대아파트 입주권이 주어진다. 구조는 7층 높이에 126가구 규모로 지어진 아파트는 1층이 상가로 구성됐고 2 ~ 7층까지는 아파트로 오진개발이 건축을 담당하였다. 서울시는 서소문아파트를 미래유산으로 지정하였다. \n",
      "질문 : 서소문 아파트가 지어진 해는? \n",
      "정답 : 1971년\n",
      "예측 : \n",
      "----------------------------------------\n",
      "본문 : [CLS] 1971년 지어져 1972년에 입주한 서소문 아파트는 서대문구 미근동에 있는 선형식 아파트이다. 1971년 하천을 덮고 그 위로 아파트를 지어 올리면서 미근동 215번지에서 의주로2가 138번지 1 앞에 하천복개지역이라는 주소가 만들어졌다. 하천을 따라 115m 길이로 지어진 서소문아파트는 시범아파트로 알려졌으나 실은 시범식으로 만든 아파트인 단지형 시범아파트와는 형태자체가 다르다. 사실 오래된 아파트 사이에서 재건축 바람이 분 것은 꽤 됐지만 40년도 더 넘은 서소문아파트는 재건축의 시도조차 없었다. 시대가 바뀌면서 하천부지 위에는 건축물을 짓지 못하도록 건축법이 바뀐 탓이다. 아파트가 철거되면 주민들에겐 임대아파트 입주권이 주어진다. 구조는 7층 높이에 126가구 규모로 지어진 아파트는 1층이 상가로 구성됐고 2 ~ 7층까지는 아파트로 오진개발이 건축을 담당하였다. 서울시는 서소문아파트를 미래유산으로 지정하였다. \n",
      "질문 : 서소문 아파트는 하천을 따라 몇m 길이로 만들어졌나? \n",
      "정답 : 115m\n",
      "예측 : 115m\n",
      "----------------------------------------\n",
      "본문 : [CLS] 1971년 지어져 1972년에 입주한 서소문 아파트는 서대문구 미근동에 있는 선형식 아파트이다. 1971년 하천을 덮고 그 위로 아파트를 지어 올리면서 미근동 215번지에서 의주로2가 138번지 1 앞에 하천복개지역이라는 주소가 만들어졌다. 하천을 따라 115m 길이로 지어진 서소문아파트는 시범아파트로 알려졌으나 실은 시범식으로 만든 아파트인 단지형 시범아파트와는 형태자체가 다르다. 사실 오래된 아파트 사이에서 재건축 바람이 분 것은 꽤 됐지만 40년도 더 넘은 서소문아파트는 재건축의 시도조차 없었다. 시대가 바뀌면서 하천부지 위에는 건축물을 짓지 못하도록 건축법이 바뀐 탓이다. 아파트가 철거되면 주민들에겐 임대아파트 입주권이 주어진다. 구조는 7층 높이에 126가구 규모로 지어진 아파트는 1층이 상가로 구성됐고 2 ~ 7층까지는 아파트로 오진개발이 건축을 담당하였다. 서울시는 서소문아파트를 미래유산으로 지정하였다. \n",
      "질문 : 서소문 아파트가 철거될 때 주민들에게 주어지는 것은? \n",
      "정답 : 임대아파트 입주권\n",
      "예측 : 임대아파트 입주권\n",
      "----------------------------------------\n",
      "본문 : [CLS] 1971년 지어져 1972년에 입주한 서소문 아파트는 서대문구 미근동에 있는 선형식 아파트이다. 1971년 하천을 덮고 그 위로 아파트를 지어 올리면서 미근동 215번지에서 의주로2가 138번지 1 앞에 하천복개지역이라는 주소가 만들어졌다. 하천을 따라 115m 길이로 지어진 서소문아파트는 시범아파트로 알려졌으나 실은 시범식으로 만든 아파트인 단지형 시범아파트와는 형태자체가 다르다. 사실 오래된 아파트 사이에서 재건축 바람이 분 것은 꽤 됐지만 40년도 더 넘은 서소문아파트는 재건축의 시도조차 없었다. 시대가 바뀌면서 하천부지 위에는 건축물을 짓지 못하도록 건축법이 바뀐 탓이다. 아파트가 철거되면 주민들에겐 임대아파트 입주권이 주어진다. 구조는 7층 높이에 126가구 규모로 지어진 아파트는 1층이 상가로 구성됐고 2 ~ 7층까지는 아파트로 오진개발이 건축을 담당하였다. 서울시는 서소문아파트를 미래유산으로 지정하였다. \n",
      "질문 : 1971년 지어져 1972년 입주했으며 서대문구 미근동에 위치한 선형식 아파트의 이름은? \n",
      "정답 : 서소문 아파트\n",
      "예측 : 서소문 아파트\n",
      "----------------------------------------\n",
      "본문 : [CLS] 1971년 지어져 1972년에 입주한 서소문 아파트는 서대문구 미근동에 있는 선형식 아파트이다. 1971년 하천을 덮고 그 위로 아파트를 지어 올리면서 미근동 215번지에서 의주로2가 138번지 1 앞에 하천복개지역이라는 주소가 만들어졌다. 하천을 따라 115m 길이로 지어진 서소문아파트는 시범아파트로 알려졌으나 실은 시범식으로 만든 아파트인 단지형 시범아파트와는 형태자체가 다르다. 사실 오래된 아파트 사이에서 재건축 바람이 분 것은 꽤 됐지만 40년도 더 넘은 서소문아파트는 재건축의 시도조차 없었다. 시대가 바뀌면서 하천부지 위에는 건축물을 짓지 못하도록 건축법이 바뀐 탓이다. 아파트가 철거되면 주민들에겐 임대아파트 입주권이 주어진다. 구조는 7층 높이에 126가구 규모로 지어진 아파트는 1층이 상가로 구성됐고 2 ~ 7층까지는 아파트로 오진개발이 건축을 담당하였다. 서울시는 서소문아파트를 미래유산으로 지정하였다. \n",
      "질문 : 서소문 아파트의 건축을 담당한 업체 이름은? \n",
      "정답 : 오진개발\n",
      "예측 : 오진개발\n",
      "----------------------------------------\n",
      "본문 : [CLS] 서울 중구 중림동 149번지 성요셉 아파트는 1971년에 약현성당이 지은 아파트이다. 형태는 선형식 아파트로서 언덕길을 따라 길게 휘어져 있다. 이로 인해 각각의 위치에 따라 저층이 달랐다. 저층부 1개층은 상가로 이용되고 있으며 저층부 다음부터 최고층인 6층까지 주거 시설로 이용되고 있으며 1개 동으로 구성된 이 아파트는 전면부에 3개의 입구가 있다. 언덕 하단부에 설치된 첫번째 입구의 경우 2층 1가구와 그 외 전층을 출입할 수 있고, 중앙 입구는 2층 일부 가구만 출입이 가능하다. 이 외의 출입구는 3층 이상 출입이 가능하다. 성요셉 아파트는 초기 약현성당이 성당 성도들에게 아파트를 제공하기 위하여 시작한 사업이지만 이후 민간에 매각됐다. 서울시는 성요셉아파트의 특이한 건물형태로 인해 서울시 미래유산 아파트로 선정하였다. \n",
      "질문 : 초기 약현성당이 성도 들에게 아파트를 제공하기 위해 지어진 아파트의 이름은? \n",
      "정답 : 성요셉 아파트\n",
      "예측 : 성요셉 아파트\n",
      "----------------------------------------\n",
      "본문 : [CLS] 서울 중구 중림동 149번지 성요셉 아파트는 1971년에 약현성당이 지은 아파트이다. 형태는 선형식 아파트로서 언덕길을 따라 길게 휘어져 있다. 이로 인해 각각의 위치에 따라 저층이 달랐다. 저층부 1개층은 상가로 이용되고 있으며 저층부 다음부터 최고층인 6층까지 주거 시설로 이용되고 있으며 1개 동으로 구성된 이 아파트는 전면부에 3개의 입구가 있다. 언덕 하단부에 설치된 첫번째 입구의 경우 2층 1가구와 그 외 전층을 출입할 수 있고, 중앙 입구는 2층 일부 가구만 출입이 가능하다. 이 외의 출입구는 3층 이상 출입이 가능하다. 성요셉 아파트는 초기 약현성당이 성당 성도들에게 아파트를 제공하기 위하여 시작한 사업이지만 이후 민간에 매각됐다. 서울시는 성요셉아파트의 특이한 건물형태로 인해 서울시 미래유산 아파트로 선정하였다. \n",
      "질문 : 성요셉아파트가 서울시 미래유산 아파트로 선정된 이유는 무엇인가? \n",
      "정답 : 특이한 건물형태\n",
      "예측 : 성요셉아파트의 특이한 건물형태\n",
      "----------------------------------------\n",
      "본문 : [CLS] 서울 중구 중림동 149번지 성요셉 아파트는 1971년에 약현성당이 지은 아파트이다. 형태는 선형식 아파트로서 언덕길을 따라 길게 휘어져 있다. 이로 인해 각각의 위치에 따라 저층이 달랐다. 저층부 1개층은 상가로 이용되고 있으며 저층부 다음부터 최고층인 6층까지 주거 시설로 이용되고 있으며 1개 동으로 구성된 이 아파트는 전면부에 3개의 입구가 있다. 언덕 하단부에 설치된 첫번째 입구의 경우 2층 1가구와 그 외 전층을 출입할 수 있고, 중앙 입구는 2층 일부 가구만 출입이 가능하다. 이 외의 출입구는 3층 이상 출입이 가능하다. 성요셉 아파트는 초기 약현성당이 성당 성도들에게 아파트를 제공하기 위하여 시작한 사업이지만 이후 민간에 매각됐다. 서울시는 성요셉아파트의 특이한 건물형태로 인해 서울시 미래유산 아파트로 선정하였다. \n",
      "질문 : 성요셉 아파트가 지어진 해는? \n",
      "정답 : 1971년\n",
      "예측 : 1971년\n",
      "----------------------------------------\n",
      "본문 : [CLS] 서울 중구 중림동 149번지 성요셉 아파트는 1971년에 약현성당이 지은 아파트이다. 형태는 선형식 아파트로서 언덕길을 따라 길게 휘어져 있다. 이로 인해 각각의 위치에 따라 저층이 달랐다. 저층부 1개층은 상가로 이용되고 있으며 저층부 다음부터 최고층인 6층까지 주거 시설로 이용되고 있으며 1개 동으로 구성된 이 아파트는 전면부에 3개의 입구가 있다. 언덕 하단부에 설치된 첫번째 입구의 경우 2층 1가구와 그 외 전층을 출입할 수 있고, 중앙 입구는 2층 일부 가구만 출입이 가능하다. 이 외의 출입구는 3층 이상 출입이 가능하다. 성요셉 아파트는 초기 약현성당이 성당 성도들에게 아파트를 제공하기 위하여 시작한 사업이지만 이후 민간에 매각됐다. 서울시는 성요셉아파트의 특이한 건물형태로 인해 서울시 미래유산 아파트로 선정하였다. \n",
      "질문 : 성요셉 아파트는 몇 층으로 구성된 아파트인가? \n",
      "정답 : 6층\n",
      "예측 : 6층\n",
      "----------------------------------------\n",
      "본문 : [CLS] 서울 중구 중림동 149번지 성요셉 아파트는 1971년에 약현성당이 지은 아파트이다. 형태는 선형식 아파트로서 언덕길을 따라 길게 휘어져 있다. 이로 인해 각각의 위치에 따라 저층이 달랐다. 저층부 1개층은 상가로 이용되고 있으며 저층부 다음부터 최고층인 6층까지 주거 시설로 이용되고 있으며 1개 동으로 구성된 이 아파트는 전면부에 3개의 입구가 있다. 언덕 하단부에 설치된 첫번째 입구의 경우 2층 1가구와 그 외 전층을 출입할 수 있고, 중앙 입구는 2층 일부 가구만 출입이 가능하다. 이 외의 출입구는 3층 이상 출입이 가능하다. 성요셉 아파트는 초기 약현성당이 성당 성도들에게 아파트를 제공하기 위하여 시작한 사업이지만 이후 민간에 매각됐다. 서울시는 성요셉아파트의 특이한 건물형태로 인해 서울시 미래유산 아파트로 선정하였다. \n",
      "질문 : 1개 동으로 구성된 성요셉 아파트는 전면부에 입구가 몇개가 있나? \n",
      "정답 : 3개\n",
      "예측 : 3개\n",
      "----------------------------------------\n",
      "본문 : [CLS] 서울 중구 중림동 149번지 성요셉 아파트는 1971년에 약현성당이 지은 아파트이다. 형태는 선형식 아파트로서 언덕길을 따라 길게 휘어져 있다. 이로 인해 각각의 위치에 따라 저층이 달랐다. 저층부 1개층은 상가로 이용되고 있으며 저층부 다음부터 최고층인 6층까지 주거 시설로 이용되고 있으며 1개 동으로 구성된 이 아파트는 전면부에 3개의 입구가 있다. 언덕 하단부에 설치된 첫번째 입구의 경우 2층 1가구와 그 외 전층을 출입할 수 있고, 중앙 입구는 2층 일부 가구만 출입이 가능하다. 이 외의 출입구는 3층 이상 출입이 가능하다. 성요셉 아파트는 초기 약현성당이 성당 성도들에게 아파트를 제공하기 위하여 시작한 사업이지만 이후 민간에 매각됐다. 서울시는 성요셉아파트의 특이한 건물형태로 인해 서울시 미래유산 아파트로 선정하였다. \n",
      "질문 : 1971년 약현성당이 지었으며 서울시 중구 중림동에 위치한 아파트 이름은? \n",
      "정답 : 성요셉 아파트\n",
      "예측 : 성요셉 아파트\n",
      "----------------------------------------\n",
      "본문 : [CLS] 서울 중구 중림동 149번지 성요셉 아파트는 1971년에 약현성당이 지은 아파트이다. 형태는 선형식 아파트로서 언덕길을 따라 길게 휘어져 있다. 이로 인해 각각의 위치에 따라 저층이 달랐다. 저층부 1개층은 상가로 이용되고 있으며 저층부 다음부터 최고층인 6층까지 주거 시설로 이용되고 있으며 1개 동으로 구성된 이 아파트는 전면부에 3개의 입구가 있다. 언덕 하단부에 설치된 첫번째 입구의 경우 2층 1가구와 그 외 전층을 출입할 수 있고, 중앙 입구는 2층 일부 가구만 출입이 가능하다. 이 외의 출입구는 3층 이상 출입이 가능하다. 성요셉 아파트는 초기 약현성당이 성당 성도들에게 아파트를 제공하기 위하여 시작한 사업이지만 이후 민간에 매각됐다. 서울시는 성요셉아파트의 특이한 건물형태로 인해 서울시 미래유산 아파트로 선정하였다. \n",
      "질문 : 성요셉 아파트의 저층부 1개층은 무엇으로 이용되고 있는가? \n",
      "정답 : 상가\n",
      "예측 : 상가\n",
      "----------------------------------------\n",
      "본문 : [CLS] 반포주공아파트는 1973년 대한주택공사가 건설한 대한민국 최초의 주공아파트 대단지이다. 22평 ~ 62평 3786가구로 지은 대단지로서 주공아파트가 강남과 더불어 대한민국을 \" 아파트공화국 \" 으로 만드는데 큰 역할을 하였다. 또한 국내 최초로 복층 설계를 도입하여 6층이나 1, 3, 5층만 현관을 설치하였고 나머지 2, 4, 6층은 실내에 설치한 계단을 통하여 올라갈수 있다. 또한 지역난방시설도 설치한 최신형 아파트였다. 이후 반포주공아파트는 1단지에 이어 2단지와 3단지까지 건축하여 분양하였다. 1단지 이후에 지어졌던 반포주공 2단지와 3단지는 현재 재개발로 인하여 철거되었으나 1단지는 재개발을 기다리고 있는 실정이다. 서울시는 국내 최초의 주공아파트라는 점에서 반포주공아파트 1개동을 마을 박물관으로 조성한다는 계획을 밝혔다. \n",
      "질문 : 1973년에 한국 최초로 건설된 주공아파트 대단지는 무엇인가? \n",
      "정답 : 반포주공아파트\n",
      "예측 : 반포주공아파트\n",
      "----------------------------------------\n",
      "본문 : [CLS] 반포주공아파트는 1973년 대한주택공사가 건설한 대한민국 최초의 주공아파트 대단지이다. 22평 ~ 62평 3786가구로 지은 대단지로서 주공아파트가 강남과 더불어 대한민국을 \" 아파트공화국 \" 으로 만드는데 큰 역할을 하였다. 또한 국내 최초로 복층 설계를 도입하여 6층이나 1, 3, 5층만 현관을 설치하였고 나머지 2, 4, 6층은 실내에 설치한 계단을 통하여 올라갈수 있다. 또한 지역난방시설도 설치한 최신형 아파트였다. 이후 반포주공아파트는 1단지에 이어 2단지와 3단지까지 건축하여 분양하였다. 1단지 이후에 지어졌던 반포주공 2단지와 3단지는 현재 재개발로 인하여 철거되었으나 1단지는 재개발을 기다리고 있는 실정이다. 서울시는 국내 최초의 주공아파트라는 점에서 반포주공아파트 1개동을 마을 박물관으로 조성한다는 계획을 밝혔다. \n",
      "질문 : 반포주공아파트가 국내 최초로 도입한 것은 무엇인가? \n",
      "정답 : 복층 설계\n",
      "예측 : 복층 설계\n",
      "----------------------------------------\n",
      "본문 : [CLS] 반포주공아파트는 1973년 대한주택공사가 건설한 대한민국 최초의 주공아파트 대단지이다. 22평 ~ 62평 3786가구로 지은 대단지로서 주공아파트가 강남과 더불어 대한민국을 \" 아파트공화국 \" 으로 만드는데 큰 역할을 하였다. 또한 국내 최초로 복층 설계를 도입하여 6층이나 1, 3, 5층만 현관을 설치하였고 나머지 2, 4, 6층은 실내에 설치한 계단을 통하여 올라갈수 있다. 또한 지역난방시설도 설치한 최신형 아파트였다. 이후 반포주공아파트는 1단지에 이어 2단지와 3단지까지 건축하여 분양하였다. 1단지 이후에 지어졌던 반포주공 2단지와 3단지는 현재 재개발로 인하여 철거되었으나 1단지는 재개발을 기다리고 있는 실정이다. 서울시는 국내 최초의 주공아파트라는 점에서 반포주공아파트 1개동을 마을 박물관으로 조성한다는 계획을 밝혔다. \n",
      "질문 : 한국 최초의 주공아파트 대단지인 반포주공아파트를 건설한 회사는? \n",
      "정답 : 대한주택공사\n",
      "예측 : 대한주택공사\n",
      "----------------------------------------\n",
      "본문 : [CLS] 반포주공아파트는 1973년 대한주택공사가 건설한 대한민국 최초의 주공아파트 대단지이다. 22평 ~ 62평 3786가구로 지은 대단지로서 주공아파트가 강남과 더불어 대한민국을 \" 아파트공화국 \" 으로 만드는데 큰 역할을 하였다. 또한 국내 최초로 복층 설계를 도입하여 6층이나 1, 3, 5층만 현관을 설치하였고 나머지 2, 4, 6층은 실내에 설치한 계단을 통하여 올라갈수 있다. 또한 지역난방시설도 설치한 최신형 아파트였다. 이후 반포주공아파트는 1단지에 이어 2단지와 3단지까지 건축하여 분양하였다. 1단지 이후에 지어졌던 반포주공 2단지와 3단지는 현재 재개발로 인하여 철거되었으나 1단지는 재개발을 기다리고 있는 실정이다. 서울시는 국내 최초의 주공아파트라는 점에서 반포주공아파트 1개동을 마을 박물관으로 조성한다는 계획을 밝혔다. \n",
      "질문 : 반포주공아파트의 최대 평수는? \n",
      "정답 : 62평\n",
      "예측 : 22평 ~ 62평\n",
      "----------------------------------------\n",
      "본문 : [CLS] 반포주공아파트는 1973년 대한주택공사가 건설한 대한민국 최초의 주공아파트 대단지이다. 22평 ~ 62평 3786가구로 지은 대단지로서 주공아파트가 강남과 더불어 대한민국을 \" 아파트공화국 \" 으로 만드는데 큰 역할을 하였다. 또한 국내 최초로 복층 설계를 도입하여 6층이나 1, 3, 5층만 현관을 설치하였고 나머지 2, 4, 6층은 실내에 설치한 계단을 통하여 올라갈수 있다. 또한 지역난방시설도 설치한 최신형 아파트였다. 이후 반포주공아파트는 1단지에 이어 2단지와 3단지까지 건축하여 분양하였다. 1단지 이후에 지어졌던 반포주공 2단지와 3단지는 현재 재개발로 인하여 철거되었으나 1단지는 재개발을 기다리고 있는 실정이다. 서울시는 국내 최초의 주공아파트라는 점에서 반포주공아파트 1개동을 마을 박물관으로 조성한다는 계획을 밝혔다. \n",
      "질문 : 반포주공아파트는 몇가구로 구성되었나? \n",
      "정답 : 3786가구\n",
      "예측 : 3786가구\n",
      "----------------------------------------\n",
      "본문 : [CLS] 반포주공아파트는 1973년 대한주택공사가 건설한 대한민국 최초의 주공아파트 대단지이다. 22평 ~ 62평 3786가구로 지은 대단지로서 주공아파트가 강남과 더불어 대한민국을 \" 아파트공화국 \" 으로 만드는데 큰 역할을 하였다. 또한 국내 최초로 복층 설계를 도입하여 6층이나 1, 3, 5층만 현관을 설치하였고 나머지 2, 4, 6층은 실내에 설치한 계단을 통하여 올라갈수 있다. 또한 지역난방시설도 설치한 최신형 아파트였다. 이후 반포주공아파트는 1단지에 이어 2단지와 3단지까지 건축하여 분양하였다. 1단지 이후에 지어졌던 반포주공 2단지와 3단지는 현재 재개발로 인하여 철거되었으나 1단지는 재개발을 기다리고 있는 실정이다. 서울시는 국내 최초의 주공아파트라는 점에서 반포주공아파트 1개동을 마을 박물관으로 조성한다는 계획을 밝혔다. \n",
      "질문 : 1973년 대한주택공사가 건설한 대한민국 최초의 대단지 주공아파트 이름은? \n",
      "정답 : 반포주공아파트\n",
      "예측 : 반포주공아파트\n",
      "----------------------------------------\n",
      "본문 : [CLS] 반포주공아파트는 1973년 대한주택공사가 건설한 대한민국 최초의 주공아파트 대단지이다. 22평 ~ 62평 3786가구로 지은 대단지로서 주공아파트가 강남과 더불어 대한민국을 \" 아파트공화국 \" 으로 만드는데 큰 역할을 하였다. 또한 국내 최초로 복층 설계를 도입하여 6층이나 1, 3, 5층만 현관을 설치하였고 나머지 2, 4, 6층은 실내에 설치한 계단을 통하여 올라갈수 있다. 또한 지역난방시설도 설치한 최신형 아파트였다. 이후 반포주공아파트는 1단지에 이어 2단지와 3단지까지 건축하여 분양하였다. 1단지 이후에 지어졌던 반포주공 2단지와 3단지는 현재 재개발로 인하여 철거되었으나 1단지는 재개발을 기다리고 있는 실정이다. 서울시는 국내 최초의 주공아파트라는 점에서 반포주공아파트 1개동을 마을 박물관으로 조성한다는 계획을 밝혔다. \n",
      "질문 : 반포주공아파트 철거 후 국내 최초의 주공아파트라는 점에서 서울시는 반포주공아파트 1개동을 무엇으로 조성할 계획인가? \n",
      "정답 : 마을 박물관\n",
      "예측 : 마을 박물관\n",
      "----------------------------------------\n",
      "본문 : [CLS] 개포주공아파트는 1981년 현대건설이 지은 주공아파트이다. 또한 전두환 정권이 도입하였던 택지개발촉진법의 첫 사례이기도 하다. 1980년대 당시 강남개발로 인해 사람들이 강남에 몰리자 정부는 주택난을 해소하기 위하여 주공아파트를 여러 곳에 짓기로 결심한다. 이곳 중 잘 알려진 곳이 개포주공아파트와 개포시영아파트이다. 개포주공아파트는 1단지에서 7단지까지 지어졌으며 현재 재개발에 들어갈 예정이다. 서울시는 이전부터 재개발계획이 있었으나 여러 문제로 인해 미루어지다 최근 들어서 조합이 설립되는 등 재개발시행에 본격적으로 들어갔다. 하지만 서울시의 층수제한에 많은 논란이 일면서 갈등이 있었으나 현재는 용적률 300 % 로 동의가 된 상태로 이제 최종허가와 보상만 하면 되는 실정이다. \n",
      "질문 : 전두화정권이 도입하였던 택지개발촉진법의 첫 사례이자 현대건설이 지은 주공아파트의 이름은? \n",
      "정답 : 개포주공아파트\n",
      "예측 : 개포주공아파트\n",
      "----------------------------------------\n",
      "본문 : [CLS] 개포주공아파트는 1981년 현대건설이 지은 주공아파트이다. 또한 전두환 정권이 도입하였던 택지개발촉진법의 첫 사례이기도 하다. 1980년대 당시 강남개발로 인해 사람들이 강남에 몰리자 정부는 주택난을 해소하기 위하여 주공아파트를 여러 곳에 짓기로 결심한다. 이곳 중 잘 알려진 곳이 개포주공아파트와 개포시영아파트이다. 개포주공아파트는 1단지에서 7단지까지 지어졌으며 현재 재개발에 들어갈 예정이다. 서울시는 이전부터 재개발계획이 있었으나 여러 문제로 인해 미루어지다 최근 들어서 조합이 설립되는 등 재개발시행에 본격적으로 들어갔다. 하지만 서울시의 층수제한에 많은 논란이 일면서 갈등이 있었으나 현재는 용적률 300 % 로 동의가 된 상태로 이제 최종허가와 보상만 하면 되는 실정이다. \n",
      "질문 : 개포주공아파트가 재개발로 서울시와 갈등을 빚은 이유는? \n",
      "정답 : 층수제한\n",
      "예측 : 층수제한\n",
      "----------------------------------------\n",
      "본문 : [CLS] 개포주공아파트는 1981년 현대건설이 지은 주공아파트이다. 또한 전두환 정권이 도입하였던 택지개발촉진법의 첫 사례이기도 하다. 1980년대 당시 강남개발로 인해 사람들이 강남에 몰리자 정부는 주택난을 해소하기 위하여 주공아파트를 여러 곳에 짓기로 결심한다. 이곳 중 잘 알려진 곳이 개포주공아파트와 개포시영아파트이다. 개포주공아파트는 1단지에서 7단지까지 지어졌으며 현재 재개발에 들어갈 예정이다. 서울시는 이전부터 재개발계획이 있었으나 여러 문제로 인해 미루어지다 최근 들어서 조합이 설립되는 등 재개발시행에 본격적으로 들어갔다. 하지만 서울시의 층수제한에 많은 논란이 일면서 갈등이 있었으나 현재는 용적률 300 % 로 동의가 된 상태로 이제 최종허가와 보상만 하면 되는 실정이다. \n",
      "질문 : 개포주공아파트가 지어진 해는? \n",
      "정답 : 1981년\n",
      "예측 : 1981년\n",
      "----------------------------------------\n",
      "본문 : [CLS] 개포주공아파트는 1981년 현대건설이 지은 주공아파트이다. 또한 전두환 정권이 도입하였던 택지개발촉진법의 첫 사례이기도 하다. 1980년대 당시 강남개발로 인해 사람들이 강남에 몰리자 정부는 주택난을 해소하기 위하여 주공아파트를 여러 곳에 짓기로 결심한다. 이곳 중 잘 알려진 곳이 개포주공아파트와 개포시영아파트이다. 개포주공아파트는 1단지에서 7단지까지 지어졌으며 현재 재개발에 들어갈 예정이다. 서울시는 이전부터 재개발계획이 있었으나 여러 문제로 인해 미루어지다 최근 들어서 조합이 설립되는 등 재개발시행에 본격적으로 들어갔다. 하지만 서울시의 층수제한에 많은 논란이 일면서 갈등이 있었으나 현재는 용적률 300 % 로 동의가 된 상태로 이제 최종허가와 보상만 하면 되는 실정이다. \n",
      "질문 : 개포주공아파트의 시공사는? \n",
      "정답 : 현대건설\n",
      "예측 : 현대건설\n",
      "----------------------------------------\n",
      "본문 : [CLS] 개포주공아파트는 1981년 현대건설이 지은 주공아파트이다. 또한 전두환 정권이 도입하였던 택지개발촉진법의 첫 사례이기도 하다. 1980년대 당시 강남개발로 인해 사람들이 강남에 몰리자 정부는 주택난을 해소하기 위하여 주공아파트를 여러 곳에 짓기로 결심한다. 이곳 중 잘 알려진 곳이 개포주공아파트와 개포시영아파트이다. 개포주공아파트는 1단지에서 7단지까지 지어졌으며 현재 재개발에 들어갈 예정이다. 서울시는 이전부터 재개발계획이 있었으나 여러 문제로 인해 미루어지다 최근 들어서 조합이 설립되는 등 재개발시행에 본격적으로 들어갔다. 하지만 서울시의 층수제한에 많은 논란이 일면서 갈등이 있었으나 현재는 용적률 300 % 로 동의가 된 상태로 이제 최종허가와 보상만 하면 되는 실정이다. \n",
      "질문 : 개포주공아파트는 몇 단지로 이루어져 있나? \n",
      "정답 : 7단지\n",
      "예측 : 7단지\n",
      "----------------------------------------\n",
      "본문 : [CLS] 개포주공아파트는 1981년 현대건설이 지은 주공아파트이다. 또한 전두환 정권이 도입하였던 택지개발촉진법의 첫 사례이기도 하다. 1980년대 당시 강남개발로 인해 사람들이 강남에 몰리자 정부는 주택난을 해소하기 위하여 주공아파트를 여러 곳에 짓기로 결심한다. 이곳 중 잘 알려진 곳이 개포주공아파트와 개포시영아파트이다. 개포주공아파트는 1단지에서 7단지까지 지어졌으며 현재 재개발에 들어갈 예정이다. 서울시는 이전부터 재개발계획이 있었으나 여러 문제로 인해 미루어지다 최근 들어서 조합이 설립되는 등 재개발시행에 본격적으로 들어갔다. 하지만 서울시의 층수제한에 많은 논란이 일면서 갈등이 있었으나 현재는 용적률 300 % 로 동의가 된 상태로 이제 최종허가와 보상만 하면 되는 실정이다. \n",
      "질문 : 1981년 현대건설이 지은 주공아파트 이름은? \n",
      "정답 : 개포주공아파트\n",
      "예측 : 개포주공아파트\n",
      "----------------------------------------\n",
      "본문 : [CLS] 개포주공아파트는 1981년 현대건설이 지은 주공아파트이다. 또한 전두환 정권이 도입하였던 택지개발촉진법의 첫 사례이기도 하다. 1980년대 당시 강남개발로 인해 사람들이 강남에 몰리자 정부는 주택난을 해소하기 위하여 주공아파트를 여러 곳에 짓기로 결심한다. 이곳 중 잘 알려진 곳이 개포주공아파트와 개포시영아파트이다. 개포주공아파트는 1단지에서 7단지까지 지어졌으며 현재 재개발에 들어갈 예정이다. 서울시는 이전부터 재개발계획이 있었으나 여러 문제로 인해 미루어지다 최근 들어서 조합이 설립되는 등 재개발시행에 본격적으로 들어갔다. 하지만 서울시의 층수제한에 많은 논란이 일면서 갈등이 있었으나 현재는 용적률 300 % 로 동의가 된 상태로 이제 최종허가와 보상만 하면 되는 실정이다. \n",
      "질문 : 개포주공아파트는 몇 개의 단지로 이루어져 있나? \n",
      "정답 : 7단지\n",
      "예측 : 주공아파트\n",
      "----------------------------------------\n",
      "본문 : [CLS] 압구정 현대아파트는 1976년 현대산업개발에서 건설한 아파트단지이다. 강남개발이 진행되면서 강남구는 인구가 집중되면서 주거시설이 늘고 도시가 팽창하기 시작했다. 지금은 ‘ 강남 ’ 이라고 불리는 영동지구를 중심으로 도시 성장과 변화의 물결이 한강변을 따라 퍼져나갔다. 아파트는 고도의 경제성장과 공간 팽창을 널리 알리는 상징으로 작용했다. 엘리베이터와 수세식 화장실을 갖춘 고층 아파트는 성장의 흔적을 압축적으로 보여줬다. 1969년 만든 한남대교와 1970년 개통한 경부고속도로는 영동지구 개발과 아파트 건설의 속도를 더하여 현대산업개발에게 아파트 건설을 할 수 있는 자본을 주었다. 1975년 강남구가 탄생했고, 1976년에는 반포동 압구정동 청담동 도곡동이 ‘ 아파트 지구 ’ 로 지정됐다. 압구정동 현대아파트는 혁신적인 디자인이나 고급스러운 시설을 도입한 건물이 아니지만 이곳이 한국에서 손꼽히는 고급 아파트 단지로 자리 잡은 것은 1978년 7월의 특혜분양 사건 때문이었다. 당시 건설사는 ‘ 50가구 이상의 주택을 건설하는 사업자는 공개 분양해야 한다 ’ 는 주택건설촉진법을 무시하고 건설한 아파트의 상당수를 정부 관리, 국회의원, 대학교수 등 고위급 인사들에게 주변 집값의 50 % 수준으로 특혜 분양했다. 분양과 동시에 약 5000만원의 프리미엄이 형성됐다. 분양가는 3. 3m²당 44만 원. 5000만 원은 당시 현대아파트 115m² 1채의 분양가에 해당했다. 160m² 이상의 대형 아파트를 국내에 처음으로 선보인 이 아파트 이후 건설회사의 이름을 따른 아파트 이름이 유행처럼 늘어났다. 1980년대 후반에는 현대아파트를 중심으로 압구정동 고소득층 주거지에 커다란 문화적 변화의 물결이 일었다. 고소득층 아파트의 상징이 된 압구정동 현대아파트는 30여 년이 흐른 지금도 국내에서 가장 비싼 아파트 가운데 하나다. 서울시의 한강변 정비 계획과 강변 아파트 촉진 계획에 따라 재건축 논의가 이루어지고 있으나 아직 구체적인 방안은 나오고 있지는 않다. \n",
      "질문 : 50가구 이상의 주택을 건설하는 사업자는 공개분양해야한다는 법은 무엇인가? \n",
      "정답 : 주택건설촉진법\n",
      "예측 : 주택건설촉진법\n",
      "----------------------------------------\n",
      "본문 : [CLS] 압구정 현대아파트는 1976년 현대산업개발에서 건설한 아파트단지이다. 강남개발이 진행되면서 강남구는 인구가 집중되면서 주거시설이 늘고 도시가 팽창하기 시작했다. 지금은 ‘ 강남 ’ 이라고 불리는 영동지구를 중심으로 도시 성장과 변화의 물결이 한강변을 따라 퍼져나갔다. 아파트는 고도의 경제성장과 공간 팽창을 널리 알리는 상징으로 작용했다. 엘리베이터와 수세식 화장실을 갖춘 고층 아파트는 성장의 흔적을 압축적으로 보여줬다. 1969년 만든 한남대교와 1970년 개통한 경부고속도로는 영동지구 개발과 아파트 건설의 속도를 더하여 현대산업개발에게 아파트 건설을 할 수 있는 자본을 주었다. 1975년 강남구가 탄생했고, 1976년에는 반포동 압구정동 청담동 도곡동이 ‘ 아파트 지구 ’ 로 지정됐다. 압구정동 현대아파트는 혁신적인 디자인이나 고급스러운 시설을 도입한 건물이 아니지만 이곳이 한국에서 손꼽히는 고급 아파트 단지로 자리 잡은 것은 1978년 7월의 특혜분양 사건 때문이었다. 당시 건설사는 ‘ 50가구 이상의 주택을 건설하는 사업자는 공개 분양해야 한다 ’ 는 주택건설촉진법을 무시하고 건설한 아파트의 상당수를 정부 관리, 국회의원, 대학교수 등 고위급 인사들에게 주변 집값의 50 % 수준으로 특혜 분양했다. 분양과 동시에 약 5000만원의 프리미엄이 형성됐다. 분양가는 3. 3m²당 44만 원. 5000만 원은 당시 현대아파트 115m² 1채의 분양가에 해당했다. 160m² 이상의 대형 아파트를 국내에 처음으로 선보인 이 아파트 이후 건설회사의 이름을 따른 아파트 이름이 유행처럼 늘어났다. 1980년대 후반에는 현대아파트를 중심으로 압구정동 고소득층 주거지에 커다란 문화적 변화의 물결이 일었다. 고소득층 아파트의 상징이 된 압구정동 현대아파트는 30여 년이 흐른 지금도 국내에서 가장 비싼 아파트 가운데 하나다. 서울시의 한강변 정비 계획과 강변 아파트 촉진 계획에 따라 재건축 논의가 이루어지고 있으나 아직 구체적인 방안은 나오고 있지는 않다. \n",
      "질문 : 1976년 현대산업개발에서 건설하고 현재 국내에서 가장 비싼 아파트 가운데 하나인 아파트의 이름은 무엇인가? \n",
      "정답 : 압구정 현대아파트\n",
      "예측 : 현대아파트\n",
      "----------------------------------------\n",
      "본문 : [CLS] 압구정 현대아파트는 1976년 현대산업개발에서 건설한 아파트단지이다. 강남개발이 진행되면서 강남구는 인구가 집중되면서 주거시설이 늘고 도시가 팽창하기 시작했다. 지금은 ‘ 강남 ’ 이라고 불리는 영동지구를 중심으로 도시 성장과 변화의 물결이 한강변을 따라 퍼져나갔다. 아파트는 고도의 경제성장과 공간 팽창을 널리 알리는 상징으로 작용했다. 엘리베이터와 수세식 화장실을 갖춘 고층 아파트는 성장의 흔적을 압축적으로 보여줬다. 1969년 만든 한남대교와 1970년 개통한 경부고속도로는 영동지구 개발과 아파트 건설의 속도를 더하여 현대산업개발에게 아파트 건설을 할 수 있는 자본을 주었다. 1975년 강남구가 탄생했고, 1976년에는 반포동 압구정동 청담동 도곡동이 ‘ 아파트 지구 ’ 로 지정됐다. 압구정동 현대아파트는 혁신적인 디자인이나 고급스러운 시설을 도입한 건물이 아니지만 이곳이 한국에서 손꼽히는 고급 아파트 단지로 자리 잡은 것은 1978년 7월의 특혜분양 사건 때문이었다. 당시 건설사는 ‘ 50가구 이상의 주택을 건설하는 사업자는 공개 분양해야 한다 ’ 는 주택건설촉진법을 무시하고 건설한 아파트의 상당수를 정부 관리, 국회의원, 대학교수 등 고위급 인사들에게 주변 집값의 50 % 수준으로 특혜 분양했다. 분양과 동시에 약 5000만원의 프리미엄이 형성됐다. 분양가는 3. 3m²당 44만 원. 5000만 원은 당시 현대아파트 115m² 1채의 분양가에 해당했다. 160m² 이상의 대형 아파트를 국내에 처음으로 선보인 이 아파트 이후 건설회사의 이름을 따른 아파트 이름이 유행처럼 늘어났다. 1980년대 후반에는 현대아파트를 중심으로 압구정동 고소득층 주거지에 커다란 문화적 변화의 물결이 일었다. 고소득층 아파트의 상징이 된 압구정동 현대아파트는 30여 년이 흐른 지금도 국내에서 가장 비싼 아파트 가운데 하나다. 서울시의 한강변 정비 계획과 강변 아파트 촉진 계획에 따라 재건축 논의가 이루어지고 있으나 아직 구체적인 방안은 나오고 있지는 않다. \n",
      "질문 : 압구정 현대아파트를 건설한 회사는? \n",
      "정답 : 현대산업개발\n",
      "예측 : 현대산업개발\n",
      "----------------------------------------\n",
      "본문 : [CLS] 압구정 현대아파트는 1976년 현대산업개발에서 건설한 아파트단지이다. 강남개발이 진행되면서 강남구는 인구가 집중되면서 주거시설이 늘고 도시가 팽창하기 시작했다. 지금은 ‘ 강남 ’ 이라고 불리는 영동지구를 중심으로 도시 성장과 변화의 물결이 한강변을 따라 퍼져나갔다. 아파트는 고도의 경제성장과 공간 팽창을 널리 알리는 상징으로 작용했다. 엘리베이터와 수세식 화장실을 갖춘 고층 아파트는 성장의 흔적을 압축적으로 보여줬다. 1969년 만든 한남대교와 1970년 개통한 경부고속도로는 영동지구 개발과 아파트 건설의 속도를 더하여 현대산업개발에게 아파트 건설을 할 수 있는 자본을 주었다. 1975년 강남구가 탄생했고, 1976년에는 반포동 압구정동 청담동 도곡동이 ‘ 아파트 지구 ’ 로 지정됐다. 압구정동 현대아파트는 혁신적인 디자인이나 고급스러운 시설을 도입한 건물이 아니지만 이곳이 한국에서 손꼽히는 고급 아파트 단지로 자리 잡은 것은 1978년 7월의 특혜분양 사건 때문이었다. 당시 건설사는 ‘ 50가구 이상의 주택을 건설하는 사업자는 공개 분양해야 한다 ’ 는 주택건설촉진법을 무시하고 건설한 아파트의 상당수를 정부 관리, 국회의원, 대학교수 등 고위급 인사들에게 주변 집값의 50 % 수준으로 특혜 분양했다. 분양과 동시에 약 5000만원의 프리미엄이 형성됐다. 분양가는 3. 3m²당 44만 원. 5000만 원은 당시 현대아파트 115m² 1채의 분양가에 해당했다. 160m² 이상의 대형 아파트를 국내에 처음으로 선보인 이 아파트 이후 건설회사의 이름을 따른 아파트 이름이 유행처럼 늘어났다. 1980년대 후반에는 현대아파트를 중심으로 압구정동 고소득층 주거지에 커다란 문화적 변화의 물결이 일었다. 고소득층 아파트의 상징이 된 압구정동 현대아파트는 30여 년이 흐른 지금도 국내에서 가장 비싼 아파트 가운데 하나다. 서울시의 한강변 정비 계획과 강변 아파트 촉진 계획에 따라 재건축 논의가 이루어지고 있으나 아직 구체적인 방안은 나오고 있지는 않다. \n",
      "질문 : 한남대교가 만들어진 해는? \n",
      "정답 : 1969년\n",
      "예측 : 1969년\n",
      "----------------------------------------\n",
      "본문 : [CLS] 압구정 현대아파트는 1976년 현대산업개발에서 건설한 아파트단지이다. 강남개발이 진행되면서 강남구는 인구가 집중되면서 주거시설이 늘고 도시가 팽창하기 시작했다. 지금은 ‘ 강남 ’ 이라고 불리는 영동지구를 중심으로 도시 성장과 변화의 물결이 한강변을 따라 퍼져나갔다. 아파트는 고도의 경제성장과 공간 팽창을 널리 알리는 상징으로 작용했다. 엘리베이터와 수세식 화장실을 갖춘 고층 아파트는 성장의 흔적을 압축적으로 보여줬다. 1969년 만든 한남대교와 1970년 개통한 경부고속도로는 영동지구 개발과 아파트 건설의 속도를 더하여 현대산업개발에게 아파트 건설을 할 수 있는 자본을 주었다. 1975년 강남구가 탄생했고, 1976년에는 반포동 압구정동 청담동 도곡동이 ‘ 아파트 지구 ’ 로 지정됐다. 압구정동 현대아파트는 혁신적인 디자인이나 고급스러운 시설을 도입한 건물이 아니지만 이곳이 한국에서 손꼽히는 고급 아파트 단지로 자리 잡은 것은 1978년 7월의 특혜분양 사건 때문이었다. 당시 건설사는 ‘ 50가구 이상의 주택을 건설하는 사업자는 공개 분양해야 한다 ’ 는 주택건설촉진법을 무시하고 건설한 아파트의 상당수를 정부 관리, 국회의원, 대학교수 등 고위급 인사들에게 주변 집값의 50 % 수준으로 특혜 분양했다. 분양과 동시에 약 5000만원의 프리미엄이 형성됐다. 분양가는 3. 3m²당 44만 원. 5000만 원은 당시 현대아파트 115m² 1채의 분양가에 해당했다. 160m² 이상의 대형 아파트를 국내에 처음으로 선보인 이 아파트 이후 건설회사의 이름을 따른 아파트 이름이 유행처럼 늘어났다. 1980년대 후반에는 현대아파트를 중심으로 압구정동 고소득층 주거지에 커다란 문화적 변화의 물결이 일었다. 고소득층 아파트의 상징이 된 압구정동 현대아파트는 30여 년이 흐른 지금도 국내에서 가장 비싼 아파트 가운데 하나다. 서울시의 한강변 정비 계획과 강변 아파트 촉진 계획에 따라 재건축 논의가 이루어지고 있으나 아직 구체적인 방안은 나오고 있지는 않다. \n",
      "질문 : 경부고속도로가 개통된 해는? \n",
      "정답 : 1970년\n",
      "예측 : 1970년\n",
      "----------------------------------------\n",
      "본문 : [CLS] 압구정 현대아파트는 1976년 현대산업개발에서 건설한 아파트단지이다. 강남개발이 진행되면서 강남구는 인구가 집중되면서 주거시설이 늘고 도시가 팽창하기 시작했다. 지금은 ‘ 강남 ’ 이라고 불리는 영동지구를 중심으로 도시 성장과 변화의 물결이 한강변을 따라 퍼져나갔다. 아파트는 고도의 경제성장과 공간 팽창을 널리 알리는 상징으로 작용했다. 엘리베이터와 수세식 화장실을 갖춘 고층 아파트는 성장의 흔적을 압축적으로 보여줬다. 1969년 만든 한남대교와 1970년 개통한 경부고속도로는 영동지구 개발과 아파트 건설의 속도를 더하여 현대산업개발에게 아파트 건설을 할 수 있는 자본을 주었다. 1975년 강남구가 탄생했고, 1976년에는 반포동 압구정동 청담동 도곡동이 ‘ 아파트 지구 ’ 로 지정됐다. 압구정동 현대아파트는 혁신적인 디자인이나 고급스러운 시설을 도입한 건물이 아니지만 이곳이 한국에서 손꼽히는 고급 아파트 단지로 자리 잡은 것은 1978년 7월의 특혜분양 사건 때문이었다. 당시 건설사는 ‘ 50가구 이상의 주택을 건설하는 사업자는 공개 분양해야 한다 ’ 는 주택건설촉진법을 무시하고 건설한 아파트의 상당수를 정부 관리, 국회의원, 대학교수 등 고위급 인사들에게 주변 집값의 50 % 수준으로 특혜 분양했다. 분양과 동시에 약 5000만원의 프리미엄이 형성됐다. 분양가는 3. 3m²당 44만 원. 5000만 원은 당시 현대아파트 115m² 1채의 분양가에 해당했다. 160m² 이상의 대형 아파트를 국내에 처음으로 선보인 이 아파트 이후 건설회사의 이름을 따른 아파트 이름이 유행처럼 늘어났다. 1980년대 후반에는 현대아파트를 중심으로 압구정동 고소득층 주거지에 커다란 문화적 변화의 물결이 일었다. 고소득층 아파트의 상징이 된 압구정동 현대아파트는 30여 년이 흐른 지금도 국내에서 가장 비싼 아파트 가운데 하나다. 서울시의 한강변 정비 계획과 강변 아파트 촉진 계획에 따라 재건축 논의가 이루어지고 있으나 아직 구체적인 방안은 나오고 있지는 않다. \n",
      "질문 : 1976년 현대산업개발에서 건설한 아파트단지 이름은? \n",
      "정답 : 압구정 현대아파트\n",
      "예측 : 압구정 현대아파트\n",
      "----------------------------------------\n",
      "본문 : [CLS] 압구정 현대아파트는 1976년 현대산업개발에서 건설한 아파트단지이다. 강남개발이 진행되면서 강남구는 인구가 집중되면서 주거시설이 늘고 도시가 팽창하기 시작했다. 지금은 ‘ 강남 ’ 이라고 불리는 영동지구를 중심으로 도시 성장과 변화의 물결이 한강변을 따라 퍼져나갔다. 아파트는 고도의 경제성장과 공간 팽창을 널리 알리는 상징으로 작용했다. 엘리베이터와 수세식 화장실을 갖춘 고층 아파트는 성장의 흔적을 압축적으로 보여줬다. 1969년 만든 한남대교와 1970년 개통한 경부고속도로는 영동지구 개발과 아파트 건설의 속도를 더하여 현대산업개발에게 아파트 건설을 할 수 있는 자본을 주었다. 1975년 강남구가 탄생했고, 1976년에는 반포동 압구정동 청담동 도곡동이 ‘ 아파트 지구 ’ 로 지정됐다. 압구정동 현대아파트는 혁신적인 디자인이나 고급스러운 시설을 도입한 건물이 아니지만 이곳이 한국에서 손꼽히는 고급 아파트 단지로 자리 잡은 것은 1978년 7월의 특혜분양 사건 때문이었다. 당시 건설사는 ‘ 50가구 이상의 주택을 건설하는 사업자는 공개 분양해야 한다 ’ 는 주택건설촉진법을 무시하고 건설한 아파트의 상당수를 정부 관리, 국회의원, 대학교수 등 고위급 인사들에게 주변 집값의 50 % 수준으로 특혜 분양했다. 분양과 동시에 약 5000만원의 프리미엄이 형성됐다. 분양가는 3. 3m²당 44만 원. 5000만 원은 당시 현대아파트 115m² 1채의 분양가에 해당했다. 160m² 이상의 대형 아파트를 국내에 처음으로 선보인 이 아파트 이후 건설회사의 이름을 따른 아파트 이름이 유행처럼 늘어났다. 1980년대 후반에는 현대아파트를 중심으로 압구정동 고소득층 주거지에 커다란 문화적 변화의 물결이 일었다. 고소득층 아파트의 상징이 된 압구정동 현대아파트는 30여 년이 흐른 지금도 국내에서 가장 비싼 아파트 가운데 하나다. 서울시의 한강변 정비 계획과 강변 아파트 촉진 계획에 따라 재건축 논의가 이루어지고 있으나 아직 구체적인 방안은 나오고 있지는 않다. \n",
      "질문 : 압구정 현대아파트가 한국에서 손꼽히는 고급 아파트 단지로 자리잡게 된 사건 이름은? \n",
      "정답 : 특혜분양 사건\n",
      "예측 : 특혜분양 사건\n",
      "----------------------------------------\n",
      "본문 : [CLS] 국토교통부는 2015년까지 100년 주택인 장수명 아파트 인증제 도입을 추진한다고 보도했다. 유럽이나 미국의 경우, 100년된 주택을 쉽게 [UNK] 있지만 고도의 성장에 있어 40년 넘은 주택조차 [UNK] 어려운것에 대한 조치이다. 서울시는 최근 근현대 문물 보존 프로잭트인 미래문화유산화의 일부보존 대상으로 아파트 10군데를 후보로 지정하였다. 가장오래된 충정아파트 ( 1933 ), 동대문아파트 ( 1965 ) 을 비롯해 정동아파트 ( 1965 ), 힐탑아파트 ( 1967 ), 회현제2시민아파트 ( 1970 ), 여의도시범아파트 ( 1971 ), 성요셉아파트 ( 1971 ), 서소문아파트 ( 1972 ), 반포본동아파트 ( 1973 ), 개포주공1단지아파트 ( 1981 ) 가 선정되었으며 소유자의 동의를 받고 지정될 예정이다. \n",
      "질문 : 서울시가 근현대 문물 보존 프로젝트로 지정한 아파트는 몇군데인가? \n",
      "정답 : 10군데\n",
      "예측 : 10군데\n",
      "----------------------------------------\n",
      "본문 : [CLS] 국토교통부는 2015년까지 100년 주택인 장수명 아파트 인증제 도입을 추진한다고 보도했다. 유럽이나 미국의 경우, 100년된 주택을 쉽게 [UNK] 있지만 고도의 성장에 있어 40년 넘은 주택조차 [UNK] 어려운것에 대한 조치이다. 서울시는 최근 근현대 문물 보존 프로잭트인 미래문화유산화의 일부보존 대상으로 아파트 10군데를 후보로 지정하였다. 가장오래된 충정아파트 ( 1933 ), 동대문아파트 ( 1965 ) 을 비롯해 정동아파트 ( 1965 ), 힐탑아파트 ( 1967 ), 회현제2시민아파트 ( 1970 ), 여의도시범아파트 ( 1971 ), 성요셉아파트 ( 1971 ), 서소문아파트 ( 1972 ), 반포본동아파트 ( 1973 ), 개포주공1단지아파트 ( 1981 ) 가 선정되었으며 소유자의 동의를 받고 지정될 예정이다. \n",
      "질문 : 개포주공1단지아파트가 세워진 연도는? \n",
      "정답 : 1981\n",
      "예측 : 1981\n",
      "----------------------------------------\n",
      "본문 : [CLS] 국토교통부는 2015년까지 100년 주택인 장수명 아파트 인증제 도입을 추진한다고 보도했다. 유럽이나 미국의 경우, 100년된 주택을 쉽게 [UNK] 있지만 고도의 성장에 있어 40년 넘은 주택조차 [UNK] 어려운것에 대한 조치이다. 서울시는 최근 근현대 문물 보존 프로잭트인 미래문화유산화의 일부보존 대상으로 아파트 10군데를 후보로 지정하였다. 가장오래된 충정아파트 ( 1933 ), 동대문아파트 ( 1965 ) 을 비롯해 정동아파트 ( 1965 ), 힐탑아파트 ( 1967 ), 회현제2시민아파트 ( 1970 ), 여의도시범아파트 ( 1971 ), 성요셉아파트 ( 1971 ), 서소문아파트 ( 1972 ), 반포본동아파트 ( 1973 ), 개포주공1단지아파트 ( 1981 ) 가 선정되었으며 소유자의 동의를 받고 지정될 예정이다. \n",
      "질문 : 2015년까지 100년 주택인 장수명 아파트 인증제 도입을 추진하는 기관은? \n",
      "정답 : 국토교통부\n",
      "예측 : 국토교통부\n",
      "----------------------------------------\n",
      "본문 : [CLS] 국토교통부는 2015년까지 100년 주택인 장수명 아파트 인증제 도입을 추진한다고 보도했다. 유럽이나 미국의 경우, 100년된 주택을 쉽게 [UNK] 있지만 고도의 성장에 있어 40년 넘은 주택조차 [UNK] 어려운것에 대한 조치이다. 서울시는 최근 근현대 문물 보존 프로잭트인 미래문화유산화의 일부보존 대상으로 아파트 10군데를 후보로 지정하였다. 가장오래된 충정아파트 ( 1933 ), 동대문아파트 ( 1965 ) 을 비롯해 정동아파트 ( 1965 ), 힐탑아파트 ( 1967 ), 회현제2시민아파트 ( 1970 ), 여의도시범아파트 ( 1971 ), 성요셉아파트 ( 1971 ), 서소문아파트 ( 1972 ), 반포본동아파트 ( 1973 ), 개포주공1단지아파트 ( 1981 ) 가 선정되었으며 소유자의 동의를 받고 지정될 예정이다. \n",
      "질문 : 서울시가 문물 보존 프로젝트로 미래문화유산화의 일부보존 대상으로 지정한 아파트의 수는? \n",
      "정답 : 10\n",
      "예측 : 10군데\n",
      "----------------------------------------\n",
      "본문 : [CLS] 국토교통부는 2015년까지 100년 주택인 장수명 아파트 인증제 도입을 추진한다고 보도했다. 유럽이나 미국의 경우, 100년된 주택을 쉽게 [UNK] 있지만 고도의 성장에 있어 40년 넘은 주택조차 [UNK] 어려운것에 대한 조치이다. 서울시는 최근 근현대 문물 보존 프로잭트인 미래문화유산화의 일부보존 대상으로 아파트 10군데를 후보로 지정하였다. 가장오래된 충정아파트 ( 1933 ), 동대문아파트 ( 1965 ) 을 비롯해 정동아파트 ( 1965 ), 힐탑아파트 ( 1967 ), 회현제2시민아파트 ( 1970 ), 여의도시범아파트 ( 1971 ), 성요셉아파트 ( 1971 ), 서소문아파트 ( 1972 ), 반포본동아파트 ( 1973 ), 개포주공1단지아파트 ( 1981 ) 가 선정되었으며 소유자의 동의를 받고 지정될 예정이다. \n",
      "질문 : 한국에서 가장 오래된 아파트는? \n",
      "정답 : 충정아파트\n",
      "예측 : 동대문아파트\n",
      "----------------------------------------\n",
      "본문 : [CLS] 국토교통부는 2015년까지 100년 주택인 장수명 아파트 인증제 도입을 추진한다고 보도했다. 유럽이나 미국의 경우, 100년된 주택을 쉽게 [UNK] 있지만 고도의 성장에 있어 40년 넘은 주택조차 [UNK] 어려운것에 대한 조치이다. 서울시는 최근 근현대 문물 보존 프로잭트인 미래문화유산화의 일부보존 대상으로 아파트 10군데를 후보로 지정하였다. 가장오래된 충정아파트 ( 1933 ), 동대문아파트 ( 1965 ) 을 비롯해 정동아파트 ( 1965 ), 힐탑아파트 ( 1967 ), 회현제2시민아파트 ( 1970 ), 여의도시범아파트 ( 1971 ), 성요셉아파트 ( 1971 ), 서소문아파트 ( 1972 ), 반포본동아파트 ( 1973 ), 개포주공1단지아파트 ( 1981 ) 가 선정되었으며 소유자의 동의를 받고 지정될 예정이다. \n",
      "질문 : 서울시가 최근 미래문화유산화의 일부보존 대상 후보로 지정한 아파트는 총 몇 군데인가? \n",
      "정답 : 10군데\n",
      "예측 : 10군데\n",
      "----------------------------------------\n",
      "본문 : [CLS] 전자지급수단과 관련하여 폭넓은 개념으로 디지털화폐 ( digital money ; digital currency ) 라는 용어가 사용된다. 디지털화폐는 은행권 · 동전과 같이 물질인 방식 아니라 디지털방식으로만 사용될 수 있는 유형의 화폐를 가리킨다. 디지털화폐는 금전적 가치를 디지털정보로 바꾸고 암호화하여 IC카드에 저장하고 휴대하여 사용하거나 컴퓨터에 보관하고 네트워크상으로 사용하는 것을 모두 포함한다. 가상화폐와 암호화폐는 디지털화폐에 속한다. 디지털화폐는 전자화폐 ( electronic money ; electronic currency ) 와 같은 뜻으로 사용되기도 하지만, 대한민국의 경우 전자화폐가 되기 위해서는 범용성 요건을 갖추어야 하므로 ( 전자금융거래법 제2조 제15호 ) 전자화폐는 디지털화폐보다 좁은 개념이 된다. 가상화폐와 암호화폐는 모두 디지털화폐에 속하지만 아래에서 검토하는 바와 같이 같은 개념이 아니다. \n",
      "질문 : 물질적인 화폐가 아닌 가상화폐나 암호화폐 같은 것을 뜻하는 화폐를 무엇인가? \n",
      "정답 : 디지털화폐\n",
      "예측 : 디지털화폐\n",
      "----------------------------------------\n",
      "본문 : [CLS] 전자지급수단과 관련하여 폭넓은 개념으로 디지털화폐 ( digital money ; digital currency ) 라는 용어가 사용된다. 디지털화폐는 은행권 · 동전과 같이 물질인 방식 아니라 디지털방식으로만 사용될 수 있는 유형의 화폐를 가리킨다. 디지털화폐는 금전적 가치를 디지털정보로 바꾸고 암호화하여 IC카드에 저장하고 휴대하여 사용하거나 컴퓨터에 보관하고 네트워크상으로 사용하는 것을 모두 포함한다. 가상화폐와 암호화폐는 디지털화폐에 속한다. 디지털화폐는 전자화폐 ( electronic money ; electronic currency ) 와 같은 뜻으로 사용되기도 하지만, 대한민국의 경우 전자화폐가 되기 위해서는 범용성 요건을 갖추어야 하므로 ( 전자금융거래법 제2조 제15호 ) 전자화폐는 디지털화폐보다 좁은 개념이 된다. 가상화폐와 암호화폐는 모두 디지털화폐에 속하지만 아래에서 검토하는 바와 같이 같은 개념이 아니다. \n",
      "질문 : 대한민국에서는 디지털화폐보다 좁은 개념으로 사용되는 화폐로 범용선 요건을 갖춰야 하는 화폐는 무엇인가? \n",
      "정답 : 전자화폐\n",
      "예측 : 전자화폐\n",
      "----------------------------------------\n",
      "본문 : [CLS] 전자지급수단과 관련하여 폭넓은 개념으로 디지털화폐 ( digital money ; digital currency ) 라는 용어가 사용된다. 디지털화폐는 은행권 · 동전과 같이 물질인 방식 아니라 디지털방식으로만 사용될 수 있는 유형의 화폐를 가리킨다. 디지털화폐는 금전적 가치를 디지털정보로 바꾸고 암호화하여 IC카드에 저장하고 휴대하여 사용하거나 컴퓨터에 보관하고 네트워크상으로 사용하는 것을 모두 포함한다. 가상화폐와 암호화폐는 디지털화폐에 속한다. 디지털화폐는 전자화폐 ( electronic money ; electronic currency ) 와 같은 뜻으로 사용되기도 하지만, 대한민국의 경우 전자화폐가 되기 위해서는 범용성 요건을 갖추어야 하므로 ( 전자금융거래법 제2조 제15호 ) 전자화폐는 디지털화폐보다 좁은 개념이 된다. 가상화폐와 암호화폐는 모두 디지털화폐에 속하지만 아래에서 검토하는 바와 같이 같은 개념이 아니다. \n",
      "질문 : 디지털방식으로만 사용될 수 있는 유형의 화폐는? \n",
      "정답 : 디지털화폐\n",
      "예측 : 디지털화폐\n",
      "----------------------------------------\n",
      "본문 : [CLS] 전자지급수단과 관련하여 폭넓은 개념으로 디지털화폐 ( digital money ; digital currency ) 라는 용어가 사용된다. 디지털화폐는 은행권 · 동전과 같이 물질인 방식 아니라 디지털방식으로만 사용될 수 있는 유형의 화폐를 가리킨다. 디지털화폐는 금전적 가치를 디지털정보로 바꾸고 암호화하여 IC카드에 저장하고 휴대하여 사용하거나 컴퓨터에 보관하고 네트워크상으로 사용하는 것을 모두 포함한다. 가상화폐와 암호화폐는 디지털화폐에 속한다. 디지털화폐는 전자화폐 ( electronic money ; electronic currency ) 와 같은 뜻으로 사용되기도 하지만, 대한민국의 경우 전자화폐가 되기 위해서는 범용성 요건을 갖추어야 하므로 ( 전자금융거래법 제2조 제15호 ) 전자화폐는 디지털화폐보다 좁은 개념이 된다. 가상화폐와 암호화폐는 모두 디지털화폐에 속하지만 아래에서 검토하는 바와 같이 같은 개념이 아니다. \n",
      "질문 : 금전적 가치를 디지털정보로 바꾸고 암호화 한 것은? \n",
      "정답 : 디지털화폐\n",
      "예측 : 디지털화폐\n",
      "----------------------------------------\n",
      "본문 : [CLS] 전자지급수단과 관련하여 폭넓은 개념으로 디지털화폐 ( digital money ; digital currency ) 라는 용어가 사용된다. 디지털화폐는 은행권 · 동전과 같이 물질인 방식 아니라 디지털방식으로만 사용될 수 있는 유형의 화폐를 가리킨다. 디지털화폐는 금전적 가치를 디지털정보로 바꾸고 암호화하여 IC카드에 저장하고 휴대하여 사용하거나 컴퓨터에 보관하고 네트워크상으로 사용하는 것을 모두 포함한다. 가상화폐와 암호화폐는 디지털화폐에 속한다. 디지털화폐는 전자화폐 ( electronic money ; electronic currency ) 와 같은 뜻으로 사용되기도 하지만, 대한민국의 경우 전자화폐가 되기 위해서는 범용성 요건을 갖추어야 하므로 ( 전자금융거래법 제2조 제15호 ) 전자화폐는 디지털화폐보다 좁은 개념이 된다. 가상화폐와 암호화폐는 모두 디지털화폐에 속하지만 아래에서 검토하는 바와 같이 같은 개념이 아니다. \n",
      "질문 : 대한민국의 경우 디지털화폐가 전자화폐가 되기 위해 갖추어야 할 요건은? \n",
      "정답 : 범용성 요건\n",
      "예측 : 범용성 요건\n",
      "----------------------------------------\n",
      "본문 : [CLS] 전자지급수단과 관련하여 폭넓은 개념으로 디지털화폐 ( digital money ; digital currency ) 라는 용어가 사용된다. 디지털화폐는 은행권 · 동전과 같이 물질인 방식 아니라 디지털방식으로만 사용될 수 있는 유형의 화폐를 가리킨다. 디지털화폐는 금전적 가치를 디지털정보로 바꾸고 암호화하여 IC카드에 저장하고 휴대하여 사용하거나 컴퓨터에 보관하고 네트워크상으로 사용하는 것을 모두 포함한다. 가상화폐와 암호화폐는 디지털화폐에 속한다. 디지털화폐는 전자화폐 ( electronic money ; electronic currency ) 와 같은 뜻으로 사용되기도 하지만, 대한민국의 경우 전자화폐가 되기 위해서는 범용성 요건을 갖추어야 하므로 ( 전자금융거래법 제2조 제15호 ) 전자화폐는 디지털화폐보다 좁은 개념이 된다. 가상화폐와 암호화폐는 모두 디지털화폐에 속하지만 아래에서 검토하는 바와 같이 같은 개념이 아니다. \n",
      "질문 : 가상화폐와 암호화폐를 포괄하는 것은? \n",
      "정답 : 디지털화폐\n",
      "예측 : 디지털화폐\n",
      "----------------------------------------\n",
      "본문 : [CLS] 전자지급수단과 관련하여 폭넓은 개념으로 디지털화폐 ( digital money ; digital currency ) 라는 용어가 사용된다. 디지털화폐는 은행권 · 동전과 같이 물질인 방식 아니라 디지털방식으로만 사용될 수 있는 유형의 화폐를 가리킨다. 디지털화폐는 금전적 가치를 디지털정보로 바꾸고 암호화하여 IC카드에 저장하고 휴대하여 사용하거나 컴퓨터에 보관하고 네트워크상으로 사용하는 것을 모두 포함한다. 가상화폐와 암호화폐는 디지털화폐에 속한다. 디지털화폐는 전자화폐 ( electronic money ; electronic currency ) 와 같은 뜻으로 사용되기도 하지만, 대한민국의 경우 전자화폐가 되기 위해서는 범용성 요건을 갖추어야 하므로 ( 전자금융거래법 제2조 제15호 ) 전자화폐는 디지털화폐보다 좁은 개념이 된다. 가상화폐와 암호화폐는 모두 디지털화폐에 속하지만 아래에서 검토하는 바와 같이 같은 개념이 아니다. \n",
      "질문 : 우리나라 전자화폐의 필요조건은? \n",
      "정답 : 범용성\n",
      "예측 : 범용성 요건\n",
      "----------------------------------------\n",
      "본문 : [CLS] 가상화폐 ( virtual currency ) 에 관한 정의를 살펴보면 다음과 같다. 유럽중앙은행 ( ECB ) 은 2012년에 가상화폐를 “ 개발자에 의하여 발행되고 통상 관리되며, 특정한 가상커뮤니티의 회원들 간에 사용되고 수령되는 규제되지 않은 디지털화폐의 한 유형 ” 이라고 정의하였다. 2012년 유럽중앙은행 ( European Central Bank ) 은 가상화폐란 “ 중앙은행에 의하여 발행되거나 보장되지 않고 지급수단으로 기능하는 규제되지 않은 디지털화폐의 한 유형 ” 이라고 하였다. 또 2014년 “ 중앙은행이나 공적 기관이 발행하지 않고 반드시 법령에 의한 화폐 ( fiat currency ) 에 속하지도 않지만, 자연인 또는 법인에 의하여 지급수단으로 수령되고 전자적으로 양도 · 저장 또는 거래될 수 있는 가치의 전자적 표시 ” 라고 하였다. 2013년 미국 재무부 금융범죄규제망 ( FinCEN ) 은 화폐 ( currency ) 를 “ 법화 ( 法 貨, legal tender ) 로 지정되어 발행국가의 교환수단으로 유통되고 통상 사용 · 수령되는 동전과 지폐 ” 라고 정의하고, 이러한 진정한 화폐에 대하여 \" 가상 ” 화폐 ( “ virtual ” currency ) 란 “ 어떤 환경에서는 법화인 화폐처럼 작동하지만 진정한 화폐의 속성을 가지고 있지 않은 교환수단 ” 으로서, 어떠한 관할권에서도 법화의 지위를 가지지 않는다고 한다. 유럽중앙은행 ( ECB ), 유럽은행감독청 ( EBA ), 미국 재무부에서 내린 정의에 따르면, 가상화폐란 정부에 의해 통제 받지 않는 디지털화폐의 일종으로 개발자가 발행 · 관리하며 특정한 가상 커뮤니티에서만 통용되는 결제수단이다. 미국 재무부 금융범죄규제망 ( FinCEN ) 은 전자상품권 등을 제외하고 비트코인 · 이더리움 · 리플 등 암호화폐를 가리킬 때는 가상화폐라는 단어를 쓰지 않는다. \n",
      "질문 : 개발자가 발행하고 관리하는 화폐로 가상 회원들 사이에서만 사용되는 화폐는 무엇인가? \n",
      "정답 : 가상화폐\n",
      "예측 : 가상화폐\n",
      "----------------------------------------\n",
      "본문 : [CLS] 가상화폐 ( virtual currency ) 에 관한 정의를 살펴보면 다음과 같다. 유럽중앙은행 ( ECB ) 은 2012년에 가상화폐를 “ 개발자에 의하여 발행되고 통상 관리되며, 특정한 가상커뮤니티의 회원들 간에 사용되고 수령되는 규제되지 않은 디지털화폐의 한 유형 ” 이라고 정의하였다. 2012년 유럽중앙은행 ( European Central Bank ) 은 가상화폐란 “ 중앙은행에 의하여 발행되거나 보장되지 않고 지급수단으로 기능하는 규제되지 않은 디지털화폐의 한 유형 ” 이라고 하였다. 또 2014년 “ 중앙은행이나 공적 기관이 발행하지 않고 반드시 법령에 의한 화폐 ( fiat currency ) 에 속하지도 않지만, 자연인 또는 법인에 의하여 지급수단으로 수령되고 전자적으로 양도 · 저장 또는 거래될 수 있는 가치의 전자적 표시 ” 라고 하였다. 2013년 미국 재무부 금융범죄규제망 ( FinCEN ) 은 화폐 ( currency ) 를 “ 법화 ( 法 貨, legal tender ) 로 지정되어 발행국가의 교환수단으로 유통되고 통상 사용 · 수령되는 동전과 지폐 ” 라고 정의하고, 이러한 진정한 화폐에 대하여 \" 가상 ” 화폐 ( “ virtual ” currency ) 란 “ 어떤 환경에서는 법화인 화폐처럼 작동하지만 진정한 화폐의 속성을 가지고 있지 않은 교환수단 ” 으로서, 어떠한 관할권에서도 법화의 지위를 가지지 않는다고 한다. 유럽중앙은행 ( ECB ), 유럽은행감독청 ( EBA ), 미국 재무부에서 내린 정의에 따르면, 가상화폐란 정부에 의해 통제 받지 않는 디지털화폐의 일종으로 개발자가 발행 · 관리하며 특정한 가상 커뮤니티에서만 통용되는 결제수단이다. 미국 재무부 금융범죄규제망 ( FinCEN ) 은 전자상품권 등을 제외하고 비트코인 · 이더리움 · 리플 등 암호화폐를 가리킬 때는 가상화폐라는 단어를 쓰지 않는다. \n",
      "질문 : 가상화폐를 법화인 화폐인 경우도 있지만 진정한 화폐의 성질을 가지고 있지 않은 교환수단이라고 정의한 곳은? \n",
      "정답 : 금융범죄규제망\n",
      "예측 : \n",
      "----------------------------------------\n",
      "본문 : [CLS] 가상화폐 ( virtual currency ) 에 관한 정의를 살펴보면 다음과 같다. 유럽중앙은행 ( ECB ) 은 2012년에 가상화폐를 “ 개발자에 의하여 발행되고 통상 관리되며, 특정한 가상커뮤니티의 회원들 간에 사용되고 수령되는 규제되지 않은 디지털화폐의 한 유형 ” 이라고 정의하였다. 2012년 유럽중앙은행 ( European Central Bank ) 은 가상화폐란 “ 중앙은행에 의하여 발행되거나 보장되지 않고 지급수단으로 기능하는 규제되지 않은 디지털화폐의 한 유형 ” 이라고 하였다. 또 2014년 “ 중앙은행이나 공적 기관이 발행하지 않고 반드시 법령에 의한 화폐 ( fiat currency ) 에 속하지도 않지만, 자연인 또는 법인에 의하여 지급수단으로 수령되고 전자적으로 양도 · 저장 또는 거래될 수 있는 가치의 전자적 표시 ” 라고 하였다. 2013년 미국 재무부 금융범죄규제망 ( FinCEN ) 은 화폐 ( currency ) 를 “ 법화 ( 法 貨, legal tender ) 로 지정되어 발행국가의 교환수단으로 유통되고 통상 사용 · 수령되는 동전과 지폐 ” 라고 정의하고, 이러한 진정한 화폐에 대하여 \" 가상 ” 화폐 ( “ virtual ” currency ) 란 “ 어떤 환경에서는 법화인 화폐처럼 작동하지만 진정한 화폐의 속성을 가지고 있지 않은 교환수단 ” 으로서, 어떠한 관할권에서도 법화의 지위를 가지지 않는다고 한다. 유럽중앙은행 ( ECB ), 유럽은행감독청 ( EBA ), 미국 재무부에서 내린 정의에 따르면, 가상화폐란 정부에 의해 통제 받지 않는 디지털화폐의 일종으로 개발자가 발행 · 관리하며 특정한 가상 커뮤니티에서만 통용되는 결제수단이다. 미국 재무부 금융범죄규제망 ( FinCEN ) 은 전자상품권 등을 제외하고 비트코인 · 이더리움 · 리플 등 암호화폐를 가리킬 때는 가상화폐라는 단어를 쓰지 않는다. \n",
      "질문 : 2012년 가상화폐의 정의를 정의한 국제기구는? \n",
      "정답 : 유럽중앙은행\n",
      "예측 : 유럽중앙은행\n",
      "----------------------------------------\n",
      "본문 : [CLS] 가상화폐 ( virtual currency ) 에 관한 정의를 살펴보면 다음과 같다. 유럽중앙은행 ( ECB ) 은 2012년에 가상화폐를 “ 개발자에 의하여 발행되고 통상 관리되며, 특정한 가상커뮤니티의 회원들 간에 사용되고 수령되는 규제되지 않은 디지털화폐의 한 유형 ” 이라고 정의하였다. 2012년 유럽중앙은행 ( European Central Bank ) 은 가상화폐란 “ 중앙은행에 의하여 발행되거나 보장되지 않고 지급수단으로 기능하는 규제되지 않은 디지털화폐의 한 유형 ” 이라고 하였다. 또 2014년 “ 중앙은행이나 공적 기관이 발행하지 않고 반드시 법령에 의한 화폐 ( fiat currency ) 에 속하지도 않지만, 자연인 또는 법인에 의하여 지급수단으로 수령되고 전자적으로 양도 · 저장 또는 거래될 수 있는 가치의 전자적 표시 ” 라고 하였다. 2013년 미국 재무부 금융범죄규제망 ( FinCEN ) 은 화폐 ( currency ) 를 “ 법화 ( 法 貨, legal tender ) 로 지정되어 발행국가의 교환수단으로 유통되고 통상 사용 · 수령되는 동전과 지폐 ” 라고 정의하고, 이러한 진정한 화폐에 대하여 \" 가상 ” 화폐 ( “ virtual ” currency ) 란 “ 어떤 환경에서는 법화인 화폐처럼 작동하지만 진정한 화폐의 속성을 가지고 있지 않은 교환수단 ” 으로서, 어떠한 관할권에서도 법화의 지위를 가지지 않는다고 한다. 유럽중앙은행 ( ECB ), 유럽은행감독청 ( EBA ), 미국 재무부에서 내린 정의에 따르면, 가상화폐란 정부에 의해 통제 받지 않는 디지털화폐의 일종으로 개발자가 발행 · 관리하며 특정한 가상 커뮤니티에서만 통용되는 결제수단이다. 미국 재무부 금융범죄규제망 ( FinCEN ) 은 전자상품권 등을 제외하고 비트코인 · 이더리움 · 리플 등 암호화폐를 가리킬 때는 가상화폐라는 단어를 쓰지 않는다. \n",
      "질문 : 개발자가 발행하고 관리하며 특정 가상 커뮤니티에서 통용되는 결제수단은? \n",
      "정답 : 가상화폐\n",
      "예측 : 가상화폐\n",
      "----------------------------------------\n",
      "본문 : [CLS] 가상화폐 ( virtual currency ) 에 관한 정의를 살펴보면 다음과 같다. 유럽중앙은행 ( ECB ) 은 2012년에 가상화폐를 “ 개발자에 의하여 발행되고 통상 관리되며, 특정한 가상커뮤니티의 회원들 간에 사용되고 수령되는 규제되지 않은 디지털화폐의 한 유형 ” 이라고 정의하였다. 2012년 유럽중앙은행 ( European Central Bank ) 은 가상화폐란 “ 중앙은행에 의하여 발행되거나 보장되지 않고 지급수단으로 기능하는 규제되지 않은 디지털화폐의 한 유형 ” 이라고 하였다. 또 2014년 “ 중앙은행이나 공적 기관이 발행하지 않고 반드시 법령에 의한 화폐 ( fiat currency ) 에 속하지도 않지만, 자연인 또는 법인에 의하여 지급수단으로 수령되고 전자적으로 양도 · 저장 또는 거래될 수 있는 가치의 전자적 표시 ” 라고 하였다. 2013년 미국 재무부 금융범죄규제망 ( FinCEN ) 은 화폐 ( currency ) 를 “ 법화 ( 法 貨, legal tender ) 로 지정되어 발행국가의 교환수단으로 유통되고 통상 사용 · 수령되는 동전과 지폐 ” 라고 정의하고, 이러한 진정한 화폐에 대하여 \" 가상 ” 화폐 ( “ virtual ” currency ) 란 “ 어떤 환경에서는 법화인 화폐처럼 작동하지만 진정한 화폐의 속성을 가지고 있지 않은 교환수단 ” 으로서, 어떠한 관할권에서도 법화의 지위를 가지지 않는다고 한다. 유럽중앙은행 ( ECB ), 유럽은행감독청 ( EBA ), 미국 재무부에서 내린 정의에 따르면, 가상화폐란 정부에 의해 통제 받지 않는 디지털화폐의 일종으로 개발자가 발행 · 관리하며 특정한 가상 커뮤니티에서만 통용되는 결제수단이다. 미국 재무부 금융범죄규제망 ( FinCEN ) 은 전자상품권 등을 제외하고 비트코인 · 이더리움 · 리플 등 암호화폐를 가리킬 때는 가상화폐라는 단어를 쓰지 않는다. \n",
      "질문 : 가상화폐라는 단어를 쓰지 못하는 비트코인, 이더리움 등을 일컫는 말은? \n",
      "정답 : 암호화폐\n",
      "예측 : \n",
      "----------------------------------------\n",
      "본문 : [CLS] 가상화폐 ( virtual currency ) 에 관한 정의를 살펴보면 다음과 같다. 유럽중앙은행 ( ECB ) 은 2012년에 가상화폐를 “ 개발자에 의하여 발행되고 통상 관리되며, 특정한 가상커뮤니티의 회원들 간에 사용되고 수령되는 규제되지 않은 디지털화폐의 한 유형 ” 이라고 정의하였다. 2012년 유럽중앙은행 ( European Central Bank ) 은 가상화폐란 “ 중앙은행에 의하여 발행되거나 보장되지 않고 지급수단으로 기능하는 규제되지 않은 디지털화폐의 한 유형 ” 이라고 하였다. 또 2014년 “ 중앙은행이나 공적 기관이 발행하지 않고 반드시 법령에 의한 화폐 ( fiat currency ) 에 속하지도 않지만, 자연인 또는 법인에 의하여 지급수단으로 수령되고 전자적으로 양도 · 저장 또는 거래될 수 있는 가치의 전자적 표시 ” 라고 하였다. 2013년 미국 재무부 금융범죄규제망 ( FinCEN ) 은 화폐 ( currency ) 를 “ 법화 ( 法 貨, legal tender ) 로 지정되어 발행국가의 교환수단으로 유통되고 통상 사용 · 수령되는 동전과 지폐 ” 라고 정의하고, 이러한 진정한 화폐에 대하여 \" 가상 ” 화폐 ( “ virtual ” currency ) 란 “ 어떤 환경에서는 법화인 화폐처럼 작동하지만 진정한 화폐의 속성을 가지고 있지 않은 교환수단 ” 으로서, 어떠한 관할권에서도 법화의 지위를 가지지 않는다고 한다. 유럽중앙은행 ( ECB ), 유럽은행감독청 ( EBA ), 미국 재무부에서 내린 정의에 따르면, 가상화폐란 정부에 의해 통제 받지 않는 디지털화폐의 일종으로 개발자가 발행 · 관리하며 특정한 가상 커뮤니티에서만 통용되는 결제수단이다. 미국 재무부 금융범죄규제망 ( FinCEN ) 은 전자상품권 등을 제외하고 비트코인 · 이더리움 · 리플 등 암호화폐를 가리킬 때는 가상화폐라는 단어를 쓰지 않는다. \n",
      "질문 : 가상화폐를 통제가 없는 디지털 화폐의 한 종류로 정의한 곳은? \n",
      "정답 : 유럽중앙은행\n",
      "예측 : 유럽중앙은행\n",
      "----------------------------------------\n",
      "본문 : [CLS] 가상화폐 ( virtual currency ) 에 관한 정의를 살펴보면 다음과 같다. 유럽중앙은행 ( ECB ) 은 2012년에 가상화폐를 “ 개발자에 의하여 발행되고 통상 관리되며, 특정한 가상커뮤니티의 회원들 간에 사용되고 수령되는 규제되지 않은 디지털화폐의 한 유형 ” 이라고 정의하였다. 2012년 유럽중앙은행 ( European Central Bank ) 은 가상화폐란 “ 중앙은행에 의하여 발행되거나 보장되지 않고 지급수단으로 기능하는 규제되지 않은 디지털화폐의 한 유형 ” 이라고 하였다. 또 2014년 “ 중앙은행이나 공적 기관이 발행하지 않고 반드시 법령에 의한 화폐 ( fiat currency ) 에 속하지도 않지만, 자연인 또는 법인에 의하여 지급수단으로 수령되고 전자적으로 양도 · 저장 또는 거래될 수 있는 가치의 전자적 표시 ” 라고 하였다. 2013년 미국 재무부 금융범죄규제망 ( FinCEN ) 은 화폐 ( currency ) 를 “ 법화 ( 法 貨, legal tender ) 로 지정되어 발행국가의 교환수단으로 유통되고 통상 사용 · 수령되는 동전과 지폐 ” 라고 정의하고, 이러한 진정한 화폐에 대하여 \" 가상 ” 화폐 ( “ virtual ” currency ) 란 “ 어떤 환경에서는 법화인 화폐처럼 작동하지만 진정한 화폐의 속성을 가지고 있지 않은 교환수단 ” 으로서, 어떠한 관할권에서도 법화의 지위를 가지지 않는다고 한다. 유럽중앙은행 ( ECB ), 유럽은행감독청 ( EBA ), 미국 재무부에서 내린 정의에 따르면, 가상화폐란 정부에 의해 통제 받지 않는 디지털화폐의 일종으로 개발자가 발행 · 관리하며 특정한 가상 커뮤니티에서만 통용되는 결제수단이다. 미국 재무부 금융범죄규제망 ( FinCEN ) 은 전자상품권 등을 제외하고 비트코인 · 이더리움 · 리플 등 암호화폐를 가리킬 때는 가상화폐라는 단어를 쓰지 않는다. \n",
      "질문 : 가상화폐를 발행하고 관리하는 사람은? \n",
      "정답 : 개발자\n",
      "예측 : 유럽중앙은행 ( ECB ) 은 2012년에 가상화폐를 “ 개발자\n",
      "----------------------------------------\n",
      "본문 : [CLS] 암호화폐 ( cryptocurrency ) 는 블록체인 ( blockchain ) 기술로 암호화되어 분산발행되고 일정한 네트워크에서 화폐로 사용할 수 있는 전자정보이다. 암호화폐는 중앙은행이 발행하지 않고 블록체인 기술에 기초하여 금전적 가치가 디지털방식으로 표시된 전자정보로서 인터넷상 P2P 방식으로 분산 저장되어 운영 · 관리된다. 각 암호화폐의 분산형 통제는 블록체인 기술을 통하여 운용하는데, 블록체인은 분산 거래장부 ( distributed ledger ) 로 기능하는 공적 데이터베이스이다. 암호화폐는 원래 재화교환의 매체, 즉 지급수단으로 고안된 것이지만, 액면가가 없고 투자의 목적이 되어 거래소를 통하여 시장의 수급에 따라 형성되는 가격으로 거래되어 소득 또는 손실이 발생한다. 이러한 점에서 볼 때 암호화폐는 재화성을 함께 가지는 특수한 지급수단이라 할 수 있다. \n",
      "질문 : 일정한 네트워크에서 화폐로 사용할 수 있으며 블록체인 기술을 이용한 화폐는 무엇인가? \n",
      "정답 : 암호화폐\n",
      "예측 : 암호화폐\n",
      "----------------------------------------\n",
      "본문 : [CLS] 암호화폐 ( cryptocurrency ) 는 블록체인 ( blockchain ) 기술로 암호화되어 분산발행되고 일정한 네트워크에서 화폐로 사용할 수 있는 전자정보이다. 암호화폐는 중앙은행이 발행하지 않고 블록체인 기술에 기초하여 금전적 가치가 디지털방식으로 표시된 전자정보로서 인터넷상 P2P 방식으로 분산 저장되어 운영 · 관리된다. 각 암호화폐의 분산형 통제는 블록체인 기술을 통하여 운용하는데, 블록체인은 분산 거래장부 ( distributed ledger ) 로 기능하는 공적 데이터베이스이다. 암호화폐는 원래 재화교환의 매체, 즉 지급수단으로 고안된 것이지만, 액면가가 없고 투자의 목적이 되어 거래소를 통하여 시장의 수급에 따라 형성되는 가격으로 거래되어 소득 또는 손실이 발생한다. 이러한 점에서 볼 때 암호화폐는 재화성을 함께 가지는 특수한 지급수단이라 할 수 있다. \n",
      "질문 : 암호화폐는 금전적 가치가 디지털방식으로 표시되는데 이것을 인터넷상에서 운영, 관리하는 방식은 무엇인가? \n",
      "정답 : P2P 방식\n",
      "예측 : P2P 방식\n",
      "----------------------------------------\n",
      "본문 : [CLS] 암호화폐 ( cryptocurrency ) 는 블록체인 ( blockchain ) 기술로 암호화되어 분산발행되고 일정한 네트워크에서 화폐로 사용할 수 있는 전자정보이다. 암호화폐는 중앙은행이 발행하지 않고 블록체인 기술에 기초하여 금전적 가치가 디지털방식으로 표시된 전자정보로서 인터넷상 P2P 방식으로 분산 저장되어 운영 · 관리된다. 각 암호화폐의 분산형 통제는 블록체인 기술을 통하여 운용하는데, 블록체인은 분산 거래장부 ( distributed ledger ) 로 기능하는 공적 데이터베이스이다. 암호화폐는 원래 재화교환의 매체, 즉 지급수단으로 고안된 것이지만, 액면가가 없고 투자의 목적이 되어 거래소를 통하여 시장의 수급에 따라 형성되는 가격으로 거래되어 소득 또는 손실이 발생한다. 이러한 점에서 볼 때 암호화폐는 재화성을 함께 가지는 특수한 지급수단이라 할 수 있다. \n",
      "질문 : 암호화폐를 암호화하는 기술은? \n",
      "정답 : 블록체인\n",
      "예측 : 블록체인\n",
      "----------------------------------------\n",
      "본문 : [CLS] 암호화폐 ( cryptocurrency ) 는 블록체인 ( blockchain ) 기술로 암호화되어 분산발행되고 일정한 네트워크에서 화폐로 사용할 수 있는 전자정보이다. 암호화폐는 중앙은행이 발행하지 않고 블록체인 기술에 기초하여 금전적 가치가 디지털방식으로 표시된 전자정보로서 인터넷상 P2P 방식으로 분산 저장되어 운영 · 관리된다. 각 암호화폐의 분산형 통제는 블록체인 기술을 통하여 운용하는데, 블록체인은 분산 거래장부 ( distributed ledger ) 로 기능하는 공적 데이터베이스이다. 암호화폐는 원래 재화교환의 매체, 즉 지급수단으로 고안된 것이지만, 액면가가 없고 투자의 목적이 되어 거래소를 통하여 시장의 수급에 따라 형성되는 가격으로 거래되어 소득 또는 손실이 발생한다. 이러한 점에서 볼 때 암호화폐는 재화성을 함께 가지는 특수한 지급수단이라 할 수 있다. \n",
      "질문 : 암호화폐를 분산 저장하여 운영 관리 될 수 있도록 하는 인터넷상의 방식은? \n",
      "정답 : P2P 방식\n",
      "예측 : P2P 방식\n",
      "----------------------------------------\n",
      "본문 : [CLS] 암호화폐 ( cryptocurrency ) 는 블록체인 ( blockchain ) 기술로 암호화되어 분산발행되고 일정한 네트워크에서 화폐로 사용할 수 있는 전자정보이다. 암호화폐는 중앙은행이 발행하지 않고 블록체인 기술에 기초하여 금전적 가치가 디지털방식으로 표시된 전자정보로서 인터넷상 P2P 방식으로 분산 저장되어 운영 · 관리된다. 각 암호화폐의 분산형 통제는 블록체인 기술을 통하여 운용하는데, 블록체인은 분산 거래장부 ( distributed ledger ) 로 기능하는 공적 데이터베이스이다. 암호화폐는 원래 재화교환의 매체, 즉 지급수단으로 고안된 것이지만, 액면가가 없고 투자의 목적이 되어 거래소를 통하여 시장의 수급에 따라 형성되는 가격으로 거래되어 소득 또는 손실이 발생한다. 이러한 점에서 볼 때 암호화폐는 재화성을 함께 가지는 특수한 지급수단이라 할 수 있다. \n",
      "질문 : 분산 거래장부로 기능하는 공적 테이터베이스는? \n",
      "정답 : 블록체인\n",
      "예측 : 블록체인\n",
      "----------------------------------------\n",
      "본문 : [CLS] 암호화폐 ( cryptocurrency ) 는 블록체인 ( blockchain ) 기술로 암호화되어 분산발행되고 일정한 네트워크에서 화폐로 사용할 수 있는 전자정보이다. 암호화폐는 중앙은행이 발행하지 않고 블록체인 기술에 기초하여 금전적 가치가 디지털방식으로 표시된 전자정보로서 인터넷상 P2P 방식으로 분산 저장되어 운영 · 관리된다. 각 암호화폐의 분산형 통제는 블록체인 기술을 통하여 운용하는데, 블록체인은 분산 거래장부 ( distributed ledger ) 로 기능하는 공적 데이터베이스이다. 암호화폐는 원래 재화교환의 매체, 즉 지급수단으로 고안된 것이지만, 액면가가 없고 투자의 목적이 되어 거래소를 통하여 시장의 수급에 따라 형성되는 가격으로 거래되어 소득 또는 손실이 발생한다. 이러한 점에서 볼 때 암호화폐는 재화성을 함께 가지는 특수한 지급수단이라 할 수 있다. \n",
      "질문 : 본래는 재화 교환의 매개체였으나 훗날 투자의 목적으로 변한 것은? \n",
      "정답 : 암호화폐\n",
      "예측 : 암호화폐\n",
      "----------------------------------------\n",
      "본문 : [CLS] 암호화폐 ( cryptocurrency ) 는 블록체인 ( blockchain ) 기술로 암호화되어 분산발행되고 일정한 네트워크에서 화폐로 사용할 수 있는 전자정보이다. 암호화폐는 중앙은행이 발행하지 않고 블록체인 기술에 기초하여 금전적 가치가 디지털방식으로 표시된 전자정보로서 인터넷상 P2P 방식으로 분산 저장되어 운영 · 관리된다. 각 암호화폐의 분산형 통제는 블록체인 기술을 통하여 운용하는데, 블록체인은 분산 거래장부 ( distributed ledger ) 로 기능하는 공적 데이터베이스이다. 암호화폐는 원래 재화교환의 매체, 즉 지급수단으로 고안된 것이지만, 액면가가 없고 투자의 목적이 되어 거래소를 통하여 시장의 수급에 따라 형성되는 가격으로 거래되어 소득 또는 손실이 발생한다. 이러한 점에서 볼 때 암호화폐는 재화성을 함께 가지는 특수한 지급수단이라 할 수 있다. \n",
      "질문 : 암호화폐의 밑바탕이 되는 기술은? \n",
      "정답 : 블록체인 기술\n",
      "예측 : 블록체인 기술\n",
      "----------------------------------------\n",
      "본문 : [CLS] 암호화폐는 달러 ( $ ) 나 원화 ( ₩ ) 와 같은 실물화폐와 달리 화폐를 발행하는 중앙은행이 없이 전 세계 인터넷 네트워크에 P2P 방식으로 분산 저장되어 운영된다. 암호화폐를 발행하고 관리하는 핵심 기법은 블록체인 ( blockchain ) 기술이다. 블록체인이란 “ 블록 ( block ) ” 을 잇따라 “ 연결 ( chain ) ” 한 모음을 가리킨다. 각 암호화폐 코인의 유효성은 블록체인에 의하여 부여된다. 블록체인은 지속적으로 늘어나는 기록 ( 블록 ) 의 일람표로서 블록은 암호화방법을 사용하여 연결되어 보안이 확보된다. 각 블록은 전형적으로는 이전 블록의 암호해쉬, 타임스탬프와 거래 데이터를 포함한다. 고안에 의하여 블록체인은 처음부터 데이터의 수정에 대하여 저항력을 가지고 있다. 이것은 양당사자 간의 거래를 유효하게 영구적으로 증명할 수 있도록 기록할 수 있는 공개된 분산장부이다. 일단 기록이 이루어지면 그 블록의 데이터는 모든 후속 블록의 변경 없이는 소급하여 변경될 수 없다. \n",
      "질문 : 블록을 계속 연결하는 기법을 무엇인가? \n",
      "정답 : 블록체인\n",
      "예측 : 암호화방법\n",
      "----------------------------------------\n",
      "본문 : [CLS] 암호화폐는 달러 ( $ ) 나 원화 ( ₩ ) 와 같은 실물화폐와 달리 화폐를 발행하는 중앙은행이 없이 전 세계 인터넷 네트워크에 P2P 방식으로 분산 저장되어 운영된다. 암호화폐를 발행하고 관리하는 핵심 기법은 블록체인 ( blockchain ) 기술이다. 블록체인이란 “ 블록 ( block ) ” 을 잇따라 “ 연결 ( chain ) ” 한 모음을 가리킨다. 각 암호화폐 코인의 유효성은 블록체인에 의하여 부여된다. 블록체인은 지속적으로 늘어나는 기록 ( 블록 ) 의 일람표로서 블록은 암호화방법을 사용하여 연결되어 보안이 확보된다. 각 블록은 전형적으로는 이전 블록의 암호해쉬, 타임스탬프와 거래 데이터를 포함한다. 고안에 의하여 블록체인은 처음부터 데이터의 수정에 대하여 저항력을 가지고 있다. 이것은 양당사자 간의 거래를 유효하게 영구적으로 증명할 수 있도록 기록할 수 있는 공개된 분산장부이다. 일단 기록이 이루어지면 그 블록의 데이터는 모든 후속 블록의 변경 없이는 소급하여 변경될 수 없다. \n",
      "질문 : 블록체인은 양당사자 간의 거래를 영구적으로 증명하게 하기 위하여 무엇에 저항력을 가지고 있는가? \n",
      "정답 : 데이터의 수정\n",
      "예측 : 데이터의 수정\n",
      "----------------------------------------\n",
      "본문 : [CLS] 암호화폐는 달러 ( $ ) 나 원화 ( ₩ ) 와 같은 실물화폐와 달리 화폐를 발행하는 중앙은행이 없이 전 세계 인터넷 네트워크에 P2P 방식으로 분산 저장되어 운영된다. 암호화폐를 발행하고 관리하는 핵심 기법은 블록체인 ( blockchain ) 기술이다. 블록체인이란 “ 블록 ( block ) ” 을 잇따라 “ 연결 ( chain ) ” 한 모음을 가리킨다. 각 암호화폐 코인의 유효성은 블록체인에 의하여 부여된다. 블록체인은 지속적으로 늘어나는 기록 ( 블록 ) 의 일람표로서 블록은 암호화방법을 사용하여 연결되어 보안이 확보된다. 각 블록은 전형적으로는 이전 블록의 암호해쉬, 타임스탬프와 거래 데이터를 포함한다. 고안에 의하여 블록체인은 처음부터 데이터의 수정에 대하여 저항력을 가지고 있다. 이것은 양당사자 간의 거래를 유효하게 영구적으로 증명할 수 있도록 기록할 수 있는 공개된 분산장부이다. 일단 기록이 이루어지면 그 블록의 데이터는 모든 후속 블록의 변경 없이는 소급하여 변경될 수 없다. \n",
      "질문 : 암호화폐를 발행하고 관리하는 핵심 기법은? \n",
      "정답 : 블록체인\n",
      "예측 : 블록체인\n",
      "----------------------------------------\n",
      "본문 : [CLS] 암호화폐는 달러 ( $ ) 나 원화 ( ₩ ) 와 같은 실물화폐와 달리 화폐를 발행하는 중앙은행이 없이 전 세계 인터넷 네트워크에 P2P 방식으로 분산 저장되어 운영된다. 암호화폐를 발행하고 관리하는 핵심 기법은 블록체인 ( blockchain ) 기술이다. 블록체인이란 “ 블록 ( block ) ” 을 잇따라 “ 연결 ( chain ) ” 한 모음을 가리킨다. 각 암호화폐 코인의 유효성은 블록체인에 의하여 부여된다. 블록체인은 지속적으로 늘어나는 기록 ( 블록 ) 의 일람표로서 블록은 암호화방법을 사용하여 연결되어 보안이 확보된다. 각 블록은 전형적으로는 이전 블록의 암호해쉬, 타임스탬프와 거래 데이터를 포함한다. 고안에 의하여 블록체인은 처음부터 데이터의 수정에 대하여 저항력을 가지고 있다. 이것은 양당사자 간의 거래를 유효하게 영구적으로 증명할 수 있도록 기록할 수 있는 공개된 분산장부이다. 일단 기록이 이루어지면 그 블록의 데이터는 모든 후속 블록의 변경 없이는 소급하여 변경될 수 없다. \n",
      "질문 : 블록을 잇따라 연결한 모음으로 정의되는 것은? \n",
      "정답 : 블록체인\n",
      "예측 : 블록체인\n",
      "----------------------------------------\n",
      "본문 : [CLS] 암호화폐는 달러 ( $ ) 나 원화 ( ₩ ) 와 같은 실물화폐와 달리 화폐를 발행하는 중앙은행이 없이 전 세계 인터넷 네트워크에 P2P 방식으로 분산 저장되어 운영된다. 암호화폐를 발행하고 관리하는 핵심 기법은 블록체인 ( blockchain ) 기술이다. 블록체인이란 “ 블록 ( block ) ” 을 잇따라 “ 연결 ( chain ) ” 한 모음을 가리킨다. 각 암호화폐 코인의 유효성은 블록체인에 의하여 부여된다. 블록체인은 지속적으로 늘어나는 기록 ( 블록 ) 의 일람표로서 블록은 암호화방법을 사용하여 연결되어 보안이 확보된다. 각 블록은 전형적으로는 이전 블록의 암호해쉬, 타임스탬프와 거래 데이터를 포함한다. 고안에 의하여 블록체인은 처음부터 데이터의 수정에 대하여 저항력을 가지고 있다. 이것은 양당사자 간의 거래를 유효하게 영구적으로 증명할 수 있도록 기록할 수 있는 공개된 분산장부이다. 일단 기록이 이루어지면 그 블록의 데이터는 모든 후속 블록의 변경 없이는 소급하여 변경될 수 없다. \n",
      "질문 : 암호화폐 코인에 유효성을 부여하는 것은? \n",
      "정답 : 블록체인\n",
      "예측 : 블록체인\n",
      "----------------------------------------\n",
      "본문 : [CLS] 암호화폐는 달러 ( $ ) 나 원화 ( ₩ ) 와 같은 실물화폐와 달리 화폐를 발행하는 중앙은행이 없이 전 세계 인터넷 네트워크에 P2P 방식으로 분산 저장되어 운영된다. 암호화폐를 발행하고 관리하는 핵심 기법은 블록체인 ( blockchain ) 기술이다. 블록체인이란 “ 블록 ( block ) ” 을 잇따라 “ 연결 ( chain ) ” 한 모음을 가리킨다. 각 암호화폐 코인의 유효성은 블록체인에 의하여 부여된다. 블록체인은 지속적으로 늘어나는 기록 ( 블록 ) 의 일람표로서 블록은 암호화방법을 사용하여 연결되어 보안이 확보된다. 각 블록은 전형적으로는 이전 블록의 암호해쉬, 타임스탬프와 거래 데이터를 포함한다. 고안에 의하여 블록체인은 처음부터 데이터의 수정에 대하여 저항력을 가지고 있다. 이것은 양당사자 간의 거래를 유효하게 영구적으로 증명할 수 있도록 기록할 수 있는 공개된 분산장부이다. 일단 기록이 이루어지면 그 블록의 데이터는 모든 후속 블록의 변경 없이는 소급하여 변경될 수 없다. \n",
      "질문 : 실물화폐와는 다르게 네트워크에 P2P방식으로 적장되는 것은? \n",
      "정답 : 암호화폐\n",
      "예측 : 암호화폐\n",
      "----------------------------------------\n",
      "본문 : [CLS] 암호화폐는 달러 ( $ ) 나 원화 ( ₩ ) 와 같은 실물화폐와 달리 화폐를 발행하는 중앙은행이 없이 전 세계 인터넷 네트워크에 P2P 방식으로 분산 저장되어 운영된다. 암호화폐를 발행하고 관리하는 핵심 기법은 블록체인 ( blockchain ) 기술이다. 블록체인이란 “ 블록 ( block ) ” 을 잇따라 “ 연결 ( chain ) ” 한 모음을 가리킨다. 각 암호화폐 코인의 유효성은 블록체인에 의하여 부여된다. 블록체인은 지속적으로 늘어나는 기록 ( 블록 ) 의 일람표로서 블록은 암호화방법을 사용하여 연결되어 보안이 확보된다. 각 블록은 전형적으로는 이전 블록의 암호해쉬, 타임스탬프와 거래 데이터를 포함한다. 고안에 의하여 블록체인은 처음부터 데이터의 수정에 대하여 저항력을 가지고 있다. 이것은 양당사자 간의 거래를 유효하게 영구적으로 증명할 수 있도록 기록할 수 있는 공개된 분산장부이다. 일단 기록이 이루어지면 그 블록의 데이터는 모든 후속 블록의 변경 없이는 소급하여 변경될 수 없다. \n",
      "질문 : 후속 블록의 개조를 통해서 데이터의 수정이 가능한것은? \n",
      "정답 : 블록체인\n",
      "예측 : 블록체인\n",
      "----------------------------------------\n",
      "본문 : [CLS] 현재 암호화폐는 과세 대상이 아니다. 화폐로 인정될 경우, 현재 개인이 환 차익을 통해 얻은 수익은 비과세 대상이며 법인의 환 차익은 기업 이익으로 보아 법인세를 부과하고 있다. 화폐로 인정되지 않을 경우는 논외의 대상이다. 또한 비트코인이 재산이나 투자재와 같은 것으로 간주될 경우에도 양도소득세 과세 대상이 되지 못한다. 소득세는 열거주의에 의하는데 현재 소득세 부과 항목에 비트코인이 포함되어 있지 않기 때문이다. 일본, 노르웨이, 독일, 미국 등 여러 선진국에서 비트코인을 법인세로 과세하는 것을 봐서는 당분간 비트코인이 각국 정부로부터 화폐로 인정받기는 어려워 보인다. 반면 영국은 비트코인을 디지털 화폐로 인정해 제도권으로 끌어들임과 동시에 런던을 디지털 금융의 중심지로 키우는 정책을 채택했다. 다만 정부의 인위적 조정 행위가 불가 하기 때문에 비트코인의 일부를 정부가 발행하는 유사화폐로 대체 또는 제한하여 유통과 동시에 화폐가치를 조절 할 수 있는 수단을 만들거라 추측 된다. \n",
      "질문 : 소득세는 무슨 주의인가? \n",
      "정답 : 열거주의\n",
      "예측 : 열거주의\n",
      "----------------------------------------\n",
      "본문 : [CLS] 현재 암호화폐는 과세 대상이 아니다. 화폐로 인정될 경우, 현재 개인이 환 차익을 통해 얻은 수익은 비과세 대상이며 법인의 환 차익은 기업 이익으로 보아 법인세를 부과하고 있다. 화폐로 인정되지 않을 경우는 논외의 대상이다. 또한 비트코인이 재산이나 투자재와 같은 것으로 간주될 경우에도 양도소득세 과세 대상이 되지 못한다. 소득세는 열거주의에 의하는데 현재 소득세 부과 항목에 비트코인이 포함되어 있지 않기 때문이다. 일본, 노르웨이, 독일, 미국 등 여러 선진국에서 비트코인을 법인세로 과세하는 것을 봐서는 당분간 비트코인이 각국 정부로부터 화폐로 인정받기는 어려워 보인다. 반면 영국은 비트코인을 디지털 화폐로 인정해 제도권으로 끌어들임과 동시에 런던을 디지털 금융의 중심지로 키우는 정책을 채택했다. 다만 정부의 인위적 조정 행위가 불가 하기 때문에 비트코인의 일부를 정부가 발행하는 유사화폐로 대체 또는 제한하여 유통과 동시에 화폐가치를 조절 할 수 있는 수단을 만들거라 추측 된다. \n",
      "질문 : 비트코인을 디지털화폐로 인정하고 제도권으로 끌어들여 나라의 수도를 디지털 금융의 중심지로 키우려고 하는 나라는 어디인가? \n",
      "정답 : 영국\n",
      "예측 : 영국\n",
      "----------------------------------------\n",
      "본문 : [CLS] 현재 암호화폐는 과세 대상이 아니다. 화폐로 인정될 경우, 현재 개인이 환 차익을 통해 얻은 수익은 비과세 대상이며 법인의 환 차익은 기업 이익으로 보아 법인세를 부과하고 있다. 화폐로 인정되지 않을 경우는 논외의 대상이다. 또한 비트코인이 재산이나 투자재와 같은 것으로 간주될 경우에도 양도소득세 과세 대상이 되지 못한다. 소득세는 열거주의에 의하는데 현재 소득세 부과 항목에 비트코인이 포함되어 있지 않기 때문이다. 일본, 노르웨이, 독일, 미국 등 여러 선진국에서 비트코인을 법인세로 과세하는 것을 봐서는 당분간 비트코인이 각국 정부로부터 화폐로 인정받기는 어려워 보인다. 반면 영국은 비트코인을 디지털 화폐로 인정해 제도권으로 끌어들임과 동시에 런던을 디지털 금융의 중심지로 키우는 정책을 채택했다. 다만 정부의 인위적 조정 행위가 불가 하기 때문에 비트코인의 일부를 정부가 발행하는 유사화폐로 대체 또는 제한하여 유통과 동시에 화폐가치를 조절 할 수 있는 수단을 만들거라 추측 된다. \n",
      "질문 : 법인의 환 차익에 부과하는 세금은? \n",
      "정답 : 법인세\n",
      "예측 : 법인세\n",
      "----------------------------------------\n",
      "본문 : [CLS] 현재 암호화폐는 과세 대상이 아니다. 화폐로 인정될 경우, 현재 개인이 환 차익을 통해 얻은 수익은 비과세 대상이며 법인의 환 차익은 기업 이익으로 보아 법인세를 부과하고 있다. 화폐로 인정되지 않을 경우는 논외의 대상이다. 또한 비트코인이 재산이나 투자재와 같은 것으로 간주될 경우에도 양도소득세 과세 대상이 되지 못한다. 소득세는 열거주의에 의하는데 현재 소득세 부과 항목에 비트코인이 포함되어 있지 않기 때문이다. 일본, 노르웨이, 독일, 미국 등 여러 선진국에서 비트코인을 법인세로 과세하는 것을 봐서는 당분간 비트코인이 각국 정부로부터 화폐로 인정받기는 어려워 보인다. 반면 영국은 비트코인을 디지털 화폐로 인정해 제도권으로 끌어들임과 동시에 런던을 디지털 금융의 중심지로 키우는 정책을 채택했다. 다만 정부의 인위적 조정 행위가 불가 하기 때문에 비트코인의 일부를 정부가 발행하는 유사화폐로 대체 또는 제한하여 유통과 동시에 화폐가치를 조절 할 수 있는 수단을 만들거라 추측 된다. \n",
      "질문 : 비트코인을 디지털 화폐로 인정한 나라는? \n",
      "정답 : 영국\n",
      "예측 : 영국\n",
      "----------------------------------------\n",
      "본문 : [CLS] 현재 암호화폐는 과세 대상이 아니다. 화폐로 인정될 경우, 현재 개인이 환 차익을 통해 얻은 수익은 비과세 대상이며 법인의 환 차익은 기업 이익으로 보아 법인세를 부과하고 있다. 화폐로 인정되지 않을 경우는 논외의 대상이다. 또한 비트코인이 재산이나 투자재와 같은 것으로 간주될 경우에도 양도소득세 과세 대상이 되지 못한다. 소득세는 열거주의에 의하는데 현재 소득세 부과 항목에 비트코인이 포함되어 있지 않기 때문이다. 일본, 노르웨이, 독일, 미국 등 여러 선진국에서 비트코인을 법인세로 과세하는 것을 봐서는 당분간 비트코인이 각국 정부로부터 화폐로 인정받기는 어려워 보인다. 반면 영국은 비트코인을 디지털 화폐로 인정해 제도권으로 끌어들임과 동시에 런던을 디지털 금융의 중심지로 키우는 정책을 채택했다. 다만 정부의 인위적 조정 행위가 불가 하기 때문에 비트코인의 일부를 정부가 발행하는 유사화폐로 대체 또는 제한하여 유통과 동시에 화폐가치를 조절 할 수 있는 수단을 만들거라 추측 된다. \n",
      "질문 : 열거주의적인 성격을 띄는 세금은? \n",
      "정답 : 소득세\n",
      "예측 : 양도소득세\n",
      "----------------------------------------\n",
      "본문 : [CLS] 현재 암호화폐는 과세 대상이 아니다. 화폐로 인정될 경우, 현재 개인이 환 차익을 통해 얻은 수익은 비과세 대상이며 법인의 환 차익은 기업 이익으로 보아 법인세를 부과하고 있다. 화폐로 인정되지 않을 경우는 논외의 대상이다. 또한 비트코인이 재산이나 투자재와 같은 것으로 간주될 경우에도 양도소득세 과세 대상이 되지 못한다. 소득세는 열거주의에 의하는데 현재 소득세 부과 항목에 비트코인이 포함되어 있지 않기 때문이다. 일본, 노르웨이, 독일, 미국 등 여러 선진국에서 비트코인을 법인세로 과세하는 것을 봐서는 당분간 비트코인이 각국 정부로부터 화폐로 인정받기는 어려워 보인다. 반면 영국은 비트코인을 디지털 화폐로 인정해 제도권으로 끌어들임과 동시에 런던을 디지털 금융의 중심지로 키우는 정책을 채택했다. 다만 정부의 인위적 조정 행위가 불가 하기 때문에 비트코인의 일부를 정부가 발행하는 유사화폐로 대체 또는 제한하여 유통과 동시에 화폐가치를 조절 할 수 있는 수단을 만들거라 추측 된다. \n",
      "질문 : 선진국과 달리 비트코인을 화폐로 허용한 나라는? \n",
      "정답 : 영국\n",
      "예측 : 영국\n",
      "----------------------------------------\n",
      "본문 : [CLS] 엑스박스의 후계 기종으로 정식 모델명을 발표하기 전에는 가칭으로 엑스박스 FS, 엑스박스 넥스트, 넥스트박스 엑스박스 2, 제논 등으로 불렸다. 2003년 2월, 제논 소프트웨어 플랫폼에 대한 계획이 마이크로소프트 부사장 제임스 알라드의 지휘 아래 시작됨과 동시에 마이크로소프트사는 개발자 채용을 위해 워싱턴 주, 벨뷰에서 행사를 개최하기도 했다. 이 달에 전 세가 북미지사장이었던 피터 무어가 마이크로소프트사에 입사했다. 2003년 8월 12일 ATI사와 새로운 콘솔 제품에 대한 그래픽 프로세서 공급 계약을 맺었다. 출시 전 애플 파워 맥 G5의 하드웨어를 이용한 몇몇의 초기 개발품이 포착되기도 했는데, IBM 제논 프로세서와 같은 파워피시 아키텍처로 작동되기 때문이었다. 제논 프로세서의 코어는 플레이스테이션 3의 셀 프로세서의 PPE 아키텍처를 약간 개조해서 개발됐다. IBM 직원들은 이 사실을 당시 소니와 도시바로부터 숨겼다고 한다. 차세대 게임기로 패권을 다투는 소니의 플레이스테이션 3보다 앞서 발매되었다. \n",
      "질문 : 마이크로소프트 부사장의 이름은? \n",
      "정답 : 제임스 알라드\n",
      "예측 : 제임스 알라드\n",
      "----------------------------------------\n",
      "본문 : [CLS] 엑스박스의 후계 기종으로 정식 모델명을 발표하기 전에는 가칭으로 엑스박스 FS, 엑스박스 넥스트, 넥스트박스 엑스박스 2, 제논 등으로 불렸다. 2003년 2월, 제논 소프트웨어 플랫폼에 대한 계획이 마이크로소프트 부사장 제임스 알라드의 지휘 아래 시작됨과 동시에 마이크로소프트사는 개발자 채용을 위해 워싱턴 주, 벨뷰에서 행사를 개최하기도 했다. 이 달에 전 세가 북미지사장이었던 피터 무어가 마이크로소프트사에 입사했다. 2003년 8월 12일 ATI사와 새로운 콘솔 제품에 대한 그래픽 프로세서 공급 계약을 맺었다. 출시 전 애플 파워 맥 G5의 하드웨어를 이용한 몇몇의 초기 개발품이 포착되기도 했는데, IBM 제논 프로세서와 같은 파워피시 아키텍처로 작동되기 때문이었다. 제논 프로세서의 코어는 플레이스테이션 3의 셀 프로세서의 PPE 아키텍처를 약간 개조해서 개발됐다. IBM 직원들은 이 사실을 당시 소니와 도시바로부터 숨겼다고 한다. 차세대 게임기로 패권을 다투는 소니의 플레이스테이션 3보다 앞서 발매되었다. \n",
      "질문 : 워싱턴 주, 벨뷰에서 행사를 개최한 이유는? \n",
      "정답 : 개발자 채용\n",
      "예측 : 개발자 채용\n",
      "----------------------------------------\n",
      "본문 : [CLS] 엑스박스의 후계 기종으로 정식 모델명을 발표하기 전에는 가칭으로 엑스박스 FS, 엑스박스 넥스트, 넥스트박스 엑스박스 2, 제논 등으로 불렸다. 2003년 2월, 제논 소프트웨어 플랫폼에 대한 계획이 마이크로소프트 부사장 제임스 알라드의 지휘 아래 시작됨과 동시에 마이크로소프트사는 개발자 채용을 위해 워싱턴 주, 벨뷰에서 행사를 개최하기도 했다. 이 달에 전 세가 북미지사장이었던 피터 무어가 마이크로소프트사에 입사했다. 2003년 8월 12일 ATI사와 새로운 콘솔 제품에 대한 그래픽 프로세서 공급 계약을 맺었다. 출시 전 애플 파워 맥 G5의 하드웨어를 이용한 몇몇의 초기 개발품이 포착되기도 했는데, IBM 제논 프로세서와 같은 파워피시 아키텍처로 작동되기 때문이었다. 제논 프로세서의 코어는 플레이스테이션 3의 셀 프로세서의 PPE 아키텍처를 약간 개조해서 개발됐다. IBM 직원들은 이 사실을 당시 소니와 도시바로부터 숨겼다고 한다. 차세대 게임기로 패권을 다투는 소니의 플레이스테이션 3보다 앞서 발매되었다. \n",
      "질문 : 마이크로소프트사는 개발자 채용을 위해 워싱턴 주 어디에서 행사를 개최하였는가? \n",
      "정답 : 벨뷰\n",
      "예측 : 벨뷰\n",
      "----------------------------------------\n",
      "본문 : [CLS] 엑스박스의 후계 기종으로 정식 모델명을 발표하기 전에는 가칭으로 엑스박스 FS, 엑스박스 넥스트, 넥스트박스 엑스박스 2, 제논 등으로 불렸다. 2003년 2월, 제논 소프트웨어 플랫폼에 대한 계획이 마이크로소프트 부사장 제임스 알라드의 지휘 아래 시작됨과 동시에 마이크로소프트사는 개발자 채용을 위해 워싱턴 주, 벨뷰에서 행사를 개최하기도 했다. 이 달에 전 세가 북미지사장이었던 피터 무어가 마이크로소프트사에 입사했다. 2003년 8월 12일 ATI사와 새로운 콘솔 제품에 대한 그래픽 프로세서 공급 계약을 맺었다. 출시 전 애플 파워 맥 G5의 하드웨어를 이용한 몇몇의 초기 개발품이 포착되기도 했는데, IBM 제논 프로세서와 같은 파워피시 아키텍처로 작동되기 때문이었다. 제논 프로세서의 코어는 플레이스테이션 3의 셀 프로세서의 PPE 아키텍처를 약간 개조해서 개발됐다. IBM 직원들은 이 사실을 당시 소니와 도시바로부터 숨겼다고 한다. 차세대 게임기로 패권을 다투는 소니의 플레이스테이션 3보다 앞서 발매되었다. \n",
      "질문 : 벨뷰에서 행사를 개최한 달에 마이크로소프트사에 입사한 전 세가 북미지사장이었던 사람은? \n",
      "정답 : 피터 무어\n",
      "예측 : 피터 무어\n",
      "----------------------------------------\n",
      "본문 : [CLS] 엑스박스의 후계 기종으로 정식 모델명을 발표하기 전에는 가칭으로 엑스박스 FS, 엑스박스 넥스트, 넥스트박스 엑스박스 2, 제논 등으로 불렸다. 2003년 2월, 제논 소프트웨어 플랫폼에 대한 계획이 마이크로소프트 부사장 제임스 알라드의 지휘 아래 시작됨과 동시에 마이크로소프트사는 개발자 채용을 위해 워싱턴 주, 벨뷰에서 행사를 개최하기도 했다. 이 달에 전 세가 북미지사장이었던 피터 무어가 마이크로소프트사에 입사했다. 2003년 8월 12일 ATI사와 새로운 콘솔 제품에 대한 그래픽 프로세서 공급 계약을 맺었다. 출시 전 애플 파워 맥 G5의 하드웨어를 이용한 몇몇의 초기 개발품이 포착되기도 했는데, IBM 제논 프로세서와 같은 파워피시 아키텍처로 작동되기 때문이었다. 제논 프로세서의 코어는 플레이스테이션 3의 셀 프로세서의 PPE 아키텍처를 약간 개조해서 개발됐다. IBM 직원들은 이 사실을 당시 소니와 도시바로부터 숨겼다고 한다. 차세대 게임기로 패권을 다투는 소니의 플레이스테이션 3보다 앞서 발매되었다. \n",
      "질문 : 2003년 8월 12일 새로운 콘솔 제품에 대한 그래픽 프로세서 공급 계약을 맺은 회사는? \n",
      "정답 : ATI사\n",
      "예측 : ATI사\n",
      "----------------------------------------\n",
      "본문 : [CLS] 엑스박스의 후계 기종으로 정식 모델명을 발표하기 전에는 가칭으로 엑스박스 FS, 엑스박스 넥스트, 넥스트박스 엑스박스 2, 제논 등으로 불렸다. 2003년 2월, 제논 소프트웨어 플랫폼에 대한 계획이 마이크로소프트 부사장 제임스 알라드의 지휘 아래 시작됨과 동시에 마이크로소프트사는 개발자 채용을 위해 워싱턴 주, 벨뷰에서 행사를 개최하기도 했다. 이 달에 전 세가 북미지사장이었던 피터 무어가 마이크로소프트사에 입사했다. 2003년 8월 12일 ATI사와 새로운 콘솔 제품에 대한 그래픽 프로세서 공급 계약을 맺었다. 출시 전 애플 파워 맥 G5의 하드웨어를 이용한 몇몇의 초기 개발품이 포착되기도 했는데, IBM 제논 프로세서와 같은 파워피시 아키텍처로 작동되기 때문이었다. 제논 프로세서의 코어는 플레이스테이션 3의 셀 프로세서의 PPE 아키텍처를 약간 개조해서 개발됐다. IBM 직원들은 이 사실을 당시 소니와 도시바로부터 숨겼다고 한다. 차세대 게임기로 패권을 다투는 소니의 플레이스테이션 3보다 앞서 발매되었다. \n",
      "질문 : 제논 소프트웨어 플랫폼에 대한 계획이 시작된 시기는? \n",
      "정답 : 2003년 2월\n",
      "예측 : 2003년 2월\n",
      "----------------------------------------\n",
      "본문 : [CLS] 엑스박스의 후계 기종으로 정식 모델명을 발표하기 전에는 가칭으로 엑스박스 FS, 엑스박스 넥스트, 넥스트박스 엑스박스 2, 제논 등으로 불렸다. 2003년 2월, 제논 소프트웨어 플랫폼에 대한 계획이 마이크로소프트 부사장 제임스 알라드의 지휘 아래 시작됨과 동시에 마이크로소프트사는 개발자 채용을 위해 워싱턴 주, 벨뷰에서 행사를 개최하기도 했다. 이 달에 전 세가 북미지사장이었던 피터 무어가 마이크로소프트사에 입사했다. 2003년 8월 12일 ATI사와 새로운 콘솔 제품에 대한 그래픽 프로세서 공급 계약을 맺었다. 출시 전 애플 파워 맥 G5의 하드웨어를 이용한 몇몇의 초기 개발품이 포착되기도 했는데, IBM 제논 프로세서와 같은 파워피시 아키텍처로 작동되기 때문이었다. 제논 프로세서의 코어는 플레이스테이션 3의 셀 프로세서의 PPE 아키텍처를 약간 개조해서 개발됐다. IBM 직원들은 이 사실을 당시 소니와 도시바로부터 숨겼다고 한다. 차세대 게임기로 패권을 다투는 소니의 플레이스테이션 3보다 앞서 발매되었다. \n",
      "질문 : 마이크로소프트사가 개발자 채용을 위해 행사를 개최했던 곳은 워싱턴 주의 어디인가? \n",
      "정답 : 벨뷰\n",
      "예측 : 벨뷰\n",
      "----------------------------------------\n",
      "본문 : [CLS] 엑스박스의 후계 기종으로 정식 모델명을 발표하기 전에는 가칭으로 엑스박스 FS, 엑스박스 넥스트, 넥스트박스 엑스박스 2, 제논 등으로 불렸다. 2003년 2월, 제논 소프트웨어 플랫폼에 대한 계획이 마이크로소프트 부사장 제임스 알라드의 지휘 아래 시작됨과 동시에 마이크로소프트사는 개발자 채용을 위해 워싱턴 주, 벨뷰에서 행사를 개최하기도 했다. 이 달에 전 세가 북미지사장이었던 피터 무어가 마이크로소프트사에 입사했다. 2003년 8월 12일 ATI사와 새로운 콘솔 제품에 대한 그래픽 프로세서 공급 계약을 맺었다. 출시 전 애플 파워 맥 G5의 하드웨어를 이용한 몇몇의 초기 개발품이 포착되기도 했는데, IBM 제논 프로세서와 같은 파워피시 아키텍처로 작동되기 때문이었다. 제논 프로세서의 코어는 플레이스테이션 3의 셀 프로세서의 PPE 아키텍처를 약간 개조해서 개발됐다. IBM 직원들은 이 사실을 당시 소니와 도시바로부터 숨겼다고 한다. 차세대 게임기로 패권을 다투는 소니의 플레이스테이션 3보다 앞서 발매되었다. \n",
      "질문 : 2003년 2월에 마이크로소프트사에 입사한 전 세가 북미지사장은? \n",
      "정답 : 피터 무어\n",
      "예측 : 피터 무어\n",
      "----------------------------------------\n"
     ]
    }
   ],
   "source": [
    "for i in range(600, 700):\n",
    "  predict_test_data_by_idx(i)"
   ]
  }
 ],
 "metadata": {
  "accelerator": "TPU",
  "colab": {
   "collapsed_sections": [],
   "machine_shape": "hm",
   "name": "Learning Spoons 8강 - 한국어 BigBird를 이용한 Korquad Question Answering .ipynb",
   "provenance": []
  },
  "kernelspec": {
   "display_name": "Python 3",
   "language": "python",
   "name": "python3"
  },
  "language_info": {
   "codemirror_mode": {
    "name": "ipython",
    "version": 3
   },
   "file_extension": ".py",
   "mimetype": "text/x-python",
   "name": "python",
   "nbconvert_exporter": "python",
   "pygments_lexer": "ipython3",
   "version": "3.8.8"
  },
  "toc": {
   "base_numbering": 1,
   "nav_menu": {},
   "number_sections": true,
   "sideBar": true,
   "skip_h1_title": false,
   "title_cell": "Table of Contents",
   "title_sidebar": "Contents",
   "toc_cell": false,
   "toc_position": {},
   "toc_section_display": true,
   "toc_window_display": true
  },
  "varInspector": {
   "cols": {
    "lenName": 16,
    "lenType": 16,
    "lenVar": 40
   },
   "kernels_config": {
    "python": {
     "delete_cmd_postfix": "",
     "delete_cmd_prefix": "del ",
     "library": "var_list.py",
     "varRefreshCmd": "print(var_dic_list())"
    },
    "r": {
     "delete_cmd_postfix": ") ",
     "delete_cmd_prefix": "rm(",
     "library": "var_list.r",
     "varRefreshCmd": "cat(var_dic_list()) "
    }
   },
   "types_to_exclude": [
    "module",
    "function",
    "builtin_function_or_method",
    "instance",
    "_Feature"
   ],
   "window_display": false
  },
  "widgets": {
   "application/vnd.jupyter.widget-state+json": {
    "02beb6b27f444fa4952e41ac744b4b89": {
     "model_module": "@jupyter-widgets/base",
     "model_module_version": "1.2.0",
     "model_name": "LayoutModel",
     "state": {
      "_model_module": "@jupyter-widgets/base",
      "_model_module_version": "1.2.0",
      "_model_name": "LayoutModel",
      "_view_count": null,
      "_view_module": "@jupyter-widgets/base",
      "_view_module_version": "1.2.0",
      "_view_name": "LayoutView",
      "align_content": null,
      "align_items": null,
      "align_self": null,
      "border": null,
      "bottom": null,
      "display": null,
      "flex": null,
      "flex_flow": null,
      "grid_area": null,
      "grid_auto_columns": null,
      "grid_auto_flow": null,
      "grid_auto_rows": null,
      "grid_column": null,
      "grid_gap": null,
      "grid_row": null,
      "grid_template_areas": null,
      "grid_template_columns": null,
      "grid_template_rows": null,
      "height": null,
      "justify_content": null,
      "justify_items": null,
      "left": null,
      "margin": null,
      "max_height": null,
      "max_width": null,
      "min_height": null,
      "min_width": null,
      "object_fit": null,
      "object_position": null,
      "order": null,
      "overflow": null,
      "overflow_x": null,
      "overflow_y": null,
      "padding": null,
      "right": null,
      "top": null,
      "visibility": null,
      "width": null
     }
    },
    "05d1a1c40ae44ec0be320a2d7552180d": {
     "model_module": "@jupyter-widgets/controls",
     "model_module_version": "1.5.0",
     "model_name": "HTMLModel",
     "state": {
      "_dom_classes": [],
      "_model_module": "@jupyter-widgets/controls",
      "_model_module_version": "1.5.0",
      "_model_name": "HTMLModel",
      "_view_count": null,
      "_view_module": "@jupyter-widgets/controls",
      "_view_module_version": "1.5.0",
      "_view_name": "HTMLView",
      "description": "",
      "description_tooltip": null,
      "layout": "IPY_MODEL_ba089da52ff14ac58810a4f31f761145",
      "placeholder": "​",
      "style": "IPY_MODEL_888cdc234d2b4f1db376a9b3167e1ff0",
      "value": " 169/169 [00:00&lt;00:00, 6.24kB/s]"
     }
    },
    "139d4e6eb11745db8feb2bea11360e6a": {
     "model_module": "@jupyter-widgets/controls",
     "model_module_version": "1.5.0",
     "model_name": "FloatProgressModel",
     "state": {
      "_dom_classes": [],
      "_model_module": "@jupyter-widgets/controls",
      "_model_module_version": "1.5.0",
      "_model_name": "FloatProgressModel",
      "_view_count": null,
      "_view_module": "@jupyter-widgets/controls",
      "_view_module_version": "1.5.0",
      "_view_name": "ProgressView",
      "bar_style": "success",
      "description": "",
      "description_tooltip": null,
      "layout": "IPY_MODEL_b22722a81c2d46459ef010c0093f9f00",
      "max": 373,
      "min": 0,
      "orientation": "horizontal",
      "style": "IPY_MODEL_cf44ef62b1bf4cc0b7b0f5578e9b81d5",
      "value": 373
     }
    },
    "1d43914e9c2a4fa9ba97ee605d7d78a1": {
     "model_module": "@jupyter-widgets/controls",
     "model_module_version": "1.5.0",
     "model_name": "HBoxModel",
     "state": {
      "_dom_classes": [],
      "_model_module": "@jupyter-widgets/controls",
      "_model_module_version": "1.5.0",
      "_model_name": "HBoxModel",
      "_view_count": null,
      "_view_module": "@jupyter-widgets/controls",
      "_view_module_version": "1.5.0",
      "_view_name": "HBoxView",
      "box_style": "",
      "children": [
       "IPY_MODEL_9e01a2d1fb5c4648b28d5b6a060fa86a",
       "IPY_MODEL_259f617f78a64d34a6b809df53a5e00d",
       "IPY_MODEL_573bcd8b83ad4a60870f164f9b472c6c"
      ],
      "layout": "IPY_MODEL_02beb6b27f444fa4952e41ac744b4b89"
     }
    },
    "259f617f78a64d34a6b809df53a5e00d": {
     "model_module": "@jupyter-widgets/controls",
     "model_module_version": "1.5.0",
     "model_name": "FloatProgressModel",
     "state": {
      "_dom_classes": [],
      "_model_module": "@jupyter-widgets/controls",
      "_model_module_version": "1.5.0",
      "_model_name": "FloatProgressModel",
      "_view_count": null,
      "_view_module": "@jupyter-widgets/controls",
      "_view_module_version": "1.5.0",
      "_view_name": "ProgressView",
      "bar_style": "success",
      "description": "",
      "description_tooltip": null,
      "layout": "IPY_MODEL_fa0fc95a58604ec386f4e1ed98a968d6",
      "max": 241171,
      "min": 0,
      "orientation": "horizontal",
      "style": "IPY_MODEL_3d061beb1efc4bab86d9e91baaabd27f",
      "value": 241171
     }
    },
    "2820009e8a8445549657fda5f1dbcbde": {
     "model_module": "@jupyter-widgets/base",
     "model_module_version": "1.2.0",
     "model_name": "LayoutModel",
     "state": {
      "_model_module": "@jupyter-widgets/base",
      "_model_module_version": "1.2.0",
      "_model_name": "LayoutModel",
      "_view_count": null,
      "_view_module": "@jupyter-widgets/base",
      "_view_module_version": "1.2.0",
      "_view_name": "LayoutView",
      "align_content": null,
      "align_items": null,
      "align_self": null,
      "border": null,
      "bottom": null,
      "display": null,
      "flex": null,
      "flex_flow": null,
      "grid_area": null,
      "grid_auto_columns": null,
      "grid_auto_flow": null,
      "grid_auto_rows": null,
      "grid_column": null,
      "grid_gap": null,
      "grid_row": null,
      "grid_template_areas": null,
      "grid_template_columns": null,
      "grid_template_rows": null,
      "height": null,
      "justify_content": null,
      "justify_items": null,
      "left": null,
      "margin": null,
      "max_height": null,
      "max_width": null,
      "min_height": null,
      "min_width": null,
      "object_fit": null,
      "object_position": null,
      "order": null,
      "overflow": null,
      "overflow_x": null,
      "overflow_y": null,
      "padding": null,
      "right": null,
      "top": null,
      "visibility": null,
      "width": null
     }
    },
    "36d4b2012b47488398e521fc571b49c2": {
     "model_module": "@jupyter-widgets/controls",
     "model_module_version": "1.5.0",
     "model_name": "DescriptionStyleModel",
     "state": {
      "_model_module": "@jupyter-widgets/controls",
      "_model_module_version": "1.5.0",
      "_model_name": "DescriptionStyleModel",
      "_view_count": null,
      "_view_module": "@jupyter-widgets/base",
      "_view_module_version": "1.2.0",
      "_view_name": "StyleView",
      "description_width": ""
     }
    },
    "3a390677f6d948859aeb7782b88891c3": {
     "model_module": "@jupyter-widgets/controls",
     "model_module_version": "1.5.0",
     "model_name": "DescriptionStyleModel",
     "state": {
      "_model_module": "@jupyter-widgets/controls",
      "_model_module_version": "1.5.0",
      "_model_name": "DescriptionStyleModel",
      "_view_count": null,
      "_view_module": "@jupyter-widgets/base",
      "_view_module_version": "1.2.0",
      "_view_name": "StyleView",
      "description_width": ""
     }
    },
    "3d061beb1efc4bab86d9e91baaabd27f": {
     "model_module": "@jupyter-widgets/controls",
     "model_module_version": "1.5.0",
     "model_name": "ProgressStyleModel",
     "state": {
      "_model_module": "@jupyter-widgets/controls",
      "_model_module_version": "1.5.0",
      "_model_name": "ProgressStyleModel",
      "_view_count": null,
      "_view_module": "@jupyter-widgets/base",
      "_view_module_version": "1.2.0",
      "_view_name": "StyleView",
      "bar_color": null,
      "description_width": ""
     }
    },
    "45f716eab34b474ca5306c7ce2b6a98f": {
     "model_module": "@jupyter-widgets/controls",
     "model_module_version": "1.5.0",
     "model_name": "ProgressStyleModel",
     "state": {
      "_model_module": "@jupyter-widgets/controls",
      "_model_module_version": "1.5.0",
      "_model_name": "ProgressStyleModel",
      "_view_count": null,
      "_view_module": "@jupyter-widgets/base",
      "_view_module_version": "1.2.0",
      "_view_name": "StyleView",
      "bar_color": null,
      "description_width": ""
     }
    },
    "573bcd8b83ad4a60870f164f9b472c6c": {
     "model_module": "@jupyter-widgets/controls",
     "model_module_version": "1.5.0",
     "model_name": "HTMLModel",
     "state": {
      "_dom_classes": [],
      "_model_module": "@jupyter-widgets/controls",
      "_model_module_version": "1.5.0",
      "_model_name": "HTMLModel",
      "_view_count": null,
      "_view_module": "@jupyter-widgets/controls",
      "_view_module_version": "1.5.0",
      "_view_name": "HTMLView",
      "description": "",
      "description_tooltip": null,
      "layout": "IPY_MODEL_f70a75ec530641ab8a9ef97e845b35a7",
      "placeholder": "​",
      "style": "IPY_MODEL_67977fa213864579acc81c990c58a72f",
      "value": " 236k/236k [00:00&lt;00:00, 1.66MB/s]"
     }
    },
    "5a1effaa9ce649e1a928fa39f543b708": {
     "model_module": "@jupyter-widgets/controls",
     "model_module_version": "1.5.0",
     "model_name": "HTMLModel",
     "state": {
      "_dom_classes": [],
      "_model_module": "@jupyter-widgets/controls",
      "_model_module_version": "1.5.0",
      "_model_name": "HTMLModel",
      "_view_count": null,
      "_view_module": "@jupyter-widgets/controls",
      "_view_module_version": "1.5.0",
      "_view_name": "HTMLView",
      "description": "",
      "description_tooltip": null,
      "layout": "IPY_MODEL_5ac305699d6b47fa8ea7d04df5b66962",
      "placeholder": "​",
      "style": "IPY_MODEL_3a390677f6d948859aeb7782b88891c3",
      "value": " 373/373 [00:00&lt;00:00, 11.6kB/s]"
     }
    },
    "5ac305699d6b47fa8ea7d04df5b66962": {
     "model_module": "@jupyter-widgets/base",
     "model_module_version": "1.2.0",
     "model_name": "LayoutModel",
     "state": {
      "_model_module": "@jupyter-widgets/base",
      "_model_module_version": "1.2.0",
      "_model_name": "LayoutModel",
      "_view_count": null,
      "_view_module": "@jupyter-widgets/base",
      "_view_module_version": "1.2.0",
      "_view_name": "LayoutView",
      "align_content": null,
      "align_items": null,
      "align_self": null,
      "border": null,
      "bottom": null,
      "display": null,
      "flex": null,
      "flex_flow": null,
      "grid_area": null,
      "grid_auto_columns": null,
      "grid_auto_flow": null,
      "grid_auto_rows": null,
      "grid_column": null,
      "grid_gap": null,
      "grid_row": null,
      "grid_template_areas": null,
      "grid_template_columns": null,
      "grid_template_rows": null,
      "height": null,
      "justify_content": null,
      "justify_items": null,
      "left": null,
      "margin": null,
      "max_height": null,
      "max_width": null,
      "min_height": null,
      "min_width": null,
      "object_fit": null,
      "object_position": null,
      "order": null,
      "overflow": null,
      "overflow_x": null,
      "overflow_y": null,
      "padding": null,
      "right": null,
      "top": null,
      "visibility": null,
      "width": null
     }
    },
    "602f58fa63e2468fbe1242c3e222231a": {
     "model_module": "@jupyter-widgets/controls",
     "model_module_version": "1.5.0",
     "model_name": "HBoxModel",
     "state": {
      "_dom_classes": [],
      "_model_module": "@jupyter-widgets/controls",
      "_model_module_version": "1.5.0",
      "_model_name": "HBoxModel",
      "_view_count": null,
      "_view_module": "@jupyter-widgets/controls",
      "_view_module_version": "1.5.0",
      "_view_name": "HBoxView",
      "box_style": "",
      "children": [
       "IPY_MODEL_b229591e07a44e2086dc87b418782c74",
       "IPY_MODEL_e966e2807dfa4b59ab471949a0ad8e40",
       "IPY_MODEL_05d1a1c40ae44ec0be320a2d7552180d"
      ],
      "layout": "IPY_MODEL_974dda04d0bc4846bcd0d6b0c7e72b93"
     }
    },
    "661cf8118a6746eebbcf35fc33fcf2e1": {
     "model_module": "@jupyter-widgets/base",
     "model_module_version": "1.2.0",
     "model_name": "LayoutModel",
     "state": {
      "_model_module": "@jupyter-widgets/base",
      "_model_module_version": "1.2.0",
      "_model_name": "LayoutModel",
      "_view_count": null,
      "_view_module": "@jupyter-widgets/base",
      "_view_module_version": "1.2.0",
      "_view_name": "LayoutView",
      "align_content": null,
      "align_items": null,
      "align_self": null,
      "border": null,
      "bottom": null,
      "display": null,
      "flex": null,
      "flex_flow": null,
      "grid_area": null,
      "grid_auto_columns": null,
      "grid_auto_flow": null,
      "grid_auto_rows": null,
      "grid_column": null,
      "grid_gap": null,
      "grid_row": null,
      "grid_template_areas": null,
      "grid_template_columns": null,
      "grid_template_rows": null,
      "height": null,
      "justify_content": null,
      "justify_items": null,
      "left": null,
      "margin": null,
      "max_height": null,
      "max_width": null,
      "min_height": null,
      "min_width": null,
      "object_fit": null,
      "object_position": null,
      "order": null,
      "overflow": null,
      "overflow_x": null,
      "overflow_y": null,
      "padding": null,
      "right": null,
      "top": null,
      "visibility": null,
      "width": null
     }
    },
    "67977fa213864579acc81c990c58a72f": {
     "model_module": "@jupyter-widgets/controls",
     "model_module_version": "1.5.0",
     "model_name": "DescriptionStyleModel",
     "state": {
      "_model_module": "@jupyter-widgets/controls",
      "_model_module_version": "1.5.0",
      "_model_name": "DescriptionStyleModel",
      "_view_count": null,
      "_view_module": "@jupyter-widgets/base",
      "_view_module_version": "1.2.0",
      "_view_name": "StyleView",
      "description_width": ""
     }
    },
    "69b54169aa6e426abe16b70b18be157a": {
     "model_module": "@jupyter-widgets/controls",
     "model_module_version": "1.5.0",
     "model_name": "FloatProgressModel",
     "state": {
      "_dom_classes": [],
      "_model_module": "@jupyter-widgets/controls",
      "_model_module_version": "1.5.0",
      "_model_name": "FloatProgressModel",
      "_view_count": null,
      "_view_module": "@jupyter-widgets/controls",
      "_view_module_version": "1.5.0",
      "_view_name": "ProgressView",
      "bar_style": "success",
      "description": "",
      "description_tooltip": null,
      "layout": "IPY_MODEL_861dc0ee3a354a16bfbc3daaa51bdcea",
      "max": 491774,
      "min": 0,
      "orientation": "horizontal",
      "style": "IPY_MODEL_8828da8314db448c91d13a2a4ddc18e8",
      "value": 491774
     }
    },
    "7122e4afe60b437385524361a7032117": {
     "model_module": "@jupyter-widgets/controls",
     "model_module_version": "1.5.0",
     "model_name": "DescriptionStyleModel",
     "state": {
      "_model_module": "@jupyter-widgets/controls",
      "_model_module_version": "1.5.0",
      "_model_name": "DescriptionStyleModel",
      "_view_count": null,
      "_view_module": "@jupyter-widgets/base",
      "_view_module_version": "1.2.0",
      "_view_name": "StyleView",
      "description_width": ""
     }
    },
    "79478555a806415aa66fa5eb1de2b2b1": {
     "model_module": "@jupyter-widgets/controls",
     "model_module_version": "1.5.0",
     "model_name": "DescriptionStyleModel",
     "state": {
      "_model_module": "@jupyter-widgets/controls",
      "_model_module_version": "1.5.0",
      "_model_name": "DescriptionStyleModel",
      "_view_count": null,
      "_view_module": "@jupyter-widgets/base",
      "_view_module_version": "1.2.0",
      "_view_name": "StyleView",
      "description_width": ""
     }
    },
    "7995423456ad48a2a8d098d270875bff": {
     "model_module": "@jupyter-widgets/base",
     "model_module_version": "1.2.0",
     "model_name": "LayoutModel",
     "state": {
      "_model_module": "@jupyter-widgets/base",
      "_model_module_version": "1.2.0",
      "_model_name": "LayoutModel",
      "_view_count": null,
      "_view_module": "@jupyter-widgets/base",
      "_view_module_version": "1.2.0",
      "_view_name": "LayoutView",
      "align_content": null,
      "align_items": null,
      "align_self": null,
      "border": null,
      "bottom": null,
      "display": null,
      "flex": null,
      "flex_flow": null,
      "grid_area": null,
      "grid_auto_columns": null,
      "grid_auto_flow": null,
      "grid_auto_rows": null,
      "grid_column": null,
      "grid_gap": null,
      "grid_row": null,
      "grid_template_areas": null,
      "grid_template_columns": null,
      "grid_template_rows": null,
      "height": null,
      "justify_content": null,
      "justify_items": null,
      "left": null,
      "margin": null,
      "max_height": null,
      "max_width": null,
      "min_height": null,
      "min_width": null,
      "object_fit": null,
      "object_position": null,
      "order": null,
      "overflow": null,
      "overflow_x": null,
      "overflow_y": null,
      "padding": null,
      "right": null,
      "top": null,
      "visibility": null,
      "width": null
     }
    },
    "861dc0ee3a354a16bfbc3daaa51bdcea": {
     "model_module": "@jupyter-widgets/base",
     "model_module_version": "1.2.0",
     "model_name": "LayoutModel",
     "state": {
      "_model_module": "@jupyter-widgets/base",
      "_model_module_version": "1.2.0",
      "_model_name": "LayoutModel",
      "_view_count": null,
      "_view_module": "@jupyter-widgets/base",
      "_view_module_version": "1.2.0",
      "_view_name": "LayoutView",
      "align_content": null,
      "align_items": null,
      "align_self": null,
      "border": null,
      "bottom": null,
      "display": null,
      "flex": null,
      "flex_flow": null,
      "grid_area": null,
      "grid_auto_columns": null,
      "grid_auto_flow": null,
      "grid_auto_rows": null,
      "grid_column": null,
      "grid_gap": null,
      "grid_row": null,
      "grid_template_areas": null,
      "grid_template_columns": null,
      "grid_template_rows": null,
      "height": null,
      "justify_content": null,
      "justify_items": null,
      "left": null,
      "margin": null,
      "max_height": null,
      "max_width": null,
      "min_height": null,
      "min_width": null,
      "object_fit": null,
      "object_position": null,
      "order": null,
      "overflow": null,
      "overflow_x": null,
      "overflow_y": null,
      "padding": null,
      "right": null,
      "top": null,
      "visibility": null,
      "width": null
     }
    },
    "8828da8314db448c91d13a2a4ddc18e8": {
     "model_module": "@jupyter-widgets/controls",
     "model_module_version": "1.5.0",
     "model_name": "ProgressStyleModel",
     "state": {
      "_model_module": "@jupyter-widgets/controls",
      "_model_module_version": "1.5.0",
      "_model_name": "ProgressStyleModel",
      "_view_count": null,
      "_view_module": "@jupyter-widgets/base",
      "_view_module_version": "1.2.0",
      "_view_name": "StyleView",
      "bar_color": null,
      "description_width": ""
     }
    },
    "888cdc234d2b4f1db376a9b3167e1ff0": {
     "model_module": "@jupyter-widgets/controls",
     "model_module_version": "1.5.0",
     "model_name": "DescriptionStyleModel",
     "state": {
      "_model_module": "@jupyter-widgets/controls",
      "_model_module_version": "1.5.0",
      "_model_name": "DescriptionStyleModel",
      "_view_count": null,
      "_view_module": "@jupyter-widgets/base",
      "_view_module_version": "1.2.0",
      "_view_name": "StyleView",
      "description_width": ""
     }
    },
    "974dda04d0bc4846bcd0d6b0c7e72b93": {
     "model_module": "@jupyter-widgets/base",
     "model_module_version": "1.2.0",
     "model_name": "LayoutModel",
     "state": {
      "_model_module": "@jupyter-widgets/base",
      "_model_module_version": "1.2.0",
      "_model_name": "LayoutModel",
      "_view_count": null,
      "_view_module": "@jupyter-widgets/base",
      "_view_module_version": "1.2.0",
      "_view_name": "LayoutView",
      "align_content": null,
      "align_items": null,
      "align_self": null,
      "border": null,
      "bottom": null,
      "display": null,
      "flex": null,
      "flex_flow": null,
      "grid_area": null,
      "grid_auto_columns": null,
      "grid_auto_flow": null,
      "grid_auto_rows": null,
      "grid_column": null,
      "grid_gap": null,
      "grid_row": null,
      "grid_template_areas": null,
      "grid_template_columns": null,
      "grid_template_rows": null,
      "height": null,
      "justify_content": null,
      "justify_items": null,
      "left": null,
      "margin": null,
      "max_height": null,
      "max_width": null,
      "min_height": null,
      "min_width": null,
      "object_fit": null,
      "object_position": null,
      "order": null,
      "overflow": null,
      "overflow_x": null,
      "overflow_y": null,
      "padding": null,
      "right": null,
      "top": null,
      "visibility": null,
      "width": null
     }
    },
    "9e01a2d1fb5c4648b28d5b6a060fa86a": {
     "model_module": "@jupyter-widgets/controls",
     "model_module_version": "1.5.0",
     "model_name": "HTMLModel",
     "state": {
      "_dom_classes": [],
      "_model_module": "@jupyter-widgets/controls",
      "_model_module_version": "1.5.0",
      "_model_name": "HTMLModel",
      "_view_count": null,
      "_view_module": "@jupyter-widgets/controls",
      "_view_module_version": "1.5.0",
      "_view_name": "HTMLView",
      "description": "",
      "description_tooltip": null,
      "layout": "IPY_MODEL_d976b8c192e544eea6232eb747ad0252",
      "placeholder": "​",
      "style": "IPY_MODEL_d237a60760b64101bb92104e16e34b48",
      "value": "Downloading: 100%"
     }
    },
    "a474e597be6d498d881df794d3b9a053": {
     "model_module": "@jupyter-widgets/controls",
     "model_module_version": "1.5.0",
     "model_name": "HTMLModel",
     "state": {
      "_dom_classes": [],
      "_model_module": "@jupyter-widgets/controls",
      "_model_module_version": "1.5.0",
      "_model_name": "HTMLModel",
      "_view_count": null,
      "_view_module": "@jupyter-widgets/controls",
      "_view_module_version": "1.5.0",
      "_view_name": "HTMLView",
      "description": "",
      "description_tooltip": null,
      "layout": "IPY_MODEL_e652906e4c7045c0a4a4defc30058540",
      "placeholder": "​",
      "style": "IPY_MODEL_fd0d9f5c20e449548f75d022628d5c71",
      "value": " 480k/480k [00:00&lt;00:00, 1.24MB/s]"
     }
    },
    "b22722a81c2d46459ef010c0093f9f00": {
     "model_module": "@jupyter-widgets/base",
     "model_module_version": "1.2.0",
     "model_name": "LayoutModel",
     "state": {
      "_model_module": "@jupyter-widgets/base",
      "_model_module_version": "1.2.0",
      "_model_name": "LayoutModel",
      "_view_count": null,
      "_view_module": "@jupyter-widgets/base",
      "_view_module_version": "1.2.0",
      "_view_name": "LayoutView",
      "align_content": null,
      "align_items": null,
      "align_self": null,
      "border": null,
      "bottom": null,
      "display": null,
      "flex": null,
      "flex_flow": null,
      "grid_area": null,
      "grid_auto_columns": null,
      "grid_auto_flow": null,
      "grid_auto_rows": null,
      "grid_column": null,
      "grid_gap": null,
      "grid_row": null,
      "grid_template_areas": null,
      "grid_template_columns": null,
      "grid_template_rows": null,
      "height": null,
      "justify_content": null,
      "justify_items": null,
      "left": null,
      "margin": null,
      "max_height": null,
      "max_width": null,
      "min_height": null,
      "min_width": null,
      "object_fit": null,
      "object_position": null,
      "order": null,
      "overflow": null,
      "overflow_x": null,
      "overflow_y": null,
      "padding": null,
      "right": null,
      "top": null,
      "visibility": null,
      "width": null
     }
    },
    "b229591e07a44e2086dc87b418782c74": {
     "model_module": "@jupyter-widgets/controls",
     "model_module_version": "1.5.0",
     "model_name": "HTMLModel",
     "state": {
      "_dom_classes": [],
      "_model_module": "@jupyter-widgets/controls",
      "_model_module_version": "1.5.0",
      "_model_name": "HTMLModel",
      "_view_count": null,
      "_view_module": "@jupyter-widgets/controls",
      "_view_module_version": "1.5.0",
      "_view_name": "HTMLView",
      "description": "",
      "description_tooltip": null,
      "layout": "IPY_MODEL_b8eddc8e7c40400c90b67b06f3aca8a1",
      "placeholder": "​",
      "style": "IPY_MODEL_36d4b2012b47488398e521fc571b49c2",
      "value": "Downloading: 100%"
     }
    },
    "b8eddc8e7c40400c90b67b06f3aca8a1": {
     "model_module": "@jupyter-widgets/base",
     "model_module_version": "1.2.0",
     "model_name": "LayoutModel",
     "state": {
      "_model_module": "@jupyter-widgets/base",
      "_model_module_version": "1.2.0",
      "_model_name": "LayoutModel",
      "_view_count": null,
      "_view_module": "@jupyter-widgets/base",
      "_view_module_version": "1.2.0",
      "_view_name": "LayoutView",
      "align_content": null,
      "align_items": null,
      "align_self": null,
      "border": null,
      "bottom": null,
      "display": null,
      "flex": null,
      "flex_flow": null,
      "grid_area": null,
      "grid_auto_columns": null,
      "grid_auto_flow": null,
      "grid_auto_rows": null,
      "grid_column": null,
      "grid_gap": null,
      "grid_row": null,
      "grid_template_areas": null,
      "grid_template_columns": null,
      "grid_template_rows": null,
      "height": null,
      "justify_content": null,
      "justify_items": null,
      "left": null,
      "margin": null,
      "max_height": null,
      "max_width": null,
      "min_height": null,
      "min_width": null,
      "object_fit": null,
      "object_position": null,
      "order": null,
      "overflow": null,
      "overflow_x": null,
      "overflow_y": null,
      "padding": null,
      "right": null,
      "top": null,
      "visibility": null,
      "width": null
     }
    },
    "ba089da52ff14ac58810a4f31f761145": {
     "model_module": "@jupyter-widgets/base",
     "model_module_version": "1.2.0",
     "model_name": "LayoutModel",
     "state": {
      "_model_module": "@jupyter-widgets/base",
      "_model_module_version": "1.2.0",
      "_model_name": "LayoutModel",
      "_view_count": null,
      "_view_module": "@jupyter-widgets/base",
      "_view_module_version": "1.2.0",
      "_view_name": "LayoutView",
      "align_content": null,
      "align_items": null,
      "align_self": null,
      "border": null,
      "bottom": null,
      "display": null,
      "flex": null,
      "flex_flow": null,
      "grid_area": null,
      "grid_auto_columns": null,
      "grid_auto_flow": null,
      "grid_auto_rows": null,
      "grid_column": null,
      "grid_gap": null,
      "grid_row": null,
      "grid_template_areas": null,
      "grid_template_columns": null,
      "grid_template_rows": null,
      "height": null,
      "justify_content": null,
      "justify_items": null,
      "left": null,
      "margin": null,
      "max_height": null,
      "max_width": null,
      "min_height": null,
      "min_width": null,
      "object_fit": null,
      "object_position": null,
      "order": null,
      "overflow": null,
      "overflow_x": null,
      "overflow_y": null,
      "padding": null,
      "right": null,
      "top": null,
      "visibility": null,
      "width": null
     }
    },
    "cc9c2797270d40f087c54309e4516db2": {
     "model_module": "@jupyter-widgets/controls",
     "model_module_version": "1.5.0",
     "model_name": "HBoxModel",
     "state": {
      "_dom_classes": [],
      "_model_module": "@jupyter-widgets/controls",
      "_model_module_version": "1.5.0",
      "_model_name": "HBoxModel",
      "_view_count": null,
      "_view_module": "@jupyter-widgets/controls",
      "_view_module_version": "1.5.0",
      "_view_name": "HBoxView",
      "box_style": "",
      "children": [
       "IPY_MODEL_f197cdb00af44d2b981a0d6a69869a83",
       "IPY_MODEL_69b54169aa6e426abe16b70b18be157a",
       "IPY_MODEL_a474e597be6d498d881df794d3b9a053"
      ],
      "layout": "IPY_MODEL_661cf8118a6746eebbcf35fc33fcf2e1"
     }
    },
    "cf44ef62b1bf4cc0b7b0f5578e9b81d5": {
     "model_module": "@jupyter-widgets/controls",
     "model_module_version": "1.5.0",
     "model_name": "ProgressStyleModel",
     "state": {
      "_model_module": "@jupyter-widgets/controls",
      "_model_module_version": "1.5.0",
      "_model_name": "ProgressStyleModel",
      "_view_count": null,
      "_view_module": "@jupyter-widgets/base",
      "_view_module_version": "1.2.0",
      "_view_name": "StyleView",
      "bar_color": null,
      "description_width": ""
     }
    },
    "d237a60760b64101bb92104e16e34b48": {
     "model_module": "@jupyter-widgets/controls",
     "model_module_version": "1.5.0",
     "model_name": "DescriptionStyleModel",
     "state": {
      "_model_module": "@jupyter-widgets/controls",
      "_model_module_version": "1.5.0",
      "_model_name": "DescriptionStyleModel",
      "_view_count": null,
      "_view_module": "@jupyter-widgets/base",
      "_view_module_version": "1.2.0",
      "_view_name": "StyleView",
      "description_width": ""
     }
    },
    "d976b8c192e544eea6232eb747ad0252": {
     "model_module": "@jupyter-widgets/base",
     "model_module_version": "1.2.0",
     "model_name": "LayoutModel",
     "state": {
      "_model_module": "@jupyter-widgets/base",
      "_model_module_version": "1.2.0",
      "_model_name": "LayoutModel",
      "_view_count": null,
      "_view_module": "@jupyter-widgets/base",
      "_view_module_version": "1.2.0",
      "_view_name": "LayoutView",
      "align_content": null,
      "align_items": null,
      "align_self": null,
      "border": null,
      "bottom": null,
      "display": null,
      "flex": null,
      "flex_flow": null,
      "grid_area": null,
      "grid_auto_columns": null,
      "grid_auto_flow": null,
      "grid_auto_rows": null,
      "grid_column": null,
      "grid_gap": null,
      "grid_row": null,
      "grid_template_areas": null,
      "grid_template_columns": null,
      "grid_template_rows": null,
      "height": null,
      "justify_content": null,
      "justify_items": null,
      "left": null,
      "margin": null,
      "max_height": null,
      "max_width": null,
      "min_height": null,
      "min_width": null,
      "object_fit": null,
      "object_position": null,
      "order": null,
      "overflow": null,
      "overflow_x": null,
      "overflow_y": null,
      "padding": null,
      "right": null,
      "top": null,
      "visibility": null,
      "width": null
     }
    },
    "dc5da806f869407faf47421c36f668ce": {
     "model_module": "@jupyter-widgets/base",
     "model_module_version": "1.2.0",
     "model_name": "LayoutModel",
     "state": {
      "_model_module": "@jupyter-widgets/base",
      "_model_module_version": "1.2.0",
      "_model_name": "LayoutModel",
      "_view_count": null,
      "_view_module": "@jupyter-widgets/base",
      "_view_module_version": "1.2.0",
      "_view_name": "LayoutView",
      "align_content": null,
      "align_items": null,
      "align_self": null,
      "border": null,
      "bottom": null,
      "display": null,
      "flex": null,
      "flex_flow": null,
      "grid_area": null,
      "grid_auto_columns": null,
      "grid_auto_flow": null,
      "grid_auto_rows": null,
      "grid_column": null,
      "grid_gap": null,
      "grid_row": null,
      "grid_template_areas": null,
      "grid_template_columns": null,
      "grid_template_rows": null,
      "height": null,
      "justify_content": null,
      "justify_items": null,
      "left": null,
      "margin": null,
      "max_height": null,
      "max_width": null,
      "min_height": null,
      "min_width": null,
      "object_fit": null,
      "object_position": null,
      "order": null,
      "overflow": null,
      "overflow_x": null,
      "overflow_y": null,
      "padding": null,
      "right": null,
      "top": null,
      "visibility": null,
      "width": null
     }
    },
    "df38a12805f44f09ba952c26a2c609f5": {
     "model_module": "@jupyter-widgets/controls",
     "model_module_version": "1.5.0",
     "model_name": "HBoxModel",
     "state": {
      "_dom_classes": [],
      "_model_module": "@jupyter-widgets/controls",
      "_model_module_version": "1.5.0",
      "_model_name": "HBoxModel",
      "_view_count": null,
      "_view_module": "@jupyter-widgets/controls",
      "_view_module_version": "1.5.0",
      "_view_name": "HBoxView",
      "box_style": "",
      "children": [
       "IPY_MODEL_e9ed66efdfca45f7bd28c9be21f3a7f5",
       "IPY_MODEL_139d4e6eb11745db8feb2bea11360e6a",
       "IPY_MODEL_5a1effaa9ce649e1a928fa39f543b708"
      ],
      "layout": "IPY_MODEL_2820009e8a8445549657fda5f1dbcbde"
     }
    },
    "e22183912b884784aa81b95e68db42ea": {
     "model_module": "@jupyter-widgets/base",
     "model_module_version": "1.2.0",
     "model_name": "LayoutModel",
     "state": {
      "_model_module": "@jupyter-widgets/base",
      "_model_module_version": "1.2.0",
      "_model_name": "LayoutModel",
      "_view_count": null,
      "_view_module": "@jupyter-widgets/base",
      "_view_module_version": "1.2.0",
      "_view_name": "LayoutView",
      "align_content": null,
      "align_items": null,
      "align_self": null,
      "border": null,
      "bottom": null,
      "display": null,
      "flex": null,
      "flex_flow": null,
      "grid_area": null,
      "grid_auto_columns": null,
      "grid_auto_flow": null,
      "grid_auto_rows": null,
      "grid_column": null,
      "grid_gap": null,
      "grid_row": null,
      "grid_template_areas": null,
      "grid_template_columns": null,
      "grid_template_rows": null,
      "height": null,
      "justify_content": null,
      "justify_items": null,
      "left": null,
      "margin": null,
      "max_height": null,
      "max_width": null,
      "min_height": null,
      "min_width": null,
      "object_fit": null,
      "object_position": null,
      "order": null,
      "overflow": null,
      "overflow_x": null,
      "overflow_y": null,
      "padding": null,
      "right": null,
      "top": null,
      "visibility": null,
      "width": null
     }
    },
    "e652906e4c7045c0a4a4defc30058540": {
     "model_module": "@jupyter-widgets/base",
     "model_module_version": "1.2.0",
     "model_name": "LayoutModel",
     "state": {
      "_model_module": "@jupyter-widgets/base",
      "_model_module_version": "1.2.0",
      "_model_name": "LayoutModel",
      "_view_count": null,
      "_view_module": "@jupyter-widgets/base",
      "_view_module_version": "1.2.0",
      "_view_name": "LayoutView",
      "align_content": null,
      "align_items": null,
      "align_self": null,
      "border": null,
      "bottom": null,
      "display": null,
      "flex": null,
      "flex_flow": null,
      "grid_area": null,
      "grid_auto_columns": null,
      "grid_auto_flow": null,
      "grid_auto_rows": null,
      "grid_column": null,
      "grid_gap": null,
      "grid_row": null,
      "grid_template_areas": null,
      "grid_template_columns": null,
      "grid_template_rows": null,
      "height": null,
      "justify_content": null,
      "justify_items": null,
      "left": null,
      "margin": null,
      "max_height": null,
      "max_width": null,
      "min_height": null,
      "min_width": null,
      "object_fit": null,
      "object_position": null,
      "order": null,
      "overflow": null,
      "overflow_x": null,
      "overflow_y": null,
      "padding": null,
      "right": null,
      "top": null,
      "visibility": null,
      "width": null
     }
    },
    "e966e2807dfa4b59ab471949a0ad8e40": {
     "model_module": "@jupyter-widgets/controls",
     "model_module_version": "1.5.0",
     "model_name": "FloatProgressModel",
     "state": {
      "_dom_classes": [],
      "_model_module": "@jupyter-widgets/controls",
      "_model_module_version": "1.5.0",
      "_model_name": "FloatProgressModel",
      "_view_count": null,
      "_view_module": "@jupyter-widgets/controls",
      "_view_module_version": "1.5.0",
      "_view_name": "ProgressView",
      "bar_style": "success",
      "description": "",
      "description_tooltip": null,
      "layout": "IPY_MODEL_7995423456ad48a2a8d098d270875bff",
      "max": 169,
      "min": 0,
      "orientation": "horizontal",
      "style": "IPY_MODEL_45f716eab34b474ca5306c7ce2b6a98f",
      "value": 169
     }
    },
    "e9ed66efdfca45f7bd28c9be21f3a7f5": {
     "model_module": "@jupyter-widgets/controls",
     "model_module_version": "1.5.0",
     "model_name": "HTMLModel",
     "state": {
      "_dom_classes": [],
      "_model_module": "@jupyter-widgets/controls",
      "_model_module_version": "1.5.0",
      "_model_name": "HTMLModel",
      "_view_count": null,
      "_view_module": "@jupyter-widgets/controls",
      "_view_module_version": "1.5.0",
      "_view_name": "HTMLView",
      "description": "",
      "description_tooltip": null,
      "layout": "IPY_MODEL_e22183912b884784aa81b95e68db42ea",
      "placeholder": "​",
      "style": "IPY_MODEL_7122e4afe60b437385524361a7032117",
      "value": "Downloading: 100%"
     }
    },
    "f197cdb00af44d2b981a0d6a69869a83": {
     "model_module": "@jupyter-widgets/controls",
     "model_module_version": "1.5.0",
     "model_name": "HTMLModel",
     "state": {
      "_dom_classes": [],
      "_model_module": "@jupyter-widgets/controls",
      "_model_module_version": "1.5.0",
      "_model_name": "HTMLModel",
      "_view_count": null,
      "_view_module": "@jupyter-widgets/controls",
      "_view_module_version": "1.5.0",
      "_view_name": "HTMLView",
      "description": "",
      "description_tooltip": null,
      "layout": "IPY_MODEL_dc5da806f869407faf47421c36f668ce",
      "placeholder": "​",
      "style": "IPY_MODEL_79478555a806415aa66fa5eb1de2b2b1",
      "value": "Downloading: 100%"
     }
    },
    "f70a75ec530641ab8a9ef97e845b35a7": {
     "model_module": "@jupyter-widgets/base",
     "model_module_version": "1.2.0",
     "model_name": "LayoutModel",
     "state": {
      "_model_module": "@jupyter-widgets/base",
      "_model_module_version": "1.2.0",
      "_model_name": "LayoutModel",
      "_view_count": null,
      "_view_module": "@jupyter-widgets/base",
      "_view_module_version": "1.2.0",
      "_view_name": "LayoutView",
      "align_content": null,
      "align_items": null,
      "align_self": null,
      "border": null,
      "bottom": null,
      "display": null,
      "flex": null,
      "flex_flow": null,
      "grid_area": null,
      "grid_auto_columns": null,
      "grid_auto_flow": null,
      "grid_auto_rows": null,
      "grid_column": null,
      "grid_gap": null,
      "grid_row": null,
      "grid_template_areas": null,
      "grid_template_columns": null,
      "grid_template_rows": null,
      "height": null,
      "justify_content": null,
      "justify_items": null,
      "left": null,
      "margin": null,
      "max_height": null,
      "max_width": null,
      "min_height": null,
      "min_width": null,
      "object_fit": null,
      "object_position": null,
      "order": null,
      "overflow": null,
      "overflow_x": null,
      "overflow_y": null,
      "padding": null,
      "right": null,
      "top": null,
      "visibility": null,
      "width": null
     }
    },
    "fa0fc95a58604ec386f4e1ed98a968d6": {
     "model_module": "@jupyter-widgets/base",
     "model_module_version": "1.2.0",
     "model_name": "LayoutModel",
     "state": {
      "_model_module": "@jupyter-widgets/base",
      "_model_module_version": "1.2.0",
      "_model_name": "LayoutModel",
      "_view_count": null,
      "_view_module": "@jupyter-widgets/base",
      "_view_module_version": "1.2.0",
      "_view_name": "LayoutView",
      "align_content": null,
      "align_items": null,
      "align_self": null,
      "border": null,
      "bottom": null,
      "display": null,
      "flex": null,
      "flex_flow": null,
      "grid_area": null,
      "grid_auto_columns": null,
      "grid_auto_flow": null,
      "grid_auto_rows": null,
      "grid_column": null,
      "grid_gap": null,
      "grid_row": null,
      "grid_template_areas": null,
      "grid_template_columns": null,
      "grid_template_rows": null,
      "height": null,
      "justify_content": null,
      "justify_items": null,
      "left": null,
      "margin": null,
      "max_height": null,
      "max_width": null,
      "min_height": null,
      "min_width": null,
      "object_fit": null,
      "object_position": null,
      "order": null,
      "overflow": null,
      "overflow_x": null,
      "overflow_y": null,
      "padding": null,
      "right": null,
      "top": null,
      "visibility": null,
      "width": null
     }
    },
    "fd0d9f5c20e449548f75d022628d5c71": {
     "model_module": "@jupyter-widgets/controls",
     "model_module_version": "1.5.0",
     "model_name": "DescriptionStyleModel",
     "state": {
      "_model_module": "@jupyter-widgets/controls",
      "_model_module_version": "1.5.0",
      "_model_name": "DescriptionStyleModel",
      "_view_count": null,
      "_view_module": "@jupyter-widgets/base",
      "_view_module_version": "1.2.0",
      "_view_name": "StyleView",
      "description_width": ""
     }
    }
   }
  }
 },
 "nbformat": 4,
 "nbformat_minor": 1
}
