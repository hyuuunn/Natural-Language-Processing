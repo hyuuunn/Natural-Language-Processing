{
 "cells": [
  {
   "cell_type": "markdown",
   "metadata": {
    "id": "h0NRhF4dKNT-"
   },
   "source": [
    "# Multi-Kernel CNN을 이용한 영어 문장 의도 분류"
   ]
  },
  {
   "cell_type": "markdown",
   "metadata": {
    "id": "2zuvkzQ9KNT_"
   },
   "source": [
    "## 데이터 로드하기"
   ]
  },
  {
   "cell_type": "code",
   "execution_count": null,
   "metadata": {
    "id": "QRtJL8RWKNUA"
   },
   "outputs": [],
   "source": [
    "import os\n",
    "import pandas as pd\n",
    "import numpy as np\n",
    "import matplotlib.pyplot as plt\n",
    "%matplotlib inline\n",
    "\n",
    "from sklearn import preprocessing\n",
    "from tensorflow.keras.preprocessing.text import Tokenizer\n",
    "from tensorflow.keras.preprocessing.sequence import pad_sequences\n",
    "from tensorflow.keras.utils import to_categorical\n",
    "from tensorflow.keras.models import Model\n",
    "from tensorflow.keras.layers import Embedding, Dropout, Conv1D, GlobalMaxPooling1D, Dense, Input, Flatten, Concatenate\n",
    "from sklearn.metrics import classification_report\n",
    "import urllib.request\n",
    "\n",
    "embedding_dim = 100 \n",
    "n_of_val = 0.10"
   ]
  },
  {
   "cell_type": "code",
   "execution_count": null,
   "metadata": {
    "colab": {
     "base_uri": "https://localhost:8080/"
    },
    "id": "eIWTydHbLMJw",
    "outputId": "73a2b272-8d57-4920-881f-423c16795cda"
   },
   "outputs": [
    {
     "data": {
      "text/plain": [
       "('test_label.npy', <http.client.HTTPMessage at 0x7f6c9197d890>)"
      ]
     },
     "execution_count": 2,
     "metadata": {
      "tags": []
     },
     "output_type": "execute_result"
    }
   ],
   "source": [
    "urllib.request.urlretrieve(\"https://github.com/ajinkyaT/CNN_Intent_Classification/raw/master/data/train_text.npy\", filename=\"train_text.npy\")\n",
    "urllib.request.urlretrieve(\"https://github.com/ajinkyaT/CNN_Intent_Classification/raw/master/data/test_text.npy\", filename=\"test_text.npy\")\n",
    "urllib.request.urlretrieve(\"https://github.com/ajinkyaT/CNN_Intent_Classification/raw/master/data/train_label.npy\", filename=\"train_label.npy\")\n",
    "urllib.request.urlretrieve(\"https://github.com/ajinkyaT/CNN_Intent_Classification/raw/master/data/test_label.npy\", filename=\"test_label.npy\")"
   ]
  },
  {
   "cell_type": "code",
   "execution_count": null,
   "metadata": {
    "colab": {
     "base_uri": "https://localhost:8080/"
    },
    "id": "t8qdch_hL0Ey",
    "outputId": "4244a276-ba55-48c5-b609-50b4e4076ab7"
   },
   "outputs": [
    {
     "name": "stdout",
     "output_type": "stream",
     "text": [
      "sample_data  test_label.npy  test_text.npy  train_label.npy  train_text.npy\n"
     ]
    }
   ],
   "source": [
    "!ls"
   ]
  },
  {
   "cell_type": "code",
   "execution_count": null,
   "metadata": {
    "id": "FpcyZVi9MS0I"
   },
   "outputs": [],
   "source": [
    "old = np.load\n",
    "np.load = lambda *a,**k: old(*a,allow_pickle=True,**k)"
   ]
  },
  {
   "cell_type": "code",
   "execution_count": null,
   "metadata": {
    "id": "WXs1A4VfKNUE"
   },
   "outputs": [],
   "source": [
    "intent_train = np.load(open('train_text.npy', 'rb')).tolist()\n",
    "label_train = np.load(open('train_label.npy', 'rb')).tolist()\n",
    "\n",
    "intent_test = np.load(open('test_text.npy', 'rb')).tolist()\n",
    "label_test = np.load(open('test_label.npy', 'rb')).tolist()"
   ]
  },
  {
   "cell_type": "code",
   "execution_count": null,
   "metadata": {
    "colab": {
     "base_uri": "https://localhost:8080/",
     "height": 35
    },
    "id": "g0Gc5t1HmVut",
    "outputId": "7c3a9c93-5fda-443a-b0cb-b73fa57dbf9c"
   },
   "outputs": [
    {
     "data": {
      "application/vnd.google.colaboratory.intrinsic+json": {
       "type": "string"
      },
      "text/plain": [
       "'1.19.5'"
      ]
     },
     "execution_count": 6,
     "metadata": {
      "tags": []
     },
     "output_type": "execute_result"
    }
   ],
   "source": [
    "np.__version__"
   ]
  },
  {
   "cell_type": "code",
   "execution_count": null,
   "metadata": {
    "colab": {
     "base_uri": "https://localhost:8080/",
     "height": 87
    },
    "id": "KDwcGKAA9jYB",
    "outputId": "5f9f703c-c5ef-4706-ad8e-385edf1bd476"
   },
   "outputs": [
    {
     "name": "stdout",
     "output_type": "stream",
     "text": [
      "훈련용 문장의 수 : 11784\n",
      "훈련용 레이블의 수 : 11784\n",
      "테스트용 문장의 수 : 600\n",
      "테스트용 레이블의 수 : 600\n"
     ]
    }
   ],
   "source": [
    "print('훈련용 문장의 수 :', len(intent_train))\n",
    "print('훈련용 레이블의 수 :', len(label_train))\n",
    "print('테스트용 문장의 수 :', len(intent_test))\n",
    "print('테스트용 레이블의 수 :', len(label_test))"
   ]
  },
  {
   "cell_type": "code",
   "execution_count": null,
   "metadata": {
    "colab": {
     "base_uri": "https://localhost:8080/",
     "height": 72
    },
    "id": "wjaBgH0-Mt0g",
    "outputId": "14b2edf1-8ff8-4fd2-fb34-e880817a68d9"
   },
   "outputs": [
    {
     "name": "stdout",
     "output_type": "stream",
     "text": [
      "['add another song to the cita rom ntica playlist', 'add clem burke in my playlist pre party r b jams', 'add live from aragon ballroom to trapeo', 'add unite and win to my night out', 'add track to my digster future hits']\n",
      "['AddToPlaylist', 'AddToPlaylist', 'AddToPlaylist', 'AddToPlaylist', 'AddToPlaylist']\n"
     ]
    }
   ],
   "source": [
    "print(intent_train[:5])\n",
    "print(label_train[:5])"
   ]
  },
  {
   "cell_type": "code",
   "execution_count": null,
   "metadata": {
    "colab": {
     "base_uri": "https://localhost:8080/",
     "height": 52
    },
    "id": "PZlNPDKR9UVW",
    "outputId": "1351a77f-fdac-4322-f43f-8ebc0d825b67"
   },
   "outputs": [
    {
     "name": "stdout",
     "output_type": "stream",
     "text": [
      "['please book reservations for 3 people at a restaurant in alderwood manor', 'book a table in mt for 3 for now at a pub that serves south indian']\n",
      "['BookRestaurant', 'BookRestaurant']\n"
     ]
    }
   ],
   "source": [
    "print(intent_train[2000:2002])\n",
    "print(label_train[2000:2002])"
   ]
  },
  {
   "cell_type": "code",
   "execution_count": null,
   "metadata": {
    "colab": {
     "base_uri": "https://localhost:8080/",
     "height": 52
    },
    "id": "t4tXqZD69mNH",
    "outputId": "fecaeb99-5f75-42d4-977d-fc61e887f712"
   },
   "outputs": [
    {
     "name": "stdout",
     "output_type": "stream",
     "text": [
      "['what will the weather be like on feb 8 , 2034 in cedar mountain wilderness', \"tell me the forecast in the same area here on robert e lee 's birthday\"]\n",
      "['GetWeather', 'GetWeather']\n"
     ]
    }
   ],
   "source": [
    "print(intent_train[4000:4002])\n",
    "print(label_train[4000:4002])"
   ]
  },
  {
   "cell_type": "code",
   "execution_count": null,
   "metadata": {
    "colab": {
     "base_uri": "https://localhost:8080/",
     "height": 52
    },
    "id": "ko1_IINr9oU8",
    "outputId": "8be99e6e-7f55-4b41-8f3a-bccf299f19b6"
   },
   "outputs": [
    {
     "name": "stdout",
     "output_type": "stream",
     "text": [
      "['rate the current album one points', 'i give a zero rating for this essay']\n",
      "['RateBook', 'RateBook']\n"
     ]
    }
   ],
   "source": [
    "print(intent_train[6000:6002])\n",
    "print(label_train[6000:6002])"
   ]
  },
  {
   "cell_type": "code",
   "execution_count": null,
   "metadata": {
    "colab": {
     "base_uri": "https://localhost:8080/",
     "height": 52
    },
    "id": "AodRQnOp9qgb",
    "outputId": "a62b478a-ded5-4753-f55b-201e3c607097"
   },
   "outputs": [
    {
     "name": "stdout",
     "output_type": "stream",
     "text": [
      "[\"i'm trying to find the show chant ii\", 'find spirit of the bush']\n",
      "['SearchCreativeWork', 'SearchCreativeWork']\n"
     ]
    }
   ],
   "source": [
    "print(intent_train[8000:8002])\n",
    "print(label_train[8000:8002])"
   ]
  },
  {
   "cell_type": "code",
   "execution_count": null,
   "metadata": {
    "colab": {
     "base_uri": "https://localhost:8080/",
     "height": 52
    },
    "id": "8EmaA5pw9upu",
    "outputId": "ec4a3f82-ce28-4795-fa1d-7266bbcfa837"
   },
   "outputs": [
    {
     "name": "stdout",
     "output_type": "stream",
     "text": [
      "['when is blood and ice cream trilogie playing at the nearest movie theatre \\\\?', 'show movie schedules']\n",
      "['SearchScreeningEvent', 'SearchScreeningEvent']\n"
     ]
    }
   ],
   "source": [
    "print(intent_train[10000:10002])\n",
    "print(label_train[10000:10002])"
   ]
  },
  {
   "cell_type": "code",
   "execution_count": null,
   "metadata": {
    "colab": {
     "base_uri": "https://localhost:8080/",
     "height": 385
    },
    "id": "qBiHGTmvARP3",
    "outputId": "1d9f61d7-6e4e-414b-a269-afb40dff84ae"
   },
   "outputs": [
    {
     "data": {
      "text/plain": [
       "<matplotlib.axes._subplots.AxesSubplot at 0x7f42641119b0>"
      ]
     },
     "execution_count": 13,
     "metadata": {
      "tags": []
     },
     "output_type": "execute_result"
    },
    {
     "data": {
      "image/png": "[encoded data removed]",
      "text/plain": [
       "<Figure size 432x288 with 1 Axes>"
      ]
     },
     "metadata": {
      "needs_background": "light",
      "tags": []
     },
     "output_type": "display_data"
    }
   ],
   "source": [
    "temp = pd.Series(label_train)\n",
    "temp.value_counts().plot(kind = 'bar')"
   ]
  },
  {
   "cell_type": "markdown",
   "metadata": {
    "id": "cgscnKU_QMUl"
   },
   "source": [
    "훈련 데이터에는 6개의 카테고리가 존재.  \n",
    "AddToPlaylist, BookRestaurant, GetWeather , RateBook , SearchCreativeWork, SearchScreeningEvent  \n",
    "각각의 데이터는 약 2,000개씩 존재."
   ]
  },
  {
   "cell_type": "code",
   "execution_count": null,
   "metadata": {
    "colab": {
     "base_uri": "https://localhost:8080/",
     "height": 34
    },
    "id": "Z0tC6ersMF8Q",
    "outputId": "46133913-0571-4a47-a6ec-388194af7003"
   },
   "outputs": [
    {
     "name": "stdout",
     "output_type": "stream",
     "text": [
      "{'AddToPlaylist': 0, 'BookRestaurant': 1, 'GetWeather': 2, 'RateBook': 3, 'SearchCreativeWork': 4, 'SearchScreeningEvent': 5}\n"
     ]
    }
   ],
   "source": [
    "# 레이블 인코딩. 레이블을 정수로 변환\n",
    "idx_encode = preprocessing.LabelEncoder()\n",
    "idx_encode.fit(label_train)\n",
    "\n",
    "label_train = idx_encode.transform(label_train)\n",
    "label_test = idx_encode.transform(label_test)\n",
    "\n",
    "label_idx = dict(zip(list(idx_encode.classes_), idx_encode.transform(list(idx_encode.classes_))))\n",
    "print(label_idx)"
   ]
  },
  {
   "cell_type": "code",
   "execution_count": null,
   "metadata": {
    "colab": {
     "base_uri": "https://localhost:8080/",
     "height": 72
    },
    "id": "S7E2AsgdMgUP",
    "outputId": "92c7fd9a-1f42-44bf-d5bc-f6e7784d3e7a"
   },
   "outputs": [
    {
     "name": "stdout",
     "output_type": "stream",
     "text": [
      "['add another song to the cita rom ntica playlist', 'add clem burke in my playlist pre party r b jams', 'add live from aragon ballroom to trapeo', 'add unite and win to my night out', 'add track to my digster future hits']\n",
      "[0 0 0 0 0]\n"
     ]
    }
   ],
   "source": [
    "print(intent_train[:5])\n",
    "print(label_train[:5])"
   ]
  },
  {
   "cell_type": "code",
   "execution_count": null,
   "metadata": {
    "colab": {
     "base_uri": "https://localhost:8080/",
     "height": 72
    },
    "id": "IYPmGDIAMpk3",
    "outputId": "d3ef94cc-b96f-497f-f218-6602b4184c60"
   },
   "outputs": [
    {
     "name": "stdout",
     "output_type": "stream",
     "text": [
      "[\"i 'd like to have this track onto my classical relaxations playlist\", 'add the album to my flow espa ol playlist', 'add digging now to my young at heart playlist', 'add this song by too poetic to my piano ballads playlist', 'add this album to old school death metal']\n",
      "[0 0 0 0 0]\n"
     ]
    }
   ],
   "source": [
    "print(intent_test[:5])\n",
    "print(label_test[:5])"
   ]
  },
  {
   "cell_type": "markdown",
   "metadata": {
    "id": "tw8jxaFxKNUH"
   },
   "source": [
    "## 토큰화 & 정수 인코딩 & 패딩"
   ]
  },
  {
   "cell_type": "code",
   "execution_count": null,
   "metadata": {
    "id": "GD2BzFCCKNUH"
   },
   "outputs": [],
   "source": [
    "tokenizer = Tokenizer()\n",
    "tokenizer.fit_on_texts(intent_train)\n",
    "sequences = tokenizer.texts_to_sequences(intent_train)"
   ]
  },
  {
   "cell_type": "code",
   "execution_count": null,
   "metadata": {
    "colab": {
     "base_uri": "https://localhost:8080/",
     "height": 105
    },
    "id": "vX5tFYSvrl9s",
    "outputId": "91fff515-89bc-4577-d505-fe775427f5c3"
   },
   "outputs": [
    {
     "data": {
      "text/plain": [
       "[[11, 191, 61, 4, 1, 4013, 1141, 1572, 15],\n",
       " [11, 2624, 1573, 3, 14, 15, 939, 82, 256, 188, 548],\n",
       " [11, 187, 42, 2625, 4014, 4, 1968],\n",
       " [11, 2626, 22, 2627, 4, 14, 192, 27],\n",
       " [11, 92, 4, 14, 651, 520, 195]]"
      ]
     },
     "execution_count": 18,
     "metadata": {
      "tags": []
     },
     "output_type": "execute_result"
    }
   ],
   "source": [
    "sequences[:5]"
   ]
  },
  {
   "cell_type": "code",
   "execution_count": null,
   "metadata": {
    "colab": {
     "base_uri": "https://localhost:8080/",
     "height": 314
    },
    "id": "OTOYud5ertlL",
    "outputId": "49cc8b5a-dc1d-4166-8493-efbe0c7ea5be"
   },
   "outputs": [
    {
     "name": "stdout",
     "output_type": "stream",
     "text": [
      "문장의 최대 길이 : 35\n",
      "문장의 평균 길이 : 9.364392396469789\n"
     ]
    },
    {
     "data": {
      "image/png": "[encoded data removed]",
      "text/plain": [
       "<Figure size 432x288 with 1 Axes>"
      ]
     },
     "metadata": {
      "needs_background": "light",
      "tags": []
     },
     "output_type": "display_data"
    }
   ],
   "source": [
    "print('문장의 최대 길이 :',max(len(l) for l in sequences))\n",
    "print('문장의 평균 길이 :',sum(map(len, sequences))/len(sequences))\n",
    "plt.hist([len(s) for s in sequences], bins=50)\n",
    "plt.xlabel('length of samples')\n",
    "plt.ylabel('number of samples')\n",
    "plt.show()"
   ]
  },
  {
   "cell_type": "code",
   "execution_count": null,
   "metadata": {
    "colab": {
     "base_uri": "https://localhost:8080/",
     "height": 34
    },
    "id": "WwhRJMHurjKW",
    "outputId": "1d79e2ae-f661-4bae-898b-fa91169551d1"
   },
   "outputs": [
    {
     "name": "stdout",
     "output_type": "stream",
     "text": [
      "단어 집합(Vocabulary)의 크기 : 9870\n"
     ]
    }
   ],
   "source": [
    "word_index = tokenizer.word_index\n",
    "vocab_size = len(word_index) + 1\n",
    "print('단어 집합(Vocabulary)의 크기 :',vocab_size)"
   ]
  },
  {
   "cell_type": "code",
   "execution_count": null,
   "metadata": {
    "id": "6CxzEJ6Vr3lz"
   },
   "outputs": [],
   "source": [
    "max_len = 35"
   ]
  },
  {
   "cell_type": "code",
   "execution_count": null,
   "metadata": {
    "colab": {
     "base_uri": "https://localhost:8080/",
     "height": 52
    },
    "id": "NLnAICqcrlUI",
    "outputId": "bc4b1ff5-5c78-4287-acd8-cd982bcdc23a"
   },
   "outputs": [
    {
     "name": "stdout",
     "output_type": "stream",
     "text": [
      "전체 데이터의 크기(shape): (11784, 35)\n",
      "레이블 데이터의 크기(shape): (11784, 6)\n"
     ]
    }
   ],
   "source": [
    "intent_train = pad_sequences(sequences, maxlen = max_len)\n",
    "label_train = to_categorical(np.asarray(label_train))\n",
    "print('전체 데이터의 크기(shape):', intent_train.shape)\n",
    "print('레이블 데이터의 크기(shape):', label_train.shape)"
   ]
  },
  {
   "cell_type": "code",
   "execution_count": null,
   "metadata": {
    "colab": {
     "base_uri": "https://localhost:8080/",
     "height": 87
    },
    "id": "e98Zri6HuPY7",
    "outputId": "270483a7-88bf-42e6-800b-3667af6da342"
   },
   "outputs": [
    {
     "name": "stdout",
     "output_type": "stream",
     "text": [
      "[   0    0    0    0    0    0    0    0    0    0    0    0    0    0\n",
      "    0    0    0    0    0    0    0    0    0    0    0    0   11  191\n",
      "   61    4    1 4013 1141 1572   15]\n",
      "[1. 0. 0. 0. 0. 0.]\n"
     ]
    }
   ],
   "source": [
    "print(intent_train[0])\n",
    "print(label_train[0])"
   ]
  },
  {
   "cell_type": "markdown",
   "metadata": {
    "id": "DWB6Ep9CTNkR"
   },
   "source": [
    "## 데이터 셔플"
   ]
  },
  {
   "cell_type": "code",
   "execution_count": null,
   "metadata": {
    "id": "gpb0iTPBNbBY"
   },
   "outputs": [],
   "source": [
    "# split the data into a training set and a validation set\n",
    "indices = np.arange(intent_train.shape[0])\n",
    "np.random.shuffle(indices)"
   ]
  },
  {
   "cell_type": "code",
   "execution_count": null,
   "metadata": {
    "colab": {
     "base_uri": "https://localhost:8080/",
     "height": 34
    },
    "id": "S809tWJJqg7O",
    "outputId": "6d753a5e-6d6f-4412-da46-c67170f50702"
   },
   "outputs": [
    {
     "name": "stdout",
     "output_type": "stream",
     "text": [
      "[1147 9504 9615 ... 4685  227 8774]\n"
     ]
    }
   ],
   "source": [
    "print(indices)"
   ]
  },
  {
   "cell_type": "code",
   "execution_count": null,
   "metadata": {
    "id": "8bUOkFvEqeXq"
   },
   "outputs": [],
   "source": [
    "intent_train = intent_train[indices]\n",
    "label_train = label_train[indices]"
   ]
  },
  {
   "cell_type": "markdown",
   "metadata": {
    "id": "aObpZSGWTV1Z"
   },
   "source": [
    "## 검증 데이터 분리"
   ]
  },
  {
   "cell_type": "code",
   "execution_count": null,
   "metadata": {
    "id": "hgnWEUS2r6Lu"
   },
   "outputs": [],
   "source": [
    "n_of_val = int(0.1 * intent_train.shape[0])"
   ]
  },
  {
   "cell_type": "code",
   "execution_count": null,
   "metadata": {
    "colab": {
     "base_uri": "https://localhost:8080/",
     "height": 34
    },
    "id": "zXf8Hssjv1pb",
    "outputId": "577603ab-44df-451a-9b01-7e5f34bf6ce7"
   },
   "outputs": [
    {
     "name": "stdout",
     "output_type": "stream",
     "text": [
      "1178\n"
     ]
    }
   ],
   "source": [
    "print(n_of_val)"
   ]
  },
  {
   "cell_type": "code",
   "execution_count": null,
   "metadata": {
    "id": "9CusrkOqvy7F"
   },
   "outputs": [],
   "source": [
    "X_train = intent_train[:-n_of_val]\n",
    "y_train = label_train[:-n_of_val]\n",
    "X_val = intent_train[-n_of_val:]\n",
    "y_val = label_train[-n_of_val:]\n",
    "X_test = intent_test\n",
    "y_test = label_test"
   ]
  },
  {
   "cell_type": "code",
   "execution_count": null,
   "metadata": {
    "colab": {
     "base_uri": "https://localhost:8080/",
     "height": 123
    },
    "id": "WWOY0XNd0at8",
    "outputId": "2192cfa8-da12-4724-c57b-eebf59e06ae4"
   },
   "outputs": [
    {
     "name": "stdout",
     "output_type": "stream",
     "text": [
      "훈련 데이터의 크기(shape): (10606, 35)\n",
      "검증 데이터의 크기(shape): (1178, 35)\n",
      "훈련 데이터 레이블의 개수(shape): (10606, 6)\n",
      "검증 데이터 레이블의 개수(shape): (1178, 6)\n",
      "테스트 데이터의 개수 : 600\n",
      "테스트 데이터 레이블의 개수 : 600\n"
     ]
    }
   ],
   "source": [
    "print('훈련 데이터의 크기(shape):', X_train.shape)\n",
    "print('검증 데이터의 크기(shape):', X_val.shape)\n",
    "print('훈련 데이터 레이블의 개수(shape):', y_train.shape)\n",
    "print('검증 데이터 레이블의 개수(shape):', y_val.shape)\n",
    "print('테스트 데이터의 개수 :', len(X_test))\n",
    "print('테스트 데이터 레이블의 개수 :', len(y_test))"
   ]
  },
  {
   "cell_type": "markdown",
   "metadata": {
    "id": "Z9Iv4ttBKNUK"
   },
   "source": [
    "## 사전 훈련된 워드 임베딩(Pre-traiend Word Embedding)"
   ]
  },
  {
   "cell_type": "code",
   "execution_count": null,
   "metadata": {
    "colab": {
     "base_uri": "https://localhost:8080/",
     "height": 461
    },
    "id": "iAkdNRZfOtYa",
    "outputId": "466b8f1b-85e0-4407-9b70-b683928ce2d1"
   },
   "outputs": [
    {
     "name": "stdout",
     "output_type": "stream",
     "text": [
      "--2020-07-15 04:27:19--  http://nlp.stanford.edu/data/glove.6B.zip\n",
      "Resolving nlp.stanford.edu (nlp.stanford.edu)... 171.64.67.140\n",
      "Connecting to nlp.stanford.edu (nlp.stanford.edu)|171.64.67.140|:80... connected.\n",
      "HTTP request sent, awaiting response... 302 Found\n",
      "Location: https://nlp.stanford.edu/data/glove.6B.zip [following]\n",
      "--2020-07-15 04:27:19--  https://nlp.stanford.edu/data/glove.6B.zip\n",
      "Connecting to nlp.stanford.edu (nlp.stanford.edu)|171.64.67.140|:443... connected.\n",
      "HTTP request sent, awaiting response... 301 Moved Permanently\n",
      "Location: http://downloads.cs.stanford.edu/nlp/data/glove.6B.zip [following]\n",
      "--2020-07-15 04:27:20--  http://downloads.cs.stanford.edu/nlp/data/glove.6B.zip\n",
      "Resolving downloads.cs.stanford.edu (downloads.cs.stanford.edu)... 171.64.64.22\n",
      "Connecting to downloads.cs.stanford.edu (downloads.cs.stanford.edu)|171.64.64.22|:80... connected.\n",
      "HTTP request sent, awaiting response... 200 OK\n",
      "Length: 862182613 (822M) [application/zip]\n",
      "Saving to: ‘glove.6B.zip’\n",
      "\n",
      "glove.6B.zip        100%[===================>] 822.24M  2.02MB/s    in 6m 28s  \n",
      "\n",
      "2020-07-15 04:33:48 (2.12 MB/s) - ‘glove.6B.zip’ saved [862182613/862182613]\n",
      "\n",
      "Archive:  glove.6B.zip\n",
      "  inflating: glove.6B.50d.txt        \n",
      "  inflating: glove.6B.100d.txt       \n",
      "  inflating: glove.6B.200d.txt       \n",
      "  inflating: glove.6B.300d.txt       \n"
     ]
    }
   ],
   "source": [
    "!wget http://nlp.stanford.edu/data/glove.6B.zip\n",
    "!unzip glove*.zip"
   ]
  },
  {
   "cell_type": "code",
   "execution_count": null,
   "metadata": {
    "colab": {
     "base_uri": "https://localhost:8080/",
     "height": 52
    },
    "id": "aRFwNOg1P5oe",
    "outputId": "8cc50ddb-6d8a-4b11-cab9-30bd04b495be"
   },
   "outputs": [
    {
     "name": "stdout",
     "output_type": "stream",
     "text": [
      "Indexing word vectors.\n",
      "400000개의 Embedding vector가 있습니다.\n"
     ]
    }
   ],
   "source": [
    "print('Indexing word vectors.')\n",
    "\n",
    "embedding_dict = dict()\n",
    "f = open(os.path.join('glove.6B.100d.txt'), encoding='utf-8')\n",
    "for line in f:\n",
    "    word_vector = line.split()\n",
    "    word = word_vector[0]\n",
    "    word_vector_arr = np.asarray(word_vector[1:], dtype='float32') # 100개의 값을 가지는 array로 변환\n",
    "    embedding_dict[word] = word_vector_arr\n",
    "f.close()\n",
    "\n",
    "print('%s개의 Embedding vector가 있습니다.' % len(embedding_dict))"
   ]
  },
  {
   "cell_type": "code",
   "execution_count": null,
   "metadata": {
    "colab": {
     "base_uri": "https://localhost:8080/",
     "height": 336
    },
    "id": "DsWLknOzQuLX",
    "outputId": "5f6bd203-62dc-40c0-b40d-417a0e3f0713"
   },
   "outputs": [
    {
     "name": "stdout",
     "output_type": "stream",
     "text": [
      "[-0.049773   0.19903    0.10585    0.1391    -0.32395    0.44053\n",
      "  0.3947    -0.22805   -0.25793    0.49768    0.15384   -0.08831\n",
      "  0.0782    -0.8299    -0.037788   0.16772   -0.45197   -0.17085\n",
      "  0.74756    0.98256    0.81872    0.28507    0.16178   -0.48626\n",
      " -0.006265  -0.92469   -0.30625   -0.067318  -0.046762  -0.76291\n",
      " -0.0025264 -0.018795   0.12882   -0.52457    0.3586     0.43119\n",
      " -0.89477   -0.057421  -0.53724    0.25587    0.55195    0.44698\n",
      " -0.24252    0.29946    0.25776   -0.8717     0.68426   -0.05688\n",
      " -0.1848    -0.59352   -0.11227   -0.57692   -0.013593   0.18488\n",
      " -0.32507   -0.90171    0.17672    0.075601   0.54896   -0.21488\n",
      " -0.54018   -0.45882   -0.79536    0.26331    0.18879   -0.16363\n",
      "  0.3975     0.1099     0.1164    -0.083499   0.50159    0.35802\n",
      "  0.25677    0.088546   0.42108    0.28674   -0.71285   -0.82915\n",
      "  0.15297   -0.82712    0.022112   1.067     -0.31776    0.1211\n",
      " -0.069755  -0.61327    0.27308   -0.42638   -0.085084  -0.17694\n",
      " -0.0090944  0.1109     0.62543   -0.23682   -0.44928   -0.3667\n",
      " -0.21616   -0.19187   -0.032502   0.38025  ]\n",
      "100\n"
     ]
    }
   ],
   "source": [
    "print(embedding_dict['respectable'])\n",
    "print(len(embedding_dict['respectable']))"
   ]
  },
  {
   "cell_type": "code",
   "execution_count": null,
   "metadata": {
    "id": "HlkoSsM0Q3VF"
   },
   "outputs": [],
   "source": [
    "embedding_matrix = np.zeros((vocab_size, embedding_dim))\n",
    "for word, i in word_index.items():\n",
    "    embedding_vector = embedding_dict.get(word)\n",
    "    if embedding_vector is not None:\n",
    "        # words not found in embedding index will be all-zeros.\n",
    "        embedding_matrix[i] = embedding_vector"
   ]
  },
  {
   "cell_type": "code",
   "execution_count": null,
   "metadata": {
    "colab": {
     "base_uri": "https://localhost:8080/",
     "height": 34
    },
    "id": "RQVXIjM-RO4d",
    "outputId": "e027d774-c868-496b-b6ad-811f58ca2c23"
   },
   "outputs": [
    {
     "data": {
      "text/plain": [
       "(9870, 100)"
      ]
     },
     "execution_count": 36,
     "metadata": {
      "tags": []
     },
     "output_type": "execute_result"
    }
   ],
   "source": [
    "np.shape(embedding_matrix)"
   ]
  },
  {
   "cell_type": "markdown",
   "metadata": {
    "id": "DCKs_VLNKNUT"
   },
   "source": [
    "## 멀티 커널 합성곱 신경망"
   ]
  },
  {
   "cell_type": "markdown",
   "metadata": {
    "id": "W1SP5g_LKNUT"
   },
   "source": [
    "We will now try to build model described in \"Convolutional Neural Networks for Sentence Classification\n",
    "\", https://arxiv.org/abs/1408.5882\n",
    "\n",
    "It is highly recommended to read, \"A Sensitivity Analysis of (and Practitioners' Guide to) Convolutional Neural Networks for Sentence Classification\", https://arxiv.org/abs/1510.03820 to get an intuition behind the various hyperparameters chosen to build our model."
   ]
  },
  {
   "cell_type": "code",
   "execution_count": null,
   "metadata": {
    "id": "lmeeiXmecey5"
   },
   "outputs": [],
   "source": [
    "filter_sizes = [2,3,5]\n",
    "num_filters = 512\n",
    "drop = 0.5"
   ]
  },
  {
   "cell_type": "code",
   "execution_count": null,
   "metadata": {
    "id": "K1m0n4zYRc1u"
   },
   "outputs": [],
   "source": [
    "model_input = Input(shape = (max_len,))\n",
    "z = Embedding(vocab_size, embedding_dim, weights=[embedding_matrix],\n",
    "                      input_length=max_len, trainable=False)(model_input)\n",
    "\n",
    "conv_blocks = []\n",
    "\n",
    "for sz in filter_sizes:\n",
    "    conv = Conv1D(filters = num_filters,\n",
    "                         kernel_size = sz,\n",
    "                         padding = \"valid\",\n",
    "                         activation = \"relu\",\n",
    "                         strides = 1)(z)\n",
    "    conv = GlobalMaxPooling1D()(conv)\n",
    "    conv = Flatten()(conv)\n",
    "    conv_blocks.append(conv)"
   ]
  },
  {
   "cell_type": "code",
   "execution_count": null,
   "metadata": {
    "id": "Y3TFFsTkTeVD"
   },
   "outputs": [],
   "source": [
    "z = Concatenate()(conv_blocks) if len(conv_blocks) > 1 else conv_blocks[0]\n",
    "z = Dropout(drop)(z)\n",
    "model_output = Dense(len(label_idx), activation='softmax')(z)"
   ]
  },
  {
   "cell_type": "code",
   "execution_count": null,
   "metadata": {
    "colab": {
     "base_uri": "https://localhost:8080/",
     "height": 692
    },
    "id": "VSMMlT18TUCb",
    "outputId": "7ef61816-6082-4ec4-c82c-b5175dfd14eb"
   },
   "outputs": [
    {
     "name": "stdout",
     "output_type": "stream",
     "text": [
      "Model: \"model\"\n",
      "__________________________________________________________________________________________________\n",
      "Layer (type)                    Output Shape         Param #     Connected to                     \n",
      "==================================================================================================\n",
      "input_1 (InputLayer)            [(None, 35)]         0                                            \n",
      "__________________________________________________________________________________________________\n",
      "embedding (Embedding)           (None, 35, 100)      987000      input_1[0][0]                    \n",
      "__________________________________________________________________________________________________\n",
      "conv1d (Conv1D)                 (None, 34, 512)      102912      embedding[0][0]                  \n",
      "__________________________________________________________________________________________________\n",
      "conv1d_1 (Conv1D)               (None, 33, 512)      154112      embedding[0][0]                  \n",
      "__________________________________________________________________________________________________\n",
      "conv1d_2 (Conv1D)               (None, 31, 512)      256512      embedding[0][0]                  \n",
      "__________________________________________________________________________________________________\n",
      "global_max_pooling1d (GlobalMax (None, 512)          0           conv1d[0][0]                     \n",
      "__________________________________________________________________________________________________\n",
      "global_max_pooling1d_1 (GlobalM (None, 512)          0           conv1d_1[0][0]                   \n",
      "__________________________________________________________________________________________________\n",
      "global_max_pooling1d_2 (GlobalM (None, 512)          0           conv1d_2[0][0]                   \n",
      "__________________________________________________________________________________________________\n",
      "flatten (Flatten)               (None, 512)          0           global_max_pooling1d[0][0]       \n",
      "__________________________________________________________________________________________________\n",
      "flatten_1 (Flatten)             (None, 512)          0           global_max_pooling1d_1[0][0]     \n",
      "__________________________________________________________________________________________________\n",
      "flatten_2 (Flatten)             (None, 512)          0           global_max_pooling1d_2[0][0]     \n",
      "__________________________________________________________________________________________________\n",
      "concatenate (Concatenate)       (None, 1536)         0           flatten[0][0]                    \n",
      "                                                                 flatten_1[0][0]                  \n",
      "                                                                 flatten_2[0][0]                  \n",
      "__________________________________________________________________________________________________\n",
      "dropout (Dropout)               (None, 1536)         0           concatenate[0][0]                \n",
      "__________________________________________________________________________________________________\n",
      "dense (Dense)                   (None, 6)            9222        dropout[0][0]                    \n",
      "==================================================================================================\n",
      "Total params: 1,509,758\n",
      "Trainable params: 522,758\n",
      "Non-trainable params: 987,000\n",
      "__________________________________________________________________________________________________\n"
     ]
    }
   ],
   "source": [
    "model = Model(model_input, model_output)\n",
    "\n",
    "model.compile(loss='categorical_crossentropy',\n",
    "              optimizer='adam',\n",
    "              metrics=['acc'])\n",
    "\n",
    "model.summary()"
   ]
  },
  {
   "cell_type": "code",
   "execution_count": null,
   "metadata": {
    "colab": {
     "base_uri": "https://localhost:8080/",
     "height": 372
    },
    "id": "lNCfUpnhKNUY",
    "outputId": "c7ede1e7-6317-476f-e3be-41d2c42f67fe"
   },
   "outputs": [
    {
     "name": "stdout",
     "output_type": "stream",
     "text": [
      "Epoch 1/10\n",
      "166/166 [==============================] - 2s 9ms/step - loss: 0.2117 - acc: 0.9334 - val_loss: 0.0677 - val_acc: 0.9788\n",
      "Epoch 2/10\n",
      "166/166 [==============================] - 1s 6ms/step - loss: 0.0477 - acc: 0.9875 - val_loss: 0.0396 - val_acc: 0.9898\n",
      "Epoch 3/10\n",
      "166/166 [==============================] - 1s 7ms/step - loss: 0.0315 - acc: 0.9915 - val_loss: 0.0405 - val_acc: 0.9898\n",
      "Epoch 4/10\n",
      "166/166 [==============================] - 1s 7ms/step - loss: 0.0183 - acc: 0.9953 - val_loss: 0.0371 - val_acc: 0.9864\n",
      "Epoch 5/10\n",
      "166/166 [==============================] - 1s 7ms/step - loss: 0.0118 - acc: 0.9961 - val_loss: 0.0429 - val_acc: 0.9864\n",
      "Epoch 6/10\n",
      "166/166 [==============================] - 1s 7ms/step - loss: 0.0088 - acc: 0.9975 - val_loss: 0.0359 - val_acc: 0.9898\n",
      "Epoch 7/10\n",
      "166/166 [==============================] - 1s 7ms/step - loss: 0.0103 - acc: 0.9969 - val_loss: 0.0401 - val_acc: 0.9873\n",
      "Epoch 8/10\n",
      "166/166 [==============================] - 1s 6ms/step - loss: 0.0068 - acc: 0.9985 - val_loss: 0.0626 - val_acc: 0.9856\n",
      "Epoch 9/10\n",
      "166/166 [==============================] - 1s 6ms/step - loss: 0.0091 - acc: 0.9974 - val_loss: 0.0420 - val_acc: 0.9864\n",
      "Epoch 10/10\n",
      "166/166 [==============================] - 1s 6ms/step - loss: 0.0047 - acc: 0.9987 - val_loss: 0.0496 - val_acc: 0.9881\n"
     ]
    }
   ],
   "source": [
    "history = model.fit(X_train, y_train,\n",
    "          batch_size=64,\n",
    "          epochs=10,\n",
    "          validation_data = (X_val, y_val))"
   ]
  },
  {
   "cell_type": "markdown",
   "metadata": {
    "id": "vwxFQsXNKNUa"
   },
   "source": [
    "훈련 데이터와 검증 데이터에서 각각 99%와 98%의 정확도를 얻어냄.  \n",
    "사전 훈련된 워드 임베딩의 힘이 크지 않았나 생각.  \n",
    "일반 Embedding()으로도 시도해보기."
   ]
  },
  {
   "cell_type": "code",
   "execution_count": null,
   "metadata": {
    "colab": {
     "base_uri": "https://localhost:8080/",
     "height": 573
    },
    "id": "ip1zaQJnKNUb",
    "outputId": "5b000d59-d701-4a9b-f875-a2209f0b4b3a"
   },
   "outputs": [
    {
     "data": {
      "image/png": "[encoded data removed]",
      "text/plain": [
       "<Figure size 432x288 with 1 Axes>"
      ]
     },
     "metadata": {
      "needs_background": "light",
      "tags": []
     },
     "output_type": "display_data"
    },
    {
     "data": {
      "image/png": "[encoded data removed]",
      "text/plain": [
       "<Figure size 432x288 with 1 Axes>"
      ]
     },
     "metadata": {
      "needs_background": "light",
      "tags": []
     },
     "output_type": "display_data"
    }
   ],
   "source": [
    "# summarize history for accuracy\n",
    "epochs = range(1, len(history.history['acc']) + 1)\n",
    "plt.plot(epochs, history.history['acc'])\n",
    "plt.plot(epochs, history.history['val_acc'])\n",
    "plt.title('model accuracy')\n",
    "plt.ylabel('accuracy')\n",
    "plt.xlabel('epochs')\n",
    "plt.legend(['train', 'test'], loc='lower right')\n",
    "plt.show()\n",
    "\n",
    "# summarize history for loss\n",
    "epochs = range(1, len(history.history['loss']) + 1)\n",
    "plt.plot(epochs, history.history['loss'])\n",
    "plt.plot(epochs, history.history['val_loss'])\n",
    "plt.title('model loss')\n",
    "plt.ylabel('loss')\n",
    "plt.xlabel('epochs')\n",
    "plt.legend(['train', 'test'], loc='upper right')\n",
    "plt.show()"
   ]
  },
  {
   "cell_type": "markdown",
   "metadata": {
    "id": "fEjZ_MxlKNUd"
   },
   "source": [
    "## 테스트 데이터에 대한 평가"
   ]
  },
  {
   "cell_type": "markdown",
   "metadata": {
    "id": "rGJJht5s6qRl"
   },
   "source": [
    "현재 검증 데이터와 테스트 데이터를 다른 데이터를 사용하고 있으므로 테스트 데이터에 대해서도 평가."
   ]
  },
  {
   "cell_type": "code",
   "execution_count": null,
   "metadata": {
    "id": "yrCaAPCOKNUe"
   },
   "outputs": [],
   "source": [
    "# Get predictions\n",
    "# Processing text to be compatible with model input\n",
    "X_test = tokenizer.texts_to_sequences(X_test)\n",
    "X_test = pad_sequences(X_test, maxlen=max_len)"
   ]
  },
  {
   "cell_type": "code",
   "execution_count": null,
   "metadata": {
    "id": "2axj4x4B2cKf"
   },
   "outputs": [],
   "source": [
    "y_predicted = model.predict(X_test)\n",
    "y_predicted = y_predicted.argmax(axis=-1) # 예측된 정수 시퀀스로 변환"
   ]
  },
  {
   "cell_type": "code",
   "execution_count": null,
   "metadata": {
    "id": "2FP4LtovKNUg",
    "scrolled": false
   },
   "outputs": [],
   "source": [
    "y_predicted = idx_encode.inverse_transform(y_predicted) # 정수 시퀀스를 레이블에 해당하는 텍스트 시퀀스로 변환\n",
    "y_test = idx_encode.inverse_transform(y_test) # 정수 시퀀스를 레이블에 해당하는 텍스트 시퀀스로 변환"
   ]
  },
  {
   "cell_type": "code",
   "execution_count": null,
   "metadata": {
    "colab": {
     "base_uri": "https://localhost:8080/",
     "height": 301
    },
    "id": "CLsYO6st5b5p",
    "outputId": "ce6e0c5a-d052-4224-b2ed-2d457c25d5f6"
   },
   "outputs": [
    {
     "name": "stdout",
     "output_type": "stream",
     "text": [
      "accuracy:  0.99\n",
      "Precision, Recall and F1-Score:\n",
      "\n",
      "                       precision    recall  f1-score   support\n",
      "\n",
      "       AddToPlaylist       1.00      1.00      1.00       100\n",
      "      BookRestaurant       1.00      1.00      1.00       100\n",
      "          GetWeather       0.99      0.99      0.99       100\n",
      "            RateBook       1.00      1.00      1.00       100\n",
      "  SearchCreativeWork       0.96      1.00      0.98       100\n",
      "SearchScreeningEvent       0.99      0.95      0.97       100\n",
      "\n",
      "            accuracy                           0.99       600\n",
      "           macro avg       0.99      0.99      0.99       600\n",
      "        weighted avg       0.99      0.99      0.99       600\n",
      "\n"
     ]
    }
   ],
   "source": [
    "print('accuracy: ', sum(y_predicted == y_test) / len(y_test))\n",
    "print(\"Precision, Recall and F1-Score:\\n\\n\", classification_report(y_test, y_predicted))"
   ]
  },
  {
   "cell_type": "markdown",
   "metadata": {
    "id": "2ZedQ74xKNUi"
   },
   "source": [
    "합성곱 신경망을 통해 테스트 데이터에서 99%의 정확도를 얻어냄."
   ]
  },
  {
   "cell_type": "markdown",
   "metadata": {
    "id": "rHMMTTdos9iW"
   },
   "source": [
    "# LSTM을 이용한 한국어 문장 의도 분류"
   ]
  },
  {
   "cell_type": "markdown",
   "metadata": {
    "id": "b3oTkN6f5Oib"
   },
   "source": [
    "## 간단한 설정과 데이터 로드"
   ]
  },
  {
   "cell_type": "code",
   "execution_count": null,
   "metadata": {
    "colab": {
     "base_uri": "https://localhost:8080/",
     "height": 301
    },
    "id": "zbGxJrMOw2p1",
    "outputId": "cb1fd95c-2513-459a-a80e-aa9c01c7b014"
   },
   "outputs": [
    {
     "name": "stdout",
     "output_type": "stream",
     "text": [
      "Requirement already satisfied: konlpy in /usr/local/lib/python3.6/dist-packages (0.5.2)\n",
      "Requirement already satisfied: lxml>=4.1.0 in /usr/local/lib/python3.6/dist-packages (from konlpy) (4.2.6)\n",
      "Requirement already satisfied: colorama in /usr/local/lib/python3.6/dist-packages (from konlpy) (0.4.3)\n",
      "Requirement already satisfied: JPype1>=0.7.0 in /usr/local/lib/python3.6/dist-packages (from konlpy) (0.7.5)\n",
      "Requirement already satisfied: numpy>=1.6 in /usr/local/lib/python3.6/dist-packages (from konlpy) (1.18.5)\n",
      "Requirement already satisfied: tweepy>=3.7.0 in /usr/local/lib/python3.6/dist-packages (from konlpy) (3.8.0)\n",
      "Requirement already satisfied: beautifulsoup4==4.6.0 in /usr/local/lib/python3.6/dist-packages (from konlpy) (4.6.0)\n",
      "Requirement already satisfied: requests-oauthlib>=0.7.0 in /usr/local/lib/python3.6/dist-packages (from tweepy>=3.7.0->konlpy) (1.3.0)\n",
      "Requirement already satisfied: PySocks>=1.5.7 in /usr/local/lib/python3.6/dist-packages (from tweepy>=3.7.0->konlpy) (1.7.1)\n",
      "Requirement already satisfied: requests>=2.11.1 in /usr/local/lib/python3.6/dist-packages (from tweepy>=3.7.0->konlpy) (2.23.0)\n",
      "Requirement already satisfied: six>=1.10.0 in /usr/local/lib/python3.6/dist-packages (from tweepy>=3.7.0->konlpy) (1.12.0)\n",
      "Requirement already satisfied: oauthlib>=3.0.0 in /usr/local/lib/python3.6/dist-packages (from requests-oauthlib>=0.7.0->tweepy>=3.7.0->konlpy) (3.1.0)\n",
      "Requirement already satisfied: chardet<4,>=3.0.2 in /usr/local/lib/python3.6/dist-packages (from requests>=2.11.1->tweepy>=3.7.0->konlpy) (3.0.4)\n",
      "Requirement already satisfied: urllib3!=1.25.0,!=1.25.1,<1.26,>=1.21.1 in /usr/local/lib/python3.6/dist-packages (from requests>=2.11.1->tweepy>=3.7.0->konlpy) (1.24.3)\n",
      "Requirement already satisfied: certifi>=2017.4.17 in /usr/local/lib/python3.6/dist-packages (from requests>=2.11.1->tweepy>=3.7.0->konlpy) (2020.6.20)\n",
      "Requirement already satisfied: idna<3,>=2.5 in /usr/local/lib/python3.6/dist-packages (from requests>=2.11.1->tweepy>=3.7.0->konlpy) (2.9)\n"
     ]
    }
   ],
   "source": [
    "!pip install konlpy"
   ]
  },
  {
   "cell_type": "code",
   "execution_count": null,
   "metadata": {
    "colab": {
     "base_uri": "https://localhost:8080/",
     "height": 105
    },
    "id": "R9Fyga2Cup6T",
    "outputId": "b21093ac-eb99-4622-f98e-4e5509696c29"
   },
   "outputs": [
    {
     "name": "stdout",
     "output_type": "stream",
     "text": [
      "fonts-nanum is already the newest version (20170925-1).\n",
      "The following package was automatically installed and is no longer required:\n",
      "  libnvidia-common-440\n",
      "Use 'apt autoremove' to remove it.\n",
      "0 upgraded, 0 newly installed, 0 to remove and 33 not upgraded.\n"
     ]
    }
   ],
   "source": [
    "# colab에서 그래프를 그릴 때 한글이 깨지지 않도록 해주는 코드\n",
    "# 코드 실행 > Colab 상단의 런타임 > 런타임 다시 시작 > 코드 재실행\n",
    "# 이후에는 matplotlib으로 그리는 그래프에서 한글이 깨지지 않음.\n",
    "import matplotlib.pyplot as plt\n",
    "import matplotlib as mpl\n",
    "import matplotlib.font_manager as fm\n",
    "\n",
    "%config InlineBackend.figure_format = 'retina'\n",
    "\n",
    "!apt -qq -y install fonts-nanum\n",
    "\n",
    "fontpath = '/usr/share/fonts/truetype/nanum/NanumBarunGothic.ttf'\n",
    "font = fm.FontProperties(fname=fontpath, size=9)\n",
    "plt.rc('font', family='NanumBarunGothic') \n",
    "mpl.font_manager._rebuild()"
   ]
  },
  {
   "cell_type": "code",
   "execution_count": null,
   "metadata": {
    "id": "6h_ccCt_s-nl"
   },
   "outputs": [],
   "source": [
    "import urllib.request\n",
    "import pandas as pd\n",
    "import numpy as np\n",
    "import matplotlib.pyplot as plt\n",
    "from konlpy.tag import Okt\n",
    "from tensorflow.keras.preprocessing.text import Tokenizer\n",
    "from tensorflow.keras.preprocessing.sequence import pad_sequences\n",
    "from sklearn import preprocessing"
   ]
  },
  {
   "cell_type": "code",
   "execution_count": null,
   "metadata": {
    "colab": {
     "base_uri": "https://localhost:8080/",
     "height": 34
    },
    "id": "_5EREWdktGAh",
    "outputId": "80076f14-dc39-449c-abb0-a402e35acd45"
   },
   "outputs": [
    {
     "data": {
      "text/plain": [
       "('train_intent.csv', <http.client.HTTPMessage at 0x7fe168d9f748>)"
      ]
     },
     "execution_count": 4,
     "metadata": {
      "tags": []
     },
     "output_type": "execute_result"
    }
   ],
   "source": [
    "urllib.request.urlretrieve(\"https://raw.githubusercontent.com/hukim1112/comment_classifier/master/train_intent.csv\", filename=\"train_intent.csv\")"
   ]
  },
  {
   "cell_type": "code",
   "execution_count": null,
   "metadata": {
    "colab": {
     "base_uri": "https://localhost:8080/",
     "height": 647
    },
    "id": "rHnx_PWetild",
    "outputId": "9e791c76-cbea-416e-f326-3adff23643f5"
   },
   "outputs": [
    {
     "data": {
      "text/html": [
       "<div>\n",
       "<style scoped>\n",
       "    .dataframe tbody tr th:only-of-type {\n",
       "        vertical-align: middle;\n",
       "    }\n",
       "\n",
       "    .dataframe tbody tr th {\n",
       "        vertical-align: top;\n",
       "    }\n",
       "\n",
       "    .dataframe thead th {\n",
       "        text-align: right;\n",
       "    }\n",
       "</style>\n",
       "<table border=\"1\" class=\"dataframe\">\n",
       "  <thead>\n",
       "    <tr style=\"text-align: right;\">\n",
       "      <th></th>\n",
       "      <th>question</th>\n",
       "      <th>intent</th>\n",
       "    </tr>\n",
       "  </thead>\n",
       "  <tbody>\n",
       "    <tr>\n",
       "      <th>1966</th>\n",
       "      <td>김희철 누구지요</td>\n",
       "      <td>인물</td>\n",
       "    </tr>\n",
       "    <tr>\n",
       "      <th>2691</th>\n",
       "      <td>지금 이슈 알려줘</td>\n",
       "      <td>이슈</td>\n",
       "    </tr>\n",
       "    <tr>\n",
       "      <th>1249</th>\n",
       "      <td>오늘 무슨 날인지 알려줄래</td>\n",
       "      <td>달력</td>\n",
       "    </tr>\n",
       "    <tr>\n",
       "      <th>1893</th>\n",
       "      <td>박도현 누구냐</td>\n",
       "      <td>인물</td>\n",
       "    </tr>\n",
       "    <tr>\n",
       "      <th>1550</th>\n",
       "      <td>먼지도 알려줄래</td>\n",
       "      <td>먼지</td>\n",
       "    </tr>\n",
       "    <tr>\n",
       "      <th>1168</th>\n",
       "      <td>멋진 명언 들려줘요</td>\n",
       "      <td>명언</td>\n",
       "    </tr>\n",
       "    <tr>\n",
       "      <th>847</th>\n",
       "      <td>저번 주 야구 결과 알려줄래요</td>\n",
       "      <td>뉴스</td>\n",
       "    </tr>\n",
       "    <tr>\n",
       "      <th>2087</th>\n",
       "      <td>이율곡 누구에요</td>\n",
       "      <td>인물</td>\n",
       "    </tr>\n",
       "    <tr>\n",
       "      <th>985</th>\n",
       "      <td>나에게 명언 들려줄래요</td>\n",
       "      <td>명언</td>\n",
       "    </tr>\n",
       "    <tr>\n",
       "      <th>1974</th>\n",
       "      <td>이정휴 누군지 궁금해요</td>\n",
       "      <td>인물</td>\n",
       "    </tr>\n",
       "    <tr>\n",
       "      <th>260</th>\n",
       "      <td>상쾌한 음악 들려줘</td>\n",
       "      <td>음악</td>\n",
       "    </tr>\n",
       "    <tr>\n",
       "      <th>1832</th>\n",
       "      <td>공기 상태 어떻게 돼요</td>\n",
       "      <td>먼지</td>\n",
       "    </tr>\n",
       "    <tr>\n",
       "      <th>1317</th>\n",
       "      <td>오늘 무슨 날이니</td>\n",
       "      <td>달력</td>\n",
       "    </tr>\n",
       "    <tr>\n",
       "      <th>1834</th>\n",
       "      <td>내일 공기 상태 알려줘요</td>\n",
       "      <td>먼지</td>\n",
       "    </tr>\n",
       "    <tr>\n",
       "      <th>3254</th>\n",
       "      <td>충주 맛집 알려줘</td>\n",
       "      <td>맛집</td>\n",
       "    </tr>\n",
       "    <tr>\n",
       "      <th>1950</th>\n",
       "      <td>하석주 누구인가요</td>\n",
       "      <td>인물</td>\n",
       "    </tr>\n",
       "    <tr>\n",
       "      <th>2794</th>\n",
       "      <td>핫했던 지금 이슈 알려줘</td>\n",
       "      <td>이슈</td>\n",
       "    </tr>\n",
       "    <tr>\n",
       "      <th>1246</th>\n",
       "      <td>오늘 요일 아니</td>\n",
       "      <td>달력</td>\n",
       "    </tr>\n",
       "    <tr>\n",
       "      <th>1131</th>\n",
       "      <td>너 나한테 명언 들려줘야 해</td>\n",
       "      <td>명언</td>\n",
       "    </tr>\n",
       "    <tr>\n",
       "      <th>1366</th>\n",
       "      <td>오늘 날짜 알려줘요</td>\n",
       "      <td>달력</td>\n",
       "    </tr>\n",
       "  </tbody>\n",
       "</table>\n",
       "</div>"
      ],
      "text/plain": [
       "              question intent\n",
       "1966          김희철 누구지요     인물\n",
       "2691         지금 이슈 알려줘     이슈\n",
       "1249    오늘 무슨 날인지 알려줄래     달력\n",
       "1893           박도현 누구냐     인물\n",
       "1550          먼지도 알려줄래     먼지\n",
       "1168        멋진 명언 들려줘요     명언\n",
       "847   저번 주 야구 결과 알려줄래요     뉴스\n",
       "2087          이율곡 누구에요     인물\n",
       "985       나에게 명언 들려줄래요     명언\n",
       "1974      이정휴 누군지 궁금해요     인물\n",
       "260         상쾌한 음악 들려줘     음악\n",
       "1832      공기 상태 어떻게 돼요     먼지\n",
       "1317         오늘 무슨 날이니     달력\n",
       "1834     내일 공기 상태 알려줘요     먼지\n",
       "3254         충주 맛집 알려줘     맛집\n",
       "1950         하석주 누구인가요     인물\n",
       "2794     핫했던 지금 이슈 알려줘     이슈\n",
       "1246          오늘 요일 아니     달력\n",
       "1131   너 나한테 명언 들려줘야 해     명언\n",
       "1366        오늘 날짜 알려줘요     달력"
      ]
     },
     "execution_count": 5,
     "metadata": {
      "tags": []
     },
     "output_type": "execute_result"
    }
   ],
   "source": [
    "df = pd.read_csv('train_intent.csv')\n",
    "df.sample(20)"
   ]
  },
  {
   "cell_type": "code",
   "execution_count": null,
   "metadata": {
    "colab": {
     "base_uri": "https://localhost:8080/",
     "height": 34
    },
    "id": "F9q9cCT_tlto",
    "outputId": "71fefffd-ed84-4790-fa41-2ebcf4220104"
   },
   "outputs": [
    {
     "name": "stdout",
     "output_type": "stream",
     "text": [
      "샘플 수 : 3591\n"
     ]
    }
   ],
   "source": [
    "print('샘플 수 :', len(df))"
   ]
  },
  {
   "cell_type": "code",
   "execution_count": null,
   "metadata": {
    "colab": {
     "base_uri": "https://localhost:8080/",
     "height": 291
    },
    "id": "_PMjZf8Pt6IV",
    "outputId": "deb58abe-bc5b-4776-b3b7-d7bf7b462534"
   },
   "outputs": [
    {
     "data": {
      "text/plain": [
       "<matplotlib.axes._subplots.AxesSubplot at 0x7fe1688724e0>"
      ]
     },
     "execution_count": 7,
     "metadata": {
      "tags": []
     },
     "output_type": "execute_result"
    },
    {
     "data": {
      "image/png": "[encoded data removed]",
      "text/plain": [
       "<Figure size 432x288 with 1 Axes>"
      ]
     },
     "metadata": {
      "image/png": {
       "height": 256,
       "width": 373
      },
      "needs_background": "light",
      "tags": []
     },
     "output_type": "display_data"
    }
   ],
   "source": [
    "df['intent'].value_counts().plot(kind = 'bar')"
   ]
  },
  {
   "cell_type": "code",
   "execution_count": null,
   "metadata": {
    "colab": {
     "base_uri": "https://localhost:8080/",
     "height": 230
    },
    "id": "YDpazplewM4E",
    "outputId": "66f71eee-a2ec-4a34-96aa-96967e1fc2ab"
   },
   "outputs": [
    {
     "name": "stdout",
     "output_type": "stream",
     "text": [
      "   intent  count\n",
      "0      날씨    372\n",
      "1      뉴스    271\n",
      "2      달력    307\n",
      "3      맛집    344\n",
      "4      먼지    313\n",
      "5      명언    316\n",
      "6      번역    286\n",
      "7      시간    344\n",
      "8      음악    359\n",
      "9      이슈    376\n",
      "10     인물    303\n"
     ]
    }
   ],
   "source": [
    "print(df.groupby('intent').size().reset_index(name = 'count'))"
   ]
  },
  {
   "cell_type": "code",
   "execution_count": null,
   "metadata": {
    "colab": {
     "base_uri": "https://localhost:8080/",
     "height": 34
    },
    "id": "WQG3JXcCwSuG",
    "outputId": "7200a132-4f8c-4bb7-f70e-72c51c582bfd"
   },
   "outputs": [
    {
     "name": "stdout",
     "output_type": "stream",
     "text": [
      "False\n"
     ]
    }
   ],
   "source": [
    "print(df.isnull().values.any())"
   ]
  },
  {
   "cell_type": "markdown",
   "metadata": {
    "id": "gnixuDjl5SfB"
   },
   "source": [
    "## 토큰화"
   ]
  },
  {
   "cell_type": "code",
   "execution_count": null,
   "metadata": {
    "colab": {
     "base_uri": "https://localhost:8080/",
     "height": 34
    },
    "id": "J08tJMIWwZ5w",
    "outputId": "3115a0f3-a982-4940-9139-50486fc944f7"
   },
   "outputs": [
    {
     "data": {
      "text/plain": [
       "['주변', '에', '이런', '음식', '추천', '해줘요']"
      ]
     },
     "execution_count": 10,
     "metadata": {
      "tags": []
     },
     "output_type": "execute_result"
    }
   ],
   "source": [
    "okt = Okt()\n",
    "okt.morphs('주변에 이런 음식 추천해줘요')"
   ]
  },
  {
   "cell_type": "code",
   "execution_count": null,
   "metadata": {
    "id": "A0NMftcHxDpM"
   },
   "outputs": [],
   "source": [
    "X_train = []\n",
    "for sentence in df.question:\n",
    "    temp_X = []\n",
    "    temp_X = okt.morphs(sentence)\n",
    "    X_train.append(temp_X)"
   ]
  },
  {
   "cell_type": "code",
   "execution_count": null,
   "metadata": {
    "colab": {
     "base_uri": "https://localhost:8080/",
     "height": 34
    },
    "id": "Jpb3htOgxL5r",
    "outputId": "c8cfae80-717e-4cbb-dc79-a9f72772a081"
   },
   "outputs": [
    {
     "name": "stdout",
     "output_type": "stream",
     "text": [
      "[['에픽하이', '우산', '들려줘'], ['윤하', '우산', '들려줘'], ['윤하', '의', '우산', '들려주라']]\n"
     ]
    }
   ],
   "source": [
    "print(X_train[:3])"
   ]
  },
  {
   "cell_type": "markdown",
   "metadata": {
    "id": "0lSLahfb5WEA"
   },
   "source": [
    "## 단어 집합(Vocabulary) 생성과 정수 인코딩"
   ]
  },
  {
   "cell_type": "code",
   "execution_count": null,
   "metadata": {
    "id": "jOh1tV2wxOAW"
   },
   "outputs": [],
   "source": [
    "tokenizer = Tokenizer()\n",
    "tokenizer.fit_on_texts(X_train)"
   ]
  },
  {
   "cell_type": "code",
   "execution_count": null,
   "metadata": {
    "id": "1L0wQszxyN91"
   },
   "outputs": [],
   "source": [
    "X_train = tokenizer.texts_to_sequences(X_train)"
   ]
  },
  {
   "cell_type": "code",
   "execution_count": null,
   "metadata": {
    "colab": {
     "base_uri": "https://localhost:8080/",
     "height": 34
    },
    "id": "TFwzgbSayQHb",
    "outputId": "0815c3c3-700d-4f92-c2fb-d4eac0094fa7"
   },
   "outputs": [
    {
     "name": "stdout",
     "output_type": "stream",
     "text": [
      "[[182, 70, 17], [189, 70, 17], [189, 36, 70, 97]]\n"
     ]
    }
   ],
   "source": [
    "print(X_train[:3])"
   ]
  },
  {
   "cell_type": "code",
   "execution_count": null,
   "metadata": {
    "colab": {
     "base_uri": "https://localhost:8080/",
     "height": 54
    },
    "id": "TSgtK4ajxUx9",
    "outputId": "5fbb0a4b-c1b3-4aa4-f87b-669d25137f32"
   },
   "outputs": [
    {
     "name": "stdout",
     "output_type": "stream",
     "text": [
      "{'오늘': 1, '알려줘': 2, '명언': 3, '이': 4, '누구': 5, '알려줘요': 6, '몇': 7, '날씨': 8, '지금': 9, '주': 10, '해줘': 11, '시간': 12, '뭐': 13, '노래': 14, '추천': 15, '상태': 16, '들려줘': 17, '말': 18, '공기': 19, '이슈': 20, '요': 21, '무슨': 22, '좀': 23, '이번': 24, '맛집': 25, '요즘': 26, '나': 27, '알려줄래': 28, '주변': 29, '내일': 30, '해줘요': 31, '알려주라': 32, '지': 33, '며칠': 34, '알려줄래요': 35, '의': 36, '좋은': 37, '뉴스': 38, '사건': 39, '현재': 40, '이제': 41, '곧': 42, '번역': 43, '날짜': 44, '에요': 45, '에게': 46, '되는': 47, '인가요': 48, '뭔': 49, '거': 50, '핫': 51, '미세먼지': 52, '하나': 53, '시야': 54, '니': 55, '가장': 56, '화제': 57, '어디': 58, '중국어': 59, '있나요': 60, '이야': 61, '요일': 62, '인지': 63, '힘': 64, '들려줘요': 65, '일': 66, '에': 67, '마스크': 68, '어떻게': 69, '우산': 70, '해주라': 71, '가': 72, '해주세요': 73, '멋진': 74, '결과': 75, '바람': 76, '프랑스어': 77, '다음': 78, '있니': 79, '전': 80, '누군지': 81, '알려주세요': 82, '라': 83, '영어': 84, '음악': 85, '최근': 86, '시': 87, '치킨': 88, '분': 89, '수': 90, '해줄래': 91, '해줄래요': 92, '만': 93, '어때': 94, '비': 95, '음식': 96, '들려주라': 97, '야': 98, '아니': 99, '음식점': 100, '해': 101, '한': 102, '게': 103, '궁금해': 104, '해주': 105, '어때요': 106, '맛있는': 107, '알려줄': 108, '일본어': 109, '모레': 110, '있던': 111, '했던': 112, '유행': 113, '하는게': 114, '뜨는게': 115, '일이': 116, '어떤': 117, '부산': 118, '주요': 119, '많이': 120, '적': 121, '들려주세요': 122, '한테': 123, '죠': 124, '대구': 125, '되니': 126, '는': 127, '써야': 128, '눈': 129, '부니': 130, '들을래': 131, '전주': 132, '그': 133, '좋니': 134, '스페인어': 135, '신지': 136, '날': 137, '어떠니': 138, '12일': 139, '인': 140, '알려줄수': 141, '듣고': 142, '로': 143, '집': 144, '신문': 145, '어제': 146, '해봐': 147, '대전': 148, '서울': 149, '제': 150, '야구': 151, '날인': 152, '시지': 153, '오나요': 154, '아산': 155, '틀어줘': 156, '들려줄래': 157, '행복한': 158, '최신': 159, '단어': 160, '이지': 161, '이에요': 162, '먼지': 163, '있어': 164, '울산': 165, '제일': 166, '라틴어': 167, '기사': 168, '도': 169, '광명': 170, '들을래요': 171, '나온': 172, '얘기': 173, '조언': 174, '있어요': 175, '궁금해요': 176, '사회': 177, '했던것': 178, '뜨는': 179, '됐던': 180, '먹을': 181, '에픽하이': 182, '에서': 183, '정치': 184, '저번': 185, '아시나요': 186, '하늘': 187, '맑니': 188, '윤하': 189, '들려주겠나요': 190, '저': 191, '일까': 192, '다음주': 193, '누굴까': 194, '요슴': 195, '맛': 196, '아': 197, '알아요': 198, '농구': 199, '할까': 200, '하니': 201, '를': 202, '알려': 203, '모르겠어': 204, '4월': 205, '토요일': 206, '난': 207, '신나는': 208, '알': 209, '이탈리아어': 210, '니요': 211, '행복해지는': 212, '9월': 213, '인천': 214, '좋나요': 215, '오니': 216, '주제가': 217, '가요': 218, '문장': 219, '일본말': 220, '축구': 221, '이니': 222, '줘': 223, '맑은': 224, '경주': 225, '대통령': 226, '부나요': 227, '맛있니': 228, '은': 229, '재생': 230, '래': 231, '데': 232, '올림픽': 233, '있냐': 234, '좋아': 235, '어떤지': 236, '논산': 237, '3월': 238, '15일': 239, '포항': 240, '써야하나요': 241, '광주': 242, '구름': 243, '마포구': 244, '고기': 245, '피자': 246, '천안': 247, '들': 248, '정준영': 249, '합니다': 250, '단독': 251, '였는지': 252, '쓰는': 253, '달': 254, '돼요': 255, '해줄수': 256, '라고': 257, '누군데': 258, '있었니': 259, '있었나요': 260, '맑은가요': 261, '맛있어': 262, '먹을지': 263, '들려주겠니': 264, '좋던데': 265, '싶네': 266, '미국': 267, '사랑': 268, '독일어': 269, '그리스어': 270, '심심하거든': 271, '해줄': 272, '너': 273, '들려줘야': 274, '저기': 275, '혹시': 276, '번만': 277, '부탁': 278, '어떨까': 279, '쓸까': 280, '구로구': 281, '군산': 282, '오는지': 283, '우비': 284, '입을까': 285, '충주': 286, '있죠': 287, '뽀로로': 288, '와이': 289, '틀어주라': 290, '슬픈': 291, '싶어요': 292, 'ost': 293, '틀어': 294, '줬으면': 295, '오': 296, '차트': 297, '밤': 298, '해요': 299, '제라드': 300, '까먹었어': 301, '속초': 302, '있겠니': 303, '좋아요': 304, '제주': 305, '냐': 306, '와': 307, '맑나요': 308, '꼈나요': 309, '올까': 310, '흐리니': 311, '돼': 312, '들려줄수': 313, '목소리': 314, '기쁜': 315, '힙합': 316, '오빠': 317, '방탄': 318, '인기': 319, '줄': 320, '들려줄래요': 321, '냉장고': 322, '학교': 323, '사람': 324, '양양': 325, '보여': 326, '쓰는게': 327, '오산': 328, '있을까요': 329, '줘요': 330, '박': 331, '정몽주': 332, '진천': 333, '산천': 334, '동두천': 335, '김치': 336, '라면': 337, '떡갈비': 338, '갈비': 339, '언': 340, '나플': 341, '듣고싶어': 342, '가슴': 343, '고등': 344, '래퍼': 345, '수란': 346, '좋더라': 347, '을': 348, '가사': 349, '즐거운': 350, '에이핑크': 351, '주세요': 352, '우': 353, '존경': 354, '바보': 355, '누나': 356, '토마토': 357, '감': 358, '바지': 359, '고장': 360, '가방': 361, '밥': 362, '일어': 363, '아랍어': 364, '러시아어': 365, '소식': 366, '나왔니': 367, '읽어줘': 368, '읽어줄래요': 369, '태권도': 370, '펜싱': 371, '손흥민': 372, '읽어줘요': 373, '재미': 374, '있는': 375, '해주겠니': 376, '날이니요': 377, '알고있나': 378, '였나': 379, '강릉': 380, '안산': 381, '영등포': 382, '보면': 383, '써야하니': 384, '글피': 385, '것': 386, '금천구': 387, '소크라테스': 388, '미래': 389, '김수경': 390, '유재석': 391, '해시': 392, '스완': 393, '베': 394, '이즈': 395, '한국': 396, 'un': 397, '사무': 398, '총장': 399, '대체': 400, '알고싶어': 401, '챙길까': 402, '홍대': 403, '이런': 404, '먹을까요': 405, '정': 406, '맛있죠': 407, '송천동': 408, '익산': 409, '제주도': 410, '디지몬': 411, '포켓몬': 412, '서태지': 413, '걸스데이': 414, '루피': 415, '아이오': 416, '아이': 417, '노을': 418, '3': 419, '길': 420, '다시': 421, '밴드': 422, '장범준': 423, '영화': 424, '기억': 425, '빅뱅': 426, '그레이': 427, '슬프더라': 428, '하': 429, '비투비': 430, '행주': 431, '트로트': 432, '듣고싶네': 433, '온': 434, '영': 435, '들려': 436, '아이돌': 437, '양': 438, '요요': 439, '목성': 440, '죽을래': 441, '창문': 442, '상어': 443, '할머니': 444, '났어': 445, '귀하': 446, '코뿔소': 447, '당신': 448, '얼마': 449, '해왕성': 450, '정성': 451, '이다': 452, '밥솥': 453, '고치': 454, '칠판': 455, '미안해': 456, '오징어': 457, '게임': 458, '초밥': 459, '티비': 460, '불법': 461, '읽어': 462, '즐': 463, '연예': 464, '이건희': 465, '아시안': 466, '현대': 467, '조던': 468, '승리': 469, '일있니요': 470, '순위': 471, '박미선': 472, '더': 473, '인데': 474, '다다': 475, '음': 476, '보령': 477, '영월': 478, '쓰기': 479, '싫은데': 480, '있을까': 481, '있겠나요': 482, '좋을까요': 483, '실': 484, '흐릴까': 485, '흐려': 486, '꼈니': 487, '챙겨야': 488, '고민': 489, '순천': 490, '평택': 491, '부냐': 492, '흐리나요': 493, '흐려요': 494, '공주': 495, '고깃집': 496, '왕': 497, '성남': 498, '송파구': 499, '술집': 500, '떡볶이': 501, '여수': 502, '음료수': 503, '레인보우': 504, '조현영': 505, '가인': 506, '브라운': 507, '이드': 508, '걸스': 509, '달샤벳': 510, '도끼': 511, '김효': 512, '매드': 513, '클라': 514, '운': 515, '어반자카파': 516, '어반': 517, '자': 518, '카파': 519, '로보트': 520, '씨잼': 521, '베이식': 522, '슈퍼': 523, '면도': 524, '에듀': 525, '케이트': 526, '콜라보': 527, 'wu': 528, '투': 529, '원': 530, '지아': 531, 'mp': 532, '허각': 533, '윤도현': 534, '넬': 535, '아이비': 536, '들으려고': 537, '만난': 538, '세계': 539, '우울한데': 540, '들려줄': 541, '애': 542, '드시어': 543, '런': 544, '쉐이프': 545, '오브': 546, '미': 547, '혁오': 548, '감성': 549, '아픈': 550, '발라드': 551, '잭스': 552, '키스': 553, '아프지': 554, '마': 555, 'edm': 556, '안나는데': 557, '이름': 558, '모르겠는데': 559, '마룬': 560, '파이브': 561, '트둥': 562, '다비치': 563, '원더걸스': 564, '추억': 565, '미스': 566, '에이': 567, '수지': 568, '포미닛': 569, '뱅뱅뱅': 570, '히트': 571, '곡': 572, '하기나': 573, '크러쉬': 574, '블루스': 575, '재즈': 576, '증인': 577, '클럽': 578, '나온다면': 579, '우디': 580, '윤종신': 581, '오아시스': 582, '김범수': 583, '좋겠네': 584, '샤이니': 585, '청': 586, 'winner': 587, '싶어져': 588, '현아': 589, '베베': 590, '취하': 591, '면': 592, '지코': 593, '동방신기': 594, '주문': 595, '미로틱': 596, '마이걸': 597, '보이비': 598, '이센스': 599, '구수한': 600, '틀어줄래': 601, '알앤비': 602, '소울': 603, '첸': 604, 'make': 605, 'it': 606, 'count': 607, '멜론': 608, '숀': 609, 'way': 610, 'back': 611, 'home': 612, 'ariana': 613, 'grande': 614, 'aoa': 615, '소년단': 616, '버스커': 617, '싶어': 618, '때': 619, '김하': 620, '인기가요': 621, '우울한': 622, '희망': 623, '비극': 624, '뜨거운': 625, '싶은데': 626, '주겠니': 627, '그룹': 628, '랩': 629, '창모': 630, '한요': 631, '기리보이': 632, '홍진영': 633, '틀어줄래요': 634, '틀어줘요': 635, '오션': 636, '다': 637, '원재': 638, '태양': 639, '좋': 640, '더세요': 641, '소설': 642, '문어': 643, '코끼리': 644, '바라볼래요': 645, '텅': 646, '비었군요': 647, '파이프': 648, '탱크': 649, '에어컨': 650, '칫솔': 651, '마우스': 652, '가나': 653, '설거지': 654, '해야': 655, '깨끗하군요': 656, '들어요': 657, '사나이': 658, '돼지': 659, '배': 660, '여자': 661, '바이올린': 662, '셔츠': 663, '간장': 664, '공기청정기': 665, '퇴장': 666, '모니터': 667, '군인': 668, '먹고싶어요': 669, '속보': 670, '나왔었니': 671, '살인': 672, '아이티': 673, '홈런': 674, '컵': 675, '엘에이': 676, '다저스': 677, '삼성': 678, '에스케이': 679, '금호': 680, '타이어': 681, '케이씨씨': 682, '유나이티드': 683, '맨체스터': 684, '플레이오프': 685, '감자': 686, '김지수': 687, '무당': 688, '눈사람': 689, '박지성': 690, '궁전': 691, '문자': 692, '정수': 693, '오미연': 694, '장사꾼': 695, '소리': 696, '꾼': 697, '암탉': 698, '수탉': 699, '국회': 700, '있니요': 701, '북한': 702, '안보리': 703, '정상': 704, '회담': 705, '있었니요': 706, '가두리': 707, '특보': 708, '특종': 709, '컴퓨터': 710, '코파': 711, '해주겠나요': 712, '날이죠': 713, '모르겠네': 714, '였지': 715, '알고싶어요': 716, '였더라': 717, '되더라': 718, '일일': 719, '까': 720, '어떤데': 721, '완산구': 722, '좋은가요': 723, '고령': 724, '나주': 725, '부안': 726, '서천': 727, '영덕': 728, '가로수길': 729, '권지용': 730, '김지원': 731, '백': 732, '김동주': 733, '박근혜': 734, '이병철': 735, '최': 736, '순': 737, '시라소니': 738, '알고있니': 739, '유병재': 740, '신': 741, '고요': 742, '알고있죠': 743, '문': 744, '세종': 745, '맑아': 746, '청주': 747, '춘천': 748, '동구': 749, '옷': 750, '입어야': 751, '서산': 752, '부는지': 753, '송도': 754, '이천': 755, '상주': 756, '오냐': 757, '부천': 758, '일산': 759, '있지': 760, '거기': 761, '있지요': 762, '먹을까': 763, '어떤거': 764, '먹을만': 765, '알려주세': 766, '어떤게': 767, '소문난': 768, '유성구': 769, '비빔밥': 770, '라멘': 771, '수원': 772, '유명한': 773, '김밥': 774, '아이스크림': 775, '빵집': 776, '순창': 777, '양주': 778, '닭꼬치': 779, '새우': 780, '튀김': 781, '수제': 782, '버거': 783, '쌀국수': 784, '맛있어요': 785, '스윙스': 786, '빅스': 787, '더콰이엇': 788, '플로우': 789, '보아': 790, 'boa': 791, 'bgm': 792, '엑소': 793, '애넥도트': 794, '버벌진트': 795, '소녀시대': 796, '그렇게': 797, 'believer': 798, '알리': 799, '손승연': 800, 'emd': 801, '성시경': 802, '감미롭던데': 803, '효린': 804, '하하': 805, '빡센': 806, '외힙': 807, '살기': 808, '위해': 809, '서': 810, '베토벤': 811, '클래식': 812, '팝송': 813, '브리티쉬': 814, '들을려고': 815, '아플': 816, '들을만한': 817, '힘들': 818, '듣기': 819, '아이콘': 820, '했다': 821, '닐': 822, '지나오다': 823, '멜': 824, '로망스': 825, '별': 826, '빛나는': 827, '빈첸': 828, '하선': 829, '호': 830, '허클베리피': 831, '붕붕': 832, '바코드': 833, '기분': 834, '이은미': 835, '녹턴': 836, '동요': 837, '재밌는': 838, '들려줄수있니': 839, '잔잔한': 840, '뉴에이지': 841, '시원한': 842, '상쾌한': 843, '걷는': 844, '소나무': 845, '이수': 846, '들려줬으면': 847, '좋겠어': 848, '좋다': 849, '그루비': 850, '룸': 851, '프로': 852, '듀스': 853, '코드': 854, '쿤스트': 855, '자이언티': 856, '양화대교': 857, '베베미뇽': 858, '듣고싶은데': 859, '10': 860, 'cm': 861, '세븐': 862, '틴': 863, '왼': 864, '리쌍': 865, '아름다워': 866, '싶네요': 867, '라붐': 868, '노엘': 869, '헬리콥터': 870, '릴': 871, '보이': 872, '먼데이': 873, '키즈': 874, '가울': 875, '안부': 876, '백예린': 877, '신곡': 878, '나왔던데': 879, '엔플라잉': 880, '옥탑방': 881, '재키': 882, '검': 883, '최하': 884, '민': 885, '웨이브': 886, '송민호': 887, '아낙네': 888, '고백': 889, '들어줄래요': 890, '벤의': 891, '연애': 892, '중': 893, '선미': 894, '누': 895, '아르': 896, '호불호': 897, '시차': 898, 'exid': 899, '러블': 900, '리즈': 901, '여자친구': 902, '걸그룹': 903, '후예': 904, '줄래요': 905, '2': 906, 'ne': 907, '1': 908, '싶어져요': 909, '모모': 910, '랜드': 911, '애프터스쿨': 912, '우주소녀': 913, '아스트로': 914, '틀어주세': 915, '스나이퍼': 916, '로꼬': 917, '비스트': 918, '좋던데요': 919, '노라조': 920, '형': 921, '한동근': 922, '끝': 923, '써': 924, '보려해': 925, '박진영': 926, '허니': 927, '트와이스': 928, '이쁘다': 929, '방탄소년단': 930, '멋있어': 931, '소고기': 932, '할아버지': 933, '토끼': 934, '호전': 935, '장갑': 936, '기차': 937, '청소기': 938, '명치': 939, '로마': 940, '상장': 941, '책상': 942, '박사': 943, '상기': 944, '멸치': 945, '리모컨': 946, '장치': 947, '수기': 948, '경찰': 949, '훼방': 950, '영국': 951, '지구': 952, '가위': 953, '동전': 954, '등산': 955, '남자': 956, '사과': 957, '이불': 958, '해파리': 959, '동생': 960, '기타': 961, '자전거': 962, '토성': 963, '고마워': 964, '등장': 965, '방문': 966, '파인애플': 967, '전기': 968, '물고기': 969, '배고파요': 970, '배고파서': 971, '잠': 972, '안오네요': 973, '가고싶어요': 974, '시장': 975, '왔어요': 976, '입어': 977, '야해요': 978, '침대': 979, '누워': 980, '수납': 981, '장': 982, '진심': 983, '으로': 984, '서랍': 985, '의자': 986, '소방관': 987, '읽어줄래': 988, '나왔던': 989, '뭐라고': 990, '했니': 991, '일있니': 992, '오지헌': 993, '헌': 994, '박명수': 995, '추사': 996, '랑': 997, '이지원': 998, '후추': 999, '알론소': 1000, '나온거': 1001, '복싱': 1002, '기아': 1003, '플레이': 1004, '오프': 1005, '구준엽': 1006, '알고리즘': 1007, '이명박': 1008, '김지연': 1009, '김수연': 1010, '가식': 1011, '미투': 1012, '일인': 1013, '명태': 1014, '황태': 1015, '빈지노': 1016, '오바마': 1017, '대한민국': 1018, '문재인': 1019, '카카오': 1020, '톡': 1021, '대진': 1022, '호날두': 1023, '월드컵': 1024, '챔스': 1025, '아메리카': 1026, '유로': 1027, '레알': 1028, '문지기': 1029, '그래': 1030, '아세요': 1031, '오른': 1032, '주말': 1033, '목포': 1034, '솔초': 1035, '지는': 1036, '좋을까': 1037, '써야하은가요': 1038, '신촌': 1039, '보여요': 1040, '있겠은가요': 1041, '윤': 1042, '시운': 1043, '강규': 1044, '김량규': 1045, '안데르손': 1046, '김상현': 1047, '나연': 1048, '말리': 1049, '봉신': 1050, '김지현': 1051, '김순태': 1052, '김민지': 1053, '헤이즈': 1054, '이소영': 1055, '심슨': 1056, '용준형': 1057, '이미자': 1058, '주정': 1059, '용': 1060, '정현': 1061, '명': 1062, '정기고': 1063, '박도현': 1064, '넉': 1065, '살': 1066, '인절미': 1067, '김요셉': 1068, '이정철': 1069, '승범': 1070, '감스트': 1071, '고아라': 1072, '로버트할리': 1073, '최민성': 1074, '에미넴': 1075, '한석희': 1076, '종': 1077, '최태훈': 1078, '소지섭': 1079, '이준희': 1080, '김수': 1081, '성': 1082, '이지현': 1083, '인덕': 1084, '우솝': 1085, '강유진': 1086, '우호': 1087, '류': 1088, '덕산': 1089, '최영민': 1090, '이지은': 1091, '게요': 1092, '마이클': 1093, '하석주': 1094, '김철수': 1095, '고': 1096, '은재': 1097, '최지은': 1098, '박나래': 1099, '박혜원': 1100, '김희철': 1101, '김태우': 1102, '이상미': 1103, '신정훈': 1104, '그렉': 1105, '황예진': 1106, '변희봉': 1107, '이정휴': 1108, '박신양': 1109, '로이킴': 1110, '강호동': 1111, '유시민': 1112, '지호': 1113, '김민성': 1114, '비욘세': 1115, '박대기': 1116, '손': 1117, '의범': 1118, '노용': 1119, '최재영': 1120, '스터리지': 1121, '섭': 1122, '홍희': 1123, '선': 1124, '강준영': 1125, '윤미래': 1126, '이육사': 1127, '신서희': 1128, '유희왕': 1129, '정한조': 1130, '최병주': 1131, '피아노': 1132, '맨': 1133, '장국영': 1134, '반': 1135, '상민': 1136, '구태': 1137, '에일리': 1138, '김건우': 1139, '정민': 1140, '박기봉': 1141, '아이린': 1142, '김태희': 1143, '권해': 1144, '찬': 1145, '샹크스': 1146, '호나우두': 1147, '이승형': 1148, '천': 1149, '지현': 1150, '김근수': 1151, '노혜민': 1152, '공민지': 1153, '김아름': 1154, '박재인': 1155, '단군': 1156, '동명성왕': 1157, '온조왕': 1158, '혁거세': 1159, '광개토왕': 1160, '광개토대왕': 1161, '이사부': 1162, '백결': 1163, '선생': 1164, '의자왕': 1165, '계백': 1166, '관창': 1167, '김유신': 1168, '문무왕': 1169, '원효': 1170, '원효대사': 1171, '혜초': 1172, '장보고': 1173, '고왕': 1174, '대조영': 1175, '강감찬': 1176, '서희': 1177, '정중부': 1178, '최무선': 1179, '강좌칠현': 1180, '죽림칠현': 1181, '임춘': 1182, '오세재': 1183, '이인로': 1184, '조통': 1185, '황보항': 1186, '이담지': 1187, '함순': 1188, '김부식': 1189, '지눌': 1190, '지눌국사': 1191, '의천': 1192, '이종무': 1193, '문익점': 1194, '최충': 1195, '일연': 1196, '최영': 1197, '황희': 1198, '맹사성': 1199, '장영실': 1200, '신숙주': 1201, '한명회': 1202, '이이': 1203, '이율곡': 1204, '이황': 1205, '이퇴계': 1206, '신사임당': 1207, '곽재우': 1208, '조헌': 1209, '김시민': 1210, '이순신': 1211, '태조': 1212, '정종': 1213, '태종': 1214, '문종': 1215, '단종': 1216, '세조': 1217, '사육신': 1218, '성삼문': 1219, '박팽년': 1220, '하위지': 1221, '이개': 1222, '유응부': 1223, '유성원': 1224, '생육신': 1225, '김시습': 1226, '원호': 1227, '이맹전': 1228, '조려': 1229, '성담수': 1230, '남효온': 1231, '논개': 1232, '권율': 1233, '홍길동': 1234, '임꺽정': 1235, '삼학사': 1236, '홍익': 1237, '윤집': 1238, '오달제': 1239, '박문수': 1240, '한호': 1241, '한석봉': 1242, '김홍도': 1243, '단원': 1244, '김병연': 1245, '김삿갓': 1246, '김정호': 1247, '영조': 1248, '영조대왕': 1249, '정조': 1250, '정약용': 1251, '전봉준': 1252, '김대건': 1253, '황진이': 1254, '홍경래': 1255, '김옥균': 1256, '안중근': 1257, '이완용': 1258, '윤동주': 1259, '지석영': 1260, '손병희': 1261, '유관순': 1262, '안창호': 1263, '방정환': 1264, '이수일': 1265, '심': 1266, '순애': 1267, '김두한': 1268, '이상': 1269, '이중섭': 1270, '중섭': 1271, '덕진구': 1272, '서초구': 1273, '강남구': 1274, '여의도': 1275, '미룡동': 1276, '신천': 1277, '전북': 1278, '말까': 1279, '불려나': 1280, '역삼동': 1281, '챙길지': 1282, '되네': 1283, '맑아요': 1284, '불어': 1285, '완주': 1286, '비오냐': 1287, '오려나': 1288, '원주': 1289, '양평': 1290, '구': 1291, '태백': 1292, '창포': 1293, '덕': 1294, '진로': 1295, '양양읍': 1296, '옥구읍': 1297, '장성로': 1298, '가평': 1299, '사': 1300, '귀': 1301, '포시': 1302, '세종시': 1303, '구암': 1304, '구로': 1305, '안암': 1306, '돈까스': 1307, '케이크': 1308, '순대': 1309, '덮': 1310, '볶음밥': 1311, '사천': 1312, '광양': 1313, '카페': 1314, '노원구': 1315, '샐러드': 1316, '커피': 1317, '빵': 1318, '곳': 1319, '마카롱': 1320, '소시지': 1321, '마산': 1322, '샤브샤브': 1323, '삼겹살': 1324, '정읍': 1325, '월남쌈': 1326, '남원': 1327, '목살': 1328, '곱창': 1329, '족발': 1330, '파스타': 1331, '구리': 1332, '폭립': 1333, '스테이크': 1334, '파주': 1335, '규동': 1336, '가츠동': 1337, '의정부': 1338, '규카': 1339, '즈': 1340, '시흥': 1341, '나베': 1342, '꼬치': 1343, '남양주': 1344, '울진': 1345, '의왕': 1346, '누룽지': 1347, '고성': 1348, '진안': 1349, '연어': 1350, '광어': 1351, '제육': 1352, '볶음': 1353, '진도': 1354, '진해': 1355, '육회': 1356, '안양': 1357, '국밥집': 1358, '화성': 1359, '냉면집': 1360, '우동': 1361, '닭갈비': 1362, '여주': 1363, '돼지고기': 1364, '안성': 1365, '찜닭': 1366, '분식집': 1367, '분식': 1368, '자장면': 1369, '짬뽕': 1370, '탕수육': 1371, '팔보채': 1372, '깐풍기': 1373, '중국집': 1374, '중국': 1375, '만두': 1376, '국수': 1377, '잔치국수': 1378, '비빔국수': 1379, '냉면': 1380, '쫄면': 1381, '비빔냉면': 1382, '물냉면': 1383, '감자탕': 1384, '홍어': 1385, '짜': 1386, '글': 1387, '파전': 1388, '육전': 1389, '뼈': 1390, '해장국': 1391, '찜': 1392, '알밥': 1393, '뚝배기': 1394, '순두부': 1395, '햄버거': 1396, '죽집': 1397, '당진': 1398, '횟집': 1399, '호두과자': 1400, '성주': 1401}\n"
     ]
    }
   ],
   "source": [
    "print(tokenizer.word_index)"
   ]
  },
  {
   "cell_type": "code",
   "execution_count": null,
   "metadata": {
    "colab": {
     "base_uri": "https://localhost:8080/",
     "height": 34
    },
    "id": "oxMAcOnwxVsZ",
    "outputId": "526b53a3-02f4-4bc8-b9b4-371790d8b5d9"
   },
   "outputs": [
    {
     "name": "stdout",
     "output_type": "stream",
     "text": [
      "단어 집합(Vocabulary)의 크기 : 1402\n"
     ]
    }
   ],
   "source": [
    "vocab_size = len(tokenizer.word_index) + 1\n",
    "print('단어 집합(Vocabulary)의 크기 :', vocab_size)"
   ]
  },
  {
   "cell_type": "markdown",
   "metadata": {
    "id": "zu1sKSNp5ZgD"
   },
   "source": [
    "##패딩(Padding)"
   ]
  },
  {
   "cell_type": "code",
   "execution_count": null,
   "metadata": {
    "colab": {
     "base_uri": "https://localhost:8080/",
     "height": 316
    },
    "id": "RkObHIKhxgQt",
    "outputId": "1a526127-36d2-454c-fe22-95a0b05c5757"
   },
   "outputs": [
    {
     "name": "stdout",
     "output_type": "stream",
     "text": [
      "문장의 최대 길이 : 10\n",
      "문장의 평균 길이 : 4.111389585073796\n"
     ]
    },
    {
     "data": {
      "image/png": "[encoded data removed]",
      "text/plain": [
       "<Figure size 432x288 with 1 Axes>"
      ]
     },
     "metadata": {
      "image/png": {
       "height": 264,
       "width": 394
      },
      "needs_background": "light",
      "tags": []
     },
     "output_type": "display_data"
    }
   ],
   "source": [
    "print('문장의 최대 길이 :',max(len(l) for l in X_train))\n",
    "print('문장의 평균 길이 :',sum(map(len, X_train))/len(X_train))\n",
    "plt.hist([len(s) for s in X_train], bins=20)\n",
    "plt.xlabel('length of samples')\n",
    "plt.ylabel('number of samples')\n",
    "plt.show()"
   ]
  },
  {
   "cell_type": "code",
   "execution_count": null,
   "metadata": {
    "id": "lQRYbbG1x4kp"
   },
   "outputs": [],
   "source": [
    "max_len = 10\n",
    "X_train = pad_sequences(X_train, maxlen = max_len, padding='post')"
   ]
  },
  {
   "cell_type": "code",
   "execution_count": null,
   "metadata": {
    "colab": {
     "base_uri": "https://localhost:8080/",
     "height": 70
    },
    "id": "q5zwCJPgyTSm",
    "outputId": "cb1fb392-fc2f-44a3-fb2c-b2cf2715146e"
   },
   "outputs": [
    {
     "name": "stdout",
     "output_type": "stream",
     "text": [
      "[[182  70  17   0   0   0   0   0   0   0]\n",
      " [189  70  17   0   0   0   0   0   0   0]\n",
      " [189  36  70  97   0   0   0   0   0   0]]\n"
     ]
    }
   ],
   "source": [
    "print(X_train[:3])"
   ]
  },
  {
   "cell_type": "markdown",
   "metadata": {
    "id": "4s26rEWE5bnJ"
   },
   "source": [
    "## 레이블 정수 인코딩 (텍스트를 고유한 정수로 변환)"
   ]
  },
  {
   "cell_type": "code",
   "execution_count": null,
   "metadata": {
    "colab": {
     "base_uri": "https://localhost:8080/",
     "height": 34
    },
    "id": "j1f9TTHjyXgf",
    "outputId": "8ad42cf5-8e33-4f39-c1e7-ce8d37aa4227"
   },
   "outputs": [
    {
     "name": "stdout",
     "output_type": "stream",
     "text": [
      "{'날씨': 0, '뉴스': 1, '달력': 2, '맛집': 3, '먼지': 4, '명언': 5, '번역': 6, '시간': 7, '음악': 8, '이슈': 9, '인물': 10}\n"
     ]
    }
   ],
   "source": [
    "# 레이블 인코딩. 레이블을 정수로 변환\n",
    "idx_encode = preprocessing.LabelEncoder()\n",
    "idx_encode.fit(df['intent'])\n",
    "\n",
    "y_train = idx_encode.transform(df['intent'])\n",
    "\n",
    "label_idx = dict(zip(list(idx_encode.classes_), idx_encode.transform(list(idx_encode.classes_))))\n",
    "print(label_idx)"
   ]
  },
  {
   "cell_type": "code",
   "execution_count": null,
   "metadata": {
    "id": "M8NqG20c5vAh"
   },
   "outputs": [],
   "source": [
    "idx_label = {}\n",
    "for key, value in label_idx.items():\n",
    "    idx_label[value] = key"
   ]
  },
  {
   "cell_type": "code",
   "execution_count": null,
   "metadata": {
    "colab": {
     "base_uri": "https://localhost:8080/",
     "height": 34
    },
    "id": "cJ_2mR6W2kMs",
    "outputId": "5083f306-bbad-49a4-ea5a-a58dd9f99fde"
   },
   "outputs": [
    {
     "data": {
      "text/plain": [
       "array([8, 8, 8])"
      ]
     },
     "execution_count": 23,
     "metadata": {
      "tags": []
     },
     "output_type": "execute_result"
    }
   ],
   "source": [
    "y_train[:3]"
   ]
  },
  {
   "cell_type": "markdown",
   "metadata": {
    "id": "Fm0EDwNe5gDP"
   },
   "source": [
    "## LSTM을 이용한 의도 분류"
   ]
  },
  {
   "cell_type": "code",
   "execution_count": null,
   "metadata": {
    "id": "mln21mtb25z6"
   },
   "outputs": [],
   "source": [
    "from tensorflow.keras.layers import Embedding, Dense, LSTM\n",
    "from tensorflow.keras.models import Sequential\n",
    "from tensorflow.keras.models import load_model"
   ]
  },
  {
   "cell_type": "code",
   "execution_count": null,
   "metadata": {
    "id": "hyp3PaE73F1T"
   },
   "outputs": [],
   "source": [
    "model = Sequential()\n",
    "model.add(Embedding(vocab_size, 64))\n",
    "model.add(LSTM(256))\n",
    "model.add(Dense(11, activation='softmax'))"
   ]
  },
  {
   "cell_type": "code",
   "execution_count": null,
   "metadata": {
    "colab": {
     "base_uri": "https://localhost:8080/",
     "height": 567
    },
    "id": "WQp1xN1J3sdK",
    "outputId": "e9d7133b-697d-4ede-d918-09a00f0f26aa"
   },
   "outputs": [
    {
     "name": "stdout",
     "output_type": "stream",
     "text": [
      "Epoch 1/15\n",
      "57/57 [==============================] - 0s 4ms/step - loss: 1.6348 - acc: 0.3829\n",
      "Epoch 2/15\n",
      "57/57 [==============================] - 0s 4ms/step - loss: 0.4237 - acc: 0.8716\n",
      "Epoch 3/15\n",
      "57/57 [==============================] - 0s 4ms/step - loss: 0.1349 - acc: 0.9627\n",
      "Epoch 4/15\n",
      "57/57 [==============================] - 0s 8ms/step - loss: 0.1289 - acc: 0.9674\n",
      "Epoch 5/15\n",
      "57/57 [==============================] - 0s 4ms/step - loss: 0.0631 - acc: 0.9858\n",
      "Epoch 6/15\n",
      "57/57 [==============================] - 0s 4ms/step - loss: 0.0698 - acc: 0.9850\n",
      "Epoch 7/15\n",
      "57/57 [==============================] - 0s 4ms/step - loss: 0.0207 - acc: 0.9936\n",
      "Epoch 8/15\n",
      "57/57 [==============================] - 0s 4ms/step - loss: 0.0785 - acc: 0.9813\n",
      "Epoch 9/15\n",
      "57/57 [==============================] - 0s 4ms/step - loss: 0.0452 - acc: 0.9894\n",
      "Epoch 10/15\n",
      "57/57 [==============================] - 0s 4ms/step - loss: 0.0135 - acc: 0.9964\n",
      "Epoch 11/15\n",
      "57/57 [==============================] - 0s 4ms/step - loss: 0.0399 - acc: 0.9897\n",
      "Epoch 12/15\n",
      "57/57 [==============================] - 0s 4ms/step - loss: 0.0081 - acc: 0.9969\n",
      "Epoch 13/15\n",
      "57/57 [==============================] - 0s 4ms/step - loss: 0.0152 - acc: 0.9969\n",
      "Epoch 14/15\n",
      "57/57 [==============================] - 0s 4ms/step - loss: 0.0167 - acc: 0.9967\n",
      "Epoch 15/15\n",
      "57/57 [==============================] - 0s 4ms/step - loss: 0.0392 - acc: 0.9936\n"
     ]
    },
    {
     "data": {
      "text/plain": [
       "<tensorflow.python.keras.callbacks.History at 0x7fe0ea0ca898>"
      ]
     },
     "execution_count": 38,
     "metadata": {
      "tags": []
     },
     "output_type": "execute_result"
    }
   ],
   "source": [
    "model.compile(optimizer='rmsprop', loss='sparse_categorical_crossentropy', metrics=['acc'])\n",
    "model.fit(X_train, y_train, epochs = 15, batch_size = 64)"
   ]
  },
  {
   "cell_type": "markdown",
   "metadata": {
    "id": "1_Xr6-i65kFc"
   },
   "source": [
    "## 테스트 데이터에 대한 평가"
   ]
  },
  {
   "cell_type": "code",
   "execution_count": null,
   "metadata": {
    "id": "nGk0-WjL4EfS"
   },
   "outputs": [],
   "source": [
    "def question_processing(sentences):\n",
    "    inputs = []\n",
    "    for sentence in sentences:\n",
    "        sentence = okt.morphs(sentence) \n",
    "        encoded = tokenizer.texts_to_sequences([sentence])\n",
    "        inputs.append(encoded[0])\n",
    "    padded_inputs = pad_sequences(inputs, maxlen=max_len, padding='post')\n",
    "    return padded_inputs"
   ]
  },
  {
   "cell_type": "code",
   "execution_count": null,
   "metadata": {
    "id": "SSBveiCf4tVz"
   },
   "outputs": [],
   "source": [
    "input_sentence = question_processing(['서울 날씨 어때?', \n",
    "                                      '나는 전주 날씨 궁금함',\n",
    "                                      '안중근 의사는 누구야?',\n",
    "                                      '이순신 장군님은 어떤 사람이니?',\n",
    "                                      '명동 맛있는 음식점 있니?'\n",
    "                                     ])"
   ]
  },
  {
   "cell_type": "code",
   "execution_count": null,
   "metadata": {
    "colab": {
     "base_uri": "https://localhost:8080/",
     "height": 105
    },
    "id": "HN7QJQSi5FEa",
    "outputId": "659a1942-17e1-42b5-d9e5-2848f0cdb6ea"
   },
   "outputs": [
    {
     "name": "stdout",
     "output_type": "stream",
     "text": [
      "[[ 149    8   94    0    0    0    0    0    0    0]\n",
      " [  27  127  132    8    0    0    0    0    0    0]\n",
      " [1257  127    5   98    0    0    0    0    0    0]\n",
      " [1211  229  117  324  222    0    0    0    0    0]\n",
      " [ 107  100   79    0    0    0    0    0    0    0]]\n"
     ]
    }
   ],
   "source": [
    "print(input_sentence)"
   ]
  },
  {
   "cell_type": "code",
   "execution_count": null,
   "metadata": {
    "colab": {
     "base_uri": "https://localhost:8080/",
     "height": 34
    },
    "id": "o6Tou4RB5M6l",
    "outputId": "18de2f9a-fa43-43db-9f53-01a79936a3fb"
   },
   "outputs": [
    {
     "name": "stdout",
     "output_type": "stream",
     "text": [
      "[ 0  0 10  1  3]\n"
     ]
    }
   ],
   "source": [
    "prediction = np.argmax(model.predict(input_sentence), axis=1)\n",
    "print(prediction)"
   ]
  },
  {
   "cell_type": "code",
   "execution_count": null,
   "metadata": {
    "colab": {
     "base_uri": "https://localhost:8080/",
     "height": 105
    },
    "id": "b8rQfAqi5bbD",
    "outputId": "11821c76-c8a8-406a-db35-92cf791a97d8"
   },
   "outputs": [
    {
     "name": "stdout",
     "output_type": "stream",
     "text": [
      "날씨\n",
      "날씨\n",
      "인물\n",
      "뉴스\n",
      "맛집\n"
     ]
    }
   ],
   "source": [
    "for p in prediction:\n",
    "    print(idx_label[p])"
   ]
  },
  {
   "cell_type": "markdown",
   "metadata": {
    "id": "7A_Pg1R65mcC"
   },
   "source": [
    "## 잘못된 분류 결과를 새로운 데이터를 추가하여 보정하기"
   ]
  },
  {
   "cell_type": "code",
   "execution_count": null,
   "metadata": {
    "id": "BeuGlcIF86NY"
   },
   "outputs": [],
   "source": [
    "names = ['안중근', '이순신', '세종대왕', '김광석', '아이유', '에미넴', '이건희', '고아라', '유재석', '한석희', '최민성']\n",
    "def question_generator(names):\n",
    "    question = []\n",
    "    for name in names:\n",
    "        s1 = name+'는 어떤 분이야?'\n",
    "        s2 = name+'은 어떤 사람이니?'\n",
    "        s3 = name+'이란 사람에 대해 궁금해'\n",
    "        question = question+[s1, s2, s3]\n",
    "    return question\n",
    "question = question_generator(names)"
   ]
  },
  {
   "cell_type": "code",
   "execution_count": null,
   "metadata": {
    "colab": {
     "base_uri": "https://localhost:8080/",
     "height": 603
    },
    "id": "_WZCSgdD9AEY",
    "outputId": "b6c88490-3384-46ba-b391-b574111c47a8"
   },
   "outputs": [
    {
     "data": {
      "text/plain": [
       "['안중근는 어떤 분이야?',\n",
       " '안중근은 어떤 사람이니?',\n",
       " '안중근이란 사람에 대해 궁금해',\n",
       " '이순신는 어떤 분이야?',\n",
       " '이순신은 어떤 사람이니?',\n",
       " '이순신이란 사람에 대해 궁금해',\n",
       " '세종대왕는 어떤 분이야?',\n",
       " '세종대왕은 어떤 사람이니?',\n",
       " '세종대왕이란 사람에 대해 궁금해',\n",
       " '김광석는 어떤 분이야?',\n",
       " '김광석은 어떤 사람이니?',\n",
       " '김광석이란 사람에 대해 궁금해',\n",
       " '아이유는 어떤 분이야?',\n",
       " '아이유은 어떤 사람이니?',\n",
       " '아이유이란 사람에 대해 궁금해',\n",
       " '에미넴는 어떤 분이야?',\n",
       " '에미넴은 어떤 사람이니?',\n",
       " '에미넴이란 사람에 대해 궁금해',\n",
       " '이건희는 어떤 분이야?',\n",
       " '이건희은 어떤 사람이니?',\n",
       " '이건희이란 사람에 대해 궁금해',\n",
       " '고아라는 어떤 분이야?',\n",
       " '고아라은 어떤 사람이니?',\n",
       " '고아라이란 사람에 대해 궁금해',\n",
       " '유재석는 어떤 분이야?',\n",
       " '유재석은 어떤 사람이니?',\n",
       " '유재석이란 사람에 대해 궁금해',\n",
       " '한석희는 어떤 분이야?',\n",
       " '한석희은 어떤 사람이니?',\n",
       " '한석희이란 사람에 대해 궁금해',\n",
       " '최민성는 어떤 분이야?',\n",
       " '최민성은 어떤 사람이니?',\n",
       " '최민성이란 사람에 대해 궁금해']"
      ]
     },
     "execution_count": 45,
     "metadata": {
      "tags": []
     },
     "output_type": "execute_result"
    }
   ],
   "source": [
    "question"
   ]
  },
  {
   "cell_type": "code",
   "execution_count": null,
   "metadata": {
    "id": "R8AWAuWb9FFQ"
   },
   "outputs": [],
   "source": [
    "new_data = {'question' : question, 'intent' : ['인물']*len(question)}\n",
    "add_df = pd.DataFrame(new_data, columns=('question', 'intent'))"
   ]
  },
  {
   "cell_type": "code",
   "execution_count": null,
   "metadata": {
    "colab": {
     "base_uri": "https://localhost:8080/",
     "height": 197
    },
    "id": "JxTVKK4M9LIm",
    "outputId": "5f8176e3-1ead-429f-d9c4-479a466f40c8"
   },
   "outputs": [
    {
     "data": {
      "text/html": [
       "<div>\n",
       "<style scoped>\n",
       "    .dataframe tbody tr th:only-of-type {\n",
       "        vertical-align: middle;\n",
       "    }\n",
       "\n",
       "    .dataframe tbody tr th {\n",
       "        vertical-align: top;\n",
       "    }\n",
       "\n",
       "    .dataframe thead th {\n",
       "        text-align: right;\n",
       "    }\n",
       "</style>\n",
       "<table border=\"1\" class=\"dataframe\">\n",
       "  <thead>\n",
       "    <tr style=\"text-align: right;\">\n",
       "      <th></th>\n",
       "      <th>question</th>\n",
       "      <th>intent</th>\n",
       "    </tr>\n",
       "  </thead>\n",
       "  <tbody>\n",
       "    <tr>\n",
       "      <th>0</th>\n",
       "      <td>안중근는 어떤 분이야?</td>\n",
       "      <td>인물</td>\n",
       "    </tr>\n",
       "    <tr>\n",
       "      <th>1</th>\n",
       "      <td>안중근은 어떤 사람이니?</td>\n",
       "      <td>인물</td>\n",
       "    </tr>\n",
       "    <tr>\n",
       "      <th>2</th>\n",
       "      <td>안중근이란 사람에 대해 궁금해</td>\n",
       "      <td>인물</td>\n",
       "    </tr>\n",
       "    <tr>\n",
       "      <th>3</th>\n",
       "      <td>이순신는 어떤 분이야?</td>\n",
       "      <td>인물</td>\n",
       "    </tr>\n",
       "    <tr>\n",
       "      <th>4</th>\n",
       "      <td>이순신은 어떤 사람이니?</td>\n",
       "      <td>인물</td>\n",
       "    </tr>\n",
       "  </tbody>\n",
       "</table>\n",
       "</div>"
      ],
      "text/plain": [
       "           question intent\n",
       "0      안중근는 어떤 분이야?     인물\n",
       "1     안중근은 어떤 사람이니?     인물\n",
       "2  안중근이란 사람에 대해 궁금해     인물\n",
       "3      이순신는 어떤 분이야?     인물\n",
       "4     이순신은 어떤 사람이니?     인물"
      ]
     },
     "execution_count": 47,
     "metadata": {
      "tags": []
     },
     "output_type": "execute_result"
    }
   ],
   "source": [
    "add_df.head(5)"
   ]
  },
  {
   "cell_type": "code",
   "execution_count": null,
   "metadata": {
    "colab": {
     "base_uri": "https://localhost:8080/",
     "height": 34
    },
    "id": "F3ekFSAo9Qdl",
    "outputId": "f7539236-c218-4f89-ab14-6e69a3dc08b4"
   },
   "outputs": [
    {
     "name": "stdout",
     "output_type": "stream",
     "text": [
      "3591 33\n"
     ]
    }
   ],
   "source": [
    "print(len(df), len(add_df))"
   ]
  },
  {
   "cell_type": "code",
   "execution_count": null,
   "metadata": {
    "colab": {
     "base_uri": "https://localhost:8080/",
     "height": 34
    },
    "id": "u8exhk9_9X30",
    "outputId": "4c3aaf07-1f13-49ea-a959-f87b08b86261"
   },
   "outputs": [
    {
     "name": "stdout",
     "output_type": "stream",
     "text": [
      "3624\n"
     ]
    }
   ],
   "source": [
    "new_df = pd.concat([df, add_df])\n",
    "print(len(new_df))"
   ]
  },
  {
   "cell_type": "code",
   "execution_count": null,
   "metadata": {
    "colab": {
     "base_uri": "https://localhost:8080/",
     "height": 406
    },
    "id": "uB8y3DZF9Zox",
    "outputId": "64105369-5ca8-40ff-f311-c5170635e039"
   },
   "outputs": [
    {
     "data": {
      "text/html": [
       "<div>\n",
       "<style scoped>\n",
       "    .dataframe tbody tr th:only-of-type {\n",
       "        vertical-align: middle;\n",
       "    }\n",
       "\n",
       "    .dataframe tbody tr th {\n",
       "        vertical-align: top;\n",
       "    }\n",
       "\n",
       "    .dataframe thead th {\n",
       "        text-align: right;\n",
       "    }\n",
       "</style>\n",
       "<table border=\"1\" class=\"dataframe\">\n",
       "  <thead>\n",
       "    <tr style=\"text-align: right;\">\n",
       "      <th></th>\n",
       "      <th>question</th>\n",
       "      <th>intent</th>\n",
       "    </tr>\n",
       "  </thead>\n",
       "  <tbody>\n",
       "    <tr>\n",
       "      <th>0</th>\n",
       "      <td>에픽하이 우산 들려줘</td>\n",
       "      <td>음악</td>\n",
       "    </tr>\n",
       "    <tr>\n",
       "      <th>1</th>\n",
       "      <td>윤하 우산 들려줘</td>\n",
       "      <td>음악</td>\n",
       "    </tr>\n",
       "    <tr>\n",
       "      <th>2</th>\n",
       "      <td>윤하의 우산 들려주라</td>\n",
       "      <td>음악</td>\n",
       "    </tr>\n",
       "    <tr>\n",
       "      <th>3</th>\n",
       "      <td>우산 노래 들려줘</td>\n",
       "      <td>음악</td>\n",
       "    </tr>\n",
       "    <tr>\n",
       "      <th>4</th>\n",
       "      <td>에픽하이의 우산 들려줘</td>\n",
       "      <td>음악</td>\n",
       "    </tr>\n",
       "    <tr>\n",
       "      <th>...</th>\n",
       "      <td>...</td>\n",
       "      <td>...</td>\n",
       "    </tr>\n",
       "    <tr>\n",
       "      <th>28</th>\n",
       "      <td>한석희은 어떤 사람이니?</td>\n",
       "      <td>인물</td>\n",
       "    </tr>\n",
       "    <tr>\n",
       "      <th>29</th>\n",
       "      <td>한석희이란 사람에 대해 궁금해</td>\n",
       "      <td>인물</td>\n",
       "    </tr>\n",
       "    <tr>\n",
       "      <th>30</th>\n",
       "      <td>최민성는 어떤 분이야?</td>\n",
       "      <td>인물</td>\n",
       "    </tr>\n",
       "    <tr>\n",
       "      <th>31</th>\n",
       "      <td>최민성은 어떤 사람이니?</td>\n",
       "      <td>인물</td>\n",
       "    </tr>\n",
       "    <tr>\n",
       "      <th>32</th>\n",
       "      <td>최민성이란 사람에 대해 궁금해</td>\n",
       "      <td>인물</td>\n",
       "    </tr>\n",
       "  </tbody>\n",
       "</table>\n",
       "<p>3624 rows × 2 columns</p>\n",
       "</div>"
      ],
      "text/plain": [
       "            question intent\n",
       "0        에픽하이 우산 들려줘     음악\n",
       "1          윤하 우산 들려줘     음악\n",
       "2        윤하의 우산 들려주라     음악\n",
       "3          우산 노래 들려줘     음악\n",
       "4       에픽하이의 우산 들려줘     음악\n",
       "..               ...    ...\n",
       "28     한석희은 어떤 사람이니?     인물\n",
       "29  한석희이란 사람에 대해 궁금해     인물\n",
       "30      최민성는 어떤 분이야?     인물\n",
       "31     최민성은 어떤 사람이니?     인물\n",
       "32  최민성이란 사람에 대해 궁금해     인물\n",
       "\n",
       "[3624 rows x 2 columns]"
      ]
     },
     "execution_count": 50,
     "metadata": {
      "tags": []
     },
     "output_type": "execute_result"
    }
   ],
   "source": [
    "new_df"
   ]
  },
  {
   "cell_type": "code",
   "execution_count": null,
   "metadata": {
    "id": "fVaaB_Xq9azI"
   },
   "outputs": [],
   "source": [
    "X_train = []\n",
    "for sentence in new_df.question:\n",
    "    temp_X = []\n",
    "    temp_X = okt.morphs(sentence)\n",
    "    X_train.append(temp_X)"
   ]
  },
  {
   "cell_type": "code",
   "execution_count": null,
   "metadata": {
    "colab": {
     "base_uri": "https://localhost:8080/",
     "height": 34
    },
    "id": "PqUf1sCS9f31",
    "outputId": "45fda8f8-ce2d-4221-c003-088aad342fac"
   },
   "outputs": [
    {
     "name": "stdout",
     "output_type": "stream",
     "text": [
      "[['에픽하이', '우산', '들려줘'], ['윤하', '우산', '들려줘'], ['윤하', '의', '우산', '들려주라']]\n"
     ]
    }
   ],
   "source": [
    "print(X_train[:3])"
   ]
  },
  {
   "cell_type": "code",
   "execution_count": null,
   "metadata": {
    "id": "zQi7HVKg9lEP"
   },
   "outputs": [],
   "source": [
    "tokenizer = Tokenizer()\n",
    "tokenizer.fit_on_texts(X_train)"
   ]
  },
  {
   "cell_type": "code",
   "execution_count": null,
   "metadata": {
    "id": "7pu5hr2b9oEG"
   },
   "outputs": [],
   "source": [
    "X_train = tokenizer.texts_to_sequences(X_train)"
   ]
  },
  {
   "cell_type": "code",
   "execution_count": null,
   "metadata": {
    "colab": {
     "base_uri": "https://localhost:8080/",
     "height": 34
    },
    "id": "E9yw1LJj9rSj",
    "outputId": "9d17d1f9-736f-40e8-e812-7ee37a29e2fa"
   },
   "outputs": [
    {
     "name": "stdout",
     "output_type": "stream",
     "text": [
      "[[186, 72, 17], [193, 72, 17], [193, 36, 72, 99]]\n"
     ]
    }
   ],
   "source": [
    "print(X_train[:3])"
   ]
  },
  {
   "cell_type": "code",
   "execution_count": null,
   "metadata": {
    "colab": {
     "base_uri": "https://localhost:8080/",
     "height": 54
    },
    "id": "NY6QAfZe9um7",
    "outputId": "9dd5262e-dc69-467c-857a-e5b83c297bfc"
   },
   "outputs": [
    {
     "name": "stdout",
     "output_type": "stream",
     "text": [
      "{'오늘': 1, '알려줘': 2, '명언': 3, '이': 4, '누구': 5, '알려줘요': 6, '몇': 7, '날씨': 8, '지금': 9, '주': 10, '해줘': 11, '시간': 12, '뭐': 13, '노래': 14, '추천': 15, '상태': 16, '들려줘': 17, '말': 18, '공기': 19, '이슈': 20, '요': 21, '무슨': 22, '좀': 23, '이번': 24, '맛집': 25, '요즘': 26, '나': 27, '알려줄래': 28, '주변': 29, '내일': 30, '해줘요': 31, '알려주라': 32, '지': 33, '며칠': 34, '알려줄래요': 35, '의': 36, '좋은': 37, '뉴스': 38, '사건': 39, '현재': 40, '이제': 41, '곧': 42, '번역': 43, '날짜': 44, '에요': 45, '에게': 46, '되는': 47, '인가요': 48, '뭔': 49, '이야': 50, '거': 51, '핫': 52, '미세먼지': 53, '하나': 54, '시야': 55, '니': 56, '에': 57, '가장': 58, '화제': 59, '어디': 60, '중국어': 61, '있나요': 62, '요일': 63, '인지': 64, '힘': 65, '들려줘요': 66, '일': 67, '분': 68, '마스크': 69, '어떻게': 70, '어떤': 71, '우산': 72, '해주라': 73, '가': 74, '해주세요': 75, '멋진': 76, '결과': 77, '바람': 78, '프랑스어': 79, '다음': 80, '있니': 81, '전': 82, '누군지': 83, '알려주세요': 84, '라': 85, '영어': 86, '궁금해': 87, '음악': 88, '최근': 89, '시': 90, '치킨': 91, '수': 92, '해줄래': 93, '해줄래요': 94, '만': 95, '어때': 96, '비': 97, '음식': 98, '들려주라': 99, '야': 100, '는': 101, '아니': 102, '음식점': 103, '해': 104, '한': 105, '게': 106, '해주': 107, '어때요': 108, '맛있는': 109, '알려줄': 110, '일본어': 111, '모레': 112, '있던': 113, '했던': 114, '유행': 115, '하는게': 116, '뜨는게': 117, '일이': 118, '부산': 119, '주요': 120, '많이': 121, '적': 122, '들려주세요': 123, '한테': 124, '죠': 125, '대구': 126, '되니': 127, '사람': 128, '써야': 129, '눈': 130, '부니': 131, '들을래': 132, '전주': 133, '그': 134, '좋니': 135, '스페인어': 136, '신지': 137, '날': 138, '어떠니': 139, '12일': 140, '인': 141, '알려줄수': 142, '?': 143, '듣고': 144, '로': 145, '집': 146, '신문': 147, '어제': 148, '해봐': 149, '이니': 150, '대전': 151, '서울': 152, '은': 153, '제': 154, '야구': 155, '날인': 156, '시지': 157, '오나요': 158, '아산': 159, '틀어줘': 160, '들려줄래': 161, '행복한': 162, '최신': 163, '단어': 164, '이지': 165, '이에요': 166, '먼지': 167, '있어': 168, '울산': 169, '제일': 170, '라틴어': 171, '기사': 172, '도': 173, '광명': 174, '들을래요': 175, '나온': 176, '얘기': 177, '조언': 178, '있어요': 179, '궁금해요': 180, '사회': 181, '했던것': 182, '뜨는': 183, '됐던': 184, '먹을': 185, '에픽하이': 186, '에서': 187, '정치': 188, '저번': 189, '아시나요': 190, '하늘': 191, '맑니': 192, '윤하': 193, '들려주겠나요': 194, '저': 195, '일까': 196, '다음주': 197, '누굴까': 198, '요슴': 199, '맛': 200, '아': 201, '알아요': 202, '농구': 203, '할까': 204, '하니': 205, '를': 206, '알려': 207, '모르겠어': 208, '4월': 209, '토요일': 210, '난': 211, '신나는': 212, '알': 213, '이탈리아어': 214, '니요': 215, '행복해지는': 216, '9월': 217, '인천': 218, '좋나요': 219, '오니': 220, '이란': 221, '대해': 222, '주제가': 223, '가요': 224, '문장': 225, '일본말': 226, '축구': 227, '줘': 228, '맑은': 229, '경주': 230, '대통령': 231, '부나요': 232, '맛있니': 233, '재생': 234, '래': 235, '데': 236, '올림픽': 237, '있냐': 238, '좋아': 239, '어떤지': 240, '논산': 241, '3월': 242, '15일': 243, '포항': 244, '써야하나요': 245, '광주': 246, '구름': 247, '마포구': 248, '고기': 249, '피자': 250, '천안': 251, '들': 252, '정준영': 253, '합니다': 254, '단독': 255, '였는지': 256, '쓰는': 257, '달': 258, '돼요': 259, '해줄수': 260, '라고': 261, '누군데': 262, '있었니': 263, '있었나요': 264, '맑은가요': 265, '맛있어': 266, '먹을지': 267, '들려주겠니': 268, '좋던데': 269, '싶네': 270, '미국': 271, '사랑': 272, '독일어': 273, '그리스어': 274, '심심하거든': 275, '해줄': 276, '너': 277, '들려줘야': 278, '저기': 279, '혹시': 280, '번만': 281, '부탁': 282, '어떨까': 283, '쓸까': 284, '구로구': 285, '유재석': 286, '군산': 287, '오는지': 288, '우비': 289, '입을까': 290, '충주': 291, '있죠': 292, '뽀로로': 293, '와이': 294, '틀어주라': 295, '슬픈': 296, '싶어요': 297, 'ost': 298, '틀어': 299, '줬으면': 300, '오': 301, '차트': 302, '밤': 303, '해요': 304, '이건희': 305, '제라드': 306, '까먹었어': 307, '속초': 308, '있겠니': 309, '좋아요': 310, '제주': 311, '냐': 312, '와': 313, '맑나요': 314, '꼈나요': 315, '올까': 316, '흐리니': 317, '돼': 318, '들려줄수': 319, '목소리': 320, '기쁜': 321, '힙합': 322, '오빠': 323, '방탄': 324, '인기': 325, '줄': 326, '들려줄래요': 327, '냉장고': 328, '학교': 329, '양양': 330, '보여': 331, '쓰는게': 332, '오산': 333, '있을까요': 334, '줘요': 335, '박': 336, '정몽주': 337, '진천': 338, '산천': 339, '동두천': 340, '김치': 341, '라면': 342, '떡갈비': 343, '갈비': 344, '언': 345, '나플': 346, '듣고싶어': 347, '가슴': 348, '고등': 349, '래퍼': 350, '수란': 351, '좋더라': 352, '을': 353, '가사': 354, '즐거운': 355, '에이핑크': 356, '주세요': 357, '우': 358, '존경': 359, '바보': 360, '누나': 361, '토마토': 362, '감': 363, '바지': 364, '고장': 365, '가방': 366, '밥': 367, '일어': 368, '아랍어': 369, '러시아어': 370, '소식': 371, '나왔니': 372, '읽어줘': 373, '읽어줄래요': 374, '태권도': 375, '펜싱': 376, '손흥민': 377, '읽어줘요': 378, '재미': 379, '있는': 380, '해주겠니': 381, '날이니요': 382, '알고있나': 383, '였나': 384, '강릉': 385, '안산': 386, '영등포': 387, '보면': 388, '써야하니': 389, '글피': 390, '것': 391, '금천구': 392, '소크라테스': 393, '미래': 394, '김수경': 395, '해시': 396, '스완': 397, '베': 398, '이즈': 399, '한국': 400, 'un': 401, '사무': 402, '총장': 403, '고아라': 404, '에미넴': 405, '한석희': 406, '대체': 407, '이순신': 408, '안중근': 409, '알고싶어': 410, '챙길까': 411, '홍대': 412, '이런': 413, '먹을까요': 414, '정': 415, '맛있죠': 416, '왕': 417, '송천동': 418, '익산': 419, '제주도': 420, '디지몬': 421, '포켓몬': 422, '서태지': 423, '걸스데이': 424, '루피': 425, '아이오': 426, '아이': 427, '노을': 428, '3': 429, '길': 430, '다시': 431, '밴드': 432, '장범준': 433, '영화': 434, '기억': 435, '빅뱅': 436, '그레이': 437, '슬프더라': 438, '하': 439, '비투비': 440, '행주': 441, '트로트': 442, '듣고싶네': 443, '온': 444, '영': 445, '들려': 446, '아이돌': 447, '양': 448, '요요': 449, '목성': 450, '죽을래': 451, '창문': 452, '상어': 453, '할머니': 454, '났어': 455, '귀하': 456, '코뿔소': 457, '당신': 458, '얼마': 459, '해왕성': 460, '정성': 461, '이다': 462, '밥솥': 463, '고치': 464, '칠판': 465, '미안해': 466, '오징어': 467, '게임': 468, '초밥': 469, '티비': 470, '불법': 471, '읽어': 472, '즐': 473, '연예': 474, '아시안': 475, '현대': 476, '조던': 477, '승리': 478, '일있니요': 479, '순위': 480, '박미선': 481, '더': 482, '인데': 483, '다다': 484, '음': 485, '보령': 486, '영월': 487, '쓰기': 488, '싫은데': 489, '있을까': 490, '있겠나요': 491, '좋을까요': 492, '실': 493, '최민성': 494, '흐릴까': 495, '흐려': 496, '꼈니': 497, '챙겨야': 498, '고민': 499, '순천': 500, '평택': 501, '부냐': 502, '흐리나요': 503, '흐려요': 504, '공주': 505, '고깃집': 506, '성남': 507, '송파구': 508, '술집': 509, '떡볶이': 510, '여수': 511, '음료수': 512, '김광석': 513, '아이유': 514, '레인보우': 515, '조현영': 516, '가인': 517, '브라운': 518, '이드': 519, '걸스': 520, '달샤벳': 521, '도끼': 522, '김효': 523, '매드': 524, '클라': 525, '운': 526, '어반자카파': 527, '어반': 528, '자': 529, '카파': 530, '로보트': 531, '씨잼': 532, '베이식': 533, '슈퍼': 534, '면도': 535, '에듀': 536, '케이트': 537, '콜라보': 538, 'wu': 539, '투': 540, '원': 541, '지아': 542, 'mp': 543, '허각': 544, '윤도현': 545, '넬': 546, '아이비': 547, '들으려고': 548, '만난': 549, '세계': 550, '우울한데': 551, '들려줄': 552, '애': 553, '드시어': 554, '런': 555, '쉐이프': 556, '오브': 557, '미': 558, '혁오': 559, '감성': 560, '아픈': 561, '발라드': 562, '잭스': 563, '키스': 564, '아프지': 565, '마': 566, 'edm': 567, '안나는데': 568, '이름': 569, '모르겠는데': 570, '마룬': 571, '파이브': 572, '트둥': 573, '다비치': 574, '원더걸스': 575, '추억': 576, '미스': 577, '에이': 578, '수지': 579, '포미닛': 580, '뱅뱅뱅': 581, '히트': 582, '곡': 583, '하기나': 584, '크러쉬': 585, '블루스': 586, '재즈': 587, '증인': 588, '클럽': 589, '나온다면': 590, '우디': 591, '윤종신': 592, '오아시스': 593, '김범수': 594, '좋겠네': 595, '샤이니': 596, '청': 597, 'winner': 598, '싶어져': 599, '현아': 600, '베베': 601, '취하': 602, '면': 603, '지코': 604, '동방신기': 605, '주문': 606, '미로틱': 607, '마이걸': 608, '보이비': 609, '이센스': 610, '구수한': 611, '틀어줄래': 612, '알앤비': 613, '소울': 614, '첸': 615, 'make': 616, 'it': 617, 'count': 618, '멜론': 619, '숀': 620, 'way': 621, 'back': 622, 'home': 623, 'ariana': 624, 'grande': 625, 'aoa': 626, '소년단': 627, '버스커': 628, '싶어': 629, '때': 630, '김하': 631, '인기가요': 632, '우울한': 633, '희망': 634, '비극': 635, '뜨거운': 636, '싶은데': 637, '주겠니': 638, '그룹': 639, '랩': 640, '창모': 641, '한요': 642, '기리보이': 643, '홍진영': 644, '틀어줄래요': 645, '틀어줘요': 646, '오션': 647, '다': 648, '원재': 649, '태양': 650, '좋': 651, '더세요': 652, '소설': 653, '문어': 654, '코끼리': 655, '바라볼래요': 656, '텅': 657, '비었군요': 658, '파이프': 659, '탱크': 660, '에어컨': 661, '칫솔': 662, '마우스': 663, '가나': 664, '설거지': 665, '해야': 666, '깨끗하군요': 667, '들어요': 668, '사나이': 669, '돼지': 670, '배': 671, '여자': 672, '바이올린': 673, '셔츠': 674, '간장': 675, '공기청정기': 676, '퇴장': 677, '모니터': 678, '군인': 679, '먹고싶어요': 680, '속보': 681, '나왔었니': 682, '살인': 683, '아이티': 684, '홈런': 685, '컵': 686, '엘에이': 687, '다저스': 688, '삼성': 689, '에스케이': 690, '금호': 691, '타이어': 692, '케이씨씨': 693, '유나이티드': 694, '맨체스터': 695, '플레이오프': 696, '감자': 697, '김지수': 698, '무당': 699, '눈사람': 700, '박지성': 701, '궁전': 702, '문자': 703, '정수': 704, '오미연': 705, '장사꾼': 706, '소리': 707, '꾼': 708, '암탉': 709, '수탉': 710, '국회': 711, '있니요': 712, '북한': 713, '안보리': 714, '정상': 715, '회담': 716, '있었니요': 717, '가두리': 718, '특보': 719, '특종': 720, '컴퓨터': 721, '코파': 722, '해주겠나요': 723, '날이죠': 724, '모르겠네': 725, '였지': 726, '알고싶어요': 727, '였더라': 728, '되더라': 729, '일일': 730, '까': 731, '어떤데': 732, '완산구': 733, '좋은가요': 734, '고령': 735, '나주': 736, '부안': 737, '서천': 738, '영덕': 739, '가로수길': 740, '권지용': 741, '김지원': 742, '백': 743, '김동주': 744, '박근혜': 745, '이병철': 746, '최': 747, '순': 748, '시라소니': 749, '알고있니': 750, '유병재': 751, '신': 752, '성': 753, '고요': 754, '알고있죠': 755, '문': 756, '세종': 757, '맑아': 758, '청주': 759, '춘천': 760, '동구': 761, '옷': 762, '입어야': 763, '서산': 764, '부는지': 765, '송도': 766, '이천': 767, '상주': 768, '오냐': 769, '부천': 770, '일산': 771, '있지': 772, '거기': 773, '있지요': 774, '먹을까': 775, '어떤거': 776, '먹을만': 777, '알려주세': 778, '어떤게': 779, '소문난': 780, '유성구': 781, '비빔밥': 782, '라멘': 783, '수원': 784, '유명한': 785, '김밥': 786, '아이스크림': 787, '빵집': 788, '순창': 789, '양주': 790, '닭꼬치': 791, '새우': 792, '튀김': 793, '수제': 794, '버거': 795, '쌀국수': 796, '맛있어요': 797, '세종대왕': 798, '스윙스': 799, '빅스': 800, '더콰이엇': 801, '플로우': 802, '보아': 803, 'boa': 804, 'bgm': 805, '엑소': 806, '애넥도트': 807, '버벌진트': 808, '소녀시대': 809, '그렇게': 810, 'believer': 811, '알리': 812, '손승연': 813, 'emd': 814, '성시경': 815, '감미롭던데': 816, '효린': 817, '하하': 818, '빡센': 819, '외힙': 820, '살기': 821, '위해': 822, '서': 823, '베토벤': 824, '클래식': 825, '팝송': 826, '브리티쉬': 827, '들을려고': 828, '아플': 829, '들을만한': 830, '힘들': 831, '듣기': 832, '아이콘': 833, '했다': 834, '닐': 835, '지나오다': 836, '멜': 837, '로망스': 838, '별': 839, '빛나는': 840, '빈첸': 841, '하선': 842, '호': 843, '허클베리피': 844, '붕붕': 845, '바코드': 846, '기분': 847, '이은미': 848, '녹턴': 849, '동요': 850, '재밌는': 851, '들려줄수있니': 852, '잔잔한': 853, '뉴에이지': 854, '시원한': 855, '상쾌한': 856, '걷는': 857, '소나무': 858, '이수': 859, '들려줬으면': 860, '좋겠어': 861, '좋다': 862, '그루비': 863, '룸': 864, '프로': 865, '듀스': 866, '코드': 867, '쿤스트': 868, '자이언티': 869, '양화대교': 870, '베베미뇽': 871, '듣고싶은데': 872, '10': 873, 'cm': 874, '세븐': 875, '틴': 876, '왼': 877, '리쌍': 878, '아름다워': 879, '싶네요': 880, '라붐': 881, '노엘': 882, '헬리콥터': 883, '릴': 884, '보이': 885, '먼데이': 886, '키즈': 887, '가울': 888, '안부': 889, '백예린': 890, '신곡': 891, '나왔던데': 892, '엔플라잉': 893, '옥탑방': 894, '재키': 895, '검': 896, '최하': 897, '민': 898, '웨이브': 899, '송민호': 900, '아낙네': 901, '고백': 902, '들어줄래요': 903, '벤의': 904, '연애': 905, '중': 906, '선미': 907, '누': 908, '아르': 909, '호불호': 910, '시차': 911, 'exid': 912, '러블': 913, '리즈': 914, '여자친구': 915, '걸그룹': 916, '후예': 917, '줄래요': 918, '2': 919, 'ne': 920, '1': 921, '싶어져요': 922, '모모': 923, '랜드': 924, '애프터스쿨': 925, '우주소녀': 926, '아스트로': 927, '틀어주세': 928, '스나이퍼': 929, '로꼬': 930, '비스트': 931, '좋던데요': 932, '노라조': 933, '형': 934, '한동근': 935, '끝': 936, '써': 937, '보려해': 938, '박진영': 939, '허니': 940, '트와이스': 941, '이쁘다': 942, '방탄소년단': 943, '멋있어': 944, '소고기': 945, '할아버지': 946, '토끼': 947, '호전': 948, '장갑': 949, '기차': 950, '청소기': 951, '명치': 952, '로마': 953, '상장': 954, '책상': 955, '박사': 956, '상기': 957, '멸치': 958, '리모컨': 959, '장치': 960, '수기': 961, '경찰': 962, '훼방': 963, '영국': 964, '지구': 965, '가위': 966, '동전': 967, '등산': 968, '남자': 969, '사과': 970, '이불': 971, '해파리': 972, '동생': 973, '기타': 974, '자전거': 975, '토성': 976, '고마워': 977, '등장': 978, '방문': 979, '파인애플': 980, '전기': 981, '물고기': 982, '배고파요': 983, '배고파서': 984, '잠': 985, '안오네요': 986, '가고싶어요': 987, '시장': 988, '왔어요': 989, '입어': 990, '야해요': 991, '침대': 992, '누워': 993, '수납': 994, '장': 995, '진심': 996, '으로': 997, '서랍': 998, '의자': 999, '소방관': 1000, '읽어줄래': 1001, '나왔던': 1002, '뭐라고': 1003, '했니': 1004, '일있니': 1005, '오지헌': 1006, '헌': 1007, '박명수': 1008, '추사': 1009, '랑': 1010, '이지원': 1011, '후추': 1012, '알론소': 1013, '나온거': 1014, '복싱': 1015, '기아': 1016, '플레이': 1017, '오프': 1018, '구준엽': 1019, '알고리즘': 1020, '이명박': 1021, '김지연': 1022, '김수연': 1023, '가식': 1024, '미투': 1025, '일인': 1026, '명태': 1027, '황태': 1028, '빈지노': 1029, '오바마': 1030, '대한민국': 1031, '문재인': 1032, '카카오': 1033, '톡': 1034, '대진': 1035, '호날두': 1036, '월드컵': 1037, '챔스': 1038, '아메리카': 1039, '유로': 1040, '레알': 1041, '문지기': 1042, '그래': 1043, '아세요': 1044, '오른': 1045, '주말': 1046, '목포': 1047, '솔초': 1048, '지는': 1049, '좋을까': 1050, '써야하은가요': 1051, '신촌': 1052, '보여요': 1053, '있겠은가요': 1054, '윤': 1055, '시운': 1056, '강규': 1057, '김량규': 1058, '안데르손': 1059, '김상현': 1060, '나연': 1061, '말리': 1062, '봉신': 1063, '김지현': 1064, '김순태': 1065, '김민지': 1066, '헤이즈': 1067, '이소영': 1068, '심슨': 1069, '용준형': 1070, '이미자': 1071, '주정': 1072, '용': 1073, '정현': 1074, '명': 1075, '정기고': 1076, '박도현': 1077, '넉': 1078, '살': 1079, '인절미': 1080, '김요셉': 1081, '이정철': 1082, '승범': 1083, '감스트': 1084, '로버트할리': 1085, '종': 1086, '최태훈': 1087, '소지섭': 1088, '이준희': 1089, '김수': 1090, '이지현': 1091, '인덕': 1092, '우솝': 1093, '강유진': 1094, '우호': 1095, '류': 1096, '덕산': 1097, '최영민': 1098, '이지은': 1099, '게요': 1100, '마이클': 1101, '하석주': 1102, '김철수': 1103, '고': 1104, '은재': 1105, '최지은': 1106, '박나래': 1107, '박혜원': 1108, '김희철': 1109, '김태우': 1110, '이상미': 1111, '신정훈': 1112, '그렉': 1113, '황예진': 1114, '변희봉': 1115, '이정휴': 1116, '박신양': 1117, '로이킴': 1118, '강호동': 1119, '유시민': 1120, '지호': 1121, '김민성': 1122, '비욘세': 1123, '박대기': 1124, '손': 1125, '의범': 1126, '노용': 1127, '최재영': 1128, '스터리지': 1129, '섭': 1130, '홍희': 1131, '선': 1132, '강준영': 1133, '윤미래': 1134, '이육사': 1135, '신서희': 1136, '유희왕': 1137, '정한조': 1138, '최병주': 1139, '피아노': 1140, '맨': 1141, '장국영': 1142, '반': 1143, '상민': 1144, '구태': 1145, '에일리': 1146, '김건우': 1147, '정민': 1148, '박기봉': 1149, '아이린': 1150, '김태희': 1151, '권해': 1152, '찬': 1153, '샹크스': 1154, '호나우두': 1155, '이승형': 1156, '천': 1157, '지현': 1158, '김근수': 1159, '노혜민': 1160, '공민지': 1161, '김아름': 1162, '박재인': 1163, '단군': 1164, '동명성왕': 1165, '온조왕': 1166, '혁거세': 1167, '광개토왕': 1168, '광개토대왕': 1169, '이사부': 1170, '백결': 1171, '선생': 1172, '의자왕': 1173, '계백': 1174, '관창': 1175, '김유신': 1176, '문무왕': 1177, '원효': 1178, '원효대사': 1179, '혜초': 1180, '장보고': 1181, '고왕': 1182, '대조영': 1183, '강감찬': 1184, '서희': 1185, '정중부': 1186, '최무선': 1187, '강좌칠현': 1188, '죽림칠현': 1189, '임춘': 1190, '오세재': 1191, '이인로': 1192, '조통': 1193, '황보항': 1194, '이담지': 1195, '함순': 1196, '김부식': 1197, '지눌': 1198, '지눌국사': 1199, '의천': 1200, '이종무': 1201, '문익점': 1202, '최충': 1203, '일연': 1204, '최영': 1205, '황희': 1206, '맹사성': 1207, '장영실': 1208, '신숙주': 1209, '한명회': 1210, '이이': 1211, '이율곡': 1212, '이황': 1213, '이퇴계': 1214, '신사임당': 1215, '곽재우': 1216, '조헌': 1217, '김시민': 1218, '태조': 1219, '정종': 1220, '태종': 1221, '문종': 1222, '단종': 1223, '세조': 1224, '사육신': 1225, '성삼문': 1226, '박팽년': 1227, '하위지': 1228, '이개': 1229, '유응부': 1230, '유성원': 1231, '생육신': 1232, '김시습': 1233, '원호': 1234, '이맹전': 1235, '조려': 1236, '성담수': 1237, '남효온': 1238, '논개': 1239, '권율': 1240, '홍길동': 1241, '임꺽정': 1242, '삼학사': 1243, '홍익': 1244, '윤집': 1245, '오달제': 1246, '박문수': 1247, '한호': 1248, '한석봉': 1249, '김홍도': 1250, '단원': 1251, '김병연': 1252, '김삿갓': 1253, '김정호': 1254, '영조': 1255, '영조대왕': 1256, '정조': 1257, '정약용': 1258, '전봉준': 1259, '김대건': 1260, '황진이': 1261, '홍경래': 1262, '김옥균': 1263, '이완용': 1264, '윤동주': 1265, '지석영': 1266, '손병희': 1267, '유관순': 1268, '안창호': 1269, '방정환': 1270, '이수일': 1271, '심': 1272, '순애': 1273, '김두한': 1274, '이상': 1275, '이중섭': 1276, '중섭': 1277, '덕진구': 1278, '서초구': 1279, '강남구': 1280, '여의도': 1281, '미룡동': 1282, '신천': 1283, '전북': 1284, '말까': 1285, '불려나': 1286, '역삼동': 1287, '챙길지': 1288, '되네': 1289, '맑아요': 1290, '불어': 1291, '완주': 1292, '비오냐': 1293, '오려나': 1294, '원주': 1295, '양평': 1296, '구': 1297, '태백': 1298, '창포': 1299, '덕': 1300, '진로': 1301, '양양읍': 1302, '옥구읍': 1303, '장성로': 1304, '가평': 1305, '사': 1306, '귀': 1307, '포시': 1308, '세종시': 1309, '구암': 1310, '구로': 1311, '안암': 1312, '돈까스': 1313, '케이크': 1314, '순대': 1315, '덮': 1316, '볶음밥': 1317, '사천': 1318, '광양': 1319, '카페': 1320, '노원구': 1321, '샐러드': 1322, '커피': 1323, '빵': 1324, '곳': 1325, '마카롱': 1326, '소시지': 1327, '마산': 1328, '샤브샤브': 1329, '삼겹살': 1330, '정읍': 1331, '월남쌈': 1332, '남원': 1333, '목살': 1334, '곱창': 1335, '족발': 1336, '파스타': 1337, '구리': 1338, '폭립': 1339, '스테이크': 1340, '파주': 1341, '규동': 1342, '가츠동': 1343, '의정부': 1344, '규카': 1345, '즈': 1346, '시흥': 1347, '나베': 1348, '꼬치': 1349, '남양주': 1350, '울진': 1351, '의왕': 1352, '누룽지': 1353, '고성': 1354, '진안': 1355, '연어': 1356, '광어': 1357, '제육': 1358, '볶음': 1359, '진도': 1360, '진해': 1361, '육회': 1362, '안양': 1363, '국밥집': 1364, '화성': 1365, '냉면집': 1366, '우동': 1367, '닭갈비': 1368, '여주': 1369, '돼지고기': 1370, '안성': 1371, '찜닭': 1372, '분식집': 1373, '분식': 1374, '자장면': 1375, '짬뽕': 1376, '탕수육': 1377, '팔보채': 1378, '깐풍기': 1379, '중국집': 1380, '중국': 1381, '만두': 1382, '국수': 1383, '잔치국수': 1384, '비빔국수': 1385, '냉면': 1386, '쫄면': 1387, '비빔냉면': 1388, '물냉면': 1389, '감자탕': 1390, '홍어': 1391, '짜': 1392, '글': 1393, '파전': 1394, '육전': 1395, '뼈': 1396, '해장국': 1397, '찜': 1398, '알밥': 1399, '뚝배기': 1400, '순두부': 1401, '햄버거': 1402, '죽집': 1403, '당진': 1404, '횟집': 1405, '호두과자': 1406, '성주': 1407, '세종대': 1408, '최민': 1409}\n"
     ]
    }
   ],
   "source": [
    "print(tokenizer.word_index)"
   ]
  },
  {
   "cell_type": "code",
   "execution_count": null,
   "metadata": {
    "colab": {
     "base_uri": "https://localhost:8080/",
     "height": 34
    },
    "id": "z5_r_oQM9yX1",
    "outputId": "190e1732-37ec-4e65-ef2a-d59555356bd3"
   },
   "outputs": [
    {
     "name": "stdout",
     "output_type": "stream",
     "text": [
      "단어 집합(Vocabulary)의 크기 : 1410\n"
     ]
    }
   ],
   "source": [
    "vocab_size = len(tokenizer.word_index) + 1\n",
    "print('단어 집합(Vocabulary)의 크기 :', vocab_size)"
   ]
  },
  {
   "cell_type": "code",
   "execution_count": null,
   "metadata": {
    "id": "XgHMKQi199F7"
   },
   "outputs": [],
   "source": [
    "max_len = 10\n",
    "X_train = pad_sequences(X_train, maxlen = max_len, padding='post')"
   ]
  },
  {
   "cell_type": "code",
   "execution_count": null,
   "metadata": {
    "colab": {
     "base_uri": "https://localhost:8080/",
     "height": 34
    },
    "id": "9JCd-mIA-Cz1",
    "outputId": "0e8d38c3-2c2e-4807-ffb5-0d766619ee1a"
   },
   "outputs": [
    {
     "name": "stdout",
     "output_type": "stream",
     "text": [
      "{'날씨': 0, '뉴스': 1, '달력': 2, '맛집': 3, '먼지': 4, '명언': 5, '번역': 6, '시간': 7, '음악': 8, '이슈': 9, '인물': 10}\n"
     ]
    }
   ],
   "source": [
    "# 레이블 인코딩. 레이블을 정수로 변환\n",
    "idx_encode = preprocessing.LabelEncoder()\n",
    "idx_encode.fit(new_df['intent'])\n",
    "\n",
    "y_train = idx_encode.transform(new_df['intent'])\n",
    "\n",
    "label_idx = dict(zip(list(idx_encode.classes_), idx_encode.transform(list(idx_encode.classes_))))\n",
    "print(label_idx)"
   ]
  },
  {
   "cell_type": "code",
   "execution_count": null,
   "metadata": {
    "id": "eg-0t6Lj-D6O"
   },
   "outputs": [],
   "source": [
    "idx_label = {}\n",
    "for key, value in label_idx.items():\n",
    "    idx_label[value] = key"
   ]
  },
  {
   "cell_type": "code",
   "execution_count": null,
   "metadata": {
    "id": "wgZAY-DI-H-N"
   },
   "outputs": [],
   "source": [
    "model = Sequential()\n",
    "model.add(Embedding(vocab_size, 64))\n",
    "model.add(LSTM(256))\n",
    "model.add(Dense(64, activation='relu'))\n",
    "model.add(Dense(len(label_idx), activation='softmax'))"
   ]
  },
  {
   "cell_type": "code",
   "execution_count": null,
   "metadata": {
    "colab": {
     "base_uri": "https://localhost:8080/",
     "height": 567
    },
    "id": "_vpj3VQJ-M_Q",
    "outputId": "907f24f4-c41e-49f9-eb79-a8e2b6c342bc"
   },
   "outputs": [
    {
     "name": "stdout",
     "output_type": "stream",
     "text": [
      "Epoch 1/15\n",
      "57/57 [==============================] - 0s 4ms/step - loss: 1.5398 - acc: 0.3962\n",
      "Epoch 2/15\n",
      "57/57 [==============================] - 0s 4ms/step - loss: 0.4812 - acc: 0.8267\n",
      "Epoch 3/15\n",
      "57/57 [==============================] - 0s 4ms/step - loss: 0.2358 - acc: 0.9302\n",
      "Epoch 4/15\n",
      "57/57 [==============================] - 0s 4ms/step - loss: 0.1471 - acc: 0.9578\n",
      "Epoch 5/15\n",
      "57/57 [==============================] - 0s 4ms/step - loss: 0.1222 - acc: 0.9641\n",
      "Epoch 6/15\n",
      "57/57 [==============================] - 0s 4ms/step - loss: 0.0970 - acc: 0.9782\n",
      "Epoch 7/15\n",
      "57/57 [==============================] - 0s 4ms/step - loss: 0.0620 - acc: 0.9823\n",
      "Epoch 8/15\n",
      "57/57 [==============================] - 0s 4ms/step - loss: 0.0637 - acc: 0.9840\n",
      "Epoch 9/15\n",
      "57/57 [==============================] - 0s 4ms/step - loss: 0.0314 - acc: 0.9903\n",
      "Epoch 10/15\n",
      "57/57 [==============================] - 0s 4ms/step - loss: 0.0683 - acc: 0.9862\n",
      "Epoch 11/15\n",
      "57/57 [==============================] - 0s 4ms/step - loss: 0.0527 - acc: 0.9879\n",
      "Epoch 12/15\n",
      "57/57 [==============================] - 0s 4ms/step - loss: 0.0247 - acc: 0.9937\n",
      "Epoch 13/15\n",
      "57/57 [==============================] - 0s 4ms/step - loss: 0.0275 - acc: 0.9920\n",
      "Epoch 14/15\n",
      "57/57 [==============================] - 0s 4ms/step - loss: 0.0407 - acc: 0.9923\n",
      "Epoch 15/15\n",
      "57/57 [==============================] - 0s 4ms/step - loss: 0.0216 - acc: 0.9961\n"
     ]
    },
    {
     "data": {
      "text/plain": [
       "<tensorflow.python.keras.callbacks.History at 0x7fe0d00ff518>"
      ]
     },
     "execution_count": 62,
     "metadata": {
      "tags": []
     },
     "output_type": "execute_result"
    }
   ],
   "source": [
    "model.compile(optimizer='rmsprop', loss='sparse_categorical_crossentropy', metrics=['acc'])\n",
    "model.fit(X_train, y_train, epochs = 15, batch_size = 64)"
   ]
  },
  {
   "cell_type": "code",
   "execution_count": null,
   "metadata": {
    "id": "Ki5il0rN-VaD"
   },
   "outputs": [],
   "source": [
    "input_sentence = question_processing(['서울 날씨 어때?', \n",
    "                                      '나는 전주 날씨 궁금함',\n",
    "                                      '안중근 의사는 누구야?',\n",
    "                                      '이순신 장군님은 어떤 사람이니?',\n",
    "                                      '명동 맛있는 음식점 있니?'\n",
    "                                     ])"
   ]
  },
  {
   "cell_type": "code",
   "execution_count": null,
   "metadata": {
    "colab": {
     "base_uri": "https://localhost:8080/",
     "height": 105
    },
    "id": "xUwnI9V8-eL9",
    "outputId": "f1d88a49-8d9c-4162-ce71-6c58040bac5b"
   },
   "outputs": [
    {
     "data": {
      "text/plain": [
       "array([[152,   8,  96, 143,   0,   0,   0,   0,   0,   0],\n",
       "       [ 27, 101, 133,   8,   0,   0,   0,   0,   0,   0],\n",
       "       [409, 101,   5, 100, 143,   0,   0,   0,   0,   0],\n",
       "       [408, 153,  71, 128, 150, 143,   0,   0,   0,   0],\n",
       "       [109, 103,  81, 143,   0,   0,   0,   0,   0,   0]], dtype=int32)"
      ]
     },
     "execution_count": 64,
     "metadata": {
      "tags": []
     },
     "output_type": "execute_result"
    }
   ],
   "source": [
    "input_sentence"
   ]
  },
  {
   "cell_type": "code",
   "execution_count": null,
   "metadata": {
    "colab": {
     "base_uri": "https://localhost:8080/",
     "height": 34
    },
    "id": "-S4UOk8W-nG7",
    "outputId": "12e90c53-f321-4977-cc3e-0dd1744e50e5"
   },
   "outputs": [
    {
     "name": "stdout",
     "output_type": "stream",
     "text": [
      "[ 0  0 10 10  3]\n"
     ]
    }
   ],
   "source": [
    "prediction = np.argmax(model.predict(input_sentence), axis=1)\n",
    "print(prediction)"
   ]
  },
  {
   "cell_type": "code",
   "execution_count": null,
   "metadata": {
    "colab": {
     "base_uri": "https://localhost:8080/",
     "height": 105
    },
    "id": "g1DPzp16-s-o",
    "outputId": "18fabf70-3d70-497e-dd32-351218b6f692",
    "scrolled": true
   },
   "outputs": [
    {
     "name": "stdout",
     "output_type": "stream",
     "text": [
      "날씨\n",
      "날씨\n",
      "인물\n",
      "인물\n",
      "맛집\n"
     ]
    }
   ],
   "source": [
    "for p in prediction:\n",
    "    print(idx_label[p])"
   ]
  }
 ],
 "metadata": {
  "accelerator": "GPU",
  "anaconda-cloud": {},
  "colab": {
   "machine_shape": "hm",
   "name": "Learning Spoons 5강 (의도 분류하기).ipynb",
   "provenance": [],
   "toc_visible": true
  },
  "kernelspec": {
   "display_name": "Python 3",
   "language": "python",
   "name": "python3"
  },
  "language_info": {
   "codemirror_mode": {
    "name": "ipython",
    "version": 3
   },
   "file_extension": ".py",
   "mimetype": "text/x-python",
   "name": "python",
   "nbconvert_exporter": "python",
   "pygments_lexer": "ipython3",
   "version": "3.8.8"
  },
  "toc": {
   "base_numbering": 1,
   "nav_menu": {},
   "number_sections": true,
   "sideBar": true,
   "skip_h1_title": false,
   "title_cell": "Table of Contents",
   "title_sidebar": "Contents",
   "toc_cell": false,
   "toc_position": {},
   "toc_section_display": true,
   "toc_window_display": true
  },
  "varInspector": {
   "cols": {
    "lenName": 16,
    "lenType": 16,
    "lenVar": 40
   },
   "kernels_config": {
    "python": {
     "delete_cmd_postfix": "",
     "delete_cmd_prefix": "del ",
     "library": "var_list.py",
     "varRefreshCmd": "print(var_dic_list())"
    },
    "r": {
     "delete_cmd_postfix": ") ",
     "delete_cmd_prefix": "rm(",
     "library": "var_list.r",
     "varRefreshCmd": "cat(var_dic_list()) "
    }
   },
   "types_to_exclude": [
    "module",
    "function",
    "builtin_function_or_method",
    "instance",
    "_Feature"
   ],
   "window_display": false
  }
 },
 "nbformat": 4,
 "nbformat_minor": 1
}
