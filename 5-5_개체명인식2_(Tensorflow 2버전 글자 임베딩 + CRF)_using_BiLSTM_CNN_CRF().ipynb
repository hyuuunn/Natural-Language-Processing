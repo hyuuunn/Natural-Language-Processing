{
 "cells": [
  {
   "cell_type": "markdown",
   "metadata": {
    "id": "7FrWBlgOqqWf"
   },
   "source": [
    "'위키독스 딥 러닝을 이용한 자연어 처리 입문의 BiLSTM + CRF + 글자 임베딩의 튜토리얼 자료.'"
   ]
  },
  {
   "cell_type": "markdown",
   "metadata": {
    "id": "E2QPT2-kqgWs"
   },
   "source": [
    "링크 : https://wikidocs.net/147219  \n",
    "링크 : https://wikidocs.net/147234  \n",
    "링크 : https://wikidocs.net/147299"
   ]
  },
  {
   "cell_type": "code",
   "execution_count": null,
   "metadata": {
    "colab": {
     "base_uri": "https://localhost:8080/"
    },
    "id": "gb8M8KjY0gzw",
    "outputId": "29b560c2-7773-4d80-9095-1f1aec7598bf"
   },
   "outputs": [
    {
     "name": "stdout",
     "output_type": "stream",
     "text": [
      "Collecting tensorflow==2.4.0\n",
      "  Downloading tensorflow-2.4.0-cp37-cp37m-manylinux2010_x86_64.whl (394.7 MB)\n",
      "\u001b[K     |████████████████████████████████| 394.7 MB 17 kB/s \n",
      "\u001b[?25hCollecting gast==0.3.3\n",
      "  Downloading gast-0.3.3-py2.py3-none-any.whl (9.7 kB)\n",
      "Collecting grpcio~=1.32.0\n",
      "  Downloading grpcio-1.32.0-cp37-cp37m-manylinux2014_x86_64.whl (3.8 MB)\n",
      "\u001b[K     |████████████████████████████████| 3.8 MB 44.3 MB/s \n",
      "\u001b[?25hRequirement already satisfied: keras-preprocessing~=1.1.2 in /usr/local/lib/python3.7/dist-packages (from tensorflow==2.4.0) (1.1.2)\n",
      "Requirement already satisfied: numpy~=1.19.2 in /usr/local/lib/python3.7/dist-packages (from tensorflow==2.4.0) (1.19.5)\n",
      "Collecting tensorflow-estimator<2.5.0,>=2.4.0rc0\n",
      "  Downloading tensorflow_estimator-2.4.0-py2.py3-none-any.whl (462 kB)\n",
      "\u001b[K     |████████████████████████████████| 462 kB 65.9 MB/s \n",
      "\u001b[?25hRequirement already satisfied: google-pasta~=0.2 in /usr/local/lib/python3.7/dist-packages (from tensorflow==2.4.0) (0.2.0)\n",
      "Requirement already satisfied: astunparse~=1.6.3 in /usr/local/lib/python3.7/dist-packages (from tensorflow==2.4.0) (1.6.3)\n",
      "Requirement already satisfied: opt-einsum~=3.3.0 in /usr/local/lib/python3.7/dist-packages (from tensorflow==2.4.0) (3.3.0)\n",
      "Requirement already satisfied: protobuf>=3.9.2 in /usr/local/lib/python3.7/dist-packages (from tensorflow==2.4.0) (3.17.3)\n",
      "Collecting typing-extensions~=3.7.4\n",
      "  Downloading typing_extensions-3.7.4.3-py3-none-any.whl (22 kB)\n",
      "Requirement already satisfied: tensorboard~=2.4 in /usr/local/lib/python3.7/dist-packages (from tensorflow==2.4.0) (2.7.0)\n",
      "Collecting wrapt~=1.12.1\n",
      "  Downloading wrapt-1.12.1.tar.gz (27 kB)\n",
      "Requirement already satisfied: wheel~=0.35 in /usr/local/lib/python3.7/dist-packages (from tensorflow==2.4.0) (0.37.0)\n",
      "Requirement already satisfied: absl-py~=0.10 in /usr/local/lib/python3.7/dist-packages (from tensorflow==2.4.0) (0.12.0)\n",
      "Requirement already satisfied: six~=1.15.0 in /usr/local/lib/python3.7/dist-packages (from tensorflow==2.4.0) (1.15.0)\n",
      "Collecting flatbuffers~=1.12.0\n",
      "  Downloading flatbuffers-1.12-py2.py3-none-any.whl (15 kB)\n",
      "Collecting h5py~=2.10.0\n",
      "  Downloading h5py-2.10.0-cp37-cp37m-manylinux1_x86_64.whl (2.9 MB)\n",
      "\u001b[K     |████████████████████████████████| 2.9 MB 49.8 MB/s \n",
      "\u001b[?25hRequirement already satisfied: termcolor~=1.1.0 in /usr/local/lib/python3.7/dist-packages (from tensorflow==2.4.0) (1.1.0)\n",
      "Requirement already satisfied: werkzeug>=0.11.15 in /usr/local/lib/python3.7/dist-packages (from tensorboard~=2.4->tensorflow==2.4.0) (1.0.1)\n",
      "Requirement already satisfied: tensorboard-data-server<0.7.0,>=0.6.0 in /usr/local/lib/python3.7/dist-packages (from tensorboard~=2.4->tensorflow==2.4.0) (0.6.1)\n",
      "Requirement already satisfied: google-auth<3,>=1.6.3 in /usr/local/lib/python3.7/dist-packages (from tensorboard~=2.4->tensorflow==2.4.0) (1.35.0)\n",
      "Requirement already satisfied: markdown>=2.6.8 in /usr/local/lib/python3.7/dist-packages (from tensorboard~=2.4->tensorflow==2.4.0) (3.3.6)\n",
      "Requirement already satisfied: google-auth-oauthlib<0.5,>=0.4.1 in /usr/local/lib/python3.7/dist-packages (from tensorboard~=2.4->tensorflow==2.4.0) (0.4.6)\n",
      "Requirement already satisfied: tensorboard-plugin-wit>=1.6.0 in /usr/local/lib/python3.7/dist-packages (from tensorboard~=2.4->tensorflow==2.4.0) (1.8.0)\n",
      "Requirement already satisfied: setuptools>=41.0.0 in /usr/local/lib/python3.7/dist-packages (from tensorboard~=2.4->tensorflow==2.4.0) (57.4.0)\n",
      "Requirement already satisfied: requests<3,>=2.21.0 in /usr/local/lib/python3.7/dist-packages (from tensorboard~=2.4->tensorflow==2.4.0) (2.23.0)\n",
      "Requirement already satisfied: pyasn1-modules>=0.2.1 in /usr/local/lib/python3.7/dist-packages (from google-auth<3,>=1.6.3->tensorboard~=2.4->tensorflow==2.4.0) (0.2.8)\n",
      "Requirement already satisfied: cachetools<5.0,>=2.0.0 in /usr/local/lib/python3.7/dist-packages (from google-auth<3,>=1.6.3->tensorboard~=2.4->tensorflow==2.4.0) (4.2.4)\n",
      "Requirement already satisfied: rsa<5,>=3.1.4 in /usr/local/lib/python3.7/dist-packages (from google-auth<3,>=1.6.3->tensorboard~=2.4->tensorflow==2.4.0) (4.8)\n",
      "Requirement already satisfied: requests-oauthlib>=0.7.0 in /usr/local/lib/python3.7/dist-packages (from google-auth-oauthlib<0.5,>=0.4.1->tensorboard~=2.4->tensorflow==2.4.0) (1.3.0)\n",
      "Requirement already satisfied: importlib-metadata>=4.4 in /usr/local/lib/python3.7/dist-packages (from markdown>=2.6.8->tensorboard~=2.4->tensorflow==2.4.0) (4.8.2)\n",
      "Requirement already satisfied: zipp>=0.5 in /usr/local/lib/python3.7/dist-packages (from importlib-metadata>=4.4->markdown>=2.6.8->tensorboard~=2.4->tensorflow==2.4.0) (3.6.0)\n",
      "Requirement already satisfied: pyasn1<0.5.0,>=0.4.6 in /usr/local/lib/python3.7/dist-packages (from pyasn1-modules>=0.2.1->google-auth<3,>=1.6.3->tensorboard~=2.4->tensorflow==2.4.0) (0.4.8)\n",
      "Requirement already satisfied: chardet<4,>=3.0.2 in /usr/local/lib/python3.7/dist-packages (from requests<3,>=2.21.0->tensorboard~=2.4->tensorflow==2.4.0) (3.0.4)\n",
      "Requirement already satisfied: idna<3,>=2.5 in /usr/local/lib/python3.7/dist-packages (from requests<3,>=2.21.0->tensorboard~=2.4->tensorflow==2.4.0) (2.10)\n",
      "Requirement already satisfied: certifi>=2017.4.17 in /usr/local/lib/python3.7/dist-packages (from requests<3,>=2.21.0->tensorboard~=2.4->tensorflow==2.4.0) (2021.10.8)\n",
      "Requirement already satisfied: urllib3!=1.25.0,!=1.25.1,<1.26,>=1.21.1 in /usr/local/lib/python3.7/dist-packages (from requests<3,>=2.21.0->tensorboard~=2.4->tensorflow==2.4.0) (1.24.3)\n",
      "Requirement already satisfied: oauthlib>=3.0.0 in /usr/local/lib/python3.7/dist-packages (from requests-oauthlib>=0.7.0->google-auth-oauthlib<0.5,>=0.4.1->tensorboard~=2.4->tensorflow==2.4.0) (3.1.1)\n",
      "Building wheels for collected packages: wrapt\n",
      "  Building wheel for wrapt (setup.py) ... \u001b[?25l\u001b[?25hdone\n",
      "  Created wheel for wrapt: filename=wrapt-1.12.1-cp37-cp37m-linux_x86_64.whl size=68713 sha256=e93e20ba4bb81f26ff6a3ad22c3d43610b0b1176854bd2ba9117f3a2a098ae54\n",
      "  Stored in directory: /root/.cache/pip/wheels/62/76/4c/aa25851149f3f6d9785f6c869387ad82b3fd37582fa8147ac6\n",
      "Successfully built wrapt\n",
      "Installing collected packages: typing-extensions, grpcio, wrapt, tensorflow-estimator, h5py, gast, flatbuffers, tensorflow\n",
      "  Attempting uninstall: typing-extensions\n",
      "    Found existing installation: typing-extensions 3.10.0.2\n",
      "    Uninstalling typing-extensions-3.10.0.2:\n",
      "      Successfully uninstalled typing-extensions-3.10.0.2\n",
      "  Attempting uninstall: grpcio\n",
      "    Found existing installation: grpcio 1.42.0\n",
      "    Uninstalling grpcio-1.42.0:\n",
      "      Successfully uninstalled grpcio-1.42.0\n",
      "  Attempting uninstall: wrapt\n",
      "    Found existing installation: wrapt 1.13.3\n",
      "    Uninstalling wrapt-1.13.3:\n",
      "      Successfully uninstalled wrapt-1.13.3\n",
      "  Attempting uninstall: tensorflow-estimator\n",
      "    Found existing installation: tensorflow-estimator 2.7.0\n",
      "    Uninstalling tensorflow-estimator-2.7.0:\n",
      "      Successfully uninstalled tensorflow-estimator-2.7.0\n",
      "  Attempting uninstall: h5py\n",
      "    Found existing installation: h5py 3.1.0\n",
      "    Uninstalling h5py-3.1.0:\n",
      "      Successfully uninstalled h5py-3.1.0\n",
      "  Attempting uninstall: gast\n",
      "    Found existing installation: gast 0.4.0\n",
      "    Uninstalling gast-0.4.0:\n",
      "      Successfully uninstalled gast-0.4.0\n",
      "  Attempting uninstall: flatbuffers\n",
      "    Found existing installation: flatbuffers 2.0\n",
      "    Uninstalling flatbuffers-2.0:\n",
      "      Successfully uninstalled flatbuffers-2.0\n",
      "  Attempting uninstall: tensorflow\n",
      "    Found existing installation: tensorflow 2.7.0\n",
      "    Uninstalling tensorflow-2.7.0:\n",
      "      Successfully uninstalled tensorflow-2.7.0\n",
      "Successfully installed flatbuffers-1.12 gast-0.3.3 grpcio-1.32.0 h5py-2.10.0 tensorflow-2.4.0 tensorflow-estimator-2.4.0 typing-extensions-3.7.4.3 wrapt-1.12.1\n"
     ]
    }
   ],
   "source": [
    "pip install tensorflow==2.4.0"
   ]
  },
  {
   "cell_type": "code",
   "execution_count": null,
   "metadata": {
    "colab": {
     "base_uri": "https://localhost:8080/",
     "height": 35
    },
    "id": "BLaXWXiV2ypI",
    "outputId": "b5f65749-98a1-4883-cdd0-85225cbeb476"
   },
   "outputs": [
    {
     "data": {
      "application/vnd.google.colaboratory.intrinsic+json": {
       "type": "string"
      },
      "text/plain": [
       "'2.4.0'"
      ]
     },
     "execution_count": 2,
     "metadata": {},
     "output_type": "execute_result"
    }
   ],
   "source": [
    "import tensorflow as tf\n",
    "tf.__version__"
   ]
  },
  {
   "cell_type": "markdown",
   "metadata": {
    "id": "pPthmTBbODpC"
   },
   "source": [
    "# CRF layer 설치"
   ]
  },
  {
   "cell_type": "code",
   "execution_count": null,
   "metadata": {
    "colab": {
     "base_uri": "https://localhost:8080/"
    },
    "id": "H9S1I2HIlfAH",
    "outputId": "11953b2b-0fe9-4e62-fc35-b0243eedba2d"
   },
   "outputs": [
    {
     "name": "stdout",
     "output_type": "stream",
     "text": [
      "Requirement already satisfied: keras-crf==0.3.0 in /usr/local/lib/python3.7/dist-packages (0.3.0)\n",
      "Requirement already satisfied: tensorflow in /usr/local/lib/python3.7/dist-packages (from keras-crf==0.3.0) (2.4.0)\n",
      "Requirement already satisfied: tensorflow-addons in /usr/local/lib/python3.7/dist-packages (from keras-crf==0.3.0) (0.15.0)\n",
      "Requirement already satisfied: tensorflow-estimator<2.5.0,>=2.4.0rc0 in /usr/local/lib/python3.7/dist-packages (from tensorflow->keras-crf==0.3.0) (2.4.0)\n",
      "Requirement already satisfied: six~=1.15.0 in /usr/local/lib/python3.7/dist-packages (from tensorflow->keras-crf==0.3.0) (1.15.0)\n",
      "Requirement already satisfied: termcolor~=1.1.0 in /usr/local/lib/python3.7/dist-packages (from tensorflow->keras-crf==0.3.0) (1.1.0)\n",
      "Requirement already satisfied: typing-extensions~=3.7.4 in /usr/local/lib/python3.7/dist-packages (from tensorflow->keras-crf==0.3.0) (3.7.4.3)\n",
      "Requirement already satisfied: tensorboard~=2.4 in /usr/local/lib/python3.7/dist-packages (from tensorflow->keras-crf==0.3.0) (2.7.0)\n",
      "Requirement already satisfied: google-pasta~=0.2 in /usr/local/lib/python3.7/dist-packages (from tensorflow->keras-crf==0.3.0) (0.2.0)\n",
      "Requirement already satisfied: astunparse~=1.6.3 in /usr/local/lib/python3.7/dist-packages (from tensorflow->keras-crf==0.3.0) (1.6.3)\n",
      "Requirement already satisfied: flatbuffers~=1.12.0 in /usr/local/lib/python3.7/dist-packages (from tensorflow->keras-crf==0.3.0) (1.12)\n",
      "Requirement already satisfied: keras-preprocessing~=1.1.2 in /usr/local/lib/python3.7/dist-packages (from tensorflow->keras-crf==0.3.0) (1.1.2)\n",
      "Requirement already satisfied: numpy~=1.19.2 in /usr/local/lib/python3.7/dist-packages (from tensorflow->keras-crf==0.3.0) (1.19.5)\n",
      "Requirement already satisfied: wrapt~=1.12.1 in /usr/local/lib/python3.7/dist-packages (from tensorflow->keras-crf==0.3.0) (1.12.1)\n",
      "Requirement already satisfied: gast==0.3.3 in /usr/local/lib/python3.7/dist-packages (from tensorflow->keras-crf==0.3.0) (0.3.3)\n",
      "Requirement already satisfied: opt-einsum~=3.3.0 in /usr/local/lib/python3.7/dist-packages (from tensorflow->keras-crf==0.3.0) (3.3.0)\n",
      "Requirement already satisfied: absl-py~=0.10 in /usr/local/lib/python3.7/dist-packages (from tensorflow->keras-crf==0.3.0) (0.12.0)\n",
      "Requirement already satisfied: protobuf>=3.9.2 in /usr/local/lib/python3.7/dist-packages (from tensorflow->keras-crf==0.3.0) (3.17.3)\n",
      "Requirement already satisfied: grpcio~=1.32.0 in /usr/local/lib/python3.7/dist-packages (from tensorflow->keras-crf==0.3.0) (1.32.0)\n",
      "Requirement already satisfied: wheel~=0.35 in /usr/local/lib/python3.7/dist-packages (from tensorflow->keras-crf==0.3.0) (0.37.0)\n",
      "Requirement already satisfied: h5py~=2.10.0 in /usr/local/lib/python3.7/dist-packages (from tensorflow->keras-crf==0.3.0) (2.10.0)\n",
      "Requirement already satisfied: google-auth-oauthlib<0.5,>=0.4.1 in /usr/local/lib/python3.7/dist-packages (from tensorboard~=2.4->tensorflow->keras-crf==0.3.0) (0.4.6)\n",
      "Requirement already satisfied: tensorboard-data-server<0.7.0,>=0.6.0 in /usr/local/lib/python3.7/dist-packages (from tensorboard~=2.4->tensorflow->keras-crf==0.3.0) (0.6.1)\n",
      "Requirement already satisfied: setuptools>=41.0.0 in /usr/local/lib/python3.7/dist-packages (from tensorboard~=2.4->tensorflow->keras-crf==0.3.0) (57.4.0)\n",
      "Requirement already satisfied: requests<3,>=2.21.0 in /usr/local/lib/python3.7/dist-packages (from tensorboard~=2.4->tensorflow->keras-crf==0.3.0) (2.23.0)\n",
      "Requirement already satisfied: tensorboard-plugin-wit>=1.6.0 in /usr/local/lib/python3.7/dist-packages (from tensorboard~=2.4->tensorflow->keras-crf==0.3.0) (1.8.0)\n",
      "Requirement already satisfied: google-auth<3,>=1.6.3 in /usr/local/lib/python3.7/dist-packages (from tensorboard~=2.4->tensorflow->keras-crf==0.3.0) (1.35.0)\n",
      "Requirement already satisfied: markdown>=2.6.8 in /usr/local/lib/python3.7/dist-packages (from tensorboard~=2.4->tensorflow->keras-crf==0.3.0) (3.3.6)\n",
      "Requirement already satisfied: werkzeug>=0.11.15 in /usr/local/lib/python3.7/dist-packages (from tensorboard~=2.4->tensorflow->keras-crf==0.3.0) (1.0.1)\n",
      "Requirement already satisfied: pyasn1-modules>=0.2.1 in /usr/local/lib/python3.7/dist-packages (from google-auth<3,>=1.6.3->tensorboard~=2.4->tensorflow->keras-crf==0.3.0) (0.2.8)\n",
      "Requirement already satisfied: cachetools<5.0,>=2.0.0 in /usr/local/lib/python3.7/dist-packages (from google-auth<3,>=1.6.3->tensorboard~=2.4->tensorflow->keras-crf==0.3.0) (4.2.4)\n",
      "Requirement already satisfied: rsa<5,>=3.1.4 in /usr/local/lib/python3.7/dist-packages (from google-auth<3,>=1.6.3->tensorboard~=2.4->tensorflow->keras-crf==0.3.0) (4.8)\n",
      "Requirement already satisfied: requests-oauthlib>=0.7.0 in /usr/local/lib/python3.7/dist-packages (from google-auth-oauthlib<0.5,>=0.4.1->tensorboard~=2.4->tensorflow->keras-crf==0.3.0) (1.3.0)\n",
      "Requirement already satisfied: importlib-metadata>=4.4 in /usr/local/lib/python3.7/dist-packages (from markdown>=2.6.8->tensorboard~=2.4->tensorflow->keras-crf==0.3.0) (4.8.2)\n",
      "Requirement already satisfied: zipp>=0.5 in /usr/local/lib/python3.7/dist-packages (from importlib-metadata>=4.4->markdown>=2.6.8->tensorboard~=2.4->tensorflow->keras-crf==0.3.0) (3.6.0)\n",
      "Requirement already satisfied: pyasn1<0.5.0,>=0.4.6 in /usr/local/lib/python3.7/dist-packages (from pyasn1-modules>=0.2.1->google-auth<3,>=1.6.3->tensorboard~=2.4->tensorflow->keras-crf==0.3.0) (0.4.8)\n",
      "Requirement already satisfied: idna<3,>=2.5 in /usr/local/lib/python3.7/dist-packages (from requests<3,>=2.21.0->tensorboard~=2.4->tensorflow->keras-crf==0.3.0) (2.10)\n",
      "Requirement already satisfied: urllib3!=1.25.0,!=1.25.1,<1.26,>=1.21.1 in /usr/local/lib/python3.7/dist-packages (from requests<3,>=2.21.0->tensorboard~=2.4->tensorflow->keras-crf==0.3.0) (1.24.3)\n",
      "Requirement already satisfied: chardet<4,>=3.0.2 in /usr/local/lib/python3.7/dist-packages (from requests<3,>=2.21.0->tensorboard~=2.4->tensorflow->keras-crf==0.3.0) (3.0.4)\n",
      "Requirement already satisfied: certifi>=2017.4.17 in /usr/local/lib/python3.7/dist-packages (from requests<3,>=2.21.0->tensorboard~=2.4->tensorflow->keras-crf==0.3.0) (2021.10.8)\n",
      "Requirement already satisfied: oauthlib>=3.0.0 in /usr/local/lib/python3.7/dist-packages (from requests-oauthlib>=0.7.0->google-auth-oauthlib<0.5,>=0.4.1->tensorboard~=2.4->tensorflow->keras-crf==0.3.0) (3.1.1)\n",
      "Requirement already satisfied: typeguard>=2.7 in /usr/local/lib/python3.7/dist-packages (from tensorflow-addons->keras-crf==0.3.0) (2.7.1)\n"
     ]
    }
   ],
   "source": [
    "pip install keras-crf==0.3.0"
   ]
  },
  {
   "cell_type": "code",
   "execution_count": null,
   "metadata": {
    "colab": {
     "base_uri": "https://localhost:8080/"
    },
    "id": "329OHwxK-1if",
    "outputId": "ed0eb671-bfc0-4512-a2be-a9da9dd59895"
   },
   "outputs": [
    {
     "name": "stdout",
     "output_type": "stream",
     "text": [
      "Collecting seqeval\n",
      "  Downloading seqeval-1.2.2.tar.gz (43 kB)\n",
      "\u001b[?25l\r",
      "\u001b[K     |███████▌                        | 10 kB 32.3 MB/s eta 0:00:01\r",
      "\u001b[K     |███████████████                 | 20 kB 31.7 MB/s eta 0:00:01\r",
      "\u001b[K     |██████████████████████▌         | 30 kB 19.9 MB/s eta 0:00:01\r",
      "\u001b[K     |██████████████████████████████  | 40 kB 17.2 MB/s eta 0:00:01\r",
      "\u001b[K     |████████████████████████████████| 43 kB 2.2 MB/s \n",
      "\u001b[?25hRequirement already satisfied: numpy>=1.14.0 in /usr/local/lib/python3.7/dist-packages (from seqeval) (1.19.5)\n",
      "Requirement already satisfied: scikit-learn>=0.21.3 in /usr/local/lib/python3.7/dist-packages (from seqeval) (1.0.1)\n",
      "Requirement already satisfied: joblib>=0.11 in /usr/local/lib/python3.7/dist-packages (from scikit-learn>=0.21.3->seqeval) (1.1.0)\n",
      "Requirement already satisfied: threadpoolctl>=2.0.0 in /usr/local/lib/python3.7/dist-packages (from scikit-learn>=0.21.3->seqeval) (3.0.0)\n",
      "Requirement already satisfied: scipy>=1.1.0 in /usr/local/lib/python3.7/dist-packages (from scikit-learn>=0.21.3->seqeval) (1.4.1)\n",
      "Building wheels for collected packages: seqeval\n",
      "  Building wheel for seqeval (setup.py) ... \u001b[?25l\u001b[?25hdone\n",
      "  Created wheel for seqeval: filename=seqeval-1.2.2-py3-none-any.whl size=16181 sha256=5994f473d9219b458b78b0a14ed459c82d15dbe2cb4b8395286a239ba0cff94e\n",
      "  Stored in directory: /root/.cache/pip/wheels/05/96/ee/7cac4e74f3b19e3158dce26a20a1c86b3533c43ec72a549fd7\n",
      "Successfully built seqeval\n",
      "Installing collected packages: seqeval\n",
      "Successfully installed seqeval-1.2.2\n"
     ]
    }
   ],
   "source": [
    "# 모델 평가\n",
    "!pip install seqeval"
   ]
  },
  {
   "cell_type": "code",
   "execution_count": null,
   "metadata": {
    "colab": {
     "base_uri": "https://localhost:8080/"
    },
    "id": "L9gruUeWo-tI",
    "outputId": "868d8578-3490-4d85-a44e-04dcd0552e3c"
   },
   "outputs": [
    {
     "name": "stdout",
     "output_type": "stream",
     "text": [
      "keras-crf                     0.3.0\n"
     ]
    }
   ],
   "source": [
    "pip list | grep keras-crf"
   ]
  },
  {
   "cell_type": "markdown",
   "metadata": {
    "id": "p7yAfzbN7aXk"
   },
   "source": [
    "# 데이터 전처리"
   ]
  },
  {
   "cell_type": "code",
   "execution_count": null,
   "metadata": {
    "id": "BDfQP9b6yXPw"
   },
   "outputs": [],
   "source": [
    "import pandas as pd\n",
    "import numpy as np\n",
    "import matplotlib.pyplot as plt\n",
    "from tensorflow.keras.preprocessing.text import Tokenizer\n",
    "from tensorflow.keras.preprocessing.sequence import pad_sequences\n",
    "from sklearn.model_selection import train_test_split\n",
    "from tensorflow.keras.utils import to_categorical"
   ]
  },
  {
   "cell_type": "code",
   "execution_count": null,
   "metadata": {
    "colab": {
     "base_uri": "https://localhost:8080/"
    },
    "id": "KNhX0s6KS5OU",
    "outputId": "5a8510fc-6db1-4d82-98cb-eec9f2d78a8a"
   },
   "outputs": [
    {
     "name": "stdout",
     "output_type": "stream",
     "text": [
      "Archive:  ner_dataset.csv\n",
      "  End-of-central-directory signature not found.  Either this file is not\n",
      "  a zipfile, or it constitutes one disk of a multi-part archive.  In the\n",
      "  latter case the central directory and zipfile comment will be found on\n",
      "  the last disk(s) of this archive.\n",
      "unzip:  cannot find zipfile directory in one of ner_dataset.csv or\n",
      "        ner_dataset.csv.zip, and cannot find ner_dataset.csv.ZIP, period.\n"
     ]
    }
   ],
   "source": [
    "!unzip ner_dataset.csv"
   ]
  },
  {
   "cell_type": "code",
   "execution_count": null,
   "metadata": {
    "id": "Qo5Q_PDwycAo"
   },
   "outputs": [],
   "source": [
    "data = pd.read_csv(\"ner_dataset.csv\", encoding=\"latin1\")"
   ]
  },
  {
   "cell_type": "code",
   "execution_count": null,
   "metadata": {
    "colab": {
     "base_uri": "https://localhost:8080/",
     "height": 203
    },
    "id": "esAWxTIizDtS",
    "outputId": "b7c96b9f-4c92-4e9b-afab-b898633387d5"
   },
   "outputs": [
    {
     "data": {
      "text/html": [
       "<div>\n",
       "<style scoped>\n",
       "    .dataframe tbody tr th:only-of-type {\n",
       "        vertical-align: middle;\n",
       "    }\n",
       "\n",
       "    .dataframe tbody tr th {\n",
       "        vertical-align: top;\n",
       "    }\n",
       "\n",
       "    .dataframe thead th {\n",
       "        text-align: right;\n",
       "    }\n",
       "</style>\n",
       "<table border=\"1\" class=\"dataframe\">\n",
       "  <thead>\n",
       "    <tr style=\"text-align: right;\">\n",
       "      <th></th>\n",
       "      <th>Sentence #</th>\n",
       "      <th>Word</th>\n",
       "      <th>POS</th>\n",
       "      <th>Tag</th>\n",
       "    </tr>\n",
       "  </thead>\n",
       "  <tbody>\n",
       "    <tr>\n",
       "      <th>0</th>\n",
       "      <td>Sentence: 1</td>\n",
       "      <td>Thousands</td>\n",
       "      <td>NNS</td>\n",
       "      <td>O</td>\n",
       "    </tr>\n",
       "    <tr>\n",
       "      <th>1</th>\n",
       "      <td>NaN</td>\n",
       "      <td>of</td>\n",
       "      <td>IN</td>\n",
       "      <td>O</td>\n",
       "    </tr>\n",
       "    <tr>\n",
       "      <th>2</th>\n",
       "      <td>NaN</td>\n",
       "      <td>demonstrators</td>\n",
       "      <td>NNS</td>\n",
       "      <td>O</td>\n",
       "    </tr>\n",
       "    <tr>\n",
       "      <th>3</th>\n",
       "      <td>NaN</td>\n",
       "      <td>have</td>\n",
       "      <td>VBP</td>\n",
       "      <td>O</td>\n",
       "    </tr>\n",
       "    <tr>\n",
       "      <th>4</th>\n",
       "      <td>NaN</td>\n",
       "      <td>marched</td>\n",
       "      <td>VBN</td>\n",
       "      <td>O</td>\n",
       "    </tr>\n",
       "  </tbody>\n",
       "</table>\n",
       "</div>"
      ],
      "text/plain": [
       "    Sentence #           Word  POS Tag\n",
       "0  Sentence: 1      Thousands  NNS   O\n",
       "1          NaN             of   IN   O\n",
       "2          NaN  demonstrators  NNS   O\n",
       "3          NaN           have  VBP   O\n",
       "4          NaN        marched  VBN   O"
      ]
     },
     "execution_count": 11,
     "metadata": {},
     "output_type": "execute_result"
    }
   ],
   "source": [
    "data[:5]"
   ]
  },
  {
   "cell_type": "code",
   "execution_count": null,
   "metadata": {
    "colab": {
     "base_uri": "https://localhost:8080/"
    },
    "id": "31B1kMVYzFMd",
    "outputId": "560d0cda-cb43-4d9c-fb0f-2080ec4e01e4"
   },
   "outputs": [
    {
     "name": "stdout",
     "output_type": "stream",
     "text": [
      "데이터프레임 행의 개수 : 1048575\n"
     ]
    }
   ],
   "source": [
    "print('데이터프레임 행의 개수 : {}'.format(len(data)))"
   ]
  },
  {
   "cell_type": "code",
   "execution_count": null,
   "metadata": {
    "colab": {
     "base_uri": "https://localhost:8080/"
    },
    "id": "5qgElyBDzlXu",
    "outputId": "3700f48e-62df-456c-f59c-600b5930059c"
   },
   "outputs": [
    {
     "name": "stdout",
     "output_type": "stream",
     "text": [
      "데이터에 Null 값이 있는지 유무 : True\n"
     ]
    }
   ],
   "source": [
    "print('데이터에 Null 값이 있는지 유무 : ' + str(data.isnull().values.any()))\n"
   ]
  },
  {
   "cell_type": "code",
   "execution_count": null,
   "metadata": {
    "colab": {
     "base_uri": "https://localhost:8080/"
    },
    "id": "mUKvYcMg3HCH",
    "outputId": "f5ae646b-d63c-45d6-df40-d78e0b8bd971"
   },
   "outputs": [
    {
     "name": "stdout",
     "output_type": "stream",
     "text": [
      "어떤 열에 Null값이 있는지 출력\n",
      "==============================\n"
     ]
    },
    {
     "data": {
      "text/plain": [
       "Sentence #    1000616\n",
       "Word                0\n",
       "POS                 0\n",
       "Tag                 0\n",
       "dtype: int64"
      ]
     },
     "execution_count": 14,
     "metadata": {},
     "output_type": "execute_result"
    }
   ],
   "source": [
    "print('어떤 열에 Null값이 있는지 출력')\n",
    "print('==============================')\n",
    "data.isnull().sum()"
   ]
  },
  {
   "cell_type": "code",
   "execution_count": null,
   "metadata": {
    "colab": {
     "base_uri": "https://localhost:8080/"
    },
    "id": "D6V0rIuF3Jiv",
    "outputId": "58c3734f-a12c-4ec3-8474-9920e22ac67c"
   },
   "outputs": [
    {
     "name": "stdout",
     "output_type": "stream",
     "text": [
      "sentence # 열의 중복을 제거한 값의 개수 : 47959\n",
      "Word 열의 중복을 제거한 값의 개수 : 35178\n",
      "Tag 열의 중복을 제거한 값의 개수 : 17\n"
     ]
    }
   ],
   "source": [
    "print('sentence # 열의 중복을 제거한 값의 개수 : {}'.format(data['Sentence #'].nunique()))\n",
    "print('Word 열의 중복을 제거한 값의 개수 : {}'.format(data.Word.nunique()))\n",
    "print('Tag 열의 중복을 제거한 값의 개수 : {}'.format(data.Tag.nunique()))"
   ]
  },
  {
   "cell_type": "code",
   "execution_count": null,
   "metadata": {
    "colab": {
     "base_uri": "https://localhost:8080/"
    },
    "id": "5pb88O9o3LRo",
    "outputId": "9d2c7f5e-cdf5-4084-d195-d5bf666895d0"
   },
   "outputs": [
    {
     "name": "stdout",
     "output_type": "stream",
     "text": [
      "Tag 열의 각각의 값의 개수 카운트\n",
      "================================\n",
      "      Tag   count\n",
      "0   B-art     402\n",
      "1   B-eve     308\n",
      "2   B-geo   37644\n",
      "3   B-gpe   15870\n",
      "4   B-nat     201\n",
      "5   B-org   20143\n",
      "6   B-per   16990\n",
      "7   B-tim   20333\n",
      "8   I-art     297\n",
      "9   I-eve     253\n",
      "10  I-geo    7414\n",
      "11  I-gpe     198\n",
      "12  I-nat      51\n",
      "13  I-org   16784\n",
      "14  I-per   17251\n",
      "15  I-tim    6528\n",
      "16      O  887908\n"
     ]
    }
   ],
   "source": [
    "print('Tag 열의 각각의 값의 개수 카운트')\n",
    "print('================================')\n",
    "print(data.groupby('Tag').size().reset_index(name='count'))"
   ]
  },
  {
   "cell_type": "code",
   "execution_count": null,
   "metadata": {
    "id": "kobBX39g3Mfc"
   },
   "outputs": [],
   "source": [
    "data = data.fillna(method=\"ffill\")"
   ]
  },
  {
   "cell_type": "code",
   "execution_count": null,
   "metadata": {
    "colab": {
     "base_uri": "https://localhost:8080/"
    },
    "id": "95-AHZjn3Nso",
    "outputId": "7d7f8fb8-0e86-4e83-8f04-9c386ed0b383"
   },
   "outputs": [
    {
     "name": "stdout",
     "output_type": "stream",
     "text": [
      "              Sentence #       Word  POS Tag\n",
      "1048570  Sentence: 47959       they  PRP   O\n",
      "1048571  Sentence: 47959  responded  VBD   O\n",
      "1048572  Sentence: 47959         to   TO   O\n",
      "1048573  Sentence: 47959        the   DT   O\n",
      "1048574  Sentence: 47959     attack   NN   O\n"
     ]
    }
   ],
   "source": [
    "print(data.tail())"
   ]
  },
  {
   "cell_type": "code",
   "execution_count": null,
   "metadata": {
    "colab": {
     "base_uri": "https://localhost:8080/"
    },
    "id": "EOdOzFb43QzV",
    "outputId": "f219dbc2-502a-46b1-c337-4c4efed6144e"
   },
   "outputs": [
    {
     "name": "stdout",
     "output_type": "stream",
     "text": [
      "데이터에 Null 값이 있는지 유무 : False\n"
     ]
    }
   ],
   "source": [
    "print('데이터에 Null 값이 있는지 유무 : ' + str(data.isnull().values.any()))"
   ]
  },
  {
   "cell_type": "code",
   "execution_count": null,
   "metadata": {
    "colab": {
     "base_uri": "https://localhost:8080/"
    },
    "id": "9ez83REt3TNT",
    "outputId": "26e2f49e-db8f-428f-e79c-cffaaf92c04c"
   },
   "outputs": [
    {
     "name": "stdout",
     "output_type": "stream",
     "text": [
      "Word 열의 중복을 제거한 값의 개수 : 31817\n"
     ]
    }
   ],
   "source": [
    "data['Word'] = data['Word'].str.lower()\n",
    "print('Word 열의 중복을 제거한 값의 개수 : {}'.format(data.Word.nunique()))"
   ]
  },
  {
   "cell_type": "code",
   "execution_count": null,
   "metadata": {
    "colab": {
     "base_uri": "https://localhost:8080/"
    },
    "id": "n1VSrB3z3UeP",
    "outputId": "05a2b6fd-00b2-4eff-8428-75f9c9c37ce9"
   },
   "outputs": [
    {
     "name": "stdout",
     "output_type": "stream",
     "text": [
      "    Sentence #           Word  POS Tag\n",
      "0  Sentence: 1      thousands  NNS   O\n",
      "1  Sentence: 1             of   IN   O\n",
      "2  Sentence: 1  demonstrators  NNS   O\n",
      "3  Sentence: 1           have  VBP   O\n",
      "4  Sentence: 1        marched  VBN   O\n"
     ]
    }
   ],
   "source": [
    "print(data[:5])"
   ]
  },
  {
   "cell_type": "code",
   "execution_count": null,
   "metadata": {
    "colab": {
     "base_uri": "https://localhost:8080/"
    },
    "id": "5v7gEF8u3Vyw",
    "outputId": "3ebb3d80-2bba-451b-fd69-847d454076dc"
   },
   "outputs": [
    {
     "name": "stdout",
     "output_type": "stream",
     "text": [
      "전체 샘플 개수: 47959\n"
     ]
    }
   ],
   "source": [
    "func = lambda temp: [(w, t) for w, t in zip(temp[\"Word\"].values.tolist(), temp[\"Tag\"].values.tolist())]\n",
    "tagged_sentences=[t for t in data.groupby(\"Sentence #\").apply(func)]\n",
    "print(\"전체 샘플 개수: {}\".format(len(tagged_sentences)))"
   ]
  },
  {
   "cell_type": "code",
   "execution_count": null,
   "metadata": {
    "colab": {
     "base_uri": "https://localhost:8080/"
    },
    "id": "BP3eD9h53W_D",
    "outputId": "b8715203-b398-4e0b-d6c8-86031ecd0446"
   },
   "outputs": [
    {
     "name": "stdout",
     "output_type": "stream",
     "text": [
      "[('thousands', 'O'), ('of', 'O'), ('demonstrators', 'O'), ('have', 'O'), ('marched', 'O'), ('through', 'O'), ('london', 'B-geo'), ('to', 'O'), ('protest', 'O'), ('the', 'O'), ('war', 'O'), ('in', 'O'), ('iraq', 'B-geo'), ('and', 'O'), ('demand', 'O'), ('the', 'O'), ('withdrawal', 'O'), ('of', 'O'), ('british', 'B-gpe'), ('troops', 'O'), ('from', 'O'), ('that', 'O'), ('country', 'O'), ('.', 'O')]\n"
     ]
    }
   ],
   "source": [
    "print(tagged_sentences[0]) # 첫번째 샘플 출력"
   ]
  },
  {
   "cell_type": "code",
   "execution_count": null,
   "metadata": {
    "id": "BDIr2WoF3YKu"
   },
   "outputs": [],
   "source": [
    "sentences, ner_tags = [], [] \n",
    "for tagged_sentence in tagged_sentences: # 47,959개의 문장 샘플을 1개씩 불러온다.\n",
    "    sentence, tag_info = zip(*tagged_sentence) # 각 샘플에서 단어들은 sentence에 개체명 태깅 정보들은 tag_info에 저장.\n",
    "    sentences.append(list(sentence)) # 각 샘플에서 단어 정보만 저장한다.\n",
    "    ner_tags.append(list(tag_info)) # 각 샘플에서 개체명 태깅 정보만 저장한다."
   ]
  },
  {
   "cell_type": "code",
   "execution_count": null,
   "metadata": {
    "colab": {
     "base_uri": "https://localhost:8080/"
    },
    "id": "L0Qcw-VN3aZp",
    "outputId": "de058ad5-5263-442b-cc14-44eec56380bf"
   },
   "outputs": [
    {
     "name": "stdout",
     "output_type": "stream",
     "text": [
      "['thousands', 'of', 'demonstrators', 'have', 'marched', 'through', 'london', 'to', 'protest', 'the', 'war', 'in', 'iraq', 'and', 'demand', 'the', 'withdrawal', 'of', 'british', 'troops', 'from', 'that', 'country', '.']\n",
      "['O', 'O', 'O', 'O', 'O', 'O', 'B-geo', 'O', 'O', 'O', 'O', 'O', 'B-geo', 'O', 'O', 'O', 'O', 'O', 'B-gpe', 'O', 'O', 'O', 'O', 'O']\n"
     ]
    }
   ],
   "source": [
    "print(sentences[0])\n",
    "print(ner_tags[0])"
   ]
  },
  {
   "cell_type": "code",
   "execution_count": null,
   "metadata": {
    "colab": {
     "base_uri": "https://localhost:8080/"
    },
    "id": "zLglFWkC3blL",
    "outputId": "50379b6e-8ba6-47e9-8c41-f85f1e664b9a"
   },
   "outputs": [
    {
     "name": "stdout",
     "output_type": "stream",
     "text": [
      "['she', 'had', 'once', 'received', 'a', 'kidney', 'transplant', '.']\n",
      "['O', 'O', 'O', 'O', 'O', 'O', 'O', 'O']\n"
     ]
    }
   ],
   "source": [
    "print(sentences[98])\n",
    "print(ner_tags[98])"
   ]
  },
  {
   "cell_type": "code",
   "execution_count": null,
   "metadata": {
    "colab": {
     "base_uri": "https://localhost:8080/",
     "height": 314
    },
    "id": "tVvW72m63c0L",
    "outputId": "5f9053d8-72a8-4fb3-e51a-329173644f1a"
   },
   "outputs": [
    {
     "name": "stdout",
     "output_type": "stream",
     "text": [
      "샘플의 최대 길이 : 104\n",
      "샘플의 평균 길이 : 21.863988\n"
     ]
    },
    {
     "data": {
      "image/png": "[encoded data removed]",
      "text/plain": [
       "<Figure size 432x288 with 1 Axes>"
      ]
     },
     "metadata": {},
     "output_type": "display_data"
    }
   ],
   "source": [
    "print('샘플의 최대 길이 : %d' % max(len(l) for l in sentences))\n",
    "print('샘플의 평균 길이 : %f' % (sum(map(len, sentences))/len(sentences)))\n",
    "plt.hist([len(s) for s in sentences], bins=50)\n",
    "plt.xlabel('length of samples')\n",
    "plt.ylabel('number of samples')\n",
    "plt.show()"
   ]
  },
  {
   "cell_type": "code",
   "execution_count": null,
   "metadata": {
    "id": "Y1Vj7idf3d6X"
   },
   "outputs": [],
   "source": [
    "src_tokenizer = Tokenizer(oov_token='OOV') # 모든 단어를 사용하지만 인덱스 1에는 단어 'OOV'를 할당한다.\n",
    "src_tokenizer.fit_on_texts(sentences)\n",
    "tar_tokenizer = Tokenizer(lower=False) # 태깅 정보들은 내부적으로 대문자를 유지한채로 저장\n",
    "tar_tokenizer.fit_on_texts(ner_tags)"
   ]
  },
  {
   "cell_type": "code",
   "execution_count": null,
   "metadata": {
    "colab": {
     "base_uri": "https://localhost:8080/"
    },
    "id": "-KrEtQ3j3fTk",
    "outputId": "9632e4ca-d913-48fa-a50b-a4e71f7c827d"
   },
   "outputs": [
    {
     "name": "stdout",
     "output_type": "stream",
     "text": [
      "단어 집합의 크기 : 31819\n",
      "개체명 태깅 정보 집합의 크기 : 18\n"
     ]
    }
   ],
   "source": [
    "vocab_size = len(src_tokenizer.word_index) + 1\n",
    "tag_size = len(tar_tokenizer.word_index) + 1\n",
    "print('단어 집합의 크기 : {}'.format(vocab_size))\n",
    "print('개체명 태깅 정보 집합의 크기 : {}'.format(tag_size))"
   ]
  },
  {
   "cell_type": "code",
   "execution_count": null,
   "metadata": {
    "colab": {
     "base_uri": "https://localhost:8080/"
    },
    "id": "9Uir00Gn3nv4",
    "outputId": "5fd2a351-d3ba-4875-cc61-7fb46370cf38"
   },
   "outputs": [
    {
     "name": "stdout",
     "output_type": "stream",
     "text": [
      "단어 OOV의 인덱스 : 1\n"
     ]
    }
   ],
   "source": [
    "print('단어 OOV의 인덱스 : {}'.format(src_tokenizer.word_index['OOV']))"
   ]
  },
  {
   "cell_type": "code",
   "execution_count": null,
   "metadata": {
    "id": "CbThZwgm3pIy"
   },
   "outputs": [],
   "source": [
    "X_data = src_tokenizer.texts_to_sequences(sentences)\n",
    "y_data = tar_tokenizer.texts_to_sequences(ner_tags)"
   ]
  },
  {
   "cell_type": "code",
   "execution_count": null,
   "metadata": {
    "colab": {
     "base_uri": "https://localhost:8080/"
    },
    "id": "8KW1_b7v3qW-",
    "outputId": "50cb81b7-8fd8-4f7f-cd5f-88a8f49110d8"
   },
   "outputs": [
    {
     "name": "stdout",
     "output_type": "stream",
     "text": [
      "[254, 6, 967, 16, 1795, 238, 468, 7, 523, 2, 129, 5, 61, 9, 571, 2, 833, 6, 186, 90, 22, 15, 56, 3]\n",
      "[1, 1, 1, 1, 1, 1, 2, 1, 1, 1, 1, 1, 2, 1, 1, 1, 1, 1, 8, 1, 1, 1, 1, 1]\n"
     ]
    }
   ],
   "source": [
    "print(X_data[0])\n",
    "print(y_data[0])"
   ]
  },
  {
   "cell_type": "code",
   "execution_count": null,
   "metadata": {
    "id": "FsKckwN-3rh3"
   },
   "outputs": [],
   "source": [
    "word_to_index = src_tokenizer.word_index\n",
    "index_to_word = src_tokenizer.index_word\n",
    "ner_to_index = tar_tokenizer.word_index\n",
    "index_to_ner = tar_tokenizer.index_word\n",
    "index_to_ner[0] = 'PAD'"
   ]
  },
  {
   "cell_type": "code",
   "execution_count": null,
   "metadata": {
    "colab": {
     "base_uri": "https://localhost:8080/"
    },
    "id": "IFmQxwzW3uMO",
    "outputId": "ba9117ad-a475-4b96-dcf8-9c646e4e8e5a"
   },
   "outputs": [
    {
     "name": "stdout",
     "output_type": "stream",
     "text": [
      "{1: 'O', 2: 'B-geo', 3: 'B-tim', 4: 'B-org', 5: 'I-per', 6: 'B-per', 7: 'I-org', 8: 'B-gpe', 9: 'I-geo', 10: 'I-tim', 11: 'B-art', 12: 'B-eve', 13: 'I-art', 14: 'I-eve', 15: 'B-nat', 16: 'I-gpe', 17: 'I-nat', 0: 'PAD'}\n"
     ]
    }
   ],
   "source": [
    "print(index_to_ner)"
   ]
  },
  {
   "cell_type": "code",
   "execution_count": null,
   "metadata": {
    "colab": {
     "base_uri": "https://localhost:8080/"
    },
    "id": "n4ySMUSt3vY5",
    "outputId": "724696ad-88a5-450b-ea60-eb87be9e9c97"
   },
   "outputs": [
    {
     "name": "stdout",
     "output_type": "stream",
     "text": [
      "기존의 문장 : ['thousands', 'of', 'demonstrators', 'have', 'marched', 'through', 'london', 'to', 'protest', 'the', 'war', 'in', 'iraq', 'and', 'demand', 'the', 'withdrawal', 'of', 'british', 'troops', 'from', 'that', 'country', '.']\n",
      "디코딩 문장 : ['thousands', 'of', 'demonstrators', 'have', 'marched', 'through', 'london', 'to', 'protest', 'the', 'war', 'in', 'iraq', 'and', 'demand', 'the', 'withdrawal', 'of', 'british', 'troops', 'from', 'that', 'country', '.']\n"
     ]
    }
   ],
   "source": [
    "decoded = []\n",
    "for index in X_data[0] : # 첫번째 샘플 안의 인덱스들에 대해서\n",
    "    decoded.append(index_to_word[index]) # 다시 단어로 변환\n",
    "\n",
    "print('기존의 문장 : {}'.format(sentences[0]))\n",
    "print('디코딩 문장 : {}'.format(decoded))"
   ]
  },
  {
   "cell_type": "code",
   "execution_count": null,
   "metadata": {
    "id": "9mZDlPqo3wlX"
   },
   "outputs": [],
   "source": [
    "max_len = 70\n",
    "X_data = pad_sequences(X_data, padding='post', maxlen=max_len)\n",
    "y_data = pad_sequences(y_data, padding='post', maxlen=max_len)"
   ]
  },
  {
   "cell_type": "code",
   "execution_count": null,
   "metadata": {
    "colab": {
     "base_uri": "https://localhost:8080/"
    },
    "id": "SyB_WRor7S0Q",
    "outputId": "235923f2-569d-4d85-9ede-d16225fe61a8"
   },
   "outputs": [
    {
     "name": "stdout",
     "output_type": "stream",
     "text": [
      "(47959, 70)\n",
      "(47959, 70)\n"
     ]
    }
   ],
   "source": [
    "print(X_data.shape)\n",
    "print(y_data.shape)"
   ]
  },
  {
   "cell_type": "code",
   "execution_count": null,
   "metadata": {
    "id": "gJtU5Oz03zNW"
   },
   "outputs": [],
   "source": [
    "X_train, X_test, y_train, y_test = train_test_split(X_data, y_data, test_size=.3, random_state=777)"
   ]
  },
  {
   "cell_type": "code",
   "execution_count": null,
   "metadata": {
    "id": "9FfY0d5f30Qv"
   },
   "outputs": [],
   "source": [
    "y_train_int = y_train\n",
    "y_test_int = y_test\n",
    "y_train = to_categorical(y_train, num_classes=tag_size)\n",
    "y_test = to_categorical(y_test, num_classes=tag_size)"
   ]
  },
  {
   "cell_type": "code",
   "execution_count": null,
   "metadata": {
    "colab": {
     "base_uri": "https://localhost:8080/"
    },
    "id": "fJ0PjK5l31kG",
    "outputId": "b892e4e2-2b08-4ab0-ceda-2c85b3d13203"
   },
   "outputs": [
    {
     "name": "stdout",
     "output_type": "stream",
     "text": [
      "훈련 샘플 문장의 크기 : (33571, 70)\n",
      "훈련 샘플 레이블의 크기 : (33571, 70, 18)\n",
      "테스트 샘플 문장의 크기 : (14388, 70)\n",
      "테스트 샘플 레이블의 크기 : (14388, 70, 18)\n"
     ]
    }
   ],
   "source": [
    "print('훈련 샘플 문장의 크기 : {}'.format(X_train.shape))\n",
    "print('훈련 샘플 레이블의 크기 : {}'.format(y_train.shape))\n",
    "print('테스트 샘플 문장의 크기 : {}'.format(X_test.shape))\n",
    "print('테스트 샘플 레이블의 크기 : {}'.format(y_test.shape))"
   ]
  },
  {
   "cell_type": "markdown",
   "metadata": {
    "id": "c9maF6Hg7ngI"
   },
   "source": [
    "# char 정보를 사용하기 위한 추가 전처리"
   ]
  },
  {
   "cell_type": "code",
   "execution_count": null,
   "metadata": {
    "colab": {
     "base_uri": "https://localhost:8080/"
    },
    "id": "UAmtu5LG4m-2",
    "outputId": "4db77c69-5714-425c-a3be-10d672087484"
   },
   "outputs": [
    {
     "name": "stdout",
     "output_type": "stream",
     "text": [
      "{'d', 'l', 's', 'a', 'w', 'h', 'f', '8', '4', '\\x92', '\\xa0', '-', 'o', ')', '&', ';', 'e', '\"', '\\x94', '0', '9', 'ë', '@', '~', '?', \"'\", '\\x93', '+', '!', 'c', '1', '\\x91', 'x', 'm', 'v', '\\x97', 'j', 'q', '(', '$', 'ö', '/', 'z', '\\x96', 't', 'y', 'u', 'k', '\\x85', '_', '5', 'n', '7', 'g', ',', '3', 'r', '6', ':', 'p', 'ü', '°', '`', 'b', 'é', '2', ']', '.', '#', 'i', '[', '%'}\n"
     ]
    }
   ],
   "source": [
    "# char_vocab 만들기\n",
    "words = list(set(data[\"Word\"].values))\n",
    "chars = set([w_i for w in words for w_i in w])\n",
    "print(chars)"
   ]
  },
  {
   "cell_type": "code",
   "execution_count": null,
   "metadata": {
    "id": "tjahDonE5Zyn"
   },
   "outputs": [],
   "source": [
    "char_to_index = {c: i + 2 for i, c in enumerate(chars)}\n",
    "char_to_index[\"OOV\"] = 1\n",
    "char_to_index[\"PAD\"] = 0"
   ]
  },
  {
   "cell_type": "code",
   "execution_count": null,
   "metadata": {
    "id": "L3_Mf9HlB_p4"
   },
   "outputs": [],
   "source": [
    "index_to_char = {}\n",
    "for key, value in char_to_index.items():\n",
    "    index_to_char[value] = key"
   ]
  },
  {
   "cell_type": "code",
   "execution_count": null,
   "metadata": {
    "colab": {
     "base_uri": "https://localhost:8080/"
    },
    "id": "UbQYSZAl-uWQ",
    "outputId": "c77a05ca-da83-4205-a2c9-3353d8ee435d"
   },
   "outputs": [
    {
     "name": "stdout",
     "output_type": "stream",
     "text": [
      "['thousands', 'of', 'demonstrators', 'have', 'marched', 'through', 'london', 'to', 'protest', 'the', 'war', 'in', 'iraq', 'and', 'demand', 'the', 'withdrawal', 'of', 'british', 'troops', 'from', 'that', 'country', '.']\n"
     ]
    }
   ],
   "source": [
    "print(sentences[0])"
   ]
  },
  {
   "cell_type": "code",
   "execution_count": null,
   "metadata": {
    "id": "rNZZqDN99_lU"
   },
   "outputs": [],
   "source": [
    "  max_len_char = 15\n",
    "\n",
    "  def padding_char_indice(char_indice, max_len_char):\n",
    "      return pad_sequences(\n",
    "        char_indice, maxlen=max_len_char, padding='post', \n",
    "        value = 0)\n",
    "    \n",
    "  def integer_coding(sentences):\n",
    "      char_data = []\n",
    "      for ts in sentences:\n",
    "        word_indice = [word_to_index[t] for t in ts]\n",
    "        char_indice = [[char_to_index[char] for char in t]  \n",
    "                                                     for t in ts]\n",
    "        char_indice = padding_char_indice(char_indice, max_len_char)\n",
    "    \n",
    "        for chars_of_token in char_indice:\n",
    "            if len(chars_of_token) > max_len_char:\n",
    "                print(\"최대 단어 길이 초과!\")\n",
    "                continue\n",
    "        char_data.append(char_indice)\n",
    "      return char_data"
   ]
  },
  {
   "cell_type": "code",
   "execution_count": null,
   "metadata": {
    "id": "KE7aX8UFC7MT"
   },
   "outputs": [],
   "source": [
    "X_char_data = integer_coding(sentences)"
   ]
  },
  {
   "cell_type": "code",
   "execution_count": null,
   "metadata": {
    "colab": {
     "base_uri": "https://localhost:8080/"
    },
    "id": "424UcyumBi2Y",
    "outputId": "ad81c3b5-18bd-4b63-bc6d-1f4ce42b698d"
   },
   "outputs": [
    {
     "name": "stdout",
     "output_type": "stream",
     "text": [
      "[ 254    6  967   16 1795  238  468    7  523    2  129    5   61    9\n",
      "  571    2  833    6  186   90   22   15   56    3    0    0    0    0\n",
      "    0    0    0    0    0    0    0    0    0    0    0    0    0    0\n",
      "    0    0    0    0    0    0    0    0    0    0    0    0    0    0\n",
      "    0    0    0    0    0    0    0    0    0    0    0    0    0    0]\n"
     ]
    }
   ],
   "source": [
    "print(X_data[0])"
   ]
  },
  {
   "cell_type": "code",
   "execution_count": null,
   "metadata": {
    "colab": {
     "base_uri": "https://localhost:8080/"
    },
    "id": "HuSVDOHhD8Ec",
    "outputId": "126d44e2-04e3-4462-bb30-e79c872f6d2b"
   },
   "outputs": [
    {
     "name": "stdout",
     "output_type": "stream",
     "text": [
      "[[46  7 14 48  4  5 53  2  4  0  0  0  0  0  0]\n",
      " [14  8  0  0  0  0  0  0  0  0  0  0  0  0  0]\n",
      " [ 2 18 35 14 53  4 46 58  5 46 14 58  4  0  0]\n",
      " [ 7  5 36 18  0  0  0  0  0  0  0  0  0  0  0]\n",
      " [35  5 58 31  7 18  2  0  0  0  0  0  0  0  0]\n",
      " [46  7 58 14 48 55  7  0  0  0  0  0  0  0  0]\n",
      " [ 3 14 53  2 14 53  0  0  0  0  0  0  0  0  0]\n",
      " [46 14  0  0  0  0  0  0  0  0  0  0  0  0  0]\n",
      " [61 58 14 46 18  4 46  0  0  0  0  0  0  0  0]\n",
      " [46  7 18  0  0  0  0  0  0  0  0  0  0  0  0]\n",
      " [ 6  5 58  0  0  0  0  0  0  0  0  0  0  0  0]\n",
      " [71 53  0  0  0  0  0  0  0  0  0  0  0  0  0]\n",
      " [71 58  5 39  0  0  0  0  0  0  0  0  0  0  0]\n",
      " [ 5 53  2  0  0  0  0  0  0  0  0  0  0  0  0]\n",
      " [ 2 18 35  5 53  2  0  0  0  0  0  0  0  0  0]\n",
      " [46  7 18  0  0  0  0  0  0  0  0  0  0  0  0]\n",
      " [ 6 71 46  7  2 58  5  6  5  3  0  0  0  0  0]\n",
      " [14  8  0  0  0  0  0  0  0  0  0  0  0  0  0]\n",
      " [65 58 71 46 71  4  7  0  0  0  0  0  0  0  0]\n",
      " [46 58 14 14 61  4  0  0  0  0  0  0  0  0  0]\n",
      " [ 8 58 14 35  0  0  0  0  0  0  0  0  0  0  0]\n",
      " [46  7  5 46  0  0  0  0  0  0  0  0  0  0  0]\n",
      " [31 14 48 53 46 58 47  0  0  0  0  0  0  0  0]\n",
      " [69  0  0  0  0  0  0  0  0  0  0  0  0  0  0]]\n"
     ]
    }
   ],
   "source": [
    "print(X_char_data[0])"
   ]
  },
  {
   "cell_type": "code",
   "execution_count": null,
   "metadata": {
    "id": "ZUuaNklnEHzN"
   },
   "outputs": [],
   "source": [
    "X_char_data = pad_sequences(X_char_data, maxlen=max_len, padding='post', value = 0)"
   ]
  },
  {
   "cell_type": "code",
   "execution_count": null,
   "metadata": {
    "id": "dC9agARj6uCa"
   },
   "outputs": [],
   "source": [
    "X_char_train, X_char_test, _, _ = train_test_split(X_char_data, y_data, test_size=.3, random_state=777)"
   ]
  },
  {
   "cell_type": "code",
   "execution_count": null,
   "metadata": {
    "id": "_ukEbj2tBc5r"
   },
   "outputs": [],
   "source": [
    "X_char_train = np.array(X_char_train)\n",
    "X_char_test = np.array(X_char_test)"
   ]
  },
  {
   "cell_type": "code",
   "execution_count": null,
   "metadata": {
    "colab": {
     "base_uri": "https://localhost:8080/"
    },
    "id": "Odl26mVdEfPm",
    "outputId": "9a2e75a9-6486-4a0a-9623-94c30200e28e"
   },
   "outputs": [
    {
     "name": "stdout",
     "output_type": "stream",
     "text": [
      "[   2 9026 1960    5 2891   22  128 2965 8906    7  426  134 8906    3\n",
      "    0    0    0    0    0    0    0    0    0    0    0    0    0    0\n",
      "    0    0    0    0    0    0    0    0    0    0    0    0    0    0\n",
      "    0    0    0    0    0    0    0    0    0    0    0    0    0    0\n",
      "    0    0    0    0    0    0    0    0    0    0    0    0    0    0]\n"
     ]
    }
   ],
   "source": [
    "print(X_train[0])"
   ]
  },
  {
   "cell_type": "markdown",
   "metadata": {
    "id": "UgEbCHPGQ7Kj"
   },
   "source": [
    "위 문장에서 첫번째 단어는 정수 2입니다."
   ]
  },
  {
   "cell_type": "code",
   "execution_count": null,
   "metadata": {
    "colab": {
     "base_uri": "https://localhost:8080/"
    },
    "id": "acJQwiFqEhPb",
    "outputId": "7cdf1d8a-872e-409f-9407-170ea662b516"
   },
   "outputs": [
    {
     "name": "stdout",
     "output_type": "stream",
     "text": [
      "the\n"
     ]
    }
   ],
   "source": [
    "print(index_to_word[2])"
   ]
  },
  {
   "cell_type": "code",
   "execution_count": null,
   "metadata": {
    "colab": {
     "base_uri": "https://localhost:8080/"
    },
    "id": "NIGaJI-_RCA7",
    "outputId": "0f199c9c-dd98-4caf-aa64-d831f45d6381"
   },
   "outputs": [
    {
     "name": "stdout",
     "output_type": "stream",
     "text": [
      "[[46  7 18 ...  0  0  0]\n",
      " [ 4 61 71 ...  0  0  0]\n",
      " [58  5 53 ...  0  0  0]\n",
      " ...\n",
      " [ 0  0  0 ...  0  0  0]\n",
      " [ 0  0  0 ...  0  0  0]\n",
      " [ 0  0  0 ...  0  0  0]]\n"
     ]
    }
   ],
   "source": [
    "print(X_char_train[0])"
   ]
  },
  {
   "cell_type": "code",
   "execution_count": null,
   "metadata": {
    "colab": {
     "base_uri": "https://localhost:8080/"
    },
    "id": "EdeauTKoRIqT",
    "outputId": "076299ea-1d14-4d5d-e6f8-8576c772e2ef"
   },
   "outputs": [
    {
     "name": "stdout",
     "output_type": "stream",
     "text": [
      "[46  7 18  0  0  0  0  0  0  0  0  0  0  0  0]\n"
     ]
    }
   ],
   "source": [
    "print(X_char_train[0][0])"
   ]
  },
  {
   "cell_type": "code",
   "execution_count": null,
   "metadata": {
    "colab": {
     "base_uri": "https://localhost:8080/"
    },
    "id": "2nvdylKuE0_Z",
    "outputId": "ce636308-6225-4fd9-eb0f-6b0429d02939"
   },
   "outputs": [
    {
     "name": "stdout",
     "output_type": "stream",
     "text": [
      "t h e PAD PAD PAD PAD PAD PAD PAD PAD PAD PAD PAD PAD\n"
     ]
    }
   ],
   "source": [
    "print(' '.join([index_to_char[index] for index in X_char_train[0][0]]))"
   ]
  },
  {
   "cell_type": "code",
   "execution_count": null,
   "metadata": {
    "colab": {
     "base_uri": "https://localhost:8080/"
    },
    "id": "QgBR0y8mFWmn",
    "outputId": "d07db806-ad54-413b-e9d5-48bb0bc13d91"
   },
   "outputs": [
    {
     "name": "stdout",
     "output_type": "stream",
     "text": [
      "훈련 샘플 문장의 크기 : (33571, 70)\n",
      "훈련 샘플 레이블의 크기 : (33571, 70, 18)\n",
      "훈련 샘플 char 데이터의 크기 : (33571, 70, 15)\n",
      "테스트 샘플 문장의 크기 : (14388, 70)\n",
      "테스트 샘플 레이블의 크기 : (14388, 70, 18)\n"
     ]
    }
   ],
   "source": [
    "print('훈련 샘플 문장의 크기 : {}'.format(X_train.shape))\n",
    "print('훈련 샘플 레이블의 크기 : {}'.format(y_train.shape))\n",
    "print('훈련 샘플 char 데이터의 크기 : {}'.format(X_char_train.shape))\n",
    "print('테스트 샘플 문장의 크기 : {}'.format(X_test.shape))\n",
    "print('테스트 샘플 레이블의 크기 : {}'.format(y_test.shape))"
   ]
  },
  {
   "cell_type": "markdown",
   "metadata": {
    "id": "M5HlLxZEV7kn"
   },
   "source": [
    "# BiLSTM을 이용한 개체명 인식"
   ]
  },
  {
   "cell_type": "markdown",
   "metadata": {
    "id": "8P0QOs4KOayO"
   },
   "source": [
    "## 모델링"
   ]
  },
  {
   "cell_type": "code",
   "execution_count": null,
   "metadata": {
    "id": "cwvOg6XiWDCO"
   },
   "outputs": [],
   "source": [
    "from tensorflow.keras.models import Sequential\n",
    "from tensorflow.keras.layers import Dense, LSTM, InputLayer, Bidirectional, TimeDistributed, Embedding\n",
    "from tensorflow.keras.optimizers import Adam"
   ]
  },
  {
   "cell_type": "code",
   "execution_count": null,
   "metadata": {
    "id": "pKE60YszWD-e"
   },
   "outputs": [],
   "source": [
    "model = Sequential()\n",
    "model.add(Embedding(vocab_size, 128))\n",
    "model.add(Bidirectional(LSTM(256, return_sequences=True)))\n",
    "model.add(Dense(tag_size, activation=('softmax')))\n",
    "model.compile(loss='categorical_crossentropy', optimizer=Adam(0.001), metrics=['accuracy'])"
   ]
  },
  {
   "cell_type": "code",
   "execution_count": null,
   "metadata": {
    "colab": {
     "base_uri": "https://localhost:8080/"
    },
    "id": "tQJb-y9ab0pg",
    "outputId": "51df61c4-95be-4ae5-b56b-9bdd41e169b5"
   },
   "outputs": [
    {
     "name": "stdout",
     "output_type": "stream",
     "text": [
      "Model: \"sequential_1\"\n",
      "_________________________________________________________________\n",
      "Layer (type)                 Output Shape              Param #   \n",
      "=================================================================\n",
      "embedding_3 (Embedding)      (None, None, 128)         4072832   \n",
      "_________________________________________________________________\n",
      "bidirectional_2 (Bidirection (None, None, 512)         788480    \n",
      "_________________________________________________________________\n",
      "dense_2 (Dense)              (None, None, 18)          9234      \n",
      "=================================================================\n",
      "Total params: 4,870,546\n",
      "Trainable params: 4,870,546\n",
      "Non-trainable params: 0\n",
      "_________________________________________________________________\n"
     ]
    }
   ],
   "source": [
    "model.summary()"
   ]
  },
  {
   "cell_type": "code",
   "execution_count": null,
   "metadata": {
    "colab": {
     "base_uri": "https://localhost:8080/"
    },
    "id": "WRAKp9mSWF5J",
    "outputId": "ad7bf35d-98bf-4653-ed53-7760538637ba"
   },
   "outputs": [
    {
     "name": "stdout",
     "output_type": "stream",
     "text": [
      "Epoch 1/6\n",
      "237/237 [==============================] - 13s 30ms/step - loss: 0.1849 - accuracy: 0.8707 - val_loss: 0.0829 - val_accuracy: 0.9283\n",
      "Epoch 2/6\n",
      "237/237 [==============================] - 4s 19ms/step - loss: 0.0566 - accuracy: 0.9485 - val_loss: 0.0518 - val_accuracy: 0.9506\n",
      "Epoch 3/6\n",
      "237/237 [==============================] - 4s 19ms/step - loss: 0.0374 - accuracy: 0.9643 - val_loss: 0.0444 - val_accuracy: 0.9571\n",
      "Epoch 4/6\n",
      "237/237 [==============================] - 4s 19ms/step - loss: 0.0300 - accuracy: 0.9707 - val_loss: 0.0456 - val_accuracy: 0.9544\n",
      "Epoch 5/6\n",
      "237/237 [==============================] - 5s 19ms/step - loss: 0.0260 - accuracy: 0.9740 - val_loss: 0.0439 - val_accuracy: 0.9582\n",
      "Epoch 6/6\n",
      "237/237 [==============================] - 5s 19ms/step - loss: 0.0223 - accuracy: 0.9774 - val_loss: 0.0454 - val_accuracy: 0.9591\n"
     ]
    }
   ],
   "source": [
    "history = model.fit(X_train, y_train, batch_size=128, epochs=6, validation_split=0.1)"
   ]
  },
  {
   "cell_type": "code",
   "execution_count": null,
   "metadata": {
    "id": "5qE4zaXuWI_M"
   },
   "outputs": [],
   "source": [
    "model.save('bilstm.h5')"
   ]
  },
  {
   "cell_type": "code",
   "execution_count": null,
   "metadata": {
    "colab": {
     "base_uri": "https://localhost:8080/"
    },
    "id": "lEyHvNZ4WXE9",
    "outputId": "02cdbb76-5e22-48f8-cb31-74dbceec19f0"
   },
   "outputs": [
    {
     "name": "stdout",
     "output_type": "stream",
     "text": [
      "단어             |실제값  |예측값\n",
      "-----------------------------------\n",
      "the              : O       O\n",
      "statement        : O       O\n",
      "came             : O       O\n",
      "as               : O       O\n",
      "u.n.             : B-org   B-org\n",
      "secretary-general: I-org   I-org\n",
      "kofi             : B-per   B-per\n",
      "annan            : I-per   I-per\n",
      "met              : O       O\n",
      "with             : O       O\n",
      "officials        : O       O\n",
      "in               : O       O\n",
      "amman            : B-geo   B-geo\n",
      "to               : O       O\n",
      "discuss          : O       O\n",
      "wednesday        : B-tim   B-tim\n",
      "'s               : O       O\n",
      "attacks          : O       O\n",
      ".                : O       O\n"
     ]
    }
   ],
   "source": [
    "i=13 # 확인하고 싶은 테스트용 샘플의 인덱스.\n",
    "y_predicted = model.predict(np.array([X_test[i]])) # 입력한 테스트용 샘플에 대해서 예측 y를 리턴\n",
    "y_predicted = np.argmax(y_predicted, axis=-1) # 원-핫 인코딩을 다시 정수 인코딩으로 변경함.\n",
    "true = np.argmax(y_test[i], -1) # 원-핫 인코딩을 다시 정수 인코딩으로 변경함.\n",
    "\n",
    "print(\"{:15}|{:5}|{}\".format(\"단어\", \"실제값\", \"예측값\"))\n",
    "print(35 * \"-\")\n",
    "\n",
    "for w, t, pred in zip(X_test[i], true, y_predicted[0]):\n",
    "    if w != 0: # PAD값은 제외함.\n",
    "        print(\"{:17}: {:7} {}\".format(index_to_word[w], index_to_ner[t], index_to_ner[pred]))"
   ]
  },
  {
   "cell_type": "code",
   "execution_count": null,
   "metadata": {
    "colab": {
     "base_uri": "https://localhost:8080/",
     "height": 295
    },
    "id": "ubLZsdeAWcM5",
    "outputId": "0b68d4b1-f6c7-42a1-f22c-e1e6dcf26d57"
   },
   "outputs": [
    {
     "data": {
      "image/png": "[encoded data removed]",
      "text/plain": [
       "<Figure size 432x288 with 1 Axes>"
      ]
     },
     "metadata": {},
     "output_type": "display_data"
    }
   ],
   "source": [
    "epochs = range(1, len(history.history['val_loss']) + 1)\n",
    "plt.plot(epochs, history.history['loss'])\n",
    "plt.plot(epochs, history.history['val_loss'])\n",
    "plt.title('model loss')\n",
    "plt.ylabel('loss')\n",
    "plt.xlabel('epoch')\n",
    "plt.legend(['train', 'val'], loc='upper left')\n",
    "plt.show()"
   ]
  },
  {
   "cell_type": "code",
   "execution_count": null,
   "metadata": {
    "id": "4cpU0SDGWerH"
   },
   "outputs": [],
   "source": [
    "def sequences_to_tag(sequences): # 예측값을 index_to_ner를 사용하여 태깅 정보로 변경하는 함수.\n",
    "    result = []\n",
    "    for sequence in sequences: # 전체 시퀀스로부터 시퀀스를 하나씩 꺼낸다.\n",
    "        temp = []\n",
    "        for pred in sequence: # 시퀀스로부터 예측값을 하나씩 꺼낸다.\n",
    "            pred_index = np.argmax(pred) # 예를 들어 [0, 0, 1, 0 ,0]라면 1의 인덱스인 2를 리턴한다.\n",
    "            temp.append(index_to_ner[pred_index].replace(\"PAD\", \"O\")) # 'PAD'는 'O'로 변경\n",
    "        result.append(temp)\n",
    "    return result"
   ]
  },
  {
   "cell_type": "code",
   "execution_count": null,
   "metadata": {
    "id": "JHhSt-loWhc-"
   },
   "outputs": [],
   "source": [
    "y_predicted = model.predict([X_test])\n",
    "pred_tags = sequences_to_tag(y_predicted)\n",
    "test_tags = sequences_to_tag(y_test)"
   ]
  },
  {
   "cell_type": "code",
   "execution_count": null,
   "metadata": {
    "colab": {
     "base_uri": "https://localhost:8080/"
    },
    "id": "1djczWAQWlSH",
    "outputId": "5ede3854-d170-4286-8622-b18e2dd01ea1"
   },
   "outputs": [
    {
     "name": "stdout",
     "output_type": "stream",
     "text": [
      "              precision    recall  f1-score   support\n",
      "\n",
      "         art       0.40      0.02      0.04        99\n",
      "         eve       0.42      0.23      0.30        82\n",
      "         geo       0.82      0.85      0.83     11349\n",
      "         gpe       0.96      0.94      0.95      4690\n",
      "         nat       0.54      0.23      0.32        61\n",
      "         org       0.60      0.53      0.57      6023\n",
      "         per       0.71      0.71      0.71      5242\n",
      "         tim       0.87      0.82      0.84      6148\n",
      "\n",
      "   micro avg       0.79      0.77      0.78     33694\n",
      "   macro avg       0.67      0.54      0.57     33694\n",
      "weighted avg       0.79      0.77      0.78     33694\n",
      "\n"
     ]
    }
   ],
   "source": [
    "from seqeval.metrics import precision_score, recall_score, f1_score, classification_report\n",
    "print(classification_report(test_tags, pred_tags))"
   ]
  },
  {
   "cell_type": "markdown",
   "metadata": {
    "id": "FbQE34bSOdhP"
   },
   "source": [
    "## 성능"
   ]
  },
  {
   "cell_type": "code",
   "execution_count": null,
   "metadata": {
    "colab": {
     "base_uri": "https://localhost:8080/"
    },
    "id": "M00m3njrWoNd",
    "outputId": "a3eaead0-5e9f-40e6-cc6e-73f984b5e11a"
   },
   "outputs": [
    {
     "name": "stdout",
     "output_type": "stream",
     "text": [
      "F1-score: 78.3%\n"
     ]
    }
   ],
   "source": [
    "print(\"F1-score: {:.1%}\".format(f1_score(test_tags, pred_tags)))"
   ]
  },
  {
   "cell_type": "markdown",
   "metadata": {
    "id": "BSiCMNSs7ynl"
   },
   "source": [
    "# BiLSTM-CNN을 이용한 개체명인식"
   ]
  },
  {
   "cell_type": "markdown",
   "metadata": {
    "id": "HWUVra7SOfLk"
   },
   "source": [
    "## 모델링"
   ]
  },
  {
   "cell_type": "code",
   "execution_count": null,
   "metadata": {
    "id": "OsijEbzI99sN"
   },
   "outputs": [],
   "source": [
    "from tensorflow.keras.layers import Embedding, TimeDistributed, Dropout, concatenate, Bidirectional, LSTM, Conv1D, Dense, MaxPooling1D, Flatten\n",
    "from tensorflow.keras import Input, Model\n",
    "from tensorflow.keras.initializers import RandomUniform\n",
    "from tensorflow.keras.callbacks import EarlyStopping, ModelCheckpoint\n",
    "from tensorflow.keras.models import load_model"
   ]
  },
  {
   "cell_type": "code",
   "execution_count": null,
   "metadata": {
    "colab": {
     "base_uri": "https://localhost:8080/"
    },
    "id": "Cl_f3LMS-IzV",
    "outputId": "ba08e957-85ec-420a-d7d5-295510bc188a"
   },
   "outputs": [
    {
     "name": "stdout",
     "output_type": "stream",
     "text": [
      "Model: \"model_1\"\n",
      "__________________________________________________________________________________________________\n",
      "Layer (type)                    Output Shape         Param #     Connected to                     \n",
      "==================================================================================================\n",
      "char_input (InputLayer)         [(None, None, 15)]   0                                            \n",
      "__________________________________________________________________________________________________\n",
      "char_embedding (TimeDistributed (None, None, 15, 64) 4736        char_input[0][0]                 \n",
      "__________________________________________________________________________________________________\n",
      "dropout_2 (Dropout)             (None, None, 15, 64) 0           char_embedding[0][0]             \n",
      "__________________________________________________________________________________________________\n",
      "time_distributed_4 (TimeDistrib (None, None, 15, 30) 5790        dropout_2[0][0]                  \n",
      "__________________________________________________________________________________________________\n",
      "time_distributed_5 (TimeDistrib (None, None, 1, 30)  0           time_distributed_4[0][0]         \n",
      "__________________________________________________________________________________________________\n",
      "words_input (InputLayer)        [(None, None)]       0                                            \n",
      "__________________________________________________________________________________________________\n",
      "time_distributed_6 (TimeDistrib (None, None, 30)     0           time_distributed_5[0][0]         \n",
      "__________________________________________________________________________________________________\n",
      "embedding_4 (Embedding)         (None, None, 128)    4072832     words_input[0][0]                \n",
      "__________________________________________________________________________________________________\n",
      "dropout_3 (Dropout)             (None, None, 30)     0           time_distributed_6[0][0]         \n",
      "__________________________________________________________________________________________________\n",
      "concatenate_1 (Concatenate)     (None, None, 158)    0           embedding_4[0][0]                \n",
      "                                                                 dropout_3[0][0]                  \n",
      "__________________________________________________________________________________________________\n",
      "bidirectional_3 (Bidirectional) (None, None, 512)    849920      concatenate_1[0][0]              \n",
      "__________________________________________________________________________________________________\n",
      "time_distributed_7 (TimeDistrib (None, None, 18)     9234        bidirectional_3[0][0]            \n",
      "==================================================================================================\n",
      "Total params: 4,942,512\n",
      "Trainable params: 4,942,512\n",
      "Non-trainable params: 0\n",
      "__________________________________________________________________________________________________\n"
     ]
    }
   ],
   "source": [
    "# 단어 임베딩\n",
    "words_input = Input(shape=(None,),dtype='int32',name='words_input')\n",
    "words = Embedding(input_dim = vocab_size, output_dim = 128)(words_input)\n",
    "\n",
    "# char 임베딩\n",
    "character_input = Input(shape=(None, max_len_char,),name='char_input')\n",
    "embed_char_out = TimeDistributed(Embedding(len(char_to_index), 64, embeddings_initializer=RandomUniform(minval=-0.5, maxval=0.5)), name='char_embedding')(character_input)\n",
    "dropout = Dropout(0.5)(embed_char_out)\n",
    "\n",
    "# char 임베딩에 대해서는 Conv1D 수행\n",
    "conv1d_out= TimeDistributed(Conv1D(kernel_size=3, filters=30, padding='same', activation='tanh', strides=1))(dropout)\n",
    "maxpool_out=TimeDistributed(MaxPooling1D(max_len_char))(conv1d_out)\n",
    "char = TimeDistributed(Flatten())(maxpool_out)\n",
    "char = Dropout(0.5)(char)\n",
    "\n",
    "# char 임베딩을 Conv1D 수행한 뒤에 단어 임베딩과 연결\n",
    "output = concatenate([words, char])\n",
    "\n",
    "# 연결한 벡터를 가지고 문장의 길이만큼 LSTM을 수행\n",
    "output = Bidirectional(LSTM(256, return_sequences=True, dropout=0.5))(output)\n",
    "\n",
    "# 출력층\n",
    "output = TimeDistributed(Dense(tag_size, activation='softmax'))(output)\n",
    "\n",
    "model = Model(inputs=[words_input, character_input], outputs=[output])\n",
    "model.compile(loss='categorical_crossentropy', optimizer='nadam',  metrics=['acc'])\n",
    "model.summary()"
   ]
  },
  {
   "cell_type": "code",
   "execution_count": null,
   "metadata": {
    "id": "iNxMCvYYYzYm"
   },
   "outputs": [],
   "source": [
    "es = EarlyStopping(monitor='val_loss', mode='min', verbose=1, patience=4)\n",
    "mc = ModelCheckpoint('bilstm_cnn.h5', monitor='val_acc', mode='max', verbose=1, save_best_only=True)"
   ]
  },
  {
   "cell_type": "code",
   "execution_count": null,
   "metadata": {
    "colab": {
     "base_uri": "https://localhost:8080/"
    },
    "id": "ywZ-xsUHBGn9",
    "outputId": "b0786af4-e5e7-4975-d5a9-b223e3332546"
   },
   "outputs": [
    {
     "name": "stdout",
     "output_type": "stream",
     "text": [
      "Epoch 1/15\n",
      "237/237 [==============================] - 15s 48ms/step - loss: 0.2242 - acc: 0.9436 - val_loss: 0.1112 - val_acc: 0.9686\n",
      "\n",
      "Epoch 00001: val_acc improved from -inf to 0.96857, saving model to bilstm_cnn.h5\n",
      "Epoch 2/15\n",
      "237/237 [==============================] - 11s 45ms/step - loss: 0.0714 - acc: 0.9799 - val_loss: 0.0815 - val_acc: 0.9753\n",
      "\n",
      "Epoch 00002: val_acc improved from 0.96857 to 0.97533, saving model to bilstm_cnn.h5\n",
      "Epoch 3/15\n",
      "237/237 [==============================] - 11s 46ms/step - loss: 0.0488 - acc: 0.9858 - val_loss: 0.0544 - val_acc: 0.9837\n",
      "\n",
      "Epoch 00003: val_acc improved from 0.97533 to 0.98368, saving model to bilstm_cnn.h5\n",
      "Epoch 4/15\n",
      "237/237 [==============================] - 11s 45ms/step - loss: 0.0406 - acc: 0.9880 - val_loss: 0.0491 - val_acc: 0.9848\n",
      "\n",
      "Epoch 00004: val_acc improved from 0.98368 to 0.98481, saving model to bilstm_cnn.h5\n",
      "Epoch 5/15\n",
      "237/237 [==============================] - 11s 45ms/step - loss: 0.0354 - acc: 0.9894 - val_loss: 0.0467 - val_acc: 0.9861\n",
      "\n",
      "Epoch 00005: val_acc improved from 0.98481 to 0.98605, saving model to bilstm_cnn.h5\n",
      "Epoch 6/15\n",
      "237/237 [==============================] - 11s 45ms/step - loss: 0.0320 - acc: 0.9902 - val_loss: 0.0458 - val_acc: 0.9866\n",
      "\n",
      "Epoch 00006: val_acc improved from 0.98605 to 0.98665, saving model to bilstm_cnn.h5\n",
      "Epoch 7/15\n",
      "237/237 [==============================] - 11s 45ms/step - loss: 0.0293 - acc: 0.9909 - val_loss: 0.0422 - val_acc: 0.9871\n",
      "\n",
      "Epoch 00007: val_acc improved from 0.98665 to 0.98714, saving model to bilstm_cnn.h5\n",
      "Epoch 8/15\n",
      "237/237 [==============================] - 11s 45ms/step - loss: 0.0273 - acc: 0.9914 - val_loss: 0.0502 - val_acc: 0.9845\n",
      "\n",
      "Epoch 00008: val_acc did not improve from 0.98714\n",
      "Epoch 9/15\n",
      "237/237 [==============================] - 11s 45ms/step - loss: 0.0254 - acc: 0.9920 - val_loss: 0.0471 - val_acc: 0.9868\n",
      "\n",
      "Epoch 00009: val_acc did not improve from 0.98714\n",
      "Epoch 10/15\n",
      "237/237 [==============================] - 11s 45ms/step - loss: 0.0237 - acc: 0.9925 - val_loss: 0.0443 - val_acc: 0.9868\n",
      "\n",
      "Epoch 00010: val_acc did not improve from 0.98714\n",
      "Epoch 11/15\n",
      "237/237 [==============================] - 11s 45ms/step - loss: 0.0225 - acc: 0.9927 - val_loss: 0.0452 - val_acc: 0.9873\n",
      "\n",
      "Epoch 00011: val_acc improved from 0.98714 to 0.98728, saving model to bilstm_cnn.h5\n",
      "Epoch 00011: early stopping\n"
     ]
    }
   ],
   "source": [
    "history = model.fit([X_train, X_char_train], y_train, batch_size = 128, epochs = 15, validation_split = 0.1, verbose = 1, callbacks=[es, mc])"
   ]
  },
  {
   "cell_type": "code",
   "execution_count": null,
   "metadata": {
    "id": "r6BxnS62znhV"
   },
   "outputs": [],
   "source": [
    "model = load_model('bilstm_cnn.h5')"
   ]
  },
  {
   "cell_type": "code",
   "execution_count": null,
   "metadata": {
    "colab": {
     "base_uri": "https://localhost:8080/"
    },
    "id": "ZBNL0dX-C6Bd",
    "outputId": "f418d219-9864-4b4d-82f0-94ff549a19bc"
   },
   "outputs": [
    {
     "name": "stdout",
     "output_type": "stream",
     "text": [
      "단어             |실제값  |예측값\n",
      "-----------------------------------\n",
      "the              : O       O\n",
      "statement        : O       O\n",
      "came             : O       O\n",
      "as               : O       O\n",
      "u.n.             : B-org   B-org\n",
      "secretary-general: I-org   I-org\n",
      "kofi             : B-per   B-per\n",
      "annan            : I-per   I-per\n",
      "met              : O       O\n",
      "with             : O       O\n",
      "officials        : O       O\n",
      "in               : O       O\n",
      "amman            : B-geo   B-geo\n",
      "to               : O       O\n",
      "discuss          : O       O\n",
      "wednesday        : B-tim   B-tim\n",
      "'s               : O       O\n",
      "attacks          : O       O\n",
      ".                : O       O\n"
     ]
    }
   ],
   "source": [
    "i=13 # 확인하고 싶은 테스트용 샘플의 인덱스.\n",
    "y_predicted = model.predict([np.array([X_test[i]]), np.array([X_char_test[i]])]) # 입력한 테스트용 샘플에 대해서 예측 y를 리턴\n",
    "\n",
    "y_predicted = np.argmax(y_predicted, axis=-1) # 원-핫 인코딩을 다시 정수 인코딩으로 변경함.\n",
    "true = np.argmax(y_test[i], -1) # 원-핫 인코딩을 다시 정수 인코딩으로 변경함.\n",
    "\n",
    "print(\"{:15}|{:5}|{}\".format(\"단어\", \"실제값\", \"예측값\"))\n",
    "print(35 * \"-\")\n",
    "\n",
    "for w, t, pred in zip(X_test[i], true, y_predicted[0]):\n",
    "    if w != 0: # PAD값은 제외함.\n",
    "        print(\"{:17}: {:7} {}\".format(index_to_word[w], index_to_ner[t], index_to_ner[pred]))"
   ]
  },
  {
   "cell_type": "code",
   "execution_count": null,
   "metadata": {
    "colab": {
     "base_uri": "https://localhost:8080/",
     "height": 295
    },
    "id": "alMyDhYJDhU5",
    "outputId": "74c7617c-afa6-491c-8232-c55ab9335878"
   },
   "outputs": [
    {
     "data": {
      "image/png": "[encoded data removed]",
      "text/plain": [
       "<Figure size 432x288 with 1 Axes>"
      ]
     },
     "metadata": {},
     "output_type": "display_data"
    }
   ],
   "source": [
    "epochs = range(1, len(history.history['val_loss']) + 1)\n",
    "plt.plot(epochs, history.history['loss'])\n",
    "plt.plot(epochs, history.history['val_loss'])\n",
    "plt.title('model loss')\n",
    "plt.ylabel('loss')\n",
    "plt.xlabel('epoch')\n",
    "plt.legend(['train', 'val'], loc='upper left')\n",
    "plt.show()"
   ]
  },
  {
   "cell_type": "code",
   "execution_count": null,
   "metadata": {
    "id": "wFKpmE9cQIdW"
   },
   "outputs": [],
   "source": [
    "def sequences_to_tag(sequences): # 예측값을 index_to_ner를 사용하여 태깅 정보로 변경하는 함수.\n",
    "    result = []\n",
    "    for sequence in sequences: # 전체 시퀀스로부터 시퀀스를 하나씩 꺼낸다.\n",
    "        temp = []\n",
    "        for pred in sequence: # 시퀀스로부터 예측값을 하나씩 꺼낸다.\n",
    "            pred_index = np.argmax(pred) # 예를 들어 [0, 0, 1, 0 ,0]라면 1의 인덱스인 2를 리턴한다.\n",
    "            temp.append(index_to_ner[pred_index].replace(\"PAD\", \"O\")) # 'PAD'는 'O'로 변경\n",
    "        result.append(temp)\n",
    "    return result"
   ]
  },
  {
   "cell_type": "code",
   "execution_count": null,
   "metadata": {
    "id": "bzEfiWsQQJ0n"
   },
   "outputs": [],
   "source": [
    "y_predicted = model.predict([X_test, X_char_test])\n",
    "pred_tags = sequences_to_tag(y_predicted)\n",
    "test_tags = sequences_to_tag(y_test)"
   ]
  },
  {
   "cell_type": "code",
   "execution_count": null,
   "metadata": {
    "colab": {
     "base_uri": "https://localhost:8080/"
    },
    "id": "YxHz40WFP3T7",
    "outputId": "3b8c6532-cbc0-4f1f-fc83-9dfc9486f5f9"
   },
   "outputs": [
    {
     "name": "stdout",
     "output_type": "stream",
     "text": [
      "              precision    recall  f1-score   support\n",
      "\n",
      "         art       0.14      0.03      0.05        99\n",
      "         eve       0.55      0.26      0.35        82\n",
      "         geo       0.83      0.85      0.84     11349\n",
      "         gpe       0.96      0.94      0.95      4690\n",
      "         nat       0.83      0.16      0.27        61\n",
      "         org       0.64      0.52      0.57      6023\n",
      "         per       0.73      0.70      0.72      5242\n",
      "         tim       0.85      0.84      0.85      6148\n",
      "\n",
      "   micro avg       0.81      0.78      0.79     33694\n",
      "   macro avg       0.69      0.54      0.57     33694\n",
      "weighted avg       0.80      0.78      0.79     33694\n",
      "\n"
     ]
    }
   ],
   "source": [
    "from seqeval.metrics import precision_score, recall_score, f1_score, classification_report\n",
    "print(classification_report(test_tags, pred_tags))"
   ]
  },
  {
   "cell_type": "markdown",
   "metadata": {
    "id": "jIXoMhZsOgmI"
   },
   "source": [
    "## 성능"
   ]
  },
  {
   "cell_type": "code",
   "execution_count": null,
   "metadata": {
    "colab": {
     "base_uri": "https://localhost:8080/"
    },
    "id": "qC1_wjJSQcdr",
    "outputId": "e59f4cdd-0083-4aee-bc91-b67c509eceb9"
   },
   "outputs": [
    {
     "name": "stdout",
     "output_type": "stream",
     "text": [
      "F1-score: 79.1%\n"
     ]
    }
   ],
   "source": [
    "print(\"F1-score: {:.1%}\".format(f1_score(test_tags, pred_tags)))"
   ]
  },
  {
   "cell_type": "markdown",
   "metadata": {
    "id": "MJIMCtl9Acxp"
   },
   "source": [
    "# BiLSTM-CRF를 이용한 개체명인식"
   ]
  },
  {
   "cell_type": "markdown",
   "metadata": {
    "id": "o9Xi26XHOhbv"
   },
   "source": [
    "## 모델링"
   ]
  },
  {
   "cell_type": "code",
   "execution_count": null,
   "metadata": {
    "id": "hJ0IwYdlljAc"
   },
   "outputs": [],
   "source": [
    "import tensorflow as tf\n",
    "from tensorflow.keras.layers import Dense, LSTM, Input, Bidirectional, TimeDistributed, Embedding, Dropout\n",
    "from tensorflow.keras.callbacks import EarlyStopping, ModelCheckpoint\n",
    "from keras_crf import CRFModel"
   ]
  },
  {
   "cell_type": "code",
   "execution_count": null,
   "metadata": {
    "colab": {
     "base_uri": "https://localhost:8080/"
    },
    "id": "CVvgFVt3llwU",
    "outputId": "78395566-7404-4ffa-8f8c-39a0b1de2f0a"
   },
   "outputs": [
    {
     "name": "stdout",
     "output_type": "stream",
     "text": [
      "Model: \"crf_model_3\"\n",
      "__________________________________________________________________________________________________\n",
      "Layer (type)                    Output Shape         Param #     Connected to                     \n",
      "==================================================================================================\n",
      "sequence_input (InputLayer)     [(None, 70)]         0                                            \n",
      "__________________________________________________________________________________________________\n",
      "embedding_3 (Embedding)         (None, 70, 128)      4072832     sequence_input[0][0]             \n",
      "__________________________________________________________________________________________________\n",
      "bidirectional_3 (Bidirectional) (None, 70, 128)      98816       embedding_3[0][0]                \n",
      "__________________________________________________________________________________________________\n",
      "time_distributed_6 (TimeDistrib (None, 70, 128)      0           bidirectional_3[0][0]            \n",
      "__________________________________________________________________________________________________\n",
      "time_distributed_7 (TimeDistrib (None, 70, 18)       2322        time_distributed_6[0][0]         \n",
      "__________________________________________________________________________________________________\n",
      "crf_3 (CRF)                     [(None, 70), (None,  702         time_distributed_7[0][0]         \n",
      "__________________________________________________________________________________________________\n",
      "decode_sequence (Lambda)        (None, 70)           0           crf_3[0][0]                      \n",
      "__________________________________________________________________________________________________\n",
      "potentials (Lambda)             (None, 70, 18)       0           crf_3[0][1]                      \n",
      "__________________________________________________________________________________________________\n",
      "sequence_length (Lambda)        (None,)              0           crf_3[0][2]                      \n",
      "__________________________________________________________________________________________________\n",
      "kernel (Lambda)                 (18, 18)             0           crf_3[0][3]                      \n",
      "==================================================================================================\n",
      "Total params: 4,174,672\n",
      "Trainable params: 4,174,672\n",
      "Non-trainable params: 0\n",
      "__________________________________________________________________________________________________\n"
     ]
    },
    {
     "name": "stderr",
     "output_type": "stream",
     "text": [
      "/usr/local/lib/python3.7/dist-packages/tensorflow/python/autograph/impl/api.py:390: UserWarning: CRF Decoding does not work with KerasTensors in TF2.4. The bug has since been fixed in tensorflow/tensorflow##45534\n",
      "  return py_builtins.overload_of(f)(*args)\n"
     ]
    }
   ],
   "source": [
    "sequence_input = Input(shape=(max_len,),dtype=tf.int32, name='sequence_input')\n",
    "\n",
    "model_embedding = Embedding(input_dim=vocab_size,\n",
    "                                            output_dim=128,\n",
    "                                            input_length=max_len)(sequence_input)\n",
    "\n",
    "# model_bilstm = Bidirectional(LSTM(units=64, return_sequences=True, recurrent_dropout=0.1))(model_embedding)\n",
    "model_bilstm = Bidirectional(LSTM(units=64, return_sequences=True))(model_embedding)\n",
    "\n",
    "model_dropout = TimeDistributed(Dropout(0.3))(model_bilstm)\n",
    "\n",
    "model_dense = TimeDistributed(Dense(tag_size, activation='relu'))(model_dropout)\n",
    "\n",
    "base = tf.keras.Model(inputs=sequence_input, outputs=model_dense)\n",
    "\n",
    "model = CRFModel(base, tag_size)\n",
    "\n",
    "model.compile(optimizer=tf.keras.optimizers.Adam(0.001),\n",
    "              metrics='accuracy')\n",
    "\n",
    "model.summary()"
   ]
  },
  {
   "cell_type": "code",
   "execution_count": null,
   "metadata": {
    "id": "jv3m451klwxt"
   },
   "outputs": [],
   "source": [
    "es = EarlyStopping(monitor='val_loss', mode='min', verbose=1, patience=4)\n",
    "# es = EarlyStopping(monitor='val_decode_sequence_accuracy', mode='max', verbose=1, patience=4)\n",
    "mc = ModelCheckpoint('bilstm_crf/cp.ckpt', monitor='val_decode_sequence_accuracy', mode='max', verbose=1, save_best_only=True, save_weights_only=True)"
   ]
  },
  {
   "cell_type": "code",
   "execution_count": null,
   "metadata": {
    "colab": {
     "background_save": true,
     "base_uri": "https://localhost:8080/"
    },
    "id": "NYUs5NYDl4_x",
    "outputId": "bbda6a16-c6df-43e9-ac6e-b627eb1e753b"
   },
   "outputs": [
    {
     "name": "stdout",
     "output_type": "stream",
     "text": [
      "Epoch 1/15\n"
     ]
    },
    {
     "name": "stderr",
     "output_type": "stream",
     "text": [
      "/usr/local/lib/python3.7/dist-packages/tensorflow/python/autograph/impl/api.py:390: UserWarning: CRF Decoding does not work with KerasTensors in TF2.4. The bug has since been fixed in tensorflow/tensorflow##45534\n",
      "  return py_builtins.overload_of(f)(*args)\n"
     ]
    },
    {
     "name": "stdout",
     "output_type": "stream",
     "text": [
      "237/237 [==============================] - 32s 115ms/step - decode_sequence_accuracy: 0.8318 - loss: 27.5034 - val_decode_sequence_accuracy: 0.9541 - val_loss: 9.3429\n",
      "\n",
      "Epoch 00001: val_decode_sequence_accuracy improved from -inf to 0.95408, saving model to bilstm_crf/cp.ckpt\n",
      "Epoch 2/15\n",
      "237/237 [==============================] - 26s 108ms/step - decode_sequence_accuracy: 0.9637 - loss: 7.4308 - val_decode_sequence_accuracy: 0.9767 - val_loss: 4.9900\n",
      "\n",
      "Epoch 00002: val_decode_sequence_accuracy improved from 0.95408 to 0.97674, saving model to bilstm_crf/cp.ckpt\n",
      "Epoch 3/15\n",
      "237/237 [==============================] - 26s 109ms/step - decode_sequence_accuracy: 0.9783 - loss: 4.5754 - val_decode_sequence_accuracy: 0.9824 - val_loss: 3.4663\n",
      "\n",
      "Epoch 00003: val_decode_sequence_accuracy improved from 0.97674 to 0.98242, saving model to bilstm_crf/cp.ckpt\n",
      "Epoch 4/15\n",
      "237/237 [==============================] - 26s 108ms/step - decode_sequence_accuracy: 0.9844 - loss: 3.1227 - val_decode_sequence_accuracy: 0.9842 - val_loss: 2.6239\n",
      "\n",
      "Epoch 00004: val_decode_sequence_accuracy improved from 0.98242 to 0.98417, saving model to bilstm_crf/cp.ckpt\n",
      "Epoch 5/15\n",
      "237/237 [==============================] - 26s 108ms/step - decode_sequence_accuracy: 0.9870 - loss: 2.4025 - val_decode_sequence_accuracy: 0.9849 - val_loss: 2.3234\n",
      "\n",
      "Epoch 00005: val_decode_sequence_accuracy improved from 0.98417 to 0.98488, saving model to bilstm_crf/cp.ckpt\n",
      "Epoch 6/15\n",
      "237/237 [==============================] - 25s 108ms/step - decode_sequence_accuracy: 0.9889 - loss: 1.9591 - val_decode_sequence_accuracy: 0.9854 - val_loss: 2.2904\n",
      "\n",
      "Epoch 00006: val_decode_sequence_accuracy improved from 0.98488 to 0.98540, saving model to bilstm_crf/cp.ckpt\n",
      "Epoch 7/15\n",
      "237/237 [==============================] - 26s 108ms/step - decode_sequence_accuracy: 0.9900 - loss: 1.6820 - val_decode_sequence_accuracy: 0.9856 - val_loss: 2.2226\n",
      "\n",
      "Epoch 00007: val_decode_sequence_accuracy improved from 0.98540 to 0.98555, saving model to bilstm_crf/cp.ckpt\n",
      "Epoch 8/15\n",
      "237/237 [==============================] - 25s 107ms/step - decode_sequence_accuracy: 0.9909 - loss: 1.4560 - val_decode_sequence_accuracy: 0.9851 - val_loss: 2.3785\n",
      "\n",
      "Epoch 00008: val_decode_sequence_accuracy did not improve from 0.98555\n",
      "Epoch 9/15\n",
      "237/237 [==============================] - 25s 107ms/step - decode_sequence_accuracy: 0.9915 - loss: 1.2846 - val_decode_sequence_accuracy: 0.9852 - val_loss: 2.6038\n",
      "\n",
      "Epoch 00009: val_decode_sequence_accuracy did not improve from 0.98555\n",
      "Epoch 10/15\n",
      "237/237 [==============================] - 25s 108ms/step - decode_sequence_accuracy: 0.9922 - loss: 1.1541 - val_decode_sequence_accuracy: 0.9849 - val_loss: 2.5065\n",
      "\n",
      "Epoch 00010: val_decode_sequence_accuracy did not improve from 0.98555\n",
      "Epoch 11/15\n",
      "237/237 [==============================] - 25s 106ms/step - decode_sequence_accuracy: 0.9927 - loss: 1.0384 - val_decode_sequence_accuracy: 0.9852 - val_loss: 2.8815\n",
      "\n",
      "Epoch 00011: val_decode_sequence_accuracy did not improve from 0.98555\n",
      "Epoch 00011: early stopping\n"
     ]
    }
   ],
   "source": [
    "history = model.fit(X_train, y_train_int, batch_size=128, epochs=15, validation_split=0.1, callbacks=[mc, es])"
   ]
  },
  {
   "cell_type": "code",
   "execution_count": null,
   "metadata": {
    "colab": {
     "base_uri": "https://localhost:8080/"
    },
    "id": "p5UqeRqwre2t",
    "outputId": "4b6dd05c-3e2e-4ea9-b368-b2cea60adfab"
   },
   "outputs": [
    {
     "data": {
      "text/plain": [
       "<tensorflow.python.training.tracking.util.CheckpointLoadStatus at 0x7feb7f7a5ad0>"
      ]
     },
     "execution_count": 86,
     "metadata": {},
     "output_type": "execute_result"
    }
   ],
   "source": [
    "model.load_weights('bilstm_crf/cp.ckpt')"
   ]
  },
  {
   "cell_type": "code",
   "execution_count": null,
   "metadata": {
    "colab": {
     "base_uri": "https://localhost:8080/"
    },
    "id": "GD4vxoeqmxqZ",
    "outputId": "66dd9add-1b7a-4d30-9cdd-86c891bf9912"
   },
   "outputs": [
    {
     "name": "stdout",
     "output_type": "stream",
     "text": [
      "단어             |실제값  |예측값\n",
      "-----------------------------------\n",
      "the              : O       O\n",
      "statement        : O       O\n",
      "came             : O       O\n",
      "as               : O       O\n",
      "u.n.             : B-org   B-org\n",
      "secretary-general: I-org   I-org\n",
      "kofi             : B-per   B-per\n",
      "annan            : I-per   I-per\n",
      "met              : O       O\n",
      "with             : O       O\n",
      "officials        : O       O\n",
      "in               : O       O\n",
      "amman            : B-geo   B-geo\n",
      "to               : O       O\n",
      "discuss          : O       O\n",
      "wednesday        : B-tim   B-tim\n",
      "'s               : O       O\n",
      "attacks          : O       O\n",
      ".                : O       O\n"
     ]
    }
   ],
   "source": [
    "i=13 # 확인하고 싶은 테스트용 샘플의 인덱스.\n",
    "y_predicted = model.predict(np.array([X_test[i]]))[0] # 입력한 테스트용 샘플에 대해서 예측 y를 리턴\n",
    "# y_predicted = np.argmax(y_predicted, axis=-1) # 원-핫 인코딩을 다시 정수 인코딩으로 변경함.\n",
    "true = np.argmax(y_test[i], -1) # 원-핫 인코딩을 다시 정수 인코딩으로 변경함.\n",
    "\n",
    "print(\"{:15}|{:5}|{}\".format(\"단어\", \"실제값\", \"예측값\"))\n",
    "print(35 * \"-\")\n",
    "\n",
    "for w, t, pred in zip(X_test[i], true, y_predicted[0]):\n",
    "    if w != 0: # PAD값은 제외함.\n",
    "        print(\"{:17}: {:7} {}\".format(index_to_word[w], index_to_ner[t], index_to_ner[pred]))"
   ]
  },
  {
   "cell_type": "code",
   "execution_count": null,
   "metadata": {
    "id": "QyrXGm8sm9Xl"
   },
   "outputs": [],
   "source": [
    "y_predicted = model.predict(X_test)[0]"
   ]
  },
  {
   "cell_type": "code",
   "execution_count": null,
   "metadata": {
    "id": "fz3ataXrnFNj"
   },
   "outputs": [],
   "source": [
    "def sequences_to_tag(sequences): # 예측값을 index_to_ner를 사용하여 태깅 정보로 변경하는 함수.\n",
    "    result = []\n",
    "    for sequence in sequences: # 전체 시퀀스로부터 시퀀스를 하나씩 꺼낸다.\n",
    "        temp = []\n",
    "        for pred in sequence: # 시퀀스로부터 예측값을 하나씩 꺼낸다.\n",
    "            pred_index = np.argmax(pred) # 예를 들어 [0, 0, 1, 0 ,0]라면 1의 인덱스인 2를 리턴한다.\n",
    "            temp.append(index_to_ner[pred_index].replace(\"PAD\", \"O\")) # 'PAD'는 'O'로 변경\n",
    "        result.append(temp)\n",
    "    return result"
   ]
  },
  {
   "cell_type": "code",
   "execution_count": null,
   "metadata": {
    "id": "UHgc7HhZm-cs"
   },
   "outputs": [],
   "source": [
    "def sequences_to_tag_for_crf(sequences): # 예측값을 index_to_ner를 사용하여 태깅 정보로 변경하는 함수.\n",
    "    result = []\n",
    "    for sequence in sequences: # 전체 시퀀스로부터 시퀀스를 하나씩 꺼낸다.\n",
    "        temp = []\n",
    "        for pred in sequence: # 시퀀스로부터 예측값을 하나씩 꺼낸다.\n",
    "            # pred_index = np.argmax(pred) # 예를 들어 [0, 0, 1, 0 ,0]라면 1의 인덱스인 2를 리턴한다.\n",
    "            pred_index = pred\n",
    "            temp.append(index_to_ner[pred_index].replace(\"PAD\", \"O\")) # 'PAD'는 'O'로 변경\n",
    "        result.append(temp)\n",
    "    return result"
   ]
  },
  {
   "cell_type": "code",
   "execution_count": null,
   "metadata": {
    "id": "GRjWgGwVm_y7"
   },
   "outputs": [],
   "source": [
    "pred_tags = sequences_to_tag_for_crf(y_predicted)\n",
    "test_tags = sequences_to_tag(y_test)"
   ]
  },
  {
   "cell_type": "code",
   "execution_count": null,
   "metadata": {
    "colab": {
     "base_uri": "https://localhost:8080/"
    },
    "id": "J62vAVj-nBmP",
    "outputId": "d45cf556-2459-4ca1-cab4-94fcc41d2133"
   },
   "outputs": [
    {
     "name": "stdout",
     "output_type": "stream",
     "text": [
      "              precision    recall  f1-score   support\n",
      "\n",
      "         art       0.33      0.01      0.02        99\n",
      "         eve       0.69      0.11      0.19        82\n",
      "         geo       0.82      0.84      0.83     11349\n",
      "         gpe       0.95      0.94      0.95      4690\n",
      "         nat       1.00      0.03      0.06        61\n",
      "         org       0.66      0.55      0.60      6023\n",
      "         per       0.73      0.71      0.72      5242\n",
      "         tim       0.86      0.83      0.84      6148\n",
      "\n",
      "   micro avg       0.81      0.77      0.79     33694\n",
      "   macro avg       0.76      0.50      0.53     33694\n",
      "weighted avg       0.80      0.77      0.78     33694\n",
      "\n"
     ]
    }
   ],
   "source": [
    "from seqeval.metrics import precision_score, recall_score, f1_score, classification_report\n",
    "print(classification_report(test_tags, pred_tags))"
   ]
  },
  {
   "cell_type": "markdown",
   "metadata": {
    "id": "pY8rEL_tOjCe"
   },
   "source": [
    "## 성능"
   ]
  },
  {
   "cell_type": "code",
   "execution_count": null,
   "metadata": {
    "colab": {
     "base_uri": "https://localhost:8080/"
    },
    "id": "7Udxj7vLnHGe",
    "outputId": "b55cc7af-de1c-4511-d673-d0afd5529e17"
   },
   "outputs": [
    {
     "name": "stdout",
     "output_type": "stream",
     "text": [
      "F1-score: 79.0%\n"
     ]
    }
   ],
   "source": [
    "print(\"F1-score: {:.1%}\".format(f1_score(test_tags, pred_tags)))"
   ]
  },
  {
   "cell_type": "markdown",
   "metadata": {
    "id": "o3UN2XvynYrD"
   },
   "source": [
    "#BiLSTM-CNN-CRF를 이용한 개체명인식"
   ]
  },
  {
   "cell_type": "markdown",
   "metadata": {
    "id": "pIIC5YkUOle8"
   },
   "source": [
    "## 모델링"
   ]
  },
  {
   "cell_type": "code",
   "execution_count": null,
   "metadata": {
    "id": "0n534tvi9h4S"
   },
   "outputs": [],
   "source": [
    "from keras_crf import CRFModel"
   ]
  },
  {
   "cell_type": "code",
   "execution_count": null,
   "metadata": {
    "colab": {
     "base_uri": "https://localhost:8080/"
    },
    "id": "XhNyGVb2nf4J",
    "outputId": "8d11050d-0d8e-4873-af2f-d627aecad3dc"
   },
   "outputs": [
    {
     "name": "stdout",
     "output_type": "stream",
     "text": [
      "Model: \"crf_model_8\"\n",
      "__________________________________________________________________________________________________\n",
      "Layer (type)                    Output Shape         Param #     Connected to                     \n",
      "==================================================================================================\n",
      "char_input (InputLayer)         [(None, None, 15)]   0                                            \n",
      "__________________________________________________________________________________________________\n",
      "char_embedding (TimeDistributed (None, None, 15, 64) 4736        char_input[0][0]                 \n",
      "__________________________________________________________________________________________________\n",
      "dropout_11 (Dropout)            (None, None, 15, 64) 0           char_embedding[0][0]             \n",
      "__________________________________________________________________________________________________\n",
      "time_distributed_22 (TimeDistri (None, None, 15, 30) 5790        dropout_11[0][0]                 \n",
      "__________________________________________________________________________________________________\n",
      "time_distributed_23 (TimeDistri (None, None, 1, 30)  0           time_distributed_22[0][0]        \n",
      "__________________________________________________________________________________________________\n",
      "words_input (InputLayer)        [(None, None)]       0                                            \n",
      "__________________________________________________________________________________________________\n",
      "time_distributed_24 (TimeDistri (None, None, 30)     0           time_distributed_23[0][0]        \n",
      "__________________________________________________________________________________________________\n",
      "embedding_12 (Embedding)        (None, None, 128)    4072832     words_input[0][0]                \n",
      "__________________________________________________________________________________________________\n",
      "dropout_12 (Dropout)            (None, None, 30)     0           time_distributed_24[0][0]        \n",
      "__________________________________________________________________________________________________\n",
      "concatenate_3 (Concatenate)     (None, None, 158)    0           embedding_12[0][0]               \n",
      "                                                                 dropout_12[0][0]                 \n",
      "__________________________________________________________________________________________________\n",
      "bidirectional_8 (Bidirectional) (None, None, 512)    849920      concatenate_3[0][0]              \n",
      "__________________________________________________________________________________________________\n",
      "time_distributed_25 (TimeDistri (None, None, 18)     9234        bidirectional_8[0][0]            \n",
      "__________________________________________________________________________________________________\n",
      "crf_8 (CRF)                     [(None, None), (None 702         time_distributed_25[0][0]        \n",
      "__________________________________________________________________________________________________\n",
      "decode_sequence (Lambda)        (None, None)         0           crf_8[0][0]                      \n",
      "__________________________________________________________________________________________________\n",
      "potentials (Lambda)             (None, None, 18)     0           crf_8[0][1]                      \n",
      "__________________________________________________________________________________________________\n",
      "sequence_length (Lambda)        (None,)              0           crf_8[0][2]                      \n",
      "__________________________________________________________________________________________________\n",
      "kernel (Lambda)                 (18, 18)             0           crf_8[0][3]                      \n",
      "==================================================================================================\n",
      "Total params: 4,943,214\n",
      "Trainable params: 4,943,214\n",
      "Non-trainable params: 0\n",
      "__________________________________________________________________________________________________\n"
     ]
    },
    {
     "name": "stderr",
     "output_type": "stream",
     "text": [
      "/usr/local/lib/python3.7/dist-packages/tensorflow/python/autograph/impl/api.py:390: UserWarning: CRF Decoding does not work with KerasTensors in TF2.4. The bug has since been fixed in tensorflow/tensorflow##45534\n",
      "  return py_builtins.overload_of(f)(*args)\n"
     ]
    }
   ],
   "source": [
    "# 단어 임베딩\n",
    "words_input = Input(shape=(None,),dtype='int32',name='words_input')\n",
    "words = Embedding(input_dim = vocab_size, output_dim = 128)(words_input)\n",
    "\n",
    "# char 임베딩\n",
    "character_input = Input(shape=(None, max_len_char,),name='char_input')\n",
    "embed_char_out = TimeDistributed(Embedding(len(char_to_index), 64, embeddings_initializer=RandomUniform(minval=-0.5, maxval=0.5)), name='char_embedding')(character_input)\n",
    "dropout = Dropout(0.5)(embed_char_out)\n",
    "\n",
    "# char 임베딩에 대해서는 Conv1D 수행\n",
    "conv1d_out= TimeDistributed(Conv1D(kernel_size=3, filters=30, padding='same',activation='tanh', strides=1))(dropout)\n",
    "maxpool_out=TimeDistributed(MaxPooling1D(max_len_char))(conv1d_out)\n",
    "char = TimeDistributed(Flatten())(maxpool_out)\n",
    "char = Dropout(0.5)(char)\n",
    "\n",
    "# char 임베딩을 Conv1D 수행한 뒤에 단어 임베딩과 연결\n",
    "output = concatenate([words, char])\n",
    "\n",
    "# 연결한 벡터를 가지고 문장의 길이만큼 LSTM을 수행\n",
    "output = Bidirectional(LSTM(256, return_sequences=True, dropout=0.50))(output)\n",
    "\n",
    "# 출력층\n",
    "output = TimeDistributed(Dense(tag_size, activation='relu'))(output)\n",
    "\n",
    "base = Model(inputs=[words_input, character_input], outputs=[output])\n",
    "\n",
    "model = CRFModel(base, tag_size)\n",
    "\n",
    "model.compile(optimizer=tf.keras.optimizers.Adam(0.001),\n",
    "              metrics='accuracy')\n",
    "\n",
    "model.summary()"
   ]
  },
  {
   "cell_type": "code",
   "execution_count": null,
   "metadata": {
    "id": "sCEFX2WR-Far"
   },
   "outputs": [],
   "source": [
    "es = EarlyStopping(monitor='val_loss', mode='min', verbose=1, patience=4)\n",
    "mc = ModelCheckpoint('bilstm_cnn_crf/cp.ckpt', monitor='val_decode_sequence_accuracy', mode='max', verbose=1, save_best_only=True, save_weights_only=True)"
   ]
  },
  {
   "cell_type": "code",
   "execution_count": null,
   "metadata": {
    "colab": {
     "base_uri": "https://localhost:8080/"
    },
    "id": "bMIECQqU-MOR",
    "outputId": "1ee31279-fe9d-4999-d84b-8b54e6355666"
   },
   "outputs": [
    {
     "name": "stdout",
     "output_type": "stream",
     "text": [
      "Epoch 1/15\n"
     ]
    },
    {
     "name": "stderr",
     "output_type": "stream",
     "text": [
      "/usr/local/lib/python3.7/dist-packages/tensorflow/python/autograph/impl/api.py:390: UserWarning: CRF Decoding does not work with KerasTensors in TF2.4. The bug has since been fixed in tensorflow/tensorflow##45534\n",
      "  return py_builtins.overload_of(f)(*args)\n"
     ]
    },
    {
     "name": "stdout",
     "output_type": "stream",
     "text": [
      "237/237 [==============================] - 37s 136ms/step - decode_sequence_accuracy: 0.8830 - loss: 19.6926 - val_decode_sequence_accuracy: 0.9665 - val_loss: 6.7591\n",
      "\n",
      "Epoch 00001: val_decode_sequence_accuracy improved from -inf to 0.96649, saving model to bilstm_cnn_crf/cp.ckpt\n",
      "Epoch 2/15\n",
      "237/237 [==============================] - 31s 132ms/step - decode_sequence_accuracy: 0.9723 - loss: 5.6284 - val_decode_sequence_accuracy: 0.9809 - val_loss: 3.3146\n",
      "\n",
      "Epoch 00002: val_decode_sequence_accuracy improved from 0.96649 to 0.98085, saving model to bilstm_cnn_crf/cp.ckpt\n",
      "Epoch 3/15\n",
      "237/237 [==============================] - 31s 132ms/step - decode_sequence_accuracy: 0.9838 - loss: 3.4431 - val_decode_sequence_accuracy: 0.9840 - val_loss: 2.4619\n",
      "\n",
      "Epoch 00003: val_decode_sequence_accuracy improved from 0.98085 to 0.98397, saving model to bilstm_cnn_crf/cp.ckpt\n",
      "Epoch 4/15\n",
      "237/237 [==============================] - 31s 131ms/step - decode_sequence_accuracy: 0.9869 - loss: 2.5983 - val_decode_sequence_accuracy: 0.9857 - val_loss: 2.0900\n",
      "\n",
      "Epoch 00004: val_decode_sequence_accuracy improved from 0.98397 to 0.98572, saving model to bilstm_cnn_crf/cp.ckpt\n",
      "Epoch 5/15\n",
      "237/237 [==============================] - 31s 131ms/step - decode_sequence_accuracy: 0.9889 - loss: 2.1739 - val_decode_sequence_accuracy: 0.9861 - val_loss: 1.9954\n",
      "\n",
      "Epoch 00005: val_decode_sequence_accuracy improved from 0.98572 to 0.98612, saving model to bilstm_cnn_crf/cp.ckpt\n",
      "Epoch 6/15\n",
      "237/237 [==============================] - 31s 130ms/step - decode_sequence_accuracy: 0.9898 - loss: 1.8969 - val_decode_sequence_accuracy: 0.9865 - val_loss: 1.9777\n",
      "\n",
      "Epoch 00006: val_decode_sequence_accuracy improved from 0.98612 to 0.98651, saving model to bilstm_cnn_crf/cp.ckpt\n",
      "Epoch 7/15\n",
      "237/237 [==============================] - 31s 130ms/step - decode_sequence_accuracy: 0.9905 - loss: 1.7050 - val_decode_sequence_accuracy: 0.9855 - val_loss: 1.9926\n",
      "\n",
      "Epoch 00007: val_decode_sequence_accuracy did not improve from 0.98651\n",
      "Epoch 8/15\n",
      "237/237 [==============================] - 31s 131ms/step - decode_sequence_accuracy: 0.9909 - loss: 1.5564 - val_decode_sequence_accuracy: 0.9864 - val_loss: 1.9809\n",
      "\n",
      "Epoch 00008: val_decode_sequence_accuracy did not improve from 0.98651\n",
      "Epoch 9/15\n",
      "237/237 [==============================] - 31s 130ms/step - decode_sequence_accuracy: 0.9915 - loss: 1.4305 - val_decode_sequence_accuracy: 0.9865 - val_loss: 1.9474\n",
      "\n",
      "Epoch 00009: val_decode_sequence_accuracy did not improve from 0.98651\n",
      "Epoch 10/15\n",
      "237/237 [==============================] - 31s 131ms/step - decode_sequence_accuracy: 0.9919 - loss: 1.3533 - val_decode_sequence_accuracy: 0.9855 - val_loss: 2.0161\n",
      "\n",
      "Epoch 00010: val_decode_sequence_accuracy did not improve from 0.98651\n",
      "Epoch 11/15\n",
      "237/237 [==============================] - 31s 131ms/step - decode_sequence_accuracy: 0.9917 - loss: 1.2568 - val_decode_sequence_accuracy: 0.9858 - val_loss: 2.5846\n",
      "\n",
      "Epoch 00011: val_decode_sequence_accuracy did not improve from 0.98651\n",
      "Epoch 12/15\n",
      "237/237 [==============================] - 31s 131ms/step - decode_sequence_accuracy: 0.9922 - loss: 1.1648 - val_decode_sequence_accuracy: 0.9861 - val_loss: 2.2955\n",
      "\n",
      "Epoch 00012: val_decode_sequence_accuracy did not improve from 0.98651\n",
      "Epoch 13/15\n",
      "237/237 [==============================] - 31s 131ms/step - decode_sequence_accuracy: 0.9927 - loss: 1.0724 - val_decode_sequence_accuracy: 0.9857 - val_loss: 2.3430\n",
      "\n",
      "Epoch 00013: val_decode_sequence_accuracy did not improve from 0.98651\n",
      "Epoch 00013: early stopping\n"
     ]
    }
   ],
   "source": [
    "history = model.fit([X_train, X_char_train], y_train_int, batch_size=128, epochs=15, validation_split=0.1, callbacks=[mc, es])"
   ]
  },
  {
   "cell_type": "code",
   "execution_count": null,
   "metadata": {
    "colab": {
     "base_uri": "https://localhost:8080/"
    },
    "id": "2UGaqpkrHozN",
    "outputId": "c030a18f-1b01-4d6e-9d5e-7afd9c1c122e"
   },
   "outputs": [
    {
     "data": {
      "text/plain": [
       "<tensorflow.python.training.tracking.util.CheckpointLoadStatus at 0x7fea5a10e650>"
      ]
     },
     "execution_count": 129,
     "metadata": {},
     "output_type": "execute_result"
    }
   ],
   "source": [
    "model.load_weights('bilstm_cnn_crf/cp.ckpt')"
   ]
  },
  {
   "cell_type": "code",
   "execution_count": null,
   "metadata": {
    "colab": {
     "base_uri": "https://localhost:8080/"
    },
    "id": "rXYnKtBgHq6g",
    "outputId": "bc54c29a-f46d-4433-cc6e-3c00d78a3459"
   },
   "outputs": [
    {
     "name": "stderr",
     "output_type": "stream",
     "text": [
      "/usr/local/lib/python3.7/dist-packages/tensorflow/python/autograph/impl/api.py:390: UserWarning: CRF Decoding does not work with KerasTensors in TF2.4. The bug has since been fixed in tensorflow/tensorflow##45534\n",
      "  return py_builtins.overload_of(f)(*args)\n"
     ]
    },
    {
     "name": "stdout",
     "output_type": "stream",
     "text": [
      "단어             |실제값  |예측값\n",
      "-----------------------------------\n",
      "the              : O       O\n",
      "statement        : O       O\n",
      "came             : O       O\n",
      "as               : O       O\n",
      "u.n.             : B-org   B-org\n",
      "secretary-general: I-org   I-org\n",
      "kofi             : B-per   B-per\n",
      "annan            : I-per   I-per\n",
      "met              : O       O\n",
      "with             : O       O\n",
      "officials        : O       O\n",
      "in               : O       O\n",
      "amman            : B-geo   B-geo\n",
      "to               : O       O\n",
      "discuss          : O       O\n",
      "wednesday        : B-tim   B-tim\n",
      "'s               : O       O\n",
      "attacks          : O       O\n",
      ".                : O       O\n"
     ]
    }
   ],
   "source": [
    "i=13 # 확인하고 싶은 테스트용 샘플의 인덱스.\n",
    "y_predicted = model.predict([np.array([X_test[i]]), np.array([X_char_test[i]])])[0] # 입력한 테스트용 샘플에 대해서 예측 y를 리턴\n",
    "# y_predicted = np.argmax(y_predicted, axis=-1) # 원-핫 인코딩을 다시 정수 인코딩으로 변경함.\n",
    "true = np.argmax(y_test[i], -1) # 원-핫 인코딩을 다시 정수 인코딩으로 변경함.\n",
    "\n",
    "print(\"{:15}|{:5}|{}\".format(\"단어\", \"실제값\", \"예측값\"))\n",
    "print(35 * \"-\")\n",
    "\n",
    "for w, t, pred in zip(X_test[i], true, y_predicted[0]):\n",
    "    if w != 0: # PAD값은 제외함.\n",
    "        print(\"{:17}: {:7} {}\".format(index_to_word[w], index_to_ner[t], index_to_ner[pred]))"
   ]
  },
  {
   "cell_type": "code",
   "execution_count": null,
   "metadata": {
    "colab": {
     "base_uri": "https://localhost:8080/",
     "height": 295
    },
    "id": "W3WPtK5HIZsz",
    "outputId": "7d112b50-d5b8-4db2-8e28-4395b45378ba"
   },
   "outputs": [
    {
     "data": {
      "image/png": "[encoded data removed]",
      "text/plain": [
       "<Figure size 432x288 with 1 Axes>"
      ]
     },
     "metadata": {
      "needs_background": "light"
     },
     "output_type": "display_data"
    }
   ],
   "source": [
    "epochs = range(1, len(history.history['val_loss']) + 1)\n",
    "plt.plot(epochs, history.history['loss'])\n",
    "plt.plot(epochs, history.history['val_loss'])\n",
    "plt.title('model loss')\n",
    "plt.ylabel('loss')\n",
    "plt.xlabel('epoch')\n",
    "plt.legend(['train', 'val'], loc='upper left')\n",
    "plt.show()"
   ]
  },
  {
   "cell_type": "code",
   "execution_count": null,
   "metadata": {
    "id": "YNAv4VRvIcuh"
   },
   "outputs": [],
   "source": [
    "y_predicted = model.predict([X_test, X_char_test])[0]\n",
    "pred_tags = sequences_to_tag_for_crf(y_predicted)\n",
    "test_tags = sequences_to_tag(y_test)"
   ]
  },
  {
   "cell_type": "code",
   "execution_count": null,
   "metadata": {
    "colab": {
     "base_uri": "https://localhost:8080/"
    },
    "id": "x0IAko4RtUQJ",
    "outputId": "d3098a13-9095-4e0b-d411-332612230af6"
   },
   "outputs": [
    {
     "name": "stdout",
     "output_type": "stream",
     "text": [
      "              precision    recall  f1-score   support\n",
      "\n",
      "         art       0.38      0.03      0.06        99\n",
      "         eve       0.89      0.20      0.32        82\n",
      "         geo       0.82      0.86      0.84     11349\n",
      "         gpe       0.95      0.94      0.94      4690\n",
      "         nat       0.62      0.08      0.14        61\n",
      "         org       0.71      0.52      0.60      6023\n",
      "         per       0.76      0.69      0.73      5242\n",
      "         tim       0.85      0.85      0.85      6148\n",
      "\n",
      "   micro avg       0.82      0.78      0.80     33694\n",
      "   macro avg       0.75      0.52      0.56     33694\n",
      "weighted avg       0.81      0.78      0.79     33694\n",
      "\n"
     ]
    }
   ],
   "source": [
    "from seqeval.metrics import precision_score, recall_score, f1_score, classification_report\n",
    "print(classification_report(test_tags, pred_tags))"
   ]
  },
  {
   "cell_type": "markdown",
   "metadata": {
    "id": "3g-LplBROnDt"
   },
   "source": [
    "## 성능"
   ]
  },
  {
   "cell_type": "code",
   "execution_count": null,
   "metadata": {
    "colab": {
     "base_uri": "https://localhost:8080/"
    },
    "id": "fToBbGDztaGI",
    "outputId": "eec1eaf3-aade-41c4-c8cb-08982edf5388"
   },
   "outputs": [
    {
     "name": "stdout",
     "output_type": "stream",
     "text": [
      "F1-score: 79.8%\n"
     ]
    }
   ],
   "source": [
    "print(\"F1-score: {:.1%}\".format(f1_score(test_tags, pred_tags)))"
   ]
  },
  {
   "cell_type": "markdown",
   "metadata": {
    "id": "UN97GyqEw8oG"
   },
   "source": [
    "# BiLSTM-BiLSTM-CRF을 이용한 개체명 인식"
   ]
  },
  {
   "cell_type": "markdown",
   "metadata": {
    "id": "utbrWJnSOp5s"
   },
   "source": [
    "## 모델링"
   ]
  },
  {
   "cell_type": "code",
   "execution_count": null,
   "metadata": {
    "colab": {
     "base_uri": "https://localhost:8080/"
    },
    "id": "Mif6bSyT5OXS",
    "outputId": "71a7f62b-e599-4ecc-f94c-7665d8cd0851"
   },
   "outputs": [
    {
     "name": "stdout",
     "output_type": "stream",
     "text": [
      "Model: \"crf_model_13\"\n",
      "__________________________________________________________________________________________________\n",
      "Layer (type)                    Output Shape         Param #     Connected to                     \n",
      "==================================================================================================\n",
      "char_input (InputLayer)         [(None, None, None)] 0                                            \n",
      "__________________________________________________________________________________________________\n",
      "word_input (InputLayer)         [(None, None)]       0                                            \n",
      "__________________________________________________________________________________________________\n",
      "char_embedding (Embedding)      (None, None, None, 6 4736        char_input[0][0]                 \n",
      "__________________________________________________________________________________________________\n",
      "word_embedding (Embedding)      (None, None, 128)    4072832     word_input[0][0]                 \n",
      "__________________________________________________________________________________________________\n",
      "time_distributed_30 (TimeDistri (None, None, 128)    66048       char_embedding[0][0]             \n",
      "__________________________________________________________________________________________________\n",
      "concatenate_8 (Concatenate)     (None, None, 256)    0           word_embedding[0][0]             \n",
      "                                                                 time_distributed_30[0][0]        \n",
      "__________________________________________________________________________________________________\n",
      "dropout_17 (Dropout)            (None, None, 256)    0           concatenate_8[0][0]              \n",
      "__________________________________________________________________________________________________\n",
      "bidirectional_18 (Bidirectional (None, None, 128)    164352      dropout_17[0][0]                 \n",
      "__________________________________________________________________________________________________\n",
      "dense_26 (Dense)                (None, None, 18)     2322        bidirectional_18[0][0]           \n",
      "__________________________________________________________________________________________________\n",
      "crf_13 (CRF)                    [(None, None), (None 702         dense_26[0][0]                   \n",
      "__________________________________________________________________________________________________\n",
      "decode_sequence (Lambda)        (None, None)         0           crf_13[0][0]                     \n",
      "__________________________________________________________________________________________________\n",
      "potentials (Lambda)             (None, None, 18)     0           crf_13[0][1]                     \n",
      "__________________________________________________________________________________________________\n",
      "sequence_length (Lambda)        (None,)              0           crf_13[0][2]                     \n",
      "__________________________________________________________________________________________________\n",
      "kernel (Lambda)                 (18, 18)             0           crf_13[0][3]                     \n",
      "==================================================================================================\n",
      "Total params: 4,310,992\n",
      "Trainable params: 4,310,992\n",
      "Non-trainable params: 0\n",
      "__________________________________________________________________________________________________\n"
     ]
    },
    {
     "name": "stderr",
     "output_type": "stream",
     "text": [
      "/usr/local/lib/python3.7/dist-packages/tensorflow/python/autograph/impl/api.py:390: UserWarning: CRF Decoding does not work with KerasTensors in TF2.4. The bug has since been fixed in tensorflow/tensorflow##45534\n",
      "  return py_builtins.overload_of(f)(*args)\n"
     ]
    }
   ],
   "source": [
    "word_ids = Input(batch_shape=(None, None), dtype='int32', name='word_input')\n",
    "word_embeddings = Embedding(input_dim=vocab_size,\n",
    "                                        output_dim=128,\n",
    "                                        name='word_embedding')(word_ids)\n",
    "\n",
    "char_ids = Input(batch_shape=(None, None, None), dtype='int32', name='char_input')\n",
    "char_embeddings = Embedding(input_dim=(len(char_to_index)),\n",
    "                                        output_dim=64,\n",
    "                                        embeddings_initializer=RandomUniform(minval=-0.5, maxval=0.5),\n",
    "                                        name='char_embedding')(char_ids)\n",
    "\n",
    "char_embeddings = TimeDistributed(Bidirectional(LSTM(64)))(char_embeddings)\n",
    "word_embeddings = concatenate([word_embeddings, char_embeddings])\n",
    "\n",
    "word_embeddings = Dropout(0.3)(word_embeddings)\n",
    "output = Bidirectional(LSTM(units=64, return_sequences=True))(word_embeddings)\n",
    "output = Dense(tag_size, activation='relu')(output)\n",
    "\n",
    "base = Model(inputs=[word_ids, char_ids], outputs=[output])\n",
    "\n",
    "model = CRFModel(base, tag_size)\n",
    "\n",
    "model.compile(optimizer=tf.keras.optimizers.Adam(0.001),\n",
    "              metrics='accuracy')\n",
    "\n",
    "model.summary()"
   ]
  },
  {
   "cell_type": "code",
   "execution_count": null,
   "metadata": {
    "id": "D1RNtqNNK6Th"
   },
   "outputs": [],
   "source": [
    "es = EarlyStopping(monitor='val_loss', mode='min', verbose=1, patience=4)\n",
    "mc = ModelCheckpoint('bilstm_bilstm_crf/cp.ckpt', monitor='val_decode_sequence_accuracy', mode='max', verbose=1, save_best_only=True, save_weights_only=True)"
   ]
  },
  {
   "cell_type": "code",
   "execution_count": null,
   "metadata": {
    "colab": {
     "base_uri": "https://localhost:8080/"
    },
    "id": "Wl9dIPsIzW-m",
    "outputId": "687e88c1-599a-488a-c474-bf3c2a857667"
   },
   "outputs": [
    {
     "name": "stdout",
     "output_type": "stream",
     "text": [
      "Epoch 1/15\n"
     ]
    },
    {
     "name": "stderr",
     "output_type": "stream",
     "text": [
      "/usr/local/lib/python3.7/dist-packages/tensorflow/python/autograph/impl/api.py:390: UserWarning: CRF Decoding does not work with KerasTensors in TF2.4. The bug has since been fixed in tensorflow/tensorflow##45534\n",
      "  return py_builtins.overload_of(f)(*args)\n"
     ]
    },
    {
     "name": "stdout",
     "output_type": "stream",
     "text": [
      "237/237 [==============================] - 39s 137ms/step - decode_sequence_accuracy: 0.8584 - loss: 19.9579 - val_decode_sequence_accuracy: 0.9656 - val_loss: 5.9294\n",
      "\n",
      "Epoch 00001: val_decode_sequence_accuracy improved from -inf to 0.96562, saving model to bilstm_bilstm_crf/cp.ckpt\n",
      "Epoch 2/15\n",
      "237/237 [==============================] - 31s 130ms/step - decode_sequence_accuracy: 0.9718 - loss: 5.4393 - val_decode_sequence_accuracy: 0.9819 - val_loss: 2.9849\n",
      "\n",
      "Epoch 00002: val_decode_sequence_accuracy improved from 0.96562 to 0.98188, saving model to bilstm_bilstm_crf/cp.ckpt\n",
      "Epoch 3/15\n",
      "237/237 [==============================] - 31s 130ms/step - decode_sequence_accuracy: 0.9847 - loss: 3.1488 - val_decode_sequence_accuracy: 0.9852 - val_loss: 2.1704\n",
      "\n",
      "Epoch 00003: val_decode_sequence_accuracy improved from 0.98188 to 0.98518, saving model to bilstm_bilstm_crf/cp.ckpt\n",
      "Epoch 4/15\n",
      "237/237 [==============================] - 31s 131ms/step - decode_sequence_accuracy: 0.9875 - loss: 2.3728 - val_decode_sequence_accuracy: 0.9853 - val_loss: 2.0452\n",
      "\n",
      "Epoch 00004: val_decode_sequence_accuracy improved from 0.98518 to 0.98533, saving model to bilstm_bilstm_crf/cp.ckpt\n",
      "Epoch 5/15\n",
      "237/237 [==============================] - 31s 130ms/step - decode_sequence_accuracy: 0.9893 - loss: 2.0091 - val_decode_sequence_accuracy: 0.9860 - val_loss: 1.9594\n",
      "\n",
      "Epoch 00005: val_decode_sequence_accuracy improved from 0.98533 to 0.98605, saving model to bilstm_bilstm_crf/cp.ckpt\n",
      "Epoch 6/15\n",
      "237/237 [==============================] - 31s 131ms/step - decode_sequence_accuracy: 0.9902 - loss: 1.7650 - val_decode_sequence_accuracy: 0.9864 - val_loss: 2.0106\n",
      "\n",
      "Epoch 00006: val_decode_sequence_accuracy improved from 0.98605 to 0.98643, saving model to bilstm_bilstm_crf/cp.ckpt\n",
      "Epoch 7/15\n",
      "237/237 [==============================] - 31s 130ms/step - decode_sequence_accuracy: 0.9912 - loss: 1.5569 - val_decode_sequence_accuracy: 0.9864 - val_loss: 2.1896\n",
      "\n",
      "Epoch 00007: val_decode_sequence_accuracy did not improve from 0.98643\n",
      "Epoch 8/15\n",
      "237/237 [==============================] - 31s 131ms/step - decode_sequence_accuracy: 0.9917 - loss: 1.4157 - val_decode_sequence_accuracy: 0.9858 - val_loss: 2.3287\n",
      "\n",
      "Epoch 00008: val_decode_sequence_accuracy did not improve from 0.98643\n",
      "Epoch 9/15\n",
      "237/237 [==============================] - 31s 130ms/step - decode_sequence_accuracy: 0.9919 - loss: 1.2812 - val_decode_sequence_accuracy: 0.9864 - val_loss: 2.4534\n",
      "\n",
      "Epoch 00009: val_decode_sequence_accuracy did not improve from 0.98643\n",
      "Epoch 00009: early stopping\n"
     ]
    }
   ],
   "source": [
    "history = model.fit([X_train, X_char_train], y_train_int, batch_size=128, epochs=15, validation_split=0.1, callbacks=[mc, es])"
   ]
  },
  {
   "cell_type": "code",
   "execution_count": null,
   "metadata": {
    "colab": {
     "base_uri": "https://localhost:8080/"
    },
    "id": "DZcu-pPrNqpz",
    "outputId": "c7113ced-c454-46fc-edfa-ccae978a85c9"
   },
   "outputs": [
    {
     "data": {
      "text/plain": [
       "<tensorflow.python.training.tracking.util.CheckpointLoadStatus at 0x7feb6f930150>"
      ]
     },
     "execution_count": 153,
     "metadata": {},
     "output_type": "execute_result"
    }
   ],
   "source": [
    "model.load_weights('bilstm_bilstm_crf/cp.ckpt')"
   ]
  },
  {
   "cell_type": "code",
   "execution_count": null,
   "metadata": {
    "colab": {
     "base_uri": "https://localhost:8080/"
    },
    "id": "T_ECUaJ2Nuoj",
    "outputId": "56d1b034-e7fc-4705-f80b-dcbe0adda6cb"
   },
   "outputs": [
    {
     "name": "stderr",
     "output_type": "stream",
     "text": [
      "/usr/local/lib/python3.7/dist-packages/tensorflow/python/autograph/impl/api.py:390: UserWarning: CRF Decoding does not work with KerasTensors in TF2.4. The bug has since been fixed in tensorflow/tensorflow##45534\n",
      "  return py_builtins.overload_of(f)(*args)\n"
     ]
    },
    {
     "name": "stdout",
     "output_type": "stream",
     "text": [
      "단어             |실제값  |예측값\n",
      "-----------------------------------\n",
      "the              : O       O\n",
      "statement        : O       O\n",
      "came             : O       O\n",
      "as               : O       O\n",
      "u.n.             : B-org   B-org\n",
      "secretary-general: I-org   I-org\n",
      "kofi             : B-per   B-per\n",
      "annan            : I-per   I-per\n",
      "met              : O       O\n",
      "with             : O       O\n",
      "officials        : O       O\n",
      "in               : O       O\n",
      "amman            : B-geo   B-geo\n",
      "to               : O       O\n",
      "discuss          : O       O\n",
      "wednesday        : B-tim   B-tim\n",
      "'s               : O       O\n",
      "attacks          : O       O\n",
      ".                : O       O\n"
     ]
    }
   ],
   "source": [
    "i=13 # 확인하고 싶은 테스트용 샘플의 인덱스.\n",
    "y_predicted = model.predict([np.array([X_test[i]]), np.array([X_char_test[i]])])[0] # 입력한 테스트용 샘플에 대해서 예측 y를 리턴\n",
    "# y_predicted = np.argmax(y_predicted, axis=-1) # 원-핫 인코딩을 다시 정수 인코딩으로 변경함.\n",
    "true = np.argmax(y_test[i], -1) # 원-핫 인코딩을 다시 정수 인코딩으로 변경함.\n",
    "\n",
    "print(\"{:15}|{:5}|{}\".format(\"단어\", \"실제값\", \"예측값\"))\n",
    "print(35 * \"-\")\n",
    "\n",
    "for w, t, pred in zip(X_test[i], true, y_predicted[0]):\n",
    "    if w != 0: # PAD값은 제외함.\n",
    "        print(\"{:17}: {:7} {}\".format(index_to_word[w], index_to_ner[t], index_to_ner[pred]))"
   ]
  },
  {
   "cell_type": "code",
   "execution_count": null,
   "metadata": {
    "colab": {
     "base_uri": "https://localhost:8080/",
     "height": 295
    },
    "id": "3JeErjaCNyp6",
    "outputId": "0669b814-f113-4468-89ed-4924ccb127d6"
   },
   "outputs": [
    {
     "data": {
      "image/png": "[encoded data removed]",
      "text/plain": [
       "<Figure size 432x288 with 1 Axes>"
      ]
     },
     "metadata": {
      "needs_background": "light"
     },
     "output_type": "display_data"
    }
   ],
   "source": [
    "epochs = range(1, len(history.history['val_loss']) + 1)\n",
    "plt.plot(epochs, history.history['loss'])\n",
    "plt.plot(epochs, history.history['val_loss'])\n",
    "plt.title('model loss')\n",
    "plt.ylabel('loss')\n",
    "plt.xlabel('epoch')\n",
    "plt.legend(['train', 'val'], loc='upper left')\n",
    "plt.show()"
   ]
  },
  {
   "cell_type": "code",
   "execution_count": null,
   "metadata": {
    "id": "hX3VzmGeN2Ay"
   },
   "outputs": [],
   "source": [
    "y_predicted = model.predict([X_test, X_char_test])[0]\n",
    "pred_tags = sequences_to_tag_for_crf(y_predicted)\n",
    "test_tags = sequences_to_tag(y_test)"
   ]
  },
  {
   "cell_type": "code",
   "execution_count": null,
   "metadata": {
    "colab": {
     "base_uri": "https://localhost:8080/"
    },
    "id": "nk1jkfQUN5G6",
    "outputId": "67c16f8a-f98b-41aa-a8a6-82a30040be95"
   },
   "outputs": [
    {
     "name": "stderr",
     "output_type": "stream",
     "text": [
      "/usr/local/lib/python3.7/dist-packages/seqeval/metrics/v1.py:57: UndefinedMetricWarning: Precision and F-score are ill-defined and being set to 0.0 in labels with no predicted samples. Use `zero_division` parameter to control this behavior.\n",
      "  _warn_prf(average, modifier, msg_start, len(result))\n"
     ]
    },
    {
     "name": "stdout",
     "output_type": "stream",
     "text": [
      "              precision    recall  f1-score   support\n",
      "\n",
      "         art       0.00      0.00      0.00        99\n",
      "         eve       0.89      0.20      0.32        82\n",
      "         geo       0.84      0.85      0.84     11349\n",
      "         gpe       0.95      0.94      0.94      4690\n",
      "         nat       0.00      0.00      0.00        61\n",
      "         org       0.65      0.58      0.61      6023\n",
      "         per       0.76      0.74      0.75      5242\n",
      "         tim       0.87      0.85      0.86      6148\n",
      "\n",
      "   micro avg       0.82      0.79      0.80     33694\n",
      "   macro avg       0.62      0.52      0.54     33694\n",
      "weighted avg       0.81      0.79      0.80     33694\n",
      "\n"
     ]
    }
   ],
   "source": [
    "from seqeval.metrics import precision_score, recall_score, f1_score, classification_report\n",
    "print(classification_report(test_tags, pred_tags))"
   ]
  },
  {
   "cell_type": "markdown",
   "metadata": {
    "id": "gadtb_rmOrcf"
   },
   "source": [
    "## 성능"
   ]
  },
  {
   "cell_type": "code",
   "execution_count": null,
   "metadata": {
    "colab": {
     "base_uri": "https://localhost:8080/"
    },
    "id": "aP1jPe10AIqb",
    "outputId": "abc05d0c-bfcc-4900-d040-7fc286b9cc16"
   },
   "outputs": [
    {
     "name": "stdout",
     "output_type": "stream",
     "text": [
      "F1-score: 80.3%\n"
     ]
    }
   ],
   "source": [
    "print(\"F1-score: {:.1%}\".format(f1_score(test_tags, pred_tags)))"
   ]
  }
 ],
 "metadata": {
  "accelerator": "GPU",
  "colab": {
   "collapsed_sections": [],
   "machine_shape": "hm",
   "name": "Named Entity Recognition using BiLSTM-CNN-CRF.ipynb",
   "provenance": []
  },
  "kernelspec": {
   "display_name": "Python 3",
   "language": "python",
   "name": "python3"
  },
  "language_info": {
   "codemirror_mode": {
    "name": "ipython",
    "version": 3
   },
   "file_extension": ".py",
   "mimetype": "text/x-python",
   "name": "python",
   "nbconvert_exporter": "python",
   "pygments_lexer": "ipython3",
   "version": "3.8.8"
  },
  "toc": {
   "base_numbering": 1,
   "nav_menu": {},
   "number_sections": true,
   "sideBar": true,
   "skip_h1_title": false,
   "title_cell": "Table of Contents",
   "title_sidebar": "Contents",
   "toc_cell": false,
   "toc_position": {},
   "toc_section_display": true,
   "toc_window_display": true
  },
  "varInspector": {
   "cols": {
    "lenName": 16,
    "lenType": 16,
    "lenVar": 40
   },
   "kernels_config": {
    "python": {
     "delete_cmd_postfix": "",
     "delete_cmd_prefix": "del ",
     "library": "var_list.py",
     "varRefreshCmd": "print(var_dic_list())"
    },
    "r": {
     "delete_cmd_postfix": ") ",
     "delete_cmd_prefix": "rm(",
     "library": "var_list.r",
     "varRefreshCmd": "cat(var_dic_list()) "
    }
   },
   "types_to_exclude": [
    "module",
    "function",
    "builtin_function_or_method",
    "instance",
    "_Feature"
   ],
   "window_display": false
  }
 },
 "nbformat": 4,
 "nbformat_minor": 1
}
